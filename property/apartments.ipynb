{
 "cells": [
  {
   "cell_type": "markdown",
   "metadata": {
    "toc": true
   },
   "source": [
    "<h1>Содержание<span class=\"tocSkip\"></span></h1>\n",
    "<div class=\"toc\"><ul class=\"toc-item\"><li><span><a href=\"#Изучение-данных-из-файла\" data-toc-modified-id=\"Изучение-данных-из-файла-1\"><span class=\"toc-item-num\">1&nbsp;&nbsp;</span>Изучение данных из файла</a></span><ul class=\"toc-item\"><li><span><a href=\"#Вывод\" data-toc-modified-id=\"Вывод-1.1\"><span class=\"toc-item-num\">1.1&nbsp;&nbsp;</span>Вывод</a></span></li></ul></li><li><span><a href=\"#Предобработка-данных\" data-toc-modified-id=\"Предобработка-данных-2\"><span class=\"toc-item-num\">2&nbsp;&nbsp;</span>Предобработка данных</a></span><ul class=\"toc-item\"><li><span><a href=\"#Вывод\" data-toc-modified-id=\"Вывод-2.1\"><span class=\"toc-item-num\">2.1&nbsp;&nbsp;</span>Вывод</a></span></li></ul></li><li><span><a href=\"#Расчёты-и-добавление-результатов-в-таблицу\" data-toc-modified-id=\"Расчёты-и-добавление-результатов-в-таблицу-3\"><span class=\"toc-item-num\">3&nbsp;&nbsp;</span>Расчёты и добавление результатов в таблицу</a></span><ul class=\"toc-item\"><li><span><a href=\"#Вывод\" data-toc-modified-id=\"Вывод-3.1\"><span class=\"toc-item-num\">3.1&nbsp;&nbsp;</span>Вывод</a></span></li></ul></li><li><span><a href=\"#Исследовательский-анализ-данных\" data-toc-modified-id=\"Исследовательский-анализ-данных-4\"><span class=\"toc-item-num\">4&nbsp;&nbsp;</span>Исследовательский анализ данных</a></span></li><li><span><a href=\"#Общий-вывод\" data-toc-modified-id=\"Общий-вывод-5\"><span class=\"toc-item-num\">5&nbsp;&nbsp;</span>Общий вывод</a></span></li><li><span><a href=\"#Чек-лист-готовности-проекта\" data-toc-modified-id=\"Чек-лист-готовности-проекта-6\"><span class=\"toc-item-num\">6&nbsp;&nbsp;</span>Чек-лист готовности проекта</a></span></li></ul></div>"
   ]
  },
  {
   "cell_type": "markdown",
   "metadata": {},
   "source": [
    "# Исследование объявлений о продаже квартир\n",
    "\n",
    "В вашем распоряжении данные сервиса Яндекс.Недвижимость — архив объявлений о продаже квартир в Санкт-Петербурге и соседних населённых пунктах за несколько лет. Нужно научиться определять рыночную стоимость объектов недвижимости. Ваша задача — установить параметры. Это позволит построить автоматизированную систему: она отследит аномалии и мошенническую деятельность. \n",
    "\n",
    "По каждой квартире на продажу доступны два вида данных. Первые вписаны пользователем, вторые получены автоматически на основе картографических данных. Например, расстояние до центра, аэропорта, ближайшего парка и водоёма. "
   ]
  },
  {
   "cell_type": "markdown",
   "metadata": {},
   "source": [
    "## Изучение данных из файла"
   ]
  },
  {
   "cell_type": "code",
   "execution_count": 1,
   "metadata": {},
   "outputs": [
    {
     "name": "stdout",
     "output_type": "stream",
     "text": [
      "   total_images  last_price  total_area first_day_exposition  rooms  \\\n",
      "0            20  13000000.0       108.0  2019-03-07T00:00:00      3   \n",
      "1             7   3350000.0        40.4  2018-12-04T00:00:00      1   \n",
      "2            10   5196000.0        56.0  2015-08-20T00:00:00      2   \n",
      "3             0  64900000.0       159.0  2015-07-24T00:00:00      3   \n",
      "4             2  10000000.0       100.0  2018-06-19T00:00:00      2   \n",
      "\n",
      "   ceiling_height  floors_total  living_area  floor is_apartment  ...  \\\n",
      "0            2.70          16.0         51.0      8          NaN  ...   \n",
      "1             NaN          11.0         18.6      1          NaN  ...   \n",
      "2             NaN           5.0         34.3      4          NaN  ...   \n",
      "3             NaN          14.0          NaN      9          NaN  ...   \n",
      "4            3.03          14.0         32.0     13          NaN  ...   \n",
      "\n",
      "   kitchen_area  balcony    locality_name  airports_nearest  \\\n",
      "0          25.0      NaN  Санкт-Петербург           18863.0   \n",
      "1          11.0      2.0   посёлок Шушары           12817.0   \n",
      "2           8.3      0.0  Санкт-Петербург           21741.0   \n",
      "3           NaN      0.0  Санкт-Петербург           28098.0   \n",
      "4          41.0      NaN  Санкт-Петербург           31856.0   \n",
      "\n",
      "  cityCenters_nearest  parks_around3000  parks_nearest  ponds_around3000  \\\n",
      "0             16028.0               1.0          482.0               2.0   \n",
      "1             18603.0               0.0            NaN               0.0   \n",
      "2             13933.0               1.0           90.0               2.0   \n",
      "3              6800.0               2.0           84.0               3.0   \n",
      "4              8098.0               2.0          112.0               1.0   \n",
      "\n",
      "   ponds_nearest  days_exposition  \n",
      "0          755.0              NaN  \n",
      "1            NaN             81.0  \n",
      "2          574.0            558.0  \n",
      "3          234.0            424.0  \n",
      "4           48.0            121.0  \n",
      "\n",
      "[5 rows x 22 columns]\n",
      "<class 'pandas.core.frame.DataFrame'>\n",
      "RangeIndex: 23699 entries, 0 to 23698\n",
      "Data columns (total 22 columns):\n",
      "total_images            23699 non-null int64\n",
      "last_price              23699 non-null float64\n",
      "total_area              23699 non-null float64\n",
      "first_day_exposition    23699 non-null object\n",
      "rooms                   23699 non-null int64\n",
      "ceiling_height          14504 non-null float64\n",
      "floors_total            23613 non-null float64\n",
      "living_area             21796 non-null float64\n",
      "floor                   23699 non-null int64\n",
      "is_apartment            2775 non-null object\n",
      "studio                  23699 non-null bool\n",
      "open_plan               23699 non-null bool\n",
      "kitchen_area            21421 non-null float64\n",
      "balcony                 12180 non-null float64\n",
      "locality_name           23650 non-null object\n",
      "airports_nearest        18157 non-null float64\n",
      "cityCenters_nearest     18180 non-null float64\n",
      "parks_around3000        18181 non-null float64\n",
      "parks_nearest           8079 non-null float64\n",
      "ponds_around3000        18181 non-null float64\n",
      "ponds_nearest           9110 non-null float64\n",
      "days_exposition         20518 non-null float64\n",
      "dtypes: bool(2), float64(14), int64(3), object(3)\n",
      "memory usage: 3.7+ MB\n",
      "None\n"
     ]
    }
   ],
   "source": [
    "import pandas as pd\n",
    "import matplotlib.pyplot as plt\n",
    "from pymystem3 import Mystem\n",
    "from collections import Counter\n",
    "\n",
    "data = pd.read_csv('/datasets/real_estate_data.csv', sep='\\t')\n",
    "print(data.head())\n",
    "print(data.info())"
   ]
  },
  {
   "cell_type": "markdown",
   "metadata": {},
   "source": [
    "### Вывод"
   ]
  },
  {
   "cell_type": "markdown",
   "metadata": {},
   "source": [
    "В таблице представлены 22 столбца, а также информация о 23699 квартирах. Видим, что в столбце 'is_apsrtment' стоит тип 'object', хотя ожидается 'bool', а также можем заметить, что информация о каких-то квартирах неполная, какие-то данные не были заполнены"
   ]
  },
  {
   "cell_type": "markdown",
   "metadata": {},
   "source": [
    "## Предобработка данных"
   ]
  },
  {
   "cell_type": "code",
   "execution_count": 2,
   "metadata": {},
   "outputs": [
    {
     "name": "stdout",
     "output_type": "stream",
     "text": [
      "total_images                0\n",
      "last_price                  0\n",
      "total_area                  0\n",
      "first_day_exposition        0\n",
      "rooms                       0\n",
      "ceiling_height           9195\n",
      "floors_total               86\n",
      "living_area              1903\n",
      "floor                       0\n",
      "is_apartment            20924\n",
      "studio                      0\n",
      "open_plan                   0\n",
      "kitchen_area             2278\n",
      "balcony                     0\n",
      "locality_name              49\n",
      "airports_nearest         5542\n",
      "cityCenters_nearest      5519\n",
      "parks_around3000         5518\n",
      "parks_nearest           15620\n",
      "ponds_around3000         5518\n",
      "ponds_nearest           14589\n",
      "days_exposition          3181\n",
      "dtype: int64\n"
     ]
    }
   ],
   "source": [
    "data.loc[data['balcony'].isnull(), 'balcony'] = 0\n",
    "print(data.isna().sum())"
   ]
  },
  {
   "cell_type": "code",
   "execution_count": 3,
   "metadata": {},
   "outputs": [
    {
     "name": "stdout",
     "output_type": "stream",
     "text": [
      "<class 'pandas.core.frame.DataFrame'>\n",
      "RangeIndex: 23699 entries, 0 to 23698\n",
      "Data columns (total 22 columns):\n",
      "total_images            23699 non-null int64\n",
      "last_price              23699 non-null int64\n",
      "total_area              23699 non-null int64\n",
      "first_day_exposition    23699 non-null object\n",
      "rooms                   23699 non-null int64\n",
      "ceiling_height          14504 non-null float64\n",
      "floors_total            23613 non-null float64\n",
      "living_area             21796 non-null float64\n",
      "floor                   23699 non-null int64\n",
      "is_apartment            23699 non-null bool\n",
      "studio                  23699 non-null bool\n",
      "open_plan               23699 non-null bool\n",
      "kitchen_area            21421 non-null float64\n",
      "balcony                 23699 non-null int64\n",
      "locality_name           23650 non-null object\n",
      "airports_nearest        18157 non-null float64\n",
      "cityCenters_nearest     18180 non-null float64\n",
      "parks_around3000        23699 non-null int64\n",
      "parks_nearest           8079 non-null float64\n",
      "ponds_around3000        23699 non-null int64\n",
      "ponds_nearest           9110 non-null float64\n",
      "days_exposition         20518 non-null float64\n",
      "dtypes: bool(3), float64(9), int64(8), object(2)\n",
      "memory usage: 3.5+ MB\n",
      "None\n"
     ]
    }
   ],
   "source": [
    "data['balcony'] = data['balcony'].astype('int')\n",
    "#добавила округление до рублей и метров\n",
    "data['last_price'] = data['last_price'].astype('int')\n",
    "data['parks_around3000'] = data['parks_around3000'].fillna(data['parks_around3000'].median()).astype('int')\n",
    "data['ponds_around3000'] = data['ponds_around3000'].fillna(data['ponds_around3000'].median()).astype('int')\n",
    "data['total_area'] = data['total_area'].astype('int')\n",
    "data['locality_name'] = data['locality_name'].dropna()\n",
    "\n",
    "\n",
    "data['is_apartment'] = data['is_apartment'].fillna(False)\n",
    "print(data.info())"
   ]
  },
  {
   "cell_type": "code",
   "execution_count": 4,
   "metadata": {},
   "outputs": [
    {
     "name": "stdout",
     "output_type": "stream",
     "text": [
      "       total_images  last_price  total_area first_day_exposition  rooms  \\\n",
      "0                20    13000000         108  2019-03-07T00:00:00      3   \n",
      "1                 7     3350000          40  2018-12-04T00:00:00      1   \n",
      "2                10     5196000          56  2015-08-20T00:00:00      2   \n",
      "3                 0    64900000         159  2015-07-24T00:00:00      3   \n",
      "4                 2    10000000         100  2018-06-19T00:00:00      2   \n",
      "...             ...         ...         ...                  ...    ...   \n",
      "23694             9     9700000         133  2017-03-21T00:00:00      3   \n",
      "23695            14     3100000          59  2018-01-15T00:00:00      3   \n",
      "23696            18     2500000          56  2018-02-11T00:00:00      2   \n",
      "23697            13    11475000          76  2017-03-28T00:00:00      2   \n",
      "23698             4     1350000          32  2017-07-21T00:00:00      1   \n",
      "\n",
      "       ceiling_height  floors_total  living_area  floor  is_apartment  ...  \\\n",
      "0                2.70          16.0         51.0      8         False  ...   \n",
      "1                 NaN          11.0         18.6      1         False  ...   \n",
      "2                 NaN           5.0         34.3      4         False  ...   \n",
      "3                 NaN          14.0          NaN      9         False  ...   \n",
      "4                3.03          14.0         32.0     13         False  ...   \n",
      "...               ...           ...          ...    ...           ...  ...   \n",
      "23694            3.70           5.0         73.3      3         False  ...   \n",
      "23695             NaN           5.0         38.0      4         False  ...   \n",
      "23696             NaN           3.0         29.7      1         False  ...   \n",
      "23697            3.00          17.0          NaN     12         False  ...   \n",
      "23698            2.50           5.0         12.3      1         False  ...   \n",
      "\n",
      "       kitchen_area  balcony        locality_name  airports_nearest  \\\n",
      "0             25.00        0      санкт-петербург           18863.0   \n",
      "1             11.00        2       поселок шушары           12817.0   \n",
      "2              8.30        0      санкт-петербург           21741.0   \n",
      "3               NaN        0      санкт-петербург           28098.0   \n",
      "4             41.00        0      санкт-петербург           31856.0   \n",
      "...             ...      ...                  ...               ...   \n",
      "23694         13.83        0      санкт-петербург           24665.0   \n",
      "23695          8.50        0                тосно               NaN   \n",
      "23696           NaN        0     село рождествено               NaN   \n",
      "23697         23.30        2      санкт-петербург           39140.0   \n",
      "23698          9.00        0  поселок новый учхоз               NaN   \n",
      "\n",
      "      cityCenters_nearest  parks_around3000  parks_nearest  ponds_around3000  \\\n",
      "0                 16028.0                 1          482.0                 2   \n",
      "1                 18603.0                 0            NaN                 0   \n",
      "2                 13933.0                 1           90.0                 2   \n",
      "3                  6800.0                 2           84.0                 3   \n",
      "4                  8098.0                 2          112.0                 1   \n",
      "...                   ...               ...            ...               ...   \n",
      "23694              4232.0                 1          796.0                 3   \n",
      "23695                 NaN                 0            NaN                 1   \n",
      "23696                 NaN                 0            NaN                 1   \n",
      "23697             10364.0                 2          173.0                 3   \n",
      "23698                 NaN                 0            NaN                 1   \n",
      "\n",
      "       ponds_nearest  days_exposition  \n",
      "0              755.0              NaN  \n",
      "1                NaN             81.0  \n",
      "2              574.0            558.0  \n",
      "3              234.0            424.0  \n",
      "4               48.0            121.0  \n",
      "...              ...              ...  \n",
      "23694          381.0              NaN  \n",
      "23695            NaN             45.0  \n",
      "23696            NaN              NaN  \n",
      "23697          196.0            602.0  \n",
      "23698            NaN              NaN  \n",
      "\n",
      "[23699 rows x 22 columns]\n"
     ]
    }
   ],
   "source": [
    "#изменила столбец с названиями поселков\n",
    "data['locality_name'] = data['locality_name'].str.lower()\n",
    "data['locality_name'] = data['locality_name'].str.replace('ё','е')\n",
    "data['locality_name'] = data['locality_name'].astype('str')\n",
    "print(data)\n",
    "\n",
    "m = Mystem()\n",
    "\n",
    "lemmas_list = []\n",
    "for text in data['locality_name']:\n",
    "    lemmas_list += m.lemmatize(text)\n",
    "\n",
    "\n",
    "data['locality_name'] = data['locality_name'].str.replace('поселок','')\n",
    "data['locality_name'] = data['locality_name'].str.replace('деревня','')\n",
    "data['locality_name'] = data['locality_name'].str.strip()"
   ]
  },
  {
   "cell_type": "markdown",
   "metadata": {},
   "source": [
    "### Вывод"
   ]
  },
  {
   "cell_type": "markdown",
   "metadata": {},
   "source": [
    "Заменили в столбце про наличие балконов пропущенные значения на 0, так как скорее всего, если колчиество балконов не указано, то их вовсе нет. Также в данном слобце заменили тип данных на целочисленный, так как колчиество балконов может быть только целым числом. Заменили в столбце 'is_apartment' пропущенные значения на False, так как подразумеваем, что количество квартир, в которых нельзя прописаться, очень мало. Из количества пропущенных столбцов видим, что у подавляющего большинства квартир отстутсвует информация о том, является ли квартира апартаментами, где находится ближайший парк и пруд, также почти у половины квартир отстутствует информаци о высоте потолков. Данную информацию заменили на медианное значение, после чего поменяли тип данных на целочисленный, пропуски могут быть вызваны тем, что арендодатель не дал полной информации, пропущены значения при внесении данных или данные выгружены неправильно. В некоторых столбцах изменить тип данных не вышло, так как отсутствуют значения."
   ]
  },
  {
   "cell_type": "markdown",
   "metadata": {},
   "source": [
    "## Расчёты и добавление результатов в таблицу"
   ]
  },
  {
   "cell_type": "code",
   "execution_count": 5,
   "metadata": {},
   "outputs": [],
   "source": [
    "#рассчет стоимости квадратного метра\n",
    "data['meter_cost'] = data['last_price']/data['total_area']"
   ]
  },
  {
   "cell_type": "code",
   "execution_count": 6,
   "metadata": {},
   "outputs": [],
   "source": [
    "#день недели, месяц, год публикации\n",
    "data['first_day_exposition'] = pd.to_datetime(data['first_day_exposition'], format = '%Y-%m-%dT%H:%M:%S')\n",
    "data['weekday'] = data['first_day_exposition'].dt.weekday\n",
    "data['month_year'] = data['first_day_exposition'].dt.round('1d')"
   ]
  },
  {
   "cell_type": "code",
   "execution_count": 7,
   "metadata": {},
   "outputs": [],
   "source": [
    "#этаж, очень допотопно, но этаж\n",
    "data['etage'] = data['floor'].where(((data['floor']==1)|(data['floor'] == data['floors_total'])), 'другое')\n",
    "data['etage'] = data['etage'].replace(1, 'первый')\n",
    "data['etage'] = data['etage'].where(((data['etage'] == 'другое')|(data['etage']=='первый')),'последнний')\n"
   ]
  },
  {
   "cell_type": "code",
   "execution_count": 8,
   "metadata": {},
   "outputs": [],
   "source": [
    "#соотношения\n",
    "data['ratio_area'] = data['living_area']/data['total_area']\n",
    "data['kitchen_ratio'] = data['kitchen_area']/data['total_area']"
   ]
  },
  {
   "cell_type": "markdown",
   "metadata": {},
   "source": [
    "### Вывод\n",
    "Добавили отношения жилой площади к общей, а также площади кухни к общей площади квартиры, обработали значения даты публикации, нашли стоимость квадратного метра в каждой квартире"
   ]
  },
  {
   "cell_type": "markdown",
   "metadata": {},
   "source": [
    "## Исследовательский анализ данных"
   ]
  },
  {
   "cell_type": "code",
   "execution_count": 9,
   "metadata": {},
   "outputs": [
    {
     "data": {
      "text/plain": [
       "array([[<matplotlib.axes._subplots.AxesSubplot object at 0x7f49412daf90>,\n",
       "        <matplotlib.axes._subplots.AxesSubplot object at 0x7f499534cd50>],\n",
       "       [<matplotlib.axes._subplots.AxesSubplot object at 0x7f49952a4a10>,\n",
       "        <matplotlib.axes._subplots.AxesSubplot object at 0x7f499525fd90>]],\n",
       "      dtype=object)"
      ]
     },
     "execution_count": 9,
     "metadata": {},
     "output_type": "execute_result"
    },
    {
     "data": {
      "image/png": "[encoded data removed]",
      "text/plain": [
       "<Figure size 720x720 with 4 Axes>"
      ]
     },
     "metadata": {
      "needs_background": "light"
     },
     "output_type": "display_data"
    }
   ],
   "source": [
    "new_data = data[['total_area', 'last_price', 'rooms', 'ceiling_height']]\n",
    "new_data.hist(bins=100, figsize=(10,10))"
   ]
  },
  {
   "cell_type": "markdown",
   "metadata": {},
   "source": [
    "Видим, что на первой и второй гистограммах есть множество значений, приближенных к нулю. Это могут быть ошибочные данные."
   ]
  },
  {
   "cell_type": "code",
   "execution_count": 10,
   "metadata": {},
   "outputs": [
    {
     "data": {
      "text/plain": [
       "<matplotlib.axes._subplots.AxesSubplot at 0x7f499520ce50>"
      ]
     },
     "execution_count": 10,
     "metadata": {},
     "output_type": "execute_result"
    },
    {
     "data": {
      "image/png": "[encoded data removed]",
      "text/plain": [
       "<Figure size 432x288 with 1 Axes>"
      ]
     },
     "metadata": {
      "needs_background": "light"
     },
     "output_type": "display_data"
    }
   ],
   "source": [
    "data['days_exposition'].hist(bins=100)"
   ]
  },
  {
   "cell_type": "markdown",
   "metadata": {},
   "source": [
    "Видим яркий всплеск данных около между 0 и 200 днями, значит, в серднем, большинство квартир продаётся в течение первых 7 месяцев. "
   ]
  },
  {
   "cell_type": "code",
   "execution_count": 11,
   "metadata": {},
   "outputs": [
    {
     "name": "stdout",
     "output_type": "stream",
     "text": [
      "count    20518.000000\n",
      "mean       180.888634\n",
      "std        219.727988\n",
      "min          1.000000\n",
      "25%         45.000000\n",
      "50%         95.000000\n",
      "75%        232.000000\n",
      "max       1580.000000\n",
      "Name: days_exposition, dtype: float64\n"
     ]
    },
    {
     "data": {
      "text/plain": [
       "array([[<matplotlib.axes._subplots.AxesSubplot object at 0x7f494131d850>,\n",
       "        <matplotlib.axes._subplots.AxesSubplot object at 0x7f4985f6a550>],\n",
       "       [<matplotlib.axes._subplots.AxesSubplot object at 0x7f4985f13d50>,\n",
       "        <matplotlib.axes._subplots.AxesSubplot object at 0x7f4985ed4510>]],\n",
       "      dtype=object)"
      ]
     },
     "execution_count": 11,
     "metadata": {},
     "output_type": "execute_result"
    },
    {
     "data": {
      "image/png": "[encoded data removed]",
      "text/plain": [
       "<Figure size 648x648 with 4 Axes>"
      ]
     },
     "metadata": {
      "needs_background": "light"
     },
     "output_type": "display_data"
    }
   ],
   "source": [
    "print(data['days_exposition'].describe())\n",
    "\n",
    "data[['meter_cost', 'rooms', 'living_area']].hist(bins=100, figsize=(9,9))"
   ]
  },
  {
   "cell_type": "markdown",
   "metadata": {},
   "source": [
    "Видим, что среднее - 180 дней, а медиана - 95, значит, в данных есть сильные выбросы. В среднем, продажа занимает около 3 месяцев, поэтому необычно быстро проходят продажи, которые проходят за 1-2 месяца, а необычно долгие продажи - более 2-3 лет."
   ]
  },
  {
   "cell_type": "code",
   "execution_count": 12,
   "metadata": {},
   "outputs": [
    {
     "name": "stdout",
     "output_type": "stream",
     "text": [
      "19744\n"
     ]
    }
   ],
   "source": [
    "#уберем выбивающиеся значения, которые могут дать отклонение\n",
    "good_data = data.query('(days_exposition < 800) & (rooms>0)')\n",
    "\n",
    "print(len(good_data))"
   ]
  },
  {
   "cell_type": "markdown",
   "metadata": {},
   "source": [
    "Видим, что количество квартир уменьшилось, но не сильно, но это значит, что большие данные не будут влиять на значения и \"портить\" картину."
   ]
  },
  {
   "cell_type": "code",
   "execution_count": 13,
   "metadata": {},
   "outputs": [
    {
     "data": {
      "image/png": "[encoded data removed]",
      "text/plain": [
       "<Figure size 432x288 with 1 Axes>"
      ]
     },
     "metadata": {
      "needs_background": "light"
     },
     "output_type": "display_data"
    },
    {
     "data": {
      "text/plain": [
       "<matplotlib.axes._subplots.AxesSubplot at 0x7f4985a2b450>"
      ]
     },
     "execution_count": 13,
     "metadata": {},
     "output_type": "execute_result"
    },
    {
     "data": {
      "image/png": "[encoded data removed]",
      "text/plain": [
       "<Figure size 648x648 with 1 Axes>"
      ]
     },
     "metadata": {
      "needs_background": "light"
     },
     "output_type": "display_data"
    }
   ],
   "source": [
    "import warnings\n",
    "warnings.filterwarnings(\"ignore\")\n",
    "#зависимоть стоимости от нескольких факторов\n",
    "good_data['costs'] = pd.qcut(good_data['last_price'],50,labels=False)\n",
    "good_data.pivot_table(index='costs', values='total_area', aggfunc='median').plot(kind='line')\n",
    "plt.show()\n",
    "good_data.plot(x='costs', y='total_area', kind='scatter', figsize=(9,9), grid=True)"
   ]
  },
  {
   "cell_type": "code",
   "execution_count": 14,
   "metadata": {},
   "outputs": [
    {
     "data": {
      "image/png": "[encoded data removed]",
      "text/plain": [
       "<Figure size 432x288 with 1 Axes>"
      ]
     },
     "metadata": {
      "needs_background": "light"
     },
     "output_type": "display_data"
    },
    {
     "data": {
      "text/plain": [
       "<matplotlib.axes._subplots.AxesSubplot at 0x7f4985956850>"
      ]
     },
     "execution_count": 14,
     "metadata": {},
     "output_type": "execute_result"
    },
    {
     "data": {
      "image/png": "[encoded data removed]",
      "text/plain": [
       "<Figure size 648x648 with 1 Axes>"
      ]
     },
     "metadata": {
      "needs_background": "light"
     },
     "output_type": "display_data"
    }
   ],
   "source": [
    "good_data.pivot_table(index='costs', values='rooms', aggfunc='median').plot(kind='bar')\n",
    "plt.show()\n",
    "good_data.plot(x='rooms', y='costs', kind='scatter', figsize=(9,9), grid=True)"
   ]
  },
  {
   "cell_type": "code",
   "execution_count": 15,
   "metadata": {},
   "outputs": [
    {
     "data": {
      "text/plain": [
       "<matplotlib.axes._subplots.AxesSubplot at 0x7f49379d9ad0>"
      ]
     },
     "execution_count": 15,
     "metadata": {},
     "output_type": "execute_result"
    },
    {
     "data": {
      "image/png": "[encoded data removed]",
      "text/plain": [
       "<Figure size 648x648 with 1 Axes>"
      ]
     },
     "metadata": {
      "needs_background": "light"
     },
     "output_type": "display_data"
    }
   ],
   "source": [
    "good_data['centres'] = (good_data['cityCenters_nearest']/1000).dropna().astype('int')\n",
    "\n",
    "good_data.pivot_table(index='centres', values='costs', aggfunc='median').plot(kind='bar', figsize=(9,9))"
   ]
  },
  {
   "cell_type": "code",
   "execution_count": 16,
   "metadata": {},
   "outputs": [
    {
     "data": {
      "image/png": "[encoded data removed]",
      "text/plain": [
       "<Figure size 432x288 with 1 Axes>"
      ]
     },
     "metadata": {
      "needs_background": "light"
     },
     "output_type": "display_data"
    },
    {
     "data": {
      "text/plain": [
       "<matplotlib.axes._subplots.AxesSubplot at 0x7f4937747110>"
      ]
     },
     "execution_count": 16,
     "metadata": {},
     "output_type": "execute_result"
    },
    {
     "data": {
      "image/png": "[encoded data removed]",
      "text/plain": [
       "<Figure size 648x648 with 1 Axes>"
      ]
     },
     "metadata": {
      "needs_background": "light"
     },
     "output_type": "display_data"
    }
   ],
   "source": [
    "good_data.pivot_table(index='costs', values='weekday', aggfunc='median').plot(kind='bar')\n",
    "plt.show()\n",
    "good_data.plot(x='weekday', y='costs', kind='scatter', figsize=(9,9), grid=True)"
   ]
  },
  {
   "cell_type": "markdown",
   "metadata": {},
   "source": [
    "Можем заметить, что чем ближе квартира к центру, тем выше ее стоимость,в среднем количество комнат не сильно влияет на стоимость, а вот общая площадь как раз сильно завышает цену, а день недели совершенно не влияет на стоимость."
   ]
  },
  {
   "cell_type": "code",
   "execution_count": 17,
   "metadata": {},
   "outputs": [
    {
     "name": "stdout",
     "output_type": "stream",
     "text": [
      "323\n"
     ]
    }
   ],
   "source": [
    "print(data['locality_name'].value_counts().count())\n",
    "#имеем 323 населенных пункта"
   ]
  },
  {
   "cell_type": "code",
   "execution_count": 18,
   "metadata": {},
   "outputs": [
    {
     "name": "stdout",
     "output_type": "stream",
     "text": [
      "locality_name\n",
      "санкт-петербург    15721\n",
      "мурино               590\n",
      "кудрово              472\n",
      "шушары               440\n",
      "всеволожск           398\n",
      "пушкин               369\n",
      "колпино              338\n",
      "парголово            327\n",
      "гатчина              307\n",
      "выборг               237\n",
      "Name: locality_name, dtype: int64\n"
     ]
    }
   ],
   "source": [
    "#выберем первые 10 из них\n",
    "locality = data.groupby('locality_name')['locality_name'].count().sort_values(ascending=False).head(10)\n",
    "print(locality)"
   ]
  },
  {
   "cell_type": "code",
   "execution_count": 19,
   "metadata": {},
   "outputs": [
    {
     "name": "stdout",
     "output_type": "stream",
     "text": [
      "                    meter_cost\n",
      "locality_name                 \n",
      "старополье        11238.372093\n",
      "станции свирь     11481.481481\n",
      "вахнова кара      11842.105263\n",
      "выскатка          12335.480902\n",
      "совхозный         12629.129129\n",
      "...                        ...\n",
      "сестрорецк       102141.576686\n",
      "пушкин           102420.777662\n",
      "зеленогорск      111695.166699\n",
      "санкт-петербург  112476.047524\n",
      "лисий нос        114316.860465\n",
      "\n",
      "[290 rows x 1 columns]\n"
     ]
    }
   ],
   "source": [
    "#средняя цена кв.м по районам\n",
    "data1 = good_data.pivot_table(index='locality_name', values='meter_cost').sort_values(by='meter_cost')\n",
    "print(data1)"
   ]
  },
  {
   "cell_type": "markdown",
   "metadata": {},
   "source": [
    "Видим, что самая большая стоимость метра в Лисьем Носу, а самая низкая - в Выборге."
   ]
  },
  {
   "cell_type": "code",
   "execution_count": 28,
   "metadata": {},
   "outputs": [
    {
     "data": {
      "text/plain": [
       "array([[<matplotlib.axes._subplots.AxesSubplot object at 0x7f4985a315d0>,\n",
       "        <matplotlib.axes._subplots.AxesSubplot object at 0x7f49376d6dd0>,\n",
       "        <matplotlib.axes._subplots.AxesSubplot object at 0x7f49375888d0>],\n",
       "       [<matplotlib.axes._subplots.AxesSubplot object at 0x7f4937839c50>,\n",
       "        <matplotlib.axes._subplots.AxesSubplot object at 0x7f49377dc910>,\n",
       "        <matplotlib.axes._subplots.AxesSubplot object at 0x7f4937768c90>],\n",
       "       [<matplotlib.axes._subplots.AxesSubplot object at 0x7f493731f950>,\n",
       "        <matplotlib.axes._subplots.AxesSubplot object at 0x7f49372dc190>,\n",
       "        <matplotlib.axes._subplots.AxesSubplot object at 0x7f49372dccd0>]],\n",
       "      dtype=object)"
      ]
     },
     "execution_count": 28,
     "metadata": {},
     "output_type": "execute_result"
    },
    {
     "data": {
      "image/png": "[encoded data removed]",
      "text/plain": [
       "<Figure size 720x720 with 9 Axes>"
      ]
     },
     "metadata": {
      "needs_background": "light"
     },
     "output_type": "display_data"
    }
   ],
   "source": [
    "#нашли центр\n",
    "data2 = good_data.query('(locality_name == \"санкт-петербург\") & (centres < 9)')\n",
    "data2[['total_area', 'costs', 'rooms', 'ceiling_height','centres','floor','weekday']].hist(figsize=(10,10))\n"
   ]
  },
  {
   "cell_type": "code",
   "execution_count": 39,
   "metadata": {},
   "outputs": [
    {
     "name": "stdout",
     "output_type": "stream",
     "text": [
      "0.5168139965188263\n",
      "0.5050583214510955\n",
      "0.05804615076959309\n",
      "-0.2607289507373054\n",
      "0.1462804927542757\n"
     ]
    }
   ],
   "source": [
    "print(data2['living_area'].corr(data2['costs']))\n",
    "print(data2['rooms'].corr(data2['costs']))\n",
    "print(data2['ceiling_height'].corr(data2['costs']))\n",
    "print(data2['centres'].corr(data2['costs']))\n",
    "print(data2['floor'].corr(data2['costs']))"
   ]
  },
  {
   "cell_type": "markdown",
   "metadata": {},
   "source": [
    "Можно заметить, что наибольшее влияние на стоимость квартиры имеют площадь и количество комнат, в то время как расстояние до центра совершенно не влияет на стоимость."
   ]
  },
  {
   "cell_type": "code",
   "execution_count": 37,
   "metadata": {},
   "outputs": [],
   "source": [
    "#найдем корреляцию по всему городу\n",
    "data3 = good_data.query('locality_name==\"санкт-петербург\"')"
   ]
  },
  {
   "cell_type": "code",
   "execution_count": 38,
   "metadata": {},
   "outputs": [
    {
     "name": "stdout",
     "output_type": "stream",
     "text": [
      "0.5565252438469058\n",
      "0.3633190258884532\n",
      "0.07832651749587119\n",
      "-0.2380310867162484\n",
      "0.007940972651750063\n"
     ]
    }
   ],
   "source": [
    "#корреляция\n",
    "print(data3['last_price'].corr(data3['living_area']))\n",
    "print(data3['last_price'].corr(data3['rooms']))\n",
    "print(data3['last_price'].corr(data3['ceiling_height']))\n",
    "print(data3['last_price'].corr(data3['centres']))\n",
    "print(data3['last_price'].corr(data3['floor']))"
   ]
  },
  {
   "cell_type": "markdown",
   "metadata": {},
   "source": [
    "Видим, что на стоимость одинаково сильно как в центре, так и не в центре, влияет площадь, и не вляиет расстояние до центра. Зависимость стоимости от количества комнат в центре сильнее, чем не в центре."
   ]
  },
  {
   "cell_type": "markdown",
   "metadata": {},
   "source": [
    "## Общий вывод"
   ]
  },
  {
   "cell_type": "markdown",
   "metadata": {},
   "source": [
    "Из проведенного анализа видно, что на стоимость квартиры сильно влияет удаленность от центра (особенно в г.Санкт-Петербурге), количество квадратных метров, а квартиры в среднем продаются в течение года после публикации объявления."
   ]
  },
  {
   "cell_type": "markdown",
   "metadata": {},
   "source": [
    "## Чек-лист готовности проекта\n",
    "\n",
    "Поставьте 'x' в выполненных пунктах. Далее нажмите Shift+Enter."
   ]
  },
  {
   "cell_type": "markdown",
   "metadata": {},
   "source": [
    "- [x]  открыт файл\n",
    "- [x]  файлы изучены (выведены первые строки, метод info())\n",
    "- [x]  определены пропущенные значения\n",
    "- [x]  заполнены пропущенные значения\n",
    "- [x]  есть пояснение, какие пропущенные значения обнаружены\n",
    "- [x]  изменены типы данных\n",
    "- [x]  есть пояснение, в каких столбцах изменены типы и почему\n",
    "- [x]  посчитано и добавлено в таблицу: цена квадратного метра\n",
    "- [x]  посчитано и добавлено в таблицу: день недели, месяц и год публикации объявления\n",
    "- [x]  посчитано и добавлено в таблицу: этаж квартиры; варианты — первый, последний, другой\n",
    "- [x]  посчитано и добавлено в таблицу: соотношение жилой и общей площади, а также отношение площади кухни к общей\n",
    "- [x]  изучены следующие параметры: площадь, цена, число комнат, высота потолков\n",
    "- [x]  построены гистограммы для каждого параметра\n",
    "- [x]  выполнено задание: \"Изучите время продажи квартиры. Постройте гистограмму. Посчитайте среднее и медиану. Опишите, сколько обычно занимает продажа. Когда можно считать, что продажи прошли очень быстро, а когда необычно долго?\"\n",
    "- [x]  выполнено задание: \"Уберите редкие и выбивающиеся значения. Опишите, какие особенности обнаружили.\"\n",
    "- [x]  выполнено задание: \"Какие факторы больше всего влияют на стоимость квартиры? Изучите, зависит ли цена от квадратного метра, числа комнат, этажа (первого или последнего), удалённости от центра. Также изучите зависимость от даты размещения: дня недели, месяца и года. \"Выберите 10 населённых пунктов с наибольшим числом объявлений. Посчитайте среднюю цену квадратного метра в этих населённых пунктах. Выделите населённые пункты с самой высокой и низкой стоимостью жилья. Эти данные можно найти по имени в столбце '*locality_name'*. \"\n",
    "- [x]  выполнено задание: \"Изучите предложения квартир: для каждой квартиры есть информация о расстоянии до центра. Выделите квартиры в Санкт-Петербурге (*'locality_name'*). Ваша задача — выяснить, какая область входит в центр. Создайте столбец с расстоянием до центра в километрах: округлите до целых значений. После этого посчитайте среднюю цену для каждого километра. Постройте график: он должен показывать, как цена зависит от удалённости от центра. Определите границу, где график сильно меняется — это и будет центральная зона. \"\n",
    "- [ ]  выполнено задание: \"Выделите сегмент квартир в центре. Проанализируйте эту территорию и изучите следующие параметры: площадь, цена, число комнат, высота потолков. Также выделите факторы, которые влияют на стоимость квартиры (число комнат, этаж, удалённость от центра, дата размещения объявления). Сделайте выводы. Отличаются ли они от общих выводов по всему городу?\"\n",
    "- [x]  в каждом этапе есть выводы\n",
    "- [x]  есть общий вывод"
   ]
  }
 ],
 "metadata": {
  "ExecuteTimeLog": [
   {
    "duration": 865,
    "start_time": "2021-08-14T20:28:33.488Z"
   },
   {
    "duration": 84,
    "start_time": "2021-08-14T20:32:15.224Z"
   },
   {
    "duration": 84,
    "start_time": "2021-08-14T20:32:38.676Z"
   },
   {
    "duration": 448,
    "start_time": "2021-08-14T20:32:44.308Z"
   },
   {
    "duration": 82,
    "start_time": "2021-08-14T20:33:06.777Z"
   },
   {
    "duration": 111,
    "start_time": "2021-08-14T20:33:11.413Z"
   },
   {
    "duration": 21,
    "start_time": "2021-08-14T20:40:43.273Z"
   },
   {
    "duration": 13,
    "start_time": "2021-08-14T20:43:38.753Z"
   },
   {
    "duration": 13,
    "start_time": "2021-08-14T20:43:43.493Z"
   },
   {
    "duration": 29,
    "start_time": "2021-08-14T20:43:52.085Z"
   },
   {
    "duration": 477,
    "start_time": "2021-08-14T20:48:12.046Z"
   },
   {
    "duration": 392,
    "start_time": "2021-08-14T20:48:30.406Z"
   },
   {
    "duration": 369,
    "start_time": "2021-08-14T20:49:08.486Z"
   },
   {
    "duration": 19,
    "start_time": "2021-08-14T20:49:17.917Z"
   },
   {
    "duration": 24,
    "start_time": "2021-08-14T20:49:26.437Z"
   },
   {
    "duration": 22,
    "start_time": "2021-08-14T20:49:43.394Z"
   },
   {
    "duration": 419,
    "start_time": "2021-08-14T20:50:23.114Z"
   },
   {
    "duration": 17,
    "start_time": "2021-08-14T20:51:38.318Z"
   },
   {
    "duration": 16,
    "start_time": "2021-08-14T20:51:44.686Z"
   },
   {
    "duration": 5,
    "start_time": "2021-08-14T20:57:00.831Z"
   },
   {
    "duration": 16,
    "start_time": "2021-08-14T20:57:14.055Z"
   },
   {
    "duration": 658,
    "start_time": "2021-08-15T19:48:57.667Z"
   },
   {
    "duration": 11,
    "start_time": "2021-08-15T19:49:02.571Z"
   },
   {
    "duration": 14,
    "start_time": "2021-08-15T19:49:04.207Z"
   },
   {
    "duration": 26,
    "start_time": "2021-08-15T19:54:42.411Z"
   },
   {
    "duration": 4,
    "start_time": "2021-08-15T19:59:53.396Z"
   },
   {
    "duration": 243,
    "start_time": "2021-08-15T20:05:58.432Z"
   },
   {
    "duration": 1206,
    "start_time": "2021-08-15T20:06:45.793Z"
   },
   {
    "duration": 1199,
    "start_time": "2021-08-15T20:07:16.265Z"
   },
   {
    "duration": 1204,
    "start_time": "2021-08-15T20:07:42.205Z"
   },
   {
    "duration": 1187,
    "start_time": "2021-08-15T20:08:55.540Z"
   },
   {
    "duration": 1199,
    "start_time": "2021-08-15T20:09:59.152Z"
   },
   {
    "duration": 1250,
    "start_time": "2021-08-15T20:10:26.377Z"
   },
   {
    "duration": 33,
    "start_time": "2021-08-15T20:10:44.453Z"
   },
   {
    "duration": 170,
    "start_time": "2021-08-15T20:12:41.097Z"
   },
   {
    "duration": 29,
    "start_time": "2021-08-15T20:12:45.873Z"
   },
   {
    "duration": 711,
    "start_time": "2021-08-15T20:14:00.401Z"
   },
   {
    "duration": 30,
    "start_time": "2021-08-15T20:14:14.097Z"
   },
   {
    "duration": 10,
    "start_time": "2021-08-15T20:14:41.733Z"
   },
   {
    "duration": 4597,
    "start_time": "2021-08-15T20:33:12.042Z"
   },
   {
    "duration": 24,
    "start_time": "2021-08-15T20:33:31.849Z"
   },
   {
    "duration": 188,
    "start_time": "2021-08-15T20:34:41.413Z"
   },
   {
    "duration": 178,
    "start_time": "2021-08-15T20:34:50.922Z"
   },
   {
    "duration": 22,
    "start_time": "2021-08-15T20:35:44.082Z"
   },
   {
    "duration": 25,
    "start_time": "2021-08-15T20:36:19.105Z"
   },
   {
    "duration": 25,
    "start_time": "2021-08-15T20:36:40.653Z"
   },
   {
    "duration": 68,
    "start_time": "2021-08-15T20:46:53.666Z"
   },
   {
    "duration": 25,
    "start_time": "2021-08-15T20:47:01.270Z"
   },
   {
    "duration": 25,
    "start_time": "2021-08-15T20:48:16.354Z"
   },
   {
    "duration": 25,
    "start_time": "2021-08-15T20:48:27.929Z"
   },
   {
    "duration": 28,
    "start_time": "2021-08-15T20:50:00.754Z"
   },
   {
    "duration": 12,
    "start_time": "2021-08-15T20:50:33.690Z"
   },
   {
    "duration": 25,
    "start_time": "2021-08-15T20:57:32.306Z"
   },
   {
    "duration": 23,
    "start_time": "2021-08-15T20:57:54.182Z"
   },
   {
    "duration": 62,
    "start_time": "2021-08-15T20:58:26.974Z"
   },
   {
    "duration": 24,
    "start_time": "2021-08-15T20:58:31.658Z"
   },
   {
    "duration": 25,
    "start_time": "2021-08-15T21:00:02.703Z"
   },
   {
    "duration": 22,
    "start_time": "2021-08-15T21:00:19.907Z"
   },
   {
    "duration": 24,
    "start_time": "2021-08-15T21:00:32.211Z"
   },
   {
    "duration": 13,
    "start_time": "2021-08-15T21:00:39.946Z"
   },
   {
    "duration": 24,
    "start_time": "2021-08-15T21:00:44.798Z"
   },
   {
    "duration": 10,
    "start_time": "2021-08-15T21:00:53.731Z"
   },
   {
    "duration": 13,
    "start_time": "2021-08-15T21:00:55.063Z"
   },
   {
    "duration": 27,
    "start_time": "2021-08-15T21:00:56.106Z"
   },
   {
    "duration": 4,
    "start_time": "2021-08-15T21:03:31.867Z"
   },
   {
    "duration": 12,
    "start_time": "2021-08-15T21:05:15.531Z"
   },
   {
    "duration": 4833,
    "start_time": "2021-08-15T21:05:36.051Z"
   },
   {
    "duration": 4779,
    "start_time": "2021-08-15T21:14:24.807Z"
   },
   {
    "duration": 303,
    "start_time": "2021-08-15T21:15:48.132Z"
   },
   {
    "duration": 543,
    "start_time": "2021-08-15T21:17:49.891Z"
   },
   {
    "duration": 1216,
    "start_time": "2021-08-15T21:19:45.343Z"
   },
   {
    "duration": 207,
    "start_time": "2021-08-15T21:21:20.340Z"
   },
   {
    "duration": 10,
    "start_time": "2021-08-15T21:29:13.740Z"
   },
   {
    "duration": 349,
    "start_time": "2021-08-15T21:31:05.060Z"
   },
   {
    "duration": 4,
    "start_time": "2021-08-15T21:34:09.433Z"
   },
   {
    "duration": 330,
    "start_time": "2021-08-16T09:27:32.431Z"
   },
   {
    "duration": 863,
    "start_time": "2021-08-16T09:27:40.022Z"
   },
   {
    "duration": 15,
    "start_time": "2021-08-16T09:27:44.114Z"
   },
   {
    "duration": 20,
    "start_time": "2021-08-16T09:27:44.890Z"
   },
   {
    "duration": 21,
    "start_time": "2021-08-16T09:30:07.998Z"
   },
   {
    "duration": 413,
    "start_time": "2021-08-16T09:30:25.683Z"
   },
   {
    "duration": 21,
    "start_time": "2021-08-16T09:30:35.558Z"
   },
   {
    "duration": 6,
    "start_time": "2021-08-16T09:37:10.986Z"
   },
   {
    "duration": 5,
    "start_time": "2021-08-16T09:37:23.995Z"
   },
   {
    "duration": 273,
    "start_time": "2021-08-16T09:37:39.338Z"
   },
   {
    "duration": 3236,
    "start_time": "2021-08-16T09:38:50.634Z"
   },
   {
    "duration": -165,
    "start_time": "2021-08-16T09:38:54.039Z"
   },
   {
    "duration": 3272,
    "start_time": "2021-08-16T09:39:07.219Z"
   },
   {
    "duration": -174,
    "start_time": "2021-08-16T09:39:10.668Z"
   },
   {
    "duration": -181,
    "start_time": "2021-08-16T09:39:10.676Z"
   },
   {
    "duration": 3305,
    "start_time": "2021-08-16T09:39:11.006Z"
   },
   {
    "duration": -294,
    "start_time": "2021-08-16T09:39:14.607Z"
   },
   {
    "duration": -307,
    "start_time": "2021-08-16T09:39:14.622Z"
   },
   {
    "duration": 4195,
    "start_time": "2021-08-16T09:39:23.702Z"
   },
   {
    "duration": 107,
    "start_time": "2021-08-16T09:39:34.934Z"
   },
   {
    "duration": 15,
    "start_time": "2021-08-16T09:39:37.490Z"
   },
   {
    "duration": 26,
    "start_time": "2021-08-16T09:39:38.190Z"
   },
   {
    "duration": 12,
    "start_time": "2021-08-16T09:39:41.270Z"
   },
   {
    "duration": 29,
    "start_time": "2021-08-16T09:39:42.083Z"
   },
   {
    "duration": 25,
    "start_time": "2021-08-16T09:39:42.743Z"
   },
   {
    "duration": 9,
    "start_time": "2021-08-16T09:39:43.683Z"
   },
   {
    "duration": 3113,
    "start_time": "2021-08-16T09:39:45.579Z"
   },
   {
    "duration": 855,
    "start_time": "2021-08-16T09:39:48.695Z"
   },
   {
    "duration": 15,
    "start_time": "2021-08-16T09:39:51.035Z"
   },
   {
    "duration": 15,
    "start_time": "2021-08-16T09:39:53.443Z"
   },
   {
    "duration": 12,
    "start_time": "2021-08-16T09:55:42.427Z"
   },
   {
    "duration": 4059,
    "start_time": "2021-08-16T09:56:32.551Z"
   },
   {
    "duration": 651,
    "start_time": "2021-08-16T09:58:14.535Z"
   },
   {
    "duration": 652,
    "start_time": "2021-08-16T09:58:41.724Z"
   },
   {
    "duration": 309,
    "start_time": "2021-08-16T10:00:20.628Z"
   },
   {
    "duration": 291,
    "start_time": "2021-08-16T10:00:25.431Z"
   },
   {
    "duration": 13,
    "start_time": "2021-08-16T10:00:36.931Z"
   },
   {
    "duration": 994,
    "start_time": "2021-08-16T10:00:38.679Z"
   },
   {
    "duration": 477,
    "start_time": "2021-08-16T10:01:02.279Z"
   },
   {
    "duration": 602,
    "start_time": "2021-08-16T10:04:34.116Z"
   },
   {
    "duration": 115,
    "start_time": "2021-08-16T10:05:00.840Z"
   },
   {
    "duration": 420,
    "start_time": "2021-08-16T10:05:06.820Z"
   },
   {
    "duration": 312,
    "start_time": "2021-08-16T10:05:48.800Z"
   },
   {
    "duration": 69568,
    "start_time": "2021-08-16T10:07:05.580Z"
   },
   {
    "duration": 950,
    "start_time": "2021-08-16T12:29:23.839Z"
   },
   {
    "duration": 15,
    "start_time": "2021-08-16T12:29:27.599Z"
   },
   {
    "duration": 32,
    "start_time": "2021-08-16T12:29:28.263Z"
   },
   {
    "duration": 11,
    "start_time": "2021-08-16T12:29:31.079Z"
   },
   {
    "duration": 19,
    "start_time": "2021-08-16T12:29:31.835Z"
   },
   {
    "duration": 23,
    "start_time": "2021-08-16T12:29:32.579Z"
   },
   {
    "duration": 7,
    "start_time": "2021-08-16T12:29:33.235Z"
   },
   {
    "duration": 1888,
    "start_time": "2021-08-16T12:29:35.163Z"
   },
   {
    "duration": 535,
    "start_time": "2021-08-16T12:29:38.355Z"
   },
   {
    "duration": 661,
    "start_time": "2021-08-16T12:29:40.691Z"
   },
   {
    "duration": 13,
    "start_time": "2021-08-16T12:29:43.035Z"
   },
   {
    "duration": 73371,
    "start_time": "2021-08-16T12:29:44.415Z"
   },
   {
    "duration": 476,
    "start_time": "2021-08-16T12:31:14.959Z"
   },
   {
    "duration": 421,
    "start_time": "2021-08-16T12:31:48.684Z"
   },
   {
    "duration": 292,
    "start_time": "2021-08-16T12:32:07.760Z"
   },
   {
    "duration": 550,
    "start_time": "2021-08-16T12:32:29.016Z"
   },
   {
    "duration": 334,
    "start_time": "2021-08-16T12:32:38.215Z"
   },
   {
    "duration": 355,
    "start_time": "2021-08-16T12:34:21.588Z"
   },
   {
    "duration": 336,
    "start_time": "2021-08-16T12:34:30.476Z"
   },
   {
    "duration": -318,
    "start_time": "2021-08-16T12:36:41.379Z"
   },
   {
    "duration": 337,
    "start_time": "2021-08-16T12:37:02.148Z"
   },
   {
    "duration": 283,
    "start_time": "2021-08-16T12:37:16.000Z"
   },
   {
    "duration": 346,
    "start_time": "2021-08-16T12:41:55.132Z"
   },
   {
    "duration": 389,
    "start_time": "2021-08-16T12:43:08.833Z"
   },
   {
    "duration": 321,
    "start_time": "2021-08-16T12:43:52.209Z"
   },
   {
    "duration": 290,
    "start_time": "2021-08-16T12:44:02.137Z"
   },
   {
    "duration": 290,
    "start_time": "2021-08-16T12:44:26.298Z"
   },
   {
    "duration": 319,
    "start_time": "2021-08-16T12:45:54.141Z"
   },
   {
    "duration": 294,
    "start_time": "2021-08-16T12:47:37.277Z"
   },
   {
    "duration": 559,
    "start_time": "2021-08-16T12:48:12.369Z"
   },
   {
    "duration": 798,
    "start_time": "2021-08-16T12:48:24.306Z"
   },
   {
    "duration": 14307,
    "start_time": "2021-08-16T12:48:42.722Z"
   },
   {
    "duration": 661,
    "start_time": "2021-08-16T12:49:07.709Z"
   },
   {
    "duration": 3197,
    "start_time": "2021-08-16T12:49:15.437Z"
   },
   {
    "duration": 1435,
    "start_time": "2021-08-16T12:49:54.225Z"
   },
   {
    "duration": 61619,
    "start_time": "2021-08-16T12:55:34.086Z"
   },
   {
    "duration": 666,
    "start_time": "2021-08-16T12:56:53.562Z"
   },
   {
    "duration": 646,
    "start_time": "2021-08-16T12:58:00.046Z"
   },
   {
    "duration": 656,
    "start_time": "2021-08-16T12:58:25.410Z"
   },
   {
    "duration": 1277,
    "start_time": "2021-08-16T12:58:48.823Z"
   },
   {
    "duration": 727,
    "start_time": "2021-08-16T12:59:14.930Z"
   },
   {
    "duration": -373,
    "start_time": "2021-08-16T13:00:38.910Z"
   },
   {
    "duration": 14,
    "start_time": "2021-08-16T13:00:51.759Z"
   },
   {
    "duration": 978,
    "start_time": "2021-08-17T19:40:31.797Z"
   },
   {
    "duration": 16,
    "start_time": "2021-08-17T19:40:35.109Z"
   },
   {
    "duration": 34,
    "start_time": "2021-08-17T19:40:35.528Z"
   },
   {
    "duration": 12,
    "start_time": "2021-08-17T19:40:37.681Z"
   },
   {
    "duration": 30,
    "start_time": "2021-08-17T19:40:38.281Z"
   },
   {
    "duration": 18,
    "start_time": "2021-08-17T19:40:38.973Z"
   },
   {
    "duration": 7,
    "start_time": "2021-08-17T19:40:39.513Z"
   },
   {
    "duration": 1800,
    "start_time": "2021-08-17T19:40:41.101Z"
   },
   {
    "duration": 827,
    "start_time": "2021-08-17T19:40:43.257Z"
   },
   {
    "duration": 627,
    "start_time": "2021-08-17T19:40:45.613Z"
   },
   {
    "duration": 12,
    "start_time": "2021-08-17T19:40:47.433Z"
   },
   {
    "duration": 47623,
    "start_time": "2021-08-17T19:40:49.397Z"
   },
   {
    "duration": 47580,
    "start_time": "2021-08-17T19:47:14.489Z"
   },
   {
    "duration": 318,
    "start_time": "2021-08-17T19:51:11.394Z"
   },
   {
    "duration": 10,
    "start_time": "2021-08-17T19:51:14.477Z"
   },
   {
    "duration": 8,
    "start_time": "2021-08-17T19:51:20.758Z"
   },
   {
    "duration": 4,
    "start_time": "2021-08-17T19:53:30.014Z"
   },
   {
    "duration": 34,
    "start_time": "2021-08-17T19:53:36.897Z"
   },
   {
    "duration": 11,
    "start_time": "2021-08-17T19:53:57.314Z"
   },
   {
    "duration": 9,
    "start_time": "2021-08-17T19:54:04.542Z"
   },
   {
    "duration": 13,
    "start_time": "2021-08-17T19:54:25.881Z"
   },
   {
    "duration": 11,
    "start_time": "2021-08-17T19:54:30.682Z"
   },
   {
    "duration": 250,
    "start_time": "2021-08-17T19:57:55.722Z"
   },
   {
    "duration": 35,
    "start_time": "2021-08-17T19:58:17.658Z"
   },
   {
    "duration": 26,
    "start_time": "2021-08-17T19:58:49.750Z"
   },
   {
    "duration": 26,
    "start_time": "2021-08-17T19:58:59.166Z"
   },
   {
    "duration": 280,
    "start_time": "2021-08-17T20:01:33.798Z"
   },
   {
    "duration": 69,
    "start_time": "2021-08-17T20:01:47.726Z"
   },
   {
    "duration": 293,
    "start_time": "2021-08-17T20:02:03.337Z"
   },
   {
    "duration": 329,
    "start_time": "2021-08-17T20:02:12.186Z"
   },
   {
    "duration": 89,
    "start_time": "2021-08-17T20:04:03.538Z"
   },
   {
    "duration": 21,
    "start_time": "2021-08-17T20:04:10.255Z"
   },
   {
    "duration": 21,
    "start_time": "2021-08-17T20:04:21.278Z"
   },
   {
    "duration": 96,
    "start_time": "2021-08-17T20:04:30.218Z"
   },
   {
    "duration": 22,
    "start_time": "2021-08-17T20:04:38.262Z"
   },
   {
    "duration": 286,
    "start_time": "2021-08-17T20:05:29.022Z"
   },
   {
    "duration": 257,
    "start_time": "2021-08-17T20:05:40.327Z"
   },
   {
    "duration": 21,
    "start_time": "2021-08-17T20:05:54.018Z"
   },
   {
    "duration": 319,
    "start_time": "2021-08-17T20:06:47.450Z"
   },
   {
    "duration": 19,
    "start_time": "2021-08-17T20:06:55.958Z"
   },
   {
    "duration": 18,
    "start_time": "2021-08-17T20:07:03.374Z"
   },
   {
    "duration": 20,
    "start_time": "2021-08-17T20:07:10.314Z"
   },
   {
    "duration": 242,
    "start_time": "2021-08-17T20:08:20.898Z"
   },
   {
    "duration": 1096,
    "start_time": "2021-08-17T20:09:24.643Z"
   },
   {
    "duration": 339,
    "start_time": "2021-08-17T20:13:04.390Z"
   },
   {
    "duration": 236,
    "start_time": "2021-08-17T20:13:29.818Z"
   },
   {
    "duration": 19,
    "start_time": "2021-08-17T20:13:42.318Z"
   },
   {
    "duration": 29,
    "start_time": "2021-08-17T20:18:55.819Z"
   },
   {
    "duration": 28,
    "start_time": "2021-08-17T20:20:11.926Z"
   },
   {
    "duration": 279,
    "start_time": "2021-08-17T20:21:29.950Z"
   },
   {
    "duration": 216,
    "start_time": "2021-08-17T20:21:35.023Z"
   },
   {
    "duration": 221,
    "start_time": "2021-08-17T20:21:46.790Z"
   },
   {
    "duration": 227,
    "start_time": "2021-08-17T20:22:05.363Z"
   },
   {
    "duration": 37,
    "start_time": "2021-08-17T20:22:16.819Z"
   },
   {
    "duration": 258,
    "start_time": "2021-08-17T20:22:30.687Z"
   },
   {
    "duration": 28,
    "start_time": "2021-08-17T20:24:23.419Z"
   },
   {
    "duration": 28,
    "start_time": "2021-08-17T20:24:31.883Z"
   },
   {
    "duration": 230,
    "start_time": "2021-08-17T20:24:55.195Z"
   },
   {
    "duration": 11,
    "start_time": "2021-08-17T20:25:08.830Z"
   },
   {
    "duration": 28,
    "start_time": "2021-08-17T20:25:30.075Z"
   },
   {
    "duration": 264,
    "start_time": "2021-08-17T20:25:40.397Z"
   },
   {
    "duration": 218,
    "start_time": "2021-08-17T20:25:52.463Z"
   },
   {
    "duration": 34,
    "start_time": "2021-08-17T20:27:05.799Z"
   },
   {
    "duration": 40,
    "start_time": "2021-08-17T20:28:21.007Z"
   },
   {
    "duration": 26,
    "start_time": "2021-08-17T20:28:30.963Z"
   },
   {
    "duration": 286,
    "start_time": "2021-08-17T20:29:00.047Z"
   },
   {
    "duration": 12,
    "start_time": "2021-08-17T20:29:11.168Z"
   },
   {
    "duration": 12,
    "start_time": "2021-08-17T20:29:20.371Z"
   },
   {
    "duration": 320,
    "start_time": "2021-08-17T20:29:39.167Z"
   },
   {
    "duration": 12,
    "start_time": "2021-08-17T20:29:53.911Z"
   },
   {
    "duration": 374,
    "start_time": "2021-08-17T20:31:32.727Z"
   },
   {
    "duration": 25,
    "start_time": "2021-08-17T20:34:16.215Z"
   },
   {
    "duration": 25,
    "start_time": "2021-08-17T20:34:28.995Z"
   },
   {
    "duration": 26,
    "start_time": "2021-08-17T20:34:37.487Z"
   },
   {
    "duration": 28,
    "start_time": "2021-08-17T20:34:43.647Z"
   },
   {
    "duration": 26,
    "start_time": "2021-08-17T20:34:51.638Z"
   },
   {
    "duration": 26,
    "start_time": "2021-08-17T20:36:42.223Z"
   },
   {
    "duration": 25,
    "start_time": "2021-08-17T20:36:56.143Z"
   },
   {
    "duration": 40,
    "start_time": "2021-08-17T20:37:53.088Z"
   },
   {
    "duration": 42,
    "start_time": "2021-08-17T20:38:37.395Z"
   },
   {
    "duration": 29,
    "start_time": "2021-08-17T20:38:43.775Z"
   },
   {
    "duration": 12,
    "start_time": "2021-08-17T20:39:14.635Z"
   },
   {
    "duration": 26,
    "start_time": "2021-08-17T20:39:33.295Z"
   },
   {
    "duration": 24,
    "start_time": "2021-08-17T20:39:56.015Z"
   },
   {
    "duration": 32,
    "start_time": "2021-08-17T20:40:15.719Z"
   },
   {
    "duration": 32,
    "start_time": "2021-08-17T20:40:26.171Z"
   },
   {
    "duration": 371,
    "start_time": "2021-08-17T20:43:08.815Z"
   },
   {
    "duration": 11,
    "start_time": "2021-08-17T20:43:16.827Z"
   },
   {
    "duration": 9,
    "start_time": "2021-08-17T20:46:08.552Z"
   },
   {
    "duration": 14,
    "start_time": "2021-08-17T20:46:49.684Z"
   },
   {
    "duration": 11,
    "start_time": "2021-08-17T20:46:57.588Z"
   },
   {
    "duration": 104,
    "start_time": "2021-08-17T20:47:13.819Z"
   },
   {
    "duration": 12,
    "start_time": "2021-08-17T20:47:41.961Z"
   },
   {
    "duration": 10,
    "start_time": "2021-08-17T20:47:51.668Z"
   },
   {
    "duration": 11,
    "start_time": "2021-08-17T20:47:57.755Z"
   },
   {
    "duration": 11,
    "start_time": "2021-08-17T20:48:03.440Z"
   },
   {
    "duration": 23,
    "start_time": "2021-08-17T20:48:44.972Z"
   },
   {
    "duration": 314,
    "start_time": "2021-08-17T20:50:08.668Z"
   },
   {
    "duration": 21,
    "start_time": "2021-08-17T20:52:35.144Z"
   },
   {
    "duration": 23,
    "start_time": "2021-08-17T20:52:49.576Z"
   },
   {
    "duration": 49,
    "start_time": "2021-08-17T20:54:54.248Z"
   },
   {
    "duration": 17,
    "start_time": "2021-08-17T20:56:54.992Z"
   },
   {
    "duration": 250,
    "start_time": "2021-08-17T20:57:24.684Z"
   },
   {
    "duration": 14,
    "start_time": "2021-08-17T20:58:34.652Z"
   },
   {
    "duration": 269,
    "start_time": "2021-08-17T20:58:57.937Z"
   },
   {
    "duration": 233,
    "start_time": "2021-08-17T20:59:19.640Z"
   },
   {
    "duration": 276,
    "start_time": "2021-08-17T20:59:33.428Z"
   },
   {
    "duration": 324,
    "start_time": "2021-08-17T20:59:46.916Z"
   },
   {
    "duration": 47,
    "start_time": "2021-08-17T20:59:49.384Z"
   },
   {
    "duration": 18,
    "start_time": "2021-08-17T20:59:50.317Z"
   },
   {
    "duration": 35,
    "start_time": "2021-08-17T21:03:07.401Z"
   },
   {
    "duration": 7,
    "start_time": "2021-08-17T21:03:52.117Z"
   },
   {
    "duration": 34,
    "start_time": "2021-08-17T21:04:07.301Z"
   },
   {
    "duration": 25,
    "start_time": "2021-08-17T21:04:47.381Z"
   },
   {
    "duration": 535,
    "start_time": "2021-08-17T21:06:01.013Z"
   },
   {
    "duration": 28,
    "start_time": "2021-08-17T21:06:39.637Z"
   },
   {
    "duration": 29,
    "start_time": "2021-08-17T21:07:35.642Z"
   },
   {
    "duration": 414,
    "start_time": "2021-08-17T21:08:06.913Z"
   },
   {
    "duration": 413,
    "start_time": "2021-08-17T21:09:24.933Z"
   },
   {
    "duration": 188,
    "start_time": "2021-08-17T21:09:33.265Z"
   },
   {
    "duration": 4172,
    "start_time": "2021-08-17T21:10:03.378Z"
   },
   {
    "duration": 289,
    "start_time": "2021-08-17T21:10:15.681Z"
   },
   {
    "duration": 42865,
    "start_time": "2021-08-17T21:10:37.122Z"
   },
   {
    "duration": 3641,
    "start_time": "2021-08-17T21:12:29.998Z"
   },
   {
    "duration": 525,
    "start_time": "2021-08-17T21:14:22.190Z"
   },
   {
    "duration": 104,
    "start_time": "2021-08-17T21:17:24.286Z"
   },
   {
    "duration": 15,
    "start_time": "2021-08-17T21:17:26.890Z"
   },
   {
    "duration": 26,
    "start_time": "2021-08-17T21:17:27.494Z"
   },
   {
    "duration": 5,
    "start_time": "2021-08-17T21:17:29.982Z"
   },
   {
    "duration": 20,
    "start_time": "2021-08-17T21:17:30.542Z"
   },
   {
    "duration": 17,
    "start_time": "2021-08-17T21:17:31.126Z"
   },
   {
    "duration": 7,
    "start_time": "2021-08-17T21:17:31.678Z"
   },
   {
    "duration": 1701,
    "start_time": "2021-08-17T21:17:33.286Z"
   },
   {
    "duration": 522,
    "start_time": "2021-08-17T21:17:34.990Z"
   },
   {
    "duration": 577,
    "start_time": "2021-08-17T21:17:36.370Z"
   },
   {
    "duration": 11,
    "start_time": "2021-08-17T21:17:38.766Z"
   },
   {
    "duration": 46634,
    "start_time": "2021-08-17T21:17:40.315Z"
   },
   {
    "duration": 9,
    "start_time": "2021-08-17T21:18:26.953Z"
   },
   {
    "duration": 46,
    "start_time": "2021-08-17T21:18:26.984Z"
   },
   {
    "duration": 18,
    "start_time": "2021-08-17T21:18:27.033Z"
   },
   {
    "duration": 583,
    "start_time": "2021-08-17T21:18:27.053Z"
   },
   {
    "duration": 1025,
    "start_time": "2021-08-18T21:00:34.751Z"
   },
   {
    "duration": 16,
    "start_time": "2021-08-18T21:00:55.326Z"
   },
   {
    "duration": 29,
    "start_time": "2021-08-18T21:00:55.922Z"
   },
   {
    "duration": 27,
    "start_time": "2021-08-18T21:06:43.867Z"
   },
   {
    "duration": 24,
    "start_time": "2021-08-18T21:07:50.251Z"
   },
   {
    "duration": 567,
    "start_time": "2021-08-18T21:08:11.951Z"
   },
   {
    "duration": 448,
    "start_time": "2021-08-18T21:09:32.766Z"
   },
   {
    "duration": 401,
    "start_time": "2021-08-18T21:09:53.103Z"
   },
   {
    "duration": 22,
    "start_time": "2021-08-18T21:10:29.687Z"
   },
   {
    "duration": 46,
    "start_time": "2021-08-18T21:12:37.767Z"
   },
   {
    "duration": 43,
    "start_time": "2021-08-18T21:12:58.790Z"
   },
   {
    "duration": 119,
    "start_time": "2021-08-18T21:15:07.103Z"
   },
   {
    "duration": 14,
    "start_time": "2021-08-18T21:15:09.819Z"
   },
   {
    "duration": 50,
    "start_time": "2021-08-18T21:15:10.463Z"
   },
   {
    "duration": 1457,
    "start_time": "2021-08-18T21:15:49.227Z"
   },
   {
    "duration": 1468,
    "start_time": "2021-08-18T21:15:54.923Z"
   },
   {
    "duration": 1450,
    "start_time": "2021-08-18T21:17:10.939Z"
   },
   {
    "duration": 1490,
    "start_time": "2021-08-18T21:18:48.299Z"
   },
   {
    "duration": 1685,
    "start_time": "2021-08-18T21:20:34.243Z"
   },
   {
    "duration": 491,
    "start_time": "2021-08-18T21:20:58.519Z"
   },
   {
    "duration": 402,
    "start_time": "2021-08-18T21:22:52.092Z"
   },
   {
    "duration": 465,
    "start_time": "2021-08-18T21:23:28.291Z"
   },
   {
    "duration": 464,
    "start_time": "2021-08-18T21:23:48.499Z"
   },
   {
    "duration": 480,
    "start_time": "2021-08-18T21:26:02.619Z"
   },
   {
    "duration": 2346,
    "start_time": "2021-08-18T21:27:14.911Z"
   },
   {
    "duration": 2436,
    "start_time": "2021-08-18T21:27:41.051Z"
   },
   {
    "duration": 2463,
    "start_time": "2021-08-18T21:28:52.775Z"
   },
   {
    "duration": 2419,
    "start_time": "2021-08-18T21:29:04.339Z"
   },
   {
    "duration": 114,
    "start_time": "2021-08-18T21:29:21.432Z"
   },
   {
    "duration": 17,
    "start_time": "2021-08-18T21:29:25.036Z"
   },
   {
    "duration": 2497,
    "start_time": "2021-08-18T21:29:26.195Z"
   },
   {
    "duration": 519,
    "start_time": "2021-08-18T21:29:37.183Z"
   },
   {
    "duration": 558,
    "start_time": "2021-08-18T21:29:56.135Z"
   },
   {
    "duration": 117,
    "start_time": "2021-08-18T21:30:11.223Z"
   },
   {
    "duration": 15,
    "start_time": "2021-08-18T21:30:15.915Z"
   },
   {
    "duration": 90,
    "start_time": "2021-08-18T21:30:29.279Z"
   },
   {
    "duration": 68,
    "start_time": "2021-08-18T21:30:35.684Z"
   },
   {
    "duration": 411,
    "start_time": "2021-08-18T21:30:40.182Z"
   },
   {
    "duration": 442,
    "start_time": "2021-08-18T21:30:52.088Z"
   },
   {
    "duration": 2550,
    "start_time": "2021-08-18T21:31:03.579Z"
   },
   {
    "duration": 2352,
    "start_time": "2021-08-18T21:31:25.592Z"
   },
   {
    "duration": 2384,
    "start_time": "2021-08-18T21:31:32.620Z"
   },
   {
    "duration": 70,
    "start_time": "2021-08-18T21:31:37.819Z"
   },
   {
    "duration": 2323,
    "start_time": "2021-08-18T21:31:40.887Z"
   },
   {
    "duration": 77,
    "start_time": "2021-08-18T21:31:54.499Z"
   },
   {
    "duration": 2325,
    "start_time": "2021-08-18T21:32:00.511Z"
   },
   {
    "duration": 109,
    "start_time": "2021-08-18T21:32:13.376Z"
   },
   {
    "duration": 94,
    "start_time": "2021-08-18T21:32:25.447Z"
   },
   {
    "duration": 88,
    "start_time": "2021-08-18T21:32:30.351Z"
   },
   {
    "duration": 24,
    "start_time": "2021-08-18T21:32:38.562Z"
   },
   {
    "duration": 501,
    "start_time": "2021-08-18T21:32:40.349Z"
   },
   {
    "duration": 48,
    "start_time": "2021-08-18T21:32:48.648Z"
   },
   {
    "duration": 123,
    "start_time": "2021-08-18T21:32:53.944Z"
   },
   {
    "duration": 15,
    "start_time": "2021-08-18T21:32:58.171Z"
   },
   {
    "duration": 61,
    "start_time": "2021-08-18T21:32:59.003Z"
   },
   {
    "duration": 1508,
    "start_time": "2021-08-18T21:33:02.783Z"
   },
   {
    "duration": 107,
    "start_time": "2021-08-18T21:33:13.880Z"
   },
   {
    "duration": 112,
    "start_time": "2021-08-18T21:33:22.047Z"
   },
   {
    "duration": 14,
    "start_time": "2021-08-18T21:33:25.387Z"
   },
   {
    "duration": 105,
    "start_time": "2021-08-18T21:33:26.100Z"
   },
   {
    "duration": 55,
    "start_time": "2021-08-18T21:33:59.560Z"
   },
   {
    "duration": 15,
    "start_time": "2021-08-18T21:34:02.887Z"
   },
   {
    "duration": 55,
    "start_time": "2021-08-18T21:34:03.492Z"
   },
   {
    "duration": 112,
    "start_time": "2021-08-18T21:34:12.699Z"
   },
   {
    "duration": 16,
    "start_time": "2021-08-18T21:34:15.924Z"
   },
   {
    "duration": 66,
    "start_time": "2021-08-18T21:34:17.452Z"
   },
   {
    "duration": 27,
    "start_time": "2021-08-18T21:34:25.192Z"
   },
   {
    "duration": 1584,
    "start_time": "2021-08-18T21:34:33.371Z"
   },
   {
    "duration": 1784,
    "start_time": "2021-08-18T21:34:54.936Z"
   },
   {
    "duration": 2696,
    "start_time": "2021-08-18T21:35:27.260Z"
   },
   {
    "duration": 1597,
    "start_time": "2021-08-18T21:36:07.704Z"
   },
   {
    "duration": 3877,
    "start_time": "2021-08-18T21:36:32.736Z"
   },
   {
    "duration": 13,
    "start_time": "2021-08-18T21:39:51.108Z"
   },
   {
    "duration": 21,
    "start_time": "2021-08-18T21:39:51.676Z"
   },
   {
    "duration": 18,
    "start_time": "2021-08-18T21:39:52.300Z"
   },
   {
    "duration": 8,
    "start_time": "2021-08-18T21:39:53.227Z"
   },
   {
    "duration": 2227,
    "start_time": "2021-08-18T21:41:04.848Z"
   },
   {
    "duration": 2341,
    "start_time": "2021-08-18T21:41:18.937Z"
   },
   {
    "duration": 1205,
    "start_time": "2021-08-18T21:41:27.896Z"
   },
   {
    "duration": 12790,
    "start_time": "2021-08-18T21:41:33.096Z"
   },
   {
    "duration": 2421,
    "start_time": "2021-08-18T21:42:03.384Z"
   },
   {
    "duration": 694,
    "start_time": "2021-08-18T21:44:06.776Z"
   },
   {
    "duration": 1645,
    "start_time": "2021-08-18T21:44:31.545Z"
   },
   {
    "duration": 416,
    "start_time": "2021-08-18T21:54:49.569Z"
   },
   {
    "duration": 2146,
    "start_time": "2021-08-18T21:54:57.669Z"
   },
   {
    "duration": 870,
    "start_time": "2021-08-18T21:55:00.245Z"
   },
   {
    "duration": 1768,
    "start_time": "2021-08-18T21:55:01.925Z"
   },
   {
    "duration": 14,
    "start_time": "2021-08-18T21:55:05.489Z"
   },
   {
    "duration": 289,
    "start_time": "2021-08-18T21:55:07.457Z"
   },
   {
    "duration": 49298,
    "start_time": "2021-08-18T21:55:10.193Z"
   },
   {
    "duration": 325,
    "start_time": "2021-08-18T21:55:59.494Z"
   },
   {
    "duration": 451,
    "start_time": "2021-08-18T21:55:59.822Z"
   },
   {
    "duration": 1435,
    "start_time": "2021-08-18T21:57:23.542Z"
   },
   {
    "duration": 803,
    "start_time": "2021-08-18T21:57:35.373Z"
   },
   {
    "duration": 408,
    "start_time": "2021-08-18T21:57:47.309Z"
   },
   {
    "duration": 402,
    "start_time": "2021-08-18T21:57:54.137Z"
   },
   {
    "duration": 721,
    "start_time": "2021-08-18T21:58:01.881Z"
   },
   {
    "duration": 392,
    "start_time": "2021-08-18T21:58:27.005Z"
   },
   {
    "duration": 390,
    "start_time": "2021-08-18T21:59:31.537Z"
   },
   {
    "duration": 449,
    "start_time": "2021-08-18T22:00:16.325Z"
   },
   {
    "duration": 420,
    "start_time": "2021-08-18T22:01:19.357Z"
   },
   {
    "duration": 422,
    "start_time": "2021-08-18T22:01:27.449Z"
   },
   {
    "duration": 281,
    "start_time": "2021-08-18T22:01:36.621Z"
   },
   {
    "duration": 403,
    "start_time": "2021-08-18T22:01:52.301Z"
   },
   {
    "duration": 1432,
    "start_time": "2021-08-18T22:02:31.481Z"
   },
   {
    "duration": 1002,
    "start_time": "2021-08-18T22:04:49.569Z"
   },
   {
    "duration": 393,
    "start_time": "2021-08-18T22:05:00.221Z"
   },
   {
    "duration": 284,
    "start_time": "2021-08-18T22:05:47.429Z"
   },
   {
    "duration": 364,
    "start_time": "2021-08-18T22:09:23.037Z"
   },
   {
    "duration": 419,
    "start_time": "2021-08-18T22:09:38.953Z"
   },
   {
    "duration": 402,
    "start_time": "2021-08-18T22:09:59.413Z"
   },
   {
    "duration": 275,
    "start_time": "2021-08-18T22:10:07.210Z"
   },
   {
    "duration": 307,
    "start_time": "2021-08-18T22:10:50.050Z"
   },
   {
    "duration": 48531,
    "start_time": "2021-08-18T22:11:36.185Z"
   },
   {
    "duration": 987,
    "start_time": "2021-08-18T22:13:40.454Z"
   },
   {
    "duration": 912,
    "start_time": "2021-08-18T22:14:34.458Z"
   },
   {
    "duration": 48665,
    "start_time": "2021-08-18T22:14:46.049Z"
   },
   {
    "duration": 860,
    "start_time": "2021-08-18T22:17:35.358Z"
   },
   {
    "duration": 343,
    "start_time": "2021-08-18T22:18:09.157Z"
   },
   {
    "duration": 1038,
    "start_time": "2021-08-18T22:21:28.394Z"
   },
   {
    "duration": 15,
    "start_time": "2021-08-18T22:21:33.470Z"
   },
   {
    "duration": 41,
    "start_time": "2021-08-18T22:21:33.918Z"
   },
   {
    "duration": 3803,
    "start_time": "2021-08-18T22:21:34.434Z"
   },
   {
    "duration": 18,
    "start_time": "2021-08-18T22:21:38.241Z"
   },
   {
    "duration": 34,
    "start_time": "2021-08-18T22:21:38.263Z"
   },
   {
    "duration": 18,
    "start_time": "2021-08-18T22:21:38.300Z"
   },
   {
    "duration": 7,
    "start_time": "2021-08-18T22:21:38.634Z"
   },
   {
    "duration": 2118,
    "start_time": "2021-08-18T22:21:41.546Z"
   },
   {
    "duration": 540,
    "start_time": "2021-08-18T22:21:46.498Z"
   },
   {
    "duration": 1564,
    "start_time": "2021-08-18T22:21:48.806Z"
   },
   {
    "duration": 15,
    "start_time": "2021-08-18T22:21:53.458Z"
   },
   {
    "duration": 295,
    "start_time": "2021-08-18T22:21:56.214Z"
   },
   {
    "duration": 1043,
    "start_time": "2021-08-18T22:21:58.702Z"
   },
   {
    "duration": 127293,
    "start_time": "2021-08-18T22:22:21.762Z"
   },
   {
    "duration": 41158,
    "start_time": "2021-08-18T22:27:17.663Z"
   },
   {
    "duration": 570,
    "start_time": "2021-08-18T22:31:37.235Z"
   },
   {
    "duration": 409,
    "start_time": "2021-08-18T22:33:05.659Z"
   },
   {
    "duration": 40433,
    "start_time": "2021-08-18T22:33:39.459Z"
   },
   {
    "duration": 733,
    "start_time": "2021-08-18T22:35:54.471Z"
   },
   {
    "duration": 42740,
    "start_time": "2021-08-18T22:36:29.987Z"
   },
   {
    "duration": 405,
    "start_time": "2021-08-18T22:50:28.512Z"
   },
   {
    "duration": 45115,
    "start_time": "2021-08-18T22:55:47.596Z"
   },
   {
    "duration": 388,
    "start_time": "2021-08-18T22:57:50.124Z"
   },
   {
    "duration": 409,
    "start_time": "2021-08-18T22:58:03.304Z"
   },
   {
    "duration": 41943,
    "start_time": "2021-08-18T22:58:23.184Z"
   },
   {
    "duration": 1166,
    "start_time": "2021-08-18T22:59:47.368Z"
   },
   {
    "duration": 1258,
    "start_time": "2021-08-18T23:00:02.033Z"
   },
   {
    "duration": 38486,
    "start_time": "2021-08-18T23:01:14.864Z"
   },
   {
    "duration": 55088,
    "start_time": "2021-08-18T23:02:35.780Z"
   },
   {
    "duration": 55626,
    "start_time": "2021-08-18T23:04:09.061Z"
   },
   {
    "duration": 56190,
    "start_time": "2021-08-18T23:10:34.997Z"
   },
   {
    "duration": 1208,
    "start_time": "2021-08-18T23:12:25.329Z"
   },
   {
    "duration": 410,
    "start_time": "2021-08-18T23:12:33.197Z"
   },
   {
    "duration": 989,
    "start_time": "2021-08-18T23:12:46.581Z"
   },
   {
    "duration": 895,
    "start_time": "2021-08-18T23:13:01.453Z"
   },
   {
    "duration": 11,
    "start_time": "2021-08-18T23:13:52.853Z"
   },
   {
    "duration": 20,
    "start_time": "2021-08-18T23:13:53.261Z"
   },
   {
    "duration": 10,
    "start_time": "2021-08-18T23:14:15.305Z"
   },
   {
    "duration": 28,
    "start_time": "2021-08-18T23:14:16.229Z"
   },
   {
    "duration": 15,
    "start_time": "2021-08-18T23:14:25.909Z"
   },
   {
    "duration": 22,
    "start_time": "2021-08-18T23:14:43.909Z"
   },
   {
    "duration": 13,
    "start_time": "2021-08-18T23:14:58.733Z"
   },
   {
    "duration": 12,
    "start_time": "2021-08-18T23:16:40.129Z"
   },
   {
    "duration": 13,
    "start_time": "2021-08-18T23:16:50.221Z"
   },
   {
    "duration": 24,
    "start_time": "2021-08-18T23:20:20.745Z"
   },
   {
    "duration": 23,
    "start_time": "2021-08-18T23:20:49.410Z"
   },
   {
    "duration": 24,
    "start_time": "2021-08-18T23:21:18.858Z"
   },
   {
    "duration": 3946,
    "start_time": "2021-08-18T23:24:03.913Z"
   },
   {
    "duration": 988,
    "start_time": "2021-08-18T23:24:27.782Z"
   },
   {
    "duration": 17,
    "start_time": "2021-08-18T23:24:32.182Z"
   },
   {
    "duration": 40,
    "start_time": "2021-08-18T23:24:32.726Z"
   },
   {
    "duration": 3750,
    "start_time": "2021-08-18T23:24:33.306Z"
   },
   {
    "duration": 3777,
    "start_time": "2021-08-18T23:24:53.114Z"
   },
   {
    "duration": 14,
    "start_time": "2021-08-18T23:25:00.762Z"
   },
   {
    "duration": 21,
    "start_time": "2021-08-18T23:25:01.358Z"
   },
   {
    "duration": 19,
    "start_time": "2021-08-18T23:25:01.838Z"
   },
   {
    "duration": 8,
    "start_time": "2021-08-18T23:25:02.322Z"
   },
   {
    "duration": 2132,
    "start_time": "2021-08-18T23:25:04.330Z"
   },
   {
    "duration": 563,
    "start_time": "2021-08-18T23:25:07.074Z"
   },
   {
    "duration": 1628,
    "start_time": "2021-08-18T23:25:08.538Z"
   },
   {
    "duration": 30,
    "start_time": "2021-08-18T23:25:10.170Z"
   },
   {
    "duration": 297,
    "start_time": "2021-08-18T23:25:11.498Z"
   },
   {
    "duration": 961,
    "start_time": "2021-08-18T23:25:12.894Z"
   },
   {
    "duration": 1251,
    "start_time": "2021-08-18T23:25:13.859Z"
   },
   {
    "duration": 918,
    "start_time": "2021-08-18T23:25:15.115Z"
   },
   {
    "duration": 11,
    "start_time": "2021-08-18T23:25:16.162Z"
   },
   {
    "duration": 9,
    "start_time": "2021-08-18T23:25:22.182Z"
   },
   {
    "duration": 17,
    "start_time": "2021-08-18T23:25:22.914Z"
   },
   {
    "duration": 4317,
    "start_time": "2021-08-18T23:25:45.211Z"
   },
   {
    "duration": 3762,
    "start_time": "2021-08-18T23:25:56.687Z"
   },
   {
    "duration": 17,
    "start_time": "2021-08-18T23:26:03.286Z"
   },
   {
    "duration": 13,
    "start_time": "2021-08-18T23:26:31.582Z"
   },
   {
    "duration": 13,
    "start_time": "2021-08-18T23:26:36.558Z"
   },
   {
    "duration": 389,
    "start_time": "2021-08-18T23:27:04.326Z"
   },
   {
    "duration": 1036,
    "start_time": "2021-08-19T08:48:59.268Z"
   },
   {
    "duration": 15,
    "start_time": "2021-08-19T08:49:02.332Z"
   },
   {
    "duration": 38,
    "start_time": "2021-08-19T08:49:03.244Z"
   },
   {
    "duration": 3954,
    "start_time": "2021-08-19T08:49:03.484Z"
   },
   {
    "duration": 13,
    "start_time": "2021-08-19T08:49:07.442Z"
   },
   {
    "duration": 20,
    "start_time": "2021-08-19T08:49:07.458Z"
   },
   {
    "duration": 40,
    "start_time": "2021-08-19T08:49:07.481Z"
   },
   {
    "duration": 8,
    "start_time": "2021-08-19T08:49:07.523Z"
   },
   {
    "duration": 2284,
    "start_time": "2021-08-19T08:49:07.534Z"
   },
   {
    "duration": 552,
    "start_time": "2021-08-19T08:49:09.821Z"
   },
   {
    "duration": 1792,
    "start_time": "2021-08-19T08:49:10.377Z"
   },
   {
    "duration": 29,
    "start_time": "2021-08-19T08:49:12.171Z"
   },
   {
    "duration": 321,
    "start_time": "2021-08-19T08:49:12.210Z"
   },
   {
    "duration": 999,
    "start_time": "2021-08-19T08:49:12.534Z"
   },
   {
    "duration": 1351,
    "start_time": "2021-08-19T08:49:13.536Z"
   },
   {
    "duration": 961,
    "start_time": "2021-08-19T08:49:14.890Z"
   },
   {
    "duration": 11,
    "start_time": "2021-08-19T08:49:18.136Z"
   },
   {
    "duration": 15,
    "start_time": "2021-08-19T08:49:18.948Z"
   },
   {
    "duration": 474,
    "start_time": "2021-08-19T08:49:20.244Z"
   },
   {
    "duration": 23,
    "start_time": "2021-08-19T08:49:28.280Z"
   },
   {
    "duration": 455,
    "start_time": "2021-08-19T08:49:58.644Z"
   },
   {
    "duration": 20,
    "start_time": "2021-08-19T08:50:10.132Z"
   },
   {
    "duration": 4346,
    "start_time": "2021-08-19T08:55:44.097Z"
   },
   {
    "duration": 3998,
    "start_time": "2021-08-19T08:56:19.996Z"
   },
   {
    "duration": 5,
    "start_time": "2021-08-19T08:56:26.449Z"
   },
   {
    "duration": 17,
    "start_time": "2021-08-19T08:56:26.593Z"
   },
   {
    "duration": 21,
    "start_time": "2021-08-19T08:56:26.764Z"
   },
   {
    "duration": 6,
    "start_time": "2021-08-19T08:56:26.836Z"
   },
   {
    "duration": 2169,
    "start_time": "2021-08-19T08:56:27.380Z"
   },
   {
    "duration": 720,
    "start_time": "2021-08-19T08:56:29.552Z"
   },
   {
    "duration": 1709,
    "start_time": "2021-08-19T08:56:30.275Z"
   },
   {
    "duration": 27,
    "start_time": "2021-08-19T08:56:31.987Z"
   },
   {
    "duration": 347,
    "start_time": "2021-08-19T08:56:32.017Z"
   },
   {
    "duration": 961,
    "start_time": "2021-08-19T08:56:32.366Z"
   },
   {
    "duration": 1593,
    "start_time": "2021-08-19T08:56:33.330Z"
   },
   {
    "duration": 977,
    "start_time": "2021-08-19T08:56:34.927Z"
   },
   {
    "duration": 14,
    "start_time": "2021-08-19T08:56:35.908Z"
   },
   {
    "duration": 10,
    "start_time": "2021-08-19T08:56:45.876Z"
   },
   {
    "duration": 15,
    "start_time": "2021-08-19T08:56:46.688Z"
   },
   {
    "duration": 35,
    "start_time": "2021-08-19T08:56:56.293Z"
   },
   {
    "duration": 21,
    "start_time": "2021-08-19T08:57:17.372Z"
   },
   {
    "duration": 429,
    "start_time": "2021-08-19T08:57:40.413Z"
   },
   {
    "duration": 410,
    "start_time": "2021-08-19T08:59:41.965Z"
   },
   {
    "duration": 411,
    "start_time": "2021-08-19T08:59:59.436Z"
   },
   {
    "duration": 396,
    "start_time": "2021-08-19T09:00:37.145Z"
   },
   {
    "duration": 45,
    "start_time": "2021-08-19T09:01:08.009Z"
   },
   {
    "duration": 406,
    "start_time": "2021-08-19T09:02:06.713Z"
   },
   {
    "duration": 405,
    "start_time": "2021-08-19T09:02:18.053Z"
   },
   {
    "duration": 395,
    "start_time": "2021-08-19T09:02:33.581Z"
   },
   {
    "duration": 21,
    "start_time": "2021-08-19T09:02:40.040Z"
   },
   {
    "duration": 413,
    "start_time": "2021-08-19T09:02:42.185Z"
   },
   {
    "duration": 94,
    "start_time": "2021-08-19T09:03:02.545Z"
   },
   {
    "duration": 406,
    "start_time": "2021-08-19T09:03:21.386Z"
   },
   {
    "duration": 124,
    "start_time": "2021-08-19T09:03:49.193Z"
   },
   {
    "duration": 126,
    "start_time": "2021-08-19T09:04:01.449Z"
   },
   {
    "duration": 362,
    "start_time": "2021-08-19T09:04:09.925Z"
   },
   {
    "duration": 378,
    "start_time": "2021-08-19T09:04:17.969Z"
   },
   {
    "duration": 14,
    "start_time": "2021-08-19T09:05:22.937Z"
   },
   {
    "duration": 410,
    "start_time": "2021-08-19T09:05:48.457Z"
   },
   {
    "duration": 488,
    "start_time": "2021-08-19T09:06:03.465Z"
   },
   {
    "duration": 23,
    "start_time": "2021-08-19T09:06:12.213Z"
   },
   {
    "duration": 410,
    "start_time": "2021-08-19T09:06:14.549Z"
   },
   {
    "duration": 478,
    "start_time": "2021-08-19T09:07:04.857Z"
   },
   {
    "duration": 378,
    "start_time": "2021-08-19T09:07:12.117Z"
   },
   {
    "duration": 465,
    "start_time": "2021-08-19T09:07:39.025Z"
   },
   {
    "duration": 420,
    "start_time": "2021-08-19T09:08:52.229Z"
   },
   {
    "duration": 38,
    "start_time": "2021-08-19T09:09:31.606Z"
   },
   {
    "duration": 37,
    "start_time": "2021-08-19T09:09:42.141Z"
   },
   {
    "duration": 523,
    "start_time": "2021-08-19T09:09:57.953Z"
   },
   {
    "duration": 39,
    "start_time": "2021-08-19T09:10:08.114Z"
   },
   {
    "duration": 404,
    "start_time": "2021-08-19T09:10:25.237Z"
   },
   {
    "duration": 395,
    "start_time": "2021-08-19T09:10:41.321Z"
   },
   {
    "duration": 10292,
    "start_time": "2021-08-19T09:10:48.645Z"
   },
   {
    "duration": 411,
    "start_time": "2021-08-19T09:11:33.909Z"
   },
   {
    "duration": 354,
    "start_time": "2021-08-19T09:11:46.934Z"
   },
   {
    "duration": 319,
    "start_time": "2021-08-19T09:12:38.654Z"
   },
   {
    "duration": 477,
    "start_time": "2021-08-19T09:13:05.258Z"
   },
   {
    "duration": 338,
    "start_time": "2021-08-19T09:13:16.806Z"
   },
   {
    "duration": 10029,
    "start_time": "2021-08-19T09:13:48.793Z"
   },
   {
    "duration": 9830,
    "start_time": "2021-08-19T09:14:42.010Z"
   },
   {
    "duration": 426,
    "start_time": "2021-08-19T09:15:11.113Z"
   },
   {
    "duration": 839,
    "start_time": "2021-08-19T09:18:19.238Z"
   },
   {
    "duration": 405,
    "start_time": "2021-08-19T09:18:25.341Z"
   },
   {
    "duration": 2064,
    "start_time": "2021-08-19T09:18:44.181Z"
   },
   {
    "duration": 679,
    "start_time": "2021-08-19T09:19:21.429Z"
   },
   {
    "duration": 1585,
    "start_time": "2021-08-19T09:19:38.393Z"
   },
   {
    "duration": 7,
    "start_time": "2021-08-19T09:22:44.202Z"
   },
   {
    "duration": 2128,
    "start_time": "2021-08-19T09:23:54.466Z"
   },
   {
    "duration": 1979,
    "start_time": "2021-08-19T09:24:13.957Z"
   },
   {
    "duration": 1813,
    "start_time": "2021-08-19T09:24:21.566Z"
   },
   {
    "duration": 1601,
    "start_time": "2021-08-19T09:24:58.770Z"
   },
   {
    "duration": 10,
    "start_time": "2021-08-19T09:25:11.970Z"
   },
   {
    "duration": 8991,
    "start_time": "2021-08-19T09:25:43.062Z"
   },
   {
    "duration": -830,
    "start_time": "2021-08-19T09:26:40.179Z"
   },
   {
    "duration": 1751,
    "start_time": "2021-08-19T09:26:46.382Z"
   },
   {
    "duration": 10,
    "start_time": "2021-08-19T09:26:49.338Z"
   },
   {
    "duration": 9193,
    "start_time": "2021-08-19T09:27:53.218Z"
   },
   {
    "duration": 9222,
    "start_time": "2021-08-19T09:28:13.426Z"
   },
   {
    "duration": 39,
    "start_time": "2021-08-19T09:28:42.619Z"
   },
   {
    "duration": 13,
    "start_time": "2021-08-19T09:28:50.042Z"
   },
   {
    "duration": 10,
    "start_time": "2021-08-19T09:29:05.394Z"
   },
   {
    "duration": 86,
    "start_time": "2021-08-20T05:39:00.482Z"
   },
   {
    "duration": 737,
    "start_time": "2021-08-23T11:57:26.729Z"
   },
   {
    "duration": 10,
    "start_time": "2021-08-23T11:57:30.044Z"
   },
   {
    "duration": 25,
    "start_time": "2021-08-23T11:57:30.783Z"
   },
   {
    "duration": 2817,
    "start_time": "2021-08-23T11:57:31.408Z"
   },
   {
    "duration": 9,
    "start_time": "2021-08-23T11:57:34.863Z"
   },
   {
    "duration": 14,
    "start_time": "2021-08-23T11:57:35.312Z"
   },
   {
    "duration": 13,
    "start_time": "2021-08-23T11:57:35.783Z"
   },
   {
    "duration": 6,
    "start_time": "2021-08-23T11:57:36.216Z"
   },
   {
    "duration": 1194,
    "start_time": "2021-08-23T11:57:38.046Z"
   },
   {
    "duration": 296,
    "start_time": "2021-08-23T11:57:39.947Z"
   },
   {
    "duration": 856,
    "start_time": "2021-08-23T11:57:41.226Z"
   },
   {
    "duration": 11,
    "start_time": "2021-08-23T11:57:44.481Z"
   },
   {
    "duration": 161,
    "start_time": "2021-08-23T11:57:46.808Z"
   },
   {
    "duration": 628,
    "start_time": "2021-08-23T12:01:04.208Z"
   },
   {
    "duration": 621,
    "start_time": "2021-08-23T12:01:20.061Z"
   },
   {
    "duration": 698,
    "start_time": "2021-08-23T12:02:20.962Z"
   },
   {
    "duration": 719,
    "start_time": "2021-08-23T12:02:33.326Z"
   },
   {
    "duration": 493,
    "start_time": "2021-08-23T12:04:58.758Z"
   },
   {
    "duration": 838,
    "start_time": "2021-08-23T12:09:19.720Z"
   },
   {
    "duration": 10,
    "start_time": "2021-08-23T12:09:23.449Z"
   },
   {
    "duration": 26,
    "start_time": "2021-08-23T12:09:24.613Z"
   },
   {
    "duration": 2813,
    "start_time": "2021-08-23T12:09:25.411Z"
   },
   {
    "duration": 10,
    "start_time": "2021-08-23T12:09:32.686Z"
   },
   {
    "duration": 16,
    "start_time": "2021-08-23T12:09:33.226Z"
   },
   {
    "duration": 13,
    "start_time": "2021-08-23T12:09:33.785Z"
   },
   {
    "duration": 6,
    "start_time": "2021-08-23T12:09:34.360Z"
   },
   {
    "duration": 1197,
    "start_time": "2021-08-23T12:09:36.450Z"
   },
   {
    "duration": 311,
    "start_time": "2021-08-23T12:09:38.636Z"
   },
   {
    "duration": 861,
    "start_time": "2021-08-23T12:09:39.753Z"
   },
   {
    "duration": 11,
    "start_time": "2021-08-23T12:09:43.454Z"
   },
   {
    "duration": 740,
    "start_time": "2021-08-23T12:09:45.412Z"
   },
   {
    "duration": 6612,
    "start_time": "2021-08-23T12:09:51.071Z"
   },
   {
    "duration": 7479,
    "start_time": "2021-08-23T12:10:30.046Z"
   },
   {
    "duration": 6751,
    "start_time": "2021-08-23T12:10:44.955Z"
   },
   {
    "duration": 7377,
    "start_time": "2021-08-23T12:11:17.835Z"
   },
   {
    "duration": 809,
    "start_time": "2021-08-23T12:17:42.698Z"
   },
   {
    "duration": 10,
    "start_time": "2021-08-23T12:17:44.978Z"
   },
   {
    "duration": 24,
    "start_time": "2021-08-23T12:17:45.123Z"
   },
   {
    "duration": 2789,
    "start_time": "2021-08-23T12:17:45.265Z"
   },
   {
    "duration": 9,
    "start_time": "2021-08-23T12:17:48.056Z"
   },
   {
    "duration": 19,
    "start_time": "2021-08-23T12:17:48.066Z"
   },
   {
    "duration": 12,
    "start_time": "2021-08-23T12:17:48.086Z"
   },
   {
    "duration": 5,
    "start_time": "2021-08-23T12:17:48.100Z"
   },
   {
    "duration": 1234,
    "start_time": "2021-08-23T12:17:51.724Z"
   },
   {
    "duration": 304,
    "start_time": "2021-08-23T12:17:53.571Z"
   },
   {
    "duration": 883,
    "start_time": "2021-08-23T12:17:54.430Z"
   },
   {
    "duration": 12,
    "start_time": "2021-08-23T12:17:58.851Z"
   },
   {
    "duration": 732,
    "start_time": "2021-08-23T12:18:00.979Z"
   },
   {
    "duration": 143,
    "start_time": "2021-08-23T12:24:51.090Z"
   },
   {
    "duration": -3189,
    "start_time": "2021-08-23T12:31:01.100Z"
   },
   {
    "duration": 770,
    "start_time": "2021-08-23T12:31:05.461Z"
   },
   {
    "duration": -1516,
    "start_time": "2021-08-23T12:34:24.416Z"
   },
   {
    "duration": 13500,
    "start_time": "2021-08-23T12:34:54.136Z"
   },
   {
    "duration": -1514,
    "start_time": "2021-08-23T12:44:13.155Z"
   },
   {
    "duration": -1515,
    "start_time": "2021-08-23T12:44:13.157Z"
   },
   {
    "duration": -1516,
    "start_time": "2021-08-23T12:44:13.159Z"
   },
   {
    "duration": -1517,
    "start_time": "2021-08-23T12:44:13.161Z"
   },
   {
    "duration": 736,
    "start_time": "2021-08-23T12:44:14.478Z"
   },
   {
    "duration": 683,
    "start_time": "2021-08-23T12:44:17.438Z"
   },
   {
    "duration": 709,
    "start_time": "2021-08-23T12:44:30.193Z"
   },
   {
    "duration": 950,
    "start_time": "2021-08-23T12:45:25.848Z"
   },
   {
    "duration": 10,
    "start_time": "2021-08-23T12:46:46.826Z"
   },
   {
    "duration": 652,
    "start_time": "2021-08-23T12:46:50.164Z"
   },
   {
    "duration": 931,
    "start_time": "2021-08-23T12:46:52.886Z"
   },
   {
    "duration": 719,
    "start_time": "2021-08-23T12:47:07.097Z"
   },
   {
    "duration": 724,
    "start_time": "2021-08-23T12:47:44.952Z"
   },
   {
    "duration": 785,
    "start_time": "2021-08-23T12:49:54.039Z"
   },
   {
    "duration": 10,
    "start_time": "2021-08-23T12:49:54.830Z"
   },
   {
    "duration": 27,
    "start_time": "2021-08-23T12:49:54.842Z"
   },
   {
    "duration": 2819,
    "start_time": "2021-08-23T12:49:54.870Z"
   },
   {
    "duration": 8,
    "start_time": "2021-08-23T12:49:57.692Z"
   },
   {
    "duration": 17,
    "start_time": "2021-08-23T12:49:57.702Z"
   },
   {
    "duration": 22,
    "start_time": "2021-08-23T12:49:57.721Z"
   },
   {
    "duration": 6,
    "start_time": "2021-08-23T12:49:57.745Z"
   },
   {
    "duration": 1195,
    "start_time": "2021-08-23T12:49:57.752Z"
   },
   {
    "duration": 313,
    "start_time": "2021-08-23T12:49:58.950Z"
   },
   {
    "duration": 874,
    "start_time": "2021-08-23T12:50:02.202Z"
   },
   {
    "duration": 11,
    "start_time": "2021-08-23T12:50:05.744Z"
   },
   {
    "duration": 714,
    "start_time": "2021-08-23T12:50:07.036Z"
   },
   {
    "duration": 1010,
    "start_time": "2021-08-23T12:50:08.309Z"
   },
   {
    "duration": 741,
    "start_time": "2021-08-23T12:50:10.252Z"
   },
   {
    "duration": 923,
    "start_time": "2021-08-23T12:50:14.248Z"
   },
   {
    "duration": 8,
    "start_time": "2021-08-23T12:51:24.212Z"
   },
   {
    "duration": 12,
    "start_time": "2021-08-23T12:51:24.782Z"
   },
   {
    "duration": 17,
    "start_time": "2021-08-23T12:51:25.695Z"
   },
   {
    "duration": 206,
    "start_time": "2021-08-23T12:51:29.543Z"
   },
   {
    "duration": 185,
    "start_time": "2021-08-23T13:31:23.306Z"
   },
   {
    "duration": 11,
    "start_time": "2021-08-23T13:33:23.254Z"
   },
   {
    "duration": 35,
    "start_time": "2021-08-23T13:33:30.334Z"
   },
   {
    "duration": 16,
    "start_time": "2021-08-23T13:42:48.292Z"
   },
   {
    "duration": 642,
    "start_time": "2021-08-23T13:42:53.904Z"
   },
   {
    "duration": 491,
    "start_time": "2021-08-23T13:43:10.836Z"
   },
   {
    "duration": 607,
    "start_time": "2021-08-23T13:43:46.964Z"
   },
   {
    "duration": 908,
    "start_time": "2021-08-23T13:46:37.336Z"
   },
   {
    "duration": 381,
    "start_time": "2021-08-23T13:47:46.639Z"
   },
   {
    "duration": 4,
    "start_time": "2021-08-23T13:48:16.401Z"
   },
   {
    "duration": 135,
    "start_time": "2021-08-23T13:48:20.356Z"
   },
   {
    "duration": 8,
    "start_time": "2021-08-23T13:49:25.077Z"
   },
   {
    "duration": 492,
    "start_time": "2021-08-23T13:53:14.317Z"
   },
   {
    "duration": 8,
    "start_time": "2021-08-23T13:54:23.521Z"
   },
   {
    "duration": 7,
    "start_time": "2021-08-23T13:54:52.885Z"
   },
   {
    "duration": 8,
    "start_time": "2021-08-23T13:56:04.134Z"
   },
   {
    "duration": 9,
    "start_time": "2021-08-23T13:58:20.323Z"
   },
   {
    "duration": 9,
    "start_time": "2021-08-23T13:58:53.205Z"
   },
   {
    "duration": 8,
    "start_time": "2021-08-23T13:59:35.951Z"
   }
  ],
  "kernelspec": {
   "display_name": "Python 3",
   "language": "python",
   "name": "python3"
  },
  "language_info": {
   "codemirror_mode": {
    "name": "ipython",
    "version": 3
   },
   "file_extension": ".py",
   "mimetype": "text/x-python",
   "name": "python",
   "nbconvert_exporter": "python",
   "pygments_lexer": "ipython3",
   "version": "3.8.3"
  },
  "toc": {
   "base_numbering": 1,
   "nav_menu": {},
   "number_sections": true,
   "sideBar": true,
   "skip_h1_title": true,
   "title_cell": "Содержание",
   "title_sidebar": "Contents",
   "toc_cell": true,
   "toc_position": {},
   "toc_section_display": true,
   "toc_window_display": true
  }
 },
 "nbformat": 4,
 "nbformat_minor": 2
}
