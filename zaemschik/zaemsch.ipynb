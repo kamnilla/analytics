{
 "cells": [
  {
   "cell_type": "markdown",
   "metadata": {},
   "source": [
    "# Исследование надёжности заёмщиков\n",
    "\n",
    "Заказчик — кредитный отдел банка. Нужно разобраться, влияет ли семейное положение и количество детей клиента на факт погашения кредита в срок. Входные данные от банка — статистика о платёжеспособности клиентов.\n",
    "\n",
    "Результаты исследования будут учтены при построении модели **кредитного скоринга** — специальной системы, которая оценивает способность потенциального заёмщика вернуть кредит банку."
   ]
  },
  {
   "cell_type": "markdown",
   "metadata": {},
   "source": [
    "## Шаг 1. Откройте файл с данными и изучите общую информацию"
   ]
  },
  {
   "cell_type": "code",
   "execution_count": 2,
   "metadata": {},
   "outputs": [
    {
     "name": "stdout",
     "output_type": "stream",
     "text": [
      "<class 'pandas.core.frame.DataFrame'>\n",
      "RangeIndex: 21525 entries, 0 to 21524\n",
      "Data columns (total 12 columns):\n",
      "children            21525 non-null int64\n",
      "days_employed       19351 non-null float64\n",
      "dob_years           21525 non-null int64\n",
      "education           21525 non-null object\n",
      "education_id        21525 non-null int64\n",
      "family_status       21525 non-null object\n",
      "family_status_id    21525 non-null int64\n",
      "gender              21525 non-null object\n",
      "income_type         21525 non-null object\n",
      "debt                21525 non-null int64\n",
      "total_income        19351 non-null float64\n",
      "purpose             21525 non-null object\n",
      "dtypes: float64(2), int64(5), object(5)\n",
      "memory usage: 2.0+ MB\n",
      "   children  days_employed  dob_years education  education_id  \\\n",
      "0         1   -8437.673028         42    высшее             0   \n",
      "1         1   -4024.803754         36   среднее             1   \n",
      "2         0   -5623.422610         33   Среднее             1   \n",
      "3         3   -4124.747207         32   среднее             1   \n",
      "4         0  340266.072047         53   среднее             1   \n",
      "5         0    -926.185831         27    высшее             0   \n",
      "6         0   -2879.202052         43    высшее             0   \n",
      "7         0    -152.779569         50   СРЕДНЕЕ             1   \n",
      "8         2   -6929.865299         35    ВЫСШЕЕ             0   \n",
      "9         0   -2188.756445         41   среднее             1   \n",
      "\n",
      "      family_status  family_status_id gender income_type  debt   total_income  \\\n",
      "0   женат / замужем                 0      F   сотрудник     0  253875.639453   \n",
      "1   женат / замужем                 0      F   сотрудник     0  112080.014102   \n",
      "2   женат / замужем                 0      M   сотрудник     0  145885.952297   \n",
      "3   женат / замужем                 0      M   сотрудник     0  267628.550329   \n",
      "4  гражданский брак                 1      F   пенсионер     0  158616.077870   \n",
      "5  гражданский брак                 1      M   компаньон     0  255763.565419   \n",
      "6   женат / замужем                 0      F   компаньон     0  240525.971920   \n",
      "7   женат / замужем                 0      M   сотрудник     0  135823.934197   \n",
      "8  гражданский брак                 1      F   сотрудник     0   95856.832424   \n",
      "9   женат / замужем                 0      M   сотрудник     0  144425.938277   \n",
      "\n",
      "                      purpose  \n",
      "0               покупка жилья  \n",
      "1     приобретение автомобиля  \n",
      "2               покупка жилья  \n",
      "3  дополнительное образование  \n",
      "4             сыграть свадьбу  \n",
      "5               покупка жилья  \n",
      "6           операции с жильем  \n",
      "7                 образование  \n",
      "8       на проведение свадьбы  \n",
      "9     покупка жилья для семьи  \n"
     ]
    }
   ],
   "source": [
    "import pandas as pd\n",
    "\n",
    "data = pd.read_csv('/datasets/data.csv')\n",
    "data.info()\n",
    "print(data.head(10))"
   ]
  },
  {
   "cell_type": "markdown",
   "metadata": {},
   "source": [
    "**Вывод**"
   ]
  },
  {
   "cell_type": "markdown",
   "metadata": {},
   "source": [
    "В исходной таблице имеем 12 столбцов, а также информацию о 21525 людях, ни один столбец не является полностью пустым, поэтому приступаем к дальшейшей обработке."
   ]
  },
  {
   "cell_type": "markdown",
   "metadata": {},
   "source": [
    "## Шаг 2. Предобработка данных"
   ]
  },
  {
   "cell_type": "markdown",
   "metadata": {},
   "source": [
    "### Обработка пропусков"
   ]
  },
  {
   "cell_type": "code",
   "execution_count": 4,
   "metadata": {},
   "outputs": [
    {
     "data": {
      "text/plain": [
       "children            0\n",
       "days_employed       0\n",
       "dob_years           0\n",
       "education           0\n",
       "education_id        0\n",
       "family_status       0\n",
       "family_status_id    0\n",
       "gender              0\n",
       "income_type         0\n",
       "debt                0\n",
       "total_income        0\n",
       "purpose             0\n",
       "dtype: int64"
      ]
     },
     "execution_count": 4,
     "metadata": {},
     "output_type": "execute_result"
    }
   ],
   "source": [
    "data.isna().sum()"
   ]
  },
  {
   "cell_type": "code",
   "execution_count": 5,
   "metadata": {},
   "outputs": [
    {
     "data": {
      "text/html": [
       "<div>\n",
       "<style scoped>\n",
       "    .dataframe tbody tr th:only-of-type {\n",
       "        vertical-align: middle;\n",
       "    }\n",
       "\n",
       "    .dataframe tbody tr th {\n",
       "        vertical-align: top;\n",
       "    }\n",
       "\n",
       "    .dataframe thead th {\n",
       "        text-align: right;\n",
       "    }\n",
       "</style>\n",
       "<table border=\"1\" class=\"dataframe\">\n",
       "  <thead>\n",
       "    <tr style=\"text-align: right;\">\n",
       "      <th>education</th>\n",
       "      <th>высшее</th>\n",
       "      <th>начальное</th>\n",
       "      <th>неоконченное высшее</th>\n",
       "      <th>среднее</th>\n",
       "      <th>ученая степень</th>\n",
       "    </tr>\n",
       "    <tr>\n",
       "      <th>income_type</th>\n",
       "      <th></th>\n",
       "      <th></th>\n",
       "      <th></th>\n",
       "      <th></th>\n",
       "      <th></th>\n",
       "    </tr>\n",
       "  </thead>\n",
       "  <tbody>\n",
       "    <tr>\n",
       "      <td>безработный</td>\n",
       "      <td>202722.511368</td>\n",
       "      <td>NaN</td>\n",
       "      <td>NaN</td>\n",
       "      <td>59956.991984</td>\n",
       "      <td>NaN</td>\n",
       "    </tr>\n",
       "    <tr>\n",
       "      <td>в декрете</td>\n",
       "      <td>NaN</td>\n",
       "      <td>NaN</td>\n",
       "      <td>NaN</td>\n",
       "      <td>53829.130729</td>\n",
       "      <td>NaN</td>\n",
       "    </tr>\n",
       "    <tr>\n",
       "      <td>госслужащий</td>\n",
       "      <td>157982.545567</td>\n",
       "      <td>145017.937533</td>\n",
       "      <td>156266.846399</td>\n",
       "      <td>144351.310834</td>\n",
       "      <td>111392.231107</td>\n",
       "    </tr>\n",
       "    <tr>\n",
       "      <td>компаньон</td>\n",
       "      <td>190976.633414</td>\n",
       "      <td>140908.421338</td>\n",
       "      <td>169674.017186</td>\n",
       "      <td>149093.468381</td>\n",
       "      <td>NaN</td>\n",
       "    </tr>\n",
       "    <tr>\n",
       "      <td>пенсионер</td>\n",
       "      <td>145017.937533</td>\n",
       "      <td>107398.699119</td>\n",
       "      <td>129742.715263</td>\n",
       "      <td>125440.020719</td>\n",
       "      <td>177088.845999</td>\n",
       "    </tr>\n",
       "    <tr>\n",
       "      <td>предприниматель</td>\n",
       "      <td>322090.541240</td>\n",
       "      <td>NaN</td>\n",
       "      <td>NaN</td>\n",
       "      <td>NaN</td>\n",
       "      <td>NaN</td>\n",
       "    </tr>\n",
       "    <tr>\n",
       "      <td>сотрудник</td>\n",
       "      <td>155103.948747</td>\n",
       "      <td>131629.331952</td>\n",
       "      <td>145017.937533</td>\n",
       "      <td>145017.937533</td>\n",
       "      <td>198570.757322</td>\n",
       "    </tr>\n",
       "    <tr>\n",
       "      <td>студент</td>\n",
       "      <td>98201.625314</td>\n",
       "      <td>NaN</td>\n",
       "      <td>NaN</td>\n",
       "      <td>NaN</td>\n",
       "      <td>NaN</td>\n",
       "    </tr>\n",
       "  </tbody>\n",
       "</table>\n",
       "</div>"
      ],
      "text/plain": [
       "education               высшее      начальное  неоконченное высшее  \\\n",
       "income_type                                                          \n",
       "безработный      202722.511368            NaN                  NaN   \n",
       "в декрете                  NaN            NaN                  NaN   \n",
       "госслужащий      157982.545567  145017.937533        156266.846399   \n",
       "компаньон        190976.633414  140908.421338        169674.017186   \n",
       "пенсионер        145017.937533  107398.699119        129742.715263   \n",
       "предприниматель  322090.541240            NaN                  NaN   \n",
       "сотрудник        155103.948747  131629.331952        145017.937533   \n",
       "студент           98201.625314            NaN                  NaN   \n",
       "\n",
       "education              среднее  ученая степень  \n",
       "income_type                                     \n",
       "безработный       59956.991984             NaN  \n",
       "в декрете         53829.130729             NaN  \n",
       "госслужащий      144351.310834   111392.231107  \n",
       "компаньон        149093.468381             NaN  \n",
       "пенсионер        125440.020719   177088.845999  \n",
       "предприниматель            NaN             NaN  \n",
       "сотрудник        145017.937533   198570.757322  \n",
       "студент                    NaN             NaN  "
      ]
     },
     "execution_count": 5,
     "metadata": {},
     "output_type": "execute_result"
    }
   ],
   "source": [
    "df = data.copy()\n",
    "\n",
    "df.education = df.education.str.lower()\n",
    "df.pivot_table(index='income_type', columns='education', values='total_income', aggfunc='median')"
   ]
  },
  {
   "cell_type": "code",
   "execution_count": 7,
   "metadata": {},
   "outputs": [
    {
     "data": {
      "text/html": [
       "<div>\n",
       "<style scoped>\n",
       "    .dataframe tbody tr th:only-of-type {\n",
       "        vertical-align: middle;\n",
       "    }\n",
       "\n",
       "    .dataframe tbody tr th {\n",
       "        vertical-align: top;\n",
       "    }\n",
       "\n",
       "    .dataframe thead th {\n",
       "        text-align: right;\n",
       "    }\n",
       "</style>\n",
       "<table border=\"1\" class=\"dataframe\">\n",
       "  <thead>\n",
       "    <tr style=\"text-align: right;\">\n",
       "      <th></th>\n",
       "      <th>education</th>\n",
       "      <th>высшее</th>\n",
       "      <th>начальное</th>\n",
       "      <th>неоконченное высшее</th>\n",
       "      <th>среднее</th>\n",
       "      <th>ученая степень</th>\n",
       "    </tr>\n",
       "    <tr>\n",
       "      <th>income_type</th>\n",
       "      <th>gender</th>\n",
       "      <th></th>\n",
       "      <th></th>\n",
       "      <th></th>\n",
       "      <th></th>\n",
       "      <th></th>\n",
       "    </tr>\n",
       "  </thead>\n",
       "  <tbody>\n",
       "    <tr>\n",
       "      <td rowspan=\"2\" valign=\"top\">безработный</td>\n",
       "      <td>F</td>\n",
       "      <td>202722.511368</td>\n",
       "      <td>NaN</td>\n",
       "      <td>NaN</td>\n",
       "      <td>NaN</td>\n",
       "      <td>NaN</td>\n",
       "    </tr>\n",
       "    <tr>\n",
       "      <td>M</td>\n",
       "      <td>NaN</td>\n",
       "      <td>NaN</td>\n",
       "      <td>NaN</td>\n",
       "      <td>59956.991984</td>\n",
       "      <td>NaN</td>\n",
       "    </tr>\n",
       "    <tr>\n",
       "      <td>в декрете</td>\n",
       "      <td>F</td>\n",
       "      <td>NaN</td>\n",
       "      <td>NaN</td>\n",
       "      <td>NaN</td>\n",
       "      <td>53829.130729</td>\n",
       "      <td>NaN</td>\n",
       "    </tr>\n",
       "    <tr>\n",
       "      <td rowspan=\"2\" valign=\"top\">госслужащий</td>\n",
       "      <td>F</td>\n",
       "      <td>145017.937533</td>\n",
       "      <td>125392.170417</td>\n",
       "      <td>145017.937533</td>\n",
       "      <td>135073.137857</td>\n",
       "      <td>111392.231107</td>\n",
       "    </tr>\n",
       "    <tr>\n",
       "      <td>M</td>\n",
       "      <td>204717.884325</td>\n",
       "      <td>190966.659534</td>\n",
       "      <td>166424.838494</td>\n",
       "      <td>160213.467715</td>\n",
       "      <td>NaN</td>\n",
       "    </tr>\n",
       "    <tr>\n",
       "      <td rowspan=\"3\" valign=\"top\">компаньон</td>\n",
       "      <td>F</td>\n",
       "      <td>174369.537430</td>\n",
       "      <td>139514.970550</td>\n",
       "      <td>164996.813904</td>\n",
       "      <td>145017.937533</td>\n",
       "      <td>NaN</td>\n",
       "    </tr>\n",
       "    <tr>\n",
       "      <td>M</td>\n",
       "      <td>217768.009290</td>\n",
       "      <td>150100.960964</td>\n",
       "      <td>179370.487646</td>\n",
       "      <td>170206.988773</td>\n",
       "      <td>NaN</td>\n",
       "    </tr>\n",
       "    <tr>\n",
       "      <td>XNA</td>\n",
       "      <td>NaN</td>\n",
       "      <td>NaN</td>\n",
       "      <td>203905.157261</td>\n",
       "      <td>NaN</td>\n",
       "      <td>NaN</td>\n",
       "    </tr>\n",
       "    <tr>\n",
       "      <td rowspan=\"2\" valign=\"top\">пенсионер</td>\n",
       "      <td>F</td>\n",
       "      <td>145017.937533</td>\n",
       "      <td>102598.653164</td>\n",
       "      <td>130837.388717</td>\n",
       "      <td>123508.906819</td>\n",
       "      <td>255425.196556</td>\n",
       "    </tr>\n",
       "    <tr>\n",
       "      <td>M</td>\n",
       "      <td>150246.754511</td>\n",
       "      <td>114068.787524</td>\n",
       "      <td>124667.471301</td>\n",
       "      <td>134708.033691</td>\n",
       "      <td>98752.495442</td>\n",
       "    </tr>\n",
       "    <tr>\n",
       "      <td rowspan=\"2\" valign=\"top\">предприниматель</td>\n",
       "      <td>F</td>\n",
       "      <td>499163.144947</td>\n",
       "      <td>NaN</td>\n",
       "      <td>NaN</td>\n",
       "      <td>NaN</td>\n",
       "      <td>NaN</td>\n",
       "    </tr>\n",
       "    <tr>\n",
       "      <td>M</td>\n",
       "      <td>145017.937533</td>\n",
       "      <td>NaN</td>\n",
       "      <td>NaN</td>\n",
       "      <td>NaN</td>\n",
       "      <td>NaN</td>\n",
       "    </tr>\n",
       "    <tr>\n",
       "      <td rowspan=\"2\" valign=\"top\">сотрудник</td>\n",
       "      <td>F</td>\n",
       "      <td>145017.937533</td>\n",
       "      <td>124397.467932</td>\n",
       "      <td>143663.050521</td>\n",
       "      <td>132635.207938</td>\n",
       "      <td>NaN</td>\n",
       "    </tr>\n",
       "    <tr>\n",
       "      <td>M</td>\n",
       "      <td>179564.658485</td>\n",
       "      <td>145017.937533</td>\n",
       "      <td>175068.921286</td>\n",
       "      <td>147530.985003</td>\n",
       "      <td>198570.757322</td>\n",
       "    </tr>\n",
       "    <tr>\n",
       "      <td>студент</td>\n",
       "      <td>M</td>\n",
       "      <td>98201.625314</td>\n",
       "      <td>NaN</td>\n",
       "      <td>NaN</td>\n",
       "      <td>NaN</td>\n",
       "      <td>NaN</td>\n",
       "    </tr>\n",
       "  </tbody>\n",
       "</table>\n",
       "</div>"
      ],
      "text/plain": [
       "education                      высшее      начальное  неоконченное высшее  \\\n",
       "income_type     gender                                                      \n",
       "безработный     F       202722.511368            NaN                  NaN   \n",
       "                M                 NaN            NaN                  NaN   \n",
       "в декрете       F                 NaN            NaN                  NaN   \n",
       "госслужащий     F       145017.937533  125392.170417        145017.937533   \n",
       "                M       204717.884325  190966.659534        166424.838494   \n",
       "компаньон       F       174369.537430  139514.970550        164996.813904   \n",
       "                M       217768.009290  150100.960964        179370.487646   \n",
       "                XNA               NaN            NaN        203905.157261   \n",
       "пенсионер       F       145017.937533  102598.653164        130837.388717   \n",
       "                M       150246.754511  114068.787524        124667.471301   \n",
       "предприниматель F       499163.144947            NaN                  NaN   \n",
       "                M       145017.937533            NaN                  NaN   \n",
       "сотрудник       F       145017.937533  124397.467932        143663.050521   \n",
       "                M       179564.658485  145017.937533        175068.921286   \n",
       "студент         M        98201.625314            NaN                  NaN   \n",
       "\n",
       "education                     среднее  ученая степень  \n",
       "income_type     gender                                 \n",
       "безработный     F                 NaN             NaN  \n",
       "                M        59956.991984             NaN  \n",
       "в декрете       F        53829.130729             NaN  \n",
       "госслужащий     F       135073.137857   111392.231107  \n",
       "                M       160213.467715             NaN  \n",
       "компаньон       F       145017.937533             NaN  \n",
       "                M       170206.988773             NaN  \n",
       "                XNA               NaN             NaN  \n",
       "пенсионер       F       123508.906819   255425.196556  \n",
       "                M       134708.033691    98752.495442  \n",
       "предприниматель F                 NaN             NaN  \n",
       "                M                 NaN             NaN  \n",
       "сотрудник       F       132635.207938             NaN  \n",
       "                M       147530.985003   198570.757322  \n",
       "студент         M                 NaN             NaN  "
      ]
     },
     "execution_count": 7,
     "metadata": {},
     "output_type": "execute_result"
    }
   ],
   "source": [
    "df.pivot_table(index=['income_type', 'gender'], columns='education', values='total_income', aggfunc='median')"
   ]
  },
  {
   "cell_type": "code",
   "execution_count": 8,
   "metadata": {},
   "outputs": [
    {
     "data": {
      "text/plain": [
       "98201.62531401133"
      ]
     },
     "execution_count": 8,
     "metadata": {},
     "output_type": "execute_result"
    }
   ],
   "source": [
    "qq = df.pivot_table(index=['income_type', 'gender'], columns='education', values='total_income', aggfunc='median')\n",
    "qq.loc[('студент', 'M')]['высшее']"
   ]
  },
  {
   "cell_type": "code",
   "execution_count": 9,
   "metadata": {},
   "outputs": [
    {
     "name": "stdout",
     "output_type": "stream",
     "text": [
      "98201.62531401133\n"
     ]
    }
   ],
   "source": [
    "def super_fillna_func(income_type, gender, education):\n",
    "    '''\n",
    "    Находит в таблице qq нужную медиану.\n",
    "    '''\n",
    "    try:\n",
    "        return qq.loc[(income_type, gender)][education]\n",
    "    except:\n",
    "        return 0\n",
    "    \n",
    "print(super_fillna_func('студент', 'M','высшее') ) "
   ]
  },
  {
   "cell_type": "code",
   "execution_count": 10,
   "metadata": {},
   "outputs": [
    {
     "name": "stdout",
     "output_type": "stream",
     "text": [
      "0\n"
     ]
    }
   ],
   "source": [
    "print(super_fillna_func('ревьюер', 'F','высшее') )"
   ]
  },
  {
   "cell_type": "code",
   "execution_count": 25,
   "metadata": {
    "scrolled": true
   },
   "outputs": [
    {
     "data": {
      "text/plain": [
       "0        145017.937533\n",
       "1        132635.207938\n",
       "2        147530.985003\n",
       "3        147530.985003\n",
       "4        123508.906819\n",
       "             ...      \n",
       "21520    145017.937533\n",
       "21521    123508.906819\n",
       "21522    147530.985003\n",
       "21523    147530.985003\n",
       "21524    132635.207938\n",
       "Length: 21525, dtype: float64"
      ]
     },
     "execution_count": 25,
     "metadata": {},
     "output_type": "execute_result"
    }
   ],
   "source": [
    "df.apply(lambda row: super_fillna_func(row['income_type'], row['gender'], row['education']), axis=1)"
   ]
  },
  {
   "cell_type": "code",
   "execution_count": 26,
   "metadata": {},
   "outputs": [
    {
     "name": "stdout",
     "output_type": "stream",
     "text": [
      "education                      ВЫСШЕЕ         Высшее      НАЧАЛЬНОЕ  \\\n",
      "income_type     gender                                                \n",
      "безработный     F       202722.511368  202722.511368  202722.511368   \n",
      "                M        59956.991984   59956.991984   59956.991984   \n",
      "в декрете       F        53829.130729   53829.130729   53829.130729   \n",
      "госслужащий     F       162361.426048  145017.937533  134974.938699   \n",
      "                M       187365.789659  245357.105783  180482.467306   \n",
      "компаньон       F       185492.137323  186150.322083  255696.018913   \n",
      "                M       205309.210389  209878.152318  131455.738975   \n",
      "                XNA     203905.157261  203905.157261  203905.157261   \n",
      "пенсионер       F       164765.086709  145017.937533   70278.364094   \n",
      "                M       155882.271260  362784.960182  104293.022877   \n",
      "предприниматель F       499163.144947  499163.144947  499163.144947   \n",
      "                M       145017.937533  145017.937533  145017.937533   \n",
      "сотрудник       F       145017.937533  159532.425482  167747.365401   \n",
      "                M       146884.687157  184641.304872  236593.643905   \n",
      "студент         M        98201.625314   98201.625314   98201.625314   \n",
      "\n",
      "education               НЕОКОНЧЕННОЕ ВЫСШЕЕ      Начальное  \\\n",
      "income_type     gender                                       \n",
      "безработный     F             202722.511368  202722.511368   \n",
      "                M              59956.991984   59956.991984   \n",
      "в декрете       F              53829.130729   53829.130729   \n",
      "госслужащий     F             134974.938699  134974.938699   \n",
      "                M             180482.467306  190912.178349   \n",
      "компаньон       F             126061.010002   83687.606219   \n",
      "                M             161807.327564  116365.818367   \n",
      "                XNA           203905.157261  203905.157261   \n",
      "пенсионер       F             278702.142319  112151.195148   \n",
      "                M             124667.471301  101424.984669   \n",
      "предприниматель F             499163.144947  499163.144947   \n",
      "                M             145017.937533  145017.937533   \n",
      "сотрудник       F             148163.437689  102669.099092   \n",
      "                M             147424.464230  159584.822691   \n",
      "студент         M              98201.625314   98201.625314   \n",
      "\n",
      "education               Неоконченное высшее        СРЕДНЕЕ        Среднее  \\\n",
      "income_type     gender                                                      \n",
      "безработный     F             202722.511368  202722.511368  202722.511368   \n",
      "                M              59956.991984   59956.991984   59956.991984   \n",
      "в декрете       F              53829.130729   53829.130729   53829.130729   \n",
      "госслужащий     F              94288.056759  133781.032212  130946.853070   \n",
      "                M             133110.642705  139034.452386  173599.144954   \n",
      "компаньон       F             179902.026613  145017.937533  141485.686243   \n",
      "                M             164803.227154  170300.370286  172132.616059   \n",
      "                XNA           203905.157261  203905.157261  203905.157261   \n",
      "пенсионер       F              85639.629991  122992.293760  140616.925984   \n",
      "                M             124667.471301  139459.454667  117098.226827   \n",
      "предприниматель F             499163.144947  499163.144947  499163.144947   \n",
      "                M             145017.937533  145017.937533  145017.937533   \n",
      "сотрудник       F             145017.937533  123145.193267  125594.828742   \n",
      "                M             163953.691891  160058.927272  145457.100427   \n",
      "студент         M              98201.625314   98201.625314   98201.625314   \n",
      "\n",
      "education               УЧЕНАЯ СТЕПЕНЬ  Ученая степень         высшее  \\\n",
      "income_type     gender                                                  \n",
      "безработный     F        202722.511368   202722.511368  202722.511368   \n",
      "                M         59956.991984    59956.991984   59956.991984   \n",
      "в декрете       F         53829.130729    53829.130729   53829.130729   \n",
      "госслужащий     F        134974.938699   134974.938699  145017.937533   \n",
      "                M        180482.467306   180482.467306  204717.884325   \n",
      "компаньон       F        166422.381412   166422.381412  171926.867353   \n",
      "                M        170253.679530   170253.679530  219886.456084   \n",
      "                XNA      203905.157261   203905.157261  203905.157261   \n",
      "пенсионер       F        130837.388717   130837.388717  145017.937533   \n",
      "                M        124667.471301    98752.495442  149490.686217   \n",
      "предприниматель F        499163.144947   499163.144947  499163.144947   \n",
      "                M        145017.937533   145017.937533  145017.937533   \n",
      "сотрудник       F        141850.364673   141850.364673  145017.937533   \n",
      "                M        198570.757322   162006.309582  180949.542520   \n",
      "студент         M         98201.625314    98201.625314   98201.625314   \n",
      "\n",
      "education                   начальное  неоконченное высшее        среднее  \\\n",
      "income_type     gender                                                      \n",
      "безработный     F       202722.511368        202722.511368  202722.511368   \n",
      "                M        59956.991984         59956.991984   59956.991984   \n",
      "в декрете       F        53829.130729         53829.130729   53829.130729   \n",
      "госслужащий     F       125392.170417        145017.937533  136168.845187   \n",
      "                M       191021.140719        167305.854007  160216.933563   \n",
      "компаньон       F       170661.883001        162182.879823  145017.937533   \n",
      "                M       166448.458006        180007.903074  170206.988773   \n",
      "                XNA     203905.157261        203905.157261  203905.157261   \n",
      "пенсионер       F       104505.757848        130837.388717  122157.644864   \n",
      "                M       115013.372267        124667.471301  135296.501106   \n",
      "предприниматель F       499163.144947        499163.144947  499163.144947   \n",
      "                M       145017.937533        145017.937533  145017.937533   \n",
      "сотрудник       F       124294.504244        138682.791813  133687.261888   \n",
      "                M       141142.214505        177327.748226  146812.337810   \n",
      "студент         M        98201.625314         98201.625314   98201.625314   \n",
      "\n",
      "education               ученая степень  \n",
      "income_type     gender                  \n",
      "безработный     F        202722.511368  \n",
      "                M         59956.991984  \n",
      "в декрете       F         53829.130729  \n",
      "госслужащий     F        111392.231107  \n",
      "                M        180482.467306  \n",
      "компаньон       F        166422.381412  \n",
      "                M        170253.679530  \n",
      "                XNA      203905.157261  \n",
      "пенсионер       F        255425.196556  \n",
      "                M        124667.471301  \n",
      "предприниматель F        499163.144947  \n",
      "                M        145017.937533  \n",
      "сотрудник       F        141850.364673  \n",
      "                M        192180.127162  \n",
      "студент         M         98201.625314  \n"
     ]
    }
   ],
   "source": [
    "data1 = data.pivot_table(index=['income_type', 'gender'], columns='education', values='total_income', aggfunc='median')\n",
    "data1 = data1.apply(lambda x: x.fillna(x.median()), axis=1)\n",
    "print(data1)"
   ]
  },
  {
   "cell_type": "code",
   "execution_count": 27,
   "metadata": {},
   "outputs": [],
   "source": [
    "# Запишем в новый столбец.\n",
    "df['new_income'] = df.apply(lambda row: super_fillna_func(row['income_type'], row['gender'], row['education']), axis=1)\n",
    "\n",
    "# Пандас сам заменит пропуски значениями из нового столбца в той же строке.\n",
    "df['total_income'] = df['total_income'].fillna(df['new_income'])"
   ]
  },
  {
   "cell_type": "markdown",
   "metadata": {},
   "source": [
    "**Вывод**"
   ]
  },
  {
   "cell_type": "markdown",
   "metadata": {},
   "source": [
    "Найдены пропущенные значения во втором и одиннадцатом столбцах. Данные пропущенные значения являются числовыми значениями, появление пропусков могло было быть вызвано неправильным внесением данных в базу, а также могло быть так, что данные не были предоставлены банку в полном размере. Пропуски заполнены средними значениями по столбцу, то есть среднему значению по трудоустроенным дням и общему заработку."
   ]
  },
  {
   "cell_type": "markdown",
   "metadata": {},
   "source": [
    "### Замена типа данных"
   ]
  },
  {
   "cell_type": "code",
   "execution_count": 30,
   "metadata": {},
   "outputs": [
    {
     "name": "stdout",
     "output_type": "stream",
     "text": [
      "<class 'pandas.core.frame.DataFrame'>\n",
      "RangeIndex: 21525 entries, 0 to 21524\n",
      "Data columns (total 12 columns):\n",
      "children            21525 non-null int64\n",
      "days_employed       21525 non-null int64\n",
      "dob_years           21525 non-null int64\n",
      "education           21525 non-null object\n",
      "education_id        21525 non-null int64\n",
      "family_status       21525 non-null object\n",
      "family_status_id    21525 non-null int64\n",
      "gender              21525 non-null object\n",
      "income_type         21525 non-null object\n",
      "debt                21525 non-null int64\n",
      "total_income        21525 non-null int64\n",
      "purpose             21525 non-null object\n",
      "dtypes: int64(7), object(5)\n",
      "memory usage: 2.0+ MB\n"
     ]
    }
   ],
   "source": [
    "data['days_employed'] = data['days_employed'].astype('int')\n",
    "data['total_income'] = data['total_income'].astype('int')\n",
    "data.info()"
   ]
  },
  {
   "cell_type": "markdown",
   "metadata": {},
   "source": [
    "**Вывод**"
   ]
  },
  {
   "cell_type": "markdown",
   "metadata": {},
   "source": [
    "Для изменения вещественного типа данных на целочисленных использовался метод astype(), потому что этот метод выполняет необходимые действия."
   ]
  },
  {
   "cell_type": "markdown",
   "metadata": {},
   "source": [
    "### Обработка дубликатов"
   ]
  },
  {
   "cell_type": "code",
   "execution_count": 31,
   "metadata": {},
   "outputs": [
    {
     "name": "stdout",
     "output_type": "stream",
     "text": [
      "71\n"
     ]
    }
   ],
   "source": [
    "data['education'] = data['education'].str.lower()\n",
    "data['family_status'] = data['family_status'].str.lower() \n",
    "data['gender'] = data['gender'].str.lower() \n",
    "data['income_type'] = data['income_type'].str.lower() \n",
    "data['purpose'] = data['purpose'].str.lower() \n",
    "print(data.duplicated().sum())\n",
    "\n"
   ]
  },
  {
   "cell_type": "markdown",
   "metadata": {},
   "source": [
    "**Вывод**"
   ]
  },
  {
   "cell_type": "markdown",
   "metadata": {},
   "source": [
    "Были найдены 71 дубликат, которые были убраны с восстановлением индекса. Дубликаты могли появиться в следствие непрвильного внесения данных в таблицу, а также неправильной выгрузке данных "
   ]
  },
  {
   "cell_type": "markdown",
   "metadata": {},
   "source": [
    "### Лемматизация"
   ]
  },
  {
   "cell_type": "code",
   "execution_count": 33,
   "metadata": {
    "scrolled": true
   },
   "outputs": [
    {
     "data": {
      "text/plain": [
       "Counter({'покупка': 5912,\n",
       "         ' ': 33677,\n",
       "         'жилье': 4473,\n",
       "         '\\n': 21525,\n",
       "         'приобретение': 462,\n",
       "         'автомобиль': 4315,\n",
       "         'дополнительный': 909,\n",
       "         'образование': 4022,\n",
       "         'сыграть': 774,\n",
       "         'свадьба': 2348,\n",
       "         'операция': 2610,\n",
       "         'с': 2924,\n",
       "         'на': 2233,\n",
       "         'проведение': 777,\n",
       "         'для': 1294,\n",
       "         'семья': 641,\n",
       "         'недвижимость': 6367,\n",
       "         'коммерческий': 1315,\n",
       "         'жилой': 1233,\n",
       "         'строительство': 1881,\n",
       "         'собственный': 635,\n",
       "         'подержать': 479,\n",
       "         'свой': 2235,\n",
       "         'со': 630,\n",
       "         'заниматься': 908,\n",
       "         'сделка': 944,\n",
       "         'подержанный': 489,\n",
       "         'получение': 1316,\n",
       "         'высокий': 1375,\n",
       "         'профильный': 436,\n",
       "         'сдача': 653,\n",
       "         'ремонт': 612})"
      ]
     },
     "execution_count": 33,
     "metadata": {},
     "output_type": "execute_result"
    }
   ],
   "source": [
    "from pymystem3 import Mystem\n",
    "from collections import Counter\n",
    "\n",
    "m = Mystem()\n",
    "\n",
    "lemmas_list = []\n",
    "for text in data['purpose']:\n",
    "    lemmas = m.lemmatize(text)\n",
    "    lemmas_list += lemmas\n",
    "\n",
    "Counter(lemmas_list)"
   ]
  },
  {
   "cell_type": "code",
   "execution_count": 34,
   "metadata": {},
   "outputs": [
    {
     "name": "stdout",
     "output_type": "stream",
     "text": [
      "       children  days_employed  dob_years education  education_id  \\\n",
      "0             1          -8437         42    высшее             0   \n",
      "1             1          -4024         36   среднее             1   \n",
      "2             0          -5623         33   среднее             1   \n",
      "3             3          -4124         32   среднее             1   \n",
      "4             0         340266         53   среднее             1   \n",
      "...         ...            ...        ...       ...           ...   \n",
      "21520         1          -4529         43   среднее             1   \n",
      "21521         0         343937         67   среднее             1   \n",
      "21522         1          -2113         38   среднее             1   \n",
      "21523         3          -3112         38   среднее             1   \n",
      "21524         2          -1984         40   среднее             1   \n",
      "\n",
      "          family_status  family_status_id gender income_type  debt  \\\n",
      "0       женат / замужем                 0      f   сотрудник     0   \n",
      "1       женат / замужем                 0      f   сотрудник     0   \n",
      "2       женат / замужем                 0      m   сотрудник     0   \n",
      "3       женат / замужем                 0      m   сотрудник     0   \n",
      "4      гражданский брак                 1      f   пенсионер     0   \n",
      "...                 ...               ...    ...         ...   ...   \n",
      "21520  гражданский брак                 1      f   компаньон     0   \n",
      "21521   женат / замужем                 0      f   пенсионер     0   \n",
      "21522  гражданский брак                 1      m   сотрудник     1   \n",
      "21523   женат / замужем                 0      m   сотрудник     1   \n",
      "21524   женат / замужем                 0      f   сотрудник     0   \n",
      "\n",
      "       total_income                       purpose purpose_category  \n",
      "0            253875                 покупка жилья            жилье  \n",
      "1            112080       приобретение автомобиля       автомобиль  \n",
      "2            145885                 покупка жилья            жилье  \n",
      "3            267628    дополнительное образование      образование  \n",
      "4            158616               сыграть свадьбу          свадьба  \n",
      "...             ...                           ...              ...  \n",
      "21520        224791             операции с жильем            жилье  \n",
      "21521        155999          сделка с автомобилем       автомобиль  \n",
      "21522         89672                  недвижимость     недвижимость  \n",
      "21523        244093  на покупку своего автомобиля       автомобиль  \n",
      "21524         82047         на покупку автомобиля       автомобиль  \n",
      "\n",
      "[21525 rows x 13 columns]\n"
     ]
    }
   ],
   "source": [
    "def purpose_change(purpose):\n",
    "    lemmas_row = m.lemmatize(purpose)\n",
    "    try:\n",
    "        if 'жилье' in lemmas_row:\n",
    "            return 'жилье'\n",
    "        elif 'свадьба' in lemmas_row:\n",
    "            return 'свадьба'\n",
    "        elif 'образование' in lemmas_row:\n",
    "            return 'образование'\n",
    "        elif 'автомобиль' in lemmas_row:\n",
    "            return 'автомобиль'\n",
    "        elif 'недвижимость' in lemmas_row:\n",
    "            return 'недвижимость'\n",
    "        \n",
    "        return 'другое'\n",
    "    except:\n",
    "        return 'ошибка'\n",
    "    \n",
    "# новый столбец purpose_new, туда сохраним результат работы функции\n",
    "data['purpose_category'] = data['purpose'].apply(purpose_change)\n",
    "print(data)"
   ]
  },
  {
   "cell_type": "markdown",
   "metadata": {},
   "source": [
    "**Вывод**"
   ]
  },
  {
   "cell_type": "markdown",
   "metadata": {},
   "source": [
    "Нашли самые ключевые слова, обозначающие цели взятия кредита с помощью подсчета лемм в столбце \"цели\""
   ]
  },
  {
   "cell_type": "markdown",
   "metadata": {},
   "source": [
    "### Категоризация данных"
   ]
  },
  {
   "cell_type": "code",
   "execution_count": 35,
   "metadata": {},
   "outputs": [
    {
     "name": "stdout",
     "output_type": "stream",
     "text": [
      "             education  education_id  debt\n",
      "0               высшее             0     0\n",
      "1              среднее             1     0\n",
      "2  неоконченное высшее             2     0\n",
      "3               высшее             0     1\n",
      "4            начальное             3     0\n",
      "5              среднее             1     1\n",
      "6            начальное             3     1\n",
      "7  неоконченное высшее             2     1\n",
      "8       ученая степень             4     0\n",
      "           family_status  family_status_id  debt\n",
      "0        женат / замужем                 0     0\n",
      "1       гражданский брак                 1     0\n",
      "2       гражданский брак                 1     1\n",
      "3         вдовец / вдова                 2     0\n",
      "4              в разводе                 3     0\n",
      "5  не женат / не замужем                 4     0\n",
      "6  не женат / не замужем                 4     1\n",
      "7        женат / замужем                 0     1\n",
      "8         вдовец / вдова                 2     1\n",
      "9              в разводе                 3     1\n",
      "    children  debt\n",
      "0          1     0\n",
      "1          0     0\n",
      "2          3     0\n",
      "3          2     0\n",
      "4          0     1\n",
      "5          1     1\n",
      "6          2     1\n",
      "7         -1     0\n",
      "8          4     0\n",
      "9         20     0\n",
      "10         3     1\n",
      "11        20     1\n",
      "12         4     1\n",
      "13         5     0\n",
      "14        -1     1\n"
     ]
    }
   ],
   "source": [
    "new_data_1 = data[['education', 'education_id', 'debt']]\n",
    "new_data_1 = new_data_1.drop_duplicates().reset_index(drop=True)\n",
    "print(new_data_1.head(15))\n",
    "\n",
    "new_data_2 = data[['family_status', 'family_status_id', 'debt']]\n",
    "new_data_2 = new_data_2.drop_duplicates().reset_index(drop=True)\n",
    "print(new_data_2.head(15))\n",
    "\n",
    "new_data_3 = data[['children', 'debt']]\n",
    "new_data_3 = new_data_3.drop_duplicates().reset_index(drop=True)\n",
    "print(new_data_3.head(20))"
   ]
  },
  {
   "cell_type": "markdown",
   "metadata": {},
   "source": [
    "**Вывод**"
   ]
  },
  {
   "cell_type": "markdown",
   "metadata": {},
   "source": [
    "<font color='blue'> Из данных видно, что образование, семейное положение и наличие детей не имеют прямой связи с возвращением долга </font>  "
   ]
  },
  {
   "cell_type": "code",
   "execution_count": 36,
   "metadata": {},
   "outputs": [
    {
     "data": {
      "text/plain": [
       "{0: 'женат / замужем',\n",
       " 1: 'гражданский брак',\n",
       " 2: 'вдовец / вдова',\n",
       " 3: 'в разводе',\n",
       " 4: 'не женат / не замужем'}"
      ]
     },
     "execution_count": 36,
     "metadata": {},
     "output_type": "execute_result"
    }
   ],
   "source": [
    "dict(zip(data['family_status_id'], data['family_status']))"
   ]
  },
  {
   "cell_type": "markdown",
   "metadata": {},
   "source": [
    "## Шаг 3. Ответьте на вопросы"
   ]
  },
  {
   "cell_type": "markdown",
   "metadata": {},
   "source": [
    "- Есть ли зависимость между наличием детей и возвратом кредита в срок?"
   ]
  },
  {
   "cell_type": "code",
   "execution_count": 37,
   "metadata": {},
   "outputs": [
    {
     "name": "stdout",
     "output_type": "stream",
     "text": [
      "Процент невозврата в семьях с разным количеством детей: children\n",
      "-1      2.127660\n",
      " 0      7.512898\n",
      " 1      9.215442\n",
      " 2      9.440389\n",
      " 3      8.181818\n",
      " 4      9.756098\n",
      " 5      0.000000\n",
      " 20    10.526316\n",
      "Name: debt, dtype: float64\n"
     ]
    }
   ],
   "source": [
    "df = data.groupby('children')['debt'].count()\n",
    "data_grouped = data.groupby('children')['debt'].sum()\n",
    "\n",
    "print('Процент невозврата в семьях с разным количеством детей:', (100*data_grouped/df))"
   ]
  },
  {
   "cell_type": "markdown",
   "metadata": {},
   "source": [
    "**Вывод**"
   ]
  },
  {
   "cell_type": "markdown",
   "metadata": {},
   "source": [
    "<font color='blue'> Видим, что с большей вероятностью кредиторы, у которых есть дети, не будут выплачивать кредит в срок, в сравнении с кредиторами, у которых детей нет, но разница небольшая, поэтому в процентном соотношении можно сказать, что прямой и сильной зависимости не наблюдается </font> "
   ]
  },
  {
   "cell_type": "code",
   "execution_count": 38,
   "metadata": {
    "scrolled": true
   },
   "outputs": [
    {
     "data": {
      "text/html": [
       "<div>\n",
       "<style scoped>\n",
       "    .dataframe tbody tr th:only-of-type {\n",
       "        vertical-align: middle;\n",
       "    }\n",
       "\n",
       "    .dataframe tbody tr th {\n",
       "        vertical-align: top;\n",
       "    }\n",
       "\n",
       "    .dataframe thead tr th {\n",
       "        text-align: left;\n",
       "    }\n",
       "\n",
       "    .dataframe thead tr:last-of-type th {\n",
       "        text-align: right;\n",
       "    }\n",
       "</style>\n",
       "<table border=\"1\" class=\"dataframe\">\n",
       "  <thead>\n",
       "    <tr>\n",
       "      <th></th>\n",
       "      <th colspan=\"3\" halign=\"left\">debt</th>\n",
       "    </tr>\n",
       "    <tr>\n",
       "      <th></th>\n",
       "      <th>count</th>\n",
       "      <th>sum</th>\n",
       "      <th>mean</th>\n",
       "    </tr>\n",
       "    <tr>\n",
       "      <th>children</th>\n",
       "      <th></th>\n",
       "      <th></th>\n",
       "      <th></th>\n",
       "    </tr>\n",
       "  </thead>\n",
       "  <tbody>\n",
       "    <tr>\n",
       "      <td>-1</td>\n",
       "      <td>47</td>\n",
       "      <td>1</td>\n",
       "      <td>0.021277</td>\n",
       "    </tr>\n",
       "    <tr>\n",
       "      <td>0</td>\n",
       "      <td>14149</td>\n",
       "      <td>1063</td>\n",
       "      <td>0.075129</td>\n",
       "    </tr>\n",
       "    <tr>\n",
       "      <td>1</td>\n",
       "      <td>4818</td>\n",
       "      <td>444</td>\n",
       "      <td>0.092154</td>\n",
       "    </tr>\n",
       "    <tr>\n",
       "      <td>2</td>\n",
       "      <td>2055</td>\n",
       "      <td>194</td>\n",
       "      <td>0.094404</td>\n",
       "    </tr>\n",
       "    <tr>\n",
       "      <td>3</td>\n",
       "      <td>330</td>\n",
       "      <td>27</td>\n",
       "      <td>0.081818</td>\n",
       "    </tr>\n",
       "    <tr>\n",
       "      <td>4</td>\n",
       "      <td>41</td>\n",
       "      <td>4</td>\n",
       "      <td>0.097561</td>\n",
       "    </tr>\n",
       "    <tr>\n",
       "      <td>5</td>\n",
       "      <td>9</td>\n",
       "      <td>0</td>\n",
       "      <td>0.000000</td>\n",
       "    </tr>\n",
       "    <tr>\n",
       "      <td>20</td>\n",
       "      <td>76</td>\n",
       "      <td>8</td>\n",
       "      <td>0.105263</td>\n",
       "    </tr>\n",
       "  </tbody>\n",
       "</table>\n",
       "</div>"
      ],
      "text/plain": [
       "           debt                \n",
       "          count   sum      mean\n",
       "children                       \n",
       "-1           47     1  0.021277\n",
       " 0        14149  1063  0.075129\n",
       " 1         4818   444  0.092154\n",
       " 2         2055   194  0.094404\n",
       " 3          330    27  0.081818\n",
       " 4           41     4  0.097561\n",
       " 5            9     0  0.000000\n",
       " 20          76     8  0.105263"
      ]
     },
     "execution_count": 38,
     "metadata": {},
     "output_type": "execute_result"
    }
   ],
   "source": [
    "data.groupby('children').agg({'debt': ['count','sum','mean']})"
   ]
  },
  {
   "cell_type": "code",
   "execution_count": 39,
   "metadata": {},
   "outputs": [
    {
     "data": {
      "text/html": [
       "<div>\n",
       "<style scoped>\n",
       "    .dataframe tbody tr th:only-of-type {\n",
       "        vertical-align: middle;\n",
       "    }\n",
       "\n",
       "    .dataframe tbody tr th {\n",
       "        vertical-align: top;\n",
       "    }\n",
       "\n",
       "    .dataframe thead th {\n",
       "        text-align: right;\n",
       "    }\n",
       "</style>\n",
       "<table border=\"1\" class=\"dataframe\">\n",
       "  <thead>\n",
       "    <tr style=\"text-align: right;\">\n",
       "      <th></th>\n",
       "      <th>count</th>\n",
       "      <th>sum</th>\n",
       "      <th>mean</th>\n",
       "    </tr>\n",
       "    <tr>\n",
       "      <th>children</th>\n",
       "      <th></th>\n",
       "      <th></th>\n",
       "      <th></th>\n",
       "    </tr>\n",
       "  </thead>\n",
       "  <tbody>\n",
       "    <tr>\n",
       "      <td>-1</td>\n",
       "      <td>47</td>\n",
       "      <td>1</td>\n",
       "      <td>0.021277</td>\n",
       "    </tr>\n",
       "    <tr>\n",
       "      <td>0</td>\n",
       "      <td>14149</td>\n",
       "      <td>1063</td>\n",
       "      <td>0.075129</td>\n",
       "    </tr>\n",
       "    <tr>\n",
       "      <td>1</td>\n",
       "      <td>4818</td>\n",
       "      <td>444</td>\n",
       "      <td>0.092154</td>\n",
       "    </tr>\n",
       "    <tr>\n",
       "      <td>2</td>\n",
       "      <td>2055</td>\n",
       "      <td>194</td>\n",
       "      <td>0.094404</td>\n",
       "    </tr>\n",
       "    <tr>\n",
       "      <td>3</td>\n",
       "      <td>330</td>\n",
       "      <td>27</td>\n",
       "      <td>0.081818</td>\n",
       "    </tr>\n",
       "    <tr>\n",
       "      <td>4</td>\n",
       "      <td>41</td>\n",
       "      <td>4</td>\n",
       "      <td>0.097561</td>\n",
       "    </tr>\n",
       "    <tr>\n",
       "      <td>5</td>\n",
       "      <td>9</td>\n",
       "      <td>0</td>\n",
       "      <td>0.000000</td>\n",
       "    </tr>\n",
       "    <tr>\n",
       "      <td>20</td>\n",
       "      <td>76</td>\n",
       "      <td>8</td>\n",
       "      <td>0.105263</td>\n",
       "    </tr>\n",
       "  </tbody>\n",
       "</table>\n",
       "</div>"
      ],
      "text/plain": [
       "          count   sum      mean\n",
       "children                       \n",
       "-1           47     1  0.021277\n",
       " 0        14149  1063  0.075129\n",
       " 1         4818   444  0.092154\n",
       " 2         2055   194  0.094404\n",
       " 3          330    27  0.081818\n",
       " 4           41     4  0.097561\n",
       " 5            9     0  0.000000\n",
       " 20          76     8  0.105263"
      ]
     },
     "execution_count": 39,
     "metadata": {},
     "output_type": "execute_result"
    }
   ],
   "source": [
    "data.groupby('children')['debt'].agg(['count','sum','mean'])"
   ]
  },
  {
   "cell_type": "code",
   "execution_count": 40,
   "metadata": {},
   "outputs": [
    {
     "data": {
      "text/html": [
       "<div>\n",
       "<style scoped>\n",
       "    .dataframe tbody tr th:only-of-type {\n",
       "        vertical-align: middle;\n",
       "    }\n",
       "\n",
       "    .dataframe tbody tr th {\n",
       "        vertical-align: top;\n",
       "    }\n",
       "\n",
       "    .dataframe thead th {\n",
       "        text-align: right;\n",
       "    }\n",
       "</style>\n",
       "<table border=\"1\" class=\"dataframe\">\n",
       "  <thead>\n",
       "    <tr style=\"text-align: right;\">\n",
       "      <th></th>\n",
       "      <th>count</th>\n",
       "      <th>sum</th>\n",
       "      <th>&lt;lambda_0&gt;</th>\n",
       "    </tr>\n",
       "    <tr>\n",
       "      <th>children</th>\n",
       "      <th></th>\n",
       "      <th></th>\n",
       "      <th></th>\n",
       "    </tr>\n",
       "  </thead>\n",
       "  <tbody>\n",
       "    <tr>\n",
       "      <td>-1</td>\n",
       "      <td>47</td>\n",
       "      <td>1</td>\n",
       "      <td>2.127660</td>\n",
       "    </tr>\n",
       "    <tr>\n",
       "      <td>0</td>\n",
       "      <td>14149</td>\n",
       "      <td>1063</td>\n",
       "      <td>7.512898</td>\n",
       "    </tr>\n",
       "    <tr>\n",
       "      <td>1</td>\n",
       "      <td>4818</td>\n",
       "      <td>444</td>\n",
       "      <td>9.215442</td>\n",
       "    </tr>\n",
       "    <tr>\n",
       "      <td>2</td>\n",
       "      <td>2055</td>\n",
       "      <td>194</td>\n",
       "      <td>9.440389</td>\n",
       "    </tr>\n",
       "    <tr>\n",
       "      <td>3</td>\n",
       "      <td>330</td>\n",
       "      <td>27</td>\n",
       "      <td>8.181818</td>\n",
       "    </tr>\n",
       "    <tr>\n",
       "      <td>4</td>\n",
       "      <td>41</td>\n",
       "      <td>4</td>\n",
       "      <td>9.756098</td>\n",
       "    </tr>\n",
       "    <tr>\n",
       "      <td>5</td>\n",
       "      <td>9</td>\n",
       "      <td>0</td>\n",
       "      <td>0.000000</td>\n",
       "    </tr>\n",
       "    <tr>\n",
       "      <td>20</td>\n",
       "      <td>76</td>\n",
       "      <td>8</td>\n",
       "      <td>10.526316</td>\n",
       "    </tr>\n",
       "  </tbody>\n",
       "</table>\n",
       "</div>"
      ],
      "text/plain": [
       "          count   sum  <lambda_0>\n",
       "children                         \n",
       "-1           47     1    2.127660\n",
       " 0        14149  1063    7.512898\n",
       " 1         4818   444    9.215442\n",
       " 2         2055   194    9.440389\n",
       " 3          330    27    8.181818\n",
       " 4           41     4    9.756098\n",
       " 5            9     0    0.000000\n",
       " 20          76     8   10.526316"
      ]
     },
     "execution_count": 40,
     "metadata": {},
     "output_type": "execute_result"
    }
   ],
   "source": [
    "data.groupby('children')['debt'].agg(['count', 'sum', lambda x: x.mean()*100])"
   ]
  },
  {
   "cell_type": "code",
   "execution_count": 41,
   "metadata": {},
   "outputs": [
    {
     "data": {
      "text/html": [
       "<div>\n",
       "<style scoped>\n",
       "    .dataframe tbody tr th:only-of-type {\n",
       "        vertical-align: middle;\n",
       "    }\n",
       "\n",
       "    .dataframe tbody tr th {\n",
       "        vertical-align: top;\n",
       "    }\n",
       "\n",
       "    .dataframe thead th {\n",
       "        text-align: right;\n",
       "    }\n",
       "</style>\n",
       "<table border=\"1\" class=\"dataframe\">\n",
       "  <thead>\n",
       "    <tr style=\"text-align: right;\">\n",
       "      <th></th>\n",
       "      <th>count</th>\n",
       "      <th>sum</th>\n",
       "      <th>&lt;lambda_0&gt;</th>\n",
       "    </tr>\n",
       "    <tr>\n",
       "      <th>children</th>\n",
       "      <th></th>\n",
       "      <th></th>\n",
       "      <th></th>\n",
       "    </tr>\n",
       "  </thead>\n",
       "  <tbody>\n",
       "    <tr>\n",
       "      <td>-1</td>\n",
       "      <td>47</td>\n",
       "      <td>1</td>\n",
       "      <td>2.13%</td>\n",
       "    </tr>\n",
       "    <tr>\n",
       "      <td>0</td>\n",
       "      <td>14149</td>\n",
       "      <td>1063</td>\n",
       "      <td>7.51%</td>\n",
       "    </tr>\n",
       "    <tr>\n",
       "      <td>1</td>\n",
       "      <td>4818</td>\n",
       "      <td>444</td>\n",
       "      <td>9.22%</td>\n",
       "    </tr>\n",
       "    <tr>\n",
       "      <td>2</td>\n",
       "      <td>2055</td>\n",
       "      <td>194</td>\n",
       "      <td>9.44%</td>\n",
       "    </tr>\n",
       "    <tr>\n",
       "      <td>3</td>\n",
       "      <td>330</td>\n",
       "      <td>27</td>\n",
       "      <td>8.18%</td>\n",
       "    </tr>\n",
       "    <tr>\n",
       "      <td>4</td>\n",
       "      <td>41</td>\n",
       "      <td>4</td>\n",
       "      <td>9.76%</td>\n",
       "    </tr>\n",
       "    <tr>\n",
       "      <td>5</td>\n",
       "      <td>9</td>\n",
       "      <td>0</td>\n",
       "      <td>0.0%</td>\n",
       "    </tr>\n",
       "    <tr>\n",
       "      <td>20</td>\n",
       "      <td>76</td>\n",
       "      <td>8</td>\n",
       "      <td>10.53%</td>\n",
       "    </tr>\n",
       "  </tbody>\n",
       "</table>\n",
       "</div>"
      ],
      "text/plain": [
       "          count   sum <lambda_0>\n",
       "children                        \n",
       "-1           47     1      2.13%\n",
       " 0        14149  1063      7.51%\n",
       " 1         4818   444      9.22%\n",
       " 2         2055   194      9.44%\n",
       " 3          330    27      8.18%\n",
       " 4           41     4      9.76%\n",
       " 5            9     0       0.0%\n",
       " 20          76     8     10.53%"
      ]
     },
     "execution_count": 41,
     "metadata": {},
     "output_type": "execute_result"
    }
   ],
   "source": [
    "data.groupby('children')['debt'].agg(['count', 'sum', lambda x: str(round(x.mean()*100,2)) +'%' ])"
   ]
  },
  {
   "cell_type": "markdown",
   "metadata": {},
   "source": [
    "- Есть ли зависимость между семейным положением и возвратом кредита в срок?"
   ]
  },
  {
   "cell_type": "code",
   "execution_count": 43,
   "metadata": {},
   "outputs": [
    {
     "name": "stdout",
     "output_type": "stream",
     "text": [
      "Процент невозврата в семьях с разным семейным положением: family_status\n",
      "в разводе                7.112971\n",
      "вдовец / вдова           6.562500\n",
      "гражданский брак         9.288963\n",
      "женат / замужем          7.520194\n",
      "не женат / не замужем    9.740491\n",
      "Name: debt, dtype: float64\n"
     ]
    }
   ],
   "source": [
    "df1 = data.groupby('family_status')['debt'].count()\n",
    "data_grouped1 = data.groupby('family_status')['debt'].sum()\n",
    "\n",
    "print('Процент невозврата в семьях с разным семейным положением:', (100*data_grouped1/df1))"
   ]
  },
  {
   "cell_type": "markdown",
   "metadata": {},
   "source": [
    "**Вывод**"
   ]
  },
  {
   "cell_type": "markdown",
   "metadata": {},
   "source": [
    "<font color='blue'> Видно, что люди в гражданском браке и холостые, имеют бОльшую предрасположенность к задержке выплаты кредита </font> "
   ]
  },
  {
   "cell_type": "code",
   "execution_count": 44,
   "metadata": {
    "scrolled": true
   },
   "outputs": [
    {
     "name": "stdout",
     "output_type": "stream",
     "text": [
      "Создали словарь:\n"
     ]
    },
    {
     "data": {
      "text/html": [
       "<div>\n",
       "<style scoped>\n",
       "    .dataframe tbody tr th:only-of-type {\n",
       "        vertical-align: middle;\n",
       "    }\n",
       "\n",
       "    .dataframe tbody tr th {\n",
       "        vertical-align: top;\n",
       "    }\n",
       "\n",
       "    .dataframe thead th {\n",
       "        text-align: right;\n",
       "    }\n",
       "</style>\n",
       "<table border=\"1\" class=\"dataframe\">\n",
       "  <thead>\n",
       "    <tr style=\"text-align: right;\">\n",
       "      <th></th>\n",
       "      <th>family_status_id</th>\n",
       "      <th>family_status</th>\n",
       "    </tr>\n",
       "  </thead>\n",
       "  <tbody>\n",
       "    <tr>\n",
       "      <td>0</td>\n",
       "      <td>0</td>\n",
       "      <td>женат / замужем</td>\n",
       "    </tr>\n",
       "    <tr>\n",
       "      <td>1</td>\n",
       "      <td>1</td>\n",
       "      <td>гражданский брак</td>\n",
       "    </tr>\n",
       "    <tr>\n",
       "      <td>2</td>\n",
       "      <td>2</td>\n",
       "      <td>вдовец / вдова</td>\n",
       "    </tr>\n",
       "    <tr>\n",
       "      <td>3</td>\n",
       "      <td>3</td>\n",
       "      <td>в разводе</td>\n",
       "    </tr>\n",
       "    <tr>\n",
       "      <td>4</td>\n",
       "      <td>4</td>\n",
       "      <td>не женат / не замужем</td>\n",
       "    </tr>\n",
       "  </tbody>\n",
       "</table>\n",
       "</div>"
      ],
      "text/plain": [
       "   family_status_id          family_status\n",
       "0                 0        женат / замужем\n",
       "1                 1       гражданский брак\n",
       "2                 2         вдовец / вдова\n",
       "3                 3              в разводе\n",
       "4                 4  не женат / не замужем"
      ]
     },
     "metadata": {},
     "output_type": "display_data"
    },
    {
     "name": "stdout",
     "output_type": "stream",
     "text": [
      "\n",
      "\n",
      "Сгруппированная таблица. Берем по id, другой столбец удалили:\n"
     ]
    },
    {
     "data": {
      "text/html": [
       "<div>\n",
       "<style scoped>\n",
       "    .dataframe tbody tr th:only-of-type {\n",
       "        vertical-align: middle;\n",
       "    }\n",
       "\n",
       "    .dataframe tbody tr th {\n",
       "        vertical-align: top;\n",
       "    }\n",
       "\n",
       "    .dataframe thead th {\n",
       "        text-align: right;\n",
       "    }\n",
       "</style>\n",
       "<table border=\"1\" class=\"dataframe\">\n",
       "  <thead>\n",
       "    <tr style=\"text-align: right;\">\n",
       "      <th></th>\n",
       "      <th>count</th>\n",
       "      <th>sum</th>\n",
       "      <th>&lt;lambda_0&gt;</th>\n",
       "    </tr>\n",
       "    <tr>\n",
       "      <th>family_status_id</th>\n",
       "      <th></th>\n",
       "      <th></th>\n",
       "      <th></th>\n",
       "    </tr>\n",
       "  </thead>\n",
       "  <tbody>\n",
       "    <tr>\n",
       "      <td>0</td>\n",
       "      <td>12380</td>\n",
       "      <td>931</td>\n",
       "      <td>7.52%</td>\n",
       "    </tr>\n",
       "    <tr>\n",
       "      <td>1</td>\n",
       "      <td>4177</td>\n",
       "      <td>388</td>\n",
       "      <td>9.29%</td>\n",
       "    </tr>\n",
       "    <tr>\n",
       "      <td>2</td>\n",
       "      <td>960</td>\n",
       "      <td>63</td>\n",
       "      <td>6.56%</td>\n",
       "    </tr>\n",
       "    <tr>\n",
       "      <td>3</td>\n",
       "      <td>1195</td>\n",
       "      <td>85</td>\n",
       "      <td>7.11%</td>\n",
       "    </tr>\n",
       "    <tr>\n",
       "      <td>4</td>\n",
       "      <td>2813</td>\n",
       "      <td>274</td>\n",
       "      <td>9.74%</td>\n",
       "    </tr>\n",
       "  </tbody>\n",
       "</table>\n",
       "</div>"
      ],
      "text/plain": [
       "                  count  sum <lambda_0>\n",
       "family_status_id                       \n",
       "0                 12380  931     7.52% \n",
       "1                  4177  388     9.29% \n",
       "2                   960   63     6.56% \n",
       "3                  1195   85     7.11% \n",
       "4                  2813  274     9.74% "
      ]
     },
     "metadata": {},
     "output_type": "display_data"
    },
    {
     "name": "stdout",
     "output_type": "stream",
     "text": [
      "\n",
      "\n",
      "Заменяем численные значения по ключу словаря:\n"
     ]
    },
    {
     "data": {
      "text/html": [
       "<div>\n",
       "<style scoped>\n",
       "    .dataframe tbody tr th:only-of-type {\n",
       "        vertical-align: middle;\n",
       "    }\n",
       "\n",
       "    .dataframe tbody tr th {\n",
       "        vertical-align: top;\n",
       "    }\n",
       "\n",
       "    .dataframe thead th {\n",
       "        text-align: right;\n",
       "    }\n",
       "</style>\n",
       "<table border=\"1\" class=\"dataframe\">\n",
       "  <thead>\n",
       "    <tr style=\"text-align: right;\">\n",
       "      <th></th>\n",
       "      <th>family_status_id</th>\n",
       "      <th>count</th>\n",
       "      <th>sum</th>\n",
       "      <th>&lt;lambda_0&gt;</th>\n",
       "    </tr>\n",
       "  </thead>\n",
       "  <tbody>\n",
       "    <tr>\n",
       "      <td>0</td>\n",
       "      <td>женат / замужем</td>\n",
       "      <td>12380</td>\n",
       "      <td>931</td>\n",
       "      <td>7.52%</td>\n",
       "    </tr>\n",
       "    <tr>\n",
       "      <td>1</td>\n",
       "      <td>гражданский брак</td>\n",
       "      <td>4177</td>\n",
       "      <td>388</td>\n",
       "      <td>9.29%</td>\n",
       "    </tr>\n",
       "    <tr>\n",
       "      <td>2</td>\n",
       "      <td>вдовец / вдова</td>\n",
       "      <td>960</td>\n",
       "      <td>63</td>\n",
       "      <td>6.56%</td>\n",
       "    </tr>\n",
       "    <tr>\n",
       "      <td>3</td>\n",
       "      <td>в разводе</td>\n",
       "      <td>1195</td>\n",
       "      <td>85</td>\n",
       "      <td>7.11%</td>\n",
       "    </tr>\n",
       "    <tr>\n",
       "      <td>4</td>\n",
       "      <td>не женат / не замужем</td>\n",
       "      <td>2813</td>\n",
       "      <td>274</td>\n",
       "      <td>9.74%</td>\n",
       "    </tr>\n",
       "  </tbody>\n",
       "</table>\n",
       "</div>"
      ],
      "text/plain": [
       "        family_status_id  count  sum <lambda_0>\n",
       "0        женат / замужем  12380  931     7.52% \n",
       "1       гражданский брак   4177  388     9.29% \n",
       "2         вдовец / вдова    960   63     6.56% \n",
       "3              в разводе   1195   85     7.11% \n",
       "4  не женат / не замужем   2813  274     9.74% "
      ]
     },
     "execution_count": 44,
     "metadata": {},
     "output_type": "execute_result"
    }
   ],
   "source": [
    "print('Создали словарь:')\n",
    "family_dict = data[['family_status_id', 'family_status']]\n",
    "family_dict = family_dict.drop_duplicates().reset_index(drop=True)\n",
    "display(family_dict)\n",
    "\n",
    "\n",
    "print('\\n\\nСгруппированная таблица. Берем по id, другой столбец удалили:')\n",
    "a = data.groupby('family_status_id')['debt'].agg(['count', 'sum', lambda x: '{:.2%} '.format(x.mean())])\n",
    "display(a)\n",
    "\n",
    "\n",
    "# Заменяем\n",
    "print('\\n\\nЗаменяем численные значения по ключу словаря:')\n",
    "a.reset_index().replace({'family_status_id': family_dict.family_status.to_dict()})"
   ]
  },
  {
   "cell_type": "markdown",
   "metadata": {},
   "source": [
    "- Есть ли зависимость между уровнем дохода и возвратом кредита в срок?"
   ]
  },
  {
   "cell_type": "code",
   "execution_count": 45,
   "metadata": {},
   "outputs": [
    {
     "name": "stdout",
     "output_type": "stream",
     "text": [
      "Процент невозврата в семьях с разным доходом: income\n",
      "low             7.933854\n",
      "pre-medium      8.457019\n",
      "upper-medium    8.872846\n",
      "high            7.173388\n",
      "Name: debt, dtype: float64\n"
     ]
    }
   ],
   "source": [
    "data['income'] = pd.qcut(data['total_income'], 4, labels=[\"low\", \"pre-medium\", \"upper-medium\", \"high\"])\n",
    "df1 = data.groupby('income')['debt'].count()\n",
    "data_grouped1 = data.groupby('income')['debt'].sum()\n",
    "\n",
    "print('Процент невозврата в семьях с разным доходом:', 100*data_grouped1/df1)"
   ]
  },
  {
   "cell_type": "markdown",
   "metadata": {},
   "source": [
    "**Вывод**\n"
   ]
  },
  {
   "cell_type": "markdown",
   "metadata": {},
   "source": [
    "<font color='blue'> Видно, что процент невозврата кредита в срок незначительно, но больше у людей со средним доходом </font>     "
   ]
  },
  {
   "cell_type": "markdown",
   "metadata": {},
   "source": [
    "- Как разные цели кредита влияют на его возврат в срок?"
   ]
  },
  {
   "cell_type": "code",
   "execution_count": 46,
   "metadata": {},
   "outputs": [
    {
     "name": "stdout",
     "output_type": "stream",
     "text": [
      "Процент невозврата в семьях с разными целями: purpose_category\n",
      "автомобиль      9.339513\n",
      "жилье           6.885759\n",
      "недвижимость    7.444636\n",
      "образование     9.199403\n",
      "свадьба         7.921635\n",
      "Name: debt, dtype: float64\n"
     ]
    }
   ],
   "source": [
    "df3 = data.groupby('purpose_category')['debt'].count()\n",
    "data_grouped3 = data.groupby('purpose_category')['debt'].sum()\n",
    "\n",
    "print('Процент невозврата в семьях с разными целями:', (100*data_grouped3/df3))"
   ]
  },
  {
   "cell_type": "markdown",
   "metadata": {},
   "source": [
    "**Вывод**"
   ]
  },
  {
   "cell_type": "markdown",
   "metadata": {},
   "source": [
    "<font color='blue'> Видно, что реже всего в срок отдают кредит, взятый на образование и автомобиль, а чаще - на жилье </font> "
   ]
  },
  {
   "cell_type": "markdown",
   "metadata": {},
   "source": [
    "## Шаг 4. Общий вывод"
   ]
  },
  {
   "cell_type": "markdown",
   "metadata": {},
   "source": [
    "<font color='blue'> Из анализа сделали следующие выводы: \n",
    "- самыми надежными клиентами являются бездетные клиенты, процент невозврата является 7%, в то время как семьи с 20 детьми не возвращают кредит в 10,5% случаев\n",
    "- вдовы и вдовцы не возвращают кредит в срок лишь в 6,5% случаев, в то время как процент невозврата у холостых клиентов или клиентов в гражданском браке превышает 9%\n",
    "- люди со средним доходом более склонны задержать выплату\n",
    "- самые надежные клиенты это люди, берущие кредит на операции с недвижимостью (5-6% невозвратов в срок), а самые безответственные те, кто обращается в банк с целью получить деньги на покупку автомобиля или оплаты обучения (10-11%)</font> "
   ]
  },
  {
   "cell_type": "markdown",
   "metadata": {},
   "source": [
    "## Чек-лист готовности проекта\n",
    "\n",
    "Поставьте 'x' в выполненных пунктах. Далее нажмите Shift+Enter."
   ]
  },
  {
   "cell_type": "markdown",
   "metadata": {},
   "source": [
    "- [x]  открыт файл;\n",
    "- [x]  файл изучен;\n",
    "- [x]  определены пропущенные значения;\n",
    "- [x]  заполнены пропущенные значения;\n",
    "- [x]  есть пояснение, какие пропущенные значения обнаружены;\n",
    "- [x]  описаны возможные причины появления пропусков в данных;\n",
    "- [x]  объяснено, по какому принципу заполнены пропуски;\n",
    "- [x]  заменен вещественный тип данных на целочисленный;\n",
    "- [x]  есть пояснение, какой метод используется для изменения типа данных и почему;\n",
    "- [x]  удалены дубликаты;\n",
    "- [x]  есть пояснение, какой метод используется для поиска и удаления дубликатов;\n",
    "- [x]  описаны возможные причины появления дубликатов в данных;\n",
    "- [x]  выделены леммы в значениях столбца с целями получения кредита;\n",
    "- [x]  описан процесс лемматизации;\n",
    "- [x]  данные категоризированы;\n",
    "- [x]  есть объяснение принципа категоризации данных;\n",
    "- [x]  есть ответ на вопрос: \"Есть ли зависимость между наличием детей и возвратом кредита в срок?\";\n",
    "- [x]  есть ответ на вопрос: \"Есть ли зависимость между семейным положением и возвратом кредита в срок?\";\n",
    "- [x]  есть ответ на вопрос: \"Есть ли зависимость между уровнем дохода и возвратом кредита в срок?\";\n",
    "- [x]  есть ответ на вопрос: \"Как разные цели кредита влияют на его возврат в срок?\";\n",
    "- [x]  в каждом этапе есть выводы;\n",
    "- [x]  есть общий вывод."
   ]
  }
 ],
 "metadata": {
  "ExecuteTimeLog": [
   {
    "duration": 655,
    "start_time": "2021-07-30T20:27:22.975Z"
   },
   {
    "duration": 59,
    "start_time": "2021-07-30T20:30:26.963Z"
   },
   {
    "duration": 60,
    "start_time": "2021-07-30T20:33:52.199Z"
   },
   {
    "duration": 62,
    "start_time": "2021-07-30T20:34:32.623Z"
   },
   {
    "duration": 6,
    "start_time": "2021-07-30T20:40:56.227Z"
   },
   {
    "duration": 11,
    "start_time": "2021-07-30T20:43:38.860Z"
   },
   {
    "duration": 6,
    "start_time": "2021-07-30T20:44:55.044Z"
   },
   {
    "duration": 7,
    "start_time": "2021-07-30T20:46:30.168Z"
   },
   {
    "duration": 12,
    "start_time": "2021-07-30T20:46:42.844Z"
   },
   {
    "duration": 6,
    "start_time": "2021-07-30T20:50:01.672Z"
   },
   {
    "duration": 6,
    "start_time": "2021-07-30T20:50:08.564Z"
   },
   {
    "duration": 6,
    "start_time": "2021-07-30T20:50:13.860Z"
   },
   {
    "duration": 7,
    "start_time": "2021-07-30T20:50:40.692Z"
   },
   {
    "duration": 8,
    "start_time": "2021-07-30T20:50:58.368Z"
   },
   {
    "duration": 8,
    "start_time": "2021-07-30T20:51:24.752Z"
   },
   {
    "duration": 8,
    "start_time": "2021-07-30T20:52:38.328Z"
   },
   {
    "duration": 8,
    "start_time": "2021-07-30T20:52:54.020Z"
   },
   {
    "duration": 11,
    "start_time": "2021-07-30T20:53:52.824Z"
   },
   {
    "duration": 9,
    "start_time": "2021-07-30T20:54:12.428Z"
   },
   {
    "duration": 9,
    "start_time": "2021-07-30T20:55:20.816Z"
   },
   {
    "duration": 9,
    "start_time": "2021-07-30T20:56:28.616Z"
   },
   {
    "duration": 8,
    "start_time": "2021-07-30T20:56:46.536Z"
   },
   {
    "duration": 9,
    "start_time": "2021-07-30T20:57:44.168Z"
   },
   {
    "duration": 8,
    "start_time": "2021-07-30T20:58:03.489Z"
   },
   {
    "duration": 11,
    "start_time": "2021-07-30T20:59:18.564Z"
   },
   {
    "duration": 18,
    "start_time": "2021-07-30T21:01:18.436Z"
   },
   {
    "duration": 17,
    "start_time": "2021-07-30T21:01:36.604Z"
   },
   {
    "duration": 17,
    "start_time": "2021-07-30T21:01:48.253Z"
   },
   {
    "duration": 11,
    "start_time": "2021-07-30T21:05:34.301Z"
   },
   {
    "duration": 12,
    "start_time": "2021-07-30T21:05:55.249Z"
   },
   {
    "duration": 14,
    "start_time": "2021-07-30T21:06:41.353Z"
   },
   {
    "duration": 12,
    "start_time": "2021-07-30T21:08:12.365Z"
   },
   {
    "duration": 9,
    "start_time": "2021-07-30T21:09:00.857Z"
   },
   {
    "duration": 61,
    "start_time": "2021-07-30T21:09:41.013Z"
   },
   {
    "duration": 10,
    "start_time": "2021-07-30T21:09:51.137Z"
   },
   {
    "duration": 241,
    "start_time": "2021-07-30T21:10:01.641Z"
   },
   {
    "duration": 10,
    "start_time": "2021-07-30T21:10:12.601Z"
   },
   {
    "duration": 12,
    "start_time": "2021-07-30T21:10:19.005Z"
   },
   {
    "duration": 11,
    "start_time": "2021-07-30T21:11:56.261Z"
   },
   {
    "duration": 12,
    "start_time": "2021-07-30T21:12:10.700Z"
   },
   {
    "duration": 11,
    "start_time": "2021-07-30T21:12:16.577Z"
   },
   {
    "duration": 16,
    "start_time": "2021-07-30T21:12:24.465Z"
   },
   {
    "duration": 15,
    "start_time": "2021-07-30T21:12:50.946Z"
   },
   {
    "duration": 9,
    "start_time": "2021-07-30T21:14:16.369Z"
   },
   {
    "duration": 11,
    "start_time": "2021-07-30T21:14:30.973Z"
   },
   {
    "duration": 10,
    "start_time": "2021-07-30T21:14:59.313Z"
   },
   {
    "duration": 9,
    "start_time": "2021-07-30T21:15:08.885Z"
   },
   {
    "duration": 10,
    "start_time": "2021-07-30T21:15:22.277Z"
   },
   {
    "duration": 16,
    "start_time": "2021-07-30T21:16:32.973Z"
   },
   {
    "duration": 17,
    "start_time": "2021-07-30T21:16:42.473Z"
   },
   {
    "duration": 13,
    "start_time": "2021-07-30T21:19:49.321Z"
   },
   {
    "duration": 13,
    "start_time": "2021-07-30T21:19:57.197Z"
   },
   {
    "duration": 13,
    "start_time": "2021-07-30T21:20:02.482Z"
   },
   {
    "duration": 13,
    "start_time": "2021-07-30T21:20:06.593Z"
   },
   {
    "duration": 12,
    "start_time": "2021-07-30T21:20:24.097Z"
   },
   {
    "duration": 15,
    "start_time": "2021-07-30T21:20:39.374Z"
   },
   {
    "duration": 16,
    "start_time": "2021-07-30T21:20:48.485Z"
   },
   {
    "duration": 16,
    "start_time": "2021-07-30T21:20:51.998Z"
   },
   {
    "duration": 184,
    "start_time": "2021-07-30T21:22:34.133Z"
   },
   {
    "duration": 184,
    "start_time": "2021-07-30T21:22:57.845Z"
   },
   {
    "duration": 37,
    "start_time": "2021-07-30T21:23:29.310Z"
   },
   {
    "duration": 25,
    "start_time": "2021-07-30T21:23:34.794Z"
   },
   {
    "duration": 13,
    "start_time": "2021-07-30T21:25:07.362Z"
   },
   {
    "duration": 13,
    "start_time": "2021-07-30T21:25:17.254Z"
   },
   {
    "duration": 16,
    "start_time": "2021-07-30T21:26:06.258Z"
   },
   {
    "duration": 15,
    "start_time": "2021-07-30T21:26:13.586Z"
   },
   {
    "duration": 16,
    "start_time": "2021-07-30T21:26:55.146Z"
   },
   {
    "duration": 16,
    "start_time": "2021-07-30T21:27:01.902Z"
   },
   {
    "duration": 18,
    "start_time": "2021-07-30T21:27:49.278Z"
   },
   {
    "duration": 194,
    "start_time": "2021-07-30T21:29:29.706Z"
   },
   {
    "duration": 17,
    "start_time": "2021-07-30T21:29:38.794Z"
   },
   {
    "duration": 202,
    "start_time": "2021-07-30T21:29:58.938Z"
   },
   {
    "duration": 19,
    "start_time": "2021-07-30T21:30:44.194Z"
   },
   {
    "duration": 20,
    "start_time": "2021-07-30T21:31:20.374Z"
   },
   {
    "duration": 21,
    "start_time": "2021-07-30T21:32:05.930Z"
   },
   {
    "duration": 22,
    "start_time": "2021-07-30T21:32:29.726Z"
   },
   {
    "duration": 23,
    "start_time": "2021-07-30T21:32:55.774Z"
   },
   {
    "duration": 191,
    "start_time": "2021-07-30T21:33:58.575Z"
   },
   {
    "duration": 28,
    "start_time": "2021-07-30T21:34:10.522Z"
   },
   {
    "duration": 28,
    "start_time": "2021-07-30T21:34:55.711Z"
   },
   {
    "duration": 28,
    "start_time": "2021-07-30T21:36:11.464Z"
   },
   {
    "duration": 273,
    "start_time": "2021-07-31T07:11:27.438Z"
   },
   {
    "duration": 232,
    "start_time": "2021-07-31T07:14:22.091Z"
   },
   {
    "duration": 236,
    "start_time": "2021-07-31T07:14:40.170Z"
   },
   {
    "duration": 604,
    "start_time": "2021-07-31T07:14:44.306Z"
   },
   {
    "duration": 22,
    "start_time": "2021-07-31T07:14:49.742Z"
   },
   {
    "duration": 4,
    "start_time": "2021-07-31T07:14:52.171Z"
   },
   {
    "duration": 13,
    "start_time": "2021-07-31T07:14:59.651Z"
   },
   {
    "duration": 12,
    "start_time": "2021-07-31T07:15:26.527Z"
   },
   {
    "duration": 13,
    "start_time": "2021-07-31T07:18:38.031Z"
   },
   {
    "duration": 262,
    "start_time": "2021-07-31T07:19:31.695Z"
   },
   {
    "duration": 236,
    "start_time": "2021-07-31T07:19:41.063Z"
   },
   {
    "duration": 248,
    "start_time": "2021-07-31T07:20:14.223Z"
   },
   {
    "duration": 21,
    "start_time": "2021-07-31T07:20:21.175Z"
   },
   {
    "duration": 23,
    "start_time": "2021-07-31T07:20:35.535Z"
   },
   {
    "duration": 35,
    "start_time": "2021-07-31T07:21:09.279Z"
   },
   {
    "duration": 40,
    "start_time": "2021-07-31T07:21:33.234Z"
   },
   {
    "duration": 5956,
    "start_time": "2021-07-31T07:22:05.639Z"
   },
   {
    "duration": 63,
    "start_time": "2021-07-31T07:22:20.071Z"
   },
   {
    "duration": 413,
    "start_time": "2021-08-02T06:59:02.231Z"
   },
   {
    "duration": 795,
    "start_time": "2021-08-02T06:59:08.831Z"
   },
   {
    "duration": 22,
    "start_time": "2021-08-02T06:59:10.815Z"
   },
   {
    "duration": 13,
    "start_time": "2021-08-02T06:59:12.039Z"
   },
   {
    "duration": 184,
    "start_time": "2021-08-02T06:59:14.799Z"
   },
   {
    "duration": 122,
    "start_time": "2021-08-02T06:59:25.683Z"
   },
   {
    "duration": 83,
    "start_time": "2021-08-02T07:00:35.639Z"
   },
   {
    "duration": 87,
    "start_time": "2021-08-02T07:01:37.767Z"
   },
   {
    "duration": 93,
    "start_time": "2021-08-02T07:01:49.139Z"
   },
   {
    "duration": 310,
    "start_time": "2021-08-02T07:04:41.599Z"
   },
   {
    "duration": 5707,
    "start_time": "2021-08-02T07:05:04.755Z"
   },
   {
    "duration": 250,
    "start_time": "2021-08-02T07:06:29.983Z"
   },
   {
    "duration": 230,
    "start_time": "2021-08-02T07:07:22.352Z"
   },
   {
    "duration": 231,
    "start_time": "2021-08-02T07:08:52.887Z"
   },
   {
    "duration": 2832,
    "start_time": "2021-08-02T07:10:55.067Z"
   },
   {
    "duration": 2866,
    "start_time": "2021-08-02T07:14:38.372Z"
   },
   {
    "duration": 584,
    "start_time": "2021-08-02T07:14:54.004Z"
   },
   {
    "duration": 854,
    "start_time": "2021-08-02T07:19:06.244Z"
   },
   {
    "duration": 604,
    "start_time": "2021-08-02T07:19:12.279Z"
   },
   {
    "duration": 112,
    "start_time": "2021-08-02T07:22:59.108Z"
   },
   {
    "duration": 363,
    "start_time": "2021-08-02T07:23:28.892Z"
   },
   {
    "duration": 302,
    "start_time": "2021-08-02T07:23:38.708Z"
   },
   {
    "duration": 316,
    "start_time": "2021-08-02T07:24:19.028Z"
   },
   {
    "duration": 109,
    "start_time": "2021-08-02T07:24:49.528Z"
   },
   {
    "duration": 655,
    "start_time": "2021-08-02T07:24:59.816Z"
   },
   {
    "duration": 272,
    "start_time": "2021-08-02T07:25:15.479Z"
   },
   {
    "duration": 239,
    "start_time": "2021-08-02T07:25:30.420Z"
   },
   {
    "duration": 225,
    "start_time": "2021-08-02T07:25:34.740Z"
   },
   {
    "duration": 595,
    "start_time": "2021-08-02T07:27:50.324Z"
   },
   {
    "duration": 615,
    "start_time": "2021-08-02T07:29:20.261Z"
   },
   {
    "duration": 640,
    "start_time": "2021-08-02T07:46:37.753Z"
   },
   {
    "duration": 272,
    "start_time": "2021-08-02T07:47:38.389Z"
   },
   {
    "duration": 595,
    "start_time": "2021-08-02T07:47:51.196Z"
   },
   {
    "duration": 9877,
    "start_time": "2021-08-02T07:48:10.365Z"
   },
   {
    "duration": 837,
    "start_time": "2021-08-02T07:48:27.724Z"
   },
   {
    "duration": 819,
    "start_time": "2021-08-02T07:48:37.160Z"
   },
   {
    "duration": 8957,
    "start_time": "2021-08-02T07:49:09.076Z"
   },
   {
    "duration": 858,
    "start_time": "2021-08-02T07:52:34.581Z"
   },
   {
    "duration": 848,
    "start_time": "2021-08-02T07:52:57.841Z"
   },
   {
    "duration": 4147,
    "start_time": "2021-08-02T07:56:50.893Z"
   },
   {
    "duration": 10,
    "start_time": "2021-08-02T07:59:23.213Z"
   },
   {
    "duration": 6,
    "start_time": "2021-08-02T08:06:10.578Z"
   },
   {
    "duration": 9,
    "start_time": "2021-08-02T08:06:23.062Z"
   },
   {
    "duration": 9,
    "start_time": "2021-08-02T08:06:28.214Z"
   },
   {
    "duration": 8,
    "start_time": "2021-08-02T08:07:46.650Z"
   },
   {
    "duration": 7,
    "start_time": "2021-08-02T08:08:06.586Z"
   },
   {
    "duration": 7,
    "start_time": "2021-08-02T08:08:50.050Z"
   },
   {
    "duration": 9,
    "start_time": "2021-08-02T08:12:33.922Z"
   },
   {
    "duration": 836,
    "start_time": "2021-08-02T08:26:07.105Z"
   },
   {
    "duration": 45,
    "start_time": "2021-08-02T08:26:07.944Z"
   },
   {
    "duration": 19,
    "start_time": "2021-08-02T08:26:07.992Z"
   },
   {
    "duration": 173,
    "start_time": "2021-08-02T08:26:08.014Z"
   },
   {
    "duration": 388,
    "start_time": "2021-08-02T08:26:08.189Z"
   },
   {
    "duration": -3500,
    "start_time": "2021-08-02T08:26:12.079Z"
   },
   {
    "duration": 23,
    "start_time": "2021-08-02T08:26:50.017Z"
   },
   {
    "duration": 90,
    "start_time": "2021-08-02T08:26:55.974Z"
   },
   {
    "duration": 43,
    "start_time": "2021-08-02T08:26:56.067Z"
   },
   {
    "duration": 13,
    "start_time": "2021-08-02T08:27:26.627Z"
   },
   {
    "duration": 10,
    "start_time": "2021-08-02T08:30:47.780Z"
   },
   {
    "duration": 97,
    "start_time": "2021-08-02T19:32:02.328Z"
   },
   {
    "duration": 371,
    "start_time": "2021-08-02T19:35:35.760Z"
   },
   {
    "duration": 832,
    "start_time": "2021-08-02T19:35:43.172Z"
   },
   {
    "duration": 34,
    "start_time": "2021-08-02T19:35:45.897Z"
   },
   {
    "duration": 161,
    "start_time": "2021-08-02T19:43:24.710Z"
   },
   {
    "duration": 6206,
    "start_time": "2021-08-02T19:43:24.874Z"
   },
   {
    "duration": 88,
    "start_time": "2021-08-02T19:43:53.701Z"
   },
   {
    "duration": 52,
    "start_time": "2021-08-02T19:43:55.737Z"
   },
   {
    "duration": 20,
    "start_time": "2021-08-02T19:43:56.797Z"
   },
   {
    "duration": 18,
    "start_time": "2021-08-02T19:43:59.821Z"
   },
   {
    "duration": 146,
    "start_time": "2021-08-02T19:44:02.101Z"
   },
   {
    "duration": 5835,
    "start_time": "2021-08-02T19:44:05.645Z"
   },
   {
    "duration": 14,
    "start_time": "2021-08-02T19:44:35.181Z"
   },
   {
    "duration": 6830,
    "start_time": "2021-08-02T19:47:21.449Z"
   },
   {
    "duration": 13,
    "start_time": "2021-08-02T19:49:14.945Z"
   },
   {
    "duration": 267,
    "start_time": "2021-08-02T19:59:20.110Z"
   },
   {
    "duration": 25,
    "start_time": "2021-08-02T19:59:46.158Z"
   },
   {
    "duration": 25,
    "start_time": "2021-08-02T20:02:25.530Z"
   },
   {
    "duration": 26,
    "start_time": "2021-08-02T20:03:25.494Z"
   },
   {
    "duration": 30,
    "start_time": "2021-08-02T20:03:31.642Z"
   },
   {
    "duration": 33,
    "start_time": "2021-08-02T20:05:27.010Z"
   },
   {
    "duration": 42,
    "start_time": "2021-08-02T20:06:14.946Z"
   },
   {
    "duration": 98,
    "start_time": "2021-08-02T20:13:46.783Z"
   },
   {
    "duration": 91,
    "start_time": "2021-08-02T20:14:42.715Z"
   },
   {
    "duration": 96,
    "start_time": "2021-08-02T20:14:55.503Z"
   },
   {
    "duration": 71,
    "start_time": "2021-08-02T20:15:17.371Z"
   },
   {
    "duration": 955,
    "start_time": "2021-08-03T09:18:28.873Z"
   },
   {
    "duration": 52,
    "start_time": "2021-08-03T09:18:29.831Z"
   },
   {
    "duration": 22,
    "start_time": "2021-08-03T09:18:29.886Z"
   },
   {
    "duration": 45,
    "start_time": "2021-08-03T09:19:43.701Z"
   },
   {
    "duration": 48,
    "start_time": "2021-08-03T09:20:13.187Z"
   },
   {
    "duration": 20,
    "start_time": "2021-08-03T09:20:36.412Z"
   },
   {
    "duration": 41,
    "start_time": "2021-08-03T09:20:37.981Z"
   },
   {
    "duration": 32,
    "start_time": "2021-08-03T09:20:55.679Z"
   },
   {
    "duration": 6,
    "start_time": "2021-08-03T09:21:07.553Z"
   },
   {
    "duration": 5,
    "start_time": "2021-08-03T09:21:16.234Z"
   },
   {
    "duration": 14,
    "start_time": "2021-08-03T09:24:18.671Z"
   },
   {
    "duration": 874,
    "start_time": "2021-08-03T19:46:15.150Z"
   },
   {
    "duration": 36,
    "start_time": "2021-08-03T19:46:16.846Z"
   },
   {
    "duration": 20,
    "start_time": "2021-08-03T19:46:17.082Z"
   },
   {
    "duration": 49,
    "start_time": "2021-08-03T19:46:18.423Z"
   },
   {
    "duration": 20,
    "start_time": "2021-08-03T19:46:18.727Z"
   },
   {
    "duration": 40,
    "start_time": "2021-08-03T19:46:18.858Z"
   },
   {
    "duration": 30,
    "start_time": "2021-08-03T19:46:19.071Z"
   },
   {
    "duration": 7,
    "start_time": "2021-08-03T19:46:19.152Z"
   },
   {
    "duration": 6,
    "start_time": "2021-08-03T19:46:19.319Z"
   },
   {
    "duration": 20,
    "start_time": "2021-08-03T19:46:20.636Z"
   },
   {
    "duration": 140,
    "start_time": "2021-08-03T19:46:21.900Z"
   },
   {
    "duration": 6176,
    "start_time": "2021-08-03T19:46:26.847Z"
   },
   {
    "duration": 5697,
    "start_time": "2021-08-03T19:46:44.472Z"
   },
   {
    "duration": 40,
    "start_time": "2021-08-03T19:46:50.184Z"
   },
   {
    "duration": 13,
    "start_time": "2021-08-03T19:46:53.654Z"
   },
   {
    "duration": 9,
    "start_time": "2021-08-03T19:46:57.250Z"
   },
   {
    "duration": 8,
    "start_time": "2021-08-03T19:49:54.822Z"
   },
   {
    "duration": 15,
    "start_time": "2021-08-03T19:51:38.723Z"
   },
   {
    "duration": 500,
    "start_time": "2021-08-03T19:52:31.139Z"
   },
   {
    "duration": 5,
    "start_time": "2021-08-03T19:52:45.175Z"
   },
   {
    "duration": 8,
    "start_time": "2021-08-03T19:52:53.667Z"
   },
   {
    "duration": 8,
    "start_time": "2021-08-03T19:53:35.575Z"
   },
   {
    "duration": 10,
    "start_time": "2021-08-03T19:53:44.283Z"
   },
   {
    "duration": 9,
    "start_time": "2021-08-03T19:53:57.977Z"
   },
   {
    "duration": 10,
    "start_time": "2021-08-03T19:57:20.139Z"
   },
   {
    "duration": 406,
    "start_time": "2021-08-03T19:59:06.847Z"
   },
   {
    "duration": 431,
    "start_time": "2021-08-03T20:00:03.899Z"
   },
   {
    "duration": 10,
    "start_time": "2021-08-03T20:00:29.087Z"
   },
   {
    "duration": 18,
    "start_time": "2021-08-03T20:00:42.155Z"
   },
   {
    "duration": 29,
    "start_time": "2021-08-03T20:01:27.787Z"
   },
   {
    "duration": 8,
    "start_time": "2021-08-03T20:01:50.735Z"
   },
   {
    "duration": 8,
    "start_time": "2021-08-03T20:02:08.222Z"
   },
   {
    "duration": 13,
    "start_time": "2021-08-03T20:02:13.367Z"
   },
   {
    "duration": 12,
    "start_time": "2021-08-03T20:02:18.789Z"
   },
   {
    "duration": 12,
    "start_time": "2021-08-03T20:02:40.463Z"
   },
   {
    "duration": 495,
    "start_time": "2021-08-03T20:03:46.370Z"
   },
   {
    "duration": 13,
    "start_time": "2021-08-03T20:04:08.700Z"
   },
   {
    "duration": 16,
    "start_time": "2021-08-03T20:08:23.527Z"
   },
   {
    "duration": 23,
    "start_time": "2021-08-03T20:10:05.519Z"
   },
   {
    "duration": 97,
    "start_time": "2021-08-03T20:10:52.003Z"
   },
   {
    "duration": 21,
    "start_time": "2021-08-03T20:11:55.114Z"
   },
   {
    "duration": 28,
    "start_time": "2021-08-03T20:12:00.752Z"
   },
   {
    "duration": 521,
    "start_time": "2021-08-03T20:14:50.502Z"
   },
   {
    "duration": 399,
    "start_time": "2021-08-03T20:15:02.388Z"
   },
   {
    "duration": 410,
    "start_time": "2021-08-03T20:15:52.151Z"
   },
   {
    "duration": 413,
    "start_time": "2021-08-03T20:16:45.079Z"
   },
   {
    "duration": 25,
    "start_time": "2021-08-03T20:17:18.136Z"
   },
   {
    "duration": 570,
    "start_time": "2021-08-03T20:17:29.412Z"
   },
   {
    "duration": 10252,
    "start_time": "2021-08-03T20:19:50.352Z"
   },
   {
    "duration": 27,
    "start_time": "2021-08-03T20:23:56.497Z"
   },
   {
    "duration": 830,
    "start_time": "2021-08-04T09:12:39.488Z"
   },
   {
    "duration": 49,
    "start_time": "2021-08-04T09:12:40.322Z"
   },
   {
    "duration": 21,
    "start_time": "2021-08-04T09:12:40.374Z"
   },
   {
    "duration": 72,
    "start_time": "2021-08-04T09:12:40.398Z"
   },
   {
    "duration": 22,
    "start_time": "2021-08-04T09:12:40.472Z"
   },
   {
    "duration": 39,
    "start_time": "2021-08-04T09:12:40.496Z"
   },
   {
    "duration": 30,
    "start_time": "2021-08-04T09:12:40.563Z"
   },
   {
    "duration": 6,
    "start_time": "2021-08-04T09:12:40.597Z"
   },
   {
    "duration": 21,
    "start_time": "2021-08-04T09:12:40.605Z"
   },
   {
    "duration": 5,
    "start_time": "2021-08-04T09:13:11.978Z"
   },
   {
    "duration": 5,
    "start_time": "2021-08-04T09:13:27.521Z"
   },
   {
    "duration": 6,
    "start_time": "2021-08-04T09:13:40.402Z"
   },
   {
    "duration": 5,
    "start_time": "2021-08-04T09:14:09.926Z"
   },
   {
    "duration": 80,
    "start_time": "2021-08-04T09:21:14.379Z"
   },
   {
    "duration": 35,
    "start_time": "2021-08-04T09:21:14.462Z"
   },
   {
    "duration": 12,
    "start_time": "2021-08-04T09:21:14.501Z"
   },
   {
    "duration": 78,
    "start_time": "2021-08-04T09:21:14.515Z"
   },
   {
    "duration": 20,
    "start_time": "2021-08-04T09:21:14.595Z"
   },
   {
    "duration": 62,
    "start_time": "2021-08-04T09:21:14.617Z"
   },
   {
    "duration": 30,
    "start_time": "2021-08-04T09:21:14.681Z"
   },
   {
    "duration": 5,
    "start_time": "2021-08-04T09:21:14.713Z"
   },
   {
    "duration": 11,
    "start_time": "2021-08-04T09:21:14.722Z"
   },
   {
    "duration": 30,
    "start_time": "2021-08-04T09:21:14.735Z"
   },
   {
    "duration": 8,
    "start_time": "2021-08-04T09:21:14.767Z"
   },
   {
    "duration": 10,
    "start_time": "2021-08-04T09:21:14.777Z"
   },
   {
    "duration": 40,
    "start_time": "2021-08-04T09:21:14.789Z"
   },
   {
    "duration": 116,
    "start_time": "2021-08-04T09:21:14.831Z"
   },
   {
    "duration": 6242,
    "start_time": "2021-08-04T09:21:14.950Z"
   },
   {
    "duration": 69,
    "start_time": "2021-08-04T09:21:21.195Z"
   },
   {
    "duration": 20,
    "start_time": "2021-08-04T09:21:21.267Z"
   },
   {
    "duration": 36,
    "start_time": "2021-08-04T09:21:21.290Z"
   },
   {
    "duration": 37,
    "start_time": "2021-08-04T09:21:21.329Z"
   },
   {
    "duration": 8868,
    "start_time": "2021-08-04T09:21:21.369Z"
   },
   {
    "duration": -4480,
    "start_time": "2021-08-04T09:21:34.720Z"
   },
   {
    "duration": 20,
    "start_time": "2021-08-04T09:23:18.415Z"
   },
   {
    "duration": 16,
    "start_time": "2021-08-04T09:23:25.232Z"
   },
   {
    "duration": 19,
    "start_time": "2021-08-04T09:23:32.129Z"
   },
   {
    "duration": 28,
    "start_time": "2021-08-04T09:23:39.413Z"
   },
   {
    "duration": 19,
    "start_time": "2021-08-04T09:23:47.518Z"
   },
   {
    "duration": 12,
    "start_time": "2021-08-04T09:24:17.080Z"
   },
   {
    "duration": 45,
    "start_time": "2021-08-04T09:24:38.274Z"
   },
   {
    "duration": 17,
    "start_time": "2021-08-04T09:26:43.215Z"
   },
   {
    "duration": 29,
    "start_time": "2021-08-04T09:26:54.442Z"
   },
   {
    "duration": 10,
    "start_time": "2021-08-04T09:28:46.095Z"
   },
   {
    "duration": 12,
    "start_time": "2021-08-04T09:28:52.403Z"
   },
   {
    "duration": 8,
    "start_time": "2021-08-04T09:28:58.326Z"
   },
   {
    "duration": 11,
    "start_time": "2021-08-04T09:29:06.294Z"
   },
   {
    "duration": 9,
    "start_time": "2021-08-04T09:29:11.751Z"
   },
   {
    "duration": 16,
    "start_time": "2021-08-04T09:29:19.203Z"
   },
   {
    "duration": 14,
    "start_time": "2021-08-04T09:29:43.307Z"
   },
   {
    "duration": 14,
    "start_time": "2021-08-04T09:29:49.545Z"
   },
   {
    "duration": 14,
    "start_time": "2021-08-04T09:29:55.200Z"
   },
   {
    "duration": 16,
    "start_time": "2021-08-04T09:30:11.789Z"
   },
   {
    "duration": 13,
    "start_time": "2021-08-04T09:30:18.191Z"
   },
   {
    "duration": 17443,
    "start_time": "2021-08-04T09:31:31.423Z"
   },
   {
    "duration": 81,
    "start_time": "2021-08-04T09:31:57.022Z"
   },
   {
    "duration": 52,
    "start_time": "2021-08-04T09:32:03.738Z"
   },
   {
    "duration": 20,
    "start_time": "2021-08-04T09:32:04.333Z"
   },
   {
    "duration": 39,
    "start_time": "2021-08-04T09:32:04.808Z"
   },
   {
    "duration": 28,
    "start_time": "2021-08-04T09:32:05.663Z"
   },
   {
    "duration": 6,
    "start_time": "2021-08-04T09:32:06.260Z"
   },
   {
    "duration": 4,
    "start_time": "2021-08-04T09:32:06.721Z"
   },
   {
    "duration": 5,
    "start_time": "2021-08-04T09:32:08.088Z"
   },
   {
    "duration": 5,
    "start_time": "2021-08-04T09:32:08.537Z"
   },
   {
    "duration": 5,
    "start_time": "2021-08-04T09:32:09.168Z"
   },
   {
    "duration": 7700,
    "start_time": "2021-08-04T09:32:18.433Z"
   },
   {
    "duration": 375,
    "start_time": "2021-08-04T19:53:03.147Z"
   },
   {
    "duration": 890,
    "start_time": "2021-08-04T19:53:18.487Z"
   },
   {
    "duration": 43,
    "start_time": "2021-08-04T19:53:21.371Z"
   },
   {
    "duration": 32,
    "start_time": "2021-08-04T19:53:22.532Z"
   },
   {
    "duration": 76,
    "start_time": "2021-08-04T19:53:24.352Z"
   },
   {
    "duration": 22,
    "start_time": "2021-08-04T19:53:24.912Z"
   },
   {
    "duration": 40,
    "start_time": "2021-08-04T19:53:25.511Z"
   },
   {
    "duration": 35,
    "start_time": "2021-08-04T19:53:26.416Z"
   },
   {
    "duration": 7,
    "start_time": "2021-08-04T19:53:27.239Z"
   },
   {
    "duration": 5,
    "start_time": "2021-08-04T19:53:27.867Z"
   },
   {
    "duration": 6,
    "start_time": "2021-08-04T19:53:29.827Z"
   },
   {
    "duration": 7,
    "start_time": "2021-08-04T19:53:30.682Z"
   },
   {
    "duration": 6,
    "start_time": "2021-08-04T19:53:31.411Z"
   },
   {
    "duration": 13,
    "start_time": "2021-08-04T19:53:33.203Z"
   },
   {
    "duration": 25,
    "start_time": "2021-08-04T19:53:34.219Z"
   },
   {
    "duration": 19,
    "start_time": "2021-08-04T19:53:35.060Z"
   },
   {
    "duration": 13,
    "start_time": "2021-08-04T19:53:35.952Z"
   },
   {
    "duration": 8,
    "start_time": "2021-08-04T19:53:36.783Z"
   },
   {
    "duration": 15,
    "start_time": "2021-08-04T19:53:37.599Z"
   },
   {
    "duration": 17,
    "start_time": "2021-08-04T19:53:39.392Z"
   },
   {
    "duration": 14,
    "start_time": "2021-08-04T19:53:40.576Z"
   },
   {
    "duration": 14,
    "start_time": "2021-08-04T19:53:41.723Z"
   },
   {
    "duration": 21,
    "start_time": "2021-08-04T19:53:43.580Z"
   },
   {
    "duration": 38,
    "start_time": "2021-08-04T19:53:44.356Z"
   },
   {
    "duration": 7888,
    "start_time": "2021-08-04T19:53:45.831Z"
   },
   {
    "duration": 476,
    "start_time": "2021-08-04T20:10:15.716Z"
   },
   {
    "duration": 629,
    "start_time": "2021-08-04T20:11:24.565Z"
   },
   {
    "duration": 507,
    "start_time": "2021-08-04T20:21:04.446Z"
   },
   {
    "duration": 528,
    "start_time": "2021-08-04T20:23:31.263Z"
   },
   {
    "duration": 93,
    "start_time": "2021-08-04T20:31:07.207Z"
   },
   {
    "duration": 494,
    "start_time": "2021-08-04T20:36:53.483Z"
   },
   {
    "duration": 502,
    "start_time": "2021-08-04T20:37:13.806Z"
   },
   {
    "duration": 84,
    "start_time": "2021-08-04T20:37:57.807Z"
   },
   {
    "duration": 119,
    "start_time": "2021-08-04T20:38:24.015Z"
   },
   {
    "duration": 87,
    "start_time": "2021-08-04T20:38:47.255Z"
   },
   {
    "duration": 90,
    "start_time": "2021-08-04T20:39:02.939Z"
   },
   {
    "duration": 120,
    "start_time": "2021-08-04T20:39:17.656Z"
   },
   {
    "duration": 90,
    "start_time": "2021-08-04T20:40:45.394Z"
   },
   {
    "duration": 456,
    "start_time": "2021-08-04T20:40:53.027Z"
   },
   {
    "duration": 4081,
    "start_time": "2021-08-04T20:41:00.702Z"
   },
   {
    "duration": 3706,
    "start_time": "2021-08-04T20:41:28.939Z"
   },
   {
    "duration": 3600,
    "start_time": "2021-08-04T20:43:19.955Z"
   },
   {
    "duration": 1307,
    "start_time": "2021-08-04T20:44:00.799Z"
   },
   {
    "duration": 1203,
    "start_time": "2021-08-04T20:44:23.934Z"
   },
   {
    "duration": 98,
    "start_time": "2021-08-04T20:44:45.379Z"
   },
   {
    "duration": 1209,
    "start_time": "2021-08-04T20:44:56.159Z"
   },
   {
    "duration": 1410,
    "start_time": "2021-08-04T20:45:18.411Z"
   },
   {
    "duration": 1420,
    "start_time": "2021-08-04T20:45:27.223Z"
   },
   {
    "duration": 8,
    "start_time": "2021-08-04T20:46:19.775Z"
   },
   {
    "duration": 30,
    "start_time": "2021-08-04T20:46:29.699Z"
   },
   {
    "duration": 1215,
    "start_time": "2021-08-04T20:48:37.491Z"
   },
   {
    "duration": 90,
    "start_time": "2021-08-04T20:48:56.835Z"
   },
   {
    "duration": 3886,
    "start_time": "2021-08-04T20:49:04.599Z"
   },
   {
    "duration": 3592,
    "start_time": "2021-08-04T20:49:17.555Z"
   },
   {
    "duration": 493,
    "start_time": "2021-08-04T20:50:13.763Z"
   },
   {
    "duration": 1362,
    "start_time": "2021-08-04T20:50:29.411Z"
   },
   {
    "duration": 518,
    "start_time": "2021-08-04T20:55:19.964Z"
   },
   {
    "duration": 8067,
    "start_time": "2021-08-04T20:56:34.323Z"
   },
   {
    "duration": 50,
    "start_time": "2021-08-04T20:59:50.764Z"
   },
   {
    "duration": 525,
    "start_time": "2021-08-04T21:00:53.552Z"
   },
   {
    "duration": 54,
    "start_time": "2021-08-04T21:01:09.432Z"
   },
   {
    "duration": 59,
    "start_time": "2021-08-04T21:01:20.767Z"
   },
   {
    "duration": 60,
    "start_time": "2021-08-04T21:01:35.635Z"
   },
   {
    "duration": 58,
    "start_time": "2021-08-04T21:01:45.739Z"
   },
   {
    "duration": 48,
    "start_time": "2021-08-04T21:01:49.792Z"
   },
   {
    "duration": 3086,
    "start_time": "2021-08-04T21:07:01.908Z"
   },
   {
    "duration": 2578,
    "start_time": "2021-08-04T21:07:13.788Z"
   },
   {
    "duration": 2672,
    "start_time": "2021-08-04T21:07:33.557Z"
   },
   {
    "duration": 2593,
    "start_time": "2021-08-04T21:07:46.728Z"
   },
   {
    "duration": 2630,
    "start_time": "2021-08-04T21:08:03.809Z"
   },
   {
    "duration": 2558,
    "start_time": "2021-08-04T21:08:18.880Z"
   },
   {
    "duration": 2605,
    "start_time": "2021-08-04T21:08:59.380Z"
   },
   {
    "duration": 2571,
    "start_time": "2021-08-04T21:09:14.652Z"
   },
   {
    "duration": 2635,
    "start_time": "2021-08-04T21:11:34.913Z"
   },
   {
    "duration": 2558,
    "start_time": "2021-08-04T21:11:46.640Z"
   },
   {
    "duration": 2585,
    "start_time": "2021-08-04T21:12:30.344Z"
   },
   {
    "duration": 2593,
    "start_time": "2021-08-04T21:13:07.169Z"
   },
   {
    "duration": 2592,
    "start_time": "2021-08-04T21:13:23.248Z"
   },
   {
    "duration": 2628,
    "start_time": "2021-08-04T21:13:45.576Z"
   },
   {
    "duration": 2598,
    "start_time": "2021-08-04T21:14:45.241Z"
   },
   {
    "duration": 2630,
    "start_time": "2021-08-04T21:15:16.476Z"
   },
   {
    "duration": 327,
    "start_time": "2021-08-04T21:15:34.932Z"
   },
   {
    "duration": 2553,
    "start_time": "2021-08-04T21:15:43.901Z"
   },
   {
    "duration": 2550,
    "start_time": "2021-08-04T21:16:02.785Z"
   },
   {
    "duration": 6697,
    "start_time": "2021-08-04T21:18:22.621Z"
   },
   {
    "duration": 2629,
    "start_time": "2021-08-04T21:19:42.637Z"
   },
   {
    "duration": 2834,
    "start_time": "2021-08-04T21:20:14.053Z"
   },
   {
    "duration": 2542,
    "start_time": "2021-08-04T21:20:25.021Z"
   },
   {
    "duration": 2539,
    "start_time": "2021-08-04T21:20:34.285Z"
   },
   {
    "duration": 2587,
    "start_time": "2021-08-04T21:21:04.101Z"
   },
   {
    "duration": 2590,
    "start_time": "2021-08-04T21:21:23.585Z"
   },
   {
    "duration": 2613,
    "start_time": "2021-08-04T21:21:47.825Z"
   },
   {
    "duration": 2591,
    "start_time": "2021-08-04T21:22:26.117Z"
   },
   {
    "duration": 2594,
    "start_time": "2021-08-04T21:22:38.513Z"
   },
   {
    "duration": 2593,
    "start_time": "2021-08-04T21:22:51.289Z"
   },
   {
    "duration": 19,
    "start_time": "2021-08-04T21:23:55.185Z"
   },
   {
    "duration": 1653,
    "start_time": "2021-08-04T21:32:18.489Z"
   },
   {
    "duration": 15834,
    "start_time": "2021-08-04T21:35:17.474Z"
   },
   {
    "duration": 310,
    "start_time": "2021-08-04T21:35:50.093Z"
   },
   {
    "duration": 307,
    "start_time": "2021-08-04T21:45:02.570Z"
   },
   {
    "duration": 1197,
    "start_time": "2021-08-04T21:45:28.814Z"
   },
   {
    "duration": 1434,
    "start_time": "2021-08-04T21:46:34.478Z"
   },
   {
    "duration": 1491,
    "start_time": "2021-08-04T21:48:24.002Z"
   },
   {
    "duration": 1742,
    "start_time": "2021-08-04T21:49:50.418Z"
   },
   {
    "duration": 9961,
    "start_time": "2021-08-04T21:55:21.379Z"
   },
   {
    "duration": 10937,
    "start_time": "2021-08-04T22:00:04.443Z"
   },
   {
    "duration": 10536,
    "start_time": "2021-08-04T22:00:23.419Z"
   },
   {
    "duration": 10759,
    "start_time": "2021-08-04T22:02:27.119Z"
   },
   {
    "duration": 10836,
    "start_time": "2021-08-04T22:03:37.631Z"
   },
   {
    "duration": 10767,
    "start_time": "2021-08-04T22:04:13.395Z"
   },
   {
    "duration": 10558,
    "start_time": "2021-08-04T22:04:37.471Z"
   },
   {
    "duration": 2274,
    "start_time": "2021-08-04T22:04:59.759Z"
   },
   {
    "duration": 2290,
    "start_time": "2021-08-04T22:05:26.499Z"
   },
   {
    "duration": -1076,
    "start_time": "2021-08-04T22:10:48.007Z"
   },
   {
    "duration": 1402,
    "start_time": "2021-08-04T22:10:56.688Z"
   },
   {
    "duration": 1405,
    "start_time": "2021-08-04T22:12:13.199Z"
   },
   {
    "duration": 1360,
    "start_time": "2021-08-04T22:12:31.207Z"
   },
   {
    "duration": 1382,
    "start_time": "2021-08-04T22:12:38.479Z"
   },
   {
    "duration": 1502,
    "start_time": "2021-08-04T22:12:48.640Z"
   },
   {
    "duration": 627,
    "start_time": "2021-08-05T12:40:25.656Z"
   },
   {
    "duration": 24,
    "start_time": "2021-08-05T12:40:31.132Z"
   },
   {
    "duration": 13,
    "start_time": "2021-08-05T12:40:33.972Z"
   },
   {
    "duration": 31,
    "start_time": "2021-08-05T12:40:37.093Z"
   },
   {
    "duration": 13,
    "start_time": "2021-08-05T12:40:38.204Z"
   },
   {
    "duration": 23,
    "start_time": "2021-08-05T12:40:39.057Z"
   },
   {
    "duration": 18,
    "start_time": "2021-08-05T12:40:39.800Z"
   },
   {
    "duration": 4,
    "start_time": "2021-08-05T12:40:40.545Z"
   },
   {
    "duration": 4,
    "start_time": "2021-08-05T12:40:41.440Z"
   },
   {
    "duration": 4,
    "start_time": "2021-08-05T12:40:43.728Z"
   },
   {
    "duration": 3,
    "start_time": "2021-08-05T12:40:44.453Z"
   },
   {
    "duration": 4,
    "start_time": "2021-08-05T12:40:45.292Z"
   },
   {
    "duration": 7,
    "start_time": "2021-08-05T12:40:46.612Z"
   },
   {
    "duration": 12,
    "start_time": "2021-08-05T12:40:47.369Z"
   },
   {
    "duration": 6,
    "start_time": "2021-08-05T12:40:48.084Z"
   },
   {
    "duration": 8,
    "start_time": "2021-08-05T12:40:48.921Z"
   },
   {
    "duration": 6,
    "start_time": "2021-08-05T12:40:49.921Z"
   },
   {
    "duration": 9,
    "start_time": "2021-08-05T12:40:50.752Z"
   },
   {
    "duration": 9,
    "start_time": "2021-08-05T12:40:51.980Z"
   },
   {
    "duration": 9,
    "start_time": "2021-08-05T12:40:52.736Z"
   },
   {
    "duration": 9,
    "start_time": "2021-08-05T12:40:53.381Z"
   },
   {
    "duration": 9,
    "start_time": "2021-08-05T12:40:54.741Z"
   },
   {
    "duration": 9,
    "start_time": "2021-08-05T12:40:55.321Z"
   },
   {
    "duration": 3743,
    "start_time": "2021-08-05T12:40:56.917Z"
   },
   {
    "duration": 30,
    "start_time": "2021-08-05T12:41:00.662Z"
   },
   {
    "duration": 13,
    "start_time": "2021-08-05T12:41:08.981Z"
   },
   {
    "duration": 62,
    "start_time": "2021-08-05T12:41:11.476Z"
   },
   {
    "duration": 2154,
    "start_time": "2021-08-05T12:41:14.860Z"
   },
   {
    "duration": 16626,
    "start_time": "2021-08-05T12:41:33.261Z"
   },
   {
    "duration": 53400,
    "start_time": "2021-08-05T12:42:23.141Z"
   },
   {
    "duration": -209,
    "start_time": "2021-08-05T12:44:33.163Z"
   },
   {
    "duration": 1413,
    "start_time": "2021-08-05T12:44:44.141Z"
   },
   {
    "duration": 1381,
    "start_time": "2021-08-05T12:47:03.569Z"
   },
   {
    "duration": 1425,
    "start_time": "2021-08-05T12:47:21.437Z"
   },
   {
    "duration": 1877,
    "start_time": "2021-08-05T12:47:25.265Z"
   },
   {
    "duration": 330,
    "start_time": "2021-08-05T12:47:41.037Z"
   },
   {
    "duration": 612,
    "start_time": "2021-08-05T12:47:59.370Z"
   },
   {
    "duration": 24,
    "start_time": "2021-08-05T12:48:02.590Z"
   },
   {
    "duration": 14,
    "start_time": "2021-08-05T12:48:03.594Z"
   },
   {
    "duration": 33,
    "start_time": "2021-08-05T12:48:05.170Z"
   },
   {
    "duration": 13,
    "start_time": "2021-08-05T12:48:05.754Z"
   },
   {
    "duration": 23,
    "start_time": "2021-08-05T12:48:06.310Z"
   },
   {
    "duration": 18,
    "start_time": "2021-08-05T12:48:06.854Z"
   },
   {
    "duration": 4,
    "start_time": "2021-08-05T12:48:07.358Z"
   },
   {
    "duration": 4,
    "start_time": "2021-08-05T12:48:07.810Z"
   },
   {
    "duration": 3,
    "start_time": "2021-08-05T12:48:09.222Z"
   },
   {
    "duration": 3,
    "start_time": "2021-08-05T12:48:09.754Z"
   },
   {
    "duration": 3,
    "start_time": "2021-08-05T12:48:10.311Z"
   },
   {
    "duration": 7,
    "start_time": "2021-08-05T12:48:12.013Z"
   },
   {
    "duration": 25,
    "start_time": "2021-08-05T12:48:12.022Z"
   },
   {
    "duration": 6,
    "start_time": "2021-08-05T12:48:12.270Z"
   },
   {
    "duration": 8,
    "start_time": "2021-08-05T12:48:12.894Z"
   },
   {
    "duration": 6,
    "start_time": "2021-08-05T12:48:13.371Z"
   },
   {
    "duration": 9,
    "start_time": "2021-08-05T12:48:13.918Z"
   },
   {
    "duration": 9,
    "start_time": "2021-08-05T12:48:14.274Z"
   },
   {
    "duration": 10,
    "start_time": "2021-08-05T12:48:14.398Z"
   },
   {
    "duration": 9,
    "start_time": "2021-08-05T12:48:14.930Z"
   },
   {
    "duration": 11,
    "start_time": "2021-08-05T12:48:15.974Z"
   },
   {
    "duration": 9,
    "start_time": "2021-08-05T12:48:16.426Z"
   },
   {
    "duration": 3495,
    "start_time": "2021-08-05T12:48:17.570Z"
   },
   {
    "duration": 30,
    "start_time": "2021-08-05T12:48:21.067Z"
   },
   {
    "duration": 12,
    "start_time": "2021-08-05T12:48:21.100Z"
   },
   {
    "duration": 64,
    "start_time": "2021-08-05T12:48:33.498Z"
   },
   {
    "duration": -269,
    "start_time": "2021-08-05T12:49:39.297Z"
   },
   {
    "duration": 51253,
    "start_time": "2021-08-05T12:51:16.022Z"
   },
   {
    "duration": 52737,
    "start_time": "2021-08-05T12:52:26.175Z"
   },
   {
    "duration": 1189,
    "start_time": "2021-08-05T13:34:35.521Z"
   },
   {
    "duration": 901,
    "start_time": "2021-08-05T16:36:45.235Z"
   },
   {
    "duration": 53,
    "start_time": "2021-08-05T16:36:46.139Z"
   },
   {
    "duration": 19,
    "start_time": "2021-08-05T16:36:46.195Z"
   },
   {
    "duration": 71,
    "start_time": "2021-08-05T16:36:46.217Z"
   },
   {
    "duration": 20,
    "start_time": "2021-08-05T16:36:46.291Z"
   },
   {
    "duration": 37,
    "start_time": "2021-08-05T16:36:46.313Z"
   },
   {
    "duration": 53,
    "start_time": "2021-08-05T16:36:46.353Z"
   },
   {
    "duration": 6,
    "start_time": "2021-08-05T16:36:46.410Z"
   },
   {
    "duration": 11,
    "start_time": "2021-08-05T16:36:46.419Z"
   },
   {
    "duration": 7,
    "start_time": "2021-08-05T16:36:46.433Z"
   },
   {
    "duration": 9,
    "start_time": "2021-08-05T16:36:46.442Z"
   },
   {
    "duration": 5,
    "start_time": "2021-08-05T16:36:46.486Z"
   },
   {
    "duration": 15,
    "start_time": "2021-08-05T16:36:46.493Z"
   },
   {
    "duration": 18,
    "start_time": "2021-08-05T16:36:46.510Z"
   },
   {
    "duration": 8,
    "start_time": "2021-08-05T16:36:46.530Z"
   },
   {
    "duration": 50,
    "start_time": "2021-08-05T16:36:46.540Z"
   },
   {
    "duration": 16,
    "start_time": "2021-08-05T16:36:46.592Z"
   },
   {
    "duration": 16,
    "start_time": "2021-08-05T16:36:46.611Z"
   },
   {
    "duration": 14,
    "start_time": "2021-08-05T16:36:46.629Z"
   },
   {
    "duration": 42,
    "start_time": "2021-08-05T16:36:46.645Z"
   },
   {
    "duration": 15,
    "start_time": "2021-08-05T16:36:46.689Z"
   },
   {
    "duration": 32,
    "start_time": "2021-08-05T16:36:46.706Z"
   },
   {
    "duration": 23,
    "start_time": "2021-08-05T16:36:46.743Z"
   },
   {
    "duration": 8457,
    "start_time": "2021-08-05T16:36:46.769Z"
   },
   {
    "duration": 68,
    "start_time": "2021-08-05T16:36:55.229Z"
   },
   {
    "duration": 85,
    "start_time": "2021-08-05T16:55:38.520Z"
   },
   {
    "duration": 39,
    "start_time": "2021-08-05T16:55:38.609Z"
   },
   {
    "duration": 46,
    "start_time": "2021-08-05T16:55:38.650Z"
   },
   {
    "duration": 60,
    "start_time": "2021-08-05T16:55:38.699Z"
   },
   {
    "duration": 22,
    "start_time": "2021-08-05T16:55:38.785Z"
   },
   {
    "duration": 37,
    "start_time": "2021-08-05T16:55:38.809Z"
   },
   {
    "duration": 52,
    "start_time": "2021-08-05T16:55:38.849Z"
   },
   {
    "duration": 6,
    "start_time": "2021-08-05T16:55:38.904Z"
   },
   {
    "duration": 20,
    "start_time": "2021-08-05T16:55:38.912Z"
   },
   {
    "duration": 9,
    "start_time": "2021-08-05T16:55:38.937Z"
   },
   {
    "duration": 36,
    "start_time": "2021-08-05T16:55:38.950Z"
   },
   {
    "duration": 5,
    "start_time": "2021-08-05T16:55:38.988Z"
   },
   {
    "duration": 30,
    "start_time": "2021-08-05T16:55:38.995Z"
   },
   {
    "duration": 22,
    "start_time": "2021-08-05T16:55:39.028Z"
   },
   {
    "duration": 22,
    "start_time": "2021-08-05T16:55:39.052Z"
   },
   {
    "duration": 38,
    "start_time": "2021-08-05T16:55:39.076Z"
   },
   {
    "duration": 21,
    "start_time": "2021-08-05T16:55:39.117Z"
   },
   {
    "duration": 27,
    "start_time": "2021-08-05T16:55:39.140Z"
   },
   {
    "duration": 20,
    "start_time": "2021-08-05T16:55:39.169Z"
   },
   {
    "duration": 24,
    "start_time": "2021-08-05T16:55:39.192Z"
   },
   {
    "duration": 32,
    "start_time": "2021-08-05T16:55:39.218Z"
   },
   {
    "duration": 22,
    "start_time": "2021-08-05T16:55:39.252Z"
   },
   {
    "duration": 30,
    "start_time": "2021-08-05T16:55:39.276Z"
   },
   {
    "duration": 8299,
    "start_time": "2021-08-05T16:55:39.308Z"
   },
   {
    "duration": 54,
    "start_time": "2021-08-05T16:55:47.610Z"
   },
   {
    "duration": 21,
    "start_time": "2021-08-05T16:55:47.686Z"
   },
   {
    "duration": 123,
    "start_time": "2021-08-05T16:55:47.710Z"
   },
   {
    "duration": 851,
    "start_time": "2021-08-05T16:57:51.732Z"
   },
   {
    "duration": 35,
    "start_time": "2021-08-05T16:57:52.586Z"
   },
   {
    "duration": 20,
    "start_time": "2021-08-05T16:57:52.624Z"
   },
   {
    "duration": 79,
    "start_time": "2021-08-05T16:57:52.647Z"
   },
   {
    "duration": 19,
    "start_time": "2021-08-05T16:57:52.728Z"
   },
   {
    "duration": 63,
    "start_time": "2021-08-05T16:57:52.749Z"
   },
   {
    "duration": 29,
    "start_time": "2021-08-05T16:57:52.814Z"
   },
   {
    "duration": 5,
    "start_time": "2021-08-05T16:57:52.846Z"
   },
   {
    "duration": 34,
    "start_time": "2021-08-05T16:57:52.855Z"
   },
   {
    "duration": 9,
    "start_time": "2021-08-05T16:57:52.892Z"
   },
   {
    "duration": 9,
    "start_time": "2021-08-05T16:57:52.904Z"
   },
   {
    "duration": 7,
    "start_time": "2021-08-05T16:57:52.915Z"
   },
   {
    "duration": 13,
    "start_time": "2021-08-05T16:57:52.924Z"
   },
   {
    "duration": 52,
    "start_time": "2021-08-05T16:57:52.939Z"
   },
   {
    "duration": 8,
    "start_time": "2021-08-05T16:57:52.994Z"
   },
   {
    "duration": 21,
    "start_time": "2021-08-05T16:57:53.004Z"
   },
   {
    "duration": 10,
    "start_time": "2021-08-05T16:57:53.028Z"
   },
   {
    "duration": 14,
    "start_time": "2021-08-05T16:57:53.040Z"
   },
   {
    "duration": 13,
    "start_time": "2021-08-05T16:57:53.085Z"
   },
   {
    "duration": 17,
    "start_time": "2021-08-05T16:57:53.100Z"
   },
   {
    "duration": 17,
    "start_time": "2021-08-05T16:57:53.119Z"
   },
   {
    "duration": 52,
    "start_time": "2021-08-05T16:57:53.139Z"
   },
   {
    "duration": 18,
    "start_time": "2021-08-05T16:57:53.194Z"
   },
   {
    "duration": 7845,
    "start_time": "2021-08-05T16:57:53.215Z"
   },
   {
    "duration": 64,
    "start_time": "2021-08-05T16:58:01.063Z"
   },
   {
    "duration": 21,
    "start_time": "2021-08-05T16:58:01.130Z"
   },
   {
    "duration": 108,
    "start_time": "2021-08-05T16:58:01.185Z"
   },
   {
    "duration": 220231,
    "start_time": "2021-08-05T16:58:01.296Z"
   },
   {
    "duration": -1764,
    "start_time": "2021-08-05T17:01:43.294Z"
   },
   {
    "duration": -1773,
    "start_time": "2021-08-05T17:01:43.304Z"
   },
   {
    "duration": -1779,
    "start_time": "2021-08-05T17:01:43.311Z"
   },
   {
    "duration": -1782,
    "start_time": "2021-08-05T17:01:43.316Z"
   },
   {
    "duration": -1789,
    "start_time": "2021-08-05T17:01:43.324Z"
   },
   {
    "duration": -1794,
    "start_time": "2021-08-05T17:01:43.330Z"
   },
   {
    "duration": -1801,
    "start_time": "2021-08-05T17:01:43.338Z"
   },
   {
    "duration": -1804,
    "start_time": "2021-08-05T17:01:43.343Z"
   },
   {
    "duration": -1809,
    "start_time": "2021-08-05T17:01:43.349Z"
   },
   {
    "duration": -1815,
    "start_time": "2021-08-05T17:01:43.356Z"
   },
   {
    "duration": -1819,
    "start_time": "2021-08-05T17:01:43.362Z"
   },
   {
    "duration": -1824,
    "start_time": "2021-08-05T17:01:43.368Z"
   },
   {
    "duration": -1907,
    "start_time": "2021-08-05T17:01:43.460Z"
   },
   {
    "duration": 83,
    "start_time": "2021-08-05T17:02:45.124Z"
   },
   {
    "duration": 34,
    "start_time": "2021-08-05T17:02:45.209Z"
   },
   {
    "duration": 41,
    "start_time": "2021-08-05T17:02:45.246Z"
   },
   {
    "duration": 47,
    "start_time": "2021-08-05T17:02:45.290Z"
   },
   {
    "duration": 44,
    "start_time": "2021-08-05T17:02:45.340Z"
   },
   {
    "duration": 37,
    "start_time": "2021-08-05T17:02:45.387Z"
   },
   {
    "duration": 28,
    "start_time": "2021-08-05T17:02:45.427Z"
   },
   {
    "duration": 6,
    "start_time": "2021-08-05T17:02:45.487Z"
   },
   {
    "duration": 8,
    "start_time": "2021-08-05T17:02:45.496Z"
   },
   {
    "duration": 8,
    "start_time": "2021-08-05T17:02:45.507Z"
   },
   {
    "duration": 8,
    "start_time": "2021-08-05T17:02:45.518Z"
   },
   {
    "duration": 9,
    "start_time": "2021-08-05T17:02:45.529Z"
   },
   {
    "duration": 50,
    "start_time": "2021-08-05T17:02:45.541Z"
   },
   {
    "duration": 11,
    "start_time": "2021-08-05T17:02:45.593Z"
   },
   {
    "duration": 13,
    "start_time": "2021-08-05T17:02:45.607Z"
   },
   {
    "duration": 11,
    "start_time": "2021-08-05T17:02:45.623Z"
   },
   {
    "duration": 51,
    "start_time": "2021-08-05T17:02:45.637Z"
   },
   {
    "duration": 15,
    "start_time": "2021-08-05T17:02:45.690Z"
   },
   {
    "duration": 20,
    "start_time": "2021-08-05T17:02:45.708Z"
   },
   {
    "duration": 21,
    "start_time": "2021-08-05T17:02:45.730Z"
   },
   {
    "duration": 39,
    "start_time": "2021-08-05T17:02:45.753Z"
   },
   {
    "duration": 30,
    "start_time": "2021-08-05T17:02:45.794Z"
   },
   {
    "duration": 27,
    "start_time": "2021-08-05T17:02:45.828Z"
   },
   {
    "duration": 8271,
    "start_time": "2021-08-05T17:02:45.857Z"
   },
   {
    "duration": 67,
    "start_time": "2021-08-05T17:02:54.131Z"
   },
   {
    "duration": 17,
    "start_time": "2021-08-05T17:02:54.201Z"
   },
   {
    "duration": 93,
    "start_time": "2021-08-05T17:02:54.682Z"
   },
   {
    "duration": 4985,
    "start_time": "2021-08-05T17:03:41.944Z"
   },
   {
    "duration": 24,
    "start_time": "2021-08-05T17:07:11.921Z"
   },
   {
    "duration": 16,
    "start_time": "2021-08-05T17:07:52.638Z"
   },
   {
    "duration": 17,
    "start_time": "2021-08-05T17:08:54.731Z"
   },
   {
    "duration": 20,
    "start_time": "2021-08-05T17:09:20.092Z"
   },
   {
    "duration": 389,
    "start_time": "2021-08-05T19:23:51.588Z"
   },
   {
    "duration": 847,
    "start_time": "2021-08-05T19:23:59.248Z"
   },
   {
    "duration": 35,
    "start_time": "2021-08-05T19:24:06.433Z"
   },
   {
    "duration": 20,
    "start_time": "2021-08-05T19:24:09.972Z"
   },
   {
    "duration": 48,
    "start_time": "2021-08-05T19:24:13.992Z"
   },
   {
    "duration": 20,
    "start_time": "2021-08-05T19:24:15.373Z"
   },
   {
    "duration": 37,
    "start_time": "2021-08-05T19:24:16.725Z"
   },
   {
    "duration": 29,
    "start_time": "2021-08-05T19:24:17.528Z"
   },
   {
    "duration": 6,
    "start_time": "2021-08-05T19:24:18.833Z"
   },
   {
    "duration": 4,
    "start_time": "2021-08-05T19:24:19.757Z"
   },
   {
    "duration": 5,
    "start_time": "2021-08-05T19:24:30.673Z"
   },
   {
    "duration": 5,
    "start_time": "2021-08-05T19:24:31.376Z"
   },
   {
    "duration": 4,
    "start_time": "2021-08-05T19:24:32.005Z"
   },
   {
    "duration": 12,
    "start_time": "2021-08-05T19:24:33.288Z"
   },
   {
    "duration": 16,
    "start_time": "2021-08-05T19:24:33.780Z"
   },
   {
    "duration": 8,
    "start_time": "2021-08-05T19:24:34.593Z"
   },
   {
    "duration": 11,
    "start_time": "2021-08-05T19:24:35.337Z"
   },
   {
    "duration": 8,
    "start_time": "2021-08-05T19:24:36.461Z"
   },
   {
    "duration": 14,
    "start_time": "2021-08-05T19:24:37.633Z"
   },
   {
    "duration": 13,
    "start_time": "2021-08-05T19:24:44.956Z"
   },
   {
    "duration": 14,
    "start_time": "2021-08-05T19:24:45.604Z"
   },
   {
    "duration": 14,
    "start_time": "2021-08-05T19:24:46.220Z"
   },
   {
    "duration": 15,
    "start_time": "2021-08-05T19:24:48.600Z"
   },
   {
    "duration": 13,
    "start_time": "2021-08-05T19:24:49.577Z"
   },
   {
    "duration": 7127,
    "start_time": "2021-08-05T19:24:51.828Z"
   },
   {
    "duration": 47,
    "start_time": "2021-08-05T19:24:58.958Z"
   },
   {
    "duration": 7128,
    "start_time": "2021-08-05T19:25:34.641Z"
   },
   {
    "duration": 7624,
    "start_time": "2021-08-05T19:25:41.771Z"
   },
   {
    "duration": 64,
    "start_time": "2021-08-05T19:25:49.398Z"
   },
   {
    "duration": 7092,
    "start_time": "2021-08-05T19:25:49.464Z"
   },
   {
    "duration": 7362,
    "start_time": "2021-08-05T19:25:56.558Z"
   },
   {
    "duration": 68,
    "start_time": "2021-08-05T19:26:03.922Z"
   },
   {
    "duration": 65,
    "start_time": "2021-08-05T19:26:07.561Z"
   },
   {
    "duration": 19,
    "start_time": "2021-08-05T19:26:24.184Z"
   },
   {
    "duration": 94,
    "start_time": "2021-08-05T19:26:28.633Z"
   },
   {
    "duration": 790,
    "start_time": "2021-08-05T19:32:22.695Z"
   },
   {
    "duration": 34,
    "start_time": "2021-08-05T19:32:42.982Z"
   },
   {
    "duration": 20,
    "start_time": "2021-08-05T19:32:44.593Z"
   },
   {
    "duration": 50,
    "start_time": "2021-08-05T19:32:47.685Z"
   },
   {
    "duration": 21,
    "start_time": "2021-08-05T19:32:49.125Z"
   },
   {
    "duration": 38,
    "start_time": "2021-08-05T19:32:50.089Z"
   },
   {
    "duration": 29,
    "start_time": "2021-08-05T19:32:51.421Z"
   },
   {
    "duration": 7,
    "start_time": "2021-08-05T19:32:52.105Z"
   },
   {
    "duration": 5,
    "start_time": "2021-08-05T19:32:53.029Z"
   },
   {
    "duration": 5,
    "start_time": "2021-08-05T19:32:56.414Z"
   },
   {
    "duration": 5,
    "start_time": "2021-08-05T19:32:57.470Z"
   },
   {
    "duration": 5,
    "start_time": "2021-08-05T19:32:58.341Z"
   },
   {
    "duration": 11,
    "start_time": "2021-08-05T19:33:00.281Z"
   },
   {
    "duration": 16,
    "start_time": "2021-08-05T19:33:01.270Z"
   },
   {
    "duration": 8,
    "start_time": "2021-08-05T19:33:02.089Z"
   },
   {
    "duration": 12,
    "start_time": "2021-08-05T19:33:04.569Z"
   },
   {
    "duration": 9,
    "start_time": "2021-08-05T19:33:05.649Z"
   },
   {
    "duration": 14,
    "start_time": "2021-08-05T19:33:06.449Z"
   },
   {
    "duration": 13,
    "start_time": "2021-08-05T19:33:08.221Z"
   },
   {
    "duration": 14,
    "start_time": "2021-08-05T19:33:08.929Z"
   },
   {
    "duration": 14,
    "start_time": "2021-08-05T19:33:09.977Z"
   },
   {
    "duration": 16,
    "start_time": "2021-08-05T19:33:12.333Z"
   },
   {
    "duration": 15,
    "start_time": "2021-08-05T19:33:13.361Z"
   },
   {
    "duration": 7232,
    "start_time": "2021-08-05T19:33:15.061Z"
   },
   {
    "duration": 61,
    "start_time": "2021-08-05T19:33:22.295Z"
   },
   {
    "duration": 7316,
    "start_time": "2021-08-05T19:33:45.313Z"
   },
   {
    "duration": 7497,
    "start_time": "2021-08-05T19:33:52.631Z"
   },
   {
    "duration": 67,
    "start_time": "2021-08-05T19:34:04.577Z"
   },
   {
    "duration": 19,
    "start_time": "2021-08-05T19:34:07.809Z"
   },
   {
    "duration": 98,
    "start_time": "2021-08-05T19:34:11.213Z"
   },
   {
    "duration": 790,
    "start_time": "2021-08-05T19:35:15.681Z"
   },
   {
    "duration": 5071,
    "start_time": "2021-08-05T19:35:19.885Z"
   },
   {
    "duration": 3631,
    "start_time": "2021-08-05T19:37:07.798Z"
   },
   {
    "duration": 3533,
    "start_time": "2021-08-05T19:37:36.981Z"
   },
   {
    "duration": 34,
    "start_time": "2021-08-05T19:38:13.305Z"
   },
   {
    "duration": 13,
    "start_time": "2021-08-05T19:38:32.869Z"
   },
   {
    "duration": 14,
    "start_time": "2021-08-05T19:38:36.737Z"
   },
   {
    "duration": 20,
    "start_time": "2021-08-05T19:38:46.206Z"
   },
   {
    "duration": 17,
    "start_time": "2021-08-05T19:38:46.733Z"
   },
   {
    "duration": 21,
    "start_time": "2021-08-05T19:38:47.725Z"
   },
   {
    "duration": 22,
    "start_time": "2021-08-05T19:38:48.609Z"
   },
   {
    "duration": 20,
    "start_time": "2021-08-05T19:38:49.333Z"
   },
   {
    "duration": 15,
    "start_time": "2021-08-05T19:38:51.989Z"
   },
   {
    "duration": 47,
    "start_time": "2021-08-05T19:38:56.042Z"
   },
   {
    "duration": 20,
    "start_time": "2021-08-05T19:38:59.029Z"
   },
   {
    "duration": 522,
    "start_time": "2021-08-05T19:40:34.070Z"
   },
   {
    "duration": 487,
    "start_time": "2021-08-05T19:41:34.306Z"
   },
   {
    "duration": 20,
    "start_time": "2021-08-05T19:41:41.306Z"
   },
   {
    "duration": 20,
    "start_time": "2021-08-05T19:44:39.814Z"
   },
   {
    "duration": 133,
    "start_time": "2021-08-05T19:45:12.038Z"
   },
   {
    "duration": 16,
    "start_time": "2021-08-05T19:45:17.430Z"
   },
   {
    "duration": 26,
    "start_time": "2021-08-05T19:45:50.406Z"
   },
   {
    "duration": 17,
    "start_time": "2021-08-05T19:47:06.622Z"
   },
   {
    "duration": 17,
    "start_time": "2021-08-05T19:47:37.766Z"
   },
   {
    "duration": 17,
    "start_time": "2021-08-05T19:48:32.266Z"
   },
   {
    "duration": 430,
    "start_time": "2021-08-05T19:48:58.046Z"
   },
   {
    "duration": 373,
    "start_time": "2021-08-05T19:49:20.394Z"
   },
   {
    "duration": 3500,
    "start_time": "2021-08-05T19:49:48.820Z"
   },
   {
    "duration": 3364,
    "start_time": "2021-08-05T19:50:00.410Z"
   },
   {
    "duration": 3380,
    "start_time": "2021-08-05T19:50:36.602Z"
   },
   {
    "duration": 20,
    "start_time": "2021-08-05T19:50:50.158Z"
   },
   {
    "duration": 259,
    "start_time": "2021-08-06T19:26:16.608Z"
   },
   {
    "duration": 592,
    "start_time": "2021-08-06T19:26:23.152Z"
   },
   {
    "duration": 21,
    "start_time": "2021-08-06T19:26:25.729Z"
   },
   {
    "duration": 13,
    "start_time": "2021-08-06T19:26:26.945Z"
   },
   {
    "duration": 31,
    "start_time": "2021-08-06T19:26:29.020Z"
   },
   {
    "duration": 14,
    "start_time": "2021-08-06T19:26:30.057Z"
   },
   {
    "duration": 24,
    "start_time": "2021-08-06T19:26:30.680Z"
   },
   {
    "duration": 19,
    "start_time": "2021-08-06T19:26:31.320Z"
   },
   {
    "duration": 5,
    "start_time": "2021-08-06T19:26:32.596Z"
   },
   {
    "duration": 3,
    "start_time": "2021-08-06T19:26:33.249Z"
   },
   {
    "duration": 4,
    "start_time": "2021-08-06T19:26:34.752Z"
   },
   {
    "duration": 4,
    "start_time": "2021-08-06T19:26:35.244Z"
   },
   {
    "duration": 3,
    "start_time": "2021-08-06T19:26:35.680Z"
   },
   {
    "duration": 7,
    "start_time": "2021-08-06T19:26:36.628Z"
   },
   {
    "duration": 11,
    "start_time": "2021-08-06T19:26:37.120Z"
   },
   {
    "duration": 6,
    "start_time": "2021-08-06T19:26:37.908Z"
   },
   {
    "duration": 7,
    "start_time": "2021-08-06T19:26:38.341Z"
   },
   {
    "duration": 6,
    "start_time": "2021-08-06T19:26:38.732Z"
   },
   {
    "duration": 9,
    "start_time": "2021-08-06T19:26:39.180Z"
   },
   {
    "duration": 8,
    "start_time": "2021-08-06T19:26:40.073Z"
   },
   {
    "duration": 9,
    "start_time": "2021-08-06T19:26:40.520Z"
   },
   {
    "duration": 9,
    "start_time": "2021-08-06T19:26:40.896Z"
   },
   {
    "duration": 10,
    "start_time": "2021-08-06T19:26:41.640Z"
   },
   {
    "duration": 8,
    "start_time": "2021-08-06T19:26:42.053Z"
   },
   {
    "duration": 3390,
    "start_time": "2021-08-06T19:26:44.021Z"
   },
   {
    "duration": 27,
    "start_time": "2021-08-06T19:26:47.413Z"
   },
   {
    "duration": 3374,
    "start_time": "2021-08-06T19:26:47.441Z"
   },
   {
    "duration": 3449,
    "start_time": "2021-08-06T19:26:50.817Z"
   },
   {
    "duration": 42,
    "start_time": "2021-08-06T19:26:54.268Z"
   },
   {
    "duration": 11,
    "start_time": "2021-08-06T19:26:54.312Z"
   },
   {
    "duration": 62,
    "start_time": "2021-08-06T19:26:59.056Z"
   },
   {
    "duration": 557,
    "start_time": "2021-08-06T19:27:02.017Z"
   },
   {
    "duration": 3280,
    "start_time": "2021-08-06T19:27:05.780Z"
   },
   {
    "duration": 2752,
    "start_time": "2021-08-06T19:27:09.062Z"
   },
   {
    "duration": 29,
    "start_time": "2021-08-06T19:27:24.148Z"
   },
   {
    "duration": 8,
    "start_time": "2021-08-06T19:27:25.916Z"
   },
   {
    "duration": 10,
    "start_time": "2021-08-06T19:27:27.381Z"
   },
   {
    "duration": 13,
    "start_time": "2021-08-06T19:27:29.668Z"
   },
   {
    "duration": 10,
    "start_time": "2021-08-06T19:27:30.061Z"
   },
   {
    "duration": 15,
    "start_time": "2021-08-06T19:27:30.656Z"
   },
   {
    "duration": 15,
    "start_time": "2021-08-06T19:27:31.249Z"
   },
   {
    "duration": 14,
    "start_time": "2021-08-06T19:27:31.800Z"
   },
   {
    "duration": 12,
    "start_time": "2021-08-06T19:27:33.188Z"
   },
   {
    "duration": 29,
    "start_time": "2021-08-06T19:27:34.456Z"
   },
   {
    "duration": 12,
    "start_time": "2021-08-06T19:27:34.980Z"
   },
   {
    "duration": 10,
    "start_time": "2021-08-06T19:27:43.632Z"
   }
  ],
  "kernelspec": {
   "display_name": "Python 3",
   "language": "python",
   "name": "python3"
  },
  "language_info": {
   "codemirror_mode": {
    "name": "ipython",
    "version": 3
   },
   "file_extension": ".py",
   "mimetype": "text/x-python",
   "name": "python",
   "nbconvert_exporter": "python",
   "pygments_lexer": "ipython3",
   "version": "3.8.3"
  },
  "toc": {
   "base_numbering": 1,
   "nav_menu": {},
   "number_sections": true,
   "sideBar": true,
   "skip_h1_title": true,
   "title_cell": "Table of Contents",
   "title_sidebar": "Contents",
   "toc_cell": false,
   "toc_position": {
    "height": "calc(100% - 180px)",
    "left": "10px",
    "top": "150px",
    "width": "281px"
   },
   "toc_section_display": true,
   "toc_window_display": true
  }
 },
 "nbformat": 4,
 "nbformat_minor": 2
}
