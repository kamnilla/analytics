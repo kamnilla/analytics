{
 "cells": [
  {
   "cell_type": "markdown",
   "metadata": {},
   "source": [
    "# Сборный проект - 1"
   ]
  },
  {
   "cell_type": "markdown",
   "metadata": {},
   "source": [
    "# Описание проекта\n",
    "\n",
    "Вы работаете в интернет-магазине «Стримчик», который продаёт по всему миру компьютерные игры. Из открытых источников доступны исторические данные о продажах игр, оценки пользователей и экспертов, жанры и платформы (например, Xbox или PlayStation). Вам нужно выявить определяющие успешность игры закономерности. Это позволит сделать ставку на потенциально популярный продукт и спланировать рекламные кампании.\n",
    "Перед вами данные до 2016 года. Представим, что сейчас декабрь 2016 г., и вы планируете кампанию на 2017-й. Нужно отработать принцип работы с данными. Неважно, прогнозируете ли вы продажи на 2017 год по данным 2016-го или же 2027-й — по данным 2026 года.\n",
    "В наборе данных попадается аббревиатура ESRB (Entertainment Software Rating Board) — это ассоциация, определяющая возрастной рейтинг компьютерных игр. ESRB оценивает игровой контент и присваивает ему подходящую возрастную категорию, например, «Для взрослых», «Для детей младшего возраста» или «Для подростков».\n",
    "\n",
    "# Описание данных\n",
    "- Name — название игры\n",
    "- Platform — платформа\n",
    "- Year_of_Release — год выпуска\n",
    "- Genre — жанр игры\n",
    "- NA_sales — продажи в Северной Америке (миллионы проданных копий)\n",
    "- EU_sales — продажи в Европе (миллионы проданных копий)\n",
    "- JP_sales — продажи в Японии (миллионы проданных копий)\n",
    "- Other_sales — продажи в других странах (миллионы проданных копий)\n",
    "- Critic_Score — оценка критиков (максимум 100)\n",
    "- User_Score — оценка пользователей (максимум 10)\n",
    "- Rating — рейтинг от организации ESRB (англ. Entertainment Software Rating Board). Эта ассоциация определяет рейтинг компьютерных игр и присваивает им подходящую возрастную категорию.\n",
    "\n",
    "Данные за 2016 год могут быть неполными."
   ]
  },
  {
   "cell_type": "markdown",
   "metadata": {},
   "source": [
    "## шаг. Откройте файл с данными и изучите общую информацию"
   ]
  },
  {
   "cell_type": "code",
   "execution_count": 1,
   "metadata": {},
   "outputs": [],
   "source": [
    "import pandas as pd\n",
    "import numpy as np\n",
    "\n",
    "data = pd.read_csv('/datasets/games.csv')"
   ]
  },
  {
   "cell_type": "code",
   "execution_count": 2,
   "metadata": {},
   "outputs": [
    {
     "name": "stdout",
     "output_type": "stream",
     "text": [
      "<class 'pandas.core.frame.DataFrame'>\n",
      "RangeIndex: 16715 entries, 0 to 16714\n",
      "Data columns (total 11 columns):\n",
      "Name               16713 non-null object\n",
      "Platform           16715 non-null object\n",
      "Year_of_Release    16446 non-null float64\n",
      "Genre              16713 non-null object\n",
      "NA_sales           16715 non-null float64\n",
      "EU_sales           16715 non-null float64\n",
      "JP_sales           16715 non-null float64\n",
      "Other_sales        16715 non-null float64\n",
      "Critic_Score       8137 non-null float64\n",
      "User_Score         10014 non-null object\n",
      "Rating             9949 non-null object\n",
      "dtypes: float64(6), object(5)\n",
      "memory usage: 1.4+ MB\n"
     ]
    }
   ],
   "source": [
    "data.info()"
   ]
  },
  {
   "cell_type": "code",
   "execution_count": 3,
   "metadata": {
    "scrolled": true
   },
   "outputs": [
    {
     "data": {
      "text/html": [
       "<div>\n",
       "<style scoped>\n",
       "    .dataframe tbody tr th:only-of-type {\n",
       "        vertical-align: middle;\n",
       "    }\n",
       "\n",
       "    .dataframe tbody tr th {\n",
       "        vertical-align: top;\n",
       "    }\n",
       "\n",
       "    .dataframe thead th {\n",
       "        text-align: right;\n",
       "    }\n",
       "</style>\n",
       "<table border=\"1\" class=\"dataframe\">\n",
       "  <thead>\n",
       "    <tr style=\"text-align: right;\">\n",
       "      <th></th>\n",
       "      <th>Year_of_Release</th>\n",
       "      <th>NA_sales</th>\n",
       "      <th>EU_sales</th>\n",
       "      <th>JP_sales</th>\n",
       "      <th>Other_sales</th>\n",
       "      <th>Critic_Score</th>\n",
       "    </tr>\n",
       "  </thead>\n",
       "  <tbody>\n",
       "    <tr>\n",
       "      <td>count</td>\n",
       "      <td>16446.000000</td>\n",
       "      <td>16715.000000</td>\n",
       "      <td>16715.000000</td>\n",
       "      <td>16715.000000</td>\n",
       "      <td>16715.000000</td>\n",
       "      <td>8137.000000</td>\n",
       "    </tr>\n",
       "    <tr>\n",
       "      <td>mean</td>\n",
       "      <td>2006.484616</td>\n",
       "      <td>0.263377</td>\n",
       "      <td>0.145060</td>\n",
       "      <td>0.077617</td>\n",
       "      <td>0.047342</td>\n",
       "      <td>68.967679</td>\n",
       "    </tr>\n",
       "    <tr>\n",
       "      <td>std</td>\n",
       "      <td>5.877050</td>\n",
       "      <td>0.813604</td>\n",
       "      <td>0.503339</td>\n",
       "      <td>0.308853</td>\n",
       "      <td>0.186731</td>\n",
       "      <td>13.938165</td>\n",
       "    </tr>\n",
       "    <tr>\n",
       "      <td>min</td>\n",
       "      <td>1980.000000</td>\n",
       "      <td>0.000000</td>\n",
       "      <td>0.000000</td>\n",
       "      <td>0.000000</td>\n",
       "      <td>0.000000</td>\n",
       "      <td>13.000000</td>\n",
       "    </tr>\n",
       "    <tr>\n",
       "      <td>25%</td>\n",
       "      <td>2003.000000</td>\n",
       "      <td>0.000000</td>\n",
       "      <td>0.000000</td>\n",
       "      <td>0.000000</td>\n",
       "      <td>0.000000</td>\n",
       "      <td>60.000000</td>\n",
       "    </tr>\n",
       "    <tr>\n",
       "      <td>50%</td>\n",
       "      <td>2007.000000</td>\n",
       "      <td>0.080000</td>\n",
       "      <td>0.020000</td>\n",
       "      <td>0.000000</td>\n",
       "      <td>0.010000</td>\n",
       "      <td>71.000000</td>\n",
       "    </tr>\n",
       "    <tr>\n",
       "      <td>75%</td>\n",
       "      <td>2010.000000</td>\n",
       "      <td>0.240000</td>\n",
       "      <td>0.110000</td>\n",
       "      <td>0.040000</td>\n",
       "      <td>0.030000</td>\n",
       "      <td>79.000000</td>\n",
       "    </tr>\n",
       "    <tr>\n",
       "      <td>max</td>\n",
       "      <td>2016.000000</td>\n",
       "      <td>41.360000</td>\n",
       "      <td>28.960000</td>\n",
       "      <td>10.220000</td>\n",
       "      <td>10.570000</td>\n",
       "      <td>98.000000</td>\n",
       "    </tr>\n",
       "  </tbody>\n",
       "</table>\n",
       "</div>"
      ],
      "text/plain": [
       "       Year_of_Release      NA_sales      EU_sales      JP_sales  \\\n",
       "count     16446.000000  16715.000000  16715.000000  16715.000000   \n",
       "mean       2006.484616      0.263377      0.145060      0.077617   \n",
       "std           5.877050      0.813604      0.503339      0.308853   \n",
       "min        1980.000000      0.000000      0.000000      0.000000   \n",
       "25%        2003.000000      0.000000      0.000000      0.000000   \n",
       "50%        2007.000000      0.080000      0.020000      0.000000   \n",
       "75%        2010.000000      0.240000      0.110000      0.040000   \n",
       "max        2016.000000     41.360000     28.960000     10.220000   \n",
       "\n",
       "        Other_sales  Critic_Score  \n",
       "count  16715.000000   8137.000000  \n",
       "mean       0.047342     68.967679  \n",
       "std        0.186731     13.938165  \n",
       "min        0.000000     13.000000  \n",
       "25%        0.000000     60.000000  \n",
       "50%        0.010000     71.000000  \n",
       "75%        0.030000     79.000000  \n",
       "max       10.570000     98.000000  "
      ]
     },
     "execution_count": 3,
     "metadata": {},
     "output_type": "execute_result"
    }
   ],
   "source": [
    "data.describe()"
   ]
  },
  {
   "cell_type": "code",
   "execution_count": 4,
   "metadata": {},
   "outputs": [
    {
     "data": {
      "text/html": [
       "<div>\n",
       "<style scoped>\n",
       "    .dataframe tbody tr th:only-of-type {\n",
       "        vertical-align: middle;\n",
       "    }\n",
       "\n",
       "    .dataframe tbody tr th {\n",
       "        vertical-align: top;\n",
       "    }\n",
       "\n",
       "    .dataframe thead th {\n",
       "        text-align: right;\n",
       "    }\n",
       "</style>\n",
       "<table border=\"1\" class=\"dataframe\">\n",
       "  <thead>\n",
       "    <tr style=\"text-align: right;\">\n",
       "      <th></th>\n",
       "      <th>Name</th>\n",
       "      <th>Platform</th>\n",
       "      <th>Year_of_Release</th>\n",
       "      <th>Genre</th>\n",
       "      <th>NA_sales</th>\n",
       "      <th>EU_sales</th>\n",
       "      <th>JP_sales</th>\n",
       "      <th>Other_sales</th>\n",
       "      <th>Critic_Score</th>\n",
       "      <th>User_Score</th>\n",
       "      <th>Rating</th>\n",
       "    </tr>\n",
       "  </thead>\n",
       "  <tbody>\n",
       "    <tr>\n",
       "      <td>0</td>\n",
       "      <td>Wii Sports</td>\n",
       "      <td>Wii</td>\n",
       "      <td>2006.0</td>\n",
       "      <td>Sports</td>\n",
       "      <td>41.36</td>\n",
       "      <td>28.96</td>\n",
       "      <td>3.77</td>\n",
       "      <td>8.45</td>\n",
       "      <td>76.0</td>\n",
       "      <td>8</td>\n",
       "      <td>E</td>\n",
       "    </tr>\n",
       "    <tr>\n",
       "      <td>1</td>\n",
       "      <td>Super Mario Bros.</td>\n",
       "      <td>NES</td>\n",
       "      <td>1985.0</td>\n",
       "      <td>Platform</td>\n",
       "      <td>29.08</td>\n",
       "      <td>3.58</td>\n",
       "      <td>6.81</td>\n",
       "      <td>0.77</td>\n",
       "      <td>NaN</td>\n",
       "      <td>NaN</td>\n",
       "      <td>NaN</td>\n",
       "    </tr>\n",
       "    <tr>\n",
       "      <td>2</td>\n",
       "      <td>Mario Kart Wii</td>\n",
       "      <td>Wii</td>\n",
       "      <td>2008.0</td>\n",
       "      <td>Racing</td>\n",
       "      <td>15.68</td>\n",
       "      <td>12.76</td>\n",
       "      <td>3.79</td>\n",
       "      <td>3.29</td>\n",
       "      <td>82.0</td>\n",
       "      <td>8.3</td>\n",
       "      <td>E</td>\n",
       "    </tr>\n",
       "    <tr>\n",
       "      <td>3</td>\n",
       "      <td>Wii Sports Resort</td>\n",
       "      <td>Wii</td>\n",
       "      <td>2009.0</td>\n",
       "      <td>Sports</td>\n",
       "      <td>15.61</td>\n",
       "      <td>10.93</td>\n",
       "      <td>3.28</td>\n",
       "      <td>2.95</td>\n",
       "      <td>80.0</td>\n",
       "      <td>8</td>\n",
       "      <td>E</td>\n",
       "    </tr>\n",
       "    <tr>\n",
       "      <td>4</td>\n",
       "      <td>Pokemon Red/Pokemon Blue</td>\n",
       "      <td>GB</td>\n",
       "      <td>1996.0</td>\n",
       "      <td>Role-Playing</td>\n",
       "      <td>11.27</td>\n",
       "      <td>8.89</td>\n",
       "      <td>10.22</td>\n",
       "      <td>1.00</td>\n",
       "      <td>NaN</td>\n",
       "      <td>NaN</td>\n",
       "      <td>NaN</td>\n",
       "    </tr>\n",
       "    <tr>\n",
       "      <td>5</td>\n",
       "      <td>Tetris</td>\n",
       "      <td>GB</td>\n",
       "      <td>1989.0</td>\n",
       "      <td>Puzzle</td>\n",
       "      <td>23.20</td>\n",
       "      <td>2.26</td>\n",
       "      <td>4.22</td>\n",
       "      <td>0.58</td>\n",
       "      <td>NaN</td>\n",
       "      <td>NaN</td>\n",
       "      <td>NaN</td>\n",
       "    </tr>\n",
       "    <tr>\n",
       "      <td>6</td>\n",
       "      <td>New Super Mario Bros.</td>\n",
       "      <td>DS</td>\n",
       "      <td>2006.0</td>\n",
       "      <td>Platform</td>\n",
       "      <td>11.28</td>\n",
       "      <td>9.14</td>\n",
       "      <td>6.50</td>\n",
       "      <td>2.88</td>\n",
       "      <td>89.0</td>\n",
       "      <td>8.5</td>\n",
       "      <td>E</td>\n",
       "    </tr>\n",
       "    <tr>\n",
       "      <td>7</td>\n",
       "      <td>Wii Play</td>\n",
       "      <td>Wii</td>\n",
       "      <td>2006.0</td>\n",
       "      <td>Misc</td>\n",
       "      <td>13.96</td>\n",
       "      <td>9.18</td>\n",
       "      <td>2.93</td>\n",
       "      <td>2.84</td>\n",
       "      <td>58.0</td>\n",
       "      <td>6.6</td>\n",
       "      <td>E</td>\n",
       "    </tr>\n",
       "    <tr>\n",
       "      <td>8</td>\n",
       "      <td>New Super Mario Bros. Wii</td>\n",
       "      <td>Wii</td>\n",
       "      <td>2009.0</td>\n",
       "      <td>Platform</td>\n",
       "      <td>14.44</td>\n",
       "      <td>6.94</td>\n",
       "      <td>4.70</td>\n",
       "      <td>2.24</td>\n",
       "      <td>87.0</td>\n",
       "      <td>8.4</td>\n",
       "      <td>E</td>\n",
       "    </tr>\n",
       "    <tr>\n",
       "      <td>9</td>\n",
       "      <td>Duck Hunt</td>\n",
       "      <td>NES</td>\n",
       "      <td>1984.0</td>\n",
       "      <td>Shooter</td>\n",
       "      <td>26.93</td>\n",
       "      <td>0.63</td>\n",
       "      <td>0.28</td>\n",
       "      <td>0.47</td>\n",
       "      <td>NaN</td>\n",
       "      <td>NaN</td>\n",
       "      <td>NaN</td>\n",
       "    </tr>\n",
       "  </tbody>\n",
       "</table>\n",
       "</div>"
      ],
      "text/plain": [
       "                        Name Platform  Year_of_Release         Genre  \\\n",
       "0                 Wii Sports      Wii           2006.0        Sports   \n",
       "1          Super Mario Bros.      NES           1985.0      Platform   \n",
       "2             Mario Kart Wii      Wii           2008.0        Racing   \n",
       "3          Wii Sports Resort      Wii           2009.0        Sports   \n",
       "4   Pokemon Red/Pokemon Blue       GB           1996.0  Role-Playing   \n",
       "5                     Tetris       GB           1989.0        Puzzle   \n",
       "6      New Super Mario Bros.       DS           2006.0      Platform   \n",
       "7                   Wii Play      Wii           2006.0          Misc   \n",
       "8  New Super Mario Bros. Wii      Wii           2009.0      Platform   \n",
       "9                  Duck Hunt      NES           1984.0       Shooter   \n",
       "\n",
       "   NA_sales  EU_sales  JP_sales  Other_sales  Critic_Score User_Score Rating  \n",
       "0     41.36     28.96      3.77         8.45          76.0          8      E  \n",
       "1     29.08      3.58      6.81         0.77           NaN        NaN    NaN  \n",
       "2     15.68     12.76      3.79         3.29          82.0        8.3      E  \n",
       "3     15.61     10.93      3.28         2.95          80.0          8      E  \n",
       "4     11.27      8.89     10.22         1.00           NaN        NaN    NaN  \n",
       "5     23.20      2.26      4.22         0.58           NaN        NaN    NaN  \n",
       "6     11.28      9.14      6.50         2.88          89.0        8.5      E  \n",
       "7     13.96      9.18      2.93         2.84          58.0        6.6      E  \n",
       "8     14.44      6.94      4.70         2.24          87.0        8.4      E  \n",
       "9     26.93      0.63      0.28         0.47           NaN        NaN    NaN  "
      ]
     },
     "execution_count": 4,
     "metadata": {},
     "output_type": "execute_result"
    }
   ],
   "source": [
    "data.head(10)"
   ]
  },
  {
   "cell_type": "markdown",
   "metadata": {},
   "source": [
    "### Вывод"
   ]
  },
  {
   "cell_type": "markdown",
   "metadata": {},
   "source": [
    "В исходных данных имеем данные о том, в каком году были выпущены игры, на какой платформе, рейтинги и продажи. Видим много пропущенных значений в столбцах с рейтингами критиков и пользователей, а также отсутсвующие некоторые значения в столбце \"год выпуска\". "
   ]
  },
  {
   "cell_type": "markdown",
   "metadata": {},
   "source": [
    "## шаг. Подготовьте данные"
   ]
  },
  {
   "cell_type": "code",
   "execution_count": 5,
   "metadata": {},
   "outputs": [],
   "source": [
    "# приведем названия столбцов в правильный вид к нижнему регистру\n",
    "data= data.rename(\n",
    "    columns=str.lower\n",
    ")"
   ]
  },
  {
   "cell_type": "code",
   "execution_count": 6,
   "metadata": {},
   "outputs": [],
   "source": [
    "data['user_score'] = data['user_score'].where(data['user_score']!='tbd', np.nan)\n",
    "data['user_score'] = data['user_score'].astype('float')"
   ]
  },
  {
   "cell_type": "code",
   "execution_count": 7,
   "metadata": {},
   "outputs": [
    {
     "data": {
      "text/html": [
       "<div>\n",
       "<style scoped>\n",
       "    .dataframe tbody tr th:only-of-type {\n",
       "        vertical-align: middle;\n",
       "    }\n",
       "\n",
       "    .dataframe tbody tr th {\n",
       "        vertical-align: top;\n",
       "    }\n",
       "\n",
       "    .dataframe thead th {\n",
       "        text-align: right;\n",
       "    }\n",
       "</style>\n",
       "<table border=\"1\" class=\"dataframe\">\n",
       "  <thead>\n",
       "    <tr style=\"text-align: right;\">\n",
       "      <th></th>\n",
       "      <th>name</th>\n",
       "      <th>platform</th>\n",
       "      <th>year_of_release</th>\n",
       "      <th>genre</th>\n",
       "      <th>na_sales</th>\n",
       "      <th>eu_sales</th>\n",
       "      <th>jp_sales</th>\n",
       "      <th>other_sales</th>\n",
       "      <th>critic_score</th>\n",
       "      <th>user_score</th>\n",
       "      <th>rating</th>\n",
       "    </tr>\n",
       "  </thead>\n",
       "  <tbody>\n",
       "    <tr>\n",
       "      <td>0</td>\n",
       "      <td>Wii Sports</td>\n",
       "      <td>Wii</td>\n",
       "      <td>2006.0</td>\n",
       "      <td>Sports</td>\n",
       "      <td>41.36</td>\n",
       "      <td>28.96</td>\n",
       "      <td>3.77</td>\n",
       "      <td>8.45</td>\n",
       "      <td>76.0</td>\n",
       "      <td>8.0</td>\n",
       "      <td>E</td>\n",
       "    </tr>\n",
       "    <tr>\n",
       "      <td>1</td>\n",
       "      <td>Super Mario Bros.</td>\n",
       "      <td>NES</td>\n",
       "      <td>1985.0</td>\n",
       "      <td>Platform</td>\n",
       "      <td>29.08</td>\n",
       "      <td>3.58</td>\n",
       "      <td>6.81</td>\n",
       "      <td>0.77</td>\n",
       "      <td>NaN</td>\n",
       "      <td>NaN</td>\n",
       "      <td>NaN</td>\n",
       "    </tr>\n",
       "    <tr>\n",
       "      <td>2</td>\n",
       "      <td>Mario Kart Wii</td>\n",
       "      <td>Wii</td>\n",
       "      <td>2008.0</td>\n",
       "      <td>Racing</td>\n",
       "      <td>15.68</td>\n",
       "      <td>12.76</td>\n",
       "      <td>3.79</td>\n",
       "      <td>3.29</td>\n",
       "      <td>82.0</td>\n",
       "      <td>8.3</td>\n",
       "      <td>E</td>\n",
       "    </tr>\n",
       "    <tr>\n",
       "      <td>3</td>\n",
       "      <td>Wii Sports Resort</td>\n",
       "      <td>Wii</td>\n",
       "      <td>2009.0</td>\n",
       "      <td>Sports</td>\n",
       "      <td>15.61</td>\n",
       "      <td>10.93</td>\n",
       "      <td>3.28</td>\n",
       "      <td>2.95</td>\n",
       "      <td>80.0</td>\n",
       "      <td>8.0</td>\n",
       "      <td>E</td>\n",
       "    </tr>\n",
       "    <tr>\n",
       "      <td>4</td>\n",
       "      <td>Pokemon Red/Pokemon Blue</td>\n",
       "      <td>GB</td>\n",
       "      <td>1996.0</td>\n",
       "      <td>Role-Playing</td>\n",
       "      <td>11.27</td>\n",
       "      <td>8.89</td>\n",
       "      <td>10.22</td>\n",
       "      <td>1.00</td>\n",
       "      <td>NaN</td>\n",
       "      <td>NaN</td>\n",
       "      <td>NaN</td>\n",
       "    </tr>\n",
       "    <tr>\n",
       "      <td>...</td>\n",
       "      <td>...</td>\n",
       "      <td>...</td>\n",
       "      <td>...</td>\n",
       "      <td>...</td>\n",
       "      <td>...</td>\n",
       "      <td>...</td>\n",
       "      <td>...</td>\n",
       "      <td>...</td>\n",
       "      <td>...</td>\n",
       "      <td>...</td>\n",
       "      <td>...</td>\n",
       "    </tr>\n",
       "    <tr>\n",
       "      <td>16710</td>\n",
       "      <td>Samurai Warriors: Sanada Maru</td>\n",
       "      <td>PS3</td>\n",
       "      <td>2016.0</td>\n",
       "      <td>Action</td>\n",
       "      <td>0.00</td>\n",
       "      <td>0.00</td>\n",
       "      <td>0.01</td>\n",
       "      <td>0.00</td>\n",
       "      <td>NaN</td>\n",
       "      <td>NaN</td>\n",
       "      <td>NaN</td>\n",
       "    </tr>\n",
       "    <tr>\n",
       "      <td>16711</td>\n",
       "      <td>LMA Manager 2007</td>\n",
       "      <td>X360</td>\n",
       "      <td>2006.0</td>\n",
       "      <td>Sports</td>\n",
       "      <td>0.00</td>\n",
       "      <td>0.01</td>\n",
       "      <td>0.00</td>\n",
       "      <td>0.00</td>\n",
       "      <td>NaN</td>\n",
       "      <td>NaN</td>\n",
       "      <td>NaN</td>\n",
       "    </tr>\n",
       "    <tr>\n",
       "      <td>16712</td>\n",
       "      <td>Haitaka no Psychedelica</td>\n",
       "      <td>PSV</td>\n",
       "      <td>2016.0</td>\n",
       "      <td>Adventure</td>\n",
       "      <td>0.00</td>\n",
       "      <td>0.00</td>\n",
       "      <td>0.01</td>\n",
       "      <td>0.00</td>\n",
       "      <td>NaN</td>\n",
       "      <td>NaN</td>\n",
       "      <td>NaN</td>\n",
       "    </tr>\n",
       "    <tr>\n",
       "      <td>16713</td>\n",
       "      <td>Spirits &amp; Spells</td>\n",
       "      <td>GBA</td>\n",
       "      <td>2003.0</td>\n",
       "      <td>Platform</td>\n",
       "      <td>0.01</td>\n",
       "      <td>0.00</td>\n",
       "      <td>0.00</td>\n",
       "      <td>0.00</td>\n",
       "      <td>NaN</td>\n",
       "      <td>NaN</td>\n",
       "      <td>NaN</td>\n",
       "    </tr>\n",
       "    <tr>\n",
       "      <td>16714</td>\n",
       "      <td>Winning Post 8 2016</td>\n",
       "      <td>PSV</td>\n",
       "      <td>2016.0</td>\n",
       "      <td>Simulation</td>\n",
       "      <td>0.00</td>\n",
       "      <td>0.00</td>\n",
       "      <td>0.01</td>\n",
       "      <td>0.00</td>\n",
       "      <td>NaN</td>\n",
       "      <td>NaN</td>\n",
       "      <td>NaN</td>\n",
       "    </tr>\n",
       "  </tbody>\n",
       "</table>\n",
       "<p>16715 rows × 11 columns</p>\n",
       "</div>"
      ],
      "text/plain": [
       "                                name platform  year_of_release         genre  \\\n",
       "0                         Wii Sports      Wii           2006.0        Sports   \n",
       "1                  Super Mario Bros.      NES           1985.0      Platform   \n",
       "2                     Mario Kart Wii      Wii           2008.0        Racing   \n",
       "3                  Wii Sports Resort      Wii           2009.0        Sports   \n",
       "4           Pokemon Red/Pokemon Blue       GB           1996.0  Role-Playing   \n",
       "...                              ...      ...              ...           ...   \n",
       "16710  Samurai Warriors: Sanada Maru      PS3           2016.0        Action   \n",
       "16711               LMA Manager 2007     X360           2006.0        Sports   \n",
       "16712        Haitaka no Psychedelica      PSV           2016.0     Adventure   \n",
       "16713               Spirits & Spells      GBA           2003.0      Platform   \n",
       "16714            Winning Post 8 2016      PSV           2016.0    Simulation   \n",
       "\n",
       "       na_sales  eu_sales  jp_sales  other_sales  critic_score  user_score  \\\n",
       "0         41.36     28.96      3.77         8.45          76.0         8.0   \n",
       "1         29.08      3.58      6.81         0.77           NaN         NaN   \n",
       "2         15.68     12.76      3.79         3.29          82.0         8.3   \n",
       "3         15.61     10.93      3.28         2.95          80.0         8.0   \n",
       "4         11.27      8.89     10.22         1.00           NaN         NaN   \n",
       "...         ...       ...       ...          ...           ...         ...   \n",
       "16710      0.00      0.00      0.01         0.00           NaN         NaN   \n",
       "16711      0.00      0.01      0.00         0.00           NaN         NaN   \n",
       "16712      0.00      0.00      0.01         0.00           NaN         NaN   \n",
       "16713      0.01      0.00      0.00         0.00           NaN         NaN   \n",
       "16714      0.00      0.00      0.01         0.00           NaN         NaN   \n",
       "\n",
       "      rating  \n",
       "0          E  \n",
       "1        NaN  \n",
       "2          E  \n",
       "3          E  \n",
       "4        NaN  \n",
       "...      ...  \n",
       "16710    NaN  \n",
       "16711    NaN  \n",
       "16712    NaN  \n",
       "16713    NaN  \n",
       "16714    NaN  \n",
       "\n",
       "[16715 rows x 11 columns]"
      ]
     },
     "execution_count": 7,
     "metadata": {},
     "output_type": "execute_result"
    }
   ],
   "source": [
    "data = data.astype({'year_of_release': int, 'user_score':float}, errors='ignore')\n",
    "data"
   ]
  },
  {
   "cell_type": "code",
   "execution_count": 8,
   "metadata": {},
   "outputs": [
    {
     "name": "stdout",
     "output_type": "stream",
     "text": [
      "<class 'pandas.core.frame.DataFrame'>\n",
      "RangeIndex: 16715 entries, 0 to 16714\n",
      "Data columns (total 11 columns):\n",
      "name               16713 non-null object\n",
      "platform           16715 non-null object\n",
      "year_of_release    16446 non-null float64\n",
      "genre              16713 non-null object\n",
      "na_sales           16715 non-null float64\n",
      "eu_sales           16715 non-null float64\n",
      "jp_sales           16715 non-null float64\n",
      "other_sales        16715 non-null float64\n",
      "critic_score       8137 non-null float64\n",
      "user_score         7590 non-null float64\n",
      "rating             9949 non-null object\n",
      "dtypes: float64(7), object(4)\n",
      "memory usage: 1.4+ MB\n"
     ]
    }
   ],
   "source": [
    "data.info()"
   ]
  },
  {
   "cell_type": "code",
   "execution_count": 9,
   "metadata": {},
   "outputs": [],
   "source": [
    "data['year_of_release'] = data['year_of_release'].astype('Int64')"
   ]
  },
  {
   "cell_type": "code",
   "execution_count": 10,
   "metadata": {},
   "outputs": [
    {
     "data": {
      "text/html": [
       "<div>\n",
       "<style scoped>\n",
       "    .dataframe tbody tr th:only-of-type {\n",
       "        vertical-align: middle;\n",
       "    }\n",
       "\n",
       "    .dataframe tbody tr th {\n",
       "        vertical-align: top;\n",
       "    }\n",
       "\n",
       "    .dataframe thead th {\n",
       "        text-align: right;\n",
       "    }\n",
       "</style>\n",
       "<table border=\"1\" class=\"dataframe\">\n",
       "  <thead>\n",
       "    <tr style=\"text-align: right;\">\n",
       "      <th></th>\n",
       "      <th>name</th>\n",
       "      <th>platform</th>\n",
       "      <th>year_of_release</th>\n",
       "      <th>genre</th>\n",
       "      <th>na_sales</th>\n",
       "      <th>eu_sales</th>\n",
       "      <th>jp_sales</th>\n",
       "      <th>other_sales</th>\n",
       "      <th>critic_score</th>\n",
       "      <th>user_score</th>\n",
       "      <th>rating</th>\n",
       "    </tr>\n",
       "  </thead>\n",
       "  <tbody>\n",
       "    <tr>\n",
       "      <td>0</td>\n",
       "      <td>Wii Sports</td>\n",
       "      <td>Wii</td>\n",
       "      <td>2006</td>\n",
       "      <td>Sports</td>\n",
       "      <td>41.36</td>\n",
       "      <td>28.96</td>\n",
       "      <td>3.77</td>\n",
       "      <td>8.45</td>\n",
       "      <td>76.0</td>\n",
       "      <td>8.0</td>\n",
       "      <td>E</td>\n",
       "    </tr>\n",
       "    <tr>\n",
       "      <td>1</td>\n",
       "      <td>Super Mario Bros.</td>\n",
       "      <td>NES</td>\n",
       "      <td>1985</td>\n",
       "      <td>Platform</td>\n",
       "      <td>29.08</td>\n",
       "      <td>3.58</td>\n",
       "      <td>6.81</td>\n",
       "      <td>0.77</td>\n",
       "      <td>NaN</td>\n",
       "      <td>NaN</td>\n",
       "      <td>NaN</td>\n",
       "    </tr>\n",
       "    <tr>\n",
       "      <td>2</td>\n",
       "      <td>Mario Kart Wii</td>\n",
       "      <td>Wii</td>\n",
       "      <td>2008</td>\n",
       "      <td>Racing</td>\n",
       "      <td>15.68</td>\n",
       "      <td>12.76</td>\n",
       "      <td>3.79</td>\n",
       "      <td>3.29</td>\n",
       "      <td>82.0</td>\n",
       "      <td>8.3</td>\n",
       "      <td>E</td>\n",
       "    </tr>\n",
       "    <tr>\n",
       "      <td>3</td>\n",
       "      <td>Wii Sports Resort</td>\n",
       "      <td>Wii</td>\n",
       "      <td>2009</td>\n",
       "      <td>Sports</td>\n",
       "      <td>15.61</td>\n",
       "      <td>10.93</td>\n",
       "      <td>3.28</td>\n",
       "      <td>2.95</td>\n",
       "      <td>80.0</td>\n",
       "      <td>8.0</td>\n",
       "      <td>E</td>\n",
       "    </tr>\n",
       "    <tr>\n",
       "      <td>4</td>\n",
       "      <td>Pokemon Red/Pokemon Blue</td>\n",
       "      <td>GB</td>\n",
       "      <td>1996</td>\n",
       "      <td>Role-Playing</td>\n",
       "      <td>11.27</td>\n",
       "      <td>8.89</td>\n",
       "      <td>10.22</td>\n",
       "      <td>1.00</td>\n",
       "      <td>NaN</td>\n",
       "      <td>NaN</td>\n",
       "      <td>NaN</td>\n",
       "    </tr>\n",
       "  </tbody>\n",
       "</table>\n",
       "</div>"
      ],
      "text/plain": [
       "                       name platform  year_of_release         genre  na_sales  \\\n",
       "0                Wii Sports      Wii             2006        Sports     41.36   \n",
       "1         Super Mario Bros.      NES             1985      Platform     29.08   \n",
       "2            Mario Kart Wii      Wii             2008        Racing     15.68   \n",
       "3         Wii Sports Resort      Wii             2009        Sports     15.61   \n",
       "4  Pokemon Red/Pokemon Blue       GB             1996  Role-Playing     11.27   \n",
       "\n",
       "   eu_sales  jp_sales  other_sales  critic_score  user_score rating  \n",
       "0     28.96      3.77         8.45          76.0         8.0      E  \n",
       "1      3.58      6.81         0.77           NaN         NaN    NaN  \n",
       "2     12.76      3.79         3.29          82.0         8.3      E  \n",
       "3     10.93      3.28         2.95          80.0         8.0      E  \n",
       "4      8.89     10.22         1.00           NaN         NaN    NaN  "
      ]
     },
     "execution_count": 10,
     "metadata": {},
     "output_type": "execute_result"
    }
   ],
   "source": [
    "data.head()"
   ]
  },
  {
   "cell_type": "code",
   "execution_count": 11,
   "metadata": {},
   "outputs": [
    {
     "name": "stdout",
     "output_type": "stream",
     "text": [
      "<class 'pandas.core.frame.DataFrame'>\n",
      "RangeIndex: 16715 entries, 0 to 16714\n",
      "Data columns (total 11 columns):\n",
      "name               16713 non-null object\n",
      "platform           16715 non-null object\n",
      "year_of_release    16446 non-null Int64\n",
      "genre              16713 non-null object\n",
      "na_sales           16715 non-null float64\n",
      "eu_sales           16715 non-null float64\n",
      "jp_sales           16715 non-null float64\n",
      "other_sales        16715 non-null float64\n",
      "critic_score       8137 non-null float64\n",
      "user_score         7590 non-null float64\n",
      "rating             9949 non-null object\n",
      "dtypes: Int64(1), float64(6), object(4)\n",
      "memory usage: 1.4+ MB\n"
     ]
    }
   ],
   "source": [
    "data.info()"
   ]
  },
  {
   "cell_type": "markdown",
   "metadata": {},
   "source": [
    "<hr style=\"border: 1px solid #000;\"> "
   ]
  },
  {
   "cell_type": "code",
   "execution_count": 12,
   "metadata": {},
   "outputs": [
    {
     "data": {
      "text/plain": [
       "name                  2\n",
       "platform              0\n",
       "year_of_release     269\n",
       "genre                 2\n",
       "na_sales              0\n",
       "eu_sales              0\n",
       "jp_sales              0\n",
       "other_sales           0\n",
       "critic_score       8578\n",
       "user_score         9125\n",
       "rating             6766\n",
       "dtype: int64"
      ]
     },
     "execution_count": 12,
     "metadata": {},
     "output_type": "execute_result"
    }
   ],
   "source": [
    "data.isna().sum()"
   ]
  },
  {
   "cell_type": "markdown",
   "metadata": {},
   "source": [
    "Видим, что значения отсутсвуют в большинстве в оценках и рейтингах, а также имеем пропуски в году выпуска. Можем предположить, что пропуски в именах связаны с тем, что они повторяются, а может просто данные внесены неверно. Уберем эти значения, где пропущено имя, а пропущенные значения в других столбцах оставим, т.к. мы не можем их заполнить никаким значением, т.к. это индивидуальные величины. Обратимся с данной проблемой к другим людям,которые выгружали данные."
   ]
  },
  {
   "cell_type": "code",
   "execution_count": 13,
   "metadata": {},
   "outputs": [
    {
     "data": {
      "text/html": [
       "<div>\n",
       "<style scoped>\n",
       "    .dataframe tbody tr th:only-of-type {\n",
       "        vertical-align: middle;\n",
       "    }\n",
       "\n",
       "    .dataframe tbody tr th {\n",
       "        vertical-align: top;\n",
       "    }\n",
       "\n",
       "    .dataframe thead th {\n",
       "        text-align: right;\n",
       "    }\n",
       "</style>\n",
       "<table border=\"1\" class=\"dataframe\">\n",
       "  <thead>\n",
       "    <tr style=\"text-align: right;\">\n",
       "      <th></th>\n",
       "      <th>name</th>\n",
       "      <th>platform</th>\n",
       "      <th>year_of_release</th>\n",
       "      <th>genre</th>\n",
       "      <th>na_sales</th>\n",
       "      <th>eu_sales</th>\n",
       "      <th>jp_sales</th>\n",
       "      <th>other_sales</th>\n",
       "      <th>critic_score</th>\n",
       "      <th>user_score</th>\n",
       "      <th>rating</th>\n",
       "    </tr>\n",
       "  </thead>\n",
       "  <tbody>\n",
       "    <tr>\n",
       "      <td>0</td>\n",
       "      <td>Wii Sports</td>\n",
       "      <td>Wii</td>\n",
       "      <td>2006</td>\n",
       "      <td>Sports</td>\n",
       "      <td>41.36</td>\n",
       "      <td>28.96</td>\n",
       "      <td>3.77</td>\n",
       "      <td>8.45</td>\n",
       "      <td>76.0</td>\n",
       "      <td>8.0</td>\n",
       "      <td>E</td>\n",
       "    </tr>\n",
       "    <tr>\n",
       "      <td>1</td>\n",
       "      <td>Super Mario Bros.</td>\n",
       "      <td>NES</td>\n",
       "      <td>1985</td>\n",
       "      <td>Platform</td>\n",
       "      <td>29.08</td>\n",
       "      <td>3.58</td>\n",
       "      <td>6.81</td>\n",
       "      <td>0.77</td>\n",
       "      <td>NaN</td>\n",
       "      <td>NaN</td>\n",
       "      <td>NaN</td>\n",
       "    </tr>\n",
       "    <tr>\n",
       "      <td>2</td>\n",
       "      <td>Mario Kart Wii</td>\n",
       "      <td>Wii</td>\n",
       "      <td>2008</td>\n",
       "      <td>Racing</td>\n",
       "      <td>15.68</td>\n",
       "      <td>12.76</td>\n",
       "      <td>3.79</td>\n",
       "      <td>3.29</td>\n",
       "      <td>82.0</td>\n",
       "      <td>8.3</td>\n",
       "      <td>E</td>\n",
       "    </tr>\n",
       "    <tr>\n",
       "      <td>3</td>\n",
       "      <td>Wii Sports Resort</td>\n",
       "      <td>Wii</td>\n",
       "      <td>2009</td>\n",
       "      <td>Sports</td>\n",
       "      <td>15.61</td>\n",
       "      <td>10.93</td>\n",
       "      <td>3.28</td>\n",
       "      <td>2.95</td>\n",
       "      <td>80.0</td>\n",
       "      <td>8.0</td>\n",
       "      <td>E</td>\n",
       "    </tr>\n",
       "    <tr>\n",
       "      <td>4</td>\n",
       "      <td>Pokemon Red/Pokemon Blue</td>\n",
       "      <td>GB</td>\n",
       "      <td>1996</td>\n",
       "      <td>Role-Playing</td>\n",
       "      <td>11.27</td>\n",
       "      <td>8.89</td>\n",
       "      <td>10.22</td>\n",
       "      <td>1.00</td>\n",
       "      <td>NaN</td>\n",
       "      <td>NaN</td>\n",
       "      <td>NaN</td>\n",
       "    </tr>\n",
       "    <tr>\n",
       "      <td>...</td>\n",
       "      <td>...</td>\n",
       "      <td>...</td>\n",
       "      <td>...</td>\n",
       "      <td>...</td>\n",
       "      <td>...</td>\n",
       "      <td>...</td>\n",
       "      <td>...</td>\n",
       "      <td>...</td>\n",
       "      <td>...</td>\n",
       "      <td>...</td>\n",
       "      <td>...</td>\n",
       "    </tr>\n",
       "    <tr>\n",
       "      <td>16710</td>\n",
       "      <td>Samurai Warriors: Sanada Maru</td>\n",
       "      <td>PS3</td>\n",
       "      <td>2016</td>\n",
       "      <td>Action</td>\n",
       "      <td>0.00</td>\n",
       "      <td>0.00</td>\n",
       "      <td>0.01</td>\n",
       "      <td>0.00</td>\n",
       "      <td>NaN</td>\n",
       "      <td>NaN</td>\n",
       "      <td>NaN</td>\n",
       "    </tr>\n",
       "    <tr>\n",
       "      <td>16711</td>\n",
       "      <td>LMA Manager 2007</td>\n",
       "      <td>X360</td>\n",
       "      <td>2006</td>\n",
       "      <td>Sports</td>\n",
       "      <td>0.00</td>\n",
       "      <td>0.01</td>\n",
       "      <td>0.00</td>\n",
       "      <td>0.00</td>\n",
       "      <td>NaN</td>\n",
       "      <td>NaN</td>\n",
       "      <td>NaN</td>\n",
       "    </tr>\n",
       "    <tr>\n",
       "      <td>16712</td>\n",
       "      <td>Haitaka no Psychedelica</td>\n",
       "      <td>PSV</td>\n",
       "      <td>2016</td>\n",
       "      <td>Adventure</td>\n",
       "      <td>0.00</td>\n",
       "      <td>0.00</td>\n",
       "      <td>0.01</td>\n",
       "      <td>0.00</td>\n",
       "      <td>NaN</td>\n",
       "      <td>NaN</td>\n",
       "      <td>NaN</td>\n",
       "    </tr>\n",
       "    <tr>\n",
       "      <td>16713</td>\n",
       "      <td>Spirits &amp; Spells</td>\n",
       "      <td>GBA</td>\n",
       "      <td>2003</td>\n",
       "      <td>Platform</td>\n",
       "      <td>0.01</td>\n",
       "      <td>0.00</td>\n",
       "      <td>0.00</td>\n",
       "      <td>0.00</td>\n",
       "      <td>NaN</td>\n",
       "      <td>NaN</td>\n",
       "      <td>NaN</td>\n",
       "    </tr>\n",
       "    <tr>\n",
       "      <td>16714</td>\n",
       "      <td>Winning Post 8 2016</td>\n",
       "      <td>PSV</td>\n",
       "      <td>2016</td>\n",
       "      <td>Simulation</td>\n",
       "      <td>0.00</td>\n",
       "      <td>0.00</td>\n",
       "      <td>0.01</td>\n",
       "      <td>0.00</td>\n",
       "      <td>NaN</td>\n",
       "      <td>NaN</td>\n",
       "      <td>NaN</td>\n",
       "    </tr>\n",
       "  </tbody>\n",
       "</table>\n",
       "<p>16713 rows × 11 columns</p>\n",
       "</div>"
      ],
      "text/plain": [
       "                                name platform  year_of_release         genre  \\\n",
       "0                         Wii Sports      Wii             2006        Sports   \n",
       "1                  Super Mario Bros.      NES             1985      Platform   \n",
       "2                     Mario Kart Wii      Wii             2008        Racing   \n",
       "3                  Wii Sports Resort      Wii             2009        Sports   \n",
       "4           Pokemon Red/Pokemon Blue       GB             1996  Role-Playing   \n",
       "...                              ...      ...              ...           ...   \n",
       "16710  Samurai Warriors: Sanada Maru      PS3             2016        Action   \n",
       "16711               LMA Manager 2007     X360             2006        Sports   \n",
       "16712        Haitaka no Psychedelica      PSV             2016     Adventure   \n",
       "16713               Spirits & Spells      GBA             2003      Platform   \n",
       "16714            Winning Post 8 2016      PSV             2016    Simulation   \n",
       "\n",
       "       na_sales  eu_sales  jp_sales  other_sales  critic_score  user_score  \\\n",
       "0         41.36     28.96      3.77         8.45          76.0         8.0   \n",
       "1         29.08      3.58      6.81         0.77           NaN         NaN   \n",
       "2         15.68     12.76      3.79         3.29          82.0         8.3   \n",
       "3         15.61     10.93      3.28         2.95          80.0         8.0   \n",
       "4         11.27      8.89     10.22         1.00           NaN         NaN   \n",
       "...         ...       ...       ...          ...           ...         ...   \n",
       "16710      0.00      0.00      0.01         0.00           NaN         NaN   \n",
       "16711      0.00      0.01      0.00         0.00           NaN         NaN   \n",
       "16712      0.00      0.00      0.01         0.00           NaN         NaN   \n",
       "16713      0.01      0.00      0.00         0.00           NaN         NaN   \n",
       "16714      0.00      0.00      0.01         0.00           NaN         NaN   \n",
       "\n",
       "      rating  \n",
       "0          E  \n",
       "1        NaN  \n",
       "2          E  \n",
       "3          E  \n",
       "4        NaN  \n",
       "...      ...  \n",
       "16710    NaN  \n",
       "16711    NaN  \n",
       "16712    NaN  \n",
       "16713    NaN  \n",
       "16714    NaN  \n",
       "\n",
       "[16713 rows x 11 columns]"
      ]
     },
     "execution_count": 13,
     "metadata": {},
     "output_type": "execute_result"
    }
   ],
   "source": [
    "data = data.dropna(subset=['name'])\n",
    "data"
   ]
  },
  {
   "cell_type": "code",
   "execution_count": 14,
   "metadata": {},
   "outputs": [
    {
     "data": {
      "text/plain": [
       "array([8. , nan, 8.3, 8.5, 6.6, 8.4, 8.6, 7.7, 6.3, 7.4, 8.2, 9. , 7.9,\n",
       "       8.1, 8.7, 7.1, 3.4, 5.3, 4.8, 3.2, 8.9, 6.4, 7.8, 7.5, 2.6, 7.2,\n",
       "       9.2, 7. , 7.3, 4.3, 7.6, 5.7, 5. , 9.1, 6.5, 8.8, 6.9, 9.4, 6.8,\n",
       "       6.1, 6.7, 5.4, 4. , 4.9, 4.5, 9.3, 6.2, 4.2, 6. , 3.7, 4.1, 5.8,\n",
       "       5.6, 5.5, 4.4, 4.6, 5.9, 3.9, 3.1, 2.9, 5.2, 3.3, 4.7, 5.1, 3.5,\n",
       "       2.5, 1.9, 3. , 2.7, 2.2, 2. , 9.5, 2.1, 3.6, 2.8, 1.8, 3.8, 0. ,\n",
       "       1.6, 9.6, 2.4, 1.7, 1.1, 0.3, 1.5, 0.7, 1.2, 2.3, 0.5, 1.3, 0.2,\n",
       "       0.6, 1.4, 0.9, 1. , 9.7])"
      ]
     },
     "execution_count": 14,
     "metadata": {},
     "output_type": "execute_result"
    }
   ],
   "source": [
    "data['user_score'].unique()"
   ]
  },
  {
   "cell_type": "markdown",
   "metadata": {},
   "source": [
    "Видим, что в данном столбце имеются не только числовые значения, но и значение 'tbd', необходимо выявить, что это значит. Предположительно эта аббревиатура означает \"to be determined\", что можно отнести к nan."
   ]
  },
  {
   "cell_type": "code",
   "execution_count": 15,
   "metadata": {},
   "outputs": [
    {
     "name": "stderr",
     "output_type": "stream",
     "text": [
      "/opt/conda/lib/python3.7/site-packages/ipykernel_launcher.py:1: SettingWithCopyWarning: \n",
      "A value is trying to be set on a copy of a slice from a DataFrame.\n",
      "Try using .loc[row_indexer,col_indexer] = value instead\n",
      "\n",
      "See the caveats in the documentation: http://pandas.pydata.org/pandas-docs/stable/user_guide/indexing.html#returning-a-view-versus-a-copy\n",
      "  \"\"\"Entry point for launching an IPython kernel.\n"
     ]
    }
   ],
   "source": [
    "data['world_sales'] = data['na_sales'] + data['eu_sales'] +data['jp_sales']+data['other_sales']"
   ]
  },
  {
   "cell_type": "markdown",
   "metadata": {},
   "source": [
    "Добавили столбец с общими продажами, которые были совершены по всему миру"
   ]
  },
  {
   "cell_type": "markdown",
   "metadata": {},
   "source": [
    "## 3 шаг. Проведите исследовательский анализ данных"
   ]
  },
  {
   "cell_type": "code",
   "execution_count": 16,
   "metadata": {},
   "outputs": [],
   "source": [
    "data_per_year = data.pivot_table(index='year_of_release', values='name', aggfunc='count')"
   ]
  },
  {
   "cell_type": "code",
   "execution_count": 17,
   "metadata": {},
   "outputs": [
    {
     "data": {
      "text/html": [
       "<div>\n",
       "<style scoped>\n",
       "    .dataframe tbody tr th:only-of-type {\n",
       "        vertical-align: middle;\n",
       "    }\n",
       "\n",
       "    .dataframe tbody tr th {\n",
       "        vertical-align: top;\n",
       "    }\n",
       "\n",
       "    .dataframe thead th {\n",
       "        text-align: right;\n",
       "    }\n",
       "</style>\n",
       "<table border=\"1\" class=\"dataframe\">\n",
       "  <thead>\n",
       "    <tr style=\"text-align: right;\">\n",
       "      <th></th>\n",
       "      <th>name</th>\n",
       "    </tr>\n",
       "    <tr>\n",
       "      <th>year_of_release</th>\n",
       "      <th></th>\n",
       "    </tr>\n",
       "  </thead>\n",
       "  <tbody>\n",
       "    <tr>\n",
       "      <td>1980</td>\n",
       "      <td>9</td>\n",
       "    </tr>\n",
       "    <tr>\n",
       "      <td>1981</td>\n",
       "      <td>46</td>\n",
       "    </tr>\n",
       "    <tr>\n",
       "      <td>1982</td>\n",
       "      <td>36</td>\n",
       "    </tr>\n",
       "    <tr>\n",
       "      <td>1983</td>\n",
       "      <td>17</td>\n",
       "    </tr>\n",
       "    <tr>\n",
       "      <td>1984</td>\n",
       "      <td>14</td>\n",
       "    </tr>\n",
       "  </tbody>\n",
       "</table>\n",
       "</div>"
      ],
      "text/plain": [
       "                 name\n",
       "year_of_release      \n",
       "1980                9\n",
       "1981               46\n",
       "1982               36\n",
       "1983               17\n",
       "1984               14"
      ]
     },
     "execution_count": 17,
     "metadata": {},
     "output_type": "execute_result"
    }
   ],
   "source": [
    "data_per_year.head()"
   ]
  },
  {
   "cell_type": "code",
   "execution_count": 18,
   "metadata": {},
   "outputs": [],
   "source": [
    "import matplotlib.pyplot as plt"
   ]
  },
  {
   "cell_type": "code",
   "execution_count": 19,
   "metadata": {},
   "outputs": [
    {
     "data": {
      "text/plain": [
       "Text(0.5, 1.0, 'Частота выпуска игр по годам')"
      ]
     },
     "execution_count": 19,
     "metadata": {},
     "output_type": "execute_result"
    },
    {
     "data": {
      "image/png": "[encoded data removed]",
      "text/plain": [
       "<Figure size 432x288 with 1 Axes>"
      ]
     },
     "metadata": {
      "needs_background": "light"
     },
     "output_type": "display_data"
    }
   ],
   "source": [
    "data['year_of_release'].hist(bins=50, color='black')\n",
    "plt.title('Частота выпуска игр по годам')"
   ]
  },
  {
   "cell_type": "markdown",
   "metadata": {},
   "source": [
    "Видим, что наиболее активное время выпуска той или иной игры - 2006-2011 года."
   ]
  },
  {
   "cell_type": "code",
   "execution_count": 20,
   "metadata": {},
   "outputs": [],
   "source": [
    "platforms = data.pivot_table(index='platform', values = 'world_sales', aggfunc='sum')"
   ]
  },
  {
   "cell_type": "code",
   "execution_count": 21,
   "metadata": {},
   "outputs": [
    {
     "data": {
      "text/html": [
       "<div>\n",
       "<style scoped>\n",
       "    .dataframe tbody tr th:only-of-type {\n",
       "        vertical-align: middle;\n",
       "    }\n",
       "\n",
       "    .dataframe tbody tr th {\n",
       "        vertical-align: top;\n",
       "    }\n",
       "\n",
       "    .dataframe thead th {\n",
       "        text-align: right;\n",
       "    }\n",
       "</style>\n",
       "<table border=\"1\" class=\"dataframe\">\n",
       "  <thead>\n",
       "    <tr style=\"text-align: right;\">\n",
       "      <th></th>\n",
       "      <th>world_sales</th>\n",
       "    </tr>\n",
       "    <tr>\n",
       "      <th>platform</th>\n",
       "      <th></th>\n",
       "    </tr>\n",
       "  </thead>\n",
       "  <tbody>\n",
       "    <tr>\n",
       "      <td>PS2</td>\n",
       "      <td>1255.77</td>\n",
       "    </tr>\n",
       "    <tr>\n",
       "      <td>X360</td>\n",
       "      <td>971.42</td>\n",
       "    </tr>\n",
       "    <tr>\n",
       "      <td>PS3</td>\n",
       "      <td>939.65</td>\n",
       "    </tr>\n",
       "    <tr>\n",
       "      <td>Wii</td>\n",
       "      <td>907.51</td>\n",
       "    </tr>\n",
       "    <tr>\n",
       "      <td>DS</td>\n",
       "      <td>806.12</td>\n",
       "    </tr>\n",
       "  </tbody>\n",
       "</table>\n",
       "</div>"
      ],
      "text/plain": [
       "          world_sales\n",
       "platform             \n",
       "PS2           1255.77\n",
       "X360           971.42\n",
       "PS3            939.65\n",
       "Wii            907.51\n",
       "DS             806.12"
      ]
     },
     "execution_count": 21,
     "metadata": {},
     "output_type": "execute_result"
    }
   ],
   "source": [
    "platforms.sort_values(by='world_sales', ascending=False).head()"
   ]
  },
  {
   "cell_type": "markdown",
   "metadata": {},
   "source": [
    "Нашли платформы, у которых наибольшие продажи за все время, далее будем строить распределение по годам."
   ]
  },
  {
   "cell_type": "code",
   "execution_count": 22,
   "metadata": {},
   "outputs": [],
   "source": [
    "x = ['PS4', 'PS3', 'X360', '3DS','XOne']\n",
    "plat = data.query('platform in @x')\n",
    "platforms = plat.pivot_table(index=['platform','year_of_release'],values='world_sales', aggfunc='count')"
   ]
  },
  {
   "cell_type": "code",
   "execution_count": 23,
   "metadata": {},
   "outputs": [
    {
     "data": {
      "text/html": [
       "<div>\n",
       "<style scoped>\n",
       "    .dataframe tbody tr th:only-of-type {\n",
       "        vertical-align: middle;\n",
       "    }\n",
       "\n",
       "    .dataframe tbody tr th {\n",
       "        vertical-align: top;\n",
       "    }\n",
       "\n",
       "    .dataframe thead th {\n",
       "        text-align: right;\n",
       "    }\n",
       "</style>\n",
       "<table border=\"1\" class=\"dataframe\">\n",
       "  <thead>\n",
       "    <tr style=\"text-align: right;\">\n",
       "      <th></th>\n",
       "      <th></th>\n",
       "      <th>world_sales</th>\n",
       "    </tr>\n",
       "    <tr>\n",
       "      <th>platform</th>\n",
       "      <th>year_of_release</th>\n",
       "      <th></th>\n",
       "    </tr>\n",
       "  </thead>\n",
       "  <tbody>\n",
       "    <tr>\n",
       "      <td rowspan=\"6\" valign=\"top\">3DS</td>\n",
       "      <td>2011</td>\n",
       "      <td>116</td>\n",
       "    </tr>\n",
       "    <tr>\n",
       "      <td>2012</td>\n",
       "      <td>93</td>\n",
       "    </tr>\n",
       "    <tr>\n",
       "      <td>2013</td>\n",
       "      <td>91</td>\n",
       "    </tr>\n",
       "    <tr>\n",
       "      <td>2014</td>\n",
       "      <td>80</td>\n",
       "    </tr>\n",
       "    <tr>\n",
       "      <td>2015</td>\n",
       "      <td>86</td>\n",
       "    </tr>\n",
       "    <tr>\n",
       "      <td>2016</td>\n",
       "      <td>46</td>\n",
       "    </tr>\n",
       "    <tr>\n",
       "      <td rowspan=\"11\" valign=\"top\">PS3</td>\n",
       "      <td>2006</td>\n",
       "      <td>27</td>\n",
       "    </tr>\n",
       "    <tr>\n",
       "      <td>2007</td>\n",
       "      <td>90</td>\n",
       "    </tr>\n",
       "    <tr>\n",
       "      <td>2008</td>\n",
       "      <td>138</td>\n",
       "    </tr>\n",
       "    <tr>\n",
       "      <td>2009</td>\n",
       "      <td>162</td>\n",
       "    </tr>\n",
       "    <tr>\n",
       "      <td>2010</td>\n",
       "      <td>181</td>\n",
       "    </tr>\n",
       "    <tr>\n",
       "      <td>2011</td>\n",
       "      <td>215</td>\n",
       "    </tr>\n",
       "    <tr>\n",
       "      <td>2012</td>\n",
       "      <td>148</td>\n",
       "    </tr>\n",
       "    <tr>\n",
       "      <td>2013</td>\n",
       "      <td>126</td>\n",
       "    </tr>\n",
       "    <tr>\n",
       "      <td>2014</td>\n",
       "      <td>108</td>\n",
       "    </tr>\n",
       "    <tr>\n",
       "      <td>2015</td>\n",
       "      <td>73</td>\n",
       "    </tr>\n",
       "    <tr>\n",
       "      <td>2016</td>\n",
       "      <td>38</td>\n",
       "    </tr>\n",
       "    <tr>\n",
       "      <td rowspan=\"4\" valign=\"top\">PS4</td>\n",
       "      <td>2013</td>\n",
       "      <td>16</td>\n",
       "    </tr>\n",
       "    <tr>\n",
       "      <td>2014</td>\n",
       "      <td>75</td>\n",
       "    </tr>\n",
       "    <tr>\n",
       "      <td>2015</td>\n",
       "      <td>137</td>\n",
       "    </tr>\n",
       "    <tr>\n",
       "      <td>2016</td>\n",
       "      <td>164</td>\n",
       "    </tr>\n",
       "    <tr>\n",
       "      <td rowspan=\"12\" valign=\"top\">X360</td>\n",
       "      <td>2005</td>\n",
       "      <td>18</td>\n",
       "    </tr>\n",
       "    <tr>\n",
       "      <td>2006</td>\n",
       "      <td>93</td>\n",
       "    </tr>\n",
       "    <tr>\n",
       "      <td>2007</td>\n",
       "      <td>123</td>\n",
       "    </tr>\n",
       "    <tr>\n",
       "      <td>2008</td>\n",
       "      <td>146</td>\n",
       "    </tr>\n",
       "    <tr>\n",
       "      <td>2009</td>\n",
       "      <td>172</td>\n",
       "    </tr>\n",
       "    <tr>\n",
       "      <td>2010</td>\n",
       "      <td>182</td>\n",
       "    </tr>\n",
       "    <tr>\n",
       "      <td>2011</td>\n",
       "      <td>206</td>\n",
       "    </tr>\n",
       "    <tr>\n",
       "      <td>2012</td>\n",
       "      <td>106</td>\n",
       "    </tr>\n",
       "    <tr>\n",
       "      <td>2013</td>\n",
       "      <td>75</td>\n",
       "    </tr>\n",
       "    <tr>\n",
       "      <td>2014</td>\n",
       "      <td>63</td>\n",
       "    </tr>\n",
       "    <tr>\n",
       "      <td>2015</td>\n",
       "      <td>35</td>\n",
       "    </tr>\n",
       "    <tr>\n",
       "      <td>2016</td>\n",
       "      <td>13</td>\n",
       "    </tr>\n",
       "    <tr>\n",
       "      <td rowspan=\"4\" valign=\"top\">XOne</td>\n",
       "      <td>2013</td>\n",
       "      <td>19</td>\n",
       "    </tr>\n",
       "    <tr>\n",
       "      <td>2014</td>\n",
       "      <td>61</td>\n",
       "    </tr>\n",
       "    <tr>\n",
       "      <td>2015</td>\n",
       "      <td>80</td>\n",
       "    </tr>\n",
       "    <tr>\n",
       "      <td>2016</td>\n",
       "      <td>87</td>\n",
       "    </tr>\n",
       "  </tbody>\n",
       "</table>\n",
       "</div>"
      ],
      "text/plain": [
       "                          world_sales\n",
       "platform year_of_release             \n",
       "3DS      2011                     116\n",
       "         2012                      93\n",
       "         2013                      91\n",
       "         2014                      80\n",
       "         2015                      86\n",
       "         2016                      46\n",
       "PS3      2006                      27\n",
       "         2007                      90\n",
       "         2008                     138\n",
       "         2009                     162\n",
       "         2010                     181\n",
       "         2011                     215\n",
       "         2012                     148\n",
       "         2013                     126\n",
       "         2014                     108\n",
       "         2015                      73\n",
       "         2016                      38\n",
       "PS4      2013                      16\n",
       "         2014                      75\n",
       "         2015                     137\n",
       "         2016                     164\n",
       "X360     2005                      18\n",
       "         2006                      93\n",
       "         2007                     123\n",
       "         2008                     146\n",
       "         2009                     172\n",
       "         2010                     182\n",
       "         2011                     206\n",
       "         2012                     106\n",
       "         2013                      75\n",
       "         2014                      63\n",
       "         2015                      35\n",
       "         2016                      13\n",
       "XOne     2013                      19\n",
       "         2014                      61\n",
       "         2015                      80\n",
       "         2016                      87"
      ]
     },
     "execution_count": 23,
     "metadata": {},
     "output_type": "execute_result"
    }
   ],
   "source": [
    "platforms"
   ]
  },
  {
   "cell_type": "markdown",
   "metadata": {},
   "source": [
    "Видим, что средний срок \"жизни\" платформ составляет +-10 лет, распределили по годам и посчитали, сколько же было в каждом году продано."
   ]
  },
  {
   "cell_type": "markdown",
   "metadata": {},
   "source": [
    "Выделим как **актуальный период** временной промежуток с 2011 по 2016 год, так как они максимально отражают покупательскую способность клиентов к 2017 году, так как мы сделали вывод, что цикл рождения новых платформ - 10 лет, а также отражают заинтересованность людей и динамику заинтересованности в ближайший период."
   ]
  },
  {
   "cell_type": "markdown",
   "metadata": {},
   "source": [
    "Создадим новую таблицу, в которой оставим только те строки, в которых год выпуска в диапазоне с 2011 по 2016:"
   ]
  },
  {
   "cell_type": "code",
   "execution_count": 24,
   "metadata": {},
   "outputs": [],
   "source": [
    "new_data = data[data['year_of_release']>2011]"
   ]
  },
  {
   "cell_type": "code",
   "execution_count": 25,
   "metadata": {},
   "outputs": [
    {
     "data": {
      "text/html": [
       "<div>\n",
       "<style scoped>\n",
       "    .dataframe tbody tr th:only-of-type {\n",
       "        vertical-align: middle;\n",
       "    }\n",
       "\n",
       "    .dataframe tbody tr th {\n",
       "        vertical-align: top;\n",
       "    }\n",
       "\n",
       "    .dataframe thead th {\n",
       "        text-align: right;\n",
       "    }\n",
       "</style>\n",
       "<table border=\"1\" class=\"dataframe\">\n",
       "  <thead>\n",
       "    <tr style=\"text-align: right;\">\n",
       "      <th></th>\n",
       "      <th>name</th>\n",
       "      <th>platform</th>\n",
       "      <th>year_of_release</th>\n",
       "      <th>genre</th>\n",
       "      <th>na_sales</th>\n",
       "      <th>eu_sales</th>\n",
       "      <th>jp_sales</th>\n",
       "      <th>other_sales</th>\n",
       "      <th>critic_score</th>\n",
       "      <th>user_score</th>\n",
       "      <th>rating</th>\n",
       "      <th>world_sales</th>\n",
       "    </tr>\n",
       "  </thead>\n",
       "  <tbody>\n",
       "    <tr>\n",
       "      <td>16</td>\n",
       "      <td>Grand Theft Auto V</td>\n",
       "      <td>PS3</td>\n",
       "      <td>2013</td>\n",
       "      <td>Action</td>\n",
       "      <td>7.02</td>\n",
       "      <td>9.09</td>\n",
       "      <td>0.98</td>\n",
       "      <td>3.96</td>\n",
       "      <td>97.0</td>\n",
       "      <td>8.2</td>\n",
       "      <td>M</td>\n",
       "      <td>21.05</td>\n",
       "    </tr>\n",
       "    <tr>\n",
       "      <td>23</td>\n",
       "      <td>Grand Theft Auto V</td>\n",
       "      <td>X360</td>\n",
       "      <td>2013</td>\n",
       "      <td>Action</td>\n",
       "      <td>9.66</td>\n",
       "      <td>5.14</td>\n",
       "      <td>0.06</td>\n",
       "      <td>1.41</td>\n",
       "      <td>97.0</td>\n",
       "      <td>8.1</td>\n",
       "      <td>M</td>\n",
       "      <td>16.27</td>\n",
       "    </tr>\n",
       "    <tr>\n",
       "      <td>31</td>\n",
       "      <td>Call of Duty: Black Ops 3</td>\n",
       "      <td>PS4</td>\n",
       "      <td>2015</td>\n",
       "      <td>Shooter</td>\n",
       "      <td>6.03</td>\n",
       "      <td>5.86</td>\n",
       "      <td>0.36</td>\n",
       "      <td>2.38</td>\n",
       "      <td>NaN</td>\n",
       "      <td>NaN</td>\n",
       "      <td>NaN</td>\n",
       "      <td>14.63</td>\n",
       "    </tr>\n",
       "    <tr>\n",
       "      <td>33</td>\n",
       "      <td>Pokemon X/Pokemon Y</td>\n",
       "      <td>3DS</td>\n",
       "      <td>2013</td>\n",
       "      <td>Role-Playing</td>\n",
       "      <td>5.28</td>\n",
       "      <td>4.19</td>\n",
       "      <td>4.35</td>\n",
       "      <td>0.78</td>\n",
       "      <td>NaN</td>\n",
       "      <td>NaN</td>\n",
       "      <td>NaN</td>\n",
       "      <td>14.60</td>\n",
       "    </tr>\n",
       "    <tr>\n",
       "      <td>34</td>\n",
       "      <td>Call of Duty: Black Ops II</td>\n",
       "      <td>PS3</td>\n",
       "      <td>2012</td>\n",
       "      <td>Shooter</td>\n",
       "      <td>4.99</td>\n",
       "      <td>5.73</td>\n",
       "      <td>0.65</td>\n",
       "      <td>2.42</td>\n",
       "      <td>83.0</td>\n",
       "      <td>5.3</td>\n",
       "      <td>M</td>\n",
       "      <td>13.79</td>\n",
       "    </tr>\n",
       "    <tr>\n",
       "      <td>...</td>\n",
       "      <td>...</td>\n",
       "      <td>...</td>\n",
       "      <td>...</td>\n",
       "      <td>...</td>\n",
       "      <td>...</td>\n",
       "      <td>...</td>\n",
       "      <td>...</td>\n",
       "      <td>...</td>\n",
       "      <td>...</td>\n",
       "      <td>...</td>\n",
       "      <td>...</td>\n",
       "      <td>...</td>\n",
       "    </tr>\n",
       "    <tr>\n",
       "      <td>16703</td>\n",
       "      <td>Strawberry Nauts</td>\n",
       "      <td>PSV</td>\n",
       "      <td>2016</td>\n",
       "      <td>Adventure</td>\n",
       "      <td>0.00</td>\n",
       "      <td>0.00</td>\n",
       "      <td>0.01</td>\n",
       "      <td>0.00</td>\n",
       "      <td>NaN</td>\n",
       "      <td>NaN</td>\n",
       "      <td>NaN</td>\n",
       "      <td>0.01</td>\n",
       "    </tr>\n",
       "    <tr>\n",
       "      <td>16707</td>\n",
       "      <td>Aiyoku no Eustia</td>\n",
       "      <td>PSV</td>\n",
       "      <td>2014</td>\n",
       "      <td>Misc</td>\n",
       "      <td>0.00</td>\n",
       "      <td>0.00</td>\n",
       "      <td>0.01</td>\n",
       "      <td>0.00</td>\n",
       "      <td>NaN</td>\n",
       "      <td>NaN</td>\n",
       "      <td>NaN</td>\n",
       "      <td>0.01</td>\n",
       "    </tr>\n",
       "    <tr>\n",
       "      <td>16710</td>\n",
       "      <td>Samurai Warriors: Sanada Maru</td>\n",
       "      <td>PS3</td>\n",
       "      <td>2016</td>\n",
       "      <td>Action</td>\n",
       "      <td>0.00</td>\n",
       "      <td>0.00</td>\n",
       "      <td>0.01</td>\n",
       "      <td>0.00</td>\n",
       "      <td>NaN</td>\n",
       "      <td>NaN</td>\n",
       "      <td>NaN</td>\n",
       "      <td>0.01</td>\n",
       "    </tr>\n",
       "    <tr>\n",
       "      <td>16712</td>\n",
       "      <td>Haitaka no Psychedelica</td>\n",
       "      <td>PSV</td>\n",
       "      <td>2016</td>\n",
       "      <td>Adventure</td>\n",
       "      <td>0.00</td>\n",
       "      <td>0.00</td>\n",
       "      <td>0.01</td>\n",
       "      <td>0.00</td>\n",
       "      <td>NaN</td>\n",
       "      <td>NaN</td>\n",
       "      <td>NaN</td>\n",
       "      <td>0.01</td>\n",
       "    </tr>\n",
       "    <tr>\n",
       "      <td>16714</td>\n",
       "      <td>Winning Post 8 2016</td>\n",
       "      <td>PSV</td>\n",
       "      <td>2016</td>\n",
       "      <td>Simulation</td>\n",
       "      <td>0.00</td>\n",
       "      <td>0.00</td>\n",
       "      <td>0.01</td>\n",
       "      <td>0.00</td>\n",
       "      <td>NaN</td>\n",
       "      <td>NaN</td>\n",
       "      <td>NaN</td>\n",
       "      <td>0.01</td>\n",
       "    </tr>\n",
       "  </tbody>\n",
       "</table>\n",
       "<p>2886 rows × 12 columns</p>\n",
       "</div>"
      ],
      "text/plain": [
       "                                name platform  year_of_release         genre  \\\n",
       "16                Grand Theft Auto V      PS3             2013        Action   \n",
       "23                Grand Theft Auto V     X360             2013        Action   \n",
       "31         Call of Duty: Black Ops 3      PS4             2015       Shooter   \n",
       "33               Pokemon X/Pokemon Y      3DS             2013  Role-Playing   \n",
       "34        Call of Duty: Black Ops II      PS3             2012       Shooter   \n",
       "...                              ...      ...              ...           ...   \n",
       "16703               Strawberry Nauts      PSV             2016     Adventure   \n",
       "16707               Aiyoku no Eustia      PSV             2014          Misc   \n",
       "16710  Samurai Warriors: Sanada Maru      PS3             2016        Action   \n",
       "16712        Haitaka no Psychedelica      PSV             2016     Adventure   \n",
       "16714            Winning Post 8 2016      PSV             2016    Simulation   \n",
       "\n",
       "       na_sales  eu_sales  jp_sales  other_sales  critic_score  user_score  \\\n",
       "16         7.02      9.09      0.98         3.96          97.0         8.2   \n",
       "23         9.66      5.14      0.06         1.41          97.0         8.1   \n",
       "31         6.03      5.86      0.36         2.38           NaN         NaN   \n",
       "33         5.28      4.19      4.35         0.78           NaN         NaN   \n",
       "34         4.99      5.73      0.65         2.42          83.0         5.3   \n",
       "...         ...       ...       ...          ...           ...         ...   \n",
       "16703      0.00      0.00      0.01         0.00           NaN         NaN   \n",
       "16707      0.00      0.00      0.01         0.00           NaN         NaN   \n",
       "16710      0.00      0.00      0.01         0.00           NaN         NaN   \n",
       "16712      0.00      0.00      0.01         0.00           NaN         NaN   \n",
       "16714      0.00      0.00      0.01         0.00           NaN         NaN   \n",
       "\n",
       "      rating  world_sales  \n",
       "16         M        21.05  \n",
       "23         M        16.27  \n",
       "31       NaN        14.63  \n",
       "33       NaN        14.60  \n",
       "34         M        13.79  \n",
       "...      ...          ...  \n",
       "16703    NaN         0.01  \n",
       "16707    NaN         0.01  \n",
       "16710    NaN         0.01  \n",
       "16712    NaN         0.01  \n",
       "16714    NaN         0.01  \n",
       "\n",
       "[2886 rows x 12 columns]"
      ]
     },
     "execution_count": 25,
     "metadata": {},
     "output_type": "execute_result"
    }
   ],
   "source": [
    "new_data"
   ]
  },
  {
   "cell_type": "markdown",
   "metadata": {},
   "source": [
    "Имеем таблицу, в которой почти 3000 строк."
   ]
  },
  {
   "cell_type": "code",
   "execution_count": 26,
   "metadata": {},
   "outputs": [],
   "source": [
    "new_pivot = new_data.pivot_table(index='platform', values='world_sales', aggfunc='sum')"
   ]
  },
  {
   "cell_type": "code",
   "execution_count": 27,
   "metadata": {},
   "outputs": [
    {
     "data": {
      "text/html": [
       "<div>\n",
       "<style scoped>\n",
       "    .dataframe tbody tr th:only-of-type {\n",
       "        vertical-align: middle;\n",
       "    }\n",
       "\n",
       "    .dataframe tbody tr th {\n",
       "        vertical-align: top;\n",
       "    }\n",
       "\n",
       "    .dataframe thead th {\n",
       "        text-align: right;\n",
       "    }\n",
       "</style>\n",
       "<table border=\"1\" class=\"dataframe\">\n",
       "  <thead>\n",
       "    <tr style=\"text-align: right;\">\n",
       "      <th></th>\n",
       "      <th>world_sales</th>\n",
       "    </tr>\n",
       "    <tr>\n",
       "      <th>platform</th>\n",
       "      <th></th>\n",
       "    </tr>\n",
       "  </thead>\n",
       "  <tbody>\n",
       "    <tr>\n",
       "      <td>PS4</td>\n",
       "      <td>314.14</td>\n",
       "    </tr>\n",
       "    <tr>\n",
       "      <td>PS3</td>\n",
       "      <td>288.79</td>\n",
       "    </tr>\n",
       "    <tr>\n",
       "      <td>X360</td>\n",
       "      <td>236.54</td>\n",
       "    </tr>\n",
       "    <tr>\n",
       "      <td>3DS</td>\n",
       "      <td>194.61</td>\n",
       "    </tr>\n",
       "    <tr>\n",
       "      <td>XOne</td>\n",
       "      <td>159.32</td>\n",
       "    </tr>\n",
       "    <tr>\n",
       "      <td>WiiU</td>\n",
       "      <td>82.19</td>\n",
       "    </tr>\n",
       "    <tr>\n",
       "      <td>PC</td>\n",
       "      <td>62.65</td>\n",
       "    </tr>\n",
       "    <tr>\n",
       "      <td>PSV</td>\n",
       "      <td>49.18</td>\n",
       "    </tr>\n",
       "    <tr>\n",
       "      <td>Wii</td>\n",
       "      <td>35.37</td>\n",
       "    </tr>\n",
       "    <tr>\n",
       "      <td>DS</td>\n",
       "      <td>12.55</td>\n",
       "    </tr>\n",
       "    <tr>\n",
       "      <td>PSP</td>\n",
       "      <td>11.19</td>\n",
       "    </tr>\n",
       "  </tbody>\n",
       "</table>\n",
       "</div>"
      ],
      "text/plain": [
       "          world_sales\n",
       "platform             \n",
       "PS4            314.14\n",
       "PS3            288.79\n",
       "X360           236.54\n",
       "3DS            194.61\n",
       "XOne           159.32\n",
       "WiiU            82.19\n",
       "PC              62.65\n",
       "PSV             49.18\n",
       "Wii             35.37\n",
       "DS              12.55\n",
       "PSP             11.19"
      ]
     },
     "execution_count": 27,
     "metadata": {},
     "output_type": "execute_result"
    }
   ],
   "source": [
    "new_pivot.sort_values(by='world_sales', ascending=False)"
   ]
  },
  {
   "cell_type": "markdown",
   "metadata": {},
   "source": [
    "Видим, что самые большие продажи за это время принесли такие платформы как PS4, PS3, X360, 3DS,XOne."
   ]
  },
  {
   "cell_type": "code",
   "execution_count": 28,
   "metadata": {},
   "outputs": [
    {
     "data": {
      "image/png": "[encoded data removed]",
      "text/plain": [
       "<Figure size 432x288 with 1 Axes>"
      ]
     },
     "metadata": {
      "needs_background": "light"
     },
     "output_type": "display_data"
    },
    {
     "data": {
      "image/png": "[encoded data removed]",
      "text/plain": [
       "<Figure size 432x288 with 1 Axes>"
      ]
     },
     "metadata": {
      "needs_background": "light"
     },
     "output_type": "display_data"
    },
    {
     "data": {
      "image/png": "[encoded data removed]",
      "text/plain": [
       "<Figure size 432x288 with 1 Axes>"
      ]
     },
     "metadata": {
      "needs_background": "light"
     },
     "output_type": "display_data"
    },
    {
     "data": {
      "image/png": "[encoded data removed]",
      "text/plain": [
       "<Figure size 432x288 with 1 Axes>"
      ]
     },
     "metadata": {
      "needs_background": "light"
     },
     "output_type": "display_data"
    },
    {
     "data": {
      "image/png": "[encoded data removed]",
      "text/plain": [
       "<Figure size 432x288 with 1 Axes>"
      ]
     },
     "metadata": {
      "needs_background": "light"
     },
     "output_type": "display_data"
    }
   ],
   "source": [
    "for string in x:\n",
    "    plt.boxplot(new_data[new_data['platform']==string]['world_sales'])\n",
    "    plt.ylabel('Частота')\n",
    "    plt.title('Диаграмма для платформы {}'.format(string))\n",
    "    plt.show()"
   ]
  },
  {
   "cell_type": "markdown",
   "metadata": {},
   "source": [
    "Видим, что данная диаграмма отражает факт того, что у разных платформ были разные продажи по всему миру. Самые большие продажи были достигнуты платформой X360."
   ]
  },
  {
   "cell_type": "code",
   "execution_count": 29,
   "metadata": {},
   "outputs": [
    {
     "data": {
      "text/plain": [
       "Text(0.5, 1.0, 'Диаграмма для оценки зависимости продаж от оценки пользователей')"
      ]
     },
     "execution_count": 29,
     "metadata": {},
     "output_type": "execute_result"
    },
    {
     "data": {
      "image/png": "[encoded data removed]",
      "text/plain": [
       "<Figure size 432x288 with 1 Axes>"
      ]
     },
     "metadata": {
      "needs_background": "light"
     },
     "output_type": "display_data"
    }
   ],
   "source": [
    "plt.scatter(x=new_data['critic_score']+new_data['user_score'], y=new_data['world_sales'], color='black', alpha=0.5)\n",
    "plt.xlabel('Оценка')\n",
    "plt.ylabel('Продажи')\n",
    "plt.title('Диаграмма для оценки зависимости продаж от оценки пользователей')"
   ]
  },
  {
   "cell_type": "markdown",
   "metadata": {},
   "source": [
    "Построили диаграмму рассеяния зависимости продаж от рейтинга критиков и юзеров."
   ]
  },
  {
   "cell_type": "code",
   "execution_count": 30,
   "metadata": {},
   "outputs": [],
   "source": [
    "corr=new_data['world_sales'].corr(new_data['critic_score']+new_data['user_score'])"
   ]
  },
  {
   "cell_type": "code",
   "execution_count": 31,
   "metadata": {
    "scrolled": true
   },
   "outputs": [
    {
     "data": {
      "text/plain": [
       "0.2879551001409536"
      ]
     },
     "execution_count": 31,
     "metadata": {},
     "output_type": "execute_result"
    }
   ],
   "source": [
    "corr"
   ]
  },
  {
   "cell_type": "markdown",
   "metadata": {},
   "source": [
    "Видим, что корреляция довольно незначительная, что может говорить о том, что прямой зависимости между этими двумя характеристиками нет, или же она не ярко выражена."
   ]
  },
  {
   "cell_type": "code",
   "execution_count": 32,
   "metadata": {},
   "outputs": [],
   "source": [
    "corr_full=data['world_sales'].corr(data['critic_score']+data['user_score'])"
   ]
  },
  {
   "cell_type": "code",
   "execution_count": 33,
   "metadata": {},
   "outputs": [
    {
     "data": {
      "text/plain": [
       "0.23142557690974502"
      ]
     },
     "execution_count": 33,
     "metadata": {},
     "output_type": "execute_result"
    }
   ],
   "source": [
    "corr_full"
   ]
  },
  {
   "cell_type": "markdown",
   "metadata": {},
   "source": [
    "Корреляция у других платформ еще меньше."
   ]
  },
  {
   "cell_type": "code",
   "execution_count": 34,
   "metadata": {},
   "outputs": [],
   "source": [
    "genres = data.pivot_table(index='genre', values='world_sales', aggfunc='median')"
   ]
  },
  {
   "cell_type": "code",
   "execution_count": 35,
   "metadata": {},
   "outputs": [
    {
     "data": {
      "text/html": [
       "<div>\n",
       "<style scoped>\n",
       "    .dataframe tbody tr th:only-of-type {\n",
       "        vertical-align: middle;\n",
       "    }\n",
       "\n",
       "    .dataframe tbody tr th {\n",
       "        vertical-align: top;\n",
       "    }\n",
       "\n",
       "    .dataframe thead th {\n",
       "        text-align: right;\n",
       "    }\n",
       "</style>\n",
       "<table border=\"1\" class=\"dataframe\">\n",
       "  <thead>\n",
       "    <tr style=\"text-align: right;\">\n",
       "      <th></th>\n",
       "      <th>world_sales</th>\n",
       "    </tr>\n",
       "    <tr>\n",
       "      <th>genre</th>\n",
       "      <th></th>\n",
       "    </tr>\n",
       "  </thead>\n",
       "  <tbody>\n",
       "    <tr>\n",
       "      <td>Platform</td>\n",
       "      <td>0.27</td>\n",
       "    </tr>\n",
       "    <tr>\n",
       "      <td>Shooter</td>\n",
       "      <td>0.24</td>\n",
       "    </tr>\n",
       "    <tr>\n",
       "      <td>Sports</td>\n",
       "      <td>0.22</td>\n",
       "    </tr>\n",
       "    <tr>\n",
       "      <td>Fighting</td>\n",
       "      <td>0.21</td>\n",
       "    </tr>\n",
       "    <tr>\n",
       "      <td>Action</td>\n",
       "      <td>0.19</td>\n",
       "    </tr>\n",
       "    <tr>\n",
       "      <td>Racing</td>\n",
       "      <td>0.19</td>\n",
       "    </tr>\n",
       "    <tr>\n",
       "      <td>Role-Playing</td>\n",
       "      <td>0.18</td>\n",
       "    </tr>\n",
       "    <tr>\n",
       "      <td>Misc</td>\n",
       "      <td>0.16</td>\n",
       "    </tr>\n",
       "    <tr>\n",
       "      <td>Simulation</td>\n",
       "      <td>0.15</td>\n",
       "    </tr>\n",
       "    <tr>\n",
       "      <td>Puzzle</td>\n",
       "      <td>0.11</td>\n",
       "    </tr>\n",
       "    <tr>\n",
       "      <td>Strategy</td>\n",
       "      <td>0.10</td>\n",
       "    </tr>\n",
       "    <tr>\n",
       "      <td>Adventure</td>\n",
       "      <td>0.05</td>\n",
       "    </tr>\n",
       "  </tbody>\n",
       "</table>\n",
       "</div>"
      ],
      "text/plain": [
       "              world_sales\n",
       "genre                    \n",
       "Platform             0.27\n",
       "Shooter              0.24\n",
       "Sports               0.22\n",
       "Fighting             0.21\n",
       "Action               0.19\n",
       "Racing               0.19\n",
       "Role-Playing         0.18\n",
       "Misc                 0.16\n",
       "Simulation           0.15\n",
       "Puzzle               0.11\n",
       "Strategy             0.10\n",
       "Adventure            0.05"
      ]
     },
     "execution_count": 35,
     "metadata": {},
     "output_type": "execute_result"
    }
   ],
   "source": [
    "genres.sort_values(by='world_sales', ascending=False)"
   ]
  },
  {
   "cell_type": "code",
   "execution_count": 36,
   "metadata": {},
   "outputs": [
    {
     "data": {
      "text/plain": [
       "<matplotlib.axes._subplots.AxesSubplot at 0x7f8175654550>"
      ]
     },
     "execution_count": 36,
     "metadata": {},
     "output_type": "execute_result"
    },
    {
     "data": {
      "image/png": "[encoded data removed]",
      "text/plain": [
       "<Figure size 432x288 with 1 Axes>"
      ]
     },
     "metadata": {
      "needs_background": "light"
     },
     "output_type": "display_data"
    }
   ],
   "source": [
    "genres.boxplot()"
   ]
  },
  {
   "cell_type": "markdown",
   "metadata": {},
   "source": [
    "По жанрам идет явное лидирование игр \"платформенных\" и \"шутеров\", а наименее активно продаются \"приключенческие\" и \"стратегические\""
   ]
  },
  {
   "cell_type": "code",
   "execution_count": 37,
   "metadata": {},
   "outputs": [],
   "source": [
    "import seaborn as sns"
   ]
  },
  {
   "cell_type": "code",
   "execution_count": 38,
   "metadata": {},
   "outputs": [
    {
     "data": {
      "text/plain": [
       "(0, 1)"
      ]
     },
     "execution_count": 38,
     "metadata": {},
     "output_type": "execute_result"
    },
    {
     "data": {
      "image/png": "[encoded data removed]",
      "text/plain": [
       "<Figure size 1080x288 with 1 Axes>"
      ]
     },
     "metadata": {
      "needs_background": "light"
     },
     "output_type": "display_data"
    }
   ],
   "source": [
    "plt.figure(figsize=(15, 4))\n",
    "sns.boxplot(data=data, x='genre', y='world_sales')\n",
    "plt.title('Продажи игр по жанрам')\n",
    "plt.xlabel('жанр')\n",
    "plt.ylabel('продажи')\n",
    "plt.ylim(0,1)"
   ]
  },
  {
   "cell_type": "markdown",
   "metadata": {},
   "source": [
    "# Шаг 4. Составьте портрет пользователя каждого региона"
   ]
  },
  {
   "cell_type": "code",
   "execution_count": 39,
   "metadata": {},
   "outputs": [],
   "source": [
    "jp = new_data[new_data['jp_sales'] >0]"
   ]
  },
  {
   "cell_type": "code",
   "execution_count": 40,
   "metadata": {},
   "outputs": [
    {
     "data": {
      "text/html": [
       "<div>\n",
       "<style scoped>\n",
       "    .dataframe tbody tr th:only-of-type {\n",
       "        vertical-align: middle;\n",
       "    }\n",
       "\n",
       "    .dataframe tbody tr th {\n",
       "        vertical-align: top;\n",
       "    }\n",
       "\n",
       "    .dataframe thead th {\n",
       "        text-align: right;\n",
       "    }\n",
       "</style>\n",
       "<table border=\"1\" class=\"dataframe\">\n",
       "  <thead>\n",
       "    <tr style=\"text-align: right;\">\n",
       "      <th></th>\n",
       "      <th>name</th>\n",
       "      <th>platform</th>\n",
       "      <th>year_of_release</th>\n",
       "      <th>genre</th>\n",
       "      <th>na_sales</th>\n",
       "      <th>eu_sales</th>\n",
       "      <th>jp_sales</th>\n",
       "      <th>other_sales</th>\n",
       "      <th>critic_score</th>\n",
       "      <th>user_score</th>\n",
       "      <th>rating</th>\n",
       "      <th>world_sales</th>\n",
       "    </tr>\n",
       "  </thead>\n",
       "  <tbody>\n",
       "    <tr>\n",
       "      <td>16</td>\n",
       "      <td>Grand Theft Auto V</td>\n",
       "      <td>PS3</td>\n",
       "      <td>2013</td>\n",
       "      <td>Action</td>\n",
       "      <td>7.02</td>\n",
       "      <td>9.09</td>\n",
       "      <td>0.98</td>\n",
       "      <td>3.96</td>\n",
       "      <td>97.0</td>\n",
       "      <td>8.2</td>\n",
       "      <td>M</td>\n",
       "      <td>21.05</td>\n",
       "    </tr>\n",
       "    <tr>\n",
       "      <td>23</td>\n",
       "      <td>Grand Theft Auto V</td>\n",
       "      <td>X360</td>\n",
       "      <td>2013</td>\n",
       "      <td>Action</td>\n",
       "      <td>9.66</td>\n",
       "      <td>5.14</td>\n",
       "      <td>0.06</td>\n",
       "      <td>1.41</td>\n",
       "      <td>97.0</td>\n",
       "      <td>8.1</td>\n",
       "      <td>M</td>\n",
       "      <td>16.27</td>\n",
       "    </tr>\n",
       "    <tr>\n",
       "      <td>31</td>\n",
       "      <td>Call of Duty: Black Ops 3</td>\n",
       "      <td>PS4</td>\n",
       "      <td>2015</td>\n",
       "      <td>Shooter</td>\n",
       "      <td>6.03</td>\n",
       "      <td>5.86</td>\n",
       "      <td>0.36</td>\n",
       "      <td>2.38</td>\n",
       "      <td>NaN</td>\n",
       "      <td>NaN</td>\n",
       "      <td>NaN</td>\n",
       "      <td>14.63</td>\n",
       "    </tr>\n",
       "    <tr>\n",
       "      <td>33</td>\n",
       "      <td>Pokemon X/Pokemon Y</td>\n",
       "      <td>3DS</td>\n",
       "      <td>2013</td>\n",
       "      <td>Role-Playing</td>\n",
       "      <td>5.28</td>\n",
       "      <td>4.19</td>\n",
       "      <td>4.35</td>\n",
       "      <td>0.78</td>\n",
       "      <td>NaN</td>\n",
       "      <td>NaN</td>\n",
       "      <td>NaN</td>\n",
       "      <td>14.60</td>\n",
       "    </tr>\n",
       "    <tr>\n",
       "      <td>34</td>\n",
       "      <td>Call of Duty: Black Ops II</td>\n",
       "      <td>PS3</td>\n",
       "      <td>2012</td>\n",
       "      <td>Shooter</td>\n",
       "      <td>4.99</td>\n",
       "      <td>5.73</td>\n",
       "      <td>0.65</td>\n",
       "      <td>2.42</td>\n",
       "      <td>83.0</td>\n",
       "      <td>5.3</td>\n",
       "      <td>M</td>\n",
       "      <td>13.79</td>\n",
       "    </tr>\n",
       "    <tr>\n",
       "      <td>...</td>\n",
       "      <td>...</td>\n",
       "      <td>...</td>\n",
       "      <td>...</td>\n",
       "      <td>...</td>\n",
       "      <td>...</td>\n",
       "      <td>...</td>\n",
       "      <td>...</td>\n",
       "      <td>...</td>\n",
       "      <td>...</td>\n",
       "      <td>...</td>\n",
       "      <td>...</td>\n",
       "      <td>...</td>\n",
       "    </tr>\n",
       "    <tr>\n",
       "      <td>16703</td>\n",
       "      <td>Strawberry Nauts</td>\n",
       "      <td>PSV</td>\n",
       "      <td>2016</td>\n",
       "      <td>Adventure</td>\n",
       "      <td>0.00</td>\n",
       "      <td>0.00</td>\n",
       "      <td>0.01</td>\n",
       "      <td>0.00</td>\n",
       "      <td>NaN</td>\n",
       "      <td>NaN</td>\n",
       "      <td>NaN</td>\n",
       "      <td>0.01</td>\n",
       "    </tr>\n",
       "    <tr>\n",
       "      <td>16707</td>\n",
       "      <td>Aiyoku no Eustia</td>\n",
       "      <td>PSV</td>\n",
       "      <td>2014</td>\n",
       "      <td>Misc</td>\n",
       "      <td>0.00</td>\n",
       "      <td>0.00</td>\n",
       "      <td>0.01</td>\n",
       "      <td>0.00</td>\n",
       "      <td>NaN</td>\n",
       "      <td>NaN</td>\n",
       "      <td>NaN</td>\n",
       "      <td>0.01</td>\n",
       "    </tr>\n",
       "    <tr>\n",
       "      <td>16710</td>\n",
       "      <td>Samurai Warriors: Sanada Maru</td>\n",
       "      <td>PS3</td>\n",
       "      <td>2016</td>\n",
       "      <td>Action</td>\n",
       "      <td>0.00</td>\n",
       "      <td>0.00</td>\n",
       "      <td>0.01</td>\n",
       "      <td>0.00</td>\n",
       "      <td>NaN</td>\n",
       "      <td>NaN</td>\n",
       "      <td>NaN</td>\n",
       "      <td>0.01</td>\n",
       "    </tr>\n",
       "    <tr>\n",
       "      <td>16712</td>\n",
       "      <td>Haitaka no Psychedelica</td>\n",
       "      <td>PSV</td>\n",
       "      <td>2016</td>\n",
       "      <td>Adventure</td>\n",
       "      <td>0.00</td>\n",
       "      <td>0.00</td>\n",
       "      <td>0.01</td>\n",
       "      <td>0.00</td>\n",
       "      <td>NaN</td>\n",
       "      <td>NaN</td>\n",
       "      <td>NaN</td>\n",
       "      <td>0.01</td>\n",
       "    </tr>\n",
       "    <tr>\n",
       "      <td>16714</td>\n",
       "      <td>Winning Post 8 2016</td>\n",
       "      <td>PSV</td>\n",
       "      <td>2016</td>\n",
       "      <td>Simulation</td>\n",
       "      <td>0.00</td>\n",
       "      <td>0.00</td>\n",
       "      <td>0.01</td>\n",
       "      <td>0.00</td>\n",
       "      <td>NaN</td>\n",
       "      <td>NaN</td>\n",
       "      <td>NaN</td>\n",
       "      <td>0.01</td>\n",
       "    </tr>\n",
       "  </tbody>\n",
       "</table>\n",
       "<p>1569 rows × 12 columns</p>\n",
       "</div>"
      ],
      "text/plain": [
       "                                name platform  year_of_release         genre  \\\n",
       "16                Grand Theft Auto V      PS3             2013        Action   \n",
       "23                Grand Theft Auto V     X360             2013        Action   \n",
       "31         Call of Duty: Black Ops 3      PS4             2015       Shooter   \n",
       "33               Pokemon X/Pokemon Y      3DS             2013  Role-Playing   \n",
       "34        Call of Duty: Black Ops II      PS3             2012       Shooter   \n",
       "...                              ...      ...              ...           ...   \n",
       "16703               Strawberry Nauts      PSV             2016     Adventure   \n",
       "16707               Aiyoku no Eustia      PSV             2014          Misc   \n",
       "16710  Samurai Warriors: Sanada Maru      PS3             2016        Action   \n",
       "16712        Haitaka no Psychedelica      PSV             2016     Adventure   \n",
       "16714            Winning Post 8 2016      PSV             2016    Simulation   \n",
       "\n",
       "       na_sales  eu_sales  jp_sales  other_sales  critic_score  user_score  \\\n",
       "16         7.02      9.09      0.98         3.96          97.0         8.2   \n",
       "23         9.66      5.14      0.06         1.41          97.0         8.1   \n",
       "31         6.03      5.86      0.36         2.38           NaN         NaN   \n",
       "33         5.28      4.19      4.35         0.78           NaN         NaN   \n",
       "34         4.99      5.73      0.65         2.42          83.0         5.3   \n",
       "...         ...       ...       ...          ...           ...         ...   \n",
       "16703      0.00      0.00      0.01         0.00           NaN         NaN   \n",
       "16707      0.00      0.00      0.01         0.00           NaN         NaN   \n",
       "16710      0.00      0.00      0.01         0.00           NaN         NaN   \n",
       "16712      0.00      0.00      0.01         0.00           NaN         NaN   \n",
       "16714      0.00      0.00      0.01         0.00           NaN         NaN   \n",
       "\n",
       "      rating  world_sales  \n",
       "16         M        21.05  \n",
       "23         M        16.27  \n",
       "31       NaN        14.63  \n",
       "33       NaN        14.60  \n",
       "34         M        13.79  \n",
       "...      ...          ...  \n",
       "16703    NaN         0.01  \n",
       "16707    NaN         0.01  \n",
       "16710    NaN         0.01  \n",
       "16712    NaN         0.01  \n",
       "16714    NaN         0.01  \n",
       "\n",
       "[1569 rows x 12 columns]"
      ]
     },
     "execution_count": 40,
     "metadata": {},
     "output_type": "execute_result"
    }
   ],
   "source": [
    "jp"
   ]
  },
  {
   "cell_type": "code",
   "execution_count": 41,
   "metadata": {},
   "outputs": [],
   "source": [
    "na = new_data[new_data['na_sales'] >0]"
   ]
  },
  {
   "cell_type": "code",
   "execution_count": 42,
   "metadata": {},
   "outputs": [],
   "source": [
    "eu = new_data[new_data['eu_sales'] >0]"
   ]
  },
  {
   "cell_type": "code",
   "execution_count": 43,
   "metadata": {},
   "outputs": [
    {
     "data": {
      "text/html": [
       "<div>\n",
       "<style scoped>\n",
       "    .dataframe tbody tr th:only-of-type {\n",
       "        vertical-align: middle;\n",
       "    }\n",
       "\n",
       "    .dataframe tbody tr th {\n",
       "        vertical-align: top;\n",
       "    }\n",
       "\n",
       "    .dataframe thead th {\n",
       "        text-align: right;\n",
       "    }\n",
       "</style>\n",
       "<table border=\"1\" class=\"dataframe\">\n",
       "  <thead>\n",
       "    <tr style=\"text-align: right;\">\n",
       "      <th></th>\n",
       "      <th>name</th>\n",
       "      <th>platform</th>\n",
       "      <th>year_of_release</th>\n",
       "      <th>genre</th>\n",
       "      <th>na_sales</th>\n",
       "      <th>eu_sales</th>\n",
       "      <th>jp_sales</th>\n",
       "      <th>other_sales</th>\n",
       "      <th>critic_score</th>\n",
       "      <th>user_score</th>\n",
       "      <th>rating</th>\n",
       "      <th>world_sales</th>\n",
       "    </tr>\n",
       "  </thead>\n",
       "  <tbody>\n",
       "    <tr>\n",
       "      <td>16</td>\n",
       "      <td>Grand Theft Auto V</td>\n",
       "      <td>PS3</td>\n",
       "      <td>2013</td>\n",
       "      <td>Action</td>\n",
       "      <td>7.02</td>\n",
       "      <td>9.09</td>\n",
       "      <td>0.98</td>\n",
       "      <td>3.96</td>\n",
       "      <td>97.0</td>\n",
       "      <td>8.2</td>\n",
       "      <td>M</td>\n",
       "      <td>21.05</td>\n",
       "    </tr>\n",
       "    <tr>\n",
       "      <td>23</td>\n",
       "      <td>Grand Theft Auto V</td>\n",
       "      <td>X360</td>\n",
       "      <td>2013</td>\n",
       "      <td>Action</td>\n",
       "      <td>9.66</td>\n",
       "      <td>5.14</td>\n",
       "      <td>0.06</td>\n",
       "      <td>1.41</td>\n",
       "      <td>97.0</td>\n",
       "      <td>8.1</td>\n",
       "      <td>M</td>\n",
       "      <td>16.27</td>\n",
       "    </tr>\n",
       "    <tr>\n",
       "      <td>31</td>\n",
       "      <td>Call of Duty: Black Ops 3</td>\n",
       "      <td>PS4</td>\n",
       "      <td>2015</td>\n",
       "      <td>Shooter</td>\n",
       "      <td>6.03</td>\n",
       "      <td>5.86</td>\n",
       "      <td>0.36</td>\n",
       "      <td>2.38</td>\n",
       "      <td>NaN</td>\n",
       "      <td>NaN</td>\n",
       "      <td>NaN</td>\n",
       "      <td>14.63</td>\n",
       "    </tr>\n",
       "    <tr>\n",
       "      <td>33</td>\n",
       "      <td>Pokemon X/Pokemon Y</td>\n",
       "      <td>3DS</td>\n",
       "      <td>2013</td>\n",
       "      <td>Role-Playing</td>\n",
       "      <td>5.28</td>\n",
       "      <td>4.19</td>\n",
       "      <td>4.35</td>\n",
       "      <td>0.78</td>\n",
       "      <td>NaN</td>\n",
       "      <td>NaN</td>\n",
       "      <td>NaN</td>\n",
       "      <td>14.60</td>\n",
       "    </tr>\n",
       "    <tr>\n",
       "      <td>34</td>\n",
       "      <td>Call of Duty: Black Ops II</td>\n",
       "      <td>PS3</td>\n",
       "      <td>2012</td>\n",
       "      <td>Shooter</td>\n",
       "      <td>4.99</td>\n",
       "      <td>5.73</td>\n",
       "      <td>0.65</td>\n",
       "      <td>2.42</td>\n",
       "      <td>83.0</td>\n",
       "      <td>5.3</td>\n",
       "      <td>M</td>\n",
       "      <td>13.79</td>\n",
       "    </tr>\n",
       "    <tr>\n",
       "      <td>...</td>\n",
       "      <td>...</td>\n",
       "      <td>...</td>\n",
       "      <td>...</td>\n",
       "      <td>...</td>\n",
       "      <td>...</td>\n",
       "      <td>...</td>\n",
       "      <td>...</td>\n",
       "      <td>...</td>\n",
       "      <td>...</td>\n",
       "      <td>...</td>\n",
       "      <td>...</td>\n",
       "      <td>...</td>\n",
       "    </tr>\n",
       "    <tr>\n",
       "      <td>16615</td>\n",
       "      <td>Balloon Pop 2</td>\n",
       "      <td>3DS</td>\n",
       "      <td>2012</td>\n",
       "      <td>Puzzle</td>\n",
       "      <td>0.01</td>\n",
       "      <td>0.00</td>\n",
       "      <td>0.00</td>\n",
       "      <td>0.00</td>\n",
       "      <td>NaN</td>\n",
       "      <td>NaN</td>\n",
       "      <td>E</td>\n",
       "      <td>0.01</td>\n",
       "    </tr>\n",
       "    <tr>\n",
       "      <td>16618</td>\n",
       "      <td>Xblaze: Lost Memories</td>\n",
       "      <td>PSV</td>\n",
       "      <td>2015</td>\n",
       "      <td>Adventure</td>\n",
       "      <td>0.01</td>\n",
       "      <td>0.00</td>\n",
       "      <td>0.00</td>\n",
       "      <td>0.00</td>\n",
       "      <td>NaN</td>\n",
       "      <td>7.0</td>\n",
       "      <td>M</td>\n",
       "      <td>0.01</td>\n",
       "    </tr>\n",
       "    <tr>\n",
       "      <td>16660</td>\n",
       "      <td>Prison Architect</td>\n",
       "      <td>XOne</td>\n",
       "      <td>2016</td>\n",
       "      <td>Action</td>\n",
       "      <td>0.01</td>\n",
       "      <td>0.00</td>\n",
       "      <td>0.00</td>\n",
       "      <td>0.00</td>\n",
       "      <td>74.0</td>\n",
       "      <td>6.7</td>\n",
       "      <td>NaN</td>\n",
       "      <td>0.01</td>\n",
       "    </tr>\n",
       "    <tr>\n",
       "      <td>16672</td>\n",
       "      <td>Metal Gear Solid V: The Definitive Experience</td>\n",
       "      <td>XOne</td>\n",
       "      <td>2016</td>\n",
       "      <td>Action</td>\n",
       "      <td>0.01</td>\n",
       "      <td>0.00</td>\n",
       "      <td>0.00</td>\n",
       "      <td>0.00</td>\n",
       "      <td>NaN</td>\n",
       "      <td>NaN</td>\n",
       "      <td>M</td>\n",
       "      <td>0.01</td>\n",
       "    </tr>\n",
       "    <tr>\n",
       "      <td>16678</td>\n",
       "      <td>End of Nations</td>\n",
       "      <td>PC</td>\n",
       "      <td>2012</td>\n",
       "      <td>Strategy</td>\n",
       "      <td>0.01</td>\n",
       "      <td>0.00</td>\n",
       "      <td>0.00</td>\n",
       "      <td>0.00</td>\n",
       "      <td>NaN</td>\n",
       "      <td>NaN</td>\n",
       "      <td>T</td>\n",
       "      <td>0.01</td>\n",
       "    </tr>\n",
       "  </tbody>\n",
       "</table>\n",
       "<p>1677 rows × 12 columns</p>\n",
       "</div>"
      ],
      "text/plain": [
       "                                                name platform  \\\n",
       "16                                Grand Theft Auto V      PS3   \n",
       "23                                Grand Theft Auto V     X360   \n",
       "31                         Call of Duty: Black Ops 3      PS4   \n",
       "33                               Pokemon X/Pokemon Y      3DS   \n",
       "34                        Call of Duty: Black Ops II      PS3   \n",
       "...                                              ...      ...   \n",
       "16615                                  Balloon Pop 2      3DS   \n",
       "16618                          Xblaze: Lost Memories      PSV   \n",
       "16660                               Prison Architect     XOne   \n",
       "16672  Metal Gear Solid V: The Definitive Experience     XOne   \n",
       "16678                                 End of Nations       PC   \n",
       "\n",
       "       year_of_release         genre  na_sales  eu_sales  jp_sales  \\\n",
       "16                2013        Action      7.02      9.09      0.98   \n",
       "23                2013        Action      9.66      5.14      0.06   \n",
       "31                2015       Shooter      6.03      5.86      0.36   \n",
       "33                2013  Role-Playing      5.28      4.19      4.35   \n",
       "34                2012       Shooter      4.99      5.73      0.65   \n",
       "...                ...           ...       ...       ...       ...   \n",
       "16615             2012        Puzzle      0.01      0.00      0.00   \n",
       "16618             2015     Adventure      0.01      0.00      0.00   \n",
       "16660             2016        Action      0.01      0.00      0.00   \n",
       "16672             2016        Action      0.01      0.00      0.00   \n",
       "16678             2012      Strategy      0.01      0.00      0.00   \n",
       "\n",
       "       other_sales  critic_score  user_score rating  world_sales  \n",
       "16            3.96          97.0         8.2      M        21.05  \n",
       "23            1.41          97.0         8.1      M        16.27  \n",
       "31            2.38           NaN         NaN    NaN        14.63  \n",
       "33            0.78           NaN         NaN    NaN        14.60  \n",
       "34            2.42          83.0         5.3      M        13.79  \n",
       "...            ...           ...         ...    ...          ...  \n",
       "16615         0.00           NaN         NaN      E         0.01  \n",
       "16618         0.00           NaN         7.0      M         0.01  \n",
       "16660         0.00          74.0         6.7    NaN         0.01  \n",
       "16672         0.00           NaN         NaN      M         0.01  \n",
       "16678         0.00           NaN         NaN      T         0.01  \n",
       "\n",
       "[1677 rows x 12 columns]"
      ]
     },
     "execution_count": 43,
     "metadata": {},
     "output_type": "execute_result"
    }
   ],
   "source": [
    "na"
   ]
  },
  {
   "cell_type": "code",
   "execution_count": 44,
   "metadata": {
    "scrolled": false
   },
   "outputs": [
    {
     "data": {
      "text/html": [
       "<div>\n",
       "<style scoped>\n",
       "    .dataframe tbody tr th:only-of-type {\n",
       "        vertical-align: middle;\n",
       "    }\n",
       "\n",
       "    .dataframe tbody tr th {\n",
       "        vertical-align: top;\n",
       "    }\n",
       "\n",
       "    .dataframe thead th {\n",
       "        text-align: right;\n",
       "    }\n",
       "</style>\n",
       "<table border=\"1\" class=\"dataframe\">\n",
       "  <thead>\n",
       "    <tr style=\"text-align: right;\">\n",
       "      <th></th>\n",
       "      <th>name</th>\n",
       "      <th>platform</th>\n",
       "      <th>year_of_release</th>\n",
       "      <th>genre</th>\n",
       "      <th>na_sales</th>\n",
       "      <th>eu_sales</th>\n",
       "      <th>jp_sales</th>\n",
       "      <th>other_sales</th>\n",
       "      <th>critic_score</th>\n",
       "      <th>user_score</th>\n",
       "      <th>rating</th>\n",
       "      <th>world_sales</th>\n",
       "    </tr>\n",
       "  </thead>\n",
       "  <tbody>\n",
       "    <tr>\n",
       "      <td>16</td>\n",
       "      <td>Grand Theft Auto V</td>\n",
       "      <td>PS3</td>\n",
       "      <td>2013</td>\n",
       "      <td>Action</td>\n",
       "      <td>7.02</td>\n",
       "      <td>9.09</td>\n",
       "      <td>0.98</td>\n",
       "      <td>3.96</td>\n",
       "      <td>97.0</td>\n",
       "      <td>8.2</td>\n",
       "      <td>M</td>\n",
       "      <td>21.05</td>\n",
       "    </tr>\n",
       "    <tr>\n",
       "      <td>23</td>\n",
       "      <td>Grand Theft Auto V</td>\n",
       "      <td>X360</td>\n",
       "      <td>2013</td>\n",
       "      <td>Action</td>\n",
       "      <td>9.66</td>\n",
       "      <td>5.14</td>\n",
       "      <td>0.06</td>\n",
       "      <td>1.41</td>\n",
       "      <td>97.0</td>\n",
       "      <td>8.1</td>\n",
       "      <td>M</td>\n",
       "      <td>16.27</td>\n",
       "    </tr>\n",
       "    <tr>\n",
       "      <td>31</td>\n",
       "      <td>Call of Duty: Black Ops 3</td>\n",
       "      <td>PS4</td>\n",
       "      <td>2015</td>\n",
       "      <td>Shooter</td>\n",
       "      <td>6.03</td>\n",
       "      <td>5.86</td>\n",
       "      <td>0.36</td>\n",
       "      <td>2.38</td>\n",
       "      <td>NaN</td>\n",
       "      <td>NaN</td>\n",
       "      <td>NaN</td>\n",
       "      <td>14.63</td>\n",
       "    </tr>\n",
       "    <tr>\n",
       "      <td>33</td>\n",
       "      <td>Pokemon X/Pokemon Y</td>\n",
       "      <td>3DS</td>\n",
       "      <td>2013</td>\n",
       "      <td>Role-Playing</td>\n",
       "      <td>5.28</td>\n",
       "      <td>4.19</td>\n",
       "      <td>4.35</td>\n",
       "      <td>0.78</td>\n",
       "      <td>NaN</td>\n",
       "      <td>NaN</td>\n",
       "      <td>NaN</td>\n",
       "      <td>14.60</td>\n",
       "    </tr>\n",
       "    <tr>\n",
       "      <td>34</td>\n",
       "      <td>Call of Duty: Black Ops II</td>\n",
       "      <td>PS3</td>\n",
       "      <td>2012</td>\n",
       "      <td>Shooter</td>\n",
       "      <td>4.99</td>\n",
       "      <td>5.73</td>\n",
       "      <td>0.65</td>\n",
       "      <td>2.42</td>\n",
       "      <td>83.0</td>\n",
       "      <td>5.3</td>\n",
       "      <td>M</td>\n",
       "      <td>13.79</td>\n",
       "    </tr>\n",
       "    <tr>\n",
       "      <td>...</td>\n",
       "      <td>...</td>\n",
       "      <td>...</td>\n",
       "      <td>...</td>\n",
       "      <td>...</td>\n",
       "      <td>...</td>\n",
       "      <td>...</td>\n",
       "      <td>...</td>\n",
       "      <td>...</td>\n",
       "      <td>...</td>\n",
       "      <td>...</td>\n",
       "      <td>...</td>\n",
       "      <td>...</td>\n",
       "    </tr>\n",
       "    <tr>\n",
       "      <td>16645</td>\n",
       "      <td>ZombiU</td>\n",
       "      <td>XOne</td>\n",
       "      <td>2016</td>\n",
       "      <td>Action</td>\n",
       "      <td>0.00</td>\n",
       "      <td>0.01</td>\n",
       "      <td>0.00</td>\n",
       "      <td>0.00</td>\n",
       "      <td>NaN</td>\n",
       "      <td>NaN</td>\n",
       "      <td>NaN</td>\n",
       "      <td>0.01</td>\n",
       "    </tr>\n",
       "    <tr>\n",
       "      <td>16652</td>\n",
       "      <td>Fast Racing Neo</td>\n",
       "      <td>WiiU</td>\n",
       "      <td>2016</td>\n",
       "      <td>Action</td>\n",
       "      <td>0.00</td>\n",
       "      <td>0.01</td>\n",
       "      <td>0.00</td>\n",
       "      <td>0.00</td>\n",
       "      <td>81.0</td>\n",
       "      <td>8.5</td>\n",
       "      <td>E</td>\n",
       "      <td>0.01</td>\n",
       "    </tr>\n",
       "    <tr>\n",
       "      <td>16654</td>\n",
       "      <td>Ben 10 Omniverse 2</td>\n",
       "      <td>X360</td>\n",
       "      <td>2013</td>\n",
       "      <td>Action</td>\n",
       "      <td>0.00</td>\n",
       "      <td>0.01</td>\n",
       "      <td>0.00</td>\n",
       "      <td>0.00</td>\n",
       "      <td>NaN</td>\n",
       "      <td>5.1</td>\n",
       "      <td>E10+</td>\n",
       "      <td>0.01</td>\n",
       "    </tr>\n",
       "    <tr>\n",
       "      <td>16674</td>\n",
       "      <td>Tsukigime Ranko's Longest Day</td>\n",
       "      <td>PS3</td>\n",
       "      <td>2014</td>\n",
       "      <td>Action</td>\n",
       "      <td>0.00</td>\n",
       "      <td>0.01</td>\n",
       "      <td>0.00</td>\n",
       "      <td>0.00</td>\n",
       "      <td>NaN</td>\n",
       "      <td>NaN</td>\n",
       "      <td>NaN</td>\n",
       "      <td>0.01</td>\n",
       "    </tr>\n",
       "    <tr>\n",
       "      <td>16692</td>\n",
       "      <td>Metal Gear Solid V: Ground Zeroes</td>\n",
       "      <td>PC</td>\n",
       "      <td>2014</td>\n",
       "      <td>Action</td>\n",
       "      <td>0.00</td>\n",
       "      <td>0.01</td>\n",
       "      <td>0.00</td>\n",
       "      <td>0.00</td>\n",
       "      <td>80.0</td>\n",
       "      <td>7.6</td>\n",
       "      <td>M</td>\n",
       "      <td>0.01</td>\n",
       "    </tr>\n",
       "  </tbody>\n",
       "</table>\n",
       "<p>1811 rows × 12 columns</p>\n",
       "</div>"
      ],
      "text/plain": [
       "                                    name platform  year_of_release  \\\n",
       "16                    Grand Theft Auto V      PS3             2013   \n",
       "23                    Grand Theft Auto V     X360             2013   \n",
       "31             Call of Duty: Black Ops 3      PS4             2015   \n",
       "33                   Pokemon X/Pokemon Y      3DS             2013   \n",
       "34            Call of Duty: Black Ops II      PS3             2012   \n",
       "...                                  ...      ...              ...   \n",
       "16645                             ZombiU     XOne             2016   \n",
       "16652                   Fast Racing Neo      WiiU             2016   \n",
       "16654                 Ben 10 Omniverse 2     X360             2013   \n",
       "16674      Tsukigime Ranko's Longest Day      PS3             2014   \n",
       "16692  Metal Gear Solid V: Ground Zeroes       PC             2014   \n",
       "\n",
       "              genre  na_sales  eu_sales  jp_sales  other_sales  critic_score  \\\n",
       "16           Action      7.02      9.09      0.98         3.96          97.0   \n",
       "23           Action      9.66      5.14      0.06         1.41          97.0   \n",
       "31          Shooter      6.03      5.86      0.36         2.38           NaN   \n",
       "33     Role-Playing      5.28      4.19      4.35         0.78           NaN   \n",
       "34          Shooter      4.99      5.73      0.65         2.42          83.0   \n",
       "...             ...       ...       ...       ...          ...           ...   \n",
       "16645        Action      0.00      0.01      0.00         0.00           NaN   \n",
       "16652        Action      0.00      0.01      0.00         0.00          81.0   \n",
       "16654        Action      0.00      0.01      0.00         0.00           NaN   \n",
       "16674        Action      0.00      0.01      0.00         0.00           NaN   \n",
       "16692        Action      0.00      0.01      0.00         0.00          80.0   \n",
       "\n",
       "       user_score rating  world_sales  \n",
       "16            8.2      M        21.05  \n",
       "23            8.1      M        16.27  \n",
       "31            NaN    NaN        14.63  \n",
       "33            NaN    NaN        14.60  \n",
       "34            5.3      M        13.79  \n",
       "...           ...    ...          ...  \n",
       "16645         NaN    NaN         0.01  \n",
       "16652         8.5      E         0.01  \n",
       "16654         5.1   E10+         0.01  \n",
       "16674         NaN    NaN         0.01  \n",
       "16692         7.6      M         0.01  \n",
       "\n",
       "[1811 rows x 12 columns]"
      ]
     },
     "execution_count": 44,
     "metadata": {},
     "output_type": "execute_result"
    }
   ],
   "source": [
    "eu"
   ]
  },
  {
   "cell_type": "markdown",
   "metadata": {},
   "source": [
    "Выделили пользователей определенных районов. Найдем самый популярные платформы и жанры."
   ]
  },
  {
   "cell_type": "code",
   "execution_count": 45,
   "metadata": {},
   "outputs": [],
   "source": [
    "jp_pivot = jp.a"
   ]
  },
  {
   "cell_type": "code",
   "execution_count": 46,
   "metadata": {},
   "outputs": [
    {
     "data": {
      "text/html": [
       "<div>\n",
       "<style scoped>\n",
       "    .dataframe tbody tr th:only-of-type {\n",
       "        vertical-align: middle;\n",
       "    }\n",
       "\n",
       "    .dataframe tbody tr th {\n",
       "        vertical-align: top;\n",
       "    }\n",
       "\n",
       "    .dataframe thead th {\n",
       "        text-align: right;\n",
       "    }\n",
       "</style>\n",
       "<table border=\"1\" class=\"dataframe\">\n",
       "  <thead>\n",
       "    <tr style=\"text-align: right;\">\n",
       "      <th></th>\n",
       "      <th>jp_sales</th>\n",
       "    </tr>\n",
       "    <tr>\n",
       "      <th>platform</th>\n",
       "      <th></th>\n",
       "    </tr>\n",
       "  </thead>\n",
       "  <tbody>\n",
       "    <tr>\n",
       "      <td>3DS</td>\n",
       "      <td>87.79</td>\n",
       "    </tr>\n",
       "    <tr>\n",
       "      <td>PS3</td>\n",
       "      <td>35.29</td>\n",
       "    </tr>\n",
       "    <tr>\n",
       "      <td>PSV</td>\n",
       "      <td>21.04</td>\n",
       "    </tr>\n",
       "    <tr>\n",
       "      <td>PS4</td>\n",
       "      <td>15.96</td>\n",
       "    </tr>\n",
       "    <tr>\n",
       "      <td>WiiU</td>\n",
       "      <td>13.01</td>\n",
       "    </tr>\n",
       "    <tr>\n",
       "      <td>PSP</td>\n",
       "      <td>10.47</td>\n",
       "    </tr>\n",
       "    <tr>\n",
       "      <td>DS</td>\n",
       "      <td>3.72</td>\n",
       "    </tr>\n",
       "    <tr>\n",
       "      <td>Wii</td>\n",
       "      <td>3.39</td>\n",
       "    </tr>\n",
       "    <tr>\n",
       "      <td>X360</td>\n",
       "      <td>1.57</td>\n",
       "    </tr>\n",
       "    <tr>\n",
       "      <td>XOne</td>\n",
       "      <td>0.34</td>\n",
       "    </tr>\n",
       "  </tbody>\n",
       "</table>\n",
       "</div>"
      ],
      "text/plain": [
       "          jp_sales\n",
       "platform          \n",
       "3DS          87.79\n",
       "PS3          35.29\n",
       "PSV          21.04\n",
       "PS4          15.96\n",
       "WiiU         13.01\n",
       "PSP          10.47\n",
       "DS            3.72\n",
       "Wii           3.39\n",
       "X360          1.57\n",
       "XOne          0.34"
      ]
     },
     "execution_count": 46,
     "metadata": {},
     "output_type": "execute_result"
    }
   ],
   "source": [
    "jp_pivot.sort_values(by='jp_sales', ascending=False)"
   ]
  },
  {
   "cell_type": "code",
   "execution_count": 47,
   "metadata": {},
   "outputs": [
    {
     "data": {
      "text/plain": [
       "Action          563\n",
       "Role-Playing    299\n",
       "Adventure       206\n",
       "Misc            108\n",
       "Shooter          93\n",
       "Fighting         80\n",
       "Sports           78\n",
       "Simulation       34\n",
       "Platform         33\n",
       "Racing           33\n",
       "Strategy         30\n",
       "Puzzle           12\n",
       "Name: genre, dtype: int64"
      ]
     },
     "execution_count": 47,
     "metadata": {},
     "output_type": "execute_result"
    }
   ],
   "source": [
    "jp['genre'].value_counts()"
   ]
  },
  {
   "cell_type": "code",
   "execution_count": 48,
   "metadata": {},
   "outputs": [],
   "source": [
    "jp_genres =jp['genre'].value_counts()"
   ]
  },
  {
   "cell_type": "code",
   "execution_count": 49,
   "metadata": {},
   "outputs": [],
   "source": [
    "na_pivot = na.pivot_table(index='platform', values='na_sales', aggfunc='sum')"
   ]
  },
  {
   "cell_type": "code",
   "execution_count": 50,
   "metadata": {},
   "outputs": [
    {
     "data": {
      "text/html": [
       "<div>\n",
       "<style scoped>\n",
       "    .dataframe tbody tr th:only-of-type {\n",
       "        vertical-align: middle;\n",
       "    }\n",
       "\n",
       "    .dataframe tbody tr th {\n",
       "        vertical-align: top;\n",
       "    }\n",
       "\n",
       "    .dataframe thead th {\n",
       "        text-align: right;\n",
       "    }\n",
       "</style>\n",
       "<table border=\"1\" class=\"dataframe\">\n",
       "  <thead>\n",
       "    <tr style=\"text-align: right;\">\n",
       "      <th></th>\n",
       "      <th>na_sales</th>\n",
       "    </tr>\n",
       "    <tr>\n",
       "      <th>platform</th>\n",
       "      <th></th>\n",
       "    </tr>\n",
       "  </thead>\n",
       "  <tbody>\n",
       "    <tr>\n",
       "      <td>X360</td>\n",
       "      <td>140.05</td>\n",
       "    </tr>\n",
       "    <tr>\n",
       "      <td>PS4</td>\n",
       "      <td>108.74</td>\n",
       "    </tr>\n",
       "    <tr>\n",
       "      <td>PS3</td>\n",
       "      <td>103.38</td>\n",
       "    </tr>\n",
       "    <tr>\n",
       "      <td>XOne</td>\n",
       "      <td>93.12</td>\n",
       "    </tr>\n",
       "    <tr>\n",
       "      <td>3DS</td>\n",
       "      <td>55.31</td>\n",
       "    </tr>\n",
       "    <tr>\n",
       "      <td>WiiU</td>\n",
       "      <td>38.10</td>\n",
       "    </tr>\n",
       "    <tr>\n",
       "      <td>PC</td>\n",
       "      <td>19.12</td>\n",
       "    </tr>\n",
       "    <tr>\n",
       "      <td>Wii</td>\n",
       "      <td>17.45</td>\n",
       "    </tr>\n",
       "    <tr>\n",
       "      <td>PSV</td>\n",
       "      <td>10.98</td>\n",
       "    </tr>\n",
       "    <tr>\n",
       "      <td>DS</td>\n",
       "      <td>4.59</td>\n",
       "    </tr>\n",
       "    <tr>\n",
       "      <td>PSP</td>\n",
       "      <td>0.13</td>\n",
       "    </tr>\n",
       "  </tbody>\n",
       "</table>\n",
       "</div>"
      ],
      "text/plain": [
       "          na_sales\n",
       "platform          \n",
       "X360        140.05\n",
       "PS4         108.74\n",
       "PS3         103.38\n",
       "XOne         93.12\n",
       "3DS          55.31\n",
       "WiiU         38.10\n",
       "PC           19.12\n",
       "Wii          17.45\n",
       "PSV          10.98\n",
       "DS            4.59\n",
       "PSP           0.13"
      ]
     },
     "execution_count": 50,
     "metadata": {},
     "output_type": "execute_result"
    }
   ],
   "source": [
    "na_pivot.sort_values(by='na_sales', ascending=False)"
   ]
  },
  {
   "cell_type": "code",
   "execution_count": 51,
   "metadata": {},
   "outputs": [
    {
     "data": {
      "text/plain": [
       "Action          589\n",
       "Shooter         212\n",
       "Role-Playing    195\n",
       "Sports          182\n",
       "Misc            104\n",
       "Adventure        89\n",
       "Racing           80\n",
       "Fighting         76\n",
       "Platform         75\n",
       "Simulation       38\n",
       "Strategy         29\n",
       "Puzzle            8\n",
       "Name: genre, dtype: int64"
      ]
     },
     "execution_count": 51,
     "metadata": {},
     "output_type": "execute_result"
    }
   ],
   "source": [
    "na['genre'].value_counts()"
   ]
  },
  {
   "cell_type": "code",
   "execution_count": 52,
   "metadata": {},
   "outputs": [],
   "source": [
    "na_genres=na['genre'].value_counts()"
   ]
  },
  {
   "cell_type": "code",
   "execution_count": 53,
   "metadata": {},
   "outputs": [],
   "source": [
    "eu_pivot = eu.pivot_table(index='platform', values='eu_sales', aggfunc='sum')"
   ]
  },
  {
   "cell_type": "code",
   "execution_count": 54,
   "metadata": {},
   "outputs": [
    {
     "data": {
      "text/html": [
       "<div>\n",
       "<style scoped>\n",
       "    .dataframe tbody tr th:only-of-type {\n",
       "        vertical-align: middle;\n",
       "    }\n",
       "\n",
       "    .dataframe tbody tr th {\n",
       "        vertical-align: top;\n",
       "    }\n",
       "\n",
       "    .dataframe thead th {\n",
       "        text-align: right;\n",
       "    }\n",
       "</style>\n",
       "<table border=\"1\" class=\"dataframe\">\n",
       "  <thead>\n",
       "    <tr style=\"text-align: right;\">\n",
       "      <th></th>\n",
       "      <th>eu_sales</th>\n",
       "    </tr>\n",
       "    <tr>\n",
       "      <th>platform</th>\n",
       "      <th></th>\n",
       "    </tr>\n",
       "  </thead>\n",
       "  <tbody>\n",
       "    <tr>\n",
       "      <td>PS4</td>\n",
       "      <td>141.09</td>\n",
       "    </tr>\n",
       "    <tr>\n",
       "      <td>PS3</td>\n",
       "      <td>106.86</td>\n",
       "    </tr>\n",
       "    <tr>\n",
       "      <td>X360</td>\n",
       "      <td>74.52</td>\n",
       "    </tr>\n",
       "    <tr>\n",
       "      <td>XOne</td>\n",
       "      <td>51.59</td>\n",
       "    </tr>\n",
       "    <tr>\n",
       "      <td>3DS</td>\n",
       "      <td>42.64</td>\n",
       "    </tr>\n",
       "    <tr>\n",
       "      <td>PC</td>\n",
       "      <td>37.76</td>\n",
       "    </tr>\n",
       "    <tr>\n",
       "      <td>WiiU</td>\n",
       "      <td>25.13</td>\n",
       "    </tr>\n",
       "    <tr>\n",
       "      <td>Wii</td>\n",
       "      <td>11.92</td>\n",
       "    </tr>\n",
       "    <tr>\n",
       "      <td>PSV</td>\n",
       "      <td>11.36</td>\n",
       "    </tr>\n",
       "    <tr>\n",
       "      <td>DS</td>\n",
       "      <td>3.53</td>\n",
       "    </tr>\n",
       "    <tr>\n",
       "      <td>PSP</td>\n",
       "      <td>0.42</td>\n",
       "    </tr>\n",
       "  </tbody>\n",
       "</table>\n",
       "</div>"
      ],
      "text/plain": [
       "          eu_sales\n",
       "platform          \n",
       "PS4         141.09\n",
       "PS3         106.86\n",
       "X360         74.52\n",
       "XOne         51.59\n",
       "3DS          42.64\n",
       "PC           37.76\n",
       "WiiU         25.13\n",
       "Wii          11.92\n",
       "PSV          11.36\n",
       "DS            3.53\n",
       "PSP           0.42"
      ]
     },
     "execution_count": 54,
     "metadata": {},
     "output_type": "execute_result"
    }
   ],
   "source": [
    "eu_pivot.sort_values(by='eu_sales', ascending=False)"
   ]
  },
  {
   "cell_type": "code",
   "execution_count": 87,
   "metadata": {},
   "outputs": [
    {
     "data": {
      "text/html": [
       "<div>\n",
       "<style scoped>\n",
       "    .dataframe tbody tr th:only-of-type {\n",
       "        vertical-align: middle;\n",
       "    }\n",
       "\n",
       "    .dataframe tbody tr th {\n",
       "        vertical-align: top;\n",
       "    }\n",
       "\n",
       "    .dataframe thead th {\n",
       "        text-align: right;\n",
       "    }\n",
       "</style>\n",
       "<table border=\"1\" class=\"dataframe\">\n",
       "  <thead>\n",
       "    <tr style=\"text-align: right;\">\n",
       "      <th></th>\n",
       "      <th>eu_sales</th>\n",
       "      <th>jp_sales</th>\n",
       "      <th>na_sales</th>\n",
       "    </tr>\n",
       "    <tr>\n",
       "      <th>platform</th>\n",
       "      <th></th>\n",
       "      <th></th>\n",
       "      <th></th>\n",
       "    </tr>\n",
       "  </thead>\n",
       "  <tbody>\n",
       "    <tr>\n",
       "      <td>PS4</td>\n",
       "      <td>141.09</td>\n",
       "      <td>15.96</td>\n",
       "      <td>108.74</td>\n",
       "    </tr>\n",
       "    <tr>\n",
       "      <td>PS3</td>\n",
       "      <td>106.86</td>\n",
       "      <td>35.29</td>\n",
       "      <td>103.38</td>\n",
       "    </tr>\n",
       "    <tr>\n",
       "      <td>X360</td>\n",
       "      <td>74.52</td>\n",
       "      <td>1.57</td>\n",
       "      <td>140.05</td>\n",
       "    </tr>\n",
       "    <tr>\n",
       "      <td>XOne</td>\n",
       "      <td>51.59</td>\n",
       "      <td>0.34</td>\n",
       "      <td>93.12</td>\n",
       "    </tr>\n",
       "    <tr>\n",
       "      <td>3DS</td>\n",
       "      <td>42.64</td>\n",
       "      <td>87.79</td>\n",
       "      <td>55.31</td>\n",
       "    </tr>\n",
       "    <tr>\n",
       "      <td>PC</td>\n",
       "      <td>37.76</td>\n",
       "      <td>0.00</td>\n",
       "      <td>19.12</td>\n",
       "    </tr>\n",
       "    <tr>\n",
       "      <td>WiiU</td>\n",
       "      <td>25.13</td>\n",
       "      <td>13.01</td>\n",
       "      <td>38.10</td>\n",
       "    </tr>\n",
       "    <tr>\n",
       "      <td>Wii</td>\n",
       "      <td>11.92</td>\n",
       "      <td>3.39</td>\n",
       "      <td>17.45</td>\n",
       "    </tr>\n",
       "    <tr>\n",
       "      <td>PSV</td>\n",
       "      <td>11.36</td>\n",
       "      <td>21.04</td>\n",
       "      <td>10.98</td>\n",
       "    </tr>\n",
       "    <tr>\n",
       "      <td>DS</td>\n",
       "      <td>3.53</td>\n",
       "      <td>3.72</td>\n",
       "      <td>4.59</td>\n",
       "    </tr>\n",
       "    <tr>\n",
       "      <td>PSP</td>\n",
       "      <td>0.42</td>\n",
       "      <td>10.47</td>\n",
       "      <td>0.13</td>\n",
       "    </tr>\n",
       "  </tbody>\n",
       "</table>\n",
       "</div>"
      ],
      "text/plain": [
       "          eu_sales  jp_sales  na_sales\n",
       "platform                              \n",
       "PS4         141.09     15.96    108.74\n",
       "PS3         106.86     35.29    103.38\n",
       "X360         74.52      1.57    140.05\n",
       "XOne         51.59      0.34     93.12\n",
       "3DS          42.64     87.79     55.31\n",
       "PC           37.76      0.00     19.12\n",
       "WiiU         25.13     13.01     38.10\n",
       "Wii          11.92      3.39     17.45\n",
       "PSV          11.36     21.04     10.98\n",
       "DS            3.53      3.72      4.59\n",
       "PSP           0.42     10.47      0.13"
      ]
     },
     "execution_count": 87,
     "metadata": {},
     "output_type": "execute_result"
    }
   ],
   "source": [
    "test = (new_data\n",
    "        .pivot_table(index='platform', values=['na_sales', 'eu_sales', 'jp_sales'], aggfunc='sum')\n",
    "        .sort_values(by='eu_sales', ascending=False)\n",
    "       )\n",
    "\n",
    "test"
   ]
  },
  {
   "cell_type": "code",
   "execution_count": 109,
   "metadata": {},
   "outputs": [
    {
     "data": {
      "image/png": "[encoded data removed]",
      "text/plain": [
       "<Figure size 1080x360 with 1 Axes>"
      ]
     },
     "metadata": {
      "needs_background": "light"
     },
     "output_type": "display_data"
    }
   ],
   "source": [
    "# создаём пустое поле\n",
    "ax = plt.gca()\n",
    "\n",
    "# поочереди строим каждый график, задавая ему общее поле для отрисовки (ax) и свою позицию (position)\n",
    "plot1 = test['eu_sales']\n",
    "plot1.plot(kind='bar', width=0.15, ec='black', figsize=(15,5), ax=ax, position=1)\n",
    "\n",
    "plot2 = test['jp_sales']\n",
    "plot2.plot(kind='bar', color='#97F0AA', width=0.15, ec='black', figsize=(15,5), ax=ax, position=0)\n",
    "\n",
    "plot3 = test['na_sales']\n",
    "plot3.plot(kind='bar', color='#E59252', width=0.15, ec='black', figsize=(15,5), ax=ax, position=2)\n",
    "\n",
    "# легенда и приведение в порядок длины и ширины поля для отрисовки\n",
    "ax.legend(test.columns)\n",
    "ax.autoscale(tight=True)\n",
    "\n",
    "plt.title('Суммарные продажи по регионам')\n",
    "\n",
    "plt.show()"
   ]
  },
  {
   "cell_type": "markdown",
   "metadata": {},
   "source": [
    "<hr style=\"border: 1px solid #000;\"> "
   ]
  },
  {
   "cell_type": "code",
   "execution_count": 55,
   "metadata": {},
   "outputs": [
    {
     "data": {
      "text/plain": [
       "Action          642\n",
       "Shooter         214\n",
       "Sports          202\n",
       "Role-Playing    196\n",
       "Misc            104\n",
       "Racing          104\n",
       "Adventure        97\n",
       "Platform         72\n",
       "Fighting         69\n",
       "Simulation       55\n",
       "Strategy         41\n",
       "Puzzle           15\n",
       "Name: genre, dtype: int64"
      ]
     },
     "execution_count": 55,
     "metadata": {},
     "output_type": "execute_result"
    }
   ],
   "source": [
    "eu_genres = eu['genre'].value_counts()\n",
    "eu_genres"
   ]
  },
  {
   "cell_type": "code",
   "execution_count": 56,
   "metadata": {},
   "outputs": [
    {
     "data": {
      "text/plain": [
       "array([[<matplotlib.axes._subplots.AxesSubplot object at 0x7f81570a5150>]],\n",
       "      dtype=object)"
      ]
     },
     "execution_count": 56,
     "metadata": {},
     "output_type": "execute_result"
    },
    {
     "data": {
      "image/png": "[encoded data removed]",
      "text/plain": [
       "<Figure size 432x288 with 1 Axes>"
      ]
     },
     "metadata": {
      "needs_background": "light"
     },
     "output_type": "display_data"
    },
    {
     "data": {
      "image/png": "[encoded data removed]",
      "text/plain": [
       "<Figure size 432x288 with 1 Axes>"
      ]
     },
     "metadata": {
      "needs_background": "light"
     },
     "output_type": "display_data"
    },
    {
     "data": {
      "image/png": "[encoded data removed]",
      "text/plain": [
       "<Figure size 432x288 with 1 Axes>"
      ]
     },
     "metadata": {
      "needs_background": "light"
     },
     "output_type": "display_data"
    }
   ],
   "source": [
    "jp_pivot.hist(bins=20)\n",
    "na_pivot.hist(bins=20)\n",
    "eu_pivot.hist(bins=20)"
   ]
  },
  {
   "cell_type": "code",
   "execution_count": 57,
   "metadata": {},
   "outputs": [
    {
     "data": {
      "image/png": "[encoded data removed]",
      "text/plain": [
       "<Figure size 432x288 with 1 Axes>"
      ]
     },
     "metadata": {
      "needs_background": "light"
     },
     "output_type": "display_data"
    }
   ],
   "source": [
    "jp_genres.hist(bins=25, alpha=0.5)\n",
    "na_genres.hist(bins=25, alpha=0.5)\n",
    "eu_genres.hist(bins=25, alpha=0.5)\n",
    "plt.title('Частота появления тех или иных жанров в разных районах')\n",
    "plt.show()"
   ]
  },
  {
   "cell_type": "markdown",
   "metadata": {},
   "source": [
    "Видим, что в Европе и Америке самыми распространенными платформами являются 3DS, PS3, PSV, в то время как в Японии лидирующие позиции занимают X360, PS4,PS3.\t"
   ]
  },
  {
   "cell_type": "markdown",
   "metadata": {},
   "source": [
    "Также самыми распространенными жанрами в Европе и Америке являются Action, Sports, Misc, Shooter, а в Японии Adventure, Role-Playing, Action, Misc."
   ]
  },
  {
   "cell_type": "markdown",
   "metadata": {},
   "source": [
    "# Шаг 5. Проверьте гипотезы"
   ]
  },
  {
   "cell_type": "code",
   "execution_count": 58,
   "metadata": {},
   "outputs": [],
   "source": [
    "from scipy import stats as st"
   ]
  },
  {
   "cell_type": "markdown",
   "metadata": {},
   "source": [
    "### Первая гипотеза\n",
    "- Нулевая гипотеза: Средние пользовательские рейтинги платформ Xbox One и PC одинаковые.\n",
    "- Альтернативная гипотеза : Средние пользовательские рейтинги платформ Xbox One и PC разные."
   ]
  },
  {
   "cell_type": "code",
   "execution_count": 60,
   "metadata": {},
   "outputs": [],
   "source": [
    "xone = new_data.query('platform == \"XOne\"')['user_score'].dropna()"
   ]
  },
  {
   "cell_type": "code",
   "execution_count": 61,
   "metadata": {},
   "outputs": [
    {
     "data": {
      "text/plain": [
       "165      7.9\n",
       "179      5.4\n",
       "242      6.4\n",
       "270      6.2\n",
       "373      4.1\n",
       "        ... \n",
       "16544    6.8\n",
       "16597    6.0\n",
       "16630    8.2\n",
       "16643    6.6\n",
       "16660    6.7\n",
       "Name: user_score, Length: 182, dtype: float64"
      ]
     },
     "execution_count": 61,
     "metadata": {},
     "output_type": "execute_result"
    }
   ],
   "source": [
    "xone"
   ]
  },
  {
   "cell_type": "code",
   "execution_count": 62,
   "metadata": {},
   "outputs": [],
   "source": [
    "pc = new_data.query('platform == \"PC\"')['user_score'].dropna()"
   ]
  },
  {
   "cell_type": "code",
   "execution_count": 63,
   "metadata": {},
   "outputs": [
    {
     "data": {
      "text/plain": [
       "192      4.0\n",
       "458      3.9\n",
       "688      7.9\n",
       "959      4.8\n",
       "1095     7.9\n",
       "        ... \n",
       "16463    6.8\n",
       "16509    7.9\n",
       "16518    1.4\n",
       "16584    7.9\n",
       "16692    7.6\n",
       "Name: user_score, Length: 206, dtype: float64"
      ]
     },
     "execution_count": 63,
     "metadata": {},
     "output_type": "execute_result"
    }
   ],
   "source": [
    "pc"
   ]
  },
  {
   "cell_type": "code",
   "execution_count": 64,
   "metadata": {},
   "outputs": [],
   "source": [
    "alpha = 0.05"
   ]
  },
  {
   "cell_type": "code",
   "execution_count": 65,
   "metadata": {},
   "outputs": [
    {
     "name": "stdout",
     "output_type": "stream",
     "text": [
      "p-значение: 0.5489537965134912\n",
      "Не получилось отвергнуть нулевую гипотезу\n"
     ]
    }
   ],
   "source": [
    "results = st.ttest_ind(xone, pc, equal_var=False)\n",
    " \n",
    "print('p-значение:', results.pvalue)\n",
    "if (results.pvalue < alpha):\n",
    "    print(\"Отвергаем нулевую гипотезу\")\n",
    "else:\n",
    "    print(\"Не получилось отвергнуть нулевую гипотезу\")"
   ]
  },
  {
   "cell_type": "markdown",
   "metadata": {},
   "source": [
    "Исходя из выводов, можно сказать, что нельзя утверждать тот факт, что средние пользовательские рейтинги платформ Xbox One и PC одинаковые, но и обратное тоже не явялется фактом."
   ]
  },
  {
   "cell_type": "markdown",
   "metadata": {},
   "source": [
    "### вторая гипотеза\n",
    "- Нулевая гипотеза: средние пользовательские рейтинги жанров Action (англ. «действие», экшен-игры) и Sports (англ. «спортивные соревнования») одинаковые.\n",
    "- Альтернативная гипотеза: средние пользовательские рейтинги жанров Action (англ. «действие», экшен-игры) и Sports (англ. «спортивные соревнования») различаются."
   ]
  },
  {
   "cell_type": "code",
   "execution_count": 68,
   "metadata": {},
   "outputs": [],
   "source": [
    "action = new_data.query('genre == \"Action\"')['user_score'].dropna()"
   ]
  },
  {
   "cell_type": "code",
   "execution_count": 69,
   "metadata": {},
   "outputs": [
    {
     "data": {
      "text/plain": [
       "16       8.2\n",
       "23       8.1\n",
       "42       8.3\n",
       "81       6.6\n",
       "127      6.9\n",
       "        ... \n",
       "16597    6.0\n",
       "16652    8.5\n",
       "16654    5.1\n",
       "16660    6.7\n",
       "16692    7.6\n",
       "Name: user_score, Length: 523, dtype: float64"
      ]
     },
     "execution_count": 69,
     "metadata": {},
     "output_type": "execute_result"
    }
   ],
   "source": [
    "action"
   ]
  },
  {
   "cell_type": "code",
   "execution_count": 70,
   "metadata": {},
   "outputs": [],
   "source": [
    "sport = new_data.query('genre == \"Sports\"')['user_score'].dropna()"
   ]
  },
  {
   "cell_type": "code",
   "execution_count": 71,
   "metadata": {},
   "outputs": [
    {
     "data": {
      "text/plain": [
       "77       4.3\n",
       "94       5.0\n",
       "126      4.3\n",
       "143      5.7\n",
       "264      4.5\n",
       "        ... \n",
       "16146    6.9\n",
       "16230    5.5\n",
       "16450    4.5\n",
       "16518    1.4\n",
       "16643    6.6\n",
       "Name: user_score, Length: 195, dtype: float64"
      ]
     },
     "execution_count": 71,
     "metadata": {},
     "output_type": "execute_result"
    }
   ],
   "source": [
    "sport"
   ]
  },
  {
   "cell_type": "code",
   "execution_count": 72,
   "metadata": {},
   "outputs": [
    {
     "name": "stdout",
     "output_type": "stream",
     "text": [
      "p-значение: 4.24307776572644e-20\n",
      "Отвергаем нулевую гипотезу\n"
     ]
    }
   ],
   "source": [
    "results = st.ttest_ind(action, sport, equal_var=False)\n",
    " \n",
    "print('p-значение:', results.pvalue)\n",
    "if (results.pvalue < alpha):\n",
    "    print(\"Отвергаем нулевую гипотезу\")\n",
    "else:\n",
    "    print(\"Не получилось отвергнуть нулевую гипотезу\")"
   ]
  },
  {
   "cell_type": "markdown",
   "metadata": {},
   "source": [
    "Исходя из выводов, можно сказать, что можно утверждать, что средние пользовательские рейтинги жанров Экшн и Спорт разные."
   ]
  },
  {
   "cell_type": "markdown",
   "metadata": {},
   "source": [
    "# Шаг 6. Напишите общий вывод"
   ]
  },
  {
   "cell_type": "markdown",
   "metadata": {},
   "source": [
    "Согласно данным, можно сделать вывод: \n",
    "\n",
    "- усилие сделать необходимо на Европу и Америку, так как они приносят наибольшее количество продаж;\n",
    "- продавать необходимо то, что инетересно данному сегменту: Экшн на PS4/Xbox360"
   ]
  }
 ],
 "metadata": {
  "ExecuteTimeLog": [
   {
    "duration": 944,
    "start_time": "2021-09-06T10:14:13.096Z"
   },
   {
    "duration": 11,
    "start_time": "2021-09-06T10:14:22.364Z"
   },
   {
    "duration": 35,
    "start_time": "2021-09-06T10:14:30.549Z"
   },
   {
    "duration": 13,
    "start_time": "2021-09-06T10:15:59.312Z"
   },
   {
    "duration": 14,
    "start_time": "2021-09-06T10:18:07.767Z"
   },
   {
    "duration": 3,
    "start_time": "2021-09-06T10:54:23.486Z"
   },
   {
    "duration": 4,
    "start_time": "2021-09-06T10:57:01.357Z"
   },
   {
    "duration": 21,
    "start_time": "2021-09-06T10:57:04.597Z"
   },
   {
    "duration": -912,
    "start_time": "2021-09-06T10:57:31.488Z"
   },
   {
    "duration": 885,
    "start_time": "2021-09-06T10:57:31.618Z"
   },
   {
    "duration": 44,
    "start_time": "2021-09-06T10:57:41.422Z"
   },
   {
    "duration": 26,
    "start_time": "2021-09-06T10:57:41.801Z"
   },
   {
    "duration": 43,
    "start_time": "2021-09-06T10:57:42.812Z"
   },
   {
    "duration": 10,
    "start_time": "2021-09-06T10:57:44.159Z"
   },
   {
    "duration": 29,
    "start_time": "2021-09-06T10:57:45.255Z"
   },
   {
    "duration": 14,
    "start_time": "2021-09-06T10:57:47.049Z"
   },
   {
    "duration": 4,
    "start_time": "2021-09-06T10:57:49.811Z"
   },
   {
    "duration": 19,
    "start_time": "2021-09-06T10:57:52.243Z"
   },
   {
    "duration": 1057,
    "start_time": "2021-09-06T11:04:48.080Z"
   },
   {
    "duration": 787,
    "start_time": "2021-09-06T11:05:30.401Z"
   },
   {
    "duration": 20,
    "start_time": "2021-09-06T11:05:35.886Z"
   },
   {
    "duration": 1086,
    "start_time": "2021-09-06T11:05:39.768Z"
   },
   {
    "duration": 702,
    "start_time": "2021-09-06T11:07:08.046Z"
   },
   {
    "duration": 243,
    "start_time": "2021-09-06T11:07:16.460Z"
   },
   {
    "duration": 1364,
    "start_time": "2021-09-06T11:07:18.303Z"
   },
   {
    "duration": 20,
    "start_time": "2021-09-06T11:07:59.147Z"
   },
   {
    "duration": 825,
    "start_time": "2021-09-06T11:08:00.464Z"
   },
   {
    "duration": 41,
    "start_time": "2021-09-06T11:08:06.377Z"
   },
   {
    "duration": 11,
    "start_time": "2021-09-06T11:08:07.287Z"
   },
   {
    "duration": 29,
    "start_time": "2021-09-06T11:08:07.999Z"
   },
   {
    "duration": 14,
    "start_time": "2021-09-06T11:08:08.814Z"
   },
   {
    "duration": 13,
    "start_time": "2021-09-06T11:08:10.454Z"
   },
   {
    "duration": 4,
    "start_time": "2021-09-06T11:08:13.107Z"
   },
   {
    "duration": 19,
    "start_time": "2021-09-06T11:08:14.041Z"
   },
   {
    "duration": 1525,
    "start_time": "2021-09-06T11:08:15.280Z"
   },
   {
    "duration": 33274,
    "start_time": "2021-09-06T11:08:35.482Z"
   },
   {
    "duration": 191,
    "start_time": "2021-09-06T11:09:21.819Z"
   },
   {
    "duration": 1090,
    "start_time": "2021-09-06T11:09:26.426Z"
   },
   {
    "duration": 23,
    "start_time": "2021-09-06T11:11:11.647Z"
   },
   {
    "duration": 742,
    "start_time": "2021-09-06T11:11:39.612Z"
   },
   {
    "duration": 1185,
    "start_time": "2021-09-06T11:11:47.876Z"
   },
   {
    "duration": 946,
    "start_time": "2021-09-06T11:14:51.938Z"
   },
   {
    "duration": -916,
    "start_time": "2021-09-06T11:15:01.727Z"
   },
   {
    "duration": 20,
    "start_time": "2021-09-06T11:15:02.386Z"
   },
   {
    "duration": 1272,
    "start_time": "2021-09-06T11:15:03.538Z"
   },
   {
    "duration": 1834,
    "start_time": "2021-09-06T11:18:19.022Z"
   },
   {
    "duration": 2947,
    "start_time": "2021-09-06T11:19:04.730Z"
   },
   {
    "duration": 42,
    "start_time": "2021-09-06T11:19:53.868Z"
   },
   {
    "duration": 9,
    "start_time": "2021-09-06T11:19:54.576Z"
   },
   {
    "duration": 28,
    "start_time": "2021-09-06T11:19:55.437Z"
   },
   {
    "duration": 13,
    "start_time": "2021-09-06T11:19:56.075Z"
   },
   {
    "duration": 4,
    "start_time": "2021-09-06T11:19:58.243Z"
   },
   {
    "duration": 20,
    "start_time": "2021-09-06T11:19:58.606Z"
   },
   {
    "duration": 1844,
    "start_time": "2021-09-06T11:19:59.245Z"
   },
   {
    "duration": 3231,
    "start_time": "2021-09-06T11:20:08.218Z"
   },
   {
    "duration": 932,
    "start_time": "2021-09-06T11:20:50.027Z"
   },
   {
    "duration": 9,
    "start_time": "2021-09-06T11:20:50.961Z"
   },
   {
    "duration": 35,
    "start_time": "2021-09-06T11:20:52.320Z"
   },
   {
    "duration": 13,
    "start_time": "2021-09-06T11:20:52.920Z"
   },
   {
    "duration": 4,
    "start_time": "2021-09-06T11:20:54.938Z"
   },
   {
    "duration": 20,
    "start_time": "2021-09-06T11:20:55.514Z"
   },
   {
    "duration": 1690,
    "start_time": "2021-09-06T11:20:56.304Z"
   },
   {
    "duration": 1064,
    "start_time": "2021-09-06T11:23:47.539Z"
   },
   {
    "duration": 1145,
    "start_time": "2021-09-06T11:26:29.774Z"
   },
   {
    "duration": 1103,
    "start_time": "2021-09-06T11:26:44.699Z"
   },
   {
    "duration": 754,
    "start_time": "2021-09-06T11:27:08.997Z"
   },
   {
    "duration": 2,
    "start_time": "2021-09-06T11:28:06.903Z"
   },
   {
    "duration": 21,
    "start_time": "2021-09-06T11:28:07.322Z"
   },
   {
    "duration": 44,
    "start_time": "2021-09-06T11:28:13.560Z"
   },
   {
    "duration": 9,
    "start_time": "2021-09-06T11:28:15.016Z"
   },
   {
    "duration": 28,
    "start_time": "2021-09-06T11:28:15.652Z"
   },
   {
    "duration": 14,
    "start_time": "2021-09-06T11:28:16.387Z"
   },
   {
    "duration": 2,
    "start_time": "2021-09-06T11:28:19.709Z"
   },
   {
    "duration": 17,
    "start_time": "2021-09-06T11:28:20.488Z"
   },
   {
    "duration": 872,
    "start_time": "2021-09-06T11:28:31.768Z"
   },
   {
    "duration": 4,
    "start_time": "2021-09-06T11:28:45.730Z"
   },
   {
    "duration": 1094,
    "start_time": "2021-09-06T11:30:00.931Z"
   },
   {
    "duration": 1624,
    "start_time": "2021-09-06T11:30:12.700Z"
   },
   {
    "duration": 1506,
    "start_time": "2021-09-06T11:30:27.703Z"
   },
   {
    "duration": 18,
    "start_time": "2021-09-06T11:30:29.633Z"
   },
   {
    "duration": 3,
    "start_time": "2021-09-06T11:31:58.493Z"
   },
   {
    "duration": 18,
    "start_time": "2021-09-06T11:32:00.082Z"
   },
   {
    "duration": -973,
    "start_time": "2021-09-06T11:32:25.855Z"
   },
   {
    "duration": 1186,
    "start_time": "2021-09-06T11:32:29.013Z"
   },
   {
    "duration": 4,
    "start_time": "2021-09-06T11:32:40.413Z"
   },
   {
    "duration": 18,
    "start_time": "2021-09-06T11:32:44.054Z"
   },
   {
    "duration": 41,
    "start_time": "2021-09-06T11:32:54.073Z"
   },
   {
    "duration": 10,
    "start_time": "2021-09-06T11:32:54.567Z"
   },
   {
    "duration": 27,
    "start_time": "2021-09-06T11:32:55.067Z"
   },
   {
    "duration": 13,
    "start_time": "2021-09-06T11:32:55.620Z"
   },
   {
    "duration": 3,
    "start_time": "2021-09-06T11:32:56.890Z"
   },
   {
    "duration": 19,
    "start_time": "2021-09-06T11:32:57.293Z"
   },
   {
    "duration": 4,
    "start_time": "2021-09-06T11:32:57.502Z"
   },
   {
    "duration": 16,
    "start_time": "2021-09-06T11:32:58.358Z"
   },
   {
    "duration": 18,
    "start_time": "2021-09-06T11:33:19.386Z"
   },
   {
    "duration": 20,
    "start_time": "2021-09-06T11:33:32.666Z"
   },
   {
    "duration": 20,
    "start_time": "2021-09-06T11:33:37.122Z"
   },
   {
    "duration": 960,
    "start_time": "2021-09-06T11:33:43.640Z"
   },
   {
    "duration": 21,
    "start_time": "2021-09-06T11:34:15.551Z"
   },
   {
    "duration": 1700,
    "start_time": "2021-09-06T11:34:22.941Z"
   },
   {
    "duration": 10,
    "start_time": "2021-09-06T11:34:26.003Z"
   },
   {
    "duration": 19,
    "start_time": "2021-09-06T11:34:41.120Z"
   },
   {
    "duration": 10,
    "start_time": "2021-09-06T11:34:41.906Z"
   },
   {
    "duration": 19,
    "start_time": "2021-09-06T11:34:56.256Z"
   },
   {
    "duration": 20,
    "start_time": "2021-09-06T11:37:05.312Z"
   },
   {
    "duration": 18,
    "start_time": "2021-09-06T11:37:12.810Z"
   },
   {
    "duration": 10,
    "start_time": "2021-09-06T11:37:17.554Z"
   },
   {
    "duration": 920,
    "start_time": "2021-09-06T11:37:26.336Z"
   },
   {
    "duration": 923,
    "start_time": "2021-09-06T11:37:39.357Z"
   },
   {
    "duration": 2374,
    "start_time": "2021-09-06T11:37:53.929Z"
   },
   {
    "duration": 888,
    "start_time": "2021-09-06T11:38:14.292Z"
   },
   {
    "duration": 1296,
    "start_time": "2021-09-06T11:38:23.453Z"
   },
   {
    "duration": 18,
    "start_time": "2021-09-06T11:38:38.758Z"
   },
   {
    "duration": 29,
    "start_time": "2021-09-06T11:47:03.288Z"
   },
   {
    "duration": 856,
    "start_time": "2021-09-06T11:48:27.707Z"
   },
   {
    "duration": 9,
    "start_time": "2021-09-06T11:48:28.565Z"
   },
   {
    "duration": 36,
    "start_time": "2021-09-06T11:48:28.704Z"
   },
   {
    "duration": 13,
    "start_time": "2021-09-06T11:48:28.860Z"
   },
   {
    "duration": 24,
    "start_time": "2021-09-06T11:48:29.402Z"
   },
   {
    "duration": 26503,
    "start_time": "2021-09-06T11:48:29.557Z"
   },
   {
    "duration": -930,
    "start_time": "2021-09-06T11:48:56.992Z"
   },
   {
    "duration": 20571,
    "start_time": "2021-09-06T11:49:31.345Z"
   },
   {
    "duration": 21,
    "start_time": "2021-09-06T11:50:12.690Z"
   },
   {
    "duration": 20270,
    "start_time": "2021-09-06T11:50:13.851Z"
   },
   {
    "duration": 21567,
    "start_time": "2021-09-06T11:51:24.612Z"
   },
   {
    "duration": 20187,
    "start_time": "2021-09-06T11:52:32.188Z"
   },
   {
    "duration": -1261,
    "start_time": "2021-09-06T11:53:53.498Z"
   },
   {
    "duration": 706,
    "start_time": "2021-09-06T11:55:13.612Z"
   },
   {
    "duration": 21,
    "start_time": "2021-09-06T11:55:24.741Z"
   },
   {
    "duration": 6,
    "start_time": "2021-09-06T11:55:41.172Z"
   },
   {
    "duration": 5,
    "start_time": "2021-09-06T11:55:42.209Z"
   },
   {
    "duration": 20188,
    "start_time": "2021-09-06T11:55:44.774Z"
   },
   {
    "duration": 20,
    "start_time": "2021-09-06T11:56:21.084Z"
   },
   {
    "duration": 897,
    "start_time": "2021-09-06T11:56:28.331Z"
   },
   {
    "duration": 19,
    "start_time": "2021-09-06T11:56:40.615Z"
   },
   {
    "duration": 830,
    "start_time": "2021-09-06T11:57:42.263Z"
   },
   {
    "duration": 9,
    "start_time": "2021-09-06T11:57:43.095Z"
   },
   {
    "duration": 35,
    "start_time": "2021-09-06T11:57:43.334Z"
   },
   {
    "duration": 13,
    "start_time": "2021-09-06T11:57:43.973Z"
   },
   {
    "duration": 7,
    "start_time": "2021-09-06T11:57:45.636Z"
   },
   {
    "duration": 19,
    "start_time": "2021-09-06T11:57:46.137Z"
   },
   {
    "duration": 23,
    "start_time": "2021-09-06T11:59:47.124Z"
   },
   {
    "duration": 12,
    "start_time": "2021-09-06T11:59:57.142Z"
   },
   {
    "duration": 814,
    "start_time": "2021-09-06T12:00:13.014Z"
   },
   {
    "duration": 7,
    "start_time": "2021-09-06T12:00:18.084Z"
   },
   {
    "duration": 7,
    "start_time": "2021-09-06T12:00:18.407Z"
   },
   {
    "duration": 31,
    "start_time": "2021-09-06T12:00:19.987Z"
   },
   {
    "duration": 11,
    "start_time": "2021-09-06T12:00:21.511Z"
   },
   {
    "duration": 9,
    "start_time": "2021-09-06T12:00:33.204Z"
   },
   {
    "duration": 8,
    "start_time": "2021-09-06T12:05:52.263Z"
   },
   {
    "duration": 725,
    "start_time": "2021-09-09T14:19:46.954Z"
   },
   {
    "duration": 9,
    "start_time": "2021-09-09T14:19:47.681Z"
   },
   {
    "duration": 32,
    "start_time": "2021-09-09T14:19:48.191Z"
   },
   {
    "duration": 13,
    "start_time": "2021-09-09T14:19:48.671Z"
   },
   {
    "duration": 6,
    "start_time": "2021-09-09T14:19:50.395Z"
   },
   {
    "duration": 22,
    "start_time": "2021-09-09T14:19:50.965Z"
   },
   {
    "duration": 11,
    "start_time": "2021-09-09T14:19:52.131Z"
   },
   {
    "duration": 9,
    "start_time": "2021-09-09T14:19:53.678Z"
   },
   {
    "duration": 7,
    "start_time": "2021-09-09T14:25:43.598Z"
   },
   {
    "duration": 5,
    "start_time": "2021-09-09T14:26:05.208Z"
   },
   {
    "duration": 5,
    "start_time": "2021-09-09T14:26:07.878Z"
   },
   {
    "duration": 432,
    "start_time": "2021-09-09T14:28:12.375Z"
   },
   {
    "duration": 372,
    "start_time": "2021-09-09T14:28:26.075Z"
   },
   {
    "duration": 331,
    "start_time": "2021-09-09T14:28:48.549Z"
   },
   {
    "duration": 5,
    "start_time": "2021-09-09T14:29:01.191Z"
   },
   {
    "duration": 37,
    "start_time": "2021-09-09T14:29:09.087Z"
   },
   {
    "duration": 10,
    "start_time": "2021-09-09T14:29:09.219Z"
   },
   {
    "duration": 27,
    "start_time": "2021-09-09T14:29:09.374Z"
   },
   {
    "duration": 13,
    "start_time": "2021-09-09T14:29:09.502Z"
   },
   {
    "duration": 5,
    "start_time": "2021-09-09T14:29:10.457Z"
   },
   {
    "duration": 20,
    "start_time": "2021-09-09T14:29:11.040Z"
   },
   {
    "duration": 9,
    "start_time": "2021-09-09T14:29:11.476Z"
   },
   {
    "duration": 9,
    "start_time": "2021-09-09T14:29:12.977Z"
   },
   {
    "duration": 22,
    "start_time": "2021-09-09T14:29:14.767Z"
   },
   {
    "duration": 330,
    "start_time": "2021-09-09T14:29:54.478Z"
   },
   {
    "duration": 5,
    "start_time": "2021-09-09T14:30:14.505Z"
   },
   {
    "duration": 6,
    "start_time": "2021-09-09T14:48:28.122Z"
   },
   {
    "duration": 1903,
    "start_time": "2021-09-09T14:55:19.900Z"
   },
   {
    "duration": 21,
    "start_time": "2021-09-09T14:55:24.971Z"
   },
   {
    "duration": 12,
    "start_time": "2021-09-09T15:07:45.984Z"
   },
   {
    "duration": 7,
    "start_time": "2021-09-09T15:07:51.209Z"
   },
   {
    "duration": 11,
    "start_time": "2021-09-09T15:09:26.323Z"
   },
   {
    "duration": 8,
    "start_time": "2021-09-09T15:09:27.123Z"
   },
   {
    "duration": 10,
    "start_time": "2021-09-09T15:11:31.578Z"
   },
   {
    "duration": 8,
    "start_time": "2021-09-09T15:11:31.783Z"
   },
   {
    "duration": 7,
    "start_time": "2021-09-09T15:24:45.675Z"
   },
   {
    "duration": 9,
    "start_time": "2021-09-09T15:26:54.550Z"
   },
   {
    "duration": 8,
    "start_time": "2021-09-09T15:26:58.781Z"
   },
   {
    "duration": 8,
    "start_time": "2021-09-09T15:27:23.124Z"
   },
   {
    "duration": 8,
    "start_time": "2021-09-09T15:30:50.454Z"
   },
   {
    "duration": 7,
    "start_time": "2021-09-09T15:31:42.550Z"
   },
   {
    "duration": 386,
    "start_time": "2021-09-09T15:33:56.742Z"
   },
   {
    "duration": 884,
    "start_time": "2021-09-09T15:34:51.394Z"
   },
   {
    "duration": 4233,
    "start_time": "2021-09-09T15:35:01.848Z"
   },
   {
    "duration": 376,
    "start_time": "2021-09-09T15:45:47.487Z"
   },
   {
    "duration": 9,
    "start_time": "2021-09-09T15:45:54.422Z"
   },
   {
    "duration": 7,
    "start_time": "2021-09-09T15:45:58.759Z"
   },
   {
    "duration": 112,
    "start_time": "2021-09-09T15:47:47.754Z"
   },
   {
    "duration": 14,
    "start_time": "2021-09-09T15:47:57.204Z"
   },
   {
    "duration": 13,
    "start_time": "2021-09-09T15:48:03.605Z"
   },
   {
    "duration": 7,
    "start_time": "2021-09-09T15:48:04.108Z"
   },
   {
    "duration": 12,
    "start_time": "2021-09-09T15:48:16.729Z"
   },
   {
    "duration": 13,
    "start_time": "2021-09-09T15:48:56.538Z"
   },
   {
    "duration": 6,
    "start_time": "2021-09-09T15:48:56.958Z"
   },
   {
    "duration": 408,
    "start_time": "2021-09-09T15:49:57.576Z"
   },
   {
    "duration": 15,
    "start_time": "2021-09-09T15:50:00.782Z"
   },
   {
    "duration": 11,
    "start_time": "2021-09-09T15:50:02.141Z"
   },
   {
    "duration": 13,
    "start_time": "2021-09-09T15:50:17.178Z"
   },
   {
    "duration": 11,
    "start_time": "2021-09-09T15:50:19.715Z"
   },
   {
    "duration": 1483,
    "start_time": "2021-09-09T16:38:25.993Z"
   },
   {
    "duration": 173,
    "start_time": "2021-09-09T16:39:04.783Z"
   },
   {
    "duration": 113,
    "start_time": "2021-09-09T16:39:07.190Z"
   },
   {
    "duration": 355,
    "start_time": "2021-09-09T16:39:47.882Z"
   },
   {
    "duration": 8,
    "start_time": "2021-09-09T16:39:58.157Z"
   },
   {
    "duration": 361,
    "start_time": "2021-09-09T16:39:59.908Z"
   },
   {
    "duration": 14,
    "start_time": "2021-09-09T16:40:24.180Z"
   },
   {
    "duration": 10,
    "start_time": "2021-09-09T16:40:48.150Z"
   },
   {
    "duration": 236,
    "start_time": "2021-09-09T16:41:12.413Z"
   },
   {
    "duration": 381,
    "start_time": "2021-09-09T16:56:35.349Z"
   },
   {
    "duration": 343,
    "start_time": "2021-09-09T16:56:47.865Z"
   },
   {
    "duration": 396,
    "start_time": "2021-09-09T16:57:17.181Z"
   },
   {
    "duration": 10389,
    "start_time": "2021-09-09T16:58:36.007Z"
   },
   {
    "duration": 780,
    "start_time": "2021-09-09T16:59:21.090Z"
   },
   {
    "duration": 512,
    "start_time": "2021-09-09T16:59:54.864Z"
   },
   {
    "duration": 11864,
    "start_time": "2021-09-09T17:01:08.926Z"
   },
   {
    "duration": 620,
    "start_time": "2021-09-09T17:03:02.716Z"
   },
   {
    "duration": 354,
    "start_time": "2021-09-09T17:11:12.021Z"
   },
   {
    "duration": 18071,
    "start_time": "2021-09-09T17:21:34.928Z"
   },
   {
    "duration": 1082,
    "start_time": "2021-09-09T17:37:08.188Z"
   },
   {
    "duration": 353,
    "start_time": "2021-09-09T18:13:24.917Z"
   },
   {
    "duration": 6,
    "start_time": "2021-09-09T18:13:35.598Z"
   },
   {
    "duration": 7,
    "start_time": "2021-09-09T18:13:54.454Z"
   },
   {
    "duration": 19,
    "start_time": "2021-09-09T18:15:11.751Z"
   },
   {
    "duration": 10,
    "start_time": "2021-09-09T18:37:01.431Z"
   },
   {
    "duration": 7,
    "start_time": "2021-09-09T18:37:05.299Z"
   },
   {
    "duration": 333,
    "start_time": "2021-09-09T18:37:16.854Z"
   },
   {
    "duration": 8,
    "start_time": "2021-09-09T18:37:25.262Z"
   },
   {
    "duration": 818,
    "start_time": "2021-09-09T18:41:12.099Z"
   },
   {
    "duration": 779,
    "start_time": "2021-09-09T18:41:32.469Z"
   },
   {
    "duration": 295,
    "start_time": "2021-09-10T13:05:00.421Z"
   },
   {
    "duration": 672,
    "start_time": "2021-09-10T13:05:06.984Z"
   },
   {
    "duration": 11,
    "start_time": "2021-09-10T13:05:07.735Z"
   },
   {
    "duration": 33,
    "start_time": "2021-09-10T13:05:08.253Z"
   },
   {
    "duration": 15,
    "start_time": "2021-09-10T13:05:08.636Z"
   },
   {
    "duration": 5,
    "start_time": "2021-09-10T13:05:09.598Z"
   },
   {
    "duration": 23,
    "start_time": "2021-09-10T13:05:09.768Z"
   },
   {
    "duration": 11,
    "start_time": "2021-09-10T13:05:09.901Z"
   },
   {
    "duration": 10,
    "start_time": "2021-09-10T13:05:10.366Z"
   },
   {
    "duration": 23,
    "start_time": "2021-09-10T13:05:10.682Z"
   },
   {
    "duration": 6,
    "start_time": "2021-09-10T13:05:10.832Z"
   },
   {
    "duration": 10,
    "start_time": "2021-09-10T13:05:11.197Z"
   },
   {
    "duration": 12,
    "start_time": "2021-09-10T13:05:13.780Z"
   },
   {
    "duration": 8,
    "start_time": "2021-09-10T13:05:13.976Z"
   },
   {
    "duration": 11,
    "start_time": "2021-09-10T13:05:14.580Z"
   },
   {
    "duration": 7,
    "start_time": "2021-09-10T13:05:14.772Z"
   },
   {
    "duration": 16,
    "start_time": "2021-09-10T13:05:15.552Z"
   },
   {
    "duration": 11,
    "start_time": "2021-09-10T13:05:15.852Z"
   },
   {
    "duration": 6,
    "start_time": "2021-09-10T13:05:17.094Z"
   },
   {
    "duration": 19,
    "start_time": "2021-09-10T13:05:17.576Z"
   },
   {
    "duration": 10,
    "start_time": "2021-09-10T13:05:18.564Z"
   },
   {
    "duration": 8,
    "start_time": "2021-09-10T13:05:18.938Z"
   },
   {
    "duration": 304,
    "start_time": "2021-09-10T13:05:19.932Z"
   },
   {
    "duration": 819,
    "start_time": "2021-09-10T17:04:15.932Z"
   },
   {
    "duration": 13,
    "start_time": "2021-09-10T17:04:16.754Z"
   },
   {
    "duration": 52,
    "start_time": "2021-09-10T17:04:17.670Z"
   },
   {
    "duration": 19,
    "start_time": "2021-09-10T17:04:18.258Z"
   },
   {
    "duration": 7,
    "start_time": "2021-09-10T17:04:20.040Z"
   },
   {
    "duration": 35,
    "start_time": "2021-09-10T17:04:20.495Z"
   },
   {
    "duration": 13,
    "start_time": "2021-09-10T17:04:20.973Z"
   },
   {
    "duration": 12,
    "start_time": "2021-09-10T17:04:22.375Z"
   },
   {
    "duration": 36,
    "start_time": "2021-09-10T17:04:23.231Z"
   },
   {
    "duration": 7,
    "start_time": "2021-09-10T17:04:23.643Z"
   },
   {
    "duration": 15,
    "start_time": "2021-09-10T17:04:24.549Z"
   },
   {
    "duration": 15,
    "start_time": "2021-09-10T17:04:25.544Z"
   },
   {
    "duration": 10,
    "start_time": "2021-09-10T17:04:25.715Z"
   },
   {
    "duration": 16,
    "start_time": "2021-09-10T17:04:26.534Z"
   },
   {
    "duration": 11,
    "start_time": "2021-09-10T17:04:26.794Z"
   },
   {
    "duration": 21,
    "start_time": "2021-09-10T17:04:27.097Z"
   },
   {
    "duration": 15,
    "start_time": "2021-09-10T17:04:27.466Z"
   },
   {
    "duration": 7,
    "start_time": "2021-09-10T17:04:28.692Z"
   },
   {
    "duration": 31,
    "start_time": "2021-09-10T17:04:28.847Z"
   },
   {
    "duration": 14,
    "start_time": "2021-09-10T17:04:29.367Z"
   },
   {
    "duration": 11,
    "start_time": "2021-09-10T17:04:29.728Z"
   },
   {
    "duration": 400,
    "start_time": "2021-09-10T17:04:31.475Z"
   },
   {
    "duration": 292,
    "start_time": "2021-09-10T17:05:01.127Z"
   },
   {
    "duration": 1024,
    "start_time": "2021-09-10T17:05:05.337Z"
   },
   {
    "duration": 6897,
    "start_time": "2021-09-10T17:05:44.905Z"
   },
   {
    "duration": 470,
    "start_time": "2021-09-10T17:06:02.584Z"
   },
   {
    "duration": 253,
    "start_time": "2021-09-10T17:07:26.368Z"
   },
   {
    "duration": 690,
    "start_time": "2021-09-10T17:08:55.379Z"
   },
   {
    "duration": 935,
    "start_time": "2021-09-10T17:09:34.584Z"
   },
   {
    "duration": 1060,
    "start_time": "2021-09-10T17:10:54.576Z"
   },
   {
    "duration": 297,
    "start_time": "2021-09-10T17:14:48.593Z"
   },
   {
    "duration": 548,
    "start_time": "2021-09-10T17:15:34.851Z"
   },
   {
    "duration": 453,
    "start_time": "2021-09-10T17:15:45.651Z"
   },
   {
    "duration": 315,
    "start_time": "2021-09-10T17:16:00.422Z"
   },
   {
    "duration": 285,
    "start_time": "2021-09-10T17:17:08.580Z"
   },
   {
    "duration": 295,
    "start_time": "2021-09-10T17:20:47.842Z"
   },
   {
    "duration": 47,
    "start_time": "2021-09-10T17:21:02.081Z"
   },
   {
    "duration": 15,
    "start_time": "2021-09-10T17:21:02.611Z"
   },
   {
    "duration": 43,
    "start_time": "2021-09-10T17:21:03.202Z"
   },
   {
    "duration": 20,
    "start_time": "2021-09-10T17:21:03.704Z"
   },
   {
    "duration": 9,
    "start_time": "2021-09-10T17:21:05.479Z"
   },
   {
    "duration": 374,
    "start_time": "2021-09-10T17:21:06.174Z"
   },
   {
    "duration": 284,
    "start_time": "2021-09-10T17:21:24.945Z"
   },
   {
    "duration": 700,
    "start_time": "2021-09-10T17:21:36.498Z"
   },
   {
    "duration": 9,
    "start_time": "2021-09-10T17:21:44.396Z"
   },
   {
    "duration": 34,
    "start_time": "2021-09-10T17:21:47.513Z"
   },
   {
    "duration": 7,
    "start_time": "2021-09-10T17:21:58.306Z"
   },
   {
    "duration": 35,
    "start_time": "2021-09-10T17:22:01.155Z"
   },
   {
    "duration": 13,
    "start_time": "2021-09-10T17:22:04.750Z"
   },
   {
    "duration": 11,
    "start_time": "2021-09-10T17:22:06.978Z"
   },
   {
    "duration": 35,
    "start_time": "2021-09-10T17:22:07.755Z"
   },
   {
    "duration": 7,
    "start_time": "2021-09-10T17:22:08.577Z"
   },
   {
    "duration": 806,
    "start_time": "2021-09-10T17:22:24.447Z"
   },
   {
    "duration": 14,
    "start_time": "2021-09-10T17:22:25.256Z"
   },
   {
    "duration": 65,
    "start_time": "2021-09-10T17:22:25.273Z"
   },
   {
    "duration": 22,
    "start_time": "2021-09-10T17:22:25.636Z"
   },
   {
    "duration": 7,
    "start_time": "2021-09-10T17:22:27.181Z"
   },
   {
    "duration": 16,
    "start_time": "2021-09-10T17:22:27.529Z"
   },
   {
    "duration": 37,
    "start_time": "2021-09-10T17:22:29.741Z"
   },
   {
    "duration": 13,
    "start_time": "2021-09-10T17:22:30.105Z"
   },
   {
    "duration": 11,
    "start_time": "2021-09-10T17:22:31.435Z"
   },
   {
    "duration": 33,
    "start_time": "2021-09-10T17:22:33.042Z"
   },
   {
    "duration": 7,
    "start_time": "2021-09-10T17:22:33.518Z"
   },
   {
    "duration": 5,
    "start_time": "2021-09-10T17:22:37.216Z"
   },
   {
    "duration": 17,
    "start_time": "2021-09-10T17:22:38.399Z"
   },
   {
    "duration": 9,
    "start_time": "2021-09-10T17:22:38.813Z"
   },
   {
    "duration": 15,
    "start_time": "2021-09-10T17:22:39.585Z"
   },
   {
    "duration": 10,
    "start_time": "2021-09-10T17:22:39.742Z"
   },
   {
    "duration": 20,
    "start_time": "2021-09-10T17:22:40.091Z"
   },
   {
    "duration": 17,
    "start_time": "2021-09-10T17:22:40.484Z"
   },
   {
    "duration": 8,
    "start_time": "2021-09-10T17:22:41.457Z"
   },
   {
    "duration": 32,
    "start_time": "2021-09-10T17:22:41.634Z"
   },
   {
    "duration": 13,
    "start_time": "2021-09-10T17:22:42.447Z"
   },
   {
    "duration": 11,
    "start_time": "2021-09-10T17:22:42.643Z"
   },
   {
    "duration": 1153,
    "start_time": "2021-09-10T17:22:43.008Z"
   },
   {
    "duration": 420,
    "start_time": "2021-09-10T17:22:44.164Z"
   },
   {
    "duration": 462,
    "start_time": "2021-09-10T17:24:19.631Z"
   },
   {
    "duration": 441,
    "start_time": "2021-09-10T17:24:41.559Z"
   },
   {
    "duration": 6,
    "start_time": "2021-09-10T17:25:38.538Z"
   },
   {
    "duration": 5,
    "start_time": "2021-09-10T17:25:41.314Z"
   },
   {
    "duration": 469,
    "start_time": "2021-09-10T17:26:54.933Z"
   },
   {
    "duration": 5,
    "start_time": "2021-09-10T17:26:56.115Z"
   },
   {
    "duration": 5,
    "start_time": "2021-09-10T17:26:57.295Z"
   },
   {
    "duration": 5,
    "start_time": "2021-09-10T17:27:18.136Z"
   },
   {
    "duration": 5,
    "start_time": "2021-09-10T17:27:22.448Z"
   },
   {
    "duration": 15,
    "start_time": "2021-09-10T17:28:52.267Z"
   },
   {
    "duration": 9,
    "start_time": "2021-09-10T17:29:35.970Z"
   },
   {
    "duration": 11,
    "start_time": "2021-09-10T17:29:58.931Z"
   },
   {
    "duration": 821,
    "start_time": "2021-09-11T10:38:30.974Z"
   },
   {
    "duration": 18,
    "start_time": "2021-09-11T10:38:31.798Z"
   },
   {
    "duration": 55,
    "start_time": "2021-09-11T10:38:31.819Z"
   },
   {
    "duration": 46,
    "start_time": "2021-09-11T10:38:31.877Z"
   },
   {
    "duration": 7,
    "start_time": "2021-09-11T10:38:32.284Z"
   },
   {
    "duration": 16,
    "start_time": "2021-09-11T10:38:32.450Z"
   },
   {
    "duration": 34,
    "start_time": "2021-09-11T10:38:32.624Z"
   },
   {
    "duration": 13,
    "start_time": "2021-09-11T10:38:32.835Z"
   },
   {
    "duration": 10,
    "start_time": "2021-09-11T10:38:33.318Z"
   },
   {
    "duration": 35,
    "start_time": "2021-09-11T10:38:33.929Z"
   },
   {
    "duration": 8,
    "start_time": "2021-09-11T10:38:34.067Z"
   },
   {
    "duration": 6,
    "start_time": "2021-09-11T10:38:34.467Z"
   },
   {
    "duration": 16,
    "start_time": "2021-09-11T10:38:34.974Z"
   },
   {
    "duration": 10,
    "start_time": "2021-09-11T10:38:35.160Z"
   },
   {
    "duration": 14,
    "start_time": "2021-09-11T10:38:35.592Z"
   },
   {
    "duration": 10,
    "start_time": "2021-09-11T10:38:35.783Z"
   },
   {
    "duration": 20,
    "start_time": "2021-09-11T10:38:36.203Z"
   },
   {
    "duration": 15,
    "start_time": "2021-09-11T10:38:36.422Z"
   },
   {
    "duration": 7,
    "start_time": "2021-09-11T10:38:38.520Z"
   },
   {
    "duration": 31,
    "start_time": "2021-09-11T10:38:38.715Z"
   },
   {
    "duration": 13,
    "start_time": "2021-09-11T10:38:39.143Z"
   },
   {
    "duration": 10,
    "start_time": "2021-09-11T10:38:39.403Z"
   },
   {
    "duration": 1171,
    "start_time": "2021-09-11T10:38:39.798Z"
   },
   {
    "duration": 468,
    "start_time": "2021-09-11T10:38:40.972Z"
   },
   {
    "duration": 5,
    "start_time": "2021-09-11T10:38:41.443Z"
   },
   {
    "duration": 9,
    "start_time": "2021-09-11T10:38:41.450Z"
   },
   {
    "duration": 10,
    "start_time": "2021-09-11T10:38:41.461Z"
   },
   {
    "duration": 6,
    "start_time": "2021-09-11T10:38:41.616Z"
   },
   {
    "duration": 16,
    "start_time": "2021-09-11T10:38:42.028Z"
   },
   {
    "duration": 12,
    "start_time": "2021-09-11T10:38:42.246Z"
   },
   {
    "duration": 497,
    "start_time": "2021-09-11T10:38:43.592Z"
   },
   {
    "duration": 4,
    "start_time": "2021-09-11T10:39:34.554Z"
   },
   {
    "duration": 7,
    "start_time": "2021-09-11T10:39:37.352Z"
   },
   {
    "duration": 6,
    "start_time": "2021-09-11T10:39:49.206Z"
   },
   {
    "duration": 32,
    "start_time": "2021-09-11T10:39:49.335Z"
   },
   {
    "duration": 6,
    "start_time": "2021-09-11T10:42:21.196Z"
   },
   {
    "duration": 6,
    "start_time": "2021-09-11T10:42:21.399Z"
   },
   {
    "duration": 32,
    "start_time": "2021-09-11T10:42:25.151Z"
   },
   {
    "duration": 31,
    "start_time": "2021-09-11T10:42:29.500Z"
   },
   {
    "duration": 16,
    "start_time": "2021-09-11T10:45:40.097Z"
   },
   {
    "duration": 10,
    "start_time": "2021-09-11T10:45:44.944Z"
   },
   {
    "duration": 16,
    "start_time": "2021-09-11T10:46:07.449Z"
   },
   {
    "duration": 16,
    "start_time": "2021-09-11T10:46:09.550Z"
   },
   {
    "duration": 418,
    "start_time": "2021-09-11T10:46:22.922Z"
   },
   {
    "duration": 410,
    "start_time": "2021-09-11T10:49:24.224Z"
   },
   {
    "duration": 12,
    "start_time": "2021-09-11T10:49:24.698Z"
   },
   {
    "duration": 11,
    "start_time": "2021-09-11T10:49:37.166Z"
   },
   {
    "duration": 10,
    "start_time": "2021-09-11T10:49:39.151Z"
   },
   {
    "duration": 384,
    "start_time": "2021-09-11T10:50:48.072Z"
   },
   {
    "duration": 380,
    "start_time": "2021-09-11T10:50:56.170Z"
   },
   {
    "duration": 413,
    "start_time": "2021-09-11T10:51:05.456Z"
   },
   {
    "duration": 33,
    "start_time": "2021-09-11T10:51:14.149Z"
   },
   {
    "duration": 453,
    "start_time": "2021-09-11T10:51:16.145Z"
   },
   {
    "duration": 11,
    "start_time": "2021-09-11T10:51:34.129Z"
   },
   {
    "duration": 11,
    "start_time": "2021-09-11T10:52:39.384Z"
   },
   {
    "duration": 11,
    "start_time": "2021-09-11T10:52:52.470Z"
   },
   {
    "duration": 12,
    "start_time": "2021-09-11T10:52:57.900Z"
   },
   {
    "duration": 556,
    "start_time": "2021-09-11T10:54:26.066Z"
   },
   {
    "duration": 1010,
    "start_time": "2021-09-11T10:54:33.033Z"
   },
   {
    "duration": 409,
    "start_time": "2021-09-11T10:54:34.045Z"
   },
   {
    "duration": 5,
    "start_time": "2021-09-11T10:54:34.457Z"
   },
   {
    "duration": 8,
    "start_time": "2021-09-11T10:54:34.466Z"
   },
   {
    "duration": 6,
    "start_time": "2021-09-11T10:54:35.066Z"
   },
   {
    "duration": 5,
    "start_time": "2021-09-11T10:54:35.254Z"
   },
   {
    "duration": 14,
    "start_time": "2021-09-11T10:54:35.554Z"
   },
   {
    "duration": 10,
    "start_time": "2021-09-11T10:54:35.712Z"
   },
   {
    "duration": 5,
    "start_time": "2021-09-11T10:54:36.774Z"
   },
   {
    "duration": 34,
    "start_time": "2021-09-11T10:54:36.781Z"
   },
   {
    "duration": 6,
    "start_time": "2021-09-11T10:54:36.952Z"
   },
   {
    "duration": 6,
    "start_time": "2021-09-11T10:54:37.716Z"
   },
   {
    "duration": 31,
    "start_time": "2021-09-11T10:54:37.845Z"
   },
   {
    "duration": 32,
    "start_time": "2021-09-11T10:54:38.521Z"
   },
   {
    "duration": 14,
    "start_time": "2021-09-11T10:54:38.775Z"
   },
   {
    "duration": 10,
    "start_time": "2021-09-11T10:54:39.361Z"
   },
   {
    "duration": 19,
    "start_time": "2021-09-11T10:54:39.521Z"
   },
   {
    "duration": 14,
    "start_time": "2021-09-11T10:54:48.451Z"
   },
   {
    "duration": 12,
    "start_time": "2021-09-11T10:54:57.529Z"
   },
   {
    "duration": 9,
    "start_time": "2021-09-11T12:04:05.635Z"
   },
   {
    "duration": 389,
    "start_time": "2021-09-11T12:04:17.034Z"
   },
   {
    "duration": 10,
    "start_time": "2021-09-11T12:04:19.005Z"
   },
   {
    "duration": 17,
    "start_time": "2021-09-11T12:05:06.255Z"
   },
   {
    "duration": 9,
    "start_time": "2021-09-11T12:06:20.527Z"
   },
   {
    "duration": 13,
    "start_time": "2021-09-11T12:08:33.396Z"
   },
   {
    "duration": 13,
    "start_time": "2021-09-11T12:08:34.183Z"
   },
   {
    "duration": 9,
    "start_time": "2021-09-11T12:08:36.434Z"
   },
   {
    "duration": 16,
    "start_time": "2021-09-11T12:08:36.946Z"
   },
   {
    "duration": 11,
    "start_time": "2021-09-11T12:08:37.354Z"
   },
   {
    "duration": 9,
    "start_time": "2021-09-11T12:08:37.853Z"
   },
   {
    "duration": 638,
    "start_time": "2021-09-11T18:24:26.982Z"
   },
   {
    "duration": 12,
    "start_time": "2021-09-11T18:24:28.504Z"
   },
   {
    "duration": 38,
    "start_time": "2021-09-11T18:24:28.724Z"
   },
   {
    "duration": 17,
    "start_time": "2021-09-11T18:24:28.894Z"
   },
   {
    "duration": 6,
    "start_time": "2021-09-11T18:24:29.640Z"
   },
   {
    "duration": 13,
    "start_time": "2021-09-11T18:24:29.796Z"
   },
   {
    "duration": 25,
    "start_time": "2021-09-11T18:24:29.945Z"
   },
   {
    "duration": 10,
    "start_time": "2021-09-11T18:24:30.086Z"
   },
   {
    "duration": 12,
    "start_time": "2021-09-11T18:24:30.757Z"
   },
   {
    "duration": 28,
    "start_time": "2021-09-11T18:24:31.050Z"
   },
   {
    "duration": 6,
    "start_time": "2021-09-11T18:24:31.243Z"
   },
   {
    "duration": 5,
    "start_time": "2021-09-11T18:24:31.526Z"
   },
   {
    "duration": 12,
    "start_time": "2021-09-11T18:24:31.998Z"
   },
   {
    "duration": 7,
    "start_time": "2021-09-11T18:24:32.159Z"
   },
   {
    "duration": 11,
    "start_time": "2021-09-11T18:24:32.453Z"
   },
   {
    "duration": 8,
    "start_time": "2021-09-11T18:24:32.612Z"
   },
   {
    "duration": 16,
    "start_time": "2021-09-11T18:24:32.886Z"
   },
   {
    "duration": 19,
    "start_time": "2021-09-11T18:24:33.046Z"
   },
   {
    "duration": 6,
    "start_time": "2021-09-11T18:24:33.643Z"
   },
   {
    "duration": 22,
    "start_time": "2021-09-11T18:24:33.798Z"
   },
   {
    "duration": 11,
    "start_time": "2021-09-11T18:24:34.119Z"
   },
   {
    "duration": 8,
    "start_time": "2021-09-11T18:24:34.277Z"
   },
   {
    "duration": 808,
    "start_time": "2021-09-11T18:24:34.597Z"
   },
   {
    "duration": 367,
    "start_time": "2021-09-11T18:24:35.406Z"
   },
   {
    "duration": 4,
    "start_time": "2021-09-11T18:24:35.775Z"
   },
   {
    "duration": 12,
    "start_time": "2021-09-11T18:24:35.781Z"
   },
   {
    "duration": 12,
    "start_time": "2021-09-11T18:24:35.795Z"
   },
   {
    "duration": 3,
    "start_time": "2021-09-11T18:24:35.879Z"
   },
   {
    "duration": 11,
    "start_time": "2021-09-11T18:24:36.178Z"
   },
   {
    "duration": 8,
    "start_time": "2021-09-11T18:24:36.338Z"
   },
   {
    "duration": 5,
    "start_time": "2021-09-11T18:24:36.853Z"
   },
   {
    "duration": 22,
    "start_time": "2021-09-11T18:24:36.989Z"
   },
   {
    "duration": 6,
    "start_time": "2021-09-11T18:24:37.176Z"
   },
   {
    "duration": 5,
    "start_time": "2021-09-11T18:24:37.357Z"
   },
   {
    "duration": 22,
    "start_time": "2021-09-11T18:24:37.536Z"
   },
   {
    "duration": 21,
    "start_time": "2021-09-11T18:24:37.725Z"
   },
   {
    "duration": 10,
    "start_time": "2021-09-11T18:24:38.093Z"
   },
   {
    "duration": 8,
    "start_time": "2021-09-11T18:24:38.356Z"
   },
   {
    "duration": 7,
    "start_time": "2021-09-11T18:24:38.565Z"
   },
   {
    "duration": 11,
    "start_time": "2021-09-11T18:24:38.779Z"
   },
   {
    "duration": 9,
    "start_time": "2021-09-11T18:24:39.037Z"
   },
   {
    "duration": 7,
    "start_time": "2021-09-11T18:24:39.294Z"
   },
   {
    "duration": 10,
    "start_time": "2021-09-11T18:24:39.541Z"
   },
   {
    "duration": 9,
    "start_time": "2021-09-11T18:24:39.819Z"
   },
   {
    "duration": 8,
    "start_time": "2021-09-11T18:24:40.081Z"
   },
   {
    "duration": 11,
    "start_time": "2021-09-11T18:34:58.450Z"
   },
   {
    "duration": 7,
    "start_time": "2021-09-11T18:35:02.068Z"
   },
   {
    "duration": 43,
    "start_time": "2021-09-11T18:38:26.121Z"
   },
   {
    "duration": 12,
    "start_time": "2021-09-11T18:38:26.529Z"
   },
   {
    "duration": 32,
    "start_time": "2021-09-11T18:38:27.086Z"
   },
   {
    "duration": 14,
    "start_time": "2021-09-11T18:38:28.083Z"
   },
   {
    "duration": 7,
    "start_time": "2021-09-11T18:38:29.905Z"
   },
   {
    "duration": 8,
    "start_time": "2021-09-11T18:38:30.643Z"
   },
   {
    "duration": 26,
    "start_time": "2021-09-11T18:38:31.176Z"
   },
   {
    "duration": 11,
    "start_time": "2021-09-11T18:38:31.678Z"
   },
   {
    "duration": 11,
    "start_time": "2021-09-11T18:38:33.158Z"
   },
   {
    "duration": 23,
    "start_time": "2021-09-11T18:38:34.239Z"
   },
   {
    "duration": 6,
    "start_time": "2021-09-11T18:38:37.533Z"
   },
   {
    "duration": 5,
    "start_time": "2021-09-11T18:38:38.784Z"
   },
   {
    "duration": 11,
    "start_time": "2021-09-11T18:38:42.533Z"
   },
   {
    "duration": 7,
    "start_time": "2021-09-11T18:38:42.818Z"
   },
   {
    "duration": 10,
    "start_time": "2021-09-11T18:38:47.715Z"
   },
   {
    "duration": 9,
    "start_time": "2021-09-11T18:38:48.270Z"
   },
   {
    "duration": 15,
    "start_time": "2021-09-11T18:38:49.591Z"
   },
   {
    "duration": 12,
    "start_time": "2021-09-11T18:38:50.494Z"
   },
   {
    "duration": 5,
    "start_time": "2021-09-11T18:39:36.211Z"
   },
   {
    "duration": 9,
    "start_time": "2021-09-11T18:39:37.054Z"
   },
   {
    "duration": 4,
    "start_time": "2021-09-11T18:39:44.184Z"
   },
   {
    "duration": 8,
    "start_time": "2021-09-11T18:39:44.509Z"
   },
   {
    "duration": 12,
    "start_time": "2021-09-11T18:39:45.466Z"
   },
   {
    "duration": 420,
    "start_time": "2021-09-11T18:39:46.006Z"
   },
   {
    "duration": 717,
    "start_time": "2021-09-11T18:39:47.055Z"
   },
   {
    "duration": 655,
    "start_time": "2021-09-11T18:39:57.139Z"
   },
   {
    "duration": 11,
    "start_time": "2021-09-11T18:39:57.796Z"
   },
   {
    "duration": 36,
    "start_time": "2021-09-11T18:39:57.810Z"
   },
   {
    "duration": 14,
    "start_time": "2021-09-11T18:39:57.848Z"
   },
   {
    "duration": 7,
    "start_time": "2021-09-11T18:39:58.203Z"
   },
   {
    "duration": 13,
    "start_time": "2021-09-11T18:39:58.276Z"
   },
   {
    "duration": 25,
    "start_time": "2021-09-11T18:39:58.412Z"
   },
   {
    "duration": 11,
    "start_time": "2021-09-11T18:39:58.535Z"
   },
   {
    "duration": 9,
    "start_time": "2021-09-11T18:39:58.900Z"
   },
   {
    "duration": 24,
    "start_time": "2021-09-11T18:39:59.143Z"
   },
   {
    "duration": 6,
    "start_time": "2021-09-11T18:39:59.275Z"
   },
   {
    "duration": 5,
    "start_time": "2021-09-11T18:39:59.556Z"
   },
   {
    "duration": 11,
    "start_time": "2021-09-11T18:39:59.921Z"
   },
   {
    "duration": 7,
    "start_time": "2021-09-11T18:40:00.095Z"
   },
   {
    "duration": 11,
    "start_time": "2021-09-11T18:40:01.281Z"
   },
   {
    "duration": 8,
    "start_time": "2021-09-11T18:40:01.603Z"
   },
   {
    "duration": 16,
    "start_time": "2021-09-11T18:40:02.102Z"
   },
   {
    "duration": 14,
    "start_time": "2021-09-11T18:40:02.383Z"
   },
   {
    "duration": 4,
    "start_time": "2021-09-11T18:40:04.077Z"
   },
   {
    "duration": 8,
    "start_time": "2021-09-11T18:40:04.528Z"
   },
   {
    "duration": 6,
    "start_time": "2021-09-11T18:40:20.904Z"
   },
   {
    "duration": 8,
    "start_time": "2021-09-11T18:40:30.806Z"
   },
   {
    "duration": 5,
    "start_time": "2021-09-11T18:40:43.731Z"
   },
   {
    "duration": 21,
    "start_time": "2021-09-11T18:40:44.080Z"
   },
   {
    "duration": 4,
    "start_time": "2021-09-11T18:40:48.524Z"
   },
   {
    "duration": 20,
    "start_time": "2021-09-11T18:40:49.153Z"
   },
   {
    "duration": 10,
    "start_time": "2021-09-11T18:41:10.431Z"
   },
   {
    "duration": 7,
    "start_time": "2021-09-11T18:41:11.142Z"
   },
   {
    "duration": 856,
    "start_time": "2021-09-11T18:41:12.307Z"
   },
   {
    "duration": 8,
    "start_time": "2021-09-11T18:41:35.375Z"
   },
   {
    "duration": 766,
    "start_time": "2021-09-11T18:42:14.331Z"
   },
   {
    "duration": 6,
    "start_time": "2021-09-11T18:42:36.521Z"
   },
   {
    "duration": 27,
    "start_time": "2021-09-11T18:42:36.935Z"
   },
   {
    "duration": 17,
    "start_time": "2021-09-11T18:43:02.241Z"
   },
   {
    "duration": 10,
    "start_time": "2021-09-11T18:43:02.882Z"
   },
   {
    "duration": 4,
    "start_time": "2021-09-11T18:43:09.829Z"
   },
   {
    "duration": 21,
    "start_time": "2021-09-11T18:43:10.430Z"
   },
   {
    "duration": 10,
    "start_time": "2021-09-11T18:43:11.867Z"
   },
   {
    "duration": 8,
    "start_time": "2021-09-11T18:43:12.537Z"
   },
   {
    "duration": 800,
    "start_time": "2021-09-11T18:43:14.055Z"
   },
   {
    "duration": 287,
    "start_time": "2021-09-11T18:43:38.979Z"
   },
   {
    "duration": 5,
    "start_time": "2021-09-11T18:43:41.704Z"
   },
   {
    "duration": 4,
    "start_time": "2021-09-11T18:43:42.008Z"
   },
   {
    "duration": 5,
    "start_time": "2021-09-11T18:43:44.889Z"
   },
   {
    "duration": 4,
    "start_time": "2021-09-11T18:43:45.473Z"
   },
   {
    "duration": 14,
    "start_time": "2021-09-11T18:43:46.639Z"
   },
   {
    "duration": 8,
    "start_time": "2021-09-11T18:43:47.469Z"
   },
   {
    "duration": 8,
    "start_time": "2021-09-11T18:43:50.353Z"
   },
   {
    "duration": 21,
    "start_time": "2021-09-11T18:43:51.131Z"
   },
   {
    "duration": 4,
    "start_time": "2021-09-11T18:43:51.952Z"
   },
   {
    "duration": 5,
    "start_time": "2021-09-11T18:43:52.507Z"
   },
   {
    "duration": 23,
    "start_time": "2021-09-11T18:43:53.089Z"
   },
   {
    "duration": 21,
    "start_time": "2021-09-11T18:43:54.617Z"
   },
   {
    "duration": 9,
    "start_time": "2021-09-11T18:43:55.790Z"
   },
   {
    "duration": 7,
    "start_time": "2021-09-11T18:43:56.460Z"
   },
   {
    "duration": 7,
    "start_time": "2021-09-11T18:44:02.092Z"
   },
   {
    "duration": 10,
    "start_time": "2021-09-11T18:44:02.695Z"
   },
   {
    "duration": 8,
    "start_time": "2021-09-11T18:44:03.405Z"
   },
   {
    "duration": 7,
    "start_time": "2021-09-11T18:44:03.851Z"
   },
   {
    "duration": 13,
    "start_time": "2021-09-11T18:44:03.992Z"
   },
   {
    "duration": 9,
    "start_time": "2021-09-11T18:44:04.159Z"
   },
   {
    "duration": 6,
    "start_time": "2021-09-11T18:44:04.314Z"
   },
   {
    "duration": 10,
    "start_time": "2021-09-11T18:44:05.072Z"
   },
   {
    "duration": 7,
    "start_time": "2021-09-11T18:44:05.237Z"
   },
   {
    "duration": 11,
    "start_time": "2021-09-11T18:45:09.076Z"
   },
   {
    "duration": 8,
    "start_time": "2021-09-11T18:45:09.336Z"
   },
   {
    "duration": 5,
    "start_time": "2021-09-11T18:48:19.276Z"
   },
   {
    "duration": 5,
    "start_time": "2021-09-11T18:48:27.486Z"
   },
   {
    "duration": 504,
    "start_time": "2021-09-11T18:50:17.034Z"
   },
   {
    "duration": 5,
    "start_time": "2021-09-11T18:50:20.406Z"
   },
   {
    "duration": 4,
    "start_time": "2021-09-11T18:50:20.898Z"
   },
   {
    "duration": 5,
    "start_time": "2021-09-11T18:50:44.068Z"
   },
   {
    "duration": 5,
    "start_time": "2021-09-11T18:50:46.371Z"
   },
   {
    "duration": 3,
    "start_time": "2021-09-11T18:51:06.050Z"
   },
   {
    "duration": 279,
    "start_time": "2021-09-11T18:51:07.804Z"
   },
   {
    "duration": 392,
    "start_time": "2021-09-11T18:57:13.499Z"
   },
   {
    "duration": 10,
    "start_time": "2021-09-11T18:58:10.511Z"
   },
   {
    "duration": 7,
    "start_time": "2021-09-11T18:58:11.007Z"
   },
   {
    "duration": 5,
    "start_time": "2021-09-11T18:58:11.347Z"
   },
   {
    "duration": 5,
    "start_time": "2021-09-11T18:58:11.713Z"
   },
   {
    "duration": 5,
    "start_time": "2021-09-11T18:58:12.002Z"
   },
   {
    "duration": 5,
    "start_time": "2021-09-11T18:58:12.266Z"
   },
   {
    "duration": 3,
    "start_time": "2021-09-11T18:58:12.498Z"
   },
   {
    "duration": 320,
    "start_time": "2021-09-11T18:58:12.731Z"
   },
   {
    "duration": 6,
    "start_time": "2021-09-11T18:58:24.995Z"
   },
   {
    "duration": 6,
    "start_time": "2021-09-11T19:00:56.766Z"
   },
   {
    "duration": 7,
    "start_time": "2021-09-11T19:00:57.644Z"
   },
   {
    "duration": 5,
    "start_time": "2021-09-11T19:00:59.513Z"
   },
   {
    "duration": 5,
    "start_time": "2021-09-11T19:00:59.957Z"
   },
   {
    "duration": 3,
    "start_time": "2021-09-11T19:01:00.480Z"
   },
   {
    "duration": 5,
    "start_time": "2021-09-11T19:01:00.973Z"
   },
   {
    "duration": 5,
    "start_time": "2021-09-11T19:01:08.271Z"
   },
   {
    "duration": 7,
    "start_time": "2021-09-11T19:01:08.610Z"
   },
   {
    "duration": 3,
    "start_time": "2021-09-11T19:01:09.000Z"
   },
   {
    "duration": 5,
    "start_time": "2021-09-11T19:01:09.522Z"
   },
   {
    "duration": 9,
    "start_time": "2021-09-11T19:04:23.673Z"
   },
   {
    "duration": 7,
    "start_time": "2021-09-11T19:04:23.845Z"
   },
   {
    "duration": 5,
    "start_time": "2021-09-11T19:04:23.948Z"
   },
   {
    "duration": 6,
    "start_time": "2021-09-11T19:04:24.051Z"
   },
   {
    "duration": 5,
    "start_time": "2021-09-11T19:04:24.185Z"
   },
   {
    "duration": 6,
    "start_time": "2021-09-11T19:04:24.421Z"
   },
   {
    "duration": 3,
    "start_time": "2021-09-11T19:04:24.601Z"
   },
   {
    "duration": 6,
    "start_time": "2021-09-11T19:04:24.855Z"
   },
   {
    "duration": 11,
    "start_time": "2021-09-11T19:06:38.368Z"
   },
   {
    "duration": 7,
    "start_time": "2021-09-11T19:06:49.581Z"
   },
   {
    "duration": 5,
    "start_time": "2021-09-11T19:07:43.314Z"
   },
   {
    "duration": 7,
    "start_time": "2021-09-11T19:07:46.845Z"
   },
   {
    "duration": 5,
    "start_time": "2021-09-11T19:08:00.332Z"
   },
   {
    "duration": 7,
    "start_time": "2021-09-11T19:08:02.744Z"
   },
   {
    "duration": 4,
    "start_time": "2021-09-11T19:08:13.576Z"
   },
   {
    "duration": 6,
    "start_time": "2021-09-11T19:08:13.948Z"
   },
   {
    "duration": 5,
    "start_time": "2021-09-11T19:08:33.587Z"
   },
   {
    "duration": 159,
    "start_time": "2021-09-11T19:08:57.467Z"
   },
   {
    "duration": 221,
    "start_time": "2021-09-12T05:39:56.500Z"
   },
   {
    "duration": 617,
    "start_time": "2021-09-12T05:40:01.774Z"
   },
   {
    "duration": 10,
    "start_time": "2021-09-12T05:40:02.393Z"
   },
   {
    "duration": 34,
    "start_time": "2021-09-12T05:40:02.404Z"
   },
   {
    "duration": 13,
    "start_time": "2021-09-12T05:40:02.440Z"
   },
   {
    "duration": 31,
    "start_time": "2021-09-12T05:40:02.454Z"
   },
   {
    "duration": 13,
    "start_time": "2021-09-12T05:40:02.486Z"
   },
   {
    "duration": 31,
    "start_time": "2021-09-12T05:40:02.501Z"
   },
   {
    "duration": 8,
    "start_time": "2021-09-12T05:40:02.534Z"
   },
   {
    "duration": 9,
    "start_time": "2021-09-12T05:40:02.545Z"
   },
   {
    "duration": 32,
    "start_time": "2021-09-12T05:40:02.556Z"
   },
   {
    "duration": 26,
    "start_time": "2021-09-12T05:40:02.589Z"
   },
   {
    "duration": 4,
    "start_time": "2021-09-12T05:40:02.617Z"
   },
   {
    "duration": 15,
    "start_time": "2021-09-12T05:40:02.623Z"
   },
   {
    "duration": 15,
    "start_time": "2021-09-12T05:40:02.639Z"
   },
   {
    "duration": 5,
    "start_time": "2021-09-12T05:40:02.656Z"
   },
   {
    "duration": 24,
    "start_time": "2021-09-12T05:40:02.662Z"
   },
   {
    "duration": 6,
    "start_time": "2021-09-12T05:40:02.688Z"
   },
   {
    "duration": 16,
    "start_time": "2021-09-12T05:40:02.695Z"
   },
   {
    "duration": 13,
    "start_time": "2021-09-12T05:40:02.712Z"
   },
   {
    "duration": 14,
    "start_time": "2021-09-12T05:40:02.726Z"
   },
   {
    "duration": 24,
    "start_time": "2021-09-12T05:40:02.741Z"
   },
   {
    "duration": 15,
    "start_time": "2021-09-12T05:40:02.766Z"
   },
   {
    "duration": 15,
    "start_time": "2021-09-12T05:40:02.785Z"
   },
   {
    "duration": 820,
    "start_time": "2021-09-12T05:40:02.802Z"
   },
   {
    "duration": 285,
    "start_time": "2021-09-12T05:40:03.624Z"
   },
   {
    "duration": 4,
    "start_time": "2021-09-12T05:40:03.910Z"
   },
   {
    "duration": 10,
    "start_time": "2021-09-12T05:40:03.918Z"
   },
   {
    "duration": 6,
    "start_time": "2021-09-12T05:40:03.931Z"
   },
   {
    "duration": 4,
    "start_time": "2021-09-12T05:40:03.939Z"
   },
   {
    "duration": 10,
    "start_time": "2021-09-12T05:40:03.945Z"
   },
   {
    "duration": 29,
    "start_time": "2021-09-12T05:40:03.957Z"
   },
   {
    "duration": 6,
    "start_time": "2021-09-12T05:40:03.988Z"
   },
   {
    "duration": 24,
    "start_time": "2021-09-12T05:40:03.995Z"
   },
   {
    "duration": 4,
    "start_time": "2021-09-12T05:40:04.021Z"
   },
   {
    "duration": 7,
    "start_time": "2021-09-12T05:40:04.026Z"
   },
   {
    "duration": 20,
    "start_time": "2021-09-12T05:40:04.034Z"
   },
   {
    "duration": 37,
    "start_time": "2021-09-12T05:40:04.056Z"
   },
   {
    "duration": 8,
    "start_time": "2021-09-12T05:40:04.095Z"
   },
   {
    "duration": 10,
    "start_time": "2021-09-12T05:40:04.104Z"
   },
   {
    "duration": 6,
    "start_time": "2021-09-12T05:40:04.116Z"
   },
   {
    "duration": 9,
    "start_time": "2021-09-12T05:40:04.124Z"
   },
   {
    "duration": 10,
    "start_time": "2021-09-12T05:40:04.134Z"
   },
   {
    "duration": 6,
    "start_time": "2021-09-12T05:40:04.145Z"
   },
   {
    "duration": 36,
    "start_time": "2021-09-12T05:40:04.153Z"
   },
   {
    "duration": 6,
    "start_time": "2021-09-12T05:40:04.190Z"
   },
   {
    "duration": 10,
    "start_time": "2021-09-12T05:40:04.198Z"
   },
   {
    "duration": 311,
    "start_time": "2021-09-12T05:40:04.210Z"
   },
   {
    "duration": 9,
    "start_time": "2021-09-12T05:40:04.523Z"
   },
   {
    "duration": 6,
    "start_time": "2021-09-12T05:40:04.533Z"
   },
   {
    "duration": 8,
    "start_time": "2021-09-12T05:40:04.540Z"
   },
   {
    "duration": 9,
    "start_time": "2021-09-12T05:40:04.549Z"
   },
   {
    "duration": 9,
    "start_time": "2021-09-12T05:40:04.559Z"
   },
   {
    "duration": 23,
    "start_time": "2021-09-12T05:40:04.570Z"
   },
   {
    "duration": 10,
    "start_time": "2021-09-12T05:40:04.595Z"
   },
   {
    "duration": 21,
    "start_time": "2021-09-12T05:40:04.607Z"
   },
   {
    "duration": 20,
    "start_time": "2021-09-12T05:40:04.630Z"
   },
   {
    "duration": 6,
    "start_time": "2021-09-12T05:40:04.652Z"
   },
   {
    "duration": 9,
    "start_time": "2021-09-12T05:40:04.660Z"
   },
   {
    "duration": 13,
    "start_time": "2021-09-12T05:40:04.671Z"
   },
   {
    "duration": 8,
    "start_time": "2021-09-12T05:40:04.686Z"
   },
   {
    "duration": 8,
    "start_time": "2021-09-12T05:40:04.695Z"
   },
   {
    "duration": 8,
    "start_time": "2021-09-12T05:40:04.704Z"
   },
   {
    "duration": 13,
    "start_time": "2021-09-12T05:42:39.503Z"
   },
   {
    "duration": 14,
    "start_time": "2021-09-12T05:42:43.997Z"
   },
   {
    "duration": 756,
    "start_time": "2021-09-12T12:02:16.397Z"
   },
   {
    "duration": 100,
    "start_time": "2021-09-12T12:02:33.631Z"
   },
   {
    "duration": 14,
    "start_time": "2021-09-12T12:02:42.951Z"
   },
   {
    "duration": 54,
    "start_time": "2021-09-12T12:02:43.543Z"
   },
   {
    "duration": 20,
    "start_time": "2021-09-12T12:02:44.202Z"
   },
   {
    "duration": 8,
    "start_time": "2021-09-12T12:02:47.713Z"
   },
   {
    "duration": 16,
    "start_time": "2021-09-12T12:02:48.824Z"
   },
   {
    "duration": 35,
    "start_time": "2021-09-12T12:02:49.771Z"
   },
   {
    "duration": 6,
    "start_time": "2021-09-12T12:02:55.779Z"
   },
   {
    "duration": 18,
    "start_time": "2021-09-12T12:02:56.191Z"
   },
   {
    "duration": 13,
    "start_time": "2021-09-12T12:02:59.743Z"
   },
   {
    "duration": 15,
    "start_time": "2021-09-12T12:03:01.469Z"
   },
   {
    "duration": 33,
    "start_time": "2021-09-12T12:03:02.766Z"
   },
   {
    "duration": 11,
    "start_time": "2021-09-12T12:03:12.903Z"
   },
   {
    "duration": 34,
    "start_time": "2021-09-12T12:03:16.786Z"
   },
   {
    "duration": 8,
    "start_time": "2021-09-12T12:03:40.402Z"
   },
   {
    "duration": 6,
    "start_time": "2021-09-12T12:03:41.122Z"
   },
   {
    "duration": 18,
    "start_time": "2021-09-12T12:03:42.546Z"
   },
   {
    "duration": 9,
    "start_time": "2021-09-12T12:03:43.195Z"
   },
   {
    "duration": 394,
    "start_time": "2021-09-12T12:04:02.865Z"
   },
   {
    "duration": 7191,
    "start_time": "2021-09-12T12:04:19.598Z"
   },
   {
    "duration": 289,
    "start_time": "2021-09-12T12:04:50.981Z"
   },
   {
    "duration": 10,
    "start_time": "2021-09-12T12:05:14.630Z"
   },
   {
    "duration": 286,
    "start_time": "2021-09-12T12:05:35.695Z"
   },
   {
    "duration": 446,
    "start_time": "2021-09-12T12:05:52.634Z"
   },
   {
    "duration": 668,
    "start_time": "2021-09-12T12:07:06.548Z"
   },
   {
    "duration": 3,
    "start_time": "2021-09-12T12:07:26.497Z"
   },
   {
    "duration": 410,
    "start_time": "2021-09-12T12:07:27.025Z"
   },
   {
    "duration": 15,
    "start_time": "2021-09-12T12:07:40.746Z"
   },
   {
    "duration": 11,
    "start_time": "2021-09-12T12:07:42.438Z"
   },
   {
    "duration": 22,
    "start_time": "2021-09-12T12:07:43.239Z"
   },
   {
    "duration": 12,
    "start_time": "2021-09-12T12:07:43.964Z"
   },
   {
    "duration": 7,
    "start_time": "2021-09-12T12:07:49.241Z"
   },
   {
    "duration": 31,
    "start_time": "2021-09-12T12:07:50.029Z"
   },
   {
    "duration": 14,
    "start_time": "2021-09-12T12:07:52.201Z"
   },
   {
    "duration": 11,
    "start_time": "2021-09-12T12:07:52.637Z"
   },
   {
    "duration": 1011,
    "start_time": "2021-09-12T12:07:54.904Z"
   },
   {
    "duration": 388,
    "start_time": "2021-09-12T12:08:27.471Z"
   },
   {
    "duration": 5,
    "start_time": "2021-09-12T12:09:22.849Z"
   },
   {
    "duration": 5,
    "start_time": "2021-09-12T12:09:25.117Z"
   },
   {
    "duration": 5,
    "start_time": "2021-09-12T12:09:44.547Z"
   },
   {
    "duration": 5,
    "start_time": "2021-09-12T12:10:14.816Z"
   },
   {
    "duration": 5,
    "start_time": "2021-09-12T12:10:16.074Z"
   },
   {
    "duration": 14,
    "start_time": "2021-09-12T12:10:20.118Z"
   },
   {
    "duration": 10,
    "start_time": "2021-09-12T12:10:20.622Z"
   },
   {
    "duration": 197,
    "start_time": "2021-09-12T12:10:48.166Z"
   },
   {
    "duration": 7,
    "start_time": "2021-09-12T12:11:27.310Z"
   },
   {
    "duration": 31,
    "start_time": "2021-09-12T12:11:27.483Z"
   },
   {
    "duration": 7,
    "start_time": "2021-09-12T12:11:27.985Z"
   },
   {
    "duration": 7,
    "start_time": "2021-09-12T12:11:28.319Z"
   },
   {
    "duration": 50,
    "start_time": "2021-09-12T12:11:28.585Z"
   },
   {
    "duration": 54,
    "start_time": "2021-09-12T12:11:28.807Z"
   },
   {
    "duration": 13,
    "start_time": "2021-09-12T12:11:29.628Z"
   },
   {
    "duration": 10,
    "start_time": "2021-09-12T12:11:29.872Z"
   },
   {
    "duration": 8,
    "start_time": "2021-09-12T12:11:30.135Z"
   },
   {
    "duration": 14,
    "start_time": "2021-09-12T12:11:30.875Z"
   },
   {
    "duration": 10,
    "start_time": "2021-09-12T12:11:32.832Z"
   },
   {
    "duration": 8,
    "start_time": "2021-09-12T12:11:33.125Z"
   },
   {
    "duration": 13,
    "start_time": "2021-09-12T12:11:33.420Z"
   },
   {
    "duration": 11,
    "start_time": "2021-09-12T12:11:33.831Z"
   },
   {
    "duration": 9,
    "start_time": "2021-09-12T12:11:34.097Z"
   },
   {
    "duration": 4825,
    "start_time": "2021-09-12T12:12:35.055Z"
   },
   {
    "duration": 7005,
    "start_time": "2021-09-12T12:12:53.798Z"
   },
   {
    "duration": 9,
    "start_time": "2021-09-12T12:16:40.085Z"
   },
   {
    "duration": 407,
    "start_time": "2021-09-12T12:48:33.859Z"
   },
   {
    "duration": 285,
    "start_time": "2021-09-12T12:48:47.906Z"
   },
   {
    "duration": 870,
    "start_time": "2021-09-12T12:49:03.302Z"
   },
   {
    "duration": 2429,
    "start_time": "2021-09-12T12:49:16.109Z"
   },
   {
    "duration": 1214,
    "start_time": "2021-09-12T12:49:30.113Z"
   },
   {
    "duration": 1074,
    "start_time": "2021-09-12T12:49:39.600Z"
   },
   {
    "duration": 2466,
    "start_time": "2021-09-12T12:49:58.642Z"
   },
   {
    "duration": 287,
    "start_time": "2021-09-12T12:50:15.452Z"
   },
   {
    "duration": 6,
    "start_time": "2021-09-12T12:50:59.713Z"
   },
   {
    "duration": 9,
    "start_time": "2021-09-12T12:51:08.267Z"
   },
   {
    "duration": 6,
    "start_time": "2021-09-12T12:51:29.723Z"
   },
   {
    "duration": 15,
    "start_time": "2021-09-12T12:51:30.358Z"
   },
   {
    "duration": 11,
    "start_time": "2021-09-12T12:51:30.549Z"
   },
   {
    "duration": 9,
    "start_time": "2021-09-12T12:51:30.691Z"
   },
   {
    "duration": 5,
    "start_time": "2021-09-12T12:51:30.831Z"
   },
   {
    "duration": 15,
    "start_time": "2021-09-12T12:51:30.953Z"
   },
   {
    "duration": 11,
    "start_time": "2021-09-12T12:51:31.100Z"
   },
   {
    "duration": 9,
    "start_time": "2021-09-12T12:51:31.341Z"
   },
   {
    "duration": 982,
    "start_time": "2021-09-12T12:51:31.623Z"
   },
   {
    "duration": 704,
    "start_time": "2021-09-12T12:51:40.783Z"
   },
   {
    "duration": 430,
    "start_time": "2021-09-12T12:51:44.681Z"
   },
   {
    "duration": 698,
    "start_time": "2021-09-12T12:51:56.156Z"
   },
   {
    "duration": 623,
    "start_time": "2021-09-12T12:52:00.735Z"
   },
   {
    "duration": 713,
    "start_time": "2021-09-12T12:52:10.892Z"
   },
   {
    "duration": 463,
    "start_time": "2021-09-12T12:52:18.300Z"
   },
   {
    "duration": 555,
    "start_time": "2021-09-12T12:52:26.249Z"
   },
   {
    "duration": 459,
    "start_time": "2021-09-12T12:52:36.848Z"
   },
   {
    "duration": 474,
    "start_time": "2021-09-12T12:52:58.414Z"
   },
   {
    "duration": 458,
    "start_time": "2021-09-12T12:53:10.714Z"
   },
   {
    "duration": 91,
    "start_time": "2021-09-12T12:54:56.545Z"
   },
   {
    "duration": 4,
    "start_time": "2021-09-12T12:55:19.537Z"
   },
   {
    "duration": 274,
    "start_time": "2021-09-12T12:55:21.720Z"
   },
   {
    "duration": 292,
    "start_time": "2021-09-12T12:55:29.103Z"
   },
   {
    "duration": 8,
    "start_time": "2021-09-12T12:55:34.331Z"
   },
   {
    "duration": 33,
    "start_time": "2021-09-12T12:55:35.917Z"
   },
   {
    "duration": 7,
    "start_time": "2021-09-12T12:56:04.729Z"
   },
   {
    "duration": 8,
    "start_time": "2021-09-12T12:56:13.510Z"
   },
   {
    "duration": 281,
    "start_time": "2021-09-12T13:03:44.255Z"
   },
   {
    "duration": 276,
    "start_time": "2021-09-12T13:03:44.638Z"
   },
   {
    "duration": 7,
    "start_time": "2021-09-12T13:03:57.952Z"
   },
   {
    "duration": 8,
    "start_time": "2021-09-12T13:03:58.929Z"
   },
   {
    "duration": 8,
    "start_time": "2021-09-12T13:04:07.355Z"
   },
   {
    "duration": 7,
    "start_time": "2021-09-12T13:04:07.882Z"
   },
   {
    "duration": 8,
    "start_time": "2021-09-12T13:04:08.434Z"
   },
   {
    "duration": 7,
    "start_time": "2021-09-12T13:04:08.891Z"
   },
   {
    "duration": 3,
    "start_time": "2021-09-12T13:04:09.310Z"
   },
   {
    "duration": 265,
    "start_time": "2021-09-12T13:04:11.215Z"
   },
   {
    "duration": 384,
    "start_time": "2021-09-12T13:04:16.266Z"
   },
   {
    "duration": 4,
    "start_time": "2021-09-12T13:04:17.220Z"
   },
   {
    "duration": 7,
    "start_time": "2021-09-12T13:04:17.501Z"
   },
   {
    "duration": 7,
    "start_time": "2021-09-12T13:04:17.626Z"
   },
   {
    "duration": 7,
    "start_time": "2021-09-12T13:04:18.037Z"
   },
   {
    "duration": 7,
    "start_time": "2021-09-12T13:04:18.265Z"
   },
   {
    "duration": 3,
    "start_time": "2021-09-12T13:04:18.447Z"
   },
   {
    "duration": 5,
    "start_time": "2021-09-12T13:04:18.932Z"
   },
   {
    "duration": 9,
    "start_time": "2021-09-12T13:04:45.250Z"
   },
   {
    "duration": 7,
    "start_time": "2021-09-12T13:04:45.709Z"
   },
   {
    "duration": 9,
    "start_time": "2021-09-12T13:04:51.475Z"
   },
   {
    "duration": 8,
    "start_time": "2021-09-12T13:04:51.859Z"
   },
   {
    "duration": 8,
    "start_time": "2021-09-12T13:04:52.207Z"
   },
   {
    "duration": 8,
    "start_time": "2021-09-12T13:04:52.553Z"
   },
   {
    "duration": 4,
    "start_time": "2021-09-12T13:04:52.919Z"
   },
   {
    "duration": 7,
    "start_time": "2021-09-12T13:04:53.270Z"
   },
   {
    "duration": 3,
    "start_time": "2021-09-12T13:05:17.546Z"
   },
   {
    "duration": 3,
    "start_time": "2021-09-12T13:05:21.011Z"
   },
   {
    "duration": 9,
    "start_time": "2021-09-12T13:05:35.670Z"
   },
   {
    "duration": 7,
    "start_time": "2021-09-12T13:05:36.167Z"
   },
   {
    "duration": 8,
    "start_time": "2021-09-12T13:05:51.100Z"
   },
   {
    "duration": 8,
    "start_time": "2021-09-12T13:05:51.642Z"
   },
   {
    "duration": 6,
    "start_time": "2021-09-12T13:05:53.159Z"
   },
   {
    "duration": 617,
    "start_time": "2021-09-12T20:07:28.950Z"
   },
   {
    "duration": 9,
    "start_time": "2021-09-12T20:07:29.569Z"
   },
   {
    "duration": 33,
    "start_time": "2021-09-12T20:07:29.581Z"
   },
   {
    "duration": 12,
    "start_time": "2021-09-12T20:07:29.616Z"
   },
   {
    "duration": 8,
    "start_time": "2021-09-12T20:07:29.630Z"
   },
   {
    "duration": 8,
    "start_time": "2021-09-12T20:07:29.640Z"
   },
   {
    "duration": 46,
    "start_time": "2021-09-12T20:07:29.649Z"
   },
   {
    "duration": 10,
    "start_time": "2021-09-12T20:07:29.697Z"
   },
   {
    "duration": 12,
    "start_time": "2021-09-12T20:07:29.709Z"
   },
   {
    "duration": 29,
    "start_time": "2021-09-12T20:07:29.723Z"
   },
   {
    "duration": 21,
    "start_time": "2021-09-12T20:07:29.754Z"
   },
   {
    "duration": 16,
    "start_time": "2021-09-12T20:07:29.777Z"
   },
   {
    "duration": 27,
    "start_time": "2021-09-12T20:07:29.795Z"
   },
   {
    "duration": 6,
    "start_time": "2021-09-12T20:07:29.824Z"
   },
   {
    "duration": 19,
    "start_time": "2021-09-12T20:07:29.832Z"
   },
   {
    "duration": 23,
    "start_time": "2021-09-12T20:07:29.853Z"
   },
   {
    "duration": 13,
    "start_time": "2021-09-12T20:07:29.878Z"
   },
   {
    "duration": 78,
    "start_time": "2021-09-12T20:07:29.892Z"
   },
   {
    "duration": 259,
    "start_time": "2021-09-12T20:07:29.972Z"
   },
   {
    "duration": 12,
    "start_time": "2021-09-12T20:07:30.233Z"
   },
   {
    "duration": 19,
    "start_time": "2021-09-12T20:07:30.247Z"
   },
   {
    "duration": 31,
    "start_time": "2021-09-12T20:07:30.268Z"
   },
   {
    "duration": 8,
    "start_time": "2021-09-12T20:07:30.304Z"
   },
   {
    "duration": 19,
    "start_time": "2021-09-12T20:07:30.315Z"
   },
   {
    "duration": 26,
    "start_time": "2021-09-12T20:07:30.336Z"
   },
   {
    "duration": 10,
    "start_time": "2021-09-12T20:07:30.364Z"
   },
   {
    "duration": 25,
    "start_time": "2021-09-12T20:07:30.375Z"
   },
   {
    "duration": 680,
    "start_time": "2021-09-12T20:07:30.402Z"
   },
   {
    "duration": 320,
    "start_time": "2021-09-12T20:07:31.091Z"
   },
   {
    "duration": 4,
    "start_time": "2021-09-12T20:07:31.413Z"
   },
   {
    "duration": 8,
    "start_time": "2021-09-12T20:07:31.418Z"
   },
   {
    "duration": 5,
    "start_time": "2021-09-12T20:07:31.428Z"
   },
   {
    "duration": 9,
    "start_time": "2021-09-12T20:07:31.435Z"
   },
   {
    "duration": 14,
    "start_time": "2021-09-12T20:07:31.446Z"
   },
   {
    "duration": 6,
    "start_time": "2021-09-12T20:07:31.462Z"
   },
   {
    "duration": 145,
    "start_time": "2021-09-12T20:07:31.469Z"
   },
   {
    "duration": 297,
    "start_time": "2021-09-12T20:07:31.616Z"
   },
   {
    "duration": -1343,
    "start_time": "2021-09-12T20:07:33.258Z"
   },
   {
    "duration": -1346,
    "start_time": "2021-09-12T20:07:33.262Z"
   },
   {
    "duration": -1363,
    "start_time": "2021-09-12T20:07:33.280Z"
   },
   {
    "duration": -1366,
    "start_time": "2021-09-12T20:07:33.284Z"
   },
   {
    "duration": -1369,
    "start_time": "2021-09-12T20:07:33.288Z"
   },
   {
    "duration": -1372,
    "start_time": "2021-09-12T20:07:33.292Z"
   },
   {
    "duration": -1375,
    "start_time": "2021-09-12T20:07:33.296Z"
   },
   {
    "duration": -1378,
    "start_time": "2021-09-12T20:07:33.300Z"
   },
   {
    "duration": -1381,
    "start_time": "2021-09-12T20:07:33.304Z"
   },
   {
    "duration": -1385,
    "start_time": "2021-09-12T20:07:33.308Z"
   },
   {
    "duration": -1388,
    "start_time": "2021-09-12T20:07:33.312Z"
   },
   {
    "duration": -1391,
    "start_time": "2021-09-12T20:07:33.316Z"
   },
   {
    "duration": -1394,
    "start_time": "2021-09-12T20:07:33.320Z"
   },
   {
    "duration": -1398,
    "start_time": "2021-09-12T20:07:33.325Z"
   },
   {
    "duration": -1401,
    "start_time": "2021-09-12T20:07:33.329Z"
   },
   {
    "duration": -1405,
    "start_time": "2021-09-12T20:07:33.334Z"
   },
   {
    "duration": -1409,
    "start_time": "2021-09-12T20:07:33.338Z"
   },
   {
    "duration": -1412,
    "start_time": "2021-09-12T20:07:33.342Z"
   },
   {
    "duration": -1415,
    "start_time": "2021-09-12T20:07:33.346Z"
   },
   {
    "duration": -1418,
    "start_time": "2021-09-12T20:07:33.350Z"
   },
   {
    "duration": -1421,
    "start_time": "2021-09-12T20:07:33.354Z"
   },
   {
    "duration": -1424,
    "start_time": "2021-09-12T20:07:33.358Z"
   },
   {
    "duration": -1427,
    "start_time": "2021-09-12T20:07:33.362Z"
   },
   {
    "duration": -1430,
    "start_time": "2021-09-12T20:07:33.366Z"
   },
   {
    "duration": -1433,
    "start_time": "2021-09-12T20:07:33.370Z"
   },
   {
    "duration": -1437,
    "start_time": "2021-09-12T20:07:33.374Z"
   },
   {
    "duration": -1441,
    "start_time": "2021-09-12T20:07:33.379Z"
   },
   {
    "duration": -1444,
    "start_time": "2021-09-12T20:07:33.383Z"
   },
   {
    "duration": -1447,
    "start_time": "2021-09-12T20:07:33.387Z"
   },
   {
    "duration": -1450,
    "start_time": "2021-09-12T20:07:33.391Z"
   },
   {
    "duration": -1453,
    "start_time": "2021-09-12T20:07:33.395Z"
   },
   {
    "duration": -1456,
    "start_time": "2021-09-12T20:07:33.399Z"
   },
   {
    "duration": -1459,
    "start_time": "2021-09-12T20:07:33.403Z"
   },
   {
    "duration": -1463,
    "start_time": "2021-09-12T20:07:33.408Z"
   },
   {
    "duration": 494,
    "start_time": "2021-09-12T20:08:32.270Z"
   },
   {
    "duration": 12,
    "start_time": "2021-09-12T20:08:43.215Z"
   },
   {
    "duration": 285,
    "start_time": "2021-09-12T20:09:41.495Z"
   },
   {
    "duration": 341,
    "start_time": "2021-09-12T20:09:53.843Z"
   },
   {
    "duration": 439,
    "start_time": "2021-09-12T20:10:17.478Z"
   },
   {
    "duration": 356,
    "start_time": "2021-09-12T20:10:27.571Z"
   },
   {
    "duration": 347,
    "start_time": "2021-09-12T20:10:56.092Z"
   },
   {
    "duration": 626,
    "start_time": "2021-09-12T20:12:20.257Z"
   },
   {
    "duration": 10,
    "start_time": "2021-09-12T20:12:20.885Z"
   },
   {
    "duration": 37,
    "start_time": "2021-09-12T20:12:20.896Z"
   },
   {
    "duration": 12,
    "start_time": "2021-09-12T20:12:20.935Z"
   },
   {
    "duration": 17,
    "start_time": "2021-09-12T20:12:20.948Z"
   },
   {
    "duration": 16,
    "start_time": "2021-09-12T20:12:20.967Z"
   },
   {
    "duration": 27,
    "start_time": "2021-09-12T20:12:20.985Z"
   },
   {
    "duration": 9,
    "start_time": "2021-09-12T20:12:21.014Z"
   },
   {
    "duration": 9,
    "start_time": "2021-09-12T20:12:21.024Z"
   },
   {
    "duration": 23,
    "start_time": "2021-09-12T20:12:21.035Z"
   },
   {
    "duration": 15,
    "start_time": "2021-09-12T20:12:21.060Z"
   },
   {
    "duration": 16,
    "start_time": "2021-09-12T20:12:21.076Z"
   },
   {
    "duration": 20,
    "start_time": "2021-09-12T20:12:21.094Z"
   },
   {
    "duration": 5,
    "start_time": "2021-09-12T20:12:21.116Z"
   },
   {
    "duration": 17,
    "start_time": "2021-09-12T20:12:21.123Z"
   },
   {
    "duration": 18,
    "start_time": "2021-09-12T20:12:21.142Z"
   },
   {
    "duration": 6,
    "start_time": "2021-09-12T20:12:21.162Z"
   },
   {
    "duration": 72,
    "start_time": "2021-09-12T20:12:21.191Z"
   },
   {
    "duration": 258,
    "start_time": "2021-09-12T20:12:21.265Z"
   },
   {
    "duration": 9,
    "start_time": "2021-09-12T20:12:21.525Z"
   },
   {
    "duration": 15,
    "start_time": "2021-09-12T20:12:21.536Z"
   },
   {
    "duration": 20,
    "start_time": "2021-09-12T20:12:21.553Z"
   },
   {
    "duration": 15,
    "start_time": "2021-09-12T20:12:21.577Z"
   },
   {
    "duration": 20,
    "start_time": "2021-09-12T20:12:21.595Z"
   },
   {
    "duration": 26,
    "start_time": "2021-09-12T20:12:21.617Z"
   },
   {
    "duration": 15,
    "start_time": "2021-09-12T20:12:21.645Z"
   },
   {
    "duration": 25,
    "start_time": "2021-09-12T20:12:21.662Z"
   },
   {
    "duration": 679,
    "start_time": "2021-09-12T20:12:21.689Z"
   },
   {
    "duration": 322,
    "start_time": "2021-09-12T20:12:22.369Z"
   },
   {
    "duration": 4,
    "start_time": "2021-09-12T20:12:22.693Z"
   },
   {
    "duration": 7,
    "start_time": "2021-09-12T20:12:22.699Z"
   },
   {
    "duration": 6,
    "start_time": "2021-09-12T20:12:22.708Z"
   },
   {
    "duration": 9,
    "start_time": "2021-09-12T20:12:22.715Z"
   },
   {
    "duration": 14,
    "start_time": "2021-09-12T20:12:22.725Z"
   },
   {
    "duration": 7,
    "start_time": "2021-09-12T20:12:22.741Z"
   },
   {
    "duration": 135,
    "start_time": "2021-09-12T20:12:22.749Z"
   },
   {
    "duration": 471,
    "start_time": "2021-09-12T20:12:22.891Z"
   },
   {
    "duration": 364,
    "start_time": "2021-09-12T20:12:23.364Z"
   },
   {
    "duration": 4,
    "start_time": "2021-09-12T20:12:23.730Z"
   },
   {
    "duration": 20,
    "start_time": "2021-09-12T20:12:23.736Z"
   },
   {
    "duration": 5,
    "start_time": "2021-09-12T20:12:23.758Z"
   },
   {
    "duration": 29,
    "start_time": "2021-09-12T20:12:23.764Z"
   },
   {
    "duration": 19,
    "start_time": "2021-09-12T20:12:23.795Z"
   },
   {
    "duration": 18,
    "start_time": "2021-09-12T20:12:23.815Z"
   },
   {
    "duration": 8,
    "start_time": "2021-09-12T20:12:23.835Z"
   },
   {
    "duration": 12,
    "start_time": "2021-09-12T20:12:23.845Z"
   },
   {
    "duration": 11,
    "start_time": "2021-09-12T20:12:23.859Z"
   },
   {
    "duration": 22,
    "start_time": "2021-09-12T20:12:23.872Z"
   },
   {
    "duration": 16,
    "start_time": "2021-09-12T20:12:23.895Z"
   },
   {
    "duration": 7,
    "start_time": "2021-09-12T20:12:23.913Z"
   },
   {
    "duration": 11,
    "start_time": "2021-09-12T20:12:23.922Z"
   },
   {
    "duration": 9,
    "start_time": "2021-09-12T20:12:23.935Z"
   },
   {
    "duration": 15,
    "start_time": "2021-09-12T20:12:23.946Z"
   },
   {
    "duration": 16,
    "start_time": "2021-09-12T20:12:23.962Z"
   },
   {
    "duration": 15,
    "start_time": "2021-09-12T20:12:23.980Z"
   },
   {
    "duration": 570,
    "start_time": "2021-09-12T20:12:23.996Z"
   },
   {
    "duration": 280,
    "start_time": "2021-09-12T20:12:24.567Z"
   },
   {
    "duration": 2,
    "start_time": "2021-09-12T20:12:24.849Z"
   },
   {
    "duration": 8,
    "start_time": "2021-09-12T20:12:24.853Z"
   },
   {
    "duration": 12,
    "start_time": "2021-09-12T20:12:24.863Z"
   },
   {
    "duration": 7,
    "start_time": "2021-09-12T20:12:24.877Z"
   },
   {
    "duration": 6,
    "start_time": "2021-09-12T20:12:24.891Z"
   },
   {
    "duration": 11,
    "start_time": "2021-09-12T20:12:24.899Z"
   },
   {
    "duration": 10,
    "start_time": "2021-09-12T20:12:24.911Z"
   },
   {
    "duration": 10,
    "start_time": "2021-09-12T20:12:24.923Z"
   },
   {
    "duration": 7,
    "start_time": "2021-09-12T20:12:24.936Z"
   },
   {
    "duration": 8,
    "start_time": "2021-09-12T20:12:24.945Z"
   },
   {
    "duration": 8,
    "start_time": "2021-09-12T20:12:24.958Z"
   },
   {
    "duration": 11,
    "start_time": "2021-09-12T20:12:24.968Z"
   },
   {
    "duration": 14,
    "start_time": "2021-09-12T20:12:24.981Z"
   },
   {
    "duration": 15,
    "start_time": "2021-09-12T20:12:24.996Z"
   },
   {
    "duration": 13,
    "start_time": "2021-09-12T20:12:25.012Z"
   },
   {
    "duration": 1032,
    "start_time": "2021-09-13T05:28:27.381Z"
   },
   {
    "duration": 14,
    "start_time": "2021-09-13T05:28:28.415Z"
   },
   {
    "duration": 72,
    "start_time": "2021-09-13T05:28:28.432Z"
   },
   {
    "duration": 19,
    "start_time": "2021-09-13T05:28:28.507Z"
   },
   {
    "duration": 8,
    "start_time": "2021-09-13T05:28:28.529Z"
   },
   {
    "duration": 10,
    "start_time": "2021-09-13T05:28:28.539Z"
   },
   {
    "duration": 60,
    "start_time": "2021-09-13T05:28:28.552Z"
   },
   {
    "duration": 11,
    "start_time": "2021-09-13T05:28:28.615Z"
   },
   {
    "duration": 6,
    "start_time": "2021-09-13T05:28:28.629Z"
   },
   {
    "duration": 51,
    "start_time": "2021-09-13T05:28:28.638Z"
   },
   {
    "duration": 15,
    "start_time": "2021-09-13T05:28:28.691Z"
   },
   {
    "duration": 9,
    "start_time": "2021-09-13T05:28:28.708Z"
   },
   {
    "duration": 34,
    "start_time": "2021-09-13T05:28:28.719Z"
   },
   {
    "duration": 7,
    "start_time": "2021-09-13T05:28:28.783Z"
   },
   {
    "duration": 7,
    "start_time": "2021-09-13T05:28:28.793Z"
   },
   {
    "duration": 20,
    "start_time": "2021-09-13T05:28:28.802Z"
   },
   {
    "duration": 8,
    "start_time": "2021-09-13T05:28:28.824Z"
   },
   {
    "duration": 148,
    "start_time": "2021-09-13T05:28:28.834Z"
   },
   {
    "duration": 442,
    "start_time": "2021-09-13T05:28:28.984Z"
   },
   {
    "duration": 19,
    "start_time": "2021-09-13T05:28:29.429Z"
   },
   {
    "duration": 31,
    "start_time": "2021-09-13T05:28:29.451Z"
   },
   {
    "duration": 22,
    "start_time": "2021-09-13T05:28:29.484Z"
   },
   {
    "duration": 12,
    "start_time": "2021-09-13T05:28:29.511Z"
   },
   {
    "duration": 8,
    "start_time": "2021-09-13T05:28:29.526Z"
   },
   {
    "duration": 62,
    "start_time": "2021-09-13T05:28:29.536Z"
   },
   {
    "duration": 13,
    "start_time": "2021-09-13T05:28:29.601Z"
   },
   {
    "duration": 14,
    "start_time": "2021-09-13T05:28:29.616Z"
   },
   {
    "duration": 1078,
    "start_time": "2021-09-13T05:28:29.633Z"
   },
   {
    "duration": 391,
    "start_time": "2021-09-13T05:28:30.713Z"
   },
   {
    "duration": 5,
    "start_time": "2021-09-13T05:28:31.107Z"
   },
   {
    "duration": 14,
    "start_time": "2021-09-13T05:28:31.115Z"
   },
   {
    "duration": 7,
    "start_time": "2021-09-13T05:28:31.131Z"
   },
   {
    "duration": 13,
    "start_time": "2021-09-13T05:28:31.141Z"
   },
   {
    "duration": 35,
    "start_time": "2021-09-13T05:28:31.156Z"
   },
   {
    "duration": 9,
    "start_time": "2021-09-13T05:28:31.194Z"
   },
   {
    "duration": 214,
    "start_time": "2021-09-13T05:28:31.205Z"
   },
   {
    "duration": 643,
    "start_time": "2021-09-13T05:28:31.422Z"
   },
   {
    "duration": 590,
    "start_time": "2021-09-13T05:28:32.068Z"
   },
   {
    "duration": 7,
    "start_time": "2021-09-13T05:28:32.661Z"
   },
   {
    "duration": 37,
    "start_time": "2021-09-13T05:28:32.683Z"
   },
   {
    "duration": 7,
    "start_time": "2021-09-13T05:28:32.723Z"
   },
   {
    "duration": 8,
    "start_time": "2021-09-13T05:28:32.732Z"
   },
   {
    "duration": 65,
    "start_time": "2021-09-13T05:28:32.743Z"
   },
   {
    "duration": 32,
    "start_time": "2021-09-13T05:28:32.811Z"
   },
   {
    "duration": 42,
    "start_time": "2021-09-13T05:28:32.846Z"
   },
   {
    "duration": 11,
    "start_time": "2021-09-13T05:28:32.891Z"
   },
   {
    "duration": 9,
    "start_time": "2021-09-13T05:28:32.905Z"
   },
   {
    "duration": 8,
    "start_time": "2021-09-13T05:28:32.917Z"
   },
   {
    "duration": 15,
    "start_time": "2021-09-13T05:28:32.927Z"
   },
   {
    "duration": 39,
    "start_time": "2021-09-13T05:28:32.944Z"
   },
   {
    "duration": 7,
    "start_time": "2021-09-13T05:28:32.986Z"
   },
   {
    "duration": 5,
    "start_time": "2021-09-13T05:28:32.995Z"
   },
   {
    "duration": 14,
    "start_time": "2021-09-13T05:28:33.003Z"
   },
   {
    "duration": 13,
    "start_time": "2021-09-13T05:28:33.019Z"
   },
   {
    "duration": 48,
    "start_time": "2021-09-13T05:28:33.034Z"
   },
   {
    "duration": 949,
    "start_time": "2021-09-13T05:28:33.084Z"
   },
   {
    "duration": 467,
    "start_time": "2021-09-13T05:28:34.035Z"
   },
   {
    "duration": 3,
    "start_time": "2021-09-13T05:28:34.505Z"
   },
   {
    "duration": 9,
    "start_time": "2021-09-13T05:28:34.510Z"
   },
   {
    "duration": 18,
    "start_time": "2021-09-13T05:28:34.522Z"
   },
   {
    "duration": 14,
    "start_time": "2021-09-13T05:28:34.542Z"
   },
   {
    "duration": 27,
    "start_time": "2021-09-13T05:28:34.559Z"
   },
   {
    "duration": 9,
    "start_time": "2021-09-13T05:28:34.589Z"
   },
   {
    "duration": 5,
    "start_time": "2021-09-13T05:28:34.600Z"
   },
   {
    "duration": 10,
    "start_time": "2021-09-13T05:28:34.607Z"
   },
   {
    "duration": 7,
    "start_time": "2021-09-13T05:28:34.619Z"
   },
   {
    "duration": 5,
    "start_time": "2021-09-13T05:28:34.629Z"
   },
   {
    "duration": 43,
    "start_time": "2021-09-13T05:28:34.640Z"
   },
   {
    "duration": 9,
    "start_time": "2021-09-13T05:28:34.686Z"
   },
   {
    "duration": 9,
    "start_time": "2021-09-13T05:28:34.698Z"
   },
   {
    "duration": 11,
    "start_time": "2021-09-13T05:28:34.709Z"
   },
   {
    "duration": 9,
    "start_time": "2021-09-13T05:28:34.723Z"
   },
   {
    "duration": 6,
    "start_time": "2021-09-13T05:58:59.622Z"
   },
   {
    "duration": 267,
    "start_time": "2021-09-13T05:59:21.960Z"
   },
   {
    "duration": 294,
    "start_time": "2021-09-13T05:59:28.362Z"
   },
   {
    "duration": 623,
    "start_time": "2021-09-13T06:01:18.109Z"
   },
   {
    "duration": 339,
    "start_time": "2021-09-13T06:01:34.367Z"
   },
   {
    "duration": 330,
    "start_time": "2021-09-13T06:01:46.635Z"
   },
   {
    "duration": 331,
    "start_time": "2021-09-13T06:01:55.871Z"
   },
   {
    "duration": 324,
    "start_time": "2021-09-13T06:02:07.702Z"
   },
   {
    "duration": 29,
    "start_time": "2021-09-13T06:02:18.482Z"
   },
   {
    "duration": 284,
    "start_time": "2021-09-13T06:02:26.684Z"
   },
   {
    "duration": 391,
    "start_time": "2021-09-13T06:02:37.547Z"
   },
   {
    "duration": 30,
    "start_time": "2021-09-13T06:04:41.883Z"
   },
   {
    "duration": 21,
    "start_time": "2021-09-13T06:05:52.170Z"
   },
   {
    "duration": 22,
    "start_time": "2021-09-13T06:06:07.550Z"
   },
   {
    "duration": 24,
    "start_time": "2021-09-13T06:06:42.035Z"
   },
   {
    "duration": 348,
    "start_time": "2021-09-13T06:07:31.095Z"
   },
   {
    "duration": 961,
    "start_time": "2021-09-13T06:07:46.533Z"
   },
   {
    "duration": 371,
    "start_time": "2021-09-13T06:07:51.695Z"
   },
   {
    "duration": 703,
    "start_time": "2021-09-13T06:08:06.715Z"
   },
   {
    "duration": 470,
    "start_time": "2021-09-13T06:08:17.273Z"
   },
   {
    "duration": 467,
    "start_time": "2021-09-13T06:08:29.240Z"
   },
   {
    "duration": 479,
    "start_time": "2021-09-13T06:08:49.680Z"
   },
   {
    "duration": 458,
    "start_time": "2021-09-13T06:09:38.301Z"
   },
   {
    "duration": 862,
    "start_time": "2021-09-13T06:10:23.000Z"
   },
   {
    "duration": 502,
    "start_time": "2021-09-13T06:10:31.273Z"
   },
   {
    "duration": 473,
    "start_time": "2021-09-13T06:10:42.448Z"
   },
   {
    "duration": 464,
    "start_time": "2021-09-13T06:10:50.361Z"
   },
   {
    "duration": 476,
    "start_time": "2021-09-13T06:14:39.955Z"
   },
   {
    "duration": 476,
    "start_time": "2021-09-13T06:14:45.394Z"
   },
   {
    "duration": 583,
    "start_time": "2021-09-13T06:15:06.519Z"
   },
   {
    "duration": 477,
    "start_time": "2021-09-13T06:15:12.272Z"
   },
   {
    "duration": 466,
    "start_time": "2021-09-13T06:15:17.788Z"
   },
   {
    "duration": 461,
    "start_time": "2021-09-13T06:16:43.763Z"
   },
   {
    "duration": 524,
    "start_time": "2021-09-13T06:17:49.840Z"
   },
   {
    "duration": 371,
    "start_time": "2021-09-13T06:17:54.553Z"
   },
   {
    "duration": 463,
    "start_time": "2021-09-13T06:17:58.248Z"
   },
   {
    "duration": 482,
    "start_time": "2021-09-13T06:19:49.978Z"
   }
  ],
  "kernelspec": {
   "display_name": "Python 3",
   "language": "python",
   "name": "python3"
  },
  "language_info": {
   "codemirror_mode": {
    "name": "ipython",
    "version": 3
   },
   "file_extension": ".py",
   "mimetype": "text/x-python",
   "name": "python",
   "nbconvert_exporter": "python",
   "pygments_lexer": "ipython3",
   "version": "3.8.3"
  },
  "toc": {
   "base_numbering": 1,
   "nav_menu": {
    "height": "156px",
    "width": "292px"
   },
   "number_sections": true,
   "sideBar": true,
   "skip_h1_title": true,
   "title_cell": "Table of Contents",
   "title_sidebar": "Contents",
   "toc_cell": false,
   "toc_position": {},
   "toc_section_display": true,
   "toc_window_display": false
  }
 },
 "nbformat": 4,
 "nbformat_minor": 2
}
