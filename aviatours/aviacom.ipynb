{
 "cells": [
  {
   "cell_type": "markdown",
   "metadata": {},
   "source": [
    "# Аналитика в авиакомпании"
   ]
  },
  {
   "cell_type": "markdown",
   "metadata": {},
   "source": [
    "# Описание проекта"
   ]
  },
  {
   "cell_type": "markdown",
   "metadata": {},
   "source": [
    "Для развития компании важно понять предпочтения пользователей, покупающих билеты на разные направления.\n",
    "Вам предстоит изучить базу данных и проанализировать спрос пассажиров на рейсы в города, где проходят крупнейшие фестивали."
   ]
  },
  {
   "cell_type": "markdown",
   "metadata": {},
   "source": [
    "# Описание данных"
   ]
  },
  {
   "cell_type": "markdown",
   "metadata": {},
   "source": [
    "Первый датасет — результат первого запроса. В нём содержится информация о:\n",
    "\n",
    "- model — модели самолета\n",
    "\n",
    "- flights_amount — количество рейсов для каждой модели самолетов model в сентябре 2018 года\n",
    "\n",
    "Второй датасет — результат третьего запроса. В нём содержится информация о:\n",
    "\n",
    "- city — городах\n",
    "\n",
    "- average_flights — среднем количестве рейсов, прибывающих в город city за день в августе 2018 года"
   ]
  },
  {
   "cell_type": "markdown",
   "metadata": {},
   "source": [
    "### Шаг 1. Откройте файл с данными и изучите общую информацию"
   ]
  },
  {
   "cell_type": "code",
   "execution_count": 29,
   "metadata": {},
   "outputs": [],
   "source": [
    "import pandas as pd\n",
    "import numpy as np"
   ]
  },
  {
   "cell_type": "code",
   "execution_count": 14,
   "metadata": {},
   "outputs": [],
   "source": [
    "import matplotlib.pyplot as plt\n",
    "import matplotlib"
   ]
  },
  {
   "cell_type": "code",
   "execution_count": 2,
   "metadata": {},
   "outputs": [],
   "source": [
    "flights = pd.read_csv('/datasets/query_1.csv')"
   ]
  },
  {
   "cell_type": "code",
   "execution_count": 3,
   "metadata": {},
   "outputs": [],
   "source": [
    "city = pd.read_csv('/datasets/query_3.csv')"
   ]
  },
  {
   "cell_type": "markdown",
   "metadata": {},
   "source": [
    "Импортировали данные, рассмотрим их содержание."
   ]
  },
  {
   "cell_type": "code",
   "execution_count": 4,
   "metadata": {},
   "outputs": [
    {
     "name": "stdout",
     "output_type": "stream",
     "text": [
      "             model  flights_amount\n",
      "0  Airbus A319-100             607\n",
      "1  Airbus A321-200             960\n",
      "2   Boeing 737-300             630\n",
      "3   Boeing 767-300             600\n",
      "4   Boeing 777-300             300\n",
      "<bound method NDFrame.describe of                  model  flights_amount\n",
      "0      Airbus A319-100             607\n",
      "1      Airbus A321-200             960\n",
      "2       Boeing 737-300             630\n",
      "3       Boeing 767-300             600\n",
      "4       Boeing 777-300             300\n",
      "5   Bombardier CRJ-200            4446\n",
      "6   Cessna 208 Caravan            4557\n",
      "7  Sukhoi SuperJet-100            4185>\n",
      "<class 'pandas.core.frame.DataFrame'>\n",
      "RangeIndex: 8 entries, 0 to 7\n",
      "Data columns (total 2 columns):\n",
      "model             8 non-null object\n",
      "flights_amount    8 non-null int64\n",
      "dtypes: int64(1), object(1)\n",
      "memory usage: 256.0+ bytes\n",
      "None\n"
     ]
    }
   ],
   "source": [
    "print(flights.head())\n",
    "print(flights.describe)\n",
    "print(flights.info())"
   ]
  },
  {
   "cell_type": "code",
   "execution_count": 5,
   "metadata": {},
   "outputs": [
    {
     "name": "stdout",
     "output_type": "stream",
     "text": [
      "          city  average_flights\n",
      "0       Абакан         3.870968\n",
      "1      Анадырь         1.000000\n",
      "2        Анапа         2.161290\n",
      "3  Архангельск         5.354839\n",
      "4    Астрахань         2.451613\n",
      "<bound method NDFrame.describe of                city  average_flights\n",
      "0            Абакан         3.870968\n",
      "1           Анадырь         1.000000\n",
      "2             Анапа         2.161290\n",
      "3       Архангельск         5.354839\n",
      "4         Астрахань         2.451613\n",
      "..              ...              ...\n",
      "96             Чита         1.580645\n",
      "97           Элиста         4.870968\n",
      "98   Южно-Сахалинск         4.290323\n",
      "99           Якутск         2.741935\n",
      "100       Ярославль         1.322581\n",
      "\n",
      "[101 rows x 2 columns]>\n",
      "<class 'pandas.core.frame.DataFrame'>\n",
      "RangeIndex: 101 entries, 0 to 100\n",
      "Data columns (total 2 columns):\n",
      "city               101 non-null object\n",
      "average_flights    101 non-null float64\n",
      "dtypes: float64(1), object(1)\n",
      "memory usage: 1.7+ KB\n",
      "None\n"
     ]
    }
   ],
   "source": [
    "print(city.head())\n",
    "print(city.describe)\n",
    "print(city.info())"
   ]
  },
  {
   "cell_type": "markdown",
   "metadata": {},
   "source": [
    "## 2 шаг. Предобработка данных"
   ]
  },
  {
   "cell_type": "code",
   "execution_count": 6,
   "metadata": {},
   "outputs": [
    {
     "data": {
      "text/plain": [
       "model             0\n",
       "flights_amount    0\n",
       "dtype: int64"
      ]
     },
     "execution_count": 6,
     "metadata": {},
     "output_type": "execute_result"
    }
   ],
   "source": [
    "flights.isna().sum()"
   ]
  },
  {
   "cell_type": "code",
   "execution_count": 7,
   "metadata": {},
   "outputs": [
    {
     "data": {
      "text/plain": [
       "city               0\n",
       "average_flights    0\n",
       "dtype: int64"
      ]
     },
     "execution_count": 7,
     "metadata": {},
     "output_type": "execute_result"
    }
   ],
   "source": [
    "city.isna().sum()"
   ]
  },
  {
   "cell_type": "markdown",
   "metadata": {},
   "source": [
    "Видим, что пропущенных значений нет, данные полные."
   ]
  },
  {
   "cell_type": "markdown",
   "metadata": {},
   "source": [
    "## 3 шаг. Анализ."
   ]
  },
  {
   "cell_type": "code",
   "execution_count": 8,
   "metadata": {},
   "outputs": [],
   "source": [
    "city1 = city.sort_values(by='average_flights', ascending=False).head(10)"
   ]
  },
  {
   "cell_type": "code",
   "execution_count": 9,
   "metadata": {},
   "outputs": [
    {
     "data": {
      "text/html": [
       "<div>\n",
       "<style scoped>\n",
       "    .dataframe tbody tr th:only-of-type {\n",
       "        vertical-align: middle;\n",
       "    }\n",
       "\n",
       "    .dataframe tbody tr th {\n",
       "        vertical-align: top;\n",
       "    }\n",
       "\n",
       "    .dataframe thead th {\n",
       "        text-align: right;\n",
       "    }\n",
       "</style>\n",
       "<table border=\"1\" class=\"dataframe\">\n",
       "  <thead>\n",
       "    <tr style=\"text-align: right;\">\n",
       "      <th></th>\n",
       "      <th>city</th>\n",
       "      <th>average_flights</th>\n",
       "    </tr>\n",
       "  </thead>\n",
       "  <tbody>\n",
       "    <tr>\n",
       "      <td>43</td>\n",
       "      <td>Москва</td>\n",
       "      <td>129.774194</td>\n",
       "    </tr>\n",
       "    <tr>\n",
       "      <td>70</td>\n",
       "      <td>Санкт-Петербург</td>\n",
       "      <td>31.161290</td>\n",
       "    </tr>\n",
       "    <tr>\n",
       "      <td>54</td>\n",
       "      <td>Новосибирск</td>\n",
       "      <td>17.322581</td>\n",
       "    </tr>\n",
       "    <tr>\n",
       "      <td>33</td>\n",
       "      <td>Красноярск</td>\n",
       "      <td>11.580645</td>\n",
       "    </tr>\n",
       "    <tr>\n",
       "      <td>20</td>\n",
       "      <td>Екатеринбург</td>\n",
       "      <td>11.322581</td>\n",
       "    </tr>\n",
       "    <tr>\n",
       "      <td>67</td>\n",
       "      <td>Ростов-на-Дону</td>\n",
       "      <td>10.193548</td>\n",
       "    </tr>\n",
       "    <tr>\n",
       "      <td>63</td>\n",
       "      <td>Пермь</td>\n",
       "      <td>10.129032</td>\n",
       "    </tr>\n",
       "    <tr>\n",
       "      <td>10</td>\n",
       "      <td>Брянск</td>\n",
       "      <td>10.000000</td>\n",
       "    </tr>\n",
       "    <tr>\n",
       "      <td>74</td>\n",
       "      <td>Сочи</td>\n",
       "      <td>9.612903</td>\n",
       "    </tr>\n",
       "    <tr>\n",
       "      <td>84</td>\n",
       "      <td>Ульяновск</td>\n",
       "      <td>9.580645</td>\n",
       "    </tr>\n",
       "  </tbody>\n",
       "</table>\n",
       "</div>"
      ],
      "text/plain": [
       "               city  average_flights\n",
       "43           Москва       129.774194\n",
       "70  Санкт-Петербург        31.161290\n",
       "54      Новосибирск        17.322581\n",
       "33       Красноярск        11.580645\n",
       "20     Екатеринбург        11.322581\n",
       "67   Ростов-на-Дону        10.193548\n",
       "63            Пермь        10.129032\n",
       "10           Брянск        10.000000\n",
       "74             Сочи         9.612903\n",
       "84        Ульяновск         9.580645"
      ]
     },
     "execution_count": 9,
     "metadata": {},
     "output_type": "execute_result"
    }
   ],
   "source": [
    "city1"
   ]
  },
  {
   "cell_type": "markdown",
   "metadata": {},
   "source": [
    "Нашли 10 городов, в которые чаще всего летают люди."
   ]
  },
  {
   "cell_type": "markdown",
   "metadata": {},
   "source": [
    "Построим графики функций зависимости количества рейсов от модели самолетов, количества рейсов от города, количества рейсов от топ-10 городов"
   ]
  },
  {
   "cell_type": "code",
   "execution_count": 26,
   "metadata": {},
   "outputs": [
    {
     "data": {
      "image/png": "[encoded data removed]",
      "text/plain": [
       "<Figure size 504x504 with 1 Axes>"
      ]
     },
     "metadata": {
      "needs_background": "light"
     },
     "output_type": "display_data"
    }
   ],
   "source": [
    "flights.plot(y='flights_amount', x='model', kind='bar', figsize=(7,7), grid=True)\n",
    "plt.xticks(rotation=90)\n",
    "plt.title('Количество полетов на разных моделях самолетов')\n",
    "plt.xlabel('Модель самолета')\n",
    "plt.ylabel('Количесвто полетов, шт')\n",
    "plt.legend([])\n",
    "plt.show()"
   ]
  },
  {
   "cell_type": "markdown",
   "metadata": {},
   "source": [
    "Видим, что больше всего полетов было совершено на самолетах Бомбардир и Сухой-суперджет."
   ]
  },
  {
   "cell_type": "code",
   "execution_count": 44,
   "metadata": {},
   "outputs": [],
   "source": [
    "most_cities = city[city['average_flights']>5]"
   ]
  },
  {
   "cell_type": "code",
   "execution_count": 45,
   "metadata": {},
   "outputs": [
    {
     "data": {
      "image/png": "[encoded data removed]",
      "text/plain": [
       "<Figure size 720x720 with 1 Axes>"
      ]
     },
     "metadata": {
      "needs_background": "light"
     },
     "output_type": "display_data"
    }
   ],
   "source": [
    "most_cities.plot(x='city', y='average_flights', kind = 'bar', figsize=(10,10), grid=True)\n",
    "plt.xticks(rotation=90)\n",
    "plt.title('Количество полетов По разным городам')\n",
    "plt.xlabel('Название города')\n",
    "plt.ylabel('Количесвто полетов, шт')\n",
    "plt.legend([])\n",
    "plt.show()"
   ]
  },
  {
   "cell_type": "markdown",
   "metadata": {},
   "source": [
    "Видно, что наибольшее количество перелетов - в Москве."
   ]
  },
  {
   "cell_type": "code",
   "execution_count": 46,
   "metadata": {},
   "outputs": [
    {
     "data": {
      "image/png": "[encoded data removed]",
      "text/plain": [
       "<Figure size 504x504 with 1 Axes>"
      ]
     },
     "metadata": {
      "needs_background": "light"
     },
     "output_type": "display_data"
    }
   ],
   "source": [
    "city1.plot(x='city', y='average_flights', figsize=(7,7), grid=True)\n",
    "plt.xticks(rotation=90)\n",
    "plt.title('Количество полетов По разным городам')\n",
    "plt.legend([])\n",
    "plt.ylabel('Количество перелетов, шт')\n",
    "plt.show()"
   ]
  },
  {
   "cell_type": "markdown",
   "metadata": {},
   "source": [
    "Видим, что наибольшее количество перелетов были произведены в Москве и Санкт-Петербурге."
   ]
  },
  {
   "cell_type": "markdown",
   "metadata": {},
   "source": [
    "# Вывод"
   ]
  },
  {
   "cell_type": "markdown",
   "metadata": {},
   "source": [
    "Видим, что наибольшее колчиество перелетов было произведено в Москву, а также в Петербург, где проходят крупнейшие фестивали. По графикам видно, что наибольшей популяронстью пользуются две столицы, в другие города было произведено не так много перелетов. Скорее всего, в региональных городах были не такие крупные фестивали."
   ]
  }
 ],
 "metadata": {
  "ExecuteTimeLog": [
   {
    "duration": 540,
    "start_time": "2021-10-01T18:52:39.312Z"
   },
   {
    "duration": 233,
    "start_time": "2021-10-01T18:53:16.446Z"
   },
   {
    "duration": 17,
    "start_time": "2021-10-01T18:53:20.120Z"
   },
   {
    "duration": 17,
    "start_time": "2021-10-01T18:53:42.835Z"
   },
   {
    "duration": 9,
    "start_time": "2021-10-01T18:56:10.467Z"
   },
   {
    "duration": 11,
    "start_time": "2021-10-01T18:56:43.607Z"
   },
   {
    "duration": 10,
    "start_time": "2021-10-01T18:58:21.814Z"
   },
   {
    "duration": 7,
    "start_time": "2021-10-01T18:58:34.677Z"
   },
   {
    "duration": 4,
    "start_time": "2021-10-01T18:59:55.419Z"
   },
   {
    "duration": 4,
    "start_time": "2021-10-01T18:59:57.835Z"
   },
   {
    "duration": 8,
    "start_time": "2021-10-01T19:00:05.710Z"
   },
   {
    "duration": 4,
    "start_time": "2021-10-01T19:00:12.842Z"
   },
   {
    "duration": 7,
    "start_time": "2021-10-01T19:00:14.573Z"
   },
   {
    "duration": 8,
    "start_time": "2021-10-01T19:00:25.596Z"
   },
   {
    "duration": 2,
    "start_time": "2021-10-01T19:07:57.715Z"
   },
   {
    "duration": 397,
    "start_time": "2021-10-01T19:09:36.839Z"
   },
   {
    "duration": 234,
    "start_time": "2021-10-01T19:10:58.598Z"
   },
   {
    "duration": 165,
    "start_time": "2021-10-01T19:11:07.325Z"
   },
   {
    "duration": 185,
    "start_time": "2021-10-01T19:11:27.385Z"
   },
   {
    "duration": 262,
    "start_time": "2021-10-01T19:11:33.375Z"
   },
   {
    "duration": 197,
    "start_time": "2021-10-01T19:11:42.787Z"
   },
   {
    "duration": 359,
    "start_time": "2021-10-01T19:12:17.059Z"
   },
   {
    "duration": 3,
    "start_time": "2021-10-01T19:12:37.166Z"
   },
   {
    "duration": 3,
    "start_time": "2021-10-01T19:12:37.586Z"
   },
   {
    "duration": 197,
    "start_time": "2021-10-01T19:12:38.936Z"
   },
   {
    "duration": 208,
    "start_time": "2021-10-01T19:15:54.328Z"
   },
   {
    "duration": 302,
    "start_time": "2021-10-02T20:31:53.348Z"
   },
   {
    "duration": 952,
    "start_time": "2021-10-02T20:32:03.040Z"
   },
   {
    "duration": 695,
    "start_time": "2021-10-02T20:32:04.363Z"
   },
   {
    "duration": 17,
    "start_time": "2021-10-02T20:32:05.167Z"
   },
   {
    "duration": 14,
    "start_time": "2021-10-02T20:32:06.618Z"
   },
   {
    "duration": 15,
    "start_time": "2021-10-02T20:32:07.437Z"
   },
   {
    "duration": 18,
    "start_time": "2021-10-02T20:32:08.500Z"
   },
   {
    "duration": 9,
    "start_time": "2021-10-02T20:32:09.197Z"
   },
   {
    "duration": 10,
    "start_time": "2021-10-02T20:32:10.955Z"
   },
   {
    "duration": 12,
    "start_time": "2021-10-02T20:32:12.012Z"
   },
   {
    "duration": 126,
    "start_time": "2021-10-02T20:32:13.611Z"
   },
   {
    "duration": 348,
    "start_time": "2021-10-02T20:32:14.461Z"
   },
   {
    "duration": 6034,
    "start_time": "2021-10-02T20:34:20.310Z"
   },
   {
    "duration": 228,
    "start_time": "2021-10-02T20:34:59.580Z"
   },
   {
    "duration": 325,
    "start_time": "2021-10-02T20:35:06.803Z"
   },
   {
    "duration": 310,
    "start_time": "2021-10-02T20:35:24.937Z"
   },
   {
    "duration": 375,
    "start_time": "2021-10-02T20:35:34.124Z"
   },
   {
    "duration": 5,
    "start_time": "2021-10-02T20:36:15.458Z"
   },
   {
    "duration": 11,
    "start_time": "2021-10-02T20:36:21.172Z"
   },
   {
    "duration": 355,
    "start_time": "2021-10-02T20:36:29.066Z"
   },
   {
    "duration": 402,
    "start_time": "2021-10-02T20:36:40.205Z"
   },
   {
    "duration": 544,
    "start_time": "2021-10-02T21:11:33.898Z"
   },
   {
    "duration": 19,
    "start_time": "2021-10-02T21:11:34.444Z"
   },
   {
    "duration": 20,
    "start_time": "2021-10-02T21:11:34.465Z"
   },
   {
    "duration": 12,
    "start_time": "2021-10-02T21:11:34.487Z"
   },
   {
    "duration": 10,
    "start_time": "2021-10-02T21:11:34.501Z"
   },
   {
    "duration": 10,
    "start_time": "2021-10-02T21:11:34.513Z"
   },
   {
    "duration": 6,
    "start_time": "2021-10-02T21:11:34.524Z"
   },
   {
    "duration": 4,
    "start_time": "2021-10-02T21:11:34.544Z"
   },
   {
    "duration": 9,
    "start_time": "2021-10-02T21:11:34.551Z"
   },
   {
    "duration": 85,
    "start_time": "2021-10-02T21:11:34.562Z"
   },
   {
    "duration": 212,
    "start_time": "2021-10-02T21:11:34.648Z"
   },
   {
    "duration": 212,
    "start_time": "2021-10-02T21:11:34.862Z"
   },
   {
    "duration": 211,
    "start_time": "2021-10-02T21:11:35.076Z"
   },
   {
    "duration": 741,
    "start_time": "2021-10-03T19:06:42.819Z"
   },
   {
    "duration": 20,
    "start_time": "2021-10-03T19:06:43.947Z"
   },
   {
    "duration": 18,
    "start_time": "2021-10-03T19:06:44.652Z"
   },
   {
    "duration": 15,
    "start_time": "2021-10-03T19:06:45.902Z"
   },
   {
    "duration": 16,
    "start_time": "2021-10-03T19:06:48.300Z"
   },
   {
    "duration": 15,
    "start_time": "2021-10-03T19:06:49.497Z"
   },
   {
    "duration": 8,
    "start_time": "2021-10-03T19:06:50.173Z"
   },
   {
    "duration": 5,
    "start_time": "2021-10-03T19:06:51.795Z"
   },
   {
    "duration": 11,
    "start_time": "2021-10-03T19:06:52.460Z"
   },
   {
    "duration": 109,
    "start_time": "2021-10-03T19:06:55.407Z"
   },
   {
    "duration": 346,
    "start_time": "2021-10-03T19:06:56.556Z"
   },
   {
    "duration": 314,
    "start_time": "2021-10-03T19:06:58.516Z"
   },
   {
    "duration": 328,
    "start_time": "2021-10-03T19:06:59.679Z"
   },
   {
    "duration": 3,
    "start_time": "2021-10-03T19:08:23.506Z"
   },
   {
    "duration": 402,
    "start_time": "2021-10-03T19:11:16.317Z"
   },
   {
    "duration": 391,
    "start_time": "2021-10-03T19:11:25.975Z"
   },
   {
    "duration": 334,
    "start_time": "2021-10-03T19:11:34.140Z"
   },
   {
    "duration": 328,
    "start_time": "2021-10-03T19:12:17.780Z"
   },
   {
    "duration": 104,
    "start_time": "2021-10-03T19:12:35.069Z"
   },
   {
    "duration": 375,
    "start_time": "2021-10-03T19:12:39.069Z"
   },
   {
    "duration": 270,
    "start_time": "2021-10-03T19:14:08.110Z"
   },
   {
    "duration": 352,
    "start_time": "2021-10-03T19:14:29.983Z"
   },
   {
    "duration": 331,
    "start_time": "2021-10-03T19:14:32.175Z"
   },
   {
    "duration": 310,
    "start_time": "2021-10-03T19:16:20.670Z"
   },
   {
    "duration": 282,
    "start_time": "2021-10-03T19:17:59.139Z"
   },
   {
    "duration": 342,
    "start_time": "2021-10-03T19:18:07.096Z"
   },
   {
    "duration": 2262,
    "start_time": "2021-10-03T19:18:20.844Z"
   },
   {
    "duration": 2460,
    "start_time": "2021-10-03T19:18:33.649Z"
   },
   {
    "duration": 4,
    "start_time": "2021-10-03T19:20:55.784Z"
   },
   {
    "duration": 4,
    "start_time": "2021-10-03T19:21:41.392Z"
   },
   {
    "duration": 283,
    "start_time": "2021-10-03T19:21:48.452Z"
   },
   {
    "duration": 14,
    "start_time": "2021-10-03T19:21:58.006Z"
   },
   {
    "duration": 1924,
    "start_time": "2021-10-03T19:22:00.010Z"
   },
   {
    "duration": 12,
    "start_time": "2021-10-03T19:22:32.948Z"
   },
   {
    "duration": 2030,
    "start_time": "2021-10-03T19:22:36.152Z"
   },
   {
    "duration": 9,
    "start_time": "2021-10-03T19:22:44.448Z"
   },
   {
    "duration": 2470,
    "start_time": "2021-10-03T19:22:45.981Z"
   },
   {
    "duration": 9,
    "start_time": "2021-10-03T19:22:59.034Z"
   },
   {
    "duration": 2032,
    "start_time": "2021-10-03T19:23:00.449Z"
   },
   {
    "duration": 9,
    "start_time": "2021-10-03T19:23:24.319Z"
   },
   {
    "duration": 2255,
    "start_time": "2021-10-03T19:23:28.456Z"
   },
   {
    "duration": 4,
    "start_time": "2021-10-03T19:23:41.084Z"
   },
   {
    "duration": 661,
    "start_time": "2021-10-03T19:23:42.412Z"
   },
   {
    "duration": 5,
    "start_time": "2021-10-03T19:23:55.895Z"
   },
   {
    "duration": 647,
    "start_time": "2021-10-03T19:23:57.538Z"
   },
   {
    "duration": 342,
    "start_time": "2021-10-03T19:25:12.413Z"
   }
  ],
  "kernelspec": {
   "display_name": "Python 3",
   "language": "python",
   "name": "python3"
  },
  "language_info": {
   "codemirror_mode": {
    "name": "ipython",
    "version": 3
   },
   "file_extension": ".py",
   "mimetype": "text/x-python",
   "name": "python",
   "nbconvert_exporter": "python",
   "pygments_lexer": "ipython3",
   "version": "3.8.3"
  },
  "toc": {
   "base_numbering": 1,
   "nav_menu": {},
   "number_sections": true,
   "sideBar": true,
   "skip_h1_title": true,
   "title_cell": "Table of Contents",
   "title_sidebar": "Contents",
   "toc_cell": false,
   "toc_position": {},
   "toc_section_display": true,
   "toc_window_display": false
  }
 },
 "nbformat": 4,
 "nbformat_minor": 2
}
