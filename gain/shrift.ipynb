{
 "cells": [
  {
   "cell_type": "markdown",
   "metadata": {},
   "source": [
    "# Проект"
   ]
  },
  {
   "cell_type": "markdown",
   "metadata": {},
   "source": [
    "## Описание проекта ##"
   ]
  },
  {
   "cell_type": "markdown",
   "metadata": {},
   "source": [
    "Вы — аналитик крупного интернет-магазина. Вместе с отделом маркетинга вы подготовили список гипотез для увеличения выручки.\n",
    "Приоритизируйте гипотезы, запустите A/B-тест и проанализируйте результаты."
   ]
  },
  {
   "cell_type": "markdown",
   "metadata": {},
   "source": [
    "## Описание данных"
   ]
  },
  {
   "cell_type": "markdown",
   "metadata": {},
   "source": [
    "### 1 часть"
   ]
  },
  {
   "cell_type": "markdown",
   "metadata": {},
   "source": [
    "- Hypothesis — краткое описание гипотезы;\n",
    "- Reach — охват пользователей по 10-балльной шкале;\n",
    "- Impact — влияние на пользователей по 10-балльной шкале;\n",
    "- Confidence — уверенность в гипотезе по 10-балльной шкале;\n",
    "- Efforts — затраты ресурсов на проверку гипотезы по 10-балльной шкале. Чем больше значение Efforts, тем дороже проверка гипотезы."
   ]
  },
  {
   "cell_type": "markdown",
   "metadata": {},
   "source": [
    "### 2 часть"
   ]
  },
  {
   "cell_type": "markdown",
   "metadata": {},
   "source": [
    "Файл /datasets/orders.csv :\n",
    "- transactionId — идентификатор заказа;\n",
    "- visitorId — идентификатор пользователя, совершившего заказ;\n",
    "- date — дата, когда был совершён заказ;\n",
    "- revenue — выручка заказа;\n",
    "- group — группа A/B-теста, в которую попал заказ.\n",
    "\n",
    "Файл /datasets/visitors.csv :\n",
    "- date — дата;\n",
    "- group — группа A/B-теста;\n",
    "-visitors — количество пользователей в указанную дату в указанной группе A/B-теста"
   ]
  },
  {
   "cell_type": "markdown",
   "metadata": {},
   "source": [
    "## Работа с данными"
   ]
  },
  {
   "cell_type": "code",
   "execution_count": 21,
   "metadata": {},
   "outputs": [],
   "source": [
    "import pandas as pd\n",
    "import datetime as dt\n",
    "import numpy as np\n",
    "import matplotlib.pyplot as plt\n",
    "import scipy.stats as stats"
   ]
  },
  {
   "cell_type": "code",
   "execution_count": 22,
   "metadata": {},
   "outputs": [],
   "source": [
    "import warnings\n",
    "warnings.filterwarnings(\"ignore\", category=FutureWarning)"
   ]
  },
  {
   "cell_type": "code",
   "execution_count": 23,
   "metadata": {},
   "outputs": [],
   "source": [
    "data = pd.read_csv('/datasets/hypothesis.csv')"
   ]
  },
  {
   "cell_type": "code",
   "execution_count": 24,
   "metadata": {
    "scrolled": true
   },
   "outputs": [],
   "source": [
    "pd.set_option('display.max_columns', None)\n",
    "pd.options.display.max_colwidth = 150  "
   ]
  },
  {
   "cell_type": "code",
   "execution_count": 25,
   "metadata": {},
   "outputs": [
    {
     "data": {
      "text/html": [
       "<div>\n",
       "<style scoped>\n",
       "    .dataframe tbody tr th:only-of-type {\n",
       "        vertical-align: middle;\n",
       "    }\n",
       "\n",
       "    .dataframe tbody tr th {\n",
       "        vertical-align: top;\n",
       "    }\n",
       "\n",
       "    .dataframe thead th {\n",
       "        text-align: right;\n",
       "    }\n",
       "</style>\n",
       "<table border=\"1\" class=\"dataframe\">\n",
       "  <thead>\n",
       "    <tr style=\"text-align: right;\">\n",
       "      <th></th>\n",
       "      <th>Hypothesis</th>\n",
       "      <th>Reach</th>\n",
       "      <th>Impact</th>\n",
       "      <th>Confidence</th>\n",
       "      <th>Efforts</th>\n",
       "    </tr>\n",
       "  </thead>\n",
       "  <tbody>\n",
       "    <tr>\n",
       "      <td>0</td>\n",
       "      <td>Добавить два новых канала привлечения трафика, что позволит привлекать на 30% больше пользователей</td>\n",
       "      <td>3</td>\n",
       "      <td>10</td>\n",
       "      <td>8</td>\n",
       "      <td>6</td>\n",
       "    </tr>\n",
       "    <tr>\n",
       "      <td>1</td>\n",
       "      <td>Запустить собственную службу доставки, что сократит срок доставки заказов</td>\n",
       "      <td>2</td>\n",
       "      <td>5</td>\n",
       "      <td>4</td>\n",
       "      <td>10</td>\n",
       "    </tr>\n",
       "    <tr>\n",
       "      <td>2</td>\n",
       "      <td>Добавить блоки рекомендаций товаров на сайт интернет магазина, чтобы повысить конверсию и средний чек заказа</td>\n",
       "      <td>8</td>\n",
       "      <td>3</td>\n",
       "      <td>7</td>\n",
       "      <td>3</td>\n",
       "    </tr>\n",
       "    <tr>\n",
       "      <td>3</td>\n",
       "      <td>Изменить структура категорий, что увеличит конверсию, т.к. пользователи быстрее найдут нужный товар</td>\n",
       "      <td>8</td>\n",
       "      <td>3</td>\n",
       "      <td>3</td>\n",
       "      <td>8</td>\n",
       "    </tr>\n",
       "    <tr>\n",
       "      <td>4</td>\n",
       "      <td>Изменить цвет фона главной страницы, чтобы увеличить вовлеченность пользователей</td>\n",
       "      <td>3</td>\n",
       "      <td>1</td>\n",
       "      <td>1</td>\n",
       "      <td>1</td>\n",
       "    </tr>\n",
       "    <tr>\n",
       "      <td>5</td>\n",
       "      <td>Добавить страницу отзывов клиентов о магазине, что позволит увеличить количество заказов</td>\n",
       "      <td>3</td>\n",
       "      <td>2</td>\n",
       "      <td>2</td>\n",
       "      <td>3</td>\n",
       "    </tr>\n",
       "    <tr>\n",
       "      <td>6</td>\n",
       "      <td>Показать на главной странице баннеры с актуальными акциями и распродажами, чтобы увеличить конверсию</td>\n",
       "      <td>5</td>\n",
       "      <td>3</td>\n",
       "      <td>8</td>\n",
       "      <td>3</td>\n",
       "    </tr>\n",
       "    <tr>\n",
       "      <td>7</td>\n",
       "      <td>Добавить форму подписки на все основные страницы, чтобы собрать базу клиентов для email-рассылок</td>\n",
       "      <td>10</td>\n",
       "      <td>7</td>\n",
       "      <td>8</td>\n",
       "      <td>5</td>\n",
       "    </tr>\n",
       "    <tr>\n",
       "      <td>8</td>\n",
       "      <td>Запустить акцию, дающую скидку на товар в день рождения</td>\n",
       "      <td>1</td>\n",
       "      <td>9</td>\n",
       "      <td>9</td>\n",
       "      <td>5</td>\n",
       "    </tr>\n",
       "  </tbody>\n",
       "</table>\n",
       "</div>"
      ],
      "text/plain": [
       "                                                                                                     Hypothesis  \\\n",
       "0            Добавить два новых канала привлечения трафика, что позволит привлекать на 30% больше пользователей   \n",
       "1                                     Запустить собственную службу доставки, что сократит срок доставки заказов   \n",
       "2  Добавить блоки рекомендаций товаров на сайт интернет магазина, чтобы повысить конверсию и средний чек заказа   \n",
       "3           Изменить структура категорий, что увеличит конверсию, т.к. пользователи быстрее найдут нужный товар   \n",
       "4                              Изменить цвет фона главной страницы, чтобы увеличить вовлеченность пользователей   \n",
       "5                      Добавить страницу отзывов клиентов о магазине, что позволит увеличить количество заказов   \n",
       "6          Показать на главной странице баннеры с актуальными акциями и распродажами, чтобы увеличить конверсию   \n",
       "7              Добавить форму подписки на все основные страницы, чтобы собрать базу клиентов для email-рассылок   \n",
       "8                                                       Запустить акцию, дающую скидку на товар в день рождения   \n",
       "\n",
       "   Reach  Impact  Confidence  Efforts  \n",
       "0      3      10           8        6  \n",
       "1      2       5           4       10  \n",
       "2      8       3           7        3  \n",
       "3      8       3           3        8  \n",
       "4      3       1           1        1  \n",
       "5      3       2           2        3  \n",
       "6      5       3           8        3  \n",
       "7     10       7           8        5  \n",
       "8      1       9           9        5  "
      ]
     },
     "execution_count": 25,
     "metadata": {},
     "output_type": "execute_result"
    }
   ],
   "source": [
    "data"
   ]
  },
  {
   "cell_type": "code",
   "execution_count": 48,
   "metadata": {},
   "outputs": [],
   "source": [
    "orders = pd.read_csv('/datasets/orders.csv')"
   ]
  },
  {
   "cell_type": "code",
   "execution_count": 49,
   "metadata": {},
   "outputs": [],
   "source": [
    "visitors = pd.read_csv('/datasets/visitors.csv')"
   ]
  },
  {
   "cell_type": "code",
   "execution_count": 50,
   "metadata": {
    "scrolled": true
   },
   "outputs": [],
   "source": [
    "orders['date'] = orders['date'].map(\n",
    "    lambda x: dt.datetime.strptime(x, '%Y-%m-%d')\n",
    ")"
   ]
  },
  {
   "cell_type": "code",
   "execution_count": 51,
   "metadata": {},
   "outputs": [],
   "source": [
    "visitors['date'] = visitors['date'].map(\n",
    "    lambda x: dt.datetime.strptime(x, '%Y-%m-%d')\n",
    ")"
   ]
  },
  {
   "cell_type": "code",
   "execution_count": 52,
   "metadata": {},
   "outputs": [
    {
     "data": {
      "text/plain": [
       "0"
      ]
     },
     "execution_count": 52,
     "metadata": {},
     "output_type": "execute_result"
    }
   ],
   "source": [
    "orders.duplicated().sum()"
   ]
  },
  {
   "cell_type": "code",
   "execution_count": 53,
   "metadata": {},
   "outputs": [
    {
     "data": {
      "text/plain": [
       "0"
      ]
     },
     "execution_count": 53,
     "metadata": {},
     "output_type": "execute_result"
    }
   ],
   "source": [
    "visitors.duplicated().sum()"
   ]
  },
  {
   "cell_type": "code",
   "execution_count": 54,
   "metadata": {
    "scrolled": true
   },
   "outputs": [
    {
     "data": {
      "text/plain": [
       "transactionId    0\n",
       "visitorId        0\n",
       "date             0\n",
       "revenue          0\n",
       "group            0\n",
       "dtype: int64"
      ]
     },
     "execution_count": 54,
     "metadata": {},
     "output_type": "execute_result"
    }
   ],
   "source": [
    "orders.isna().sum()"
   ]
  },
  {
   "cell_type": "code",
   "execution_count": 55,
   "metadata": {
    "scrolled": true
   },
   "outputs": [
    {
     "data": {
      "text/plain": [
       "date        0\n",
       "group       0\n",
       "visitors    0\n",
       "dtype: int64"
      ]
     },
     "execution_count": 55,
     "metadata": {},
     "output_type": "execute_result"
    }
   ],
   "source": [
    "visitors.isna().sum()"
   ]
  },
  {
   "cell_type": "code",
   "execution_count": 56,
   "metadata": {
    "scrolled": true
   },
   "outputs": [],
   "source": [
    "a = orders.groupby('visitorId').count().reset_index()\n",
    "a = a[a['group'] == 2]\n",
    "\n",
    "l = a['visitorId']"
   ]
  },
  {
   "cell_type": "code",
   "execution_count": 57,
   "metadata": {},
   "outputs": [
    {
     "data": {
      "text/html": [
       "<div>\n",
       "<style scoped>\n",
       "    .dataframe tbody tr th:only-of-type {\n",
       "        vertical-align: middle;\n",
       "    }\n",
       "\n",
       "    .dataframe tbody tr th {\n",
       "        vertical-align: top;\n",
       "    }\n",
       "\n",
       "    .dataframe thead th {\n",
       "        text-align: right;\n",
       "    }\n",
       "</style>\n",
       "<table border=\"1\" class=\"dataframe\">\n",
       "  <thead>\n",
       "    <tr style=\"text-align: right;\">\n",
       "      <th></th>\n",
       "      <th>group</th>\n",
       "    </tr>\n",
       "    <tr>\n",
       "      <th>visitorId</th>\n",
       "      <th></th>\n",
       "    </tr>\n",
       "  </thead>\n",
       "  <tbody>\n",
       "    <tr>\n",
       "      <td>5114589</td>\n",
       "      <td>1</td>\n",
       "    </tr>\n",
       "    <tr>\n",
       "      <td>6958315</td>\n",
       "      <td>1</td>\n",
       "    </tr>\n",
       "    <tr>\n",
       "      <td>8300375</td>\n",
       "      <td>2</td>\n",
       "    </tr>\n",
       "    <tr>\n",
       "      <td>11685486</td>\n",
       "      <td>1</td>\n",
       "    </tr>\n",
       "    <tr>\n",
       "      <td>39475350</td>\n",
       "      <td>1</td>\n",
       "    </tr>\n",
       "    <tr>\n",
       "      <td>...</td>\n",
       "      <td>...</td>\n",
       "    </tr>\n",
       "    <tr>\n",
       "      <td>4266935830</td>\n",
       "      <td>2</td>\n",
       "    </tr>\n",
       "    <tr>\n",
       "      <td>4278982564</td>\n",
       "      <td>1</td>\n",
       "    </tr>\n",
       "    <tr>\n",
       "      <td>4279090005</td>\n",
       "      <td>1</td>\n",
       "    </tr>\n",
       "    <tr>\n",
       "      <td>4281247801</td>\n",
       "      <td>1</td>\n",
       "    </tr>\n",
       "    <tr>\n",
       "      <td>4283872382</td>\n",
       "      <td>1</td>\n",
       "    </tr>\n",
       "  </tbody>\n",
       "</table>\n",
       "<p>1031 rows × 1 columns</p>\n",
       "</div>"
      ],
      "text/plain": [
       "            group\n",
       "visitorId        \n",
       "5114589         1\n",
       "6958315         1\n",
       "8300375         2\n",
       "11685486        1\n",
       "39475350        1\n",
       "...           ...\n",
       "4266935830      2\n",
       "4278982564      1\n",
       "4279090005      1\n",
       "4281247801      1\n",
       "4283872382      1\n",
       "\n",
       "[1031 rows x 1 columns]"
      ]
     },
     "execution_count": 57,
     "metadata": {},
     "output_type": "execute_result"
    }
   ],
   "source": [
    "orders = orders.groupby('visitorId').agg({'group':'nunique'})\n",
    "orders"
   ]
  },
  {
   "cell_type": "markdown",
   "metadata": {},
   "source": [
    "### Вывод"
   ]
  },
  {
   "cell_type": "markdown",
   "metadata": {},
   "source": [
    "Можно сказать, что данные чистые, дубликатов нет, пропущенных значений тоже, есть данные которые пересекаются, то есть люди входят в одну и в другую группу. Можем приступать к анализу дальше."
   ]
  },
  {
   "cell_type": "markdown",
   "metadata": {},
   "source": [
    "## Приоритизация гипотез."
   ]
  },
  {
   "cell_type": "markdown",
   "metadata": {},
   "source": [
    "Рассчитаем ICE для гипотез."
   ]
  },
  {
   "cell_type": "code",
   "execution_count": 17,
   "metadata": {},
   "outputs": [],
   "source": [
    "data['ICE'] = (data['Impact']*data['Confidence']) / data['Efforts']"
   ]
  },
  {
   "cell_type": "code",
   "execution_count": 18,
   "metadata": {},
   "outputs": [
    {
     "data": {
      "text/html": [
       "<div>\n",
       "<style scoped>\n",
       "    .dataframe tbody tr th:only-of-type {\n",
       "        vertical-align: middle;\n",
       "    }\n",
       "\n",
       "    .dataframe tbody tr th {\n",
       "        vertical-align: top;\n",
       "    }\n",
       "\n",
       "    .dataframe thead th {\n",
       "        text-align: right;\n",
       "    }\n",
       "</style>\n",
       "<table border=\"1\" class=\"dataframe\">\n",
       "  <thead>\n",
       "    <tr style=\"text-align: right;\">\n",
       "      <th></th>\n",
       "      <th>Hypothesis</th>\n",
       "      <th>Reach</th>\n",
       "      <th>Impact</th>\n",
       "      <th>Confidence</th>\n",
       "      <th>Efforts</th>\n",
       "      <th>ICE</th>\n",
       "    </tr>\n",
       "  </thead>\n",
       "  <tbody>\n",
       "    <tr>\n",
       "      <td>8</td>\n",
       "      <td>Запустить акцию, дающую скидку на товар в день рождения</td>\n",
       "      <td>1</td>\n",
       "      <td>9</td>\n",
       "      <td>9</td>\n",
       "      <td>5</td>\n",
       "      <td>16.0</td>\n",
       "    </tr>\n",
       "    <tr>\n",
       "      <td>0</td>\n",
       "      <td>Добавить два новых канала привлечения трафика, что позволит привлекать на 30% больше пользователей</td>\n",
       "      <td>3</td>\n",
       "      <td>10</td>\n",
       "      <td>8</td>\n",
       "      <td>6</td>\n",
       "      <td>13.0</td>\n",
       "    </tr>\n",
       "    <tr>\n",
       "      <td>7</td>\n",
       "      <td>Добавить форму подписки на все основные страницы, чтобы собрать базу клиентов для email-рассылок</td>\n",
       "      <td>10</td>\n",
       "      <td>7</td>\n",
       "      <td>8</td>\n",
       "      <td>5</td>\n",
       "      <td>11.0</td>\n",
       "    </tr>\n",
       "    <tr>\n",
       "      <td>6</td>\n",
       "      <td>Показать на главной странице баннеры с актуальными акциями и распродажами, чтобы увеличить конверсию</td>\n",
       "      <td>5</td>\n",
       "      <td>3</td>\n",
       "      <td>8</td>\n",
       "      <td>3</td>\n",
       "      <td>8.0</td>\n",
       "    </tr>\n",
       "    <tr>\n",
       "      <td>2</td>\n",
       "      <td>Добавить блоки рекомендаций товаров на сайт интернет магазина, чтобы повысить конверсию и средний чек заказа</td>\n",
       "      <td>8</td>\n",
       "      <td>3</td>\n",
       "      <td>7</td>\n",
       "      <td>3</td>\n",
       "      <td>7.0</td>\n",
       "    </tr>\n",
       "    <tr>\n",
       "      <td>1</td>\n",
       "      <td>Запустить собственную службу доставки, что сократит срок доставки заказов</td>\n",
       "      <td>2</td>\n",
       "      <td>5</td>\n",
       "      <td>4</td>\n",
       "      <td>10</td>\n",
       "      <td>2.0</td>\n",
       "    </tr>\n",
       "    <tr>\n",
       "      <td>5</td>\n",
       "      <td>Добавить страницу отзывов клиентов о магазине, что позволит увеличить количество заказов</td>\n",
       "      <td>3</td>\n",
       "      <td>2</td>\n",
       "      <td>2</td>\n",
       "      <td>3</td>\n",
       "      <td>1.0</td>\n",
       "    </tr>\n",
       "    <tr>\n",
       "      <td>3</td>\n",
       "      <td>Изменить структура категорий, что увеличит конверсию, т.к. пользователи быстрее найдут нужный товар</td>\n",
       "      <td>8</td>\n",
       "      <td>3</td>\n",
       "      <td>3</td>\n",
       "      <td>8</td>\n",
       "      <td>1.0</td>\n",
       "    </tr>\n",
       "    <tr>\n",
       "      <td>4</td>\n",
       "      <td>Изменить цвет фона главной страницы, чтобы увеличить вовлеченность пользователей</td>\n",
       "      <td>3</td>\n",
       "      <td>1</td>\n",
       "      <td>1</td>\n",
       "      <td>1</td>\n",
       "      <td>1.0</td>\n",
       "    </tr>\n",
       "  </tbody>\n",
       "</table>\n",
       "</div>"
      ],
      "text/plain": [
       "                                                                                                     Hypothesis  \\\n",
       "8                                                       Запустить акцию, дающую скидку на товар в день рождения   \n",
       "0            Добавить два новых канала привлечения трафика, что позволит привлекать на 30% больше пользователей   \n",
       "7              Добавить форму подписки на все основные страницы, чтобы собрать базу клиентов для email-рассылок   \n",
       "6          Показать на главной странице баннеры с актуальными акциями и распродажами, чтобы увеличить конверсию   \n",
       "2  Добавить блоки рекомендаций товаров на сайт интернет магазина, чтобы повысить конверсию и средний чек заказа   \n",
       "1                                     Запустить собственную службу доставки, что сократит срок доставки заказов   \n",
       "5                      Добавить страницу отзывов клиентов о магазине, что позволит увеличить количество заказов   \n",
       "3           Изменить структура категорий, что увеличит конверсию, т.к. пользователи быстрее найдут нужный товар   \n",
       "4                              Изменить цвет фона главной страницы, чтобы увеличить вовлеченность пользователей   \n",
       "\n",
       "   Reach  Impact  Confidence  Efforts   ICE  \n",
       "8      1       9           9        5  16.0  \n",
       "0      3      10           8        6  13.0  \n",
       "7     10       7           8        5  11.0  \n",
       "6      5       3           8        3   8.0  \n",
       "2      8       3           7        3   7.0  \n",
       "1      2       5           4       10   2.0  \n",
       "5      3       2           2        3   1.0  \n",
       "3      8       3           3        8   1.0  \n",
       "4      3       1           1        1   1.0  "
      ]
     },
     "execution_count": 18,
     "metadata": {},
     "output_type": "execute_result"
    }
   ],
   "source": [
    "data.sort_values(by='ICE', ascending=False).round()"
   ]
  },
  {
   "cell_type": "markdown",
   "metadata": {},
   "source": [
    "Видим, что по ICE наиболее перспективные гипотезы: 9,1 (\"Запустить акцию, дающую скидку на товар в день рождения\" и \"Добавить два новых канала привлечения трафика, что позволит привлекать на 30% больше пользователей\")"
   ]
  },
  {
   "cell_type": "markdown",
   "metadata": {},
   "source": [
    "Рассчитаем RICE для гипотез."
   ]
  },
  {
   "cell_type": "code",
   "execution_count": 19,
   "metadata": {},
   "outputs": [],
   "source": [
    "data['RICE'] = (data['Reach']*data['Impact']*data['Confidence'])/data['Efforts']"
   ]
  },
  {
   "cell_type": "code",
   "execution_count": 20,
   "metadata": {},
   "outputs": [],
   "source": [
    "def highlight_max(s, props=''):\n",
    "    return np.where(s == np.nanmax(s.values), props, '')\n"
   ]
  },
  {
   "cell_type": "code",
   "execution_count": 21,
   "metadata": {},
   "outputs": [
    {
     "data": {
      "text/html": [
       "<style  type=\"text/css\" >\n",
       "    #T_50d4bfea_40b1_11ec_9ae9_02420a396d02row0_col1 {\n",
       "            color: white;\n",
       "            background-color: darkblue;\n",
       "        }    #T_50d4bfea_40b1_11ec_9ae9_02420a396d02row0_col6 {\n",
       "            color: white;\n",
       "            background-color: darkblue;\n",
       "        }    #T_50d4bfea_40b1_11ec_9ae9_02420a396d02row2_col2 {\n",
       "            color: white;\n",
       "            background-color: darkblue;\n",
       "        }    #T_50d4bfea_40b1_11ec_9ae9_02420a396d02row3_col0 {\n",
       "            color: white;\n",
       "            background-color: darkblue;\n",
       "        }    #T_50d4bfea_40b1_11ec_9ae9_02420a396d02row4_col3 {\n",
       "            color: white;\n",
       "            background-color: darkblue;\n",
       "        }    #T_50d4bfea_40b1_11ec_9ae9_02420a396d02row4_col5 {\n",
       "            color: white;\n",
       "            background-color: darkblue;\n",
       "        }    #T_50d4bfea_40b1_11ec_9ae9_02420a396d02row6_col4 {\n",
       "            color: white;\n",
       "            background-color: darkblue;\n",
       "        }</style><table id=\"T_50d4bfea_40b1_11ec_9ae9_02420a396d02\" ><thead>    <tr>        <th class=\"blank level0\" ></th>        <th class=\"col_heading level0 col0\" >Hypothesis</th>        <th class=\"col_heading level0 col1\" >Reach</th>        <th class=\"col_heading level0 col2\" >Impact</th>        <th class=\"col_heading level0 col3\" >Confidence</th>        <th class=\"col_heading level0 col4\" >Efforts</th>        <th class=\"col_heading level0 col5\" >ICE</th>        <th class=\"col_heading level0 col6\" >RICE</th>    </tr></thead><tbody>\n",
       "                <tr>\n",
       "                        <th id=\"T_50d4bfea_40b1_11ec_9ae9_02420a396d02level0_row0\" class=\"row_heading level0 row0\" >7</th>\n",
       "                        <td id=\"T_50d4bfea_40b1_11ec_9ae9_02420a396d02row0_col0\" class=\"data row0 col0\" >Добавить форму подписки на все основные страницы, чтобы собрать базу клиентов для email-рассылок</td>\n",
       "                        <td id=\"T_50d4bfea_40b1_11ec_9ae9_02420a396d02row0_col1\" class=\"data row0 col1\" >10</td>\n",
       "                        <td id=\"T_50d4bfea_40b1_11ec_9ae9_02420a396d02row0_col2\" class=\"data row0 col2\" >7</td>\n",
       "                        <td id=\"T_50d4bfea_40b1_11ec_9ae9_02420a396d02row0_col3\" class=\"data row0 col3\" >8</td>\n",
       "                        <td id=\"T_50d4bfea_40b1_11ec_9ae9_02420a396d02row0_col4\" class=\"data row0 col4\" >5</td>\n",
       "                        <td id=\"T_50d4bfea_40b1_11ec_9ae9_02420a396d02row0_col5\" class=\"data row0 col5\" >11.2</td>\n",
       "                        <td id=\"T_50d4bfea_40b1_11ec_9ae9_02420a396d02row0_col6\" class=\"data row0 col6\" >112</td>\n",
       "            </tr>\n",
       "            <tr>\n",
       "                        <th id=\"T_50d4bfea_40b1_11ec_9ae9_02420a396d02level0_row1\" class=\"row_heading level0 row1\" >2</th>\n",
       "                        <td id=\"T_50d4bfea_40b1_11ec_9ae9_02420a396d02row1_col0\" class=\"data row1 col0\" >Добавить блоки рекомендаций товаров на сайт интернет магазина, чтобы повысить конверсию и средний чек заказа</td>\n",
       "                        <td id=\"T_50d4bfea_40b1_11ec_9ae9_02420a396d02row1_col1\" class=\"data row1 col1\" >8</td>\n",
       "                        <td id=\"T_50d4bfea_40b1_11ec_9ae9_02420a396d02row1_col2\" class=\"data row1 col2\" >3</td>\n",
       "                        <td id=\"T_50d4bfea_40b1_11ec_9ae9_02420a396d02row1_col3\" class=\"data row1 col3\" >7</td>\n",
       "                        <td id=\"T_50d4bfea_40b1_11ec_9ae9_02420a396d02row1_col4\" class=\"data row1 col4\" >3</td>\n",
       "                        <td id=\"T_50d4bfea_40b1_11ec_9ae9_02420a396d02row1_col5\" class=\"data row1 col5\" >7</td>\n",
       "                        <td id=\"T_50d4bfea_40b1_11ec_9ae9_02420a396d02row1_col6\" class=\"data row1 col6\" >56</td>\n",
       "            </tr>\n",
       "            <tr>\n",
       "                        <th id=\"T_50d4bfea_40b1_11ec_9ae9_02420a396d02level0_row2\" class=\"row_heading level0 row2\" >0</th>\n",
       "                        <td id=\"T_50d4bfea_40b1_11ec_9ae9_02420a396d02row2_col0\" class=\"data row2 col0\" >Добавить два новых канала привлечения трафика, что позволит привлекать на 30% больше пользователей</td>\n",
       "                        <td id=\"T_50d4bfea_40b1_11ec_9ae9_02420a396d02row2_col1\" class=\"data row2 col1\" >3</td>\n",
       "                        <td id=\"T_50d4bfea_40b1_11ec_9ae9_02420a396d02row2_col2\" class=\"data row2 col2\" >10</td>\n",
       "                        <td id=\"T_50d4bfea_40b1_11ec_9ae9_02420a396d02row2_col3\" class=\"data row2 col3\" >8</td>\n",
       "                        <td id=\"T_50d4bfea_40b1_11ec_9ae9_02420a396d02row2_col4\" class=\"data row2 col4\" >6</td>\n",
       "                        <td id=\"T_50d4bfea_40b1_11ec_9ae9_02420a396d02row2_col5\" class=\"data row2 col5\" >13.3333</td>\n",
       "                        <td id=\"T_50d4bfea_40b1_11ec_9ae9_02420a396d02row2_col6\" class=\"data row2 col6\" >40</td>\n",
       "            </tr>\n",
       "            <tr>\n",
       "                        <th id=\"T_50d4bfea_40b1_11ec_9ae9_02420a396d02level0_row3\" class=\"row_heading level0 row3\" >6</th>\n",
       "                        <td id=\"T_50d4bfea_40b1_11ec_9ae9_02420a396d02row3_col0\" class=\"data row3 col0\" >Показать на главной странице баннеры с актуальными акциями и распродажами, чтобы увеличить конверсию</td>\n",
       "                        <td id=\"T_50d4bfea_40b1_11ec_9ae9_02420a396d02row3_col1\" class=\"data row3 col1\" >5</td>\n",
       "                        <td id=\"T_50d4bfea_40b1_11ec_9ae9_02420a396d02row3_col2\" class=\"data row3 col2\" >3</td>\n",
       "                        <td id=\"T_50d4bfea_40b1_11ec_9ae9_02420a396d02row3_col3\" class=\"data row3 col3\" >8</td>\n",
       "                        <td id=\"T_50d4bfea_40b1_11ec_9ae9_02420a396d02row3_col4\" class=\"data row3 col4\" >3</td>\n",
       "                        <td id=\"T_50d4bfea_40b1_11ec_9ae9_02420a396d02row3_col5\" class=\"data row3 col5\" >8</td>\n",
       "                        <td id=\"T_50d4bfea_40b1_11ec_9ae9_02420a396d02row3_col6\" class=\"data row3 col6\" >40</td>\n",
       "            </tr>\n",
       "            <tr>\n",
       "                        <th id=\"T_50d4bfea_40b1_11ec_9ae9_02420a396d02level0_row4\" class=\"row_heading level0 row4\" >8</th>\n",
       "                        <td id=\"T_50d4bfea_40b1_11ec_9ae9_02420a396d02row4_col0\" class=\"data row4 col0\" >Запустить акцию, дающую скидку на товар в день рождения</td>\n",
       "                        <td id=\"T_50d4bfea_40b1_11ec_9ae9_02420a396d02row4_col1\" class=\"data row4 col1\" >1</td>\n",
       "                        <td id=\"T_50d4bfea_40b1_11ec_9ae9_02420a396d02row4_col2\" class=\"data row4 col2\" >9</td>\n",
       "                        <td id=\"T_50d4bfea_40b1_11ec_9ae9_02420a396d02row4_col3\" class=\"data row4 col3\" >9</td>\n",
       "                        <td id=\"T_50d4bfea_40b1_11ec_9ae9_02420a396d02row4_col4\" class=\"data row4 col4\" >5</td>\n",
       "                        <td id=\"T_50d4bfea_40b1_11ec_9ae9_02420a396d02row4_col5\" class=\"data row4 col5\" >16.2</td>\n",
       "                        <td id=\"T_50d4bfea_40b1_11ec_9ae9_02420a396d02row4_col6\" class=\"data row4 col6\" >16.2</td>\n",
       "            </tr>\n",
       "            <tr>\n",
       "                        <th id=\"T_50d4bfea_40b1_11ec_9ae9_02420a396d02level0_row5\" class=\"row_heading level0 row5\" >3</th>\n",
       "                        <td id=\"T_50d4bfea_40b1_11ec_9ae9_02420a396d02row5_col0\" class=\"data row5 col0\" >Изменить структура категорий, что увеличит конверсию, т.к. пользователи быстрее найдут нужный товар</td>\n",
       "                        <td id=\"T_50d4bfea_40b1_11ec_9ae9_02420a396d02row5_col1\" class=\"data row5 col1\" >8</td>\n",
       "                        <td id=\"T_50d4bfea_40b1_11ec_9ae9_02420a396d02row5_col2\" class=\"data row5 col2\" >3</td>\n",
       "                        <td id=\"T_50d4bfea_40b1_11ec_9ae9_02420a396d02row5_col3\" class=\"data row5 col3\" >3</td>\n",
       "                        <td id=\"T_50d4bfea_40b1_11ec_9ae9_02420a396d02row5_col4\" class=\"data row5 col4\" >8</td>\n",
       "                        <td id=\"T_50d4bfea_40b1_11ec_9ae9_02420a396d02row5_col5\" class=\"data row5 col5\" >1.125</td>\n",
       "                        <td id=\"T_50d4bfea_40b1_11ec_9ae9_02420a396d02row5_col6\" class=\"data row5 col6\" >9</td>\n",
       "            </tr>\n",
       "            <tr>\n",
       "                        <th id=\"T_50d4bfea_40b1_11ec_9ae9_02420a396d02level0_row6\" class=\"row_heading level0 row6\" >1</th>\n",
       "                        <td id=\"T_50d4bfea_40b1_11ec_9ae9_02420a396d02row6_col0\" class=\"data row6 col0\" >Запустить собственную службу доставки, что сократит срок доставки заказов</td>\n",
       "                        <td id=\"T_50d4bfea_40b1_11ec_9ae9_02420a396d02row6_col1\" class=\"data row6 col1\" >2</td>\n",
       "                        <td id=\"T_50d4bfea_40b1_11ec_9ae9_02420a396d02row6_col2\" class=\"data row6 col2\" >5</td>\n",
       "                        <td id=\"T_50d4bfea_40b1_11ec_9ae9_02420a396d02row6_col3\" class=\"data row6 col3\" >4</td>\n",
       "                        <td id=\"T_50d4bfea_40b1_11ec_9ae9_02420a396d02row6_col4\" class=\"data row6 col4\" >10</td>\n",
       "                        <td id=\"T_50d4bfea_40b1_11ec_9ae9_02420a396d02row6_col5\" class=\"data row6 col5\" >2</td>\n",
       "                        <td id=\"T_50d4bfea_40b1_11ec_9ae9_02420a396d02row6_col6\" class=\"data row6 col6\" >4</td>\n",
       "            </tr>\n",
       "            <tr>\n",
       "                        <th id=\"T_50d4bfea_40b1_11ec_9ae9_02420a396d02level0_row7\" class=\"row_heading level0 row7\" >5</th>\n",
       "                        <td id=\"T_50d4bfea_40b1_11ec_9ae9_02420a396d02row7_col0\" class=\"data row7 col0\" >Добавить страницу отзывов клиентов о магазине, что позволит увеличить количество заказов</td>\n",
       "                        <td id=\"T_50d4bfea_40b1_11ec_9ae9_02420a396d02row7_col1\" class=\"data row7 col1\" >3</td>\n",
       "                        <td id=\"T_50d4bfea_40b1_11ec_9ae9_02420a396d02row7_col2\" class=\"data row7 col2\" >2</td>\n",
       "                        <td id=\"T_50d4bfea_40b1_11ec_9ae9_02420a396d02row7_col3\" class=\"data row7 col3\" >2</td>\n",
       "                        <td id=\"T_50d4bfea_40b1_11ec_9ae9_02420a396d02row7_col4\" class=\"data row7 col4\" >3</td>\n",
       "                        <td id=\"T_50d4bfea_40b1_11ec_9ae9_02420a396d02row7_col5\" class=\"data row7 col5\" >1.33333</td>\n",
       "                        <td id=\"T_50d4bfea_40b1_11ec_9ae9_02420a396d02row7_col6\" class=\"data row7 col6\" >4</td>\n",
       "            </tr>\n",
       "            <tr>\n",
       "                        <th id=\"T_50d4bfea_40b1_11ec_9ae9_02420a396d02level0_row8\" class=\"row_heading level0 row8\" >4</th>\n",
       "                        <td id=\"T_50d4bfea_40b1_11ec_9ae9_02420a396d02row8_col0\" class=\"data row8 col0\" >Изменить цвет фона главной страницы, чтобы увеличить вовлеченность пользователей</td>\n",
       "                        <td id=\"T_50d4bfea_40b1_11ec_9ae9_02420a396d02row8_col1\" class=\"data row8 col1\" >3</td>\n",
       "                        <td id=\"T_50d4bfea_40b1_11ec_9ae9_02420a396d02row8_col2\" class=\"data row8 col2\" >1</td>\n",
       "                        <td id=\"T_50d4bfea_40b1_11ec_9ae9_02420a396d02row8_col3\" class=\"data row8 col3\" >1</td>\n",
       "                        <td id=\"T_50d4bfea_40b1_11ec_9ae9_02420a396d02row8_col4\" class=\"data row8 col4\" >1</td>\n",
       "                        <td id=\"T_50d4bfea_40b1_11ec_9ae9_02420a396d02row8_col5\" class=\"data row8 col5\" >1</td>\n",
       "                        <td id=\"T_50d4bfea_40b1_11ec_9ae9_02420a396d02row8_col6\" class=\"data row8 col6\" >3</td>\n",
       "            </tr>\n",
       "    </tbody></table>"
      ],
      "text/plain": [
       "<pandas.io.formats.style.Styler at 0x7f01a199ded0>"
      ]
     },
     "execution_count": 21,
     "metadata": {},
     "output_type": "execute_result"
    }
   ],
   "source": [
    "data.sort_values(by='RICE', ascending=False).style.apply(highlight_max, props='color:white;background-color:darkblue', axis=0)"
   ]
  },
  {
   "cell_type": "markdown",
   "metadata": {},
   "source": [
    "Видим, что по RICE наиболее перспективные гипотезы: 8,3 (\"Добавить форму подписки на все основные страницы, чтобы собрать базу клиентов для email-рассылок\" и \"Добавить блоки рекомендаций товаров на сайт интернет магазина, чтобы повысить конверсию и средний чек заказа\")"
   ]
  },
  {
   "cell_type": "markdown",
   "metadata": {},
   "source": [
    "### Вывод"
   ]
  },
  {
   "cell_type": "markdown",
   "metadata": {},
   "source": [
    "Приоритизация гипотез поменялась из-за того, что у 8 и 3 гипотез очень большое значение у параметра Reach, что значит, что эти гипотезы затронут много людей. Предлагаю проверить именно их (\"Добавить форму подписки на все основные страницы, чтобы собрать базу клиентов для email-рассылок\" и \"Добавить блоки рекомендаций товаров на сайт интернет магазина, чтобы повысить конверсию и средний чек заказа\")"
   ]
  },
  {
   "cell_type": "markdown",
   "metadata": {},
   "source": [
    "## Анализ A/B-теста"
   ]
  },
  {
   "cell_type": "markdown",
   "metadata": {},
   "source": [
    "### Построим график кумулятивной выручки по группам."
   ]
  },
  {
   "cell_type": "code",
   "execution_count": 22,
   "metadata": {},
   "outputs": [],
   "source": [
    "datesGroup = orders[['date', 'group']].drop_duplicates()"
   ]
  },
  {
   "cell_type": "code",
   "execution_count": 23,
   "metadata": {},
   "outputs": [],
   "source": [
    "ordersAggregated = datesGroup.apply(lambda x : orders[np.logical_and(orders['date'] <= x['date'], orders['group']==x['group'])].agg({\n",
    "    'date':'max',\n",
    "    'group' : 'max',\n",
    "    'transactionId': pd.Series.nunique,\n",
    "    'visitorId' : pd.Series.nunique,\n",
    "    'revenue':'sum'}), axis=1).sort_values(by=['date','group'])"
   ]
  },
  {
   "cell_type": "code",
   "execution_count": 24,
   "metadata": {},
   "outputs": [],
   "source": [
    "visitorsAggregated = datesGroup.apply(lambda x : visitors[np.logical_and(visitors['date']<=x['date'], visitors['group']==x['group'])].agg({\n",
    "    'date':'max',\n",
    "    'group':'max',\n",
    "    'visitors':'sum'\n",
    "}), axis=1).sort_values(by=['date', 'group'])"
   ]
  },
  {
   "cell_type": "code",
   "execution_count": 25,
   "metadata": {},
   "outputs": [],
   "source": [
    "cumulativeData = ordersAggregated.merge(visitorsAggregated, on=['date', 'group'])"
   ]
  },
  {
   "cell_type": "code",
   "execution_count": 26,
   "metadata": {},
   "outputs": [
    {
     "data": {
      "text/html": [
       "<div>\n",
       "<style scoped>\n",
       "    .dataframe tbody tr th:only-of-type {\n",
       "        vertical-align: middle;\n",
       "    }\n",
       "\n",
       "    .dataframe tbody tr th {\n",
       "        vertical-align: top;\n",
       "    }\n",
       "\n",
       "    .dataframe thead th {\n",
       "        text-align: right;\n",
       "    }\n",
       "</style>\n",
       "<table border=\"1\" class=\"dataframe\">\n",
       "  <thead>\n",
       "    <tr style=\"text-align: right;\">\n",
       "      <th></th>\n",
       "      <th>date</th>\n",
       "      <th>group</th>\n",
       "      <th>transactionId</th>\n",
       "      <th>visitorId</th>\n",
       "      <th>revenue</th>\n",
       "      <th>visitors</th>\n",
       "    </tr>\n",
       "  </thead>\n",
       "  <tbody>\n",
       "    <tr>\n",
       "      <td>0</td>\n",
       "      <td>2019-08-01</td>\n",
       "      <td>A</td>\n",
       "      <td>21</td>\n",
       "      <td>18</td>\n",
       "      <td>126097</td>\n",
       "      <td>719</td>\n",
       "    </tr>\n",
       "    <tr>\n",
       "      <td>1</td>\n",
       "      <td>2019-08-01</td>\n",
       "      <td>B</td>\n",
       "      <td>19</td>\n",
       "      <td>18</td>\n",
       "      <td>82717</td>\n",
       "      <td>713</td>\n",
       "    </tr>\n",
       "    <tr>\n",
       "      <td>2</td>\n",
       "      <td>2019-08-02</td>\n",
       "      <td>A</td>\n",
       "      <td>37</td>\n",
       "      <td>33</td>\n",
       "      <td>174270</td>\n",
       "      <td>1338</td>\n",
       "    </tr>\n",
       "    <tr>\n",
       "      <td>3</td>\n",
       "      <td>2019-08-02</td>\n",
       "      <td>B</td>\n",
       "      <td>40</td>\n",
       "      <td>39</td>\n",
       "      <td>239878</td>\n",
       "      <td>1294</td>\n",
       "    </tr>\n",
       "    <tr>\n",
       "      <td>4</td>\n",
       "      <td>2019-08-03</td>\n",
       "      <td>A</td>\n",
       "      <td>61</td>\n",
       "      <td>57</td>\n",
       "      <td>286743</td>\n",
       "      <td>1845</td>\n",
       "    </tr>\n",
       "    <tr>\n",
       "      <td>...</td>\n",
       "      <td>...</td>\n",
       "      <td>...</td>\n",
       "      <td>...</td>\n",
       "      <td>...</td>\n",
       "      <td>...</td>\n",
       "      <td>...</td>\n",
       "    </tr>\n",
       "    <tr>\n",
       "      <td>57</td>\n",
       "      <td>2019-08-29</td>\n",
       "      <td>B</td>\n",
       "      <td>533</td>\n",
       "      <td>497</td>\n",
       "      <td>5121197</td>\n",
       "      <td>17708</td>\n",
       "    </tr>\n",
       "    <tr>\n",
       "      <td>58</td>\n",
       "      <td>2019-08-30</td>\n",
       "      <td>A</td>\n",
       "      <td>486</td>\n",
       "      <td>447</td>\n",
       "      <td>3426013</td>\n",
       "      <td>18037</td>\n",
       "    </tr>\n",
       "    <tr>\n",
       "      <td>59</td>\n",
       "      <td>2019-08-30</td>\n",
       "      <td>B</td>\n",
       "      <td>555</td>\n",
       "      <td>518</td>\n",
       "      <td>5332420</td>\n",
       "      <td>18198</td>\n",
       "    </tr>\n",
       "    <tr>\n",
       "      <td>60</td>\n",
       "      <td>2019-08-31</td>\n",
       "      <td>A</td>\n",
       "      <td>496</td>\n",
       "      <td>455</td>\n",
       "      <td>3484996</td>\n",
       "      <td>18736</td>\n",
       "    </tr>\n",
       "    <tr>\n",
       "      <td>61</td>\n",
       "      <td>2019-08-31</td>\n",
       "      <td>B</td>\n",
       "      <td>573</td>\n",
       "      <td>535</td>\n",
       "      <td>5447409</td>\n",
       "      <td>18916</td>\n",
       "    </tr>\n",
       "  </tbody>\n",
       "</table>\n",
       "<p>62 rows × 6 columns</p>\n",
       "</div>"
      ],
      "text/plain": [
       "         date group  transactionId  visitorId  revenue  visitors\n",
       "0  2019-08-01     A             21         18   126097       719\n",
       "1  2019-08-01     B             19         18    82717       713\n",
       "2  2019-08-02     A             37         33   174270      1338\n",
       "3  2019-08-02     B             40         39   239878      1294\n",
       "4  2019-08-03     A             61         57   286743      1845\n",
       "..        ...   ...            ...        ...      ...       ...\n",
       "57 2019-08-29     B            533        497  5121197     17708\n",
       "58 2019-08-30     A            486        447  3426013     18037\n",
       "59 2019-08-30     B            555        518  5332420     18198\n",
       "60 2019-08-31     A            496        455  3484996     18736\n",
       "61 2019-08-31     B            573        535  5447409     18916\n",
       "\n",
       "[62 rows x 6 columns]"
      ]
     },
     "execution_count": 26,
     "metadata": {},
     "output_type": "execute_result"
    }
   ],
   "source": [
    "cumulativeData"
   ]
  },
  {
   "cell_type": "code",
   "execution_count": 27,
   "metadata": {},
   "outputs": [],
   "source": [
    "cumulativeRevenueA = cumulativeData[cumulativeData['group']=='A'][['date','revenue', 'transactionId']]\n",
    "cumulativeRevenueB = cumulativeData[cumulativeData['group']=='B'][['date','revenue', 'transactionId']]"
   ]
  },
  {
   "cell_type": "code",
   "execution_count": 28,
   "metadata": {},
   "outputs": [
    {
     "data": {
      "image/png": "[encoded data removed]",
      "text/plain": [
       "<Figure size 432x288 with 1 Axes>"
      ]
     },
     "metadata": {
      "needs_background": "light"
     },
     "output_type": "display_data"
    }
   ],
   "source": [
    "plt.plot(cumulativeRevenueA['date'], cumulativeRevenueA['revenue'], label='A')\n",
    "plt.plot(cumulativeRevenueB['date'], cumulativeRevenueB['revenue'], label='B')\n",
    "\n",
    "plt.annotate('скачок', xy=('2019-08-17', 2800000), xytext=('2019-08-10', 3500000),\n",
    "            arrowprops=dict(facecolor='g'))\n",
    "plt.annotate('отрыв', xy=('2019-08-05', 800000), xytext=('2019-08-05', 2000000),\n",
    "            arrowprops=dict(facecolor='g')) \n",
    "plt.legend()\n",
    "plt.xticks(rotation=45)\n",
    "plt.title('график кумулятивной выручки по группам')\n",
    "plt.xlabel('дата')\n",
    "plt.ylabel('выручка, руб.')\n",
    "plt.show()"
   ]
  },
  {
   "cell_type": "markdown",
   "metadata": {},
   "source": [
    "#### Вывод"
   ]
  },
  {
   "cell_type": "markdown",
   "metadata": {},
   "source": [
    "На протяжении всего теста сегмент В показывал результаты лучше, чем сегмент А, в конце c явным отрывом группа В лидировала."
   ]
  },
  {
   "cell_type": "markdown",
   "metadata": {},
   "source": [
    "### Построим график кумулятивного среднего чека по группам."
   ]
  },
  {
   "cell_type": "code",
   "execution_count": 29,
   "metadata": {},
   "outputs": [
    {
     "data": {
      "image/png": "[encoded data removed]",
      "text/plain": [
       "<Figure size 432x288 with 1 Axes>"
      ]
     },
     "metadata": {
      "needs_background": "light"
     },
     "output_type": "display_data"
    }
   ],
   "source": [
    "plt.plot(cumulativeRevenueA['date'], cumulativeRevenueA['revenue']/cumulativeRevenueA['transactionId'], label='A')\n",
    "plt.plot(cumulativeRevenueB['date'], cumulativeRevenueB['revenue']/cumulativeRevenueB['transactionId'],label='B')\n",
    "\n",
    "plt.annotate('скачок', xy=('2019-08-18', 7200), xytext=('2019-08-13', 8000),\n",
    "            arrowprops=dict(facecolor='g'))\n",
    "plt.annotate('отрыв', xy=('2019-08-03', 5600), xytext=('2019-08-05', 5600),\n",
    "            arrowprops=dict(facecolor='g')) \n",
    "plt.legend()\n",
    "plt.xticks(rotation=45)\n",
    "plt.title('график кумулятивного среднего чека по группам')\n",
    "plt.xlabel('дата')\n",
    "plt.ylabel('средний чек, руб.')\n",
    "\n",
    "plt.xticks(rotation=45)\n",
    "plt.show()"
   ]
  },
  {
   "cell_type": "markdown",
   "metadata": {},
   "source": [
    "#### Вывод"
   ]
  },
  {
   "cell_type": "markdown",
   "metadata": {},
   "source": [
    "Кумулятивное значение среднего чека колеблется, но в конце теста как будто группа В вышла в лидеры, скорее всего стоит проверить выбросы"
   ]
  },
  {
   "cell_type": "markdown",
   "metadata": {},
   "source": [
    "### Построим график относительного изменения кумулятивного среднего чека группы B к группе A. "
   ]
  },
  {
   "cell_type": "code",
   "execution_count": 30,
   "metadata": {},
   "outputs": [],
   "source": [
    "mergedCumulativeRevenue = cumulativeRevenueA.merge(cumulativeRevenueB, on = 'date', how = 'left',suffixes=['A', 'B'])"
   ]
  },
  {
   "cell_type": "code",
   "execution_count": 31,
   "metadata": {},
   "outputs": [
    {
     "data": {
      "image/png": "[encoded data removed]",
      "text/plain": [
       "<Figure size 432x288 with 1 Axes>"
      ]
     },
     "metadata": {
      "needs_background": "light"
     },
     "output_type": "display_data"
    }
   ],
   "source": [
    "plt.plot(mergedCumulativeRevenue['date'], (mergedCumulativeRevenue['revenueB']/mergedCumulativeRevenue['transactionIdB'])/(mergedCumulativeRevenue['revenueA']/mergedCumulativeRevenue['transactionIdA'])-1)\n",
    "\n",
    "plt.axhline(y=0,color='black', linestyle='--')\n",
    "plt.xticks(rotation=45)\n",
    "plt.show()"
   ]
  },
  {
   "cell_type": "markdown",
   "metadata": {},
   "source": [
    "#### Вывод"
   ]
  },
  {
   "cell_type": "markdown",
   "metadata": {},
   "source": [
    "В паре мест метрика очень сильно меняется, скорее всего, в эти даты были совершены аномальные заказы"
   ]
  },
  {
   "cell_type": "markdown",
   "metadata": {},
   "source": [
    "### Построим график кумулятивной конверсии по группам. "
   ]
  },
  {
   "cell_type": "code",
   "execution_count": 32,
   "metadata": {},
   "outputs": [],
   "source": [
    "cumulativeData['conversion'] = cumulativeData['transactionId']/cumulativeData['visitors']"
   ]
  },
  {
   "cell_type": "code",
   "execution_count": 33,
   "metadata": {},
   "outputs": [],
   "source": [
    "cumulativeDataA = cumulativeData[cumulativeData['group']=='A']\n",
    "cumulativeDataB = cumulativeData[cumulativeData['group']=='B']"
   ]
  },
  {
   "cell_type": "code",
   "execution_count": 34,
   "metadata": {},
   "outputs": [
    {
     "data": {
      "image/png": "[encoded data removed]",
      "text/plain": [
       "<Figure size 432x288 with 1 Axes>"
      ]
     },
     "metadata": {
      "needs_background": "light"
     },
     "output_type": "display_data"
    }
   ],
   "source": [
    "plt.plot(cumulativeDataA['date'], cumulativeDataA['conversion'], label='A')\n",
    "plt.plot(cumulativeDataB['date'], cumulativeDataB['conversion'], label='B')\n",
    "plt.legend()\n",
    "plt.title('график кумулятивной конверсии по группам')\n",
    "plt.xlabel('дата')\n",
    "plt.ylabel('Конверсия')\n",
    "plt.xticks(rotation=45)\n",
    "plt.show()\n"
   ]
  },
  {
   "cell_type": "markdown",
   "metadata": {},
   "source": [
    "#### Вывод"
   ]
  },
  {
   "cell_type": "markdown",
   "metadata": {},
   "source": [
    "Изначально группа А имела большую конверсию, но после сегмент В стабилизировался в среднем значении, большем чем у группы А."
   ]
  },
  {
   "cell_type": "markdown",
   "metadata": {},
   "source": [
    "### Построим график относительного изменения кумулятивной конверсии группы B к группе A"
   ]
  },
  {
   "cell_type": "code",
   "execution_count": 35,
   "metadata": {},
   "outputs": [],
   "source": [
    "mergedCumulativeConversions = cumulativeDataA[['date','conversion']].merge(cumulativeDataB[['date','conversion']], on='date', how='left', suffixes=['A','B'])"
   ]
  },
  {
   "cell_type": "code",
   "execution_count": 36,
   "metadata": {},
   "outputs": [
    {
     "data": {
      "image/png": "[encoded data removed]",
      "text/plain": [
       "<Figure size 432x288 with 1 Axes>"
      ]
     },
     "metadata": {
      "needs_background": "light"
     },
     "output_type": "display_data"
    }
   ],
   "source": [
    "plt.plot(mergedCumulativeConversions['date'], mergedCumulativeConversions['conversionB']/mergedCumulativeConversions['conversionA']-1)\n",
    "plt.axhline(y=0, color='black',linestyle='--')\n",
    "plt.axhline(y=0.05, color='grey', linestyle='--')\n",
    "plt.xticks(rotation=45)\n",
    "plt.title('график относительного изменения кумулятивной конверсии группы B к группе A')\n",
    "plt.xlabel('дата')\n",
    "plt.ylabel('изменение конверсии')\n",
    "plt.xticks(rotation=45)\n",
    "plt.show()"
   ]
  },
  {
   "cell_type": "markdown",
   "metadata": {},
   "source": [
    "### Построим точечный график количества заказов по пользователям. "
   ]
  },
  {
   "cell_type": "code",
   "execution_count": 37,
   "metadata": {},
   "outputs": [],
   "source": [
    "ordersByUsers = orders.drop(['group', 'revenue', 'date'], axis=1)\\\n",
    "                .groupby('visitorId', as_index=False)\\\n",
    "                .agg({'transactionId':pd.Series.nunique})\\\n",
    "                .sort_values('transactionId', ascending=False)\\\n",
    "                .rename(columns = {'transactionId' :'orders'})"
   ]
  },
  {
   "cell_type": "code",
   "execution_count": 38,
   "metadata": {},
   "outputs": [
    {
     "data": {
      "text/html": [
       "<div>\n",
       "<style scoped>\n",
       "    .dataframe tbody tr th:only-of-type {\n",
       "        vertical-align: middle;\n",
       "    }\n",
       "\n",
       "    .dataframe tbody tr th {\n",
       "        vertical-align: top;\n",
       "    }\n",
       "\n",
       "    .dataframe thead th {\n",
       "        text-align: right;\n",
       "    }\n",
       "</style>\n",
       "<table border=\"1\" class=\"dataframe\">\n",
       "  <thead>\n",
       "    <tr style=\"text-align: right;\">\n",
       "      <th></th>\n",
       "      <th>visitorId</th>\n",
       "      <th>orders</th>\n",
       "    </tr>\n",
       "  </thead>\n",
       "  <tbody>\n",
       "    <tr>\n",
       "      <td>960</td>\n",
       "      <td>4256040402</td>\n",
       "      <td>11</td>\n",
       "    </tr>\n",
       "    <tr>\n",
       "      <td>561</td>\n",
       "      <td>2458001652</td>\n",
       "      <td>11</td>\n",
       "    </tr>\n",
       "    <tr>\n",
       "      <td>540</td>\n",
       "      <td>2378935119</td>\n",
       "      <td>9</td>\n",
       "    </tr>\n",
       "    <tr>\n",
       "      <td>462</td>\n",
       "      <td>2038680547</td>\n",
       "      <td>8</td>\n",
       "    </tr>\n",
       "    <tr>\n",
       "      <td>846</td>\n",
       "      <td>3717692402</td>\n",
       "      <td>5</td>\n",
       "    </tr>\n",
       "    <tr>\n",
       "      <td>...</td>\n",
       "      <td>...</td>\n",
       "      <td>...</td>\n",
       "    </tr>\n",
       "    <tr>\n",
       "      <td>330</td>\n",
       "      <td>1426761187</td>\n",
       "      <td>1</td>\n",
       "    </tr>\n",
       "    <tr>\n",
       "      <td>331</td>\n",
       "      <td>1430210707</td>\n",
       "      <td>1</td>\n",
       "    </tr>\n",
       "    <tr>\n",
       "      <td>332</td>\n",
       "      <td>1438226485</td>\n",
       "      <td>1</td>\n",
       "    </tr>\n",
       "    <tr>\n",
       "      <td>333</td>\n",
       "      <td>1452540367</td>\n",
       "      <td>1</td>\n",
       "    </tr>\n",
       "    <tr>\n",
       "      <td>966</td>\n",
       "      <td>4283872382</td>\n",
       "      <td>1</td>\n",
       "    </tr>\n",
       "  </tbody>\n",
       "</table>\n",
       "<p>967 rows × 2 columns</p>\n",
       "</div>"
      ],
      "text/plain": [
       "      visitorId  orders\n",
       "960  4256040402      11\n",
       "561  2458001652      11\n",
       "540  2378935119       9\n",
       "462  2038680547       8\n",
       "846  3717692402       5\n",
       "..          ...     ...\n",
       "330  1426761187       1\n",
       "331  1430210707       1\n",
       "332  1438226485       1\n",
       "333  1452540367       1\n",
       "966  4283872382       1\n",
       "\n",
       "[967 rows x 2 columns]"
      ]
     },
     "execution_count": 38,
     "metadata": {},
     "output_type": "execute_result"
    }
   ],
   "source": [
    "ordersByUsers"
   ]
  },
  {
   "cell_type": "code",
   "execution_count": 39,
   "metadata": {},
   "outputs": [
    {
     "data": {
      "image/png": "[encoded data removed]",
      "text/plain": [
       "<Figure size 432x288 with 1 Axes>"
      ]
     },
     "metadata": {
      "needs_background": "light"
     },
     "output_type": "display_data"
    }
   ],
   "source": [
    "x_values = pd.Series(range(0, len(ordersByUsers)))\n",
    "plt.scatter(x_values, ordersByUsers['orders'])\n",
    "plt.title('точечный график количества заказов по пользователям')\n",
    "plt.xlabel('количество пользователей,шт')\n",
    "plt.ylabel('количество заказов, шт')\n",
    "plt.show()"
   ]
  },
  {
   "cell_type": "markdown",
   "metadata": {},
   "source": [
    "Пользователей, совершивших >2 заказов - мало, скорее всего, это аномалия."
   ]
  },
  {
   "cell_type": "markdown",
   "metadata": {},
   "source": [
    "### Посчитаем 95-й и 99-й перцентили количества заказов на пользователя."
   ]
  },
  {
   "cell_type": "code",
   "execution_count": 40,
   "metadata": {},
   "outputs": [
    {
     "data": {
      "text/plain": [
       "array([1.  , 1.  , 4.34])"
      ]
     },
     "execution_count": 40,
     "metadata": {},
     "output_type": "execute_result"
    }
   ],
   "source": [
    "np.percentile(ordersByUsers['orders'], [90, 95, 99])"
   ]
  },
  {
   "cell_type": "markdown",
   "metadata": {},
   "source": [
    "#### Вывод"
   ]
  },
  {
   "cell_type": "markdown",
   "metadata": {},
   "source": [
    "Не более 5 пользователей совершили 2 заказа, не более 1% - более 5."
   ]
  },
  {
   "cell_type": "markdown",
   "metadata": {},
   "source": [
    "### Построим точечный график стоимостей заказов."
   ]
  },
  {
   "cell_type": "code",
   "execution_count": 41,
   "metadata": {
    "scrolled": true
   },
   "outputs": [
    {
     "data": {
      "image/png": "[encoded data removed]",
      "text/plain": [
       "<Figure size 432x288 with 1 Axes>"
      ]
     },
     "metadata": {
      "needs_background": "light"
     },
     "output_type": "display_data"
    }
   ],
   "source": [
    "x_values = pd.Series(range(0, len(orders['revenue'])))\n",
    "\n",
    "plt.scatter(x_values, orders['revenue'])\n",
    "plt.title('точечный график стоимостей заказов')\n",
    "plt.xlabel('количество пользователей,шт')\n",
    "plt.ylabel('стоимость заказов, руб')\n",
    "plt.show()"
   ]
  },
  {
   "cell_type": "markdown",
   "metadata": {},
   "source": [
    "#### Вывод"
   ]
  },
  {
   "cell_type": "markdown",
   "metadata": {},
   "source": [
    "Очень малозначительное количество заказов более 200000."
   ]
  },
  {
   "cell_type": "markdown",
   "metadata": {},
   "source": [
    "### Посчитаем 95-й и 99-й перцентили стоимости заказов."
   ]
  },
  {
   "cell_type": "code",
   "execution_count": 42,
   "metadata": {
    "scrolled": true
   },
   "outputs": [
    {
     "data": {
      "text/plain": [
       "array([18286. , 27831. , 57152.4])"
      ]
     },
     "execution_count": 42,
     "metadata": {},
     "output_type": "execute_result"
    }
   ],
   "source": [
    "np.percentile(orders['revenue'], [90,95,99])"
   ]
  },
  {
   "cell_type": "markdown",
   "metadata": {},
   "source": [
    "#### Вывод"
   ]
  },
  {
   "cell_type": "markdown",
   "metadata": {},
   "source": [
    "Не более, чем у 5 процентов заказы дороже 28000, и не более. чем у 1 процента - более 58000."
   ]
  },
  {
   "cell_type": "markdown",
   "metadata": {},
   "source": [
    "### Посчитаем статистическую значимость различий в конверсии между группами по «сырым» данным. "
   ]
  },
  {
   "cell_type": "code",
   "execution_count": 43,
   "metadata": {},
   "outputs": [],
   "source": [
    "visitorsADaily = visitors[visitors['group'] == 'A'][['date', 'visitors']]"
   ]
  },
  {
   "cell_type": "code",
   "execution_count": 44,
   "metadata": {},
   "outputs": [],
   "source": [
    "visitorsADaily.columns = ['date', 'visitorsPerDateA']"
   ]
  },
  {
   "cell_type": "code",
   "execution_count": 45,
   "metadata": {},
   "outputs": [],
   "source": [
    "visitorsACummulative = visitorsADaily.apply(\n",
    "    lambda x: visitorsADaily[visitorsADaily['date'] <= x['date']].agg(\n",
    "        {'date': 'max', 'visitorsPerDateA': 'sum'}\n",
    "    ),\n",
    "    axis=1,\n",
    ")"
   ]
  },
  {
   "cell_type": "code",
   "execution_count": 46,
   "metadata": {},
   "outputs": [],
   "source": [
    "visitorsACummulative.columns = ['date', 'visitorsCummulativeA']\n"
   ]
  },
  {
   "cell_type": "code",
   "execution_count": 47,
   "metadata": {},
   "outputs": [],
   "source": [
    "visitorsBDaily = visitors[visitors['group'] == 'B'][['date', 'visitors']]"
   ]
  },
  {
   "cell_type": "code",
   "execution_count": 48,
   "metadata": {},
   "outputs": [],
   "source": [
    "visitorsBDaily.columns = ['date', 'visitorsPerDateB']\n"
   ]
  },
  {
   "cell_type": "code",
   "execution_count": 49,
   "metadata": {},
   "outputs": [],
   "source": [
    "\n",
    "visitorsBCummulative = visitorsBDaily.apply(\n",
    "    lambda x: visitorsBDaily[visitorsBDaily['date'] <= x['date']].agg(\n",
    "        {'date': 'max', 'visitorsPerDateB': 'sum'}\n",
    "    ),\n",
    "    axis=1,\n",
    ")"
   ]
  },
  {
   "cell_type": "code",
   "execution_count": 50,
   "metadata": {},
   "outputs": [],
   "source": [
    "visitorsBCummulative.columns = ['date', 'visitorsCummulativeB']"
   ]
  },
  {
   "cell_type": "code",
   "execution_count": 51,
   "metadata": {},
   "outputs": [],
   "source": [
    "ordersADaily = (\n",
    "    orders[orders['group'] == 'A'][['date', 'transactionId', 'visitorId', 'revenue']]\n",
    "    .groupby('date', as_index=False)\n",
    "    .agg({'transactionId': pd.Series.nunique, 'revenue': 'sum'})\n",
    ")"
   ]
  },
  {
   "cell_type": "code",
   "execution_count": 52,
   "metadata": {},
   "outputs": [],
   "source": [
    "ordersADaily.columns = ['date', 'ordersPerDateA', 'revenuePerDateA']\n"
   ]
  },
  {
   "cell_type": "code",
   "execution_count": 53,
   "metadata": {},
   "outputs": [],
   "source": [
    "ordersACummulative = ordersADaily.apply(\n",
    "    lambda x: ordersADaily[ordersADaily['date'] <= x['date']].agg(\n",
    "        {'date': 'max', 'ordersPerDateA': 'sum', 'revenuePerDateA': 'sum'}\n",
    "    ),\n",
    "    axis=1,\n",
    ").sort_values(by=['date'])"
   ]
  },
  {
   "cell_type": "code",
   "execution_count": 54,
   "metadata": {},
   "outputs": [],
   "source": [
    "ordersACummulative.columns = [\n",
    "    'date',\n",
    "    'ordersCummulativeA',\n",
    "    'revenueCummulativeA',\n",
    "]"
   ]
  },
  {
   "cell_type": "code",
   "execution_count": 55,
   "metadata": {},
   "outputs": [],
   "source": [
    "ordersBDaily = (\n",
    "    orders[orders['group'] == 'B'][['date', 'transactionId', 'visitorId', 'revenue']]\n",
    "    .groupby('date', as_index=False)\n",
    "    .agg({'transactionId': pd.Series.nunique, 'revenue': 'sum'})\n",
    ")"
   ]
  },
  {
   "cell_type": "code",
   "execution_count": 56,
   "metadata": {},
   "outputs": [],
   "source": [
    "ordersBDaily.columns = ['date', 'ordersPerDateB', 'revenuePerDateB']"
   ]
  },
  {
   "cell_type": "code",
   "execution_count": 57,
   "metadata": {},
   "outputs": [],
   "source": [
    "ordersBCummulative = ordersBDaily.apply(\n",
    "    lambda x: ordersBDaily[ordersBDaily['date'] <= x['date']].agg(\n",
    "        {'date': 'max', 'ordersPerDateB': 'sum', 'revenuePerDateB': 'sum'}\n",
    "    ),\n",
    "    axis=1,\n",
    ").sort_values(by=['date'])"
   ]
  },
  {
   "cell_type": "code",
   "execution_count": 58,
   "metadata": {},
   "outputs": [],
   "source": [
    "ordersBCummulative.columns = [\n",
    "    'date',\n",
    "    'ordersCummulativeB',\n",
    "    'revenueCummulativeB',\n",
    "]"
   ]
  },
  {
   "cell_type": "code",
   "execution_count": 59,
   "metadata": {
    "scrolled": true
   },
   "outputs": [
    {
     "data": {
      "text/html": [
       "<div>\n",
       "<style scoped>\n",
       "    .dataframe tbody tr th:only-of-type {\n",
       "        vertical-align: middle;\n",
       "    }\n",
       "\n",
       "    .dataframe tbody tr th {\n",
       "        vertical-align: top;\n",
       "    }\n",
       "\n",
       "    .dataframe thead th {\n",
       "        text-align: right;\n",
       "    }\n",
       "</style>\n",
       "<table border=\"1\" class=\"dataframe\">\n",
       "  <thead>\n",
       "    <tr style=\"text-align: right;\">\n",
       "      <th></th>\n",
       "      <th>date</th>\n",
       "      <th>ordersPerDateA</th>\n",
       "      <th>revenuePerDateA</th>\n",
       "      <th>ordersPerDateB</th>\n",
       "      <th>revenuePerDateB</th>\n",
       "      <th>ordersCummulativeA</th>\n",
       "      <th>revenueCummulativeA</th>\n",
       "      <th>ordersCummulativeB</th>\n",
       "      <th>revenueCummulativeB</th>\n",
       "      <th>visitorsPerDateA</th>\n",
       "      <th>visitorsPerDateB</th>\n",
       "      <th>visitorsCummulativeA</th>\n",
       "      <th>visitorsCummulativeB</th>\n",
       "    </tr>\n",
       "  </thead>\n",
       "  <tbody>\n",
       "    <tr>\n",
       "      <td>0</td>\n",
       "      <td>2019-08-01</td>\n",
       "      <td>21</td>\n",
       "      <td>126097</td>\n",
       "      <td>19</td>\n",
       "      <td>82717</td>\n",
       "      <td>21</td>\n",
       "      <td>126097</td>\n",
       "      <td>19</td>\n",
       "      <td>82717</td>\n",
       "      <td>719</td>\n",
       "      <td>713</td>\n",
       "      <td>719</td>\n",
       "      <td>713</td>\n",
       "    </tr>\n",
       "    <tr>\n",
       "      <td>1</td>\n",
       "      <td>2019-08-02</td>\n",
       "      <td>16</td>\n",
       "      <td>48173</td>\n",
       "      <td>21</td>\n",
       "      <td>157161</td>\n",
       "      <td>37</td>\n",
       "      <td>174270</td>\n",
       "      <td>40</td>\n",
       "      <td>239878</td>\n",
       "      <td>619</td>\n",
       "      <td>581</td>\n",
       "      <td>1338</td>\n",
       "      <td>1294</td>\n",
       "    </tr>\n",
       "    <tr>\n",
       "      <td>2</td>\n",
       "      <td>2019-08-03</td>\n",
       "      <td>24</td>\n",
       "      <td>112473</td>\n",
       "      <td>16</td>\n",
       "      <td>114248</td>\n",
       "      <td>61</td>\n",
       "      <td>286743</td>\n",
       "      <td>56</td>\n",
       "      <td>354126</td>\n",
       "      <td>507</td>\n",
       "      <td>509</td>\n",
       "      <td>1845</td>\n",
       "      <td>1803</td>\n",
       "    </tr>\n",
       "    <tr>\n",
       "      <td>3</td>\n",
       "      <td>2019-08-04</td>\n",
       "      <td>15</td>\n",
       "      <td>70715</td>\n",
       "      <td>14</td>\n",
       "      <td>87320</td>\n",
       "      <td>76</td>\n",
       "      <td>357458</td>\n",
       "      <td>70</td>\n",
       "      <td>441446</td>\n",
       "      <td>717</td>\n",
       "      <td>770</td>\n",
       "      <td>2562</td>\n",
       "      <td>2573</td>\n",
       "    </tr>\n",
       "    <tr>\n",
       "      <td>4</td>\n",
       "      <td>2019-08-05</td>\n",
       "      <td>21</td>\n",
       "      <td>94088</td>\n",
       "      <td>22</td>\n",
       "      <td>92328</td>\n",
       "      <td>97</td>\n",
       "      <td>451546</td>\n",
       "      <td>92</td>\n",
       "      <td>533774</td>\n",
       "      <td>756</td>\n",
       "      <td>707</td>\n",
       "      <td>3318</td>\n",
       "      <td>3280</td>\n",
       "    </tr>\n",
       "    <tr>\n",
       "      <td>5</td>\n",
       "      <td>2019-08-06</td>\n",
       "      <td>13</td>\n",
       "      <td>30689</td>\n",
       "      <td>24</td>\n",
       "      <td>227762</td>\n",
       "      <td>110</td>\n",
       "      <td>482235</td>\n",
       "      <td>116</td>\n",
       "      <td>761536</td>\n",
       "      <td>667</td>\n",
       "      <td>655</td>\n",
       "      <td>3985</td>\n",
       "      <td>3935</td>\n",
       "    </tr>\n",
       "    <tr>\n",
       "      <td>6</td>\n",
       "      <td>2019-08-07</td>\n",
       "      <td>16</td>\n",
       "      <td>121107</td>\n",
       "      <td>24</td>\n",
       "      <td>225334</td>\n",
       "      <td>126</td>\n",
       "      <td>603342</td>\n",
       "      <td>140</td>\n",
       "      <td>986870</td>\n",
       "      <td>644</td>\n",
       "      <td>709</td>\n",
       "      <td>4629</td>\n",
       "      <td>4644</td>\n",
       "    </tr>\n",
       "    <tr>\n",
       "      <td>7</td>\n",
       "      <td>2019-08-08</td>\n",
       "      <td>15</td>\n",
       "      <td>92239</td>\n",
       "      <td>26</td>\n",
       "      <td>213678</td>\n",
       "      <td>141</td>\n",
       "      <td>695581</td>\n",
       "      <td>166</td>\n",
       "      <td>1200548</td>\n",
       "      <td>610</td>\n",
       "      <td>654</td>\n",
       "      <td>5239</td>\n",
       "      <td>5298</td>\n",
       "    </tr>\n",
       "    <tr>\n",
       "      <td>8</td>\n",
       "      <td>2019-08-09</td>\n",
       "      <td>15</td>\n",
       "      <td>180067</td>\n",
       "      <td>24</td>\n",
       "      <td>157542</td>\n",
       "      <td>156</td>\n",
       "      <td>875648</td>\n",
       "      <td>190</td>\n",
       "      <td>1358090</td>\n",
       "      <td>617</td>\n",
       "      <td>610</td>\n",
       "      <td>5856</td>\n",
       "      <td>5908</td>\n",
       "    </tr>\n",
       "    <tr>\n",
       "      <td>9</td>\n",
       "      <td>2019-08-10</td>\n",
       "      <td>16</td>\n",
       "      <td>210495</td>\n",
       "      <td>23</td>\n",
       "      <td>107802</td>\n",
       "      <td>172</td>\n",
       "      <td>1086143</td>\n",
       "      <td>213</td>\n",
       "      <td>1465892</td>\n",
       "      <td>406</td>\n",
       "      <td>369</td>\n",
       "      <td>6262</td>\n",
       "      <td>6277</td>\n",
       "    </tr>\n",
       "    <tr>\n",
       "      <td>10</td>\n",
       "      <td>2019-08-11</td>\n",
       "      <td>13</td>\n",
       "      <td>77585</td>\n",
       "      <td>11</td>\n",
       "      <td>51340</td>\n",
       "      <td>185</td>\n",
       "      <td>1163728</td>\n",
       "      <td>224</td>\n",
       "      <td>1517232</td>\n",
       "      <td>718</td>\n",
       "      <td>721</td>\n",
       "      <td>6980</td>\n",
       "      <td>6998</td>\n",
       "    </tr>\n",
       "    <tr>\n",
       "      <td>11</td>\n",
       "      <td>2019-08-12</td>\n",
       "      <td>22</td>\n",
       "      <td>242360</td>\n",
       "      <td>20</td>\n",
       "      <td>126624</td>\n",
       "      <td>207</td>\n",
       "      <td>1406088</td>\n",
       "      <td>244</td>\n",
       "      <td>1643856</td>\n",
       "      <td>595</td>\n",
       "      <td>543</td>\n",
       "      <td>7575</td>\n",
       "      <td>7541</td>\n",
       "    </tr>\n",
       "    <tr>\n",
       "      <td>12</td>\n",
       "      <td>2019-08-13</td>\n",
       "      <td>13</td>\n",
       "      <td>211158</td>\n",
       "      <td>19</td>\n",
       "      <td>116941</td>\n",
       "      <td>220</td>\n",
       "      <td>1617246</td>\n",
       "      <td>263</td>\n",
       "      <td>1760797</td>\n",
       "      <td>748</td>\n",
       "      <td>769</td>\n",
       "      <td>8323</td>\n",
       "      <td>8310</td>\n",
       "    </tr>\n",
       "    <tr>\n",
       "      <td>13</td>\n",
       "      <td>2019-08-14</td>\n",
       "      <td>19</td>\n",
       "      <td>48356</td>\n",
       "      <td>18</td>\n",
       "      <td>146513</td>\n",
       "      <td>239</td>\n",
       "      <td>1665602</td>\n",
       "      <td>281</td>\n",
       "      <td>1907310</td>\n",
       "      <td>735</td>\n",
       "      <td>746</td>\n",
       "      <td>9058</td>\n",
       "      <td>9056</td>\n",
       "    </tr>\n",
       "    <tr>\n",
       "      <td>14</td>\n",
       "      <td>2019-08-15</td>\n",
       "      <td>14</td>\n",
       "      <td>87805</td>\n",
       "      <td>28</td>\n",
       "      <td>319459</td>\n",
       "      <td>253</td>\n",
       "      <td>1753407</td>\n",
       "      <td>309</td>\n",
       "      <td>2226769</td>\n",
       "      <td>628</td>\n",
       "      <td>544</td>\n",
       "      <td>9686</td>\n",
       "      <td>9600</td>\n",
       "    </tr>\n",
       "    <tr>\n",
       "      <td>15</td>\n",
       "      <td>2019-08-16</td>\n",
       "      <td>18</td>\n",
       "      <td>99851</td>\n",
       "      <td>18</td>\n",
       "      <td>165800</td>\n",
       "      <td>271</td>\n",
       "      <td>1853258</td>\n",
       "      <td>327</td>\n",
       "      <td>2392569</td>\n",
       "      <td>361</td>\n",
       "      <td>413</td>\n",
       "      <td>10047</td>\n",
       "      <td>10013</td>\n",
       "    </tr>\n",
       "    <tr>\n",
       "      <td>16</td>\n",
       "      <td>2019-08-17</td>\n",
       "      <td>7</td>\n",
       "      <td>37430</td>\n",
       "      <td>11</td>\n",
       "      <td>65937</td>\n",
       "      <td>278</td>\n",
       "      <td>1890688</td>\n",
       "      <td>338</td>\n",
       "      <td>2458506</td>\n",
       "      <td>412</td>\n",
       "      <td>421</td>\n",
       "      <td>10459</td>\n",
       "      <td>10434</td>\n",
       "    </tr>\n",
       "    <tr>\n",
       "      <td>17</td>\n",
       "      <td>2019-08-18</td>\n",
       "      <td>13</td>\n",
       "      <td>59581</td>\n",
       "      <td>8</td>\n",
       "      <td>46293</td>\n",
       "      <td>291</td>\n",
       "      <td>1950269</td>\n",
       "      <td>346</td>\n",
       "      <td>2504799</td>\n",
       "      <td>668</td>\n",
       "      <td>737</td>\n",
       "      <td>11127</td>\n",
       "      <td>11171</td>\n",
       "    </tr>\n",
       "    <tr>\n",
       "      <td>18</td>\n",
       "      <td>2019-08-19</td>\n",
       "      <td>20</td>\n",
       "      <td>186663</td>\n",
       "      <td>18</td>\n",
       "      <td>1420950</td>\n",
       "      <td>311</td>\n",
       "      <td>2136932</td>\n",
       "      <td>364</td>\n",
       "      <td>3925749</td>\n",
       "      <td>502</td>\n",
       "      <td>487</td>\n",
       "      <td>11629</td>\n",
       "      <td>11658</td>\n",
       "    </tr>\n",
       "    <tr>\n",
       "      <td>19</td>\n",
       "      <td>2019-08-20</td>\n",
       "      <td>12</td>\n",
       "      <td>77619</td>\n",
       "      <td>18</td>\n",
       "      <td>140288</td>\n",
       "      <td>323</td>\n",
       "      <td>2214551</td>\n",
       "      <td>382</td>\n",
       "      <td>4066037</td>\n",
       "      <td>575</td>\n",
       "      <td>560</td>\n",
       "      <td>12204</td>\n",
       "      <td>12218</td>\n",
       "    </tr>\n",
       "    <tr>\n",
       "      <td>20</td>\n",
       "      <td>2019-08-21</td>\n",
       "      <td>19</td>\n",
       "      <td>149975</td>\n",
       "      <td>14</td>\n",
       "      <td>163077</td>\n",
       "      <td>342</td>\n",
       "      <td>2364526</td>\n",
       "      <td>396</td>\n",
       "      <td>4229114</td>\n",
       "      <td>646</td>\n",
       "      <td>656</td>\n",
       "      <td>12850</td>\n",
       "      <td>12874</td>\n",
       "    </tr>\n",
       "    <tr>\n",
       "      <td>21</td>\n",
       "      <td>2019-08-22</td>\n",
       "      <td>16</td>\n",
       "      <td>112741</td>\n",
       "      <td>21</td>\n",
       "      <td>143935</td>\n",
       "      <td>358</td>\n",
       "      <td>2477267</td>\n",
       "      <td>417</td>\n",
       "      <td>4373049</td>\n",
       "      <td>609</td>\n",
       "      <td>650</td>\n",
       "      <td>13459</td>\n",
       "      <td>13524</td>\n",
       "    </tr>\n",
       "    <tr>\n",
       "      <td>22</td>\n",
       "      <td>2019-08-23</td>\n",
       "      <td>22</td>\n",
       "      <td>76433</td>\n",
       "      <td>13</td>\n",
       "      <td>78851</td>\n",
       "      <td>380</td>\n",
       "      <td>2553700</td>\n",
       "      <td>430</td>\n",
       "      <td>4451900</td>\n",
       "      <td>468</td>\n",
       "      <td>546</td>\n",
       "      <td>13927</td>\n",
       "      <td>14070</td>\n",
       "    </tr>\n",
       "    <tr>\n",
       "      <td>23</td>\n",
       "      <td>2019-08-24</td>\n",
       "      <td>14</td>\n",
       "      <td>124553</td>\n",
       "      <td>13</td>\n",
       "      <td>83671</td>\n",
       "      <td>394</td>\n",
       "      <td>2678253</td>\n",
       "      <td>443</td>\n",
       "      <td>4535571</td>\n",
       "      <td>395</td>\n",
       "      <td>378</td>\n",
       "      <td>14322</td>\n",
       "      <td>14448</td>\n",
       "    </tr>\n",
       "    <tr>\n",
       "      <td>24</td>\n",
       "      <td>2019-08-25</td>\n",
       "      <td>9</td>\n",
       "      <td>52154</td>\n",
       "      <td>14</td>\n",
       "      <td>102862</td>\n",
       "      <td>403</td>\n",
       "      <td>2730407</td>\n",
       "      <td>457</td>\n",
       "      <td>4638433</td>\n",
       "      <td>621</td>\n",
       "      <td>679</td>\n",
       "      <td>14943</td>\n",
       "      <td>15127</td>\n",
       "    </tr>\n",
       "    <tr>\n",
       "      <td>25</td>\n",
       "      <td>2019-08-26</td>\n",
       "      <td>15</td>\n",
       "      <td>155524</td>\n",
       "      <td>22</td>\n",
       "      <td>165895</td>\n",
       "      <td>418</td>\n",
       "      <td>2885931</td>\n",
       "      <td>479</td>\n",
       "      <td>4804328</td>\n",
       "      <td>722</td>\n",
       "      <td>676</td>\n",
       "      <td>15665</td>\n",
       "      <td>15803</td>\n",
       "    </tr>\n",
       "    <tr>\n",
       "      <td>26</td>\n",
       "      <td>2019-08-27</td>\n",
       "      <td>26</td>\n",
       "      <td>184950</td>\n",
       "      <td>12</td>\n",
       "      <td>107835</td>\n",
       "      <td>444</td>\n",
       "      <td>3070881</td>\n",
       "      <td>491</td>\n",
       "      <td>4912163</td>\n",
       "      <td>711</td>\n",
       "      <td>720</td>\n",
       "      <td>16376</td>\n",
       "      <td>16523</td>\n",
       "    </tr>\n",
       "    <tr>\n",
       "      <td>27</td>\n",
       "      <td>2019-08-28</td>\n",
       "      <td>14</td>\n",
       "      <td>77542</td>\n",
       "      <td>26</td>\n",
       "      <td>92468</td>\n",
       "      <td>458</td>\n",
       "      <td>3148423</td>\n",
       "      <td>517</td>\n",
       "      <td>5004631</td>\n",
       "      <td>594</td>\n",
       "      <td>654</td>\n",
       "      <td>16970</td>\n",
       "      <td>17177</td>\n",
       "    </tr>\n",
       "    <tr>\n",
       "      <td>28</td>\n",
       "      <td>2019-08-29</td>\n",
       "      <td>19</td>\n",
       "      <td>199410</td>\n",
       "      <td>16</td>\n",
       "      <td>116566</td>\n",
       "      <td>477</td>\n",
       "      <td>3347833</td>\n",
       "      <td>533</td>\n",
       "      <td>5121197</td>\n",
       "      <td>577</td>\n",
       "      <td>531</td>\n",
       "      <td>17547</td>\n",
       "      <td>17708</td>\n",
       "    </tr>\n",
       "    <tr>\n",
       "      <td>29</td>\n",
       "      <td>2019-08-30</td>\n",
       "      <td>9</td>\n",
       "      <td>78180</td>\n",
       "      <td>22</td>\n",
       "      <td>211223</td>\n",
       "      <td>486</td>\n",
       "      <td>3426013</td>\n",
       "      <td>555</td>\n",
       "      <td>5332420</td>\n",
       "      <td>490</td>\n",
       "      <td>490</td>\n",
       "      <td>18037</td>\n",
       "      <td>18198</td>\n",
       "    </tr>\n",
       "    <tr>\n",
       "      <td>30</td>\n",
       "      <td>2019-08-31</td>\n",
       "      <td>10</td>\n",
       "      <td>58983</td>\n",
       "      <td>18</td>\n",
       "      <td>114989</td>\n",
       "      <td>496</td>\n",
       "      <td>3484996</td>\n",
       "      <td>573</td>\n",
       "      <td>5447409</td>\n",
       "      <td>699</td>\n",
       "      <td>718</td>\n",
       "      <td>18736</td>\n",
       "      <td>18916</td>\n",
       "    </tr>\n",
       "  </tbody>\n",
       "</table>\n",
       "</div>"
      ],
      "text/plain": [
       "         date  ordersPerDateA  revenuePerDateA  ordersPerDateB  \\\n",
       "0  2019-08-01              21           126097              19   \n",
       "1  2019-08-02              16            48173              21   \n",
       "2  2019-08-03              24           112473              16   \n",
       "3  2019-08-04              15            70715              14   \n",
       "4  2019-08-05              21            94088              22   \n",
       "5  2019-08-06              13            30689              24   \n",
       "6  2019-08-07              16           121107              24   \n",
       "7  2019-08-08              15            92239              26   \n",
       "8  2019-08-09              15           180067              24   \n",
       "9  2019-08-10              16           210495              23   \n",
       "10 2019-08-11              13            77585              11   \n",
       "11 2019-08-12              22           242360              20   \n",
       "12 2019-08-13              13           211158              19   \n",
       "13 2019-08-14              19            48356              18   \n",
       "14 2019-08-15              14            87805              28   \n",
       "15 2019-08-16              18            99851              18   \n",
       "16 2019-08-17               7            37430              11   \n",
       "17 2019-08-18              13            59581               8   \n",
       "18 2019-08-19              20           186663              18   \n",
       "19 2019-08-20              12            77619              18   \n",
       "20 2019-08-21              19           149975              14   \n",
       "21 2019-08-22              16           112741              21   \n",
       "22 2019-08-23              22            76433              13   \n",
       "23 2019-08-24              14           124553              13   \n",
       "24 2019-08-25               9            52154              14   \n",
       "25 2019-08-26              15           155524              22   \n",
       "26 2019-08-27              26           184950              12   \n",
       "27 2019-08-28              14            77542              26   \n",
       "28 2019-08-29              19           199410              16   \n",
       "29 2019-08-30               9            78180              22   \n",
       "30 2019-08-31              10            58983              18   \n",
       "\n",
       "    revenuePerDateB  ordersCummulativeA  revenueCummulativeA  \\\n",
       "0             82717                  21               126097   \n",
       "1            157161                  37               174270   \n",
       "2            114248                  61               286743   \n",
       "3             87320                  76               357458   \n",
       "4             92328                  97               451546   \n",
       "5            227762                 110               482235   \n",
       "6            225334                 126               603342   \n",
       "7            213678                 141               695581   \n",
       "8            157542                 156               875648   \n",
       "9            107802                 172              1086143   \n",
       "10            51340                 185              1163728   \n",
       "11           126624                 207              1406088   \n",
       "12           116941                 220              1617246   \n",
       "13           146513                 239              1665602   \n",
       "14           319459                 253              1753407   \n",
       "15           165800                 271              1853258   \n",
       "16            65937                 278              1890688   \n",
       "17            46293                 291              1950269   \n",
       "18          1420950                 311              2136932   \n",
       "19           140288                 323              2214551   \n",
       "20           163077                 342              2364526   \n",
       "21           143935                 358              2477267   \n",
       "22            78851                 380              2553700   \n",
       "23            83671                 394              2678253   \n",
       "24           102862                 403              2730407   \n",
       "25           165895                 418              2885931   \n",
       "26           107835                 444              3070881   \n",
       "27            92468                 458              3148423   \n",
       "28           116566                 477              3347833   \n",
       "29           211223                 486              3426013   \n",
       "30           114989                 496              3484996   \n",
       "\n",
       "    ordersCummulativeB  revenueCummulativeB  visitorsPerDateA  \\\n",
       "0                   19                82717               719   \n",
       "1                   40               239878               619   \n",
       "2                   56               354126               507   \n",
       "3                   70               441446               717   \n",
       "4                   92               533774               756   \n",
       "5                  116               761536               667   \n",
       "6                  140               986870               644   \n",
       "7                  166              1200548               610   \n",
       "8                  190              1358090               617   \n",
       "9                  213              1465892               406   \n",
       "10                 224              1517232               718   \n",
       "11                 244              1643856               595   \n",
       "12                 263              1760797               748   \n",
       "13                 281              1907310               735   \n",
       "14                 309              2226769               628   \n",
       "15                 327              2392569               361   \n",
       "16                 338              2458506               412   \n",
       "17                 346              2504799               668   \n",
       "18                 364              3925749               502   \n",
       "19                 382              4066037               575   \n",
       "20                 396              4229114               646   \n",
       "21                 417              4373049               609   \n",
       "22                 430              4451900               468   \n",
       "23                 443              4535571               395   \n",
       "24                 457              4638433               621   \n",
       "25                 479              4804328               722   \n",
       "26                 491              4912163               711   \n",
       "27                 517              5004631               594   \n",
       "28                 533              5121197               577   \n",
       "29                 555              5332420               490   \n",
       "30                 573              5447409               699   \n",
       "\n",
       "    visitorsPerDateB  visitorsCummulativeA  visitorsCummulativeB  \n",
       "0                713                   719                   713  \n",
       "1                581                  1338                  1294  \n",
       "2                509                  1845                  1803  \n",
       "3                770                  2562                  2573  \n",
       "4                707                  3318                  3280  \n",
       "5                655                  3985                  3935  \n",
       "6                709                  4629                  4644  \n",
       "7                654                  5239                  5298  \n",
       "8                610                  5856                  5908  \n",
       "9                369                  6262                  6277  \n",
       "10               721                  6980                  6998  \n",
       "11               543                  7575                  7541  \n",
       "12               769                  8323                  8310  \n",
       "13               746                  9058                  9056  \n",
       "14               544                  9686                  9600  \n",
       "15               413                 10047                 10013  \n",
       "16               421                 10459                 10434  \n",
       "17               737                 11127                 11171  \n",
       "18               487                 11629                 11658  \n",
       "19               560                 12204                 12218  \n",
       "20               656                 12850                 12874  \n",
       "21               650                 13459                 13524  \n",
       "22               546                 13927                 14070  \n",
       "23               378                 14322                 14448  \n",
       "24               679                 14943                 15127  \n",
       "25               676                 15665                 15803  \n",
       "26               720                 16376                 16523  \n",
       "27               654                 16970                 17177  \n",
       "28               531                 17547                 17708  \n",
       "29               490                 18037                 18198  \n",
       "30               718                 18736                 18916  "
      ]
     },
     "execution_count": 59,
     "metadata": {},
     "output_type": "execute_result"
    }
   ],
   "source": [
    "news = (\n",
    "    ordersADaily.merge(\n",
    "        ordersBDaily, left_on='date', right_on='date', how='left'\n",
    "    )\n",
    "    .merge(ordersACummulative, left_on='date', right_on='date', how='left')\n",
    "    .merge(ordersBCummulative, left_on='date', right_on='date', how='left')\n",
    "    .merge(visitorsADaily, left_on='date', right_on='date', how='left')\n",
    "    .merge(visitorsBDaily, left_on='date', right_on='date', how='left')\n",
    "    .merge(visitorsACummulative, left_on='date', right_on='date', how='left')\n",
    "    .merge(visitorsBCummulative, left_on='date', right_on='date', how='left')\n",
    ")\n",
    "news"
   ]
  },
  {
   "cell_type": "code",
   "execution_count": 60,
   "metadata": {},
   "outputs": [],
   "source": [
    "ordersByUsersA = (\n",
    "    orders[orders['group'] == 'A']\\\n",
    "    .groupby('visitorId', as_index=False)\\\n",
    "    .agg({'transactionId': pd.Series.nunique})\n",
    ")\n",
    "ordersByUsersA.columns = ['userId', 'orders']"
   ]
  },
  {
   "cell_type": "code",
   "execution_count": 61,
   "metadata": {},
   "outputs": [],
   "source": [
    "ordersByUsersB = (\n",
    "    orders[orders['group']=='B']\\\n",
    "    .groupby('visitorId', as_index = False)\\\n",
    "    .agg({'transactionId' : pd.Series.nunique})\n",
    ")\n",
    "ordersByUsersB.columns= ['userId', 'orders']"
   ]
  },
  {
   "cell_type": "code",
   "execution_count": 62,
   "metadata": {},
   "outputs": [],
   "source": [
    "sampleA = pd.concat([ordersByUsersA['orders'],pd.Series(0,index=np.arange(news['visitorsPerDateA'].sum() - len(ordersByUsersA['orders'])), name='orders')], axis=0)\n",
    "sampleB = pd.concat([ordersByUsersB['orders'],pd.Series(0,index=np.arange(news['visitorsPerDateB'].sum() - len(ordersByUsersB['orders'])), name='orders')], axis=0)\n",
    "sampleA = pd.concat([ordersByUsersA['orders'],pd.Series(0,index=np.arange(news['visitorsPerDateA'].sum() - len(ordersByUsersA['orders'])), name='orders',),],axis=0,)\n",
    "sampleB = pd.concat([ordersByUsersB['orders'],pd.Series(0,index=np.arange(news['visitorsPerDateB'].sum() - len(ordersByUsersB['orders'])),name='orders',),],axis=0,)"
   ]
  },
  {
   "cell_type": "markdown",
   "metadata": {},
   "source": [
    "Нулевая гипотеза: конверсия между группами А и В различается\n",
    "\n",
    "Обратная гипотеза: конверсия между группами  А и В не различается"
   ]
  },
  {
   "cell_type": "code",
   "execution_count": 63,
   "metadata": {
    "scrolled": true
   },
   "outputs": [
    {
     "data": {
      "text/plain": [
       "'0.00771'"
      ]
     },
     "execution_count": 63,
     "metadata": {},
     "output_type": "execute_result"
    }
   ],
   "source": [
    "\"{0:.5f}\".format(stats.mannwhitneyu(sampleA, sampleB)[1], alternative = 'two-sided')"
   ]
  },
  {
   "cell_type": "code",
   "execution_count": 64,
   "metadata": {},
   "outputs": [
    {
     "data": {
      "text/plain": [
       "'0.144'"
      ]
     },
     "execution_count": 64,
     "metadata": {},
     "output_type": "execute_result"
    }
   ],
   "source": [
    "\"{0:.3f}\".format((news['ordersPerDateB'].sum()/news['visitorsPerDateB'].sum())/(news['ordersPerDateA'].sum()/news['visitorsPerDateA'].sum())-1, alternative = 'two-sided')\n"
   ]
  },
  {
   "cell_type": "markdown",
   "metadata": {},
   "source": [
    "#### Вывод"
   ]
  },
  {
   "cell_type": "markdown",
   "metadata": {},
   "source": [
    "P-value меньше 0.05, поэтому можно сказать, что в конверсии между группами есть статистически значимые различия. Относительный прирост конверсии группы В к конверсии группы А равен 13,8%."
   ]
  },
  {
   "cell_type": "markdown",
   "metadata": {},
   "source": [
    "### Посчитаем статистическую значимость различий в среднем чеке заказа между группами по «сырым» данным"
   ]
  },
  {
   "cell_type": "markdown",
   "metadata": {},
   "source": [
    "Нулевая гипотеза: средний чек между группами А и В различается\n",
    "\n",
    "Обратная гипотеза: средний чек между группами А и В не различается"
   ]
  },
  {
   "cell_type": "code",
   "execution_count": 65,
   "metadata": {},
   "outputs": [
    {
     "data": {
      "text/plain": [
       "'0.260'"
      ]
     },
     "execution_count": 65,
     "metadata": {},
     "output_type": "execute_result"
    }
   ],
   "source": [
    "'{0:.3f}'.format(stats.mannwhitneyu(orders[orders['group']=='A']['revenue'], orders[orders['group']=='B']['revenue'])[1])"
   ]
  },
  {
   "cell_type": "code",
   "execution_count": 66,
   "metadata": {
    "scrolled": true
   },
   "outputs": [
    {
     "data": {
      "text/plain": [
       "'0.353'"
      ]
     },
     "execution_count": 66,
     "metadata": {},
     "output_type": "execute_result"
    }
   ],
   "source": [
    "'{0:.3f}'.format(orders[orders['group']=='B']['revenue'].mean()/orders[orders['group']=='A']['revenue'].mean()-1)"
   ]
  },
  {
   "cell_type": "markdown",
   "metadata": {},
   "source": [
    "#### Вывод"
   ]
  },
  {
   "cell_type": "markdown",
   "metadata": {},
   "source": [
    "P-value больше 0.05, поэтому можно сказать, что в конверсии между группами нет статистически значимых различий. Относительное различие среднего чека между сегментами - 25,9%"
   ]
  },
  {
   "cell_type": "code",
   "execution_count": 67,
   "metadata": {},
   "outputs": [],
   "source": [
    "usersWithManyOrders = pd.concat([ordersByUsersA[ordersByUsersA['orders']>2]['userId'],ordersByUsersB[ordersByUsersB['orders']>2]['userId'],],axis=0,)"
   ]
  },
  {
   "cell_type": "code",
   "execution_count": 68,
   "metadata": {},
   "outputs": [],
   "source": [
    "usersWithExpensiveOrders = orders[orders['revenue'] > 28000]['visitorId']"
   ]
  },
  {
   "cell_type": "code",
   "execution_count": 69,
   "metadata": {},
   "outputs": [],
   "source": [
    "abnormalUsers = pd.concat([usersWithManyOrders,usersWithExpensiveOrders], axis=0).drop_duplicates().sort_values()"
   ]
  },
  {
   "cell_type": "code",
   "execution_count": 70,
   "metadata": {},
   "outputs": [],
   "source": [
    "sampleAFiltered = pd.concat([ordersByUsersA[np.logical_not(ordersByUsersA['userId'].isin(abnormalUsers))]['orders'],pd.Series(0,index=np.arange(news['visitorsPerDateA'].sum() - len(ordersByUsersA['orders'])),name='orders',),],axis=0,)\n",
    "sampleBFiltered = pd.concat([ordersByUsersB[np.logical_not(ordersByUsersB['userId'].isin(abnormalUsers))]['orders'],pd.Series(0,index=np.arange(news['visitorsPerDateB'].sum() - len(ordersByUsersB['orders'])),name='orders',),],axis=0,)"
   ]
  },
  {
   "cell_type": "code",
   "execution_count": 71,
   "metadata": {},
   "outputs": [
    {
     "data": {
      "text/plain": [
       "'0.00664'"
      ]
     },
     "execution_count": 71,
     "metadata": {},
     "output_type": "execute_result"
    }
   ],
   "source": [
    "'{0:.5f}'.format(stats.mannwhitneyu(sampleAFiltered, sampleBFiltered)[1],alternative = 'two-sided')"
   ]
  },
  {
   "cell_type": "code",
   "execution_count": 72,
   "metadata": {},
   "outputs": [
    {
     "data": {
      "text/plain": [
       "'0.177'"
      ]
     },
     "execution_count": 72,
     "metadata": {},
     "output_type": "execute_result"
    }
   ],
   "source": [
    "'{0:.3f}'.format(sampleBFiltered.mean()/sampleAFiltered.mean()-1,alternative = 'two-sided')"
   ]
  },
  {
   "cell_type": "markdown",
   "metadata": {},
   "source": [
    "Как и на сырых данных, статистическая значимость достигнута."
   ]
  },
  {
   "cell_type": "code",
   "execution_count": 73,
   "metadata": {},
   "outputs": [
    {
     "data": {
      "text/plain": [
       "'0.416'"
      ]
     },
     "execution_count": 73,
     "metadata": {},
     "output_type": "execute_result"
    }
   ],
   "source": [
    "'{0:.3f}'.format(stats.mannwhitneyu(orders[np.logical_and(orders['group']=='A',np.logical_not(orders['visitorId'].isin(abnormalUsers)),)]['revenue'],orders[np.logical_and(orders['group'] == 'B',np.logical_not(orders['visitorId'].isin(abnormalUsers)),)]['revenue'],)[1], alternative = 'two-sided')"
   ]
  },
  {
   "cell_type": "code",
   "execution_count": 74,
   "metadata": {},
   "outputs": [
    {
     "data": {
      "text/plain": [
       "'-0.004'"
      ]
     },
     "execution_count": 74,
     "metadata": {},
     "output_type": "execute_result"
    }
   ],
   "source": [
    "\"{0:.3f}\".format(orders[np.logical_and(orders['group'] == 'B',np.logical_not(orders['visitorId'].isin(abnormalUsers)),)]['revenue'].mean()/ orders[np.logical_and(orders['group'] == 'A',np.logical_not(orders['visitorId'].isin(abnormalUsers)),)]['revenue'].mean()- 1, alternative = 'two-sided')"
   ]
  },
  {
   "cell_type": "markdown",
   "metadata": {},
   "source": [
    "Статистическая значимости не достигнута. Удаление выбросов не сильно изменило результаты"
   ]
  },
  {
   "cell_type": "markdown",
   "metadata": {},
   "source": [
    "Видим, что даже при удалении аномальных значений группа В осталась лидирующей. Это может значить, что успешность ее подтвердилась, можно закончить тест и продолжить проверку следующей гипотезы."
   ]
  },
  {
   "cell_type": "markdown",
   "metadata": {},
   "source": [
    "## Вывод"
   ]
  },
  {
   "cell_type": "markdown",
   "metadata": {},
   "source": [
    "Сделаем выводы: \n",
    "\n",
    "    - данные чистые, хорошие, нет дубликатов и пропусков;\n",
    "    - в первую очередь стоит проверить гипотезу \"Добавить форму подписки на все основные страницы, чтобы собрать базу клиентов для email-рассылок\" и \"Добавить блоки рекомендаций товаров на сайт интернет магазина, чтобы повысить конверсию и средний чек заказа\", так как они затрагивают наибольшее кол-во людей, а также у них самый выскоий RICE и достаточно высокий ICE\n",
    "    - согласно А/Б тесту, можно сделать вывод, что группа Б остатется лидирующей при всех условиях, поэтому стоит сделать акцент на эту группу + можно закончить тест и продолжить проверку следующей гипотезы\n",
    "    - средний чек не изменился почти, поэтому группа Б может принести бОльшее кол-во заказов в будущем, так как выросла конверсия. Это может принести бОльшую выручку"
   ]
  }
 ],
 "metadata": {
  "ExecuteTimeLog": [
   {
    "duration": 753,
    "start_time": "2021-11-03T20:45:25.550Z"
   },
   {
    "duration": 19,
    "start_time": "2021-11-03T20:45:45.703Z"
   },
   {
    "duration": 29,
    "start_time": "2021-11-03T20:45:48.140Z"
   },
   {
    "duration": 10,
    "start_time": "2021-11-03T20:47:31.656Z"
   },
   {
    "duration": 15,
    "start_time": "2021-11-03T20:48:23.085Z"
   },
   {
    "duration": 6,
    "start_time": "2021-11-03T20:50:25.449Z"
   },
   {
    "duration": 16,
    "start_time": "2021-11-03T20:50:37.091Z"
   },
   {
    "duration": 375,
    "start_time": "2021-11-03T20:55:03.613Z"
   },
   {
    "duration": 33,
    "start_time": "2021-11-03T20:55:06.485Z"
   },
   {
    "duration": 16,
    "start_time": "2021-11-03T20:55:24.571Z"
   },
   {
    "duration": 19,
    "start_time": "2021-11-03T20:55:27.256Z"
   },
   {
    "duration": 14,
    "start_time": "2021-11-03T20:55:33.480Z"
   },
   {
    "duration": 1260,
    "start_time": "2021-11-03T20:58:00.334Z"
   },
   {
    "duration": 110,
    "start_time": "2021-11-03T20:58:17.329Z"
   },
   {
    "duration": 1065,
    "start_time": "2021-11-03T20:58:19.554Z"
   },
   {
    "duration": 1165,
    "start_time": "2021-11-03T20:58:37.572Z"
   },
   {
    "duration": 19,
    "start_time": "2021-11-03T20:58:49.450Z"
   },
   {
    "duration": 5,
    "start_time": "2021-11-03T20:58:56.191Z"
   },
   {
    "duration": 15,
    "start_time": "2021-11-03T20:59:03.514Z"
   },
   {
    "duration": 9,
    "start_time": "2021-11-03T21:00:28.541Z"
   },
   {
    "duration": 14,
    "start_time": "2021-11-03T21:00:34.113Z"
   },
   {
    "duration": 246,
    "start_time": "2021-11-03T21:01:08.293Z"
   },
   {
    "duration": 6556,
    "start_time": "2021-11-03T21:01:12.913Z"
   },
   {
    "duration": 6389,
    "start_time": "2021-11-03T21:01:47.974Z"
   },
   {
    "duration": 349,
    "start_time": "2021-11-03T21:02:13.160Z"
   },
   {
    "duration": 19,
    "start_time": "2021-11-03T21:02:44.938Z"
   },
   {
    "duration": 252,
    "start_time": "2021-11-03T21:03:14.345Z"
   },
   {
    "duration": 9,
    "start_time": "2021-11-03T21:03:22.750Z"
   },
   {
    "duration": 20,
    "start_time": "2021-11-03T21:03:28.826Z"
   },
   {
    "duration": 11,
    "start_time": "2021-11-03T21:04:37.845Z"
   },
   {
    "duration": 314,
    "start_time": "2021-11-03T21:04:43.902Z"
   },
   {
    "duration": 3,
    "start_time": "2021-11-03T21:05:22.034Z"
   },
   {
    "duration": 314,
    "start_time": "2021-11-03T21:05:25.129Z"
   },
   {
    "duration": 359,
    "start_time": "2021-11-03T21:05:30.930Z"
   },
   {
    "duration": 313,
    "start_time": "2021-11-03T21:05:59.039Z"
   },
   {
    "duration": 333,
    "start_time": "2021-11-03T21:08:36.699Z"
   },
   {
    "duration": 5816,
    "start_time": "2021-11-03T21:09:33.460Z"
   },
   {
    "duration": 307,
    "start_time": "2021-11-03T21:09:56.964Z"
   },
   {
    "duration": 548,
    "start_time": "2021-11-03T21:10:11.503Z"
   },
   {
    "duration": 317,
    "start_time": "2021-11-03T21:10:18.525Z"
   },
   {
    "duration": 9,
    "start_time": "2021-11-03T21:12:57.933Z"
   },
   {
    "duration": 6559,
    "start_time": "2021-11-03T21:13:01.030Z"
   },
   {
    "duration": 422,
    "start_time": "2021-11-03T21:13:24.800Z"
   },
   {
    "duration": 371,
    "start_time": "2021-11-03T21:14:43.964Z"
   },
   {
    "duration": 5,
    "start_time": "2021-11-03T21:18:30.800Z"
   },
   {
    "duration": 231,
    "start_time": "2021-11-03T21:18:43.236Z"
   },
   {
    "duration": 7,
    "start_time": "2021-11-03T21:18:56.163Z"
   },
   {
    "duration": 336,
    "start_time": "2021-11-03T21:18:56.908Z"
   },
   {
    "duration": 515,
    "start_time": "2021-11-03T21:22:18.722Z"
   },
   {
    "duration": 399,
    "start_time": "2021-11-03T21:22:23.525Z"
   },
   {
    "duration": 253,
    "start_time": "2021-11-03T21:25:34.726Z"
   },
   {
    "duration": 209,
    "start_time": "2021-11-03T21:25:46.570Z"
   },
   {
    "duration": 12,
    "start_time": "2021-11-03T21:25:50.861Z"
   },
   {
    "duration": 383,
    "start_time": "2021-11-03T21:26:34.819Z"
   },
   {
    "duration": 7,
    "start_time": "2021-11-03T21:27:47.911Z"
   },
   {
    "duration": -718,
    "start_time": "2021-11-03T21:28:45.782Z"
   },
   {
    "duration": 5690,
    "start_time": "2021-11-03T21:28:51.321Z"
   },
   {
    "duration": 372,
    "start_time": "2021-11-03T21:33:30.468Z"
   },
   {
    "duration": 6338,
    "start_time": "2021-11-03T21:34:40.996Z"
   },
   {
    "duration": 235,
    "start_time": "2021-11-03T21:34:51.703Z"
   },
   {
    "duration": 7,
    "start_time": "2021-11-03T21:34:54.593Z"
   },
   {
    "duration": 7,
    "start_time": "2021-11-03T21:37:44.672Z"
   },
   {
    "duration": 4,
    "start_time": "2021-11-03T21:37:52.518Z"
   },
   {
    "duration": 91,
    "start_time": "2021-11-03T21:38:03.292Z"
   },
   {
    "duration": 4,
    "start_time": "2021-11-03T21:38:08.930Z"
   },
   {
    "duration": 6,
    "start_time": "2021-11-03T21:38:16.406Z"
   },
   {
    "duration": 4,
    "start_time": "2021-11-03T21:38:22.342Z"
   },
   {
    "duration": 95,
    "start_time": "2021-11-03T21:38:28.533Z"
   },
   {
    "duration": 4,
    "start_time": "2021-11-03T21:38:35.107Z"
   },
   {
    "duration": 251,
    "start_time": "2021-11-03T21:38:41.321Z"
   },
   {
    "duration": -1041,
    "start_time": "2021-11-03T21:39:03.281Z"
   },
   {
    "duration": 25,
    "start_time": "2021-11-03T21:39:05.013Z"
   },
   {
    "duration": 4,
    "start_time": "2021-11-03T21:39:12.748Z"
   },
   {
    "duration": 105,
    "start_time": "2021-11-03T21:39:20.816Z"
   },
   {
    "duration": 4,
    "start_time": "2021-11-03T21:39:36.080Z"
   },
   {
    "duration": 240,
    "start_time": "2021-11-03T21:39:43.650Z"
   },
   {
    "duration": 7551,
    "start_time": "2021-11-03T21:40:04.126Z"
   },
   {
    "duration": 6648,
    "start_time": "2021-11-03T21:40:12.226Z"
   },
   {
    "duration": 22,
    "start_time": "2021-11-03T21:40:20.249Z"
   },
   {
    "duration": 4,
    "start_time": "2021-11-03T21:40:21.726Z"
   },
   {
    "duration": 111,
    "start_time": "2021-11-03T21:40:35.168Z"
   },
   {
    "duration": 4,
    "start_time": "2021-11-03T21:40:35.552Z"
   },
   {
    "duration": 39,
    "start_time": "2021-11-03T21:40:43.132Z"
   },
   {
    "duration": 39,
    "start_time": "2021-11-03T21:41:10.088Z"
   },
   {
    "duration": 266,
    "start_time": "2021-11-03T21:41:44.669Z"
   },
   {
    "duration": 104,
    "start_time": "2021-11-03T21:42:05.411Z"
   },
   {
    "duration": 110,
    "start_time": "2021-11-03T21:42:38.630Z"
   },
   {
    "duration": 12,
    "start_time": "2021-11-03T21:43:22.249Z"
   },
   {
    "duration": 271,
    "start_time": "2021-11-03T21:43:39.517Z"
   },
   {
    "duration": 452,
    "start_time": "2021-11-03T21:44:07.809Z"
   },
   {
    "duration": 12,
    "start_time": "2021-11-03T21:44:13.854Z"
   },
   {
    "duration": 89,
    "start_time": "2021-11-03T21:44:16.328Z"
   },
   {
    "duration": 12,
    "start_time": "2021-11-03T21:44:21.012Z"
   },
   {
    "duration": 11,
    "start_time": "2021-11-03T21:48:55.341Z"
   },
   {
    "duration": 17,
    "start_time": "2021-11-03T21:49:01.618Z"
   },
   {
    "duration": 18,
    "start_time": "2021-11-03T21:49:03.330Z"
   },
   {
    "duration": 11,
    "start_time": "2021-11-03T21:49:10.080Z"
   },
   {
    "duration": 7,
    "start_time": "2021-11-03T21:52:49.903Z"
   },
   {
    "duration": 6383,
    "start_time": "2021-11-03T21:53:02.695Z"
   },
   {
    "duration": 6,
    "start_time": "2021-11-03T21:53:34.178Z"
   },
   {
    "duration": 7,
    "start_time": "2021-11-03T21:53:37.306Z"
   },
   {
    "duration": 5702,
    "start_time": "2021-11-03T21:56:16.056Z"
   },
   {
    "duration": 12,
    "start_time": "2021-11-03T21:56:55.052Z"
   },
   {
    "duration": 10,
    "start_time": "2021-11-03T21:57:14.026Z"
   },
   {
    "duration": 82,
    "start_time": "2021-11-03T21:57:20.595Z"
   },
   {
    "duration": 6,
    "start_time": "2021-11-03T21:57:22.965Z"
   },
   {
    "duration": 5686,
    "start_time": "2021-11-03T21:59:40.297Z"
   },
   {
    "duration": 16,
    "start_time": "2021-11-03T22:00:37.666Z"
   },
   {
    "duration": 6515,
    "start_time": "2021-11-03T22:01:43.616Z"
   },
   {
    "duration": 16,
    "start_time": "2021-11-03T22:02:00.716Z"
   },
   {
    "duration": 1852,
    "start_time": "2021-11-04T13:21:54.358Z"
   },
   {
    "duration": 4,
    "start_time": "2021-11-04T13:21:56.213Z"
   },
   {
    "duration": 29,
    "start_time": "2021-11-04T13:21:56.221Z"
   },
   {
    "duration": 28,
    "start_time": "2021-11-04T13:21:56.252Z"
   },
   {
    "duration": 80,
    "start_time": "2021-11-04T13:21:56.283Z"
   },
   {
    "duration": 19,
    "start_time": "2021-11-04T13:21:57.616Z"
   },
   {
    "duration": 21,
    "start_time": "2021-11-04T13:21:58.246Z"
   },
   {
    "duration": 9,
    "start_time": "2021-11-04T13:21:58.523Z"
   },
   {
    "duration": 13,
    "start_time": "2021-11-04T13:21:59.292Z"
   },
   {
    "duration": 14,
    "start_time": "2021-11-04T13:21:59.454Z"
   },
   {
    "duration": 6,
    "start_time": "2021-11-04T13:21:59.881Z"
   },
   {
    "duration": 23,
    "start_time": "2021-11-04T13:22:00.012Z"
   },
   {
    "duration": 8,
    "start_time": "2021-11-04T13:22:00.945Z"
   },
   {
    "duration": 390,
    "start_time": "2021-11-04T13:22:01.137Z"
   },
   {
    "duration": 285,
    "start_time": "2021-11-04T13:22:01.531Z"
   },
   {
    "duration": 10,
    "start_time": "2021-11-04T13:22:01.821Z"
   },
   {
    "duration": 35,
    "start_time": "2021-11-04T13:22:01.834Z"
   },
   {
    "duration": 31,
    "start_time": "2021-11-04T13:22:01.873Z"
   },
   {
    "duration": 339,
    "start_time": "2021-11-04T13:22:01.951Z"
   },
   {
    "duration": 362,
    "start_time": "2021-11-04T13:22:02.630Z"
   },
   {
    "duration": 9,
    "start_time": "2021-11-04T13:22:03.332Z"
   },
   {
    "duration": 562,
    "start_time": "2021-11-04T13:22:03.506Z"
   },
   {
    "duration": 6,
    "start_time": "2021-11-04T13:22:04.147Z"
   },
   {
    "duration": 7,
    "start_time": "2021-11-04T13:22:04.331Z"
   },
   {
    "duration": 367,
    "start_time": "2021-11-04T13:22:04.479Z"
   },
   {
    "duration": 241,
    "start_time": "2021-11-04T13:22:05.220Z"
   },
   {
    "duration": 15,
    "start_time": "2021-11-04T13:22:05.465Z"
   },
   {
    "duration": 516,
    "start_time": "2021-11-04T13:22:05.504Z"
   },
   {
    "duration": 8,
    "start_time": "2021-11-04T13:22:06.024Z"
   },
   {
    "duration": 408,
    "start_time": "2021-11-04T13:22:06.157Z"
   },
   {
    "duration": 6,
    "start_time": "2021-11-04T13:22:06.568Z"
   },
   {
    "duration": 7,
    "start_time": "2021-11-04T13:22:06.785Z"
   },
   {
    "duration": 4,
    "start_time": "2021-11-04T13:22:06.949Z"
   },
   {
    "duration": 97,
    "start_time": "2021-11-04T13:22:07.093Z"
   },
   {
    "duration": 4,
    "start_time": "2021-11-04T13:22:07.243Z"
   },
   {
    "duration": 9,
    "start_time": "2021-11-04T13:22:07.416Z"
   },
   {
    "duration": 4,
    "start_time": "2021-11-04T13:22:07.542Z"
   },
   {
    "duration": 102,
    "start_time": "2021-11-04T13:22:07.726Z"
   },
   {
    "duration": 4,
    "start_time": "2021-11-04T13:22:07.880Z"
   },
   {
    "duration": 23,
    "start_time": "2021-11-04T13:22:08.071Z"
   },
   {
    "duration": 5,
    "start_time": "2021-11-04T13:22:08.220Z"
   },
   {
    "duration": 154,
    "start_time": "2021-11-04T13:22:08.422Z"
   },
   {
    "duration": 15,
    "start_time": "2021-11-04T13:22:08.585Z"
   },
   {
    "duration": 30,
    "start_time": "2021-11-04T13:22:08.779Z"
   },
   {
    "duration": 4,
    "start_time": "2021-11-04T13:22:08.929Z"
   },
   {
    "duration": 115,
    "start_time": "2021-11-04T13:22:09.137Z"
   },
   {
    "duration": 4,
    "start_time": "2021-11-04T13:22:09.292Z"
   },
   {
    "duration": 37,
    "start_time": "2021-11-04T13:22:09.452Z"
   },
   {
    "duration": 111,
    "start_time": "2021-11-04T13:22:09.639Z"
   },
   {
    "duration": 114,
    "start_time": "2021-11-04T13:22:09.840Z"
   },
   {
    "duration": 10442,
    "start_time": "2021-11-04T13:22:10.358Z"
   },
   {
    "duration": -2253,
    "start_time": "2021-11-04T13:22:23.056Z"
   },
   {
    "duration": -2275,
    "start_time": "2021-11-04T13:22:23.080Z"
   },
   {
    "duration": -2291,
    "start_time": "2021-11-04T13:22:23.098Z"
   },
   {
    "duration": -2349,
    "start_time": "2021-11-04T13:22:23.157Z"
   },
   {
    "duration": -2365,
    "start_time": "2021-11-04T13:22:23.175Z"
   },
   {
    "duration": -2382,
    "start_time": "2021-11-04T13:22:23.193Z"
   },
   {
    "duration": -2397,
    "start_time": "2021-11-04T13:22:23.210Z"
   },
   {
    "duration": -2428,
    "start_time": "2021-11-04T13:22:23.242Z"
   },
   {
    "duration": -2475,
    "start_time": "2021-11-04T13:22:23.291Z"
   },
   {
    "duration": -2494,
    "start_time": "2021-11-04T13:22:23.311Z"
   },
   {
    "duration": -2510,
    "start_time": "2021-11-04T13:22:23.329Z"
   },
   {
    "duration": -2529,
    "start_time": "2021-11-04T13:22:23.350Z"
   },
   {
    "duration": 10405,
    "start_time": "2021-11-04T13:23:37.452Z"
   },
   {
    "duration": 149,
    "start_time": "2021-11-04T13:27:01.873Z"
   },
   {
    "duration": -2055,
    "start_time": "2021-11-04T13:27:42.923Z"
   },
   {
    "duration": -2070,
    "start_time": "2021-11-04T13:27:42.940Z"
   },
   {
    "duration": 126,
    "start_time": "2021-11-04T13:27:42.897Z"
   },
   {
    "duration": 10616,
    "start_time": "2021-11-04T13:27:44.903Z"
   },
   {
    "duration": 12,
    "start_time": "2021-11-04T13:28:14.975Z"
   },
   {
    "duration": 10,
    "start_time": "2021-11-04T13:28:16.940Z"
   },
   {
    "duration": 10103,
    "start_time": "2021-11-04T13:28:18.580Z"
   },
   {
    "duration": 9226,
    "start_time": "2021-11-04T13:28:46.063Z"
   },
   {
    "duration": 66,
    "start_time": "2021-11-04T13:29:02.966Z"
   },
   {
    "duration": 62,
    "start_time": "2021-11-04T13:29:08.267Z"
   },
   {
    "duration": 36,
    "start_time": "2021-11-04T13:29:10.835Z"
   },
   {
    "duration": 109,
    "start_time": "2021-11-04T13:29:11.528Z"
   },
   {
    "duration": 118,
    "start_time": "2021-11-04T13:29:12.285Z"
   },
   {
    "duration": 9854,
    "start_time": "2021-11-04T13:29:33.667Z"
   },
   {
    "duration": 69,
    "start_time": "2021-11-04T13:29:54.473Z"
   },
   {
    "duration": 61,
    "start_time": "2021-11-04T13:30:38.660Z"
   },
   {
    "duration": 134,
    "start_time": "2021-11-04T13:30:39.328Z"
   },
   {
    "duration": 136,
    "start_time": "2021-11-04T13:30:42.629Z"
   },
   {
    "duration": 10712,
    "start_time": "2021-11-04T13:30:43.542Z"
   },
   {
    "duration": 13,
    "start_time": "2021-11-04T13:31:25.084Z"
   },
   {
    "duration": 10,
    "start_time": "2021-11-04T13:31:27.511Z"
   },
   {
    "duration": 9435,
    "start_time": "2021-11-04T13:31:31.918Z"
   },
   {
    "duration": 8,
    "start_time": "2021-11-04T13:31:43.585Z"
   },
   {
    "duration": 11,
    "start_time": "2021-11-04T13:31:59.914Z"
   },
   {
    "duration": 11,
    "start_time": "2021-11-04T13:32:01.580Z"
   },
   {
    "duration": 8,
    "start_time": "2021-11-04T13:32:06.874Z"
   },
   {
    "duration": 6,
    "start_time": "2021-11-04T13:32:09.610Z"
   },
   {
    "duration": 6,
    "start_time": "2021-11-04T13:32:10.604Z"
   },
   {
    "duration": 9670,
    "start_time": "2021-11-04T13:32:11.605Z"
   },
   {
    "duration": 13,
    "start_time": "2021-11-04T13:33:06.193Z"
   },
   {
    "duration": 10,
    "start_time": "2021-11-04T13:33:08.282Z"
   },
   {
    "duration": 6,
    "start_time": "2021-11-04T13:33:09.877Z"
   },
   {
    "duration": 19,
    "start_time": "2021-11-04T13:33:11.609Z"
   },
   {
    "duration": 20,
    "start_time": "2021-11-04T13:33:12.898Z"
   },
   {
    "duration": 1033,
    "start_time": "2021-11-04T16:13:18.087Z"
   },
   {
    "duration": 2,
    "start_time": "2021-11-04T16:13:19.122Z"
   },
   {
    "duration": 20,
    "start_time": "2021-11-04T16:13:19.126Z"
   },
   {
    "duration": 13,
    "start_time": "2021-11-04T16:13:19.148Z"
   },
   {
    "duration": 37,
    "start_time": "2021-11-04T16:13:20.038Z"
   },
   {
    "duration": 17,
    "start_time": "2021-11-04T16:13:20.157Z"
   },
   {
    "duration": 12,
    "start_time": "2021-11-04T16:13:20.307Z"
   },
   {
    "duration": 4,
    "start_time": "2021-11-04T16:13:20.413Z"
   },
   {
    "duration": 10,
    "start_time": "2021-11-04T16:13:20.745Z"
   },
   {
    "duration": 10,
    "start_time": "2021-11-04T16:13:20.865Z"
   },
   {
    "duration": 5,
    "start_time": "2021-11-04T16:13:21.267Z"
   },
   {
    "duration": 10,
    "start_time": "2021-11-04T16:13:21.400Z"
   },
   {
    "duration": 6,
    "start_time": "2021-11-04T16:13:22.316Z"
   },
   {
    "duration": 201,
    "start_time": "2021-11-04T16:13:22.532Z"
   },
   {
    "duration": 157,
    "start_time": "2021-11-04T16:13:22.735Z"
   },
   {
    "duration": 5,
    "start_time": "2021-11-04T16:13:22.894Z"
   },
   {
    "duration": 16,
    "start_time": "2021-11-04T16:13:22.901Z"
   },
   {
    "duration": 7,
    "start_time": "2021-11-04T16:13:22.979Z"
   },
   {
    "duration": 188,
    "start_time": "2021-11-04T16:13:23.129Z"
   },
   {
    "duration": 187,
    "start_time": "2021-11-04T16:13:23.767Z"
   },
   {
    "duration": 6,
    "start_time": "2021-11-04T16:13:24.376Z"
   },
   {
    "duration": 345,
    "start_time": "2021-11-04T16:13:24.526Z"
   },
   {
    "duration": 4,
    "start_time": "2021-11-04T16:13:25.161Z"
   },
   {
    "duration": 5,
    "start_time": "2021-11-04T16:13:25.368Z"
   },
   {
    "duration": 199,
    "start_time": "2021-11-04T16:13:25.494Z"
   },
   {
    "duration": 109,
    "start_time": "2021-11-04T16:13:26.104Z"
   },
   {
    "duration": 8,
    "start_time": "2021-11-04T16:13:26.281Z"
   },
   {
    "duration": 222,
    "start_time": "2021-11-04T16:13:26.396Z"
   },
   {
    "duration": 6,
    "start_time": "2021-11-04T16:13:26.746Z"
   },
   {
    "duration": 286,
    "start_time": "2021-11-04T16:13:27.046Z"
   },
   {
    "duration": 5,
    "start_time": "2021-11-04T16:13:27.364Z"
   },
   {
    "duration": 5,
    "start_time": "2021-11-04T16:13:27.653Z"
   },
   {
    "duration": 3,
    "start_time": "2021-11-04T16:13:27.796Z"
   },
   {
    "duration": 56,
    "start_time": "2021-11-04T16:13:27.979Z"
   },
   {
    "duration": 3,
    "start_time": "2021-11-04T16:13:28.100Z"
   },
   {
    "duration": 5,
    "start_time": "2021-11-04T16:13:28.266Z"
   },
   {
    "duration": 3,
    "start_time": "2021-11-04T16:13:28.462Z"
   },
   {
    "duration": 55,
    "start_time": "2021-11-04T16:13:28.618Z"
   },
   {
    "duration": 3,
    "start_time": "2021-11-04T16:13:28.787Z"
   },
   {
    "duration": 13,
    "start_time": "2021-11-04T16:13:28.948Z"
   },
   {
    "duration": 3,
    "start_time": "2021-11-04T16:13:29.153Z"
   },
   {
    "duration": 62,
    "start_time": "2021-11-04T16:13:29.301Z"
   },
   {
    "duration": 3,
    "start_time": "2021-11-04T16:13:29.524Z"
   },
   {
    "duration": 15,
    "start_time": "2021-11-04T16:13:29.646Z"
   },
   {
    "duration": 3,
    "start_time": "2021-11-04T16:13:29.844Z"
   },
   {
    "duration": 68,
    "start_time": "2021-11-04T16:13:29.998Z"
   },
   {
    "duration": 3,
    "start_time": "2021-11-04T16:13:30.155Z"
   },
   {
    "duration": 36,
    "start_time": "2021-11-04T16:13:30.306Z"
   },
   {
    "duration": 54,
    "start_time": "2021-11-04T16:13:30.437Z"
   },
   {
    "duration": 59,
    "start_time": "2021-11-04T16:13:30.591Z"
   },
   {
    "duration": 9,
    "start_time": "2021-11-04T16:13:30.755Z"
   },
   {
    "duration": 7,
    "start_time": "2021-11-04T16:13:30.904Z"
   },
   {
    "duration": 5,
    "start_time": "2021-11-04T16:13:31.116Z"
   },
   {
    "duration": 8,
    "start_time": "2021-11-04T16:13:31.389Z"
   },
   {
    "duration": 8,
    "start_time": "2021-11-04T16:13:31.623Z"
   },
   {
    "duration": 5,
    "start_time": "2021-11-04T16:13:32.456Z"
   },
   {
    "duration": 5,
    "start_time": "2021-11-04T16:13:32.615Z"
   },
   {
    "duration": 4,
    "start_time": "2021-11-04T16:13:32.776Z"
   },
   {
    "duration": 9,
    "start_time": "2021-11-04T16:13:32.975Z"
   },
   {
    "duration": 8,
    "start_time": "2021-11-04T16:13:33.066Z"
   },
   {
    "duration": 5,
    "start_time": "2021-11-04T16:13:33.227Z"
   },
   {
    "duration": 11,
    "start_time": "2021-11-04T16:13:33.899Z"
   },
   {
    "duration": 9,
    "start_time": "2021-11-04T16:13:34.037Z"
   },
   {
    "duration": 127,
    "start_time": "2021-11-05T07:16:08.356Z"
   },
   {
    "duration": 1373,
    "start_time": "2021-11-05T07:16:26.668Z"
   },
   {
    "duration": 3,
    "start_time": "2021-11-05T07:16:28.044Z"
   },
   {
    "duration": 18,
    "start_time": "2021-11-05T07:16:28.050Z"
   },
   {
    "duration": 21,
    "start_time": "2021-11-05T07:16:28.071Z"
   },
   {
    "duration": 35,
    "start_time": "2021-11-05T07:16:28.094Z"
   },
   {
    "duration": 20,
    "start_time": "2021-11-05T07:16:28.131Z"
   },
   {
    "duration": 19,
    "start_time": "2021-11-05T07:16:28.154Z"
   },
   {
    "duration": 6,
    "start_time": "2021-11-05T07:16:28.176Z"
   },
   {
    "duration": 8,
    "start_time": "2021-11-05T07:16:28.185Z"
   },
   {
    "duration": 14,
    "start_time": "2021-11-05T07:16:28.195Z"
   },
   {
    "duration": 7,
    "start_time": "2021-11-05T07:16:28.211Z"
   },
   {
    "duration": 19,
    "start_time": "2021-11-05T07:16:28.220Z"
   },
   {
    "duration": 8,
    "start_time": "2021-11-05T07:16:28.241Z"
   },
   {
    "duration": 337,
    "start_time": "2021-11-05T07:16:28.282Z"
   },
   {
    "duration": 249,
    "start_time": "2021-11-05T07:16:28.621Z"
   },
   {
    "duration": 15,
    "start_time": "2021-11-05T07:16:28.872Z"
   },
   {
    "duration": 20,
    "start_time": "2021-11-05T07:16:28.889Z"
   },
   {
    "duration": 10,
    "start_time": "2021-11-05T07:16:28.911Z"
   },
   {
    "duration": 343,
    "start_time": "2021-11-05T07:16:28.923Z"
   },
   {
    "duration": 317,
    "start_time": "2021-11-05T07:16:29.269Z"
   },
   {
    "duration": 9,
    "start_time": "2021-11-05T07:16:29.588Z"
   },
   {
    "duration": 392,
    "start_time": "2021-11-05T07:16:29.599Z"
   },
   {
    "duration": 6,
    "start_time": "2021-11-05T07:16:29.997Z"
   },
   {
    "duration": 10,
    "start_time": "2021-11-05T07:16:30.008Z"
   },
   {
    "duration": 335,
    "start_time": "2021-11-05T07:16:30.020Z"
   },
   {
    "duration": 194,
    "start_time": "2021-11-05T07:16:30.357Z"
   },
   {
    "duration": 11,
    "start_time": "2021-11-05T07:16:30.553Z"
   },
   {
    "duration": 408,
    "start_time": "2021-11-05T07:16:30.566Z"
   },
   {
    "duration": 10,
    "start_time": "2021-11-05T07:16:30.976Z"
   },
   {
    "duration": 405,
    "start_time": "2021-11-05T07:16:30.988Z"
   },
   {
    "duration": 6,
    "start_time": "2021-11-05T07:16:31.395Z"
   },
   {
    "duration": 22,
    "start_time": "2021-11-05T07:16:31.403Z"
   },
   {
    "duration": 18,
    "start_time": "2021-11-05T07:16:31.428Z"
   },
   {
    "duration": 93,
    "start_time": "2021-11-05T07:16:31.449Z"
   },
   {
    "duration": 12,
    "start_time": "2021-11-05T07:16:31.544Z"
   },
   {
    "duration": 10,
    "start_time": "2021-11-05T07:16:31.558Z"
   },
   {
    "duration": 14,
    "start_time": "2021-11-05T07:16:31.570Z"
   },
   {
    "duration": 110,
    "start_time": "2021-11-05T07:16:31.586Z"
   },
   {
    "duration": 12,
    "start_time": "2021-11-05T07:16:31.699Z"
   },
   {
    "duration": 31,
    "start_time": "2021-11-05T07:16:31.714Z"
   },
   {
    "duration": 9,
    "start_time": "2021-11-05T07:16:31.747Z"
   },
   {
    "duration": 113,
    "start_time": "2021-11-05T07:16:31.758Z"
   },
   {
    "duration": 9,
    "start_time": "2021-11-05T07:16:31.874Z"
   },
   {
    "duration": 26,
    "start_time": "2021-11-05T07:16:31.886Z"
   },
   {
    "duration": 4,
    "start_time": "2021-11-05T07:16:31.914Z"
   },
   {
    "duration": 127,
    "start_time": "2021-11-05T07:16:31.920Z"
   },
   {
    "duration": 9,
    "start_time": "2021-11-05T07:16:32.049Z"
   },
   {
    "duration": 69,
    "start_time": "2021-11-05T07:16:32.060Z"
   },
   {
    "duration": 123,
    "start_time": "2021-11-05T07:16:32.131Z"
   },
   {
    "duration": 145,
    "start_time": "2021-11-05T07:16:32.257Z"
   },
   {
    "duration": 12,
    "start_time": "2021-11-05T07:16:32.404Z"
   },
   {
    "duration": 10,
    "start_time": "2021-11-05T07:16:32.419Z"
   },
   {
    "duration": 7,
    "start_time": "2021-11-05T07:16:32.432Z"
   },
   {
    "duration": 47,
    "start_time": "2021-11-05T07:16:32.442Z"
   },
   {
    "duration": 11,
    "start_time": "2021-11-05T07:16:32.491Z"
   },
   {
    "duration": 9,
    "start_time": "2021-11-05T07:16:32.505Z"
   },
   {
    "duration": 13,
    "start_time": "2021-11-05T07:16:32.517Z"
   },
   {
    "duration": 12,
    "start_time": "2021-11-05T07:16:32.533Z"
   },
   {
    "duration": 12,
    "start_time": "2021-11-05T07:16:32.583Z"
   },
   {
    "duration": 10,
    "start_time": "2021-11-05T07:16:32.597Z"
   },
   {
    "duration": 6,
    "start_time": "2021-11-05T07:16:32.609Z"
   },
   {
    "duration": 15,
    "start_time": "2021-11-05T07:16:32.617Z"
   },
   {
    "duration": 50,
    "start_time": "2021-11-05T07:16:32.634Z"
   },
   {
    "duration": 1379,
    "start_time": "2021-11-06T13:00:34.831Z"
   },
   {
    "duration": 3,
    "start_time": "2021-11-06T13:00:38.628Z"
   },
   {
    "duration": 18,
    "start_time": "2021-11-06T13:00:51.679Z"
   },
   {
    "duration": 14,
    "start_time": "2021-11-06T13:00:52.446Z"
   },
   {
    "duration": 3,
    "start_time": "2021-11-06T13:01:00.905Z"
   },
   {
    "duration": 12,
    "start_time": "2021-11-06T13:01:06.477Z"
   },
   {
    "duration": 65,
    "start_time": "2021-11-06T13:02:09.529Z"
   },
   {
    "duration": 33,
    "start_time": "2021-11-06T13:02:10.106Z"
   },
   {
    "duration": 21,
    "start_time": "2021-11-06T13:02:10.877Z"
   },
   {
    "duration": 6,
    "start_time": "2021-11-06T13:02:11.249Z"
   },
   {
    "duration": 536,
    "start_time": "2021-11-06T13:03:51.100Z"
   },
   {
    "duration": 8,
    "start_time": "2021-11-06T13:03:54.965Z"
   },
   {
    "duration": 8,
    "start_time": "2021-11-06T13:06:35.720Z"
   },
   {
    "duration": 9,
    "start_time": "2021-11-06T13:06:58.544Z"
   },
   {
    "duration": 10,
    "start_time": "2021-11-06T13:07:09.148Z"
   },
   {
    "duration": 15,
    "start_time": "2021-11-06T13:08:45.482Z"
   },
   {
    "duration": 7,
    "start_time": "2021-11-06T13:09:42.803Z"
   },
   {
    "duration": 10,
    "start_time": "2021-11-06T13:09:51.345Z"
   },
   {
    "duration": 13,
    "start_time": "2021-11-06T13:12:15.148Z"
   },
   {
    "duration": 178,
    "start_time": "2021-11-06T13:12:22.252Z"
   },
   {
    "duration": 17,
    "start_time": "2021-11-06T13:12:23.982Z"
   },
   {
    "duration": 6,
    "start_time": "2021-11-06T13:13:28.643Z"
   },
   {
    "duration": 16,
    "start_time": "2021-11-06T13:13:29.247Z"
   },
   {
    "duration": 693,
    "start_time": "2021-11-06T13:14:25.926Z"
   },
   {
    "duration": 838,
    "start_time": "2021-11-06T13:14:59.757Z"
   },
   {
    "duration": 366,
    "start_time": "2021-11-06T13:16:06.626Z"
   },
   {
    "duration": 376,
    "start_time": "2021-11-06T13:17:06.559Z"
   },
   {
    "duration": 12,
    "start_time": "2021-11-06T13:17:26.181Z"
   },
   {
    "duration": 11,
    "start_time": "2021-11-06T13:17:37.446Z"
   },
   {
    "duration": 368,
    "start_time": "2021-11-06T13:18:09.747Z"
   },
   {
    "duration": 388,
    "start_time": "2021-11-06T13:18:15.962Z"
   },
   {
    "duration": 16,
    "start_time": "2021-11-06T13:18:29.073Z"
   },
   {
    "duration": 127,
    "start_time": "2021-11-06T13:18:54.792Z"
   },
   {
    "duration": 13,
    "start_time": "2021-11-06T13:19:16.858Z"
   },
   {
    "duration": 575,
    "start_time": "2021-11-06T13:20:03.372Z"
   },
   {
    "duration": 27,
    "start_time": "2021-11-06T13:21:18.017Z"
   },
   {
    "duration": 5,
    "start_time": "2021-11-06T13:21:38.096Z"
   },
   {
    "duration": 26,
    "start_time": "2021-11-06T13:21:38.662Z"
   },
   {
    "duration": 129,
    "start_time": "2021-11-06T13:21:59.902Z"
   },
   {
    "duration": 1121,
    "start_time": "2021-11-06T13:22:01.512Z"
   },
   {
    "duration": 437,
    "start_time": "2021-11-06T13:23:06.463Z"
   },
   {
    "duration": 412,
    "start_time": "2021-11-06T13:23:16.197Z"
   },
   {
    "duration": 27,
    "start_time": "2021-11-06T13:23:24.163Z"
   },
   {
    "duration": 26,
    "start_time": "2021-11-06T13:23:40.764Z"
   },
   {
    "duration": 394,
    "start_time": "2021-11-06T13:24:46.047Z"
   },
   {
    "duration": 391,
    "start_time": "2021-11-06T13:24:53.624Z"
   },
   {
    "duration": 25,
    "start_time": "2021-11-06T13:24:58.716Z"
   },
   {
    "duration": 15,
    "start_time": "2021-11-06T13:26:31.957Z"
   },
   {
    "duration": 1574,
    "start_time": "2021-11-06T13:26:47.175Z"
   },
   {
    "duration": 1502,
    "start_time": "2021-11-06T13:27:11.249Z"
   },
   {
    "duration": 33,
    "start_time": "2021-11-06T13:27:40.743Z"
   },
   {
    "duration": 32,
    "start_time": "2021-11-06T13:28:13.741Z"
   },
   {
    "duration": 880,
    "start_time": "2021-11-06T13:28:33.506Z"
   },
   {
    "duration": 890,
    "start_time": "2021-11-06T13:29:15.846Z"
   },
   {
    "duration": 33,
    "start_time": "2021-11-06T13:29:25.744Z"
   },
   {
    "duration": 408,
    "start_time": "2021-11-06T13:29:40.858Z"
   },
   {
    "duration": 24,
    "start_time": "2021-11-06T13:30:01.867Z"
   },
   {
    "duration": 4,
    "start_time": "2021-11-06T13:31:23.840Z"
   },
   {
    "duration": 379,
    "start_time": "2021-11-06T13:31:27.488Z"
   },
   {
    "duration": 23,
    "start_time": "2021-11-06T13:32:15.926Z"
   },
   {
    "duration": 11,
    "start_time": "2021-11-06T13:32:33.543Z"
   },
   {
    "duration": 34,
    "start_time": "2021-11-06T13:32:39.156Z"
   },
   {
    "duration": 5,
    "start_time": "2021-11-06T13:33:07.185Z"
   },
   {
    "duration": 34,
    "start_time": "2021-11-06T13:33:07.842Z"
   },
   {
    "duration": 14,
    "start_time": "2021-11-06T13:33:09.123Z"
   },
   {
    "duration": 37,
    "start_time": "2021-11-06T13:33:18.732Z"
   },
   {
    "duration": 4,
    "start_time": "2021-11-06T13:33:23.606Z"
   },
   {
    "duration": 34,
    "start_time": "2021-11-06T13:33:24.533Z"
   },
   {
    "duration": 9,
    "start_time": "2021-11-06T13:35:02.674Z"
   },
   {
    "duration": 328,
    "start_time": "2021-11-06T13:35:03.319Z"
   },
   {
    "duration": 258,
    "start_time": "2021-11-06T13:35:04.086Z"
   },
   {
    "duration": 9,
    "start_time": "2021-11-06T13:35:05.352Z"
   },
   {
    "duration": 17,
    "start_time": "2021-11-06T13:35:05.997Z"
   },
   {
    "duration": 10,
    "start_time": "2021-11-06T13:35:06.638Z"
   },
   {
    "duration": 307,
    "start_time": "2021-11-06T13:35:07.311Z"
   },
   {
    "duration": 707,
    "start_time": "2021-11-06T13:41:49.167Z"
   },
   {
    "duration": 310,
    "start_time": "2021-11-06T13:42:07.627Z"
   },
   {
    "duration": 516,
    "start_time": "2021-11-06T13:42:50.739Z"
   },
   {
    "duration": 291,
    "start_time": "2021-11-06T13:43:48.629Z"
   },
   {
    "duration": 724,
    "start_time": "2021-11-06T13:45:01.326Z"
   },
   {
    "duration": 612,
    "start_time": "2021-11-06T13:45:10.792Z"
   },
   {
    "duration": 635,
    "start_time": "2021-11-06T13:45:16.274Z"
   },
   {
    "duration": 654,
    "start_time": "2021-11-06T13:45:24.602Z"
   },
   {
    "duration": 728,
    "start_time": "2021-11-06T13:45:35.380Z"
   },
   {
    "duration": 791,
    "start_time": "2021-11-06T13:45:40.957Z"
   },
   {
    "duration": 650,
    "start_time": "2021-11-06T13:45:48.178Z"
   },
   {
    "duration": 629,
    "start_time": "2021-11-06T13:45:57.315Z"
   },
   {
    "duration": 618,
    "start_time": "2021-11-06T13:46:04.981Z"
   },
   {
    "duration": 657,
    "start_time": "2021-11-06T13:46:25.079Z"
   },
   {
    "duration": 621,
    "start_time": "2021-11-06T13:46:33.280Z"
   },
   {
    "duration": 422,
    "start_time": "2021-11-06T13:46:46.565Z"
   },
   {
    "duration": 10,
    "start_time": "2021-11-06T13:46:52.391Z"
   },
   {
    "duration": 501,
    "start_time": "2021-11-06T13:46:55.100Z"
   },
   {
    "duration": 5,
    "start_time": "2021-11-06T13:47:06.374Z"
   },
   {
    "duration": 7,
    "start_time": "2021-11-06T13:47:12.773Z"
   },
   {
    "duration": 292,
    "start_time": "2021-11-06T13:47:13.468Z"
   },
   {
    "duration": 324,
    "start_time": "2021-11-06T13:48:08.750Z"
   },
   {
    "duration": 898,
    "start_time": "2021-11-06T13:52:58.859Z"
   },
   {
    "duration": 12,
    "start_time": "2021-11-06T13:53:21.807Z"
   },
   {
    "duration": 257,
    "start_time": "2021-11-06T13:53:23.293Z"
   },
   {
    "duration": 346,
    "start_time": "2021-11-06T13:53:34.893Z"
   },
   {
    "duration": 344,
    "start_time": "2021-11-06T13:53:41.405Z"
   },
   {
    "duration": 385,
    "start_time": "2021-11-06T13:53:57.160Z"
   },
   {
    "duration": 795,
    "start_time": "2021-11-06T13:54:15.772Z"
   },
   {
    "duration": 401,
    "start_time": "2021-11-06T13:54:21.761Z"
   },
   {
    "duration": 341,
    "start_time": "2021-11-06T13:54:27.098Z"
   },
   {
    "duration": 401,
    "start_time": "2021-11-06T13:54:37.452Z"
   },
   {
    "duration": 511,
    "start_time": "2021-11-06T14:07:45.873Z"
   },
   {
    "duration": 207,
    "start_time": "2021-11-06T14:08:29.715Z"
   },
   {
    "duration": 12,
    "start_time": "2021-11-06T14:08:30.491Z"
   },
   {
    "duration": 372,
    "start_time": "2021-11-06T14:08:31.215Z"
   },
   {
    "duration": 396,
    "start_time": "2021-11-06T14:08:38.839Z"
   },
   {
    "duration": 395,
    "start_time": "2021-11-06T14:08:54.147Z"
   },
   {
    "duration": 399,
    "start_time": "2021-11-06T14:09:29.272Z"
   },
   {
    "duration": 367,
    "start_time": "2021-11-06T14:09:36.394Z"
   },
   {
    "duration": 7,
    "start_time": "2021-11-06T14:09:38.714Z"
   },
   {
    "duration": 369,
    "start_time": "2021-11-06T14:09:40.686Z"
   },
   {
    "duration": 411,
    "start_time": "2021-11-06T14:10:15.614Z"
   },
   {
    "duration": 7,
    "start_time": "2021-11-06T14:10:21.886Z"
   },
   {
    "duration": 479,
    "start_time": "2021-11-06T14:16:03.488Z"
   },
   {
    "duration": 7,
    "start_time": "2021-11-06T14:16:07.157Z"
   },
   {
    "duration": 7,
    "start_time": "2021-11-06T14:16:07.708Z"
   },
   {
    "duration": 4,
    "start_time": "2021-11-06T14:16:07.845Z"
   },
   {
    "duration": 89,
    "start_time": "2021-11-06T14:16:07.983Z"
   },
   {
    "duration": 3,
    "start_time": "2021-11-06T14:16:08.080Z"
   },
   {
    "duration": 6,
    "start_time": "2021-11-06T14:16:08.202Z"
   },
   {
    "duration": 4,
    "start_time": "2021-11-06T14:16:08.368Z"
   },
   {
    "duration": 88,
    "start_time": "2021-11-06T14:16:08.594Z"
   },
   {
    "duration": 6,
    "start_time": "2021-11-06T14:16:08.685Z"
   },
   {
    "duration": 21,
    "start_time": "2021-11-06T14:16:08.745Z"
   },
   {
    "duration": 4,
    "start_time": "2021-11-06T14:16:08.894Z"
   },
   {
    "duration": 93,
    "start_time": "2021-11-06T14:16:09.032Z"
   },
   {
    "duration": 4,
    "start_time": "2021-11-06T14:16:09.181Z"
   },
   {
    "duration": 21,
    "start_time": "2021-11-06T14:16:09.326Z"
   },
   {
    "duration": 3,
    "start_time": "2021-11-06T14:16:09.496Z"
   },
   {
    "duration": 98,
    "start_time": "2021-11-06T14:16:09.697Z"
   },
   {
    "duration": 4,
    "start_time": "2021-11-06T14:16:10.488Z"
   },
   {
    "duration": 53,
    "start_time": "2021-11-06T14:16:12.126Z"
   },
   {
    "duration": 101,
    "start_time": "2021-11-06T14:16:12.566Z"
   },
   {
    "duration": 113,
    "start_time": "2021-11-06T14:16:12.683Z"
   },
   {
    "duration": 13,
    "start_time": "2021-11-06T14:16:12.941Z"
   },
   {
    "duration": 12,
    "start_time": "2021-11-06T14:16:15.052Z"
   },
   {
    "duration": 8,
    "start_time": "2021-11-06T14:16:16.042Z"
   },
   {
    "duration": 11,
    "start_time": "2021-11-06T14:16:19.890Z"
   },
   {
    "duration": 11,
    "start_time": "2021-11-06T14:16:21.780Z"
   },
   {
    "duration": 7,
    "start_time": "2021-11-06T14:16:23.221Z"
   },
   {
    "duration": 5,
    "start_time": "2021-11-06T14:16:23.466Z"
   },
   {
    "duration": 6,
    "start_time": "2021-11-06T14:16:24.242Z"
   },
   {
    "duration": 11,
    "start_time": "2021-11-06T14:16:24.429Z"
   },
   {
    "duration": 9,
    "start_time": "2021-11-06T14:16:24.499Z"
   },
   {
    "duration": 6,
    "start_time": "2021-11-06T14:16:24.732Z"
   },
   {
    "duration": 10,
    "start_time": "2021-11-06T14:18:00.965Z"
   },
   {
    "duration": 11,
    "start_time": "2021-11-06T14:18:01.027Z"
   },
   {
    "duration": 7,
    "start_time": "2021-11-06T14:18:02.457Z"
   },
   {
    "duration": 6,
    "start_time": "2021-11-06T14:18:02.565Z"
   },
   {
    "duration": 7,
    "start_time": "2021-11-06T14:18:02.742Z"
   },
   {
    "duration": 12,
    "start_time": "2021-11-06T14:18:02.865Z"
   },
   {
    "duration": 9,
    "start_time": "2021-11-06T14:18:02.995Z"
   },
   {
    "duration": 6,
    "start_time": "2021-11-06T14:18:03.126Z"
   },
   {
    "duration": 14,
    "start_time": "2021-11-06T14:18:03.491Z"
   },
   {
    "duration": 13,
    "start_time": "2021-11-06T14:18:04.303Z"
   },
   {
    "duration": 13,
    "start_time": "2021-11-06T14:18:27.061Z"
   },
   {
    "duration": 13,
    "start_time": "2021-11-06T14:18:34.584Z"
   },
   {
    "duration": 9,
    "start_time": "2021-11-06T14:18:40.863Z"
   },
   {
    "duration": 7,
    "start_time": "2021-11-06T14:18:44.745Z"
   },
   {
    "duration": 9,
    "start_time": "2021-11-06T14:18:53.273Z"
   },
   {
    "duration": 7,
    "start_time": "2021-11-06T14:18:56.531Z"
   },
   {
    "duration": 1797,
    "start_time": "2021-11-07T14:47:55.663Z"
   },
   {
    "duration": 4,
    "start_time": "2021-11-07T14:47:57.464Z"
   },
   {
    "duration": 22,
    "start_time": "2021-11-07T14:47:57.471Z"
   },
   {
    "duration": 7,
    "start_time": "2021-11-07T14:47:57.496Z"
   },
   {
    "duration": 23,
    "start_time": "2021-11-07T14:47:57.506Z"
   },
   {
    "duration": 83,
    "start_time": "2021-11-07T14:47:57.531Z"
   },
   {
    "duration": 18,
    "start_time": "2021-11-07T14:47:57.617Z"
   },
   {
    "duration": 19,
    "start_time": "2021-11-07T14:47:58.133Z"
   },
   {
    "duration": 8,
    "start_time": "2021-11-07T14:47:58.807Z"
   },
   {
    "duration": 9,
    "start_time": "2021-11-07T14:47:59.340Z"
   },
   {
    "duration": 7,
    "start_time": "2021-11-07T14:47:59.875Z"
   },
   {
    "duration": 8,
    "start_time": "2021-11-07T14:48:00.375Z"
   },
   {
    "duration": 8,
    "start_time": "2021-11-07T14:48:00.981Z"
   },
   {
    "duration": 7,
    "start_time": "2021-11-07T14:48:28.285Z"
   },
   {
    "duration": 511,
    "start_time": "2021-11-07T14:48:43.628Z"
   },
   {
    "duration": 373,
    "start_time": "2021-11-07T14:49:07.912Z"
   },
   {
    "duration": 389,
    "start_time": "2021-11-07T14:49:12.875Z"
   },
   {
    "duration": 8,
    "start_time": "2021-11-07T14:49:18.554Z"
   },
   {
    "duration": 375,
    "start_time": "2021-11-07T14:49:18.770Z"
   },
   {
    "duration": 416,
    "start_time": "2021-11-07T14:49:51.154Z"
   },
   {
    "duration": 8,
    "start_time": "2021-11-07T14:50:03.082Z"
   },
   {
    "duration": 8,
    "start_time": "2021-11-07T14:50:16.030Z"
   },
   {
    "duration": 13,
    "start_time": "2021-11-07T14:50:34.771Z"
   },
   {
    "duration": 9,
    "start_time": "2021-11-07T14:50:39.518Z"
   },
   {
    "duration": 9,
    "start_time": "2021-11-07T14:53:42.971Z"
   },
   {
    "duration": -151,
    "start_time": "2021-11-07T14:54:02.316Z"
   },
   {
    "duration": 365,
    "start_time": "2021-11-07T14:54:03.608Z"
   },
   {
    "duration": 9,
    "start_time": "2021-11-07T14:54:14.311Z"
   },
   {
    "duration": 6,
    "start_time": "2021-11-07T14:54:20.429Z"
   },
   {
    "duration": 5184,
    "start_time": "2021-11-07T14:55:29.977Z"
   },
   {
    "duration": 6,
    "start_time": "2021-11-07T14:55:44.293Z"
   },
   {
    "duration": 8,
    "start_time": "2021-11-07T14:55:52.547Z"
   },
   {
    "duration": -166,
    "start_time": "2021-11-07T14:56:21.548Z"
   },
   {
    "duration": 6,
    "start_time": "2021-11-07T14:56:27.473Z"
   },
   {
    "duration": 21,
    "start_time": "2021-11-07T14:56:29.612Z"
   },
   {
    "duration": 10,
    "start_time": "2021-11-07T14:56:50.623Z"
   },
   {
    "duration": 12,
    "start_time": "2021-11-07T14:57:08.639Z"
   },
   {
    "duration": 11,
    "start_time": "2021-11-07T14:57:54.200Z"
   },
   {
    "duration": 9,
    "start_time": "2021-11-07T14:57:59.398Z"
   },
   {
    "duration": 8,
    "start_time": "2021-11-07T14:58:05.166Z"
   },
   {
    "duration": 10,
    "start_time": "2021-11-07T14:58:30.444Z"
   },
   {
    "duration": 10,
    "start_time": "2021-11-07T14:58:31.413Z"
   },
   {
    "duration": 12,
    "start_time": "2021-11-07T15:00:19.917Z"
   },
   {
    "duration": 39,
    "start_time": "2021-11-07T15:00:22.011Z"
   },
   {
    "duration": 382,
    "start_time": "2021-11-07T15:00:53.310Z"
   },
   {
    "duration": 361,
    "start_time": "2021-11-07T15:01:04.414Z"
   },
   {
    "duration": 8,
    "start_time": "2021-11-07T15:01:12.993Z"
   },
   {
    "duration": 417,
    "start_time": "2021-11-07T15:01:14.210Z"
   },
   {
    "duration": 434,
    "start_time": "2021-11-07T15:01:17.494Z"
   },
   {
    "duration": 421,
    "start_time": "2021-11-07T15:03:26.833Z"
   },
   {
    "duration": 17,
    "start_time": "2021-11-07T15:03:35.347Z"
   },
   {
    "duration": 39,
    "start_time": "2021-11-07T15:03:37.869Z"
   },
   {
    "duration": 360,
    "start_time": "2021-11-07T15:04:39.187Z"
   },
   {
    "duration": 13,
    "start_time": "2021-11-07T15:04:47.786Z"
   },
   {
    "duration": 12,
    "start_time": "2021-11-07T15:05:48.295Z"
   },
   {
    "duration": 10,
    "start_time": "2021-11-07T15:05:57.734Z"
   },
   {
    "duration": 12,
    "start_time": "2021-11-07T15:07:22.528Z"
   },
   {
    "duration": 18,
    "start_time": "2021-11-07T15:07:23.131Z"
   },
   {
    "duration": 7,
    "start_time": "2021-11-07T15:07:24.169Z"
   },
   {
    "duration": 4,
    "start_time": "2021-11-07T15:07:24.669Z"
   },
   {
    "duration": 893,
    "start_time": "2021-11-07T15:07:24.965Z"
   },
   {
    "duration": 10,
    "start_time": "2021-11-07T15:07:28.588Z"
   },
   {
    "duration": 370,
    "start_time": "2021-11-07T15:07:28.902Z"
   },
   {
    "duration": 291,
    "start_time": "2021-11-07T15:07:29.275Z"
   },
   {
    "duration": 15,
    "start_time": "2021-11-07T15:07:29.569Z"
   },
   {
    "duration": 20,
    "start_time": "2021-11-07T15:07:29.929Z"
   },
   {
    "duration": 10,
    "start_time": "2021-11-07T15:07:30.128Z"
   },
   {
    "duration": 466,
    "start_time": "2021-11-07T15:07:30.290Z"
   },
   {
    "duration": 442,
    "start_time": "2021-11-07T15:07:33.395Z"
   },
   {
    "duration": 9,
    "start_time": "2021-11-07T15:07:34.503Z"
   },
   {
    "duration": 471,
    "start_time": "2021-11-07T15:07:35.499Z"
   },
   {
    "duration": 5,
    "start_time": "2021-11-07T15:07:36.644Z"
   },
   {
    "duration": 7,
    "start_time": "2021-11-07T15:07:36.873Z"
   },
   {
    "duration": 345,
    "start_time": "2021-11-07T15:07:37.007Z"
   },
   {
    "duration": 12,
    "start_time": "2021-11-07T15:07:42.276Z"
   },
   {
    "duration": 428,
    "start_time": "2021-11-07T15:07:42.414Z"
   },
   {
    "duration": 201,
    "start_time": "2021-11-07T15:07:42.844Z"
   },
   {
    "duration": 10,
    "start_time": "2021-11-07T15:07:43.048Z"
   },
   {
    "duration": 401,
    "start_time": "2021-11-07T15:07:43.402Z"
   },
   {
    "duration": 7,
    "start_time": "2021-11-07T15:07:43.832Z"
   },
   {
    "duration": 521,
    "start_time": "2021-11-07T15:07:44.788Z"
   },
   {
    "duration": 6,
    "start_time": "2021-11-07T15:07:45.774Z"
   },
   {
    "duration": 8,
    "start_time": "2021-11-07T15:07:47.306Z"
   },
   {
    "duration": 4,
    "start_time": "2021-11-07T15:07:47.420Z"
   },
   {
    "duration": 92,
    "start_time": "2021-11-07T15:07:47.600Z"
   },
   {
    "duration": 5,
    "start_time": "2021-11-07T15:07:47.796Z"
   },
   {
    "duration": 7,
    "start_time": "2021-11-07T15:07:48.097Z"
   },
   {
    "duration": 3,
    "start_time": "2021-11-07T15:07:48.251Z"
   },
   {
    "duration": 93,
    "start_time": "2021-11-07T15:07:48.393Z"
   },
   {
    "duration": 4,
    "start_time": "2021-11-07T15:07:48.545Z"
   },
   {
    "duration": 21,
    "start_time": "2021-11-07T15:07:48.684Z"
   },
   {
    "duration": 4,
    "start_time": "2021-11-07T15:07:48.839Z"
   },
   {
    "duration": 102,
    "start_time": "2021-11-07T15:07:48.980Z"
   },
   {
    "duration": 4,
    "start_time": "2021-11-07T15:07:49.158Z"
   },
   {
    "duration": 21,
    "start_time": "2021-11-07T15:07:49.384Z"
   },
   {
    "duration": 4,
    "start_time": "2021-11-07T15:07:49.895Z"
   },
   {
    "duration": 103,
    "start_time": "2021-11-07T15:07:50.032Z"
   },
   {
    "duration": 4,
    "start_time": "2021-11-07T15:07:50.193Z"
   },
   {
    "duration": 60,
    "start_time": "2021-11-07T15:07:50.355Z"
   },
   {
    "duration": 118,
    "start_time": "2021-11-07T15:07:50.507Z"
   },
   {
    "duration": 125,
    "start_time": "2021-11-07T15:07:50.718Z"
   },
   {
    "duration": 12,
    "start_time": "2021-11-07T15:07:51.156Z"
   },
   {
    "duration": 10,
    "start_time": "2021-11-07T15:07:52.384Z"
   },
   {
    "duration": 8,
    "start_time": "2021-11-07T15:07:52.518Z"
   },
   {
    "duration": 11,
    "start_time": "2021-11-07T15:07:53.989Z"
   },
   {
    "duration": 10,
    "start_time": "2021-11-07T15:07:54.552Z"
   },
   {
    "duration": 7,
    "start_time": "2021-11-07T15:07:55.210Z"
   },
   {
    "duration": 6,
    "start_time": "2021-11-07T15:07:55.442Z"
   },
   {
    "duration": 6,
    "start_time": "2021-11-07T15:07:55.803Z"
   },
   {
    "duration": 12,
    "start_time": "2021-11-07T15:07:55.988Z"
   },
   {
    "duration": 9,
    "start_time": "2021-11-07T15:07:56.136Z"
   },
   {
    "duration": 6,
    "start_time": "2021-11-07T15:07:56.312Z"
   },
   {
    "duration": 14,
    "start_time": "2021-11-07T15:07:56.683Z"
   },
   {
    "duration": 14,
    "start_time": "2021-11-07T15:07:57.191Z"
   },
   {
    "duration": 2144,
    "start_time": "2021-11-07T21:48:38.232Z"
   },
   {
    "duration": 3,
    "start_time": "2021-11-07T21:48:40.379Z"
   },
   {
    "duration": 31,
    "start_time": "2021-11-07T21:48:40.385Z"
   },
   {
    "duration": 4,
    "start_time": "2021-11-07T21:48:40.419Z"
   },
   {
    "duration": 17,
    "start_time": "2021-11-07T21:48:40.426Z"
   },
   {
    "duration": 73,
    "start_time": "2021-11-07T21:48:40.445Z"
   },
   {
    "duration": 18,
    "start_time": "2021-11-07T21:48:40.521Z"
   },
   {
    "duration": 22,
    "start_time": "2021-11-07T21:48:40.629Z"
   },
   {
    "duration": 6,
    "start_time": "2021-11-07T21:48:40.748Z"
   },
   {
    "duration": 8,
    "start_time": "2021-11-07T21:48:40.910Z"
   },
   {
    "duration": 8,
    "start_time": "2021-11-07T21:48:41.066Z"
   },
   {
    "duration": 8,
    "start_time": "2021-11-07T21:48:41.273Z"
   },
   {
    "duration": 8,
    "start_time": "2021-11-07T21:48:41.880Z"
   },
   {
    "duration": 515,
    "start_time": "2021-11-07T21:49:07.358Z"
   },
   {
    "duration": 6,
    "start_time": "2021-11-07T21:49:13.189Z"
   },
   {
    "duration": 208,
    "start_time": "2021-11-07T21:49:19.153Z"
   },
   {
    "duration": 10,
    "start_time": "2021-11-07T21:49:23.117Z"
   },
   {
    "duration": 17,
    "start_time": "2021-11-07T21:50:20.740Z"
   },
   {
    "duration": 125,
    "start_time": "2021-11-07T21:50:28.393Z"
   },
   {
    "duration": 20,
    "start_time": "2021-11-07T21:50:36.722Z"
   },
   {
    "duration": 11,
    "start_time": "2021-11-07T21:51:02.462Z"
   },
   {
    "duration": 21,
    "start_time": "2021-11-07T21:51:04.655Z"
   },
   {
    "duration": 6,
    "start_time": "2021-11-07T21:51:34.700Z"
   },
   {
    "duration": 12,
    "start_time": "2021-11-07T21:51:38.084Z"
   },
   {
    "duration": 15,
    "start_time": "2021-11-07T21:51:49.107Z"
   },
   {
    "duration": 12,
    "start_time": "2021-11-07T21:52:01.373Z"
   },
   {
    "duration": 14,
    "start_time": "2021-11-07T21:52:04.203Z"
   },
   {
    "duration": 15,
    "start_time": "2021-11-07T21:52:11.253Z"
   },
   {
    "duration": 7,
    "start_time": "2021-11-07T21:52:15.672Z"
   },
   {
    "duration": 8,
    "start_time": "2021-11-07T21:52:16.409Z"
   },
   {
    "duration": 15,
    "start_time": "2021-11-07T21:52:17.066Z"
   },
   {
    "duration": 15,
    "start_time": "2021-11-07T21:53:11.795Z"
   },
   {
    "duration": 12,
    "start_time": "2021-11-07T21:53:17.213Z"
   },
   {
    "duration": 1483,
    "start_time": "2021-11-07T21:53:35.798Z"
   },
   {
    "duration": 4,
    "start_time": "2021-11-07T21:53:37.284Z"
   },
   {
    "duration": 28,
    "start_time": "2021-11-07T21:53:37.291Z"
   },
   {
    "duration": 18,
    "start_time": "2021-11-07T21:54:35.557Z"
   },
   {
    "duration": 4,
    "start_time": "2021-11-07T21:54:35.704Z"
   },
   {
    "duration": 17,
    "start_time": "2021-11-07T21:54:35.812Z"
   },
   {
    "duration": 59,
    "start_time": "2021-11-07T21:54:36.394Z"
   },
   {
    "duration": 19,
    "start_time": "2021-11-07T21:54:36.541Z"
   },
   {
    "duration": 22,
    "start_time": "2021-11-07T21:54:36.745Z"
   },
   {
    "duration": 7,
    "start_time": "2021-11-07T21:54:36.808Z"
   },
   {
    "duration": 9,
    "start_time": "2021-11-07T21:54:36.950Z"
   },
   {
    "duration": 8,
    "start_time": "2021-11-07T21:54:37.074Z"
   },
   {
    "duration": 9,
    "start_time": "2021-11-07T21:54:37.233Z"
   },
   {
    "duration": 8,
    "start_time": "2021-11-07T21:54:37.400Z"
   },
   {
    "duration": 20,
    "start_time": "2021-11-07T21:54:37.556Z"
   },
   {
    "duration": 10,
    "start_time": "2021-11-07T21:54:37.691Z"
   },
   {
    "duration": 11,
    "start_time": "2021-11-07T21:55:02.952Z"
   },
   {
    "duration": 15,
    "start_time": "2021-11-07T21:55:13.803Z"
   },
   {
    "duration": 16,
    "start_time": "2021-11-07T21:55:22.444Z"
   },
   {
    "duration": 5,
    "start_time": "2021-11-07T21:55:28.201Z"
   },
   {
    "duration": 4,
    "start_time": "2021-11-07T21:55:28.809Z"
   },
   {
    "duration": 19,
    "start_time": "2021-11-07T21:55:28.931Z"
   },
   {
    "duration": 4,
    "start_time": "2021-11-07T21:55:29.066Z"
   },
   {
    "duration": 12,
    "start_time": "2021-11-07T21:55:29.209Z"
   },
   {
    "duration": 51,
    "start_time": "2021-11-07T21:55:30.361Z"
   },
   {
    "duration": 18,
    "start_time": "2021-11-07T21:55:30.708Z"
   },
   {
    "duration": 21,
    "start_time": "2021-11-07T21:55:30.942Z"
   },
   {
    "duration": 7,
    "start_time": "2021-11-07T21:55:31.059Z"
   },
   {
    "duration": 9,
    "start_time": "2021-11-07T21:55:31.899Z"
   },
   {
    "duration": 8,
    "start_time": "2021-11-07T21:55:32.305Z"
   },
   {
    "duration": 8,
    "start_time": "2021-11-07T21:55:32.497Z"
   },
   {
    "duration": 8,
    "start_time": "2021-11-07T21:55:33.496Z"
   },
   {
    "duration": 20,
    "start_time": "2021-11-07T21:55:33.919Z"
   },
   {
    "duration": 13,
    "start_time": "2021-11-07T21:55:41.982Z"
   },
   {
    "duration": 10,
    "start_time": "2021-11-07T21:55:45.590Z"
   },
   {
    "duration": 19,
    "start_time": "2021-11-07T21:55:49.197Z"
   },
   {
    "duration": 582,
    "start_time": "2021-11-07T21:55:58.926Z"
   },
   {
    "duration": 6,
    "start_time": "2021-11-07T21:56:54.133Z"
   },
   {
    "duration": 11,
    "start_time": "2021-11-07T21:56:59.782Z"
   },
   {
    "duration": 4,
    "start_time": "2021-11-07T21:57:07.419Z"
   },
   {
    "duration": 4,
    "start_time": "2021-11-07T21:57:07.543Z"
   },
   {
    "duration": 17,
    "start_time": "2021-11-07T21:57:07.669Z"
   },
   {
    "duration": 4,
    "start_time": "2021-11-07T21:57:07.812Z"
   },
   {
    "duration": 12,
    "start_time": "2021-11-07T21:57:07.957Z"
   },
   {
    "duration": 42,
    "start_time": "2021-11-07T21:57:08.983Z"
   },
   {
    "duration": 17,
    "start_time": "2021-11-07T21:57:09.174Z"
   },
   {
    "duration": 20,
    "start_time": "2021-11-07T21:57:09.356Z"
   },
   {
    "duration": 7,
    "start_time": "2021-11-07T21:57:09.567Z"
   },
   {
    "duration": 9,
    "start_time": "2021-11-07T21:57:10.579Z"
   },
   {
    "duration": 8,
    "start_time": "2021-11-07T21:57:11.382Z"
   },
   {
    "duration": 8,
    "start_time": "2021-11-07T21:57:12.200Z"
   },
   {
    "duration": 8,
    "start_time": "2021-11-07T21:57:20.664Z"
   },
   {
    "duration": 10,
    "start_time": "2021-11-07T21:57:21.338Z"
   },
   {
    "duration": 20,
    "start_time": "2021-11-07T21:57:22.091Z"
   },
   {
    "duration": 1316,
    "start_time": "2021-11-08T16:29:57.207Z"
   },
   {
    "duration": 3,
    "start_time": "2021-11-08T16:29:58.526Z"
   },
   {
    "duration": 51,
    "start_time": "2021-11-08T16:29:58.532Z"
   },
   {
    "duration": 3,
    "start_time": "2021-11-08T16:29:58.586Z"
   },
   {
    "duration": 18,
    "start_time": "2021-11-08T16:29:58.592Z"
   },
   {
    "duration": 52,
    "start_time": "2021-11-08T16:29:58.612Z"
   },
   {
    "duration": 33,
    "start_time": "2021-11-08T16:29:58.666Z"
   },
   {
    "duration": 19,
    "start_time": "2021-11-08T16:29:58.703Z"
   },
   {
    "duration": 8,
    "start_time": "2021-11-08T16:29:58.725Z"
   },
   {
    "duration": 12,
    "start_time": "2021-11-08T16:29:58.735Z"
   },
   {
    "duration": 8,
    "start_time": "2021-11-08T16:29:58.749Z"
   },
   {
    "duration": 10,
    "start_time": "2021-11-08T16:29:58.759Z"
   },
   {
    "duration": 10,
    "start_time": "2021-11-08T16:29:58.771Z"
   },
   {
    "duration": 14,
    "start_time": "2021-11-08T16:29:58.783Z"
   },
   {
    "duration": 13,
    "start_time": "2021-11-08T16:29:58.800Z"
   },
   {
    "duration": 56,
    "start_time": "2021-11-08T16:29:58.815Z"
   },
   {
    "duration": 7,
    "start_time": "2021-11-08T16:29:58.873Z"
   },
   {
    "duration": 16,
    "start_time": "2021-11-08T16:29:58.882Z"
   },
   {
    "duration": 6,
    "start_time": "2021-11-08T16:29:58.900Z"
   },
   {
    "duration": 7,
    "start_time": "2021-11-08T16:29:58.908Z"
   },
   {
    "duration": 86207,
    "start_time": "2021-11-08T16:29:58.918Z"
   },
   {
    "duration": 9,
    "start_time": "2021-11-08T16:31:25.128Z"
   },
   {
    "duration": 337,
    "start_time": "2021-11-08T16:31:25.143Z"
   },
   {
    "duration": 280,
    "start_time": "2021-11-08T16:31:25.484Z"
   },
   {
    "duration": 13,
    "start_time": "2021-11-08T16:31:25.767Z"
   },
   {
    "duration": 74,
    "start_time": "2021-11-08T16:31:25.782Z"
   },
   {
    "duration": 20,
    "start_time": "2021-11-08T16:31:25.858Z"
   },
   {
    "duration": 468,
    "start_time": "2021-11-08T16:31:25.881Z"
   },
   {
    "duration": 420,
    "start_time": "2021-11-08T16:31:26.359Z"
   },
   {
    "duration": 10,
    "start_time": "2021-11-08T16:31:26.783Z"
   },
   {
    "duration": 456,
    "start_time": "2021-11-08T16:31:26.796Z"
   },
   {
    "duration": 8,
    "start_time": "2021-11-08T16:31:27.255Z"
   },
   {
    "duration": 16,
    "start_time": "2021-11-08T16:31:27.266Z"
   },
   {
    "duration": 339,
    "start_time": "2021-11-08T16:31:27.284Z"
   },
   {
    "duration": 13,
    "start_time": "2021-11-08T16:31:27.627Z"
   },
   {
    "duration": 445,
    "start_time": "2021-11-08T16:31:27.643Z"
   },
   {
    "duration": 182,
    "start_time": "2021-11-08T16:31:28.091Z"
   },
   {
    "duration": 13,
    "start_time": "2021-11-08T16:31:28.275Z"
   },
   {
    "duration": 369,
    "start_time": "2021-11-08T16:31:28.291Z"
   },
   {
    "duration": 8,
    "start_time": "2021-11-08T16:31:28.663Z"
   },
   {
    "duration": 508,
    "start_time": "2021-11-08T16:31:28.674Z"
   },
   {
    "duration": 7,
    "start_time": "2021-11-08T16:31:29.184Z"
   },
   {
    "duration": 10,
    "start_time": "2021-11-08T16:31:29.194Z"
   },
   {
    "duration": 6,
    "start_time": "2021-11-08T16:31:29.207Z"
   },
   {
    "duration": 115,
    "start_time": "2021-11-08T16:31:29.216Z"
   },
   {
    "duration": 3,
    "start_time": "2021-11-08T16:31:29.334Z"
   },
   {
    "duration": 19,
    "start_time": "2021-11-08T16:31:29.340Z"
   },
   {
    "duration": 9,
    "start_time": "2021-11-08T16:31:29.362Z"
   },
   {
    "duration": 107,
    "start_time": "2021-11-08T16:31:29.373Z"
   },
   {
    "duration": 7,
    "start_time": "2021-11-08T16:31:29.482Z"
   },
   {
    "duration": 24,
    "start_time": "2021-11-08T16:31:29.491Z"
   },
   {
    "duration": 4,
    "start_time": "2021-11-08T16:31:29.517Z"
   },
   {
    "duration": 122,
    "start_time": "2021-11-08T16:31:29.523Z"
   },
   {
    "duration": 11,
    "start_time": "2021-11-08T16:31:29.648Z"
   },
   {
    "duration": 21,
    "start_time": "2021-11-08T16:31:29.661Z"
   },
   {
    "duration": 3,
    "start_time": "2021-11-08T16:31:29.685Z"
   },
   {
    "duration": 118,
    "start_time": "2021-11-08T16:31:29.690Z"
   },
   {
    "duration": 8,
    "start_time": "2021-11-08T16:31:29.811Z"
   },
   {
    "duration": 71,
    "start_time": "2021-11-08T16:31:29.821Z"
   },
   {
    "duration": 124,
    "start_time": "2021-11-08T16:31:29.894Z"
   },
   {
    "duration": 170,
    "start_time": "2021-11-08T16:31:30.021Z"
   },
   {
    "duration": 12,
    "start_time": "2021-11-08T16:31:30.193Z"
   },
   {
    "duration": 26,
    "start_time": "2021-11-08T16:31:30.207Z"
   },
   {
    "duration": 13,
    "start_time": "2021-11-08T16:31:30.236Z"
   },
   {
    "duration": 12,
    "start_time": "2021-11-08T16:31:30.260Z"
   },
   {
    "duration": 18,
    "start_time": "2021-11-08T16:31:30.274Z"
   },
   {
    "duration": 14,
    "start_time": "2021-11-08T16:31:30.294Z"
   },
   {
    "duration": 20,
    "start_time": "2021-11-08T16:31:30.315Z"
   },
   {
    "duration": 21,
    "start_time": "2021-11-08T16:31:30.338Z"
   },
   {
    "duration": 21,
    "start_time": "2021-11-08T16:31:30.362Z"
   },
   {
    "duration": 27,
    "start_time": "2021-11-08T16:31:30.385Z"
   },
   {
    "duration": 26,
    "start_time": "2021-11-08T16:31:30.414Z"
   },
   {
    "duration": 18,
    "start_time": "2021-11-08T16:31:30.443Z"
   },
   {
    "duration": 17,
    "start_time": "2021-11-08T16:31:30.464Z"
   },
   {
    "duration": 935,
    "start_time": "2021-11-08T19:49:32.533Z"
   },
   {
    "duration": 3,
    "start_time": "2021-11-08T19:49:33.470Z"
   },
   {
    "duration": 44,
    "start_time": "2021-11-08T19:49:33.475Z"
   },
   {
    "duration": 3,
    "start_time": "2021-11-08T19:49:33.520Z"
   },
   {
    "duration": 11,
    "start_time": "2021-11-08T19:49:33.574Z"
   },
   {
    "duration": 159,
    "start_time": "2021-11-08T19:49:34.901Z"
   },
   {
    "duration": 40,
    "start_time": "2021-11-08T19:49:35.225Z"
   },
   {
    "duration": 13,
    "start_time": "2021-11-08T19:49:35.446Z"
   },
   {
    "duration": 4,
    "start_time": "2021-11-08T19:49:35.942Z"
   },
   {
    "duration": 7,
    "start_time": "2021-11-08T19:49:36.388Z"
   },
   {
    "duration": 5,
    "start_time": "2021-11-08T19:49:37.720Z"
   },
   {
    "duration": 6,
    "start_time": "2021-11-08T19:49:37.970Z"
   },
   {
    "duration": 6,
    "start_time": "2021-11-08T19:49:38.152Z"
   },
   {
    "duration": 8,
    "start_time": "2021-11-08T19:49:38.628Z"
   },
   {
    "duration": 12,
    "start_time": "2021-11-08T19:50:01.281Z"
   },
   {
    "duration": 14,
    "start_time": "2021-11-08T19:50:39.581Z"
   },
   {
    "duration": 7,
    "start_time": "2021-11-08T19:50:45.075Z"
   },
   {
    "duration": 6,
    "start_time": "2021-11-08T19:51:02.905Z"
   },
   {
    "duration": 5,
    "start_time": "2021-11-08T19:51:10.843Z"
   },
   {
    "duration": 5,
    "start_time": "2021-11-08T19:51:16.508Z"
   },
   {
    "duration": 2,
    "start_time": "2021-11-08T19:51:18.897Z"
   },
   {
    "duration": 2,
    "start_time": "2021-11-08T19:51:20.730Z"
   },
   {
    "duration": 16,
    "start_time": "2021-11-08T19:51:20.902Z"
   },
   {
    "duration": 3,
    "start_time": "2021-11-08T19:51:20.961Z"
   },
   {
    "duration": 7,
    "start_time": "2021-11-08T19:51:21.070Z"
   },
   {
    "duration": 44,
    "start_time": "2021-11-08T19:51:21.599Z"
   },
   {
    "duration": 16,
    "start_time": "2021-11-08T19:51:21.743Z"
   },
   {
    "duration": 12,
    "start_time": "2021-11-08T19:51:21.897Z"
   },
   {
    "duration": 4,
    "start_time": "2021-11-08T19:51:22.145Z"
   },
   {
    "duration": 7,
    "start_time": "2021-11-08T19:51:22.679Z"
   },
   {
    "duration": 6,
    "start_time": "2021-11-08T19:51:23.085Z"
   },
   {
    "duration": 6,
    "start_time": "2021-11-08T19:51:23.328Z"
   },
   {
    "duration": 6,
    "start_time": "2021-11-08T19:51:23.454Z"
   },
   {
    "duration": 8,
    "start_time": "2021-11-08T19:51:24.758Z"
   },
   {
    "duration": 6,
    "start_time": "2021-11-08T19:51:26.086Z"
   },
   {
    "duration": 4966,
    "start_time": "2021-11-08T19:51:35.296Z"
   },
   {
    "duration": 64,
    "start_time": "2021-11-08T19:51:50.790Z"
   },
   {
    "duration": 15,
    "start_time": "2021-11-08T19:51:50.919Z"
   },
   {
    "duration": 12,
    "start_time": "2021-11-08T19:51:51.025Z"
   },
   {
    "duration": 5,
    "start_time": "2021-11-08T19:51:51.157Z"
   },
   {
    "duration": 7,
    "start_time": "2021-11-08T19:51:51.289Z"
   },
   {
    "duration": 5,
    "start_time": "2021-11-08T19:51:51.422Z"
   },
   {
    "duration": 7,
    "start_time": "2021-11-08T19:51:51.568Z"
   },
   {
    "duration": 5,
    "start_time": "2021-11-08T19:51:51.796Z"
   },
   {
    "duration": 7,
    "start_time": "2021-11-08T19:51:52.901Z"
   },
   {
    "duration": 6,
    "start_time": "2021-11-08T19:51:53.189Z"
   },
   {
    "duration": 175,
    "start_time": "2021-11-08T19:52:10.715Z"
   },
   {
    "duration": 55,
    "start_time": "2021-11-08T19:52:16.042Z"
   },
   {
    "duration": 17,
    "start_time": "2021-11-08T19:52:16.277Z"
   },
   {
    "duration": 11,
    "start_time": "2021-11-08T19:52:16.368Z"
   },
   {
    "duration": 4,
    "start_time": "2021-11-08T19:52:16.463Z"
   },
   {
    "duration": 6,
    "start_time": "2021-11-08T19:52:16.525Z"
   },
   {
    "duration": 5,
    "start_time": "2021-11-08T19:52:16.665Z"
   },
   {
    "duration": 6,
    "start_time": "2021-11-08T19:52:16.805Z"
   },
   {
    "duration": 6,
    "start_time": "2021-11-08T19:52:17.027Z"
   },
   {
    "duration": 7,
    "start_time": "2021-11-08T19:52:17.903Z"
   },
   {
    "duration": 9,
    "start_time": "2021-11-08T19:52:19.749Z"
   }
  ],
  "kernelspec": {
   "display_name": "Python 3",
   "language": "python",
   "name": "python3"
  },
  "language_info": {
   "codemirror_mode": {
    "name": "ipython",
    "version": 3
   },
   "file_extension": ".py",
   "mimetype": "text/x-python",
   "name": "python",
   "nbconvert_exporter": "python",
   "pygments_lexer": "ipython3",
   "version": "3.8.3"
  },
  "toc": {
   "base_numbering": 1,
   "nav_menu": {
    "height": "232px",
    "width": "250px"
   },
   "number_sections": true,
   "sideBar": true,
   "skip_h1_title": true,
   "title_cell": "Table of Contents",
   "title_sidebar": "Contents",
   "toc_cell": false,
   "toc_position": {},
   "toc_section_display": true,
   "toc_window_display": false
  }
 },
 "nbformat": 4,
 "nbformat_minor": 2
}
