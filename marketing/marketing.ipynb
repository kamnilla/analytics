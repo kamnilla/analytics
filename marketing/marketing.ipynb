{
 "cells": [
  {
   "cell_type": "markdown",
   "metadata": {},
   "source": [
    "# Проектная работа"
   ]
  },
  {
   "cell_type": "markdown",
   "metadata": {},
   "source": [
    "## Описание проекта"
   ]
  },
  {
   "cell_type": "markdown",
   "metadata": {},
   "source": [
    "Задача: помочь маркетологам снизить расходы — отказаться от невыгодных источников трафика и перераспределить бюджет.\n",
    "\n",
    "Есть данные Яндекс.Афиши с июня 2017 по конец мая 2018 года:\n",
    "- лог сервера с данными о посещениях сайта Яндекс.Афиши,\n",
    "- выгрузка всех заказов за этот период,\n",
    "- статистика рекламных расходов.\n",
    "\n",
    "Вам предстоит изучить:\n",
    "- как клиенты пользуются сервисом,\n",
    "- когда делают первые покупки на сайте,\n",
    "- сколько денег приносит компании каждый клиент,\n",
    "- когда расходы на привлечение клиента окупаются.\n",
    "\n",
    "Выручка измеряется в условных единицах — у.е."
   ]
  },
  {
   "cell_type": "markdown",
   "metadata": {},
   "source": [
    "## Описание данных\n",
    "В вашем распоряжении три датасета.\n",
    "- Файл visits_log.csv хранит лог сервера с информацией о посещениях сайта, orders_log.csv — информацию о заказах, а costs.csv — информацию о расходах на маркетинг.\n",
    "\n",
    "Структура visits_log.csv\n",
    "- Uid — уникальный идентификатор пользователя,\n",
    "- Device — категория устройства пользователя,\n",
    "- Start Ts — дата и время начала сессии,\n",
    "- End Ts — дата и время окончания сессии,\n",
    "- Source Id — идентификатор источника перехода на сайт.\n",
    "\n",
    "Структура orders_log.csv\n",
    "- Uid — уникальный идентификатор пользователя,\n",
    "- Buy Ts — дата и время заказа,\n",
    "- Revenue — сумма заказа.\n",
    "\n",
    "Структура costs.csv\n",
    "- source_id — идентификатор рекламного источника,\n",
    "- dt — дата проведения рекламной кампании,\n",
    "- costs — расходы на эту кампанию."
   ]
  },
  {
   "cell_type": "markdown",
   "metadata": {},
   "source": [
    "## Выгрузим данные, подготовим их к анализу"
   ]
  },
  {
   "cell_type": "code",
   "execution_count": 1,
   "metadata": {},
   "outputs": [],
   "source": [
    "import pandas as pd\n",
    "import matplotlib.pyplot as plt\n",
    "import seaborn as sns\n",
    "import numpy as np\n",
    "import warnings"
   ]
  },
  {
   "cell_type": "code",
   "execution_count": 2,
   "metadata": {},
   "outputs": [],
   "source": [
    "warnings.simplefilter(\"ignore\")"
   ]
  },
  {
   "cell_type": "code",
   "execution_count": 142,
   "metadata": {},
   "outputs": [],
   "source": [
    "visits = pd.read_csv('/datasets/visits_log.csv')\n",
    "orders = pd.read_csv('/datasets/orders_log.csv')\n",
    "costs = pd.read_csv('/datasets/costs.csv')"
   ]
  },
  {
   "cell_type": "code",
   "execution_count": 143,
   "metadata": {
    "scrolled": true
   },
   "outputs": [
    {
     "name": "stdout",
     "output_type": "stream",
     "text": [
      "<class 'pandas.core.frame.DataFrame'>\n",
      "RangeIndex: 359400 entries, 0 to 359399\n",
      "Data columns (total 5 columns):\n",
      "Device       359400 non-null object\n",
      "End Ts       359400 non-null object\n",
      "Source Id    359400 non-null int64\n",
      "Start Ts     359400 non-null object\n",
      "Uid          359400 non-null uint64\n",
      "dtypes: int64(1), object(3), uint64(1)\n",
      "memory usage: 13.7+ MB\n",
      "None\n",
      "           Source Id           Uid\n",
      "count  359400.000000  3.594000e+05\n",
      "mean        3.750515  9.202557e+18\n",
      "std         1.917116  5.298433e+18\n",
      "min         1.000000  1.186350e+13\n",
      "25%         3.000000  4.613407e+18\n",
      "50%         4.000000  9.227413e+18\n",
      "75%         5.000000  1.372824e+19\n",
      "max        10.000000  1.844668e+19\n"
     ]
    },
    {
     "data": {
      "text/html": [
       "<div>\n",
       "<style scoped>\n",
       "    .dataframe tbody tr th:only-of-type {\n",
       "        vertical-align: middle;\n",
       "    }\n",
       "\n",
       "    .dataframe tbody tr th {\n",
       "        vertical-align: top;\n",
       "    }\n",
       "\n",
       "    .dataframe thead th {\n",
       "        text-align: right;\n",
       "    }\n",
       "</style>\n",
       "<table border=\"1\" class=\"dataframe\">\n",
       "  <thead>\n",
       "    <tr style=\"text-align: right;\">\n",
       "      <th></th>\n",
       "      <th>Device</th>\n",
       "      <th>End Ts</th>\n",
       "      <th>Source Id</th>\n",
       "      <th>Start Ts</th>\n",
       "      <th>Uid</th>\n",
       "    </tr>\n",
       "  </thead>\n",
       "  <tbody>\n",
       "    <tr>\n",
       "      <td>0</td>\n",
       "      <td>touch</td>\n",
       "      <td>2017-12-20 17:38:00</td>\n",
       "      <td>4</td>\n",
       "      <td>2017-12-20 17:20:00</td>\n",
       "      <td>16879256277535980062</td>\n",
       "    </tr>\n",
       "    <tr>\n",
       "      <td>1</td>\n",
       "      <td>desktop</td>\n",
       "      <td>2018-02-19 17:21:00</td>\n",
       "      <td>2</td>\n",
       "      <td>2018-02-19 16:53:00</td>\n",
       "      <td>104060357244891740</td>\n",
       "    </tr>\n",
       "    <tr>\n",
       "      <td>2</td>\n",
       "      <td>touch</td>\n",
       "      <td>2017-07-01 01:54:00</td>\n",
       "      <td>5</td>\n",
       "      <td>2017-07-01 01:54:00</td>\n",
       "      <td>7459035603376831527</td>\n",
       "    </tr>\n",
       "    <tr>\n",
       "      <td>3</td>\n",
       "      <td>desktop</td>\n",
       "      <td>2018-05-20 11:23:00</td>\n",
       "      <td>9</td>\n",
       "      <td>2018-05-20 10:59:00</td>\n",
       "      <td>16174680259334210214</td>\n",
       "    </tr>\n",
       "    <tr>\n",
       "      <td>4</td>\n",
       "      <td>desktop</td>\n",
       "      <td>2017-12-27 14:06:00</td>\n",
       "      <td>3</td>\n",
       "      <td>2017-12-27 14:06:00</td>\n",
       "      <td>9969694820036681168</td>\n",
       "    </tr>\n",
       "  </tbody>\n",
       "</table>\n",
       "</div>"
      ],
      "text/plain": [
       "    Device               End Ts  Source Id             Start Ts  \\\n",
       "0    touch  2017-12-20 17:38:00          4  2017-12-20 17:20:00   \n",
       "1  desktop  2018-02-19 17:21:00          2  2018-02-19 16:53:00   \n",
       "2    touch  2017-07-01 01:54:00          5  2017-07-01 01:54:00   \n",
       "3  desktop  2018-05-20 11:23:00          9  2018-05-20 10:59:00   \n",
       "4  desktop  2017-12-27 14:06:00          3  2017-12-27 14:06:00   \n",
       "\n",
       "                    Uid  \n",
       "0  16879256277535980062  \n",
       "1    104060357244891740  \n",
       "2   7459035603376831527  \n",
       "3  16174680259334210214  \n",
       "4   9969694820036681168  "
      ]
     },
     "execution_count": 143,
     "metadata": {},
     "output_type": "execute_result"
    }
   ],
   "source": [
    "print(visits.info())\n",
    "print(visits.describe())\n",
    "visits.head()"
   ]
  },
  {
   "cell_type": "code",
   "execution_count": 144,
   "metadata": {},
   "outputs": [],
   "source": [
    "visits.columns = ['Device', 'End_Ts','Source_Id','Start_Ts','Uid']"
   ]
  },
  {
   "cell_type": "code",
   "execution_count": 145,
   "metadata": {},
   "outputs": [],
   "source": [
    "visits['Start_Ts'] = pd.to_datetime(visits['Start_Ts'])\n",
    "visits['End_Ts'] = pd.to_datetime(visits['End_Ts'])"
   ]
  },
  {
   "cell_type": "code",
   "execution_count": 146,
   "metadata": {},
   "outputs": [
    {
     "name": "stdout",
     "output_type": "stream",
     "text": [
      "<class 'pandas.core.frame.DataFrame'>\n",
      "RangeIndex: 50415 entries, 0 to 50414\n",
      "Data columns (total 3 columns):\n",
      "Buy Ts     50415 non-null object\n",
      "Revenue    50415 non-null float64\n",
      "Uid        50415 non-null uint64\n",
      "dtypes: float64(1), object(1), uint64(1)\n",
      "memory usage: 1.2+ MB\n",
      "None\n",
      "            Revenue           Uid\n",
      "count  50415.000000  5.041500e+04\n",
      "mean       4.999647  9.098161e+18\n",
      "std       21.818359  5.285742e+18\n",
      "min        0.000000  3.135781e+14\n",
      "25%        1.220000  4.533567e+18\n",
      "50%        2.500000  9.102274e+18\n",
      "75%        4.890000  1.368290e+19\n",
      "max     2633.280000  1.844617e+19\n"
     ]
    },
    {
     "data": {
      "text/html": [
       "<div>\n",
       "<style scoped>\n",
       "    .dataframe tbody tr th:only-of-type {\n",
       "        vertical-align: middle;\n",
       "    }\n",
       "\n",
       "    .dataframe tbody tr th {\n",
       "        vertical-align: top;\n",
       "    }\n",
       "\n",
       "    .dataframe thead th {\n",
       "        text-align: right;\n",
       "    }\n",
       "</style>\n",
       "<table border=\"1\" class=\"dataframe\">\n",
       "  <thead>\n",
       "    <tr style=\"text-align: right;\">\n",
       "      <th></th>\n",
       "      <th>Buy Ts</th>\n",
       "      <th>Revenue</th>\n",
       "      <th>Uid</th>\n",
       "    </tr>\n",
       "  </thead>\n",
       "  <tbody>\n",
       "    <tr>\n",
       "      <td>0</td>\n",
       "      <td>2017-06-01 00:10:00</td>\n",
       "      <td>17.00</td>\n",
       "      <td>10329302124590727494</td>\n",
       "    </tr>\n",
       "    <tr>\n",
       "      <td>1</td>\n",
       "      <td>2017-06-01 00:25:00</td>\n",
       "      <td>0.55</td>\n",
       "      <td>11627257723692907447</td>\n",
       "    </tr>\n",
       "    <tr>\n",
       "      <td>2</td>\n",
       "      <td>2017-06-01 00:27:00</td>\n",
       "      <td>0.37</td>\n",
       "      <td>17903680561304213844</td>\n",
       "    </tr>\n",
       "    <tr>\n",
       "      <td>3</td>\n",
       "      <td>2017-06-01 00:29:00</td>\n",
       "      <td>0.55</td>\n",
       "      <td>16109239769442553005</td>\n",
       "    </tr>\n",
       "    <tr>\n",
       "      <td>4</td>\n",
       "      <td>2017-06-01 07:58:00</td>\n",
       "      <td>0.37</td>\n",
       "      <td>14200605875248379450</td>\n",
       "    </tr>\n",
       "  </tbody>\n",
       "</table>\n",
       "</div>"
      ],
      "text/plain": [
       "                Buy Ts  Revenue                   Uid\n",
       "0  2017-06-01 00:10:00    17.00  10329302124590727494\n",
       "1  2017-06-01 00:25:00     0.55  11627257723692907447\n",
       "2  2017-06-01 00:27:00     0.37  17903680561304213844\n",
       "3  2017-06-01 00:29:00     0.55  16109239769442553005\n",
       "4  2017-06-01 07:58:00     0.37  14200605875248379450"
      ]
     },
     "execution_count": 146,
     "metadata": {},
     "output_type": "execute_result"
    }
   ],
   "source": [
    "print(orders.info())\n",
    "print(orders.describe())\n",
    "orders.head()"
   ]
  },
  {
   "cell_type": "code",
   "execution_count": 147,
   "metadata": {},
   "outputs": [],
   "source": [
    "orders.columns = ['Buy_Ts','Revenue','Uid']"
   ]
  },
  {
   "cell_type": "code",
   "execution_count": 148,
   "metadata": {},
   "outputs": [],
   "source": [
    "orders['Buy_Ts'] = pd.to_datetime(orders['Buy_Ts'])"
   ]
  },
  {
   "cell_type": "code",
   "execution_count": 149,
   "metadata": {
    "scrolled": true
   },
   "outputs": [
    {
     "name": "stdout",
     "output_type": "stream",
     "text": [
      "<class 'pandas.core.frame.DataFrame'>\n",
      "RangeIndex: 2542 entries, 0 to 2541\n",
      "Data columns (total 3 columns):\n",
      "source_id    2542 non-null int64\n",
      "dt           2542 non-null object\n",
      "costs        2542 non-null float64\n",
      "dtypes: float64(1), int64(1), object(1)\n",
      "memory usage: 59.7+ KB\n",
      "None\n",
      "         source_id        costs\n",
      "count  2542.000000  2542.000000\n",
      "mean      4.857199   129.477427\n",
      "std       3.181581   156.296628\n",
      "min       1.000000     0.540000\n",
      "25%       2.000000    21.945000\n",
      "50%       4.000000    77.295000\n",
      "75%       9.000000   170.065000\n",
      "max      10.000000  1788.280000\n"
     ]
    },
    {
     "data": {
      "text/html": [
       "<div>\n",
       "<style scoped>\n",
       "    .dataframe tbody tr th:only-of-type {\n",
       "        vertical-align: middle;\n",
       "    }\n",
       "\n",
       "    .dataframe tbody tr th {\n",
       "        vertical-align: top;\n",
       "    }\n",
       "\n",
       "    .dataframe thead th {\n",
       "        text-align: right;\n",
       "    }\n",
       "</style>\n",
       "<table border=\"1\" class=\"dataframe\">\n",
       "  <thead>\n",
       "    <tr style=\"text-align: right;\">\n",
       "      <th></th>\n",
       "      <th>source_id</th>\n",
       "      <th>dt</th>\n",
       "      <th>costs</th>\n",
       "    </tr>\n",
       "  </thead>\n",
       "  <tbody>\n",
       "    <tr>\n",
       "      <td>0</td>\n",
       "      <td>1</td>\n",
       "      <td>2017-06-01</td>\n",
       "      <td>75.20</td>\n",
       "    </tr>\n",
       "    <tr>\n",
       "      <td>1</td>\n",
       "      <td>1</td>\n",
       "      <td>2017-06-02</td>\n",
       "      <td>62.25</td>\n",
       "    </tr>\n",
       "    <tr>\n",
       "      <td>2</td>\n",
       "      <td>1</td>\n",
       "      <td>2017-06-03</td>\n",
       "      <td>36.53</td>\n",
       "    </tr>\n",
       "    <tr>\n",
       "      <td>3</td>\n",
       "      <td>1</td>\n",
       "      <td>2017-06-04</td>\n",
       "      <td>55.00</td>\n",
       "    </tr>\n",
       "    <tr>\n",
       "      <td>4</td>\n",
       "      <td>1</td>\n",
       "      <td>2017-06-05</td>\n",
       "      <td>57.08</td>\n",
       "    </tr>\n",
       "  </tbody>\n",
       "</table>\n",
       "</div>"
      ],
      "text/plain": [
       "   source_id          dt  costs\n",
       "0          1  2017-06-01  75.20\n",
       "1          1  2017-06-02  62.25\n",
       "2          1  2017-06-03  36.53\n",
       "3          1  2017-06-04  55.00\n",
       "4          1  2017-06-05  57.08"
      ]
     },
     "execution_count": 149,
     "metadata": {},
     "output_type": "execute_result"
    }
   ],
   "source": [
    "print(costs.info())\n",
    "print(costs.describe())\n",
    "costs.head()"
   ]
  },
  {
   "cell_type": "code",
   "execution_count": 150,
   "metadata": {},
   "outputs": [],
   "source": [
    "costs['dt'] = pd.to_datetime(costs['dt'])"
   ]
  },
  {
   "cell_type": "code",
   "execution_count": 151,
   "metadata": {},
   "outputs": [
    {
     "data": {
      "text/plain": [
       "Device       0\n",
       "End_Ts       0\n",
       "Source_Id    0\n",
       "Start_Ts     0\n",
       "Uid          0\n",
       "dtype: int64"
      ]
     },
     "execution_count": 151,
     "metadata": {},
     "output_type": "execute_result"
    }
   ],
   "source": [
    "visits.isna().sum()"
   ]
  },
  {
   "cell_type": "code",
   "execution_count": 152,
   "metadata": {},
   "outputs": [
    {
     "data": {
      "text/plain": [
       "source_id    0\n",
       "dt           0\n",
       "costs        0\n",
       "dtype: int64"
      ]
     },
     "execution_count": 152,
     "metadata": {},
     "output_type": "execute_result"
    }
   ],
   "source": [
    "costs.isna().sum()"
   ]
  },
  {
   "cell_type": "code",
   "execution_count": 153,
   "metadata": {},
   "outputs": [
    {
     "data": {
      "text/plain": [
       "Buy_Ts     0\n",
       "Revenue    0\n",
       "Uid        0\n",
       "dtype: int64"
      ]
     },
     "execution_count": 153,
     "metadata": {},
     "output_type": "execute_result"
    }
   ],
   "source": [
    "orders.isna().sum()"
   ]
  },
  {
   "cell_type": "markdown",
   "metadata": {},
   "source": [
    "Видим, что пропущенных значений нет ни в одной таблице. Проверим дубликаты:"
   ]
  },
  {
   "cell_type": "code",
   "execution_count": 154,
   "metadata": {},
   "outputs": [
    {
     "data": {
      "text/plain": [
       "0"
      ]
     },
     "execution_count": 154,
     "metadata": {},
     "output_type": "execute_result"
    }
   ],
   "source": [
    "visits.duplicated().sum()"
   ]
  },
  {
   "cell_type": "code",
   "execution_count": 155,
   "metadata": {},
   "outputs": [
    {
     "data": {
      "text/plain": [
       "0"
      ]
     },
     "execution_count": 155,
     "metadata": {},
     "output_type": "execute_result"
    }
   ],
   "source": [
    "orders.duplicated().sum()"
   ]
  },
  {
   "cell_type": "code",
   "execution_count": 156,
   "metadata": {},
   "outputs": [
    {
     "data": {
      "text/plain": [
       "0"
      ]
     },
     "execution_count": 156,
     "metadata": {},
     "output_type": "execute_result"
    }
   ],
   "source": [
    "costs.duplicated().sum()"
   ]
  },
  {
   "cell_type": "code",
   "execution_count": 157,
   "metadata": {
    "scrolled": true
   },
   "outputs": [
    {
     "data": {
      "text/plain": [
       "array(['touch', 'desktop'], dtype=object)"
      ]
     },
     "execution_count": 157,
     "metadata": {},
     "output_type": "execute_result"
    }
   ],
   "source": [
    "visits['Device'].unique()"
   ]
  },
  {
   "cell_type": "code",
   "execution_count": 158,
   "metadata": {},
   "outputs": [],
   "source": [
    "device = pd.Categorical(visits['Device'], ordered=True)"
   ]
  },
  {
   "cell_type": "code",
   "execution_count": 159,
   "metadata": {},
   "outputs": [
    {
     "data": {
      "text/plain": [
       "[touch, desktop, touch, desktop, desktop, ..., desktop, touch, desktop, desktop, touch]\n",
       "Length: 359400\n",
       "Categories (2, object): [desktop < touch]"
      ]
     },
     "execution_count": 159,
     "metadata": {},
     "output_type": "execute_result"
    }
   ],
   "source": [
    "device"
   ]
  },
  {
   "cell_type": "markdown",
   "metadata": {},
   "source": [
    "Видим, что посетителей с мобильных девайсов больше, чем с десктопа"
   ]
  },
  {
   "cell_type": "code",
   "execution_count": 160,
   "metadata": {},
   "outputs": [
    {
     "data": {
      "text/plain": [
       "desktop    262567\n",
       "touch       96833\n",
       "Name: Device, dtype: int64"
      ]
     },
     "execution_count": 160,
     "metadata": {},
     "output_type": "execute_result"
    }
   ],
   "source": [
    "visits['Device'].value_counts()"
   ]
  },
  {
   "cell_type": "code",
   "execution_count": 161,
   "metadata": {
    "scrolled": true
   },
   "outputs": [
    {
     "data": {
      "text/plain": [
       "array([ True, False])"
      ]
     },
     "execution_count": 161,
     "metadata": {},
     "output_type": "execute_result"
    }
   ],
   "source": [
    "((visits['Start_Ts'] >= '2017-06-01') & (visits['Start_Ts'] <= '2018-05-31')).unique()"
   ]
  },
  {
   "cell_type": "markdown",
   "metadata": {},
   "source": [
    "Видим, что не все данные в нужном нам временном промежутке, поэтому оставим только исследуемую часть:"
   ]
  },
  {
   "cell_type": "code",
   "execution_count": 162,
   "metadata": {},
   "outputs": [],
   "source": [
    "visits=visits[(visits['Start_Ts'] >= '2017-06-01') & (visits['Start_Ts'] <= '2018-05-31')]"
   ]
  },
  {
   "cell_type": "code",
   "execution_count": 163,
   "metadata": {},
   "outputs": [
    {
     "data": {
      "text/html": [
       "<div>\n",
       "<style scoped>\n",
       "    .dataframe tbody tr th:only-of-type {\n",
       "        vertical-align: middle;\n",
       "    }\n",
       "\n",
       "    .dataframe tbody tr th {\n",
       "        vertical-align: top;\n",
       "    }\n",
       "\n",
       "    .dataframe thead th {\n",
       "        text-align: right;\n",
       "    }\n",
       "</style>\n",
       "<table border=\"1\" class=\"dataframe\">\n",
       "  <thead>\n",
       "    <tr style=\"text-align: right;\">\n",
       "      <th></th>\n",
       "      <th>Device</th>\n",
       "      <th>End_Ts</th>\n",
       "      <th>Source_Id</th>\n",
       "      <th>Start_Ts</th>\n",
       "      <th>Uid</th>\n",
       "    </tr>\n",
       "  </thead>\n",
       "  <tbody>\n",
       "    <tr>\n",
       "      <td>0</td>\n",
       "      <td>touch</td>\n",
       "      <td>2017-12-20 17:38:00</td>\n",
       "      <td>4</td>\n",
       "      <td>2017-12-20 17:20:00</td>\n",
       "      <td>16879256277535980062</td>\n",
       "    </tr>\n",
       "    <tr>\n",
       "      <td>1</td>\n",
       "      <td>desktop</td>\n",
       "      <td>2018-02-19 17:21:00</td>\n",
       "      <td>2</td>\n",
       "      <td>2018-02-19 16:53:00</td>\n",
       "      <td>104060357244891740</td>\n",
       "    </tr>\n",
       "    <tr>\n",
       "      <td>2</td>\n",
       "      <td>touch</td>\n",
       "      <td>2017-07-01 01:54:00</td>\n",
       "      <td>5</td>\n",
       "      <td>2017-07-01 01:54:00</td>\n",
       "      <td>7459035603376831527</td>\n",
       "    </tr>\n",
       "    <tr>\n",
       "      <td>3</td>\n",
       "      <td>desktop</td>\n",
       "      <td>2018-05-20 11:23:00</td>\n",
       "      <td>9</td>\n",
       "      <td>2018-05-20 10:59:00</td>\n",
       "      <td>16174680259334210214</td>\n",
       "    </tr>\n",
       "    <tr>\n",
       "      <td>4</td>\n",
       "      <td>desktop</td>\n",
       "      <td>2017-12-27 14:06:00</td>\n",
       "      <td>3</td>\n",
       "      <td>2017-12-27 14:06:00</td>\n",
       "      <td>9969694820036681168</td>\n",
       "    </tr>\n",
       "    <tr>\n",
       "      <td>...</td>\n",
       "      <td>...</td>\n",
       "      <td>...</td>\n",
       "      <td>...</td>\n",
       "      <td>...</td>\n",
       "      <td>...</td>\n",
       "    </tr>\n",
       "    <tr>\n",
       "      <td>359395</td>\n",
       "      <td>desktop</td>\n",
       "      <td>2017-07-29 19:07:19</td>\n",
       "      <td>2</td>\n",
       "      <td>2017-07-29 19:07:00</td>\n",
       "      <td>18363291481961487539</td>\n",
       "    </tr>\n",
       "    <tr>\n",
       "      <td>359396</td>\n",
       "      <td>touch</td>\n",
       "      <td>2018-01-25 17:38:19</td>\n",
       "      <td>1</td>\n",
       "      <td>2018-01-25 17:38:00</td>\n",
       "      <td>18370831553019119586</td>\n",
       "    </tr>\n",
       "    <tr>\n",
       "      <td>359397</td>\n",
       "      <td>desktop</td>\n",
       "      <td>2018-03-03 10:12:19</td>\n",
       "      <td>4</td>\n",
       "      <td>2018-03-03 10:12:00</td>\n",
       "      <td>18387297585500748294</td>\n",
       "    </tr>\n",
       "    <tr>\n",
       "      <td>359398</td>\n",
       "      <td>desktop</td>\n",
       "      <td>2017-11-02 10:12:19</td>\n",
       "      <td>5</td>\n",
       "      <td>2017-11-02 10:12:00</td>\n",
       "      <td>18388616944624776485</td>\n",
       "    </tr>\n",
       "    <tr>\n",
       "      <td>359399</td>\n",
       "      <td>touch</td>\n",
       "      <td>2017-09-10 13:13:19</td>\n",
       "      <td>2</td>\n",
       "      <td>2017-09-10 13:13:00</td>\n",
       "      <td>18396128934054549559</td>\n",
       "    </tr>\n",
       "  </tbody>\n",
       "</table>\n",
       "<p>357145 rows × 5 columns</p>\n",
       "</div>"
      ],
      "text/plain": [
       "         Device              End_Ts  Source_Id            Start_Ts  \\\n",
       "0         touch 2017-12-20 17:38:00          4 2017-12-20 17:20:00   \n",
       "1       desktop 2018-02-19 17:21:00          2 2018-02-19 16:53:00   \n",
       "2         touch 2017-07-01 01:54:00          5 2017-07-01 01:54:00   \n",
       "3       desktop 2018-05-20 11:23:00          9 2018-05-20 10:59:00   \n",
       "4       desktop 2017-12-27 14:06:00          3 2017-12-27 14:06:00   \n",
       "...         ...                 ...        ...                 ...   \n",
       "359395  desktop 2017-07-29 19:07:19          2 2017-07-29 19:07:00   \n",
       "359396    touch 2018-01-25 17:38:19          1 2018-01-25 17:38:00   \n",
       "359397  desktop 2018-03-03 10:12:19          4 2018-03-03 10:12:00   \n",
       "359398  desktop 2017-11-02 10:12:19          5 2017-11-02 10:12:00   \n",
       "359399    touch 2017-09-10 13:13:19          2 2017-09-10 13:13:00   \n",
       "\n",
       "                         Uid  \n",
       "0       16879256277535980062  \n",
       "1         104060357244891740  \n",
       "2        7459035603376831527  \n",
       "3       16174680259334210214  \n",
       "4        9969694820036681168  \n",
       "...                      ...  \n",
       "359395  18363291481961487539  \n",
       "359396  18370831553019119586  \n",
       "359397  18387297585500748294  \n",
       "359398  18388616944624776485  \n",
       "359399  18396128934054549559  \n",
       "\n",
       "[357145 rows x 5 columns]"
      ]
     },
     "execution_count": 163,
     "metadata": {},
     "output_type": "execute_result"
    }
   ],
   "source": [
    "visits"
   ]
  },
  {
   "cell_type": "markdown",
   "metadata": {},
   "source": [
    "Дубликатов тоже нет ни в одной таблице"
   ]
  },
  {
   "cell_type": "markdown",
   "metadata": {},
   "source": [
    "### Вывод: \n",
    "Убедились, что в колонках указаны значения с правильным типом данных."
   ]
  },
  {
   "cell_type": "markdown",
   "metadata": {},
   "source": [
    "## Рассчитаем метрики и построим графики"
   ]
  },
  {
   "cell_type": "markdown",
   "metadata": {},
   "source": [
    "Посчитаем метрики трёх видов:\n",
    "- продуктовые,\n",
    "- метрики электронной коммерции,\n",
    "- маркетинговые.\n",
    "\n",
    "Отобразим на графиках изменения каждой метрики во времени."
   ]
  },
  {
   "cell_type": "markdown",
   "metadata": {},
   "source": [
    "### Рассчитаем продуктовые метрики:"
   ]
  },
  {
   "cell_type": "markdown",
   "metadata": {},
   "source": [
    "####  DAU, WAU и MAU"
   ]
  },
  {
   "cell_type": "code",
   "execution_count": 164,
   "metadata": {},
   "outputs": [],
   "source": [
    "visits['session_year'] = visits['Start_Ts'].astype('datetime64[Y]')"
   ]
  },
  {
   "cell_type": "code",
   "execution_count": 165,
   "metadata": {},
   "outputs": [],
   "source": [
    "visits['session_month'] = visits['Start_Ts'].astype('datetime64[M]')"
   ]
  },
  {
   "cell_type": "code",
   "execution_count": 166,
   "metadata": {},
   "outputs": [],
   "source": [
    "visits['session_week'] = visits['Start_Ts'].astype('datetime64[W]')"
   ]
  },
  {
   "cell_type": "code",
   "execution_count": 167,
   "metadata": {},
   "outputs": [],
   "source": [
    "visits['session_date'] = visits['Start_Ts'].dt.date"
   ]
  },
  {
   "cell_type": "code",
   "execution_count": 168,
   "metadata": {},
   "outputs": [],
   "source": [
    "mau = visits.groupby(['session_month']).agg({'Uid':'nunique'}).reset_index()"
   ]
  },
  {
   "cell_type": "code",
   "execution_count": 169,
   "metadata": {},
   "outputs": [],
   "source": [
    "dau = visits.groupby('session_date').agg({'Uid':'nunique'}).reset_index()"
   ]
  },
  {
   "cell_type": "code",
   "execution_count": 170,
   "metadata": {},
   "outputs": [],
   "source": [
    "wau = (\n",
    "    visits.groupby(['session_week'])\n",
    "    .agg({'Uid': 'nunique'})\n",
    ").reset_index()"
   ]
  },
  {
   "cell_type": "code",
   "execution_count": 171,
   "metadata": {},
   "outputs": [
    {
     "data": {
      "image/png": "[encoded data removed]",
      "text/plain": [
       "<Figure size 432x288 with 1 Axes>"
      ]
     },
     "metadata": {
      "needs_background": "light"
     },
     "output_type": "display_data"
    }
   ],
   "source": [
    "line = plt.plot(mau['session_month'], mau['Uid'], 'o-')"
   ]
  },
  {
   "cell_type": "code",
   "execution_count": 172,
   "metadata": {
    "scrolled": true
   },
   "outputs": [
    {
     "data": {
      "image/png": "[encoded data removed]",
      "text/plain": [
       "<Figure size 432x288 with 1 Axes>"
      ]
     },
     "metadata": {
      "needs_background": "light"
     },
     "output_type": "display_data"
    }
   ],
   "source": [
    "line1 = plt.plot(wau['session_week'], wau['Uid'], 'o-')"
   ]
  },
  {
   "cell_type": "code",
   "execution_count": 173,
   "metadata": {},
   "outputs": [
    {
     "data": {
      "image/png": "[encoded data removed]",
      "text/plain": [
       "<Figure size 432x288 with 1 Axes>"
      ]
     },
     "metadata": {
      "needs_background": "light"
     },
     "output_type": "display_data"
    }
   ],
   "source": [
    "fig, ax = plt.subplots()\n",
    "ax.plot(dau['session_date'], dau['Uid'])\n",
    "ax.set_title('DAU over time')\n",
    "fig.autofmt_xdate()\n",
    "\n",
    "plt.show()"
   ]
  },
  {
   "cell_type": "markdown",
   "metadata": {},
   "source": [
    "Изобразили необходимые метрики на графиках, показывающих их изменения во времени"
   ]
  },
  {
   "cell_type": "markdown",
   "metadata": {},
   "source": [
    "Из графиков видно, что количество активных пользователей в день остается почти всегда стабильным, а в течение долгосрочных периодов уменьшается. Люди чаще заходят на сайт зимой-весной, видимо, потому что на улице холодно :)"
   ]
  },
  {
   "cell_type": "markdown",
   "metadata": {},
   "source": [
    "#### сколько раз за день пользователи в среднем заходят на сайт"
   ]
  },
  {
   "cell_type": "code",
   "execution_count": 174,
   "metadata": {},
   "outputs": [],
   "source": [
    "session_per_user = visits.groupby(['session_date']).agg({'Uid': ['count','nunique']})"
   ]
  },
  {
   "cell_type": "code",
   "execution_count": 175,
   "metadata": {},
   "outputs": [],
   "source": [
    "session_per_user.columns = ['n_sessions', 'n_users']"
   ]
  },
  {
   "cell_type": "code",
   "execution_count": 176,
   "metadata": {},
   "outputs": [],
   "source": [
    "session_per_user['number'] = session_per_user['n_sessions']/session_per_user['n_users']"
   ]
  },
  {
   "cell_type": "code",
   "execution_count": 177,
   "metadata": {},
   "outputs": [
    {
     "data": {
      "text/html": [
       "<div>\n",
       "<style scoped>\n",
       "    .dataframe tbody tr th:only-of-type {\n",
       "        vertical-align: middle;\n",
       "    }\n",
       "\n",
       "    .dataframe tbody tr th {\n",
       "        vertical-align: top;\n",
       "    }\n",
       "\n",
       "    .dataframe thead th {\n",
       "        text-align: right;\n",
       "    }\n",
       "</style>\n",
       "<table border=\"1\" class=\"dataframe\">\n",
       "  <thead>\n",
       "    <tr style=\"text-align: right;\">\n",
       "      <th></th>\n",
       "      <th>n_sessions</th>\n",
       "      <th>n_users</th>\n",
       "      <th>number</th>\n",
       "    </tr>\n",
       "    <tr>\n",
       "      <th>session_date</th>\n",
       "      <th></th>\n",
       "      <th></th>\n",
       "      <th></th>\n",
       "    </tr>\n",
       "  </thead>\n",
       "  <tbody>\n",
       "    <tr>\n",
       "      <td>2017-06-01</td>\n",
       "      <td>664</td>\n",
       "      <td>605</td>\n",
       "      <td>1.097521</td>\n",
       "    </tr>\n",
       "    <tr>\n",
       "      <td>2017-06-02</td>\n",
       "      <td>658</td>\n",
       "      <td>608</td>\n",
       "      <td>1.082237</td>\n",
       "    </tr>\n",
       "    <tr>\n",
       "      <td>2017-06-03</td>\n",
       "      <td>477</td>\n",
       "      <td>445</td>\n",
       "      <td>1.071910</td>\n",
       "    </tr>\n",
       "    <tr>\n",
       "      <td>2017-06-04</td>\n",
       "      <td>510</td>\n",
       "      <td>476</td>\n",
       "      <td>1.071429</td>\n",
       "    </tr>\n",
       "    <tr>\n",
       "      <td>2017-06-05</td>\n",
       "      <td>893</td>\n",
       "      <td>820</td>\n",
       "      <td>1.089024</td>\n",
       "    </tr>\n",
       "    <tr>\n",
       "      <td>...</td>\n",
       "      <td>...</td>\n",
       "      <td>...</td>\n",
       "      <td>...</td>\n",
       "    </tr>\n",
       "    <tr>\n",
       "      <td>2018-05-27</td>\n",
       "      <td>672</td>\n",
       "      <td>620</td>\n",
       "      <td>1.083871</td>\n",
       "    </tr>\n",
       "    <tr>\n",
       "      <td>2018-05-28</td>\n",
       "      <td>1156</td>\n",
       "      <td>1039</td>\n",
       "      <td>1.112608</td>\n",
       "    </tr>\n",
       "    <tr>\n",
       "      <td>2018-05-29</td>\n",
       "      <td>1035</td>\n",
       "      <td>948</td>\n",
       "      <td>1.091772</td>\n",
       "    </tr>\n",
       "    <tr>\n",
       "      <td>2018-05-30</td>\n",
       "      <td>1410</td>\n",
       "      <td>1289</td>\n",
       "      <td>1.093871</td>\n",
       "    </tr>\n",
       "    <tr>\n",
       "      <td>2018-05-31</td>\n",
       "      <td>1</td>\n",
       "      <td>1</td>\n",
       "      <td>1.000000</td>\n",
       "    </tr>\n",
       "  </tbody>\n",
       "</table>\n",
       "<p>364 rows × 3 columns</p>\n",
       "</div>"
      ],
      "text/plain": [
       "              n_sessions  n_users    number\n",
       "session_date                               \n",
       "2017-06-01           664      605  1.097521\n",
       "2017-06-02           658      608  1.082237\n",
       "2017-06-03           477      445  1.071910\n",
       "2017-06-04           510      476  1.071429\n",
       "2017-06-05           893      820  1.089024\n",
       "...                  ...      ...       ...\n",
       "2018-05-27           672      620  1.083871\n",
       "2018-05-28          1156     1039  1.112608\n",
       "2018-05-29          1035      948  1.091772\n",
       "2018-05-30          1410     1289  1.093871\n",
       "2018-05-31             1        1  1.000000\n",
       "\n",
       "[364 rows x 3 columns]"
      ]
     },
     "execution_count": 177,
     "metadata": {},
     "output_type": "execute_result"
    }
   ],
   "source": [
    "session_per_user"
   ]
  },
  {
   "cell_type": "code",
   "execution_count": 178,
   "metadata": {},
   "outputs": [
    {
     "data": {
      "text/plain": [
       "981.1675824175824"
      ]
     },
     "execution_count": 178,
     "metadata": {},
     "output_type": "execute_result"
    }
   ],
   "source": [
    "mean = session_per_user['n_sessions'].mean()\n",
    "mean"
   ]
  },
  {
   "cell_type": "markdown",
   "metadata": {},
   "source": [
    "Нашли среднее число сессий за весь период, около тысячи."
   ]
  },
  {
   "cell_type": "code",
   "execution_count": 40,
   "metadata": {
    "scrolled": false
   },
   "outputs": [
    {
     "data": {
      "image/png": "[encoded data removed]",
      "text/plain": [
       "<Figure size 432x288 with 1 Axes>"
      ]
     },
     "metadata": {
      "needs_background": "light"
     },
     "output_type": "display_data"
    }
   ],
   "source": [
    "session_per_user['number'].plot()\n",
    "plt.xticks(rotation=90)\n",
    "plt.show()"
   ]
  },
  {
   "cell_type": "markdown",
   "metadata": {},
   "source": [
    "#### Вывод\n",
    "Видим, что в среднем люди проводят 1.05 - 1.1 сессию в день, самый максимум (1.2) был достигнут в ноябре 17 года, а минимум - в марте 18. "
   ]
  },
  {
   "cell_type": "markdown",
   "metadata": {},
   "source": [
    "В день один пользователь в среднем проводит в приложении максимум 1.2 cессии. Сервис пользуется средней популярностью"
   ]
  },
  {
   "cell_type": "markdown",
   "metadata": {},
   "source": [
    "#### Средняя продолжительность сессии"
   ]
  },
  {
   "cell_type": "code",
   "execution_count": 41,
   "metadata": {},
   "outputs": [],
   "source": [
    "visits['session_duration_sec'] = (visits['End_Ts'] - visits['Start_Ts']).dt.seconds"
   ]
  },
  {
   "cell_type": "code",
   "execution_count": 42,
   "metadata": {},
   "outputs": [
    {
     "data": {
      "text/plain": [
       "[]"
      ]
     },
     "execution_count": 42,
     "metadata": {},
     "output_type": "execute_result"
    },
    {
     "data": {
      "image/png": "[encoded data removed]",
      "text/plain": [
       "<Figure size 432x288 with 1 Axes>"
      ]
     },
     "metadata": {
      "needs_background": "light"
     },
     "output_type": "display_data"
    }
   ],
   "source": [
    "visits['session_duration_sec'].hist(bins=50)\n",
    "plt.xlabel('Длительность в секундах')\n",
    "plt.ylabel('Количество таких сессий')\n",
    "plt.title('Количество сессий')\n",
    "plt.plot()"
   ]
  },
  {
   "cell_type": "markdown",
   "metadata": {},
   "source": [
    "Так как тип распределения не близок к нормальному, необходимо рассчитать моду:"
   ]
  },
  {
   "cell_type": "code",
   "execution_count": 43,
   "metadata": {
    "scrolled": true
   },
   "outputs": [
    {
     "data": {
      "text/plain": [
       "60"
      ]
     },
     "execution_count": 43,
     "metadata": {},
     "output_type": "execute_result"
    }
   ],
   "source": [
    "visits['session_duration_sec'].mode()[0]"
   ]
  },
  {
   "cell_type": "code",
   "execution_count": 44,
   "metadata": {},
   "outputs": [
    {
     "data": {
      "image/png": "[encoded data removed]",
      "text/plain": [
       "<Figure size 432x288 with 1 Axes>"
      ]
     },
     "metadata": {
      "needs_background": "light"
     },
     "output_type": "display_data"
    }
   ],
   "source": [
    "snsplot = sns.kdeplot(visits['session_duration_sec'], shade=True)\n",
    "fig = snsplot.get_figure()"
   ]
  },
  {
   "cell_type": "markdown",
   "metadata": {},
   "source": [
    "#### Вывод\n",
    "видим, что средняя продолжительность сессии в среднем очень мала. Это может быть связано с тем, что пользователи не могут сразу найти необходимую информацию и/или сразу заходят на сайт с четкой целью."
   ]
  },
  {
   "cell_type": "markdown",
   "metadata": {},
   "source": [
    "####  Рассчитайте Retention Rate"
   ]
  },
  {
   "cell_type": "markdown",
   "metadata": {},
   "source": [
    "Применим когортный анализ для рассчитывания RR"
   ]
  },
  {
   "cell_type": "code",
   "execution_count": 179,
   "metadata": {},
   "outputs": [],
   "source": [
    "first_visit_date_by_customers = visits.groupby('Uid')[\n",
    "    'Start_Ts'\n",
    "].min()"
   ]
  },
  {
   "cell_type": "code",
   "execution_count": 46,
   "metadata": {},
   "outputs": [],
   "source": [
    "first_visit_date_by_customers.name = 'first_visit_date'"
   ]
  },
  {
   "cell_type": "code",
   "execution_count": 47,
   "metadata": {
    "scrolled": false
   },
   "outputs": [
    {
     "data": {
      "text/plain": [
       "Uid\n",
       "11863502262781         2018-03-01 17:27:00\n",
       "49537067089222         2018-02-06 15:55:00\n",
       "297729379853735        2017-06-07 18:47:00\n",
       "313578113262317        2017-09-18 22:49:00\n",
       "325320750514679        2017-09-30 14:29:00\n",
       "                               ...        \n",
       "18446403737806311543   2017-11-30 03:36:00\n",
       "18446424184725333426   2017-12-06 20:32:00\n",
       "18446556406699109058   2018-01-01 16:29:00\n",
       "18446621818809592527   2017-12-27 13:27:00\n",
       "18446676030785672386   2017-10-04 16:01:00\n",
       "Name: first_visit_date, Length: 226742, dtype: datetime64[ns]"
      ]
     },
     "execution_count": 47,
     "metadata": {},
     "output_type": "execute_result"
    }
   ],
   "source": [
    "first_visit_date_by_customers"
   ]
  },
  {
   "cell_type": "code",
   "execution_count": 183,
   "metadata": {
    "scrolled": true
   },
   "outputs": [
    {
     "data": {
      "text/html": [
       "<div>\n",
       "<style scoped>\n",
       "    .dataframe tbody tr th:only-of-type {\n",
       "        vertical-align: middle;\n",
       "    }\n",
       "\n",
       "    .dataframe tbody tr th {\n",
       "        vertical-align: top;\n",
       "    }\n",
       "\n",
       "    .dataframe thead th {\n",
       "        text-align: right;\n",
       "    }\n",
       "</style>\n",
       "<table border=\"1\" class=\"dataframe\">\n",
       "  <thead>\n",
       "    <tr style=\"text-align: right;\">\n",
       "      <th></th>\n",
       "      <th>Device</th>\n",
       "      <th>End_Ts</th>\n",
       "      <th>Source_Id</th>\n",
       "      <th>Start_Ts_x</th>\n",
       "      <th>Uid</th>\n",
       "      <th>session_year</th>\n",
       "      <th>session_month</th>\n",
       "      <th>session_week</th>\n",
       "      <th>session_date</th>\n",
       "      <th>Start_Ts_y</th>\n",
       "      <th>Start_Ts_x</th>\n",
       "      <th>Start_Ts_y</th>\n",
       "    </tr>\n",
       "  </thead>\n",
       "  <tbody>\n",
       "    <tr>\n",
       "      <td>0</td>\n",
       "      <td>touch</td>\n",
       "      <td>2017-12-20 17:38:00</td>\n",
       "      <td>4</td>\n",
       "      <td>2017-12-20 17:20:00</td>\n",
       "      <td>16879256277535980062</td>\n",
       "      <td>2017-01-01</td>\n",
       "      <td>2017-12-01</td>\n",
       "      <td>2017-12-14</td>\n",
       "      <td>2017-12-20</td>\n",
       "      <td>2017-12-20 17:20:00</td>\n",
       "      <td>2017-12-20 17:20:00</td>\n",
       "      <td>2017-12-20 17:20:00</td>\n",
       "    </tr>\n",
       "    <tr>\n",
       "      <td>1</td>\n",
       "      <td>desktop</td>\n",
       "      <td>2018-02-19 17:21:00</td>\n",
       "      <td>2</td>\n",
       "      <td>2018-02-19 16:53:00</td>\n",
       "      <td>104060357244891740</td>\n",
       "      <td>2018-01-01</td>\n",
       "      <td>2018-02-01</td>\n",
       "      <td>2018-02-15</td>\n",
       "      <td>2018-02-19</td>\n",
       "      <td>2018-02-19 16:53:00</td>\n",
       "      <td>2018-02-19 16:53:00</td>\n",
       "      <td>2018-02-19 16:53:00</td>\n",
       "    </tr>\n",
       "    <tr>\n",
       "      <td>2</td>\n",
       "      <td>touch</td>\n",
       "      <td>2017-07-01 01:54:00</td>\n",
       "      <td>5</td>\n",
       "      <td>2017-07-01 01:54:00</td>\n",
       "      <td>7459035603376831527</td>\n",
       "      <td>2017-01-01</td>\n",
       "      <td>2017-07-01</td>\n",
       "      <td>2017-06-29</td>\n",
       "      <td>2017-07-01</td>\n",
       "      <td>2017-07-01 01:54:00</td>\n",
       "      <td>2017-07-01 01:54:00</td>\n",
       "      <td>2017-07-01 01:54:00</td>\n",
       "    </tr>\n",
       "    <tr>\n",
       "      <td>3</td>\n",
       "      <td>desktop</td>\n",
       "      <td>2018-05-20 11:23:00</td>\n",
       "      <td>9</td>\n",
       "      <td>2018-05-20 10:59:00</td>\n",
       "      <td>16174680259334210214</td>\n",
       "      <td>2018-01-01</td>\n",
       "      <td>2018-05-01</td>\n",
       "      <td>2018-05-17</td>\n",
       "      <td>2018-05-20</td>\n",
       "      <td>2018-03-09 20:05:00</td>\n",
       "      <td>2018-03-09 20:05:00</td>\n",
       "      <td>2018-03-09 20:05:00</td>\n",
       "    </tr>\n",
       "    <tr>\n",
       "      <td>4</td>\n",
       "      <td>desktop</td>\n",
       "      <td>2018-03-09 20:33:00</td>\n",
       "      <td>4</td>\n",
       "      <td>2018-03-09 20:05:00</td>\n",
       "      <td>16174680259334210214</td>\n",
       "      <td>2018-01-01</td>\n",
       "      <td>2018-03-01</td>\n",
       "      <td>2018-03-08</td>\n",
       "      <td>2018-03-09</td>\n",
       "      <td>2018-03-09 20:05:00</td>\n",
       "      <td>2018-03-09 20:05:00</td>\n",
       "      <td>2018-03-09 20:05:00</td>\n",
       "    </tr>\n",
       "    <tr>\n",
       "      <td>5</td>\n",
       "      <td>desktop</td>\n",
       "      <td>2017-12-27 14:06:00</td>\n",
       "      <td>3</td>\n",
       "      <td>2017-12-27 14:06:00</td>\n",
       "      <td>9969694820036681168</td>\n",
       "      <td>2017-01-01</td>\n",
       "      <td>2017-12-01</td>\n",
       "      <td>2017-12-21</td>\n",
       "      <td>2017-12-27</td>\n",
       "      <td>2017-12-27 14:06:00</td>\n",
       "      <td>2017-12-27 14:06:00</td>\n",
       "      <td>2017-12-27 14:06:00</td>\n",
       "    </tr>\n",
       "    <tr>\n",
       "      <td>6</td>\n",
       "      <td>desktop</td>\n",
       "      <td>2017-09-03 21:36:00</td>\n",
       "      <td>5</td>\n",
       "      <td>2017-09-03 21:35:00</td>\n",
       "      <td>16007536194108375387</td>\n",
       "      <td>2017-01-01</td>\n",
       "      <td>2017-09-01</td>\n",
       "      <td>2017-08-31</td>\n",
       "      <td>2017-09-03</td>\n",
       "      <td>2017-09-03 21:35:00</td>\n",
       "      <td>2017-09-03 21:35:00</td>\n",
       "      <td>2017-09-03 21:35:00</td>\n",
       "    </tr>\n",
       "    <tr>\n",
       "      <td>7</td>\n",
       "      <td>desktop</td>\n",
       "      <td>2017-10-27 16:02:00</td>\n",
       "      <td>3</td>\n",
       "      <td>2017-10-27 15:20:00</td>\n",
       "      <td>16007536194108375387</td>\n",
       "      <td>2017-01-01</td>\n",
       "      <td>2017-10-01</td>\n",
       "      <td>2017-10-26</td>\n",
       "      <td>2017-10-27</td>\n",
       "      <td>2017-09-03 21:35:00</td>\n",
       "      <td>2017-09-03 21:35:00</td>\n",
       "      <td>2017-09-03 21:35:00</td>\n",
       "    </tr>\n",
       "    <tr>\n",
       "      <td>8</td>\n",
       "      <td>desktop</td>\n",
       "      <td>2017-09-04 17:56:00</td>\n",
       "      <td>4</td>\n",
       "      <td>2017-09-04 17:37:00</td>\n",
       "      <td>16007536194108375387</td>\n",
       "      <td>2017-01-01</td>\n",
       "      <td>2017-09-01</td>\n",
       "      <td>2017-08-31</td>\n",
       "      <td>2017-09-04</td>\n",
       "      <td>2017-09-03 21:35:00</td>\n",
       "      <td>2017-09-03 21:35:00</td>\n",
       "      <td>2017-09-03 21:35:00</td>\n",
       "    </tr>\n",
       "    <tr>\n",
       "      <td>9</td>\n",
       "      <td>desktop</td>\n",
       "      <td>2017-10-28 00:04:00</td>\n",
       "      <td>3</td>\n",
       "      <td>2017-10-27 23:56:00</td>\n",
       "      <td>16007536194108375387</td>\n",
       "      <td>2017-01-01</td>\n",
       "      <td>2017-10-01</td>\n",
       "      <td>2017-10-26</td>\n",
       "      <td>2017-10-27</td>\n",
       "      <td>2017-09-03 21:35:00</td>\n",
       "      <td>2017-09-03 21:35:00</td>\n",
       "      <td>2017-09-03 21:35:00</td>\n",
       "    </tr>\n",
       "  </tbody>\n",
       "</table>\n",
       "</div>"
      ],
      "text/plain": [
       "    Device              End_Ts  Source_Id          Start_Ts_x  \\\n",
       "0    touch 2017-12-20 17:38:00          4 2017-12-20 17:20:00   \n",
       "1  desktop 2018-02-19 17:21:00          2 2018-02-19 16:53:00   \n",
       "2    touch 2017-07-01 01:54:00          5 2017-07-01 01:54:00   \n",
       "3  desktop 2018-05-20 11:23:00          9 2018-05-20 10:59:00   \n",
       "4  desktop 2018-03-09 20:33:00          4 2018-03-09 20:05:00   \n",
       "5  desktop 2017-12-27 14:06:00          3 2017-12-27 14:06:00   \n",
       "6  desktop 2017-09-03 21:36:00          5 2017-09-03 21:35:00   \n",
       "7  desktop 2017-10-27 16:02:00          3 2017-10-27 15:20:00   \n",
       "8  desktop 2017-09-04 17:56:00          4 2017-09-04 17:37:00   \n",
       "9  desktop 2017-10-28 00:04:00          3 2017-10-27 23:56:00   \n",
       "\n",
       "                    Uid session_year session_month session_week session_date  \\\n",
       "0  16879256277535980062   2017-01-01    2017-12-01   2017-12-14   2017-12-20   \n",
       "1    104060357244891740   2018-01-01    2018-02-01   2018-02-15   2018-02-19   \n",
       "2   7459035603376831527   2017-01-01    2017-07-01   2017-06-29   2017-07-01   \n",
       "3  16174680259334210214   2018-01-01    2018-05-01   2018-05-17   2018-05-20   \n",
       "4  16174680259334210214   2018-01-01    2018-03-01   2018-03-08   2018-03-09   \n",
       "5   9969694820036681168   2017-01-01    2017-12-01   2017-12-21   2017-12-27   \n",
       "6  16007536194108375387   2017-01-01    2017-09-01   2017-08-31   2017-09-03   \n",
       "7  16007536194108375387   2017-01-01    2017-10-01   2017-10-26   2017-10-27   \n",
       "8  16007536194108375387   2017-01-01    2017-09-01   2017-08-31   2017-09-04   \n",
       "9  16007536194108375387   2017-01-01    2017-10-01   2017-10-26   2017-10-27   \n",
       "\n",
       "           Start_Ts_y          Start_Ts_x          Start_Ts_y  \n",
       "0 2017-12-20 17:20:00 2017-12-20 17:20:00 2017-12-20 17:20:00  \n",
       "1 2018-02-19 16:53:00 2018-02-19 16:53:00 2018-02-19 16:53:00  \n",
       "2 2017-07-01 01:54:00 2017-07-01 01:54:00 2017-07-01 01:54:00  \n",
       "3 2018-03-09 20:05:00 2018-03-09 20:05:00 2018-03-09 20:05:00  \n",
       "4 2018-03-09 20:05:00 2018-03-09 20:05:00 2018-03-09 20:05:00  \n",
       "5 2017-12-27 14:06:00 2017-12-27 14:06:00 2017-12-27 14:06:00  \n",
       "6 2017-09-03 21:35:00 2017-09-03 21:35:00 2017-09-03 21:35:00  \n",
       "7 2017-09-03 21:35:00 2017-09-03 21:35:00 2017-09-03 21:35:00  \n",
       "8 2017-09-03 21:35:00 2017-09-03 21:35:00 2017-09-03 21:35:00  \n",
       "9 2017-09-03 21:35:00 2017-09-03 21:35:00 2017-09-03 21:35:00  "
      ]
     },
     "execution_count": 183,
     "metadata": {},
     "output_type": "execute_result"
    }
   ],
   "source": [
    "visits = visits.merge(first_visit_date_by_customers, on='Uid', how = 'left')\n",
    "visits.head(10)"
   ]
  },
  {
   "cell_type": "markdown",
   "metadata": {},
   "source": [
    "visits['first_visit_month'] = visits['first_visit_date'].astype(\n",
    "    'datetime64[M]'\n",
    ")\n",
    "visits['session_month'] = visits['session_date'].astype('datetime64[M]')\n",
    "visits"
   ]
  },
  {
   "cell_type": "code",
   "execution_count": null,
   "metadata": {},
   "outputs": [],
   "source": [
    "cohort_grouped = visits.groupby('first_visit_month').agg(\n",
    "    {'Uid': 'nunique'}\n",
    ")\n",
    "cohort_grouped"
   ]
  },
  {
   "cell_type": "code",
   "execution_count": 51,
   "metadata": {},
   "outputs": [],
   "source": [
    "pivot_visits = visits.pivot_table(\n",
    "    index='first_visit_month',\n",
    "    columns='session_month',\n",
    "    values='Uid',\n",
    "    aggfunc='nunique',\n",
    ") "
   ]
  },
  {
   "cell_type": "code",
   "execution_count": 52,
   "metadata": {
    "scrolled": false
   },
   "outputs": [
    {
     "data": {
      "text/html": [
       "<div>\n",
       "<style scoped>\n",
       "    .dataframe tbody tr th:only-of-type {\n",
       "        vertical-align: middle;\n",
       "    }\n",
       "\n",
       "    .dataframe tbody tr th {\n",
       "        vertical-align: top;\n",
       "    }\n",
       "\n",
       "    .dataframe thead th {\n",
       "        text-align: right;\n",
       "    }\n",
       "</style>\n",
       "<table border=\"1\" class=\"dataframe\">\n",
       "  <thead>\n",
       "    <tr style=\"text-align: right;\">\n",
       "      <th>session_month</th>\n",
       "      <th>2017-06-01</th>\n",
       "      <th>2017-07-01</th>\n",
       "      <th>2017-08-01</th>\n",
       "      <th>2017-09-01</th>\n",
       "      <th>2017-10-01</th>\n",
       "      <th>2017-11-01</th>\n",
       "      <th>2017-12-01</th>\n",
       "      <th>2018-01-01</th>\n",
       "      <th>2018-02-01</th>\n",
       "      <th>2018-03-01</th>\n",
       "      <th>2018-04-01</th>\n",
       "      <th>2018-05-01</th>\n",
       "    </tr>\n",
       "    <tr>\n",
       "      <th>first_visit_month</th>\n",
       "      <th></th>\n",
       "      <th></th>\n",
       "      <th></th>\n",
       "      <th></th>\n",
       "      <th></th>\n",
       "      <th></th>\n",
       "      <th></th>\n",
       "      <th></th>\n",
       "      <th></th>\n",
       "      <th></th>\n",
       "      <th></th>\n",
       "      <th></th>\n",
       "    </tr>\n",
       "  </thead>\n",
       "  <tbody>\n",
       "    <tr>\n",
       "      <td>2017-06-01</td>\n",
       "      <td>13259.0</td>\n",
       "      <td>1043.0</td>\n",
       "      <td>713.0</td>\n",
       "      <td>814.0</td>\n",
       "      <td>909.0</td>\n",
       "      <td>947.0</td>\n",
       "      <td>809.0</td>\n",
       "      <td>766.0</td>\n",
       "      <td>694.0</td>\n",
       "      <td>674.0</td>\n",
       "      <td>539.0</td>\n",
       "      <td>578.0</td>\n",
       "    </tr>\n",
       "    <tr>\n",
       "      <td>2017-07-01</td>\n",
       "      <td>NaN</td>\n",
       "      <td>13140.0</td>\n",
       "      <td>737.0</td>\n",
       "      <td>674.0</td>\n",
       "      <td>738.0</td>\n",
       "      <td>765.0</td>\n",
       "      <td>633.0</td>\n",
       "      <td>596.0</td>\n",
       "      <td>601.0</td>\n",
       "      <td>510.0</td>\n",
       "      <td>376.0</td>\n",
       "      <td>341.0</td>\n",
       "    </tr>\n",
       "    <tr>\n",
       "      <td>2017-08-01</td>\n",
       "      <td>NaN</td>\n",
       "      <td>NaN</td>\n",
       "      <td>10181.0</td>\n",
       "      <td>783.0</td>\n",
       "      <td>640.0</td>\n",
       "      <td>639.0</td>\n",
       "      <td>510.0</td>\n",
       "      <td>448.0</td>\n",
       "      <td>370.0</td>\n",
       "      <td>402.0</td>\n",
       "      <td>284.0</td>\n",
       "      <td>252.0</td>\n",
       "    </tr>\n",
       "    <tr>\n",
       "      <td>2017-09-01</td>\n",
       "      <td>NaN</td>\n",
       "      <td>NaN</td>\n",
       "      <td>NaN</td>\n",
       "      <td>16704.0</td>\n",
       "      <td>1428.0</td>\n",
       "      <td>1156.0</td>\n",
       "      <td>847.0</td>\n",
       "      <td>658.0</td>\n",
       "      <td>632.0</td>\n",
       "      <td>599.0</td>\n",
       "      <td>404.0</td>\n",
       "      <td>369.0</td>\n",
       "    </tr>\n",
       "    <tr>\n",
       "      <td>2017-10-01</td>\n",
       "      <td>NaN</td>\n",
       "      <td>NaN</td>\n",
       "      <td>NaN</td>\n",
       "      <td>NaN</td>\n",
       "      <td>25977.0</td>\n",
       "      <td>2042.0</td>\n",
       "      <td>1357.0</td>\n",
       "      <td>1012.0</td>\n",
       "      <td>890.0</td>\n",
       "      <td>837.0</td>\n",
       "      <td>555.0</td>\n",
       "      <td>504.0</td>\n",
       "    </tr>\n",
       "    <tr>\n",
       "      <td>2017-11-01</td>\n",
       "      <td>NaN</td>\n",
       "      <td>NaN</td>\n",
       "      <td>NaN</td>\n",
       "      <td>NaN</td>\n",
       "      <td>NaN</td>\n",
       "      <td>27248.0</td>\n",
       "      <td>2133.0</td>\n",
       "      <td>1202.0</td>\n",
       "      <td>1054.0</td>\n",
       "      <td>919.0</td>\n",
       "      <td>638.0</td>\n",
       "      <td>560.0</td>\n",
       "    </tr>\n",
       "    <tr>\n",
       "      <td>2017-12-01</td>\n",
       "      <td>NaN</td>\n",
       "      <td>NaN</td>\n",
       "      <td>NaN</td>\n",
       "      <td>NaN</td>\n",
       "      <td>NaN</td>\n",
       "      <td>NaN</td>\n",
       "      <td>25268.0</td>\n",
       "      <td>1410.0</td>\n",
       "      <td>960.0</td>\n",
       "      <td>786.0</td>\n",
       "      <td>512.0</td>\n",
       "      <td>455.0</td>\n",
       "    </tr>\n",
       "    <tr>\n",
       "      <td>2018-01-01</td>\n",
       "      <td>NaN</td>\n",
       "      <td>NaN</td>\n",
       "      <td>NaN</td>\n",
       "      <td>NaN</td>\n",
       "      <td>NaN</td>\n",
       "      <td>NaN</td>\n",
       "      <td>NaN</td>\n",
       "      <td>22624.0</td>\n",
       "      <td>1351.0</td>\n",
       "      <td>890.0</td>\n",
       "      <td>565.0</td>\n",
       "      <td>437.0</td>\n",
       "    </tr>\n",
       "    <tr>\n",
       "      <td>2018-02-01</td>\n",
       "      <td>NaN</td>\n",
       "      <td>NaN</td>\n",
       "      <td>NaN</td>\n",
       "      <td>NaN</td>\n",
       "      <td>NaN</td>\n",
       "      <td>NaN</td>\n",
       "      <td>NaN</td>\n",
       "      <td>NaN</td>\n",
       "      <td>22197.0</td>\n",
       "      <td>1267.0</td>\n",
       "      <td>565.0</td>\n",
       "      <td>421.0</td>\n",
       "    </tr>\n",
       "    <tr>\n",
       "      <td>2018-03-01</td>\n",
       "      <td>NaN</td>\n",
       "      <td>NaN</td>\n",
       "      <td>NaN</td>\n",
       "      <td>NaN</td>\n",
       "      <td>NaN</td>\n",
       "      <td>NaN</td>\n",
       "      <td>NaN</td>\n",
       "      <td>NaN</td>\n",
       "      <td>NaN</td>\n",
       "      <td>20589.0</td>\n",
       "      <td>861.0</td>\n",
       "      <td>524.0</td>\n",
       "    </tr>\n",
       "    <tr>\n",
       "      <td>2018-04-01</td>\n",
       "      <td>NaN</td>\n",
       "      <td>NaN</td>\n",
       "      <td>NaN</td>\n",
       "      <td>NaN</td>\n",
       "      <td>NaN</td>\n",
       "      <td>NaN</td>\n",
       "      <td>NaN</td>\n",
       "      <td>NaN</td>\n",
       "      <td>NaN</td>\n",
       "      <td>NaN</td>\n",
       "      <td>15709.0</td>\n",
       "      <td>744.0</td>\n",
       "    </tr>\n",
       "    <tr>\n",
       "      <td>2018-05-01</td>\n",
       "      <td>NaN</td>\n",
       "      <td>NaN</td>\n",
       "      <td>NaN</td>\n",
       "      <td>NaN</td>\n",
       "      <td>NaN</td>\n",
       "      <td>NaN</td>\n",
       "      <td>NaN</td>\n",
       "      <td>NaN</td>\n",
       "      <td>NaN</td>\n",
       "      <td>NaN</td>\n",
       "      <td>NaN</td>\n",
       "      <td>13846.0</td>\n",
       "    </tr>\n",
       "  </tbody>\n",
       "</table>\n",
       "</div>"
      ],
      "text/plain": [
       "session_month      2017-06-01  2017-07-01  2017-08-01  2017-09-01  2017-10-01  \\\n",
       "first_visit_month                                                               \n",
       "2017-06-01            13259.0      1043.0       713.0       814.0       909.0   \n",
       "2017-07-01                NaN     13140.0       737.0       674.0       738.0   \n",
       "2017-08-01                NaN         NaN     10181.0       783.0       640.0   \n",
       "2017-09-01                NaN         NaN         NaN     16704.0      1428.0   \n",
       "2017-10-01                NaN         NaN         NaN         NaN     25977.0   \n",
       "2017-11-01                NaN         NaN         NaN         NaN         NaN   \n",
       "2017-12-01                NaN         NaN         NaN         NaN         NaN   \n",
       "2018-01-01                NaN         NaN         NaN         NaN         NaN   \n",
       "2018-02-01                NaN         NaN         NaN         NaN         NaN   \n",
       "2018-03-01                NaN         NaN         NaN         NaN         NaN   \n",
       "2018-04-01                NaN         NaN         NaN         NaN         NaN   \n",
       "2018-05-01                NaN         NaN         NaN         NaN         NaN   \n",
       "\n",
       "session_month      2017-11-01  2017-12-01  2018-01-01  2018-02-01  2018-03-01  \\\n",
       "first_visit_month                                                               \n",
       "2017-06-01              947.0       809.0       766.0       694.0       674.0   \n",
       "2017-07-01              765.0       633.0       596.0       601.0       510.0   \n",
       "2017-08-01              639.0       510.0       448.0       370.0       402.0   \n",
       "2017-09-01             1156.0       847.0       658.0       632.0       599.0   \n",
       "2017-10-01             2042.0      1357.0      1012.0       890.0       837.0   \n",
       "2017-11-01            27248.0      2133.0      1202.0      1054.0       919.0   \n",
       "2017-12-01                NaN     25268.0      1410.0       960.0       786.0   \n",
       "2018-01-01                NaN         NaN     22624.0      1351.0       890.0   \n",
       "2018-02-01                NaN         NaN         NaN     22197.0      1267.0   \n",
       "2018-03-01                NaN         NaN         NaN         NaN     20589.0   \n",
       "2018-04-01                NaN         NaN         NaN         NaN         NaN   \n",
       "2018-05-01                NaN         NaN         NaN         NaN         NaN   \n",
       "\n",
       "session_month      2018-04-01  2018-05-01  \n",
       "first_visit_month                          \n",
       "2017-06-01              539.0       578.0  \n",
       "2017-07-01              376.0       341.0  \n",
       "2017-08-01              284.0       252.0  \n",
       "2017-09-01              404.0       369.0  \n",
       "2017-10-01              555.0       504.0  \n",
       "2017-11-01              638.0       560.0  \n",
       "2017-12-01              512.0       455.0  \n",
       "2018-01-01              565.0       437.0  \n",
       "2018-02-01              565.0       421.0  \n",
       "2018-03-01              861.0       524.0  \n",
       "2018-04-01            15709.0       744.0  \n",
       "2018-05-01                NaN     13846.0  "
      ]
     },
     "execution_count": 52,
     "metadata": {},
     "output_type": "execute_result"
    }
   ],
   "source": [
    "pivot_visits"
   ]
  },
  {
   "cell_type": "markdown",
   "metadata": {},
   "source": [
    "Нашли количество уникальных посетителей в определенные периоды времени."
   ]
  },
  {
   "cell_type": "code",
   "execution_count": 108,
   "metadata": {},
   "outputs": [],
   "source": [
    "visits['cohort_lifetime'] = ((visits['session_month'] - visits['first_visit_month'])/np.timedelta64(1,'W')).astype(int).round()"
   ]
  },
  {
   "cell_type": "code",
   "execution_count": 109,
   "metadata": {},
   "outputs": [],
   "source": [
    "cohorts = visits.groupby(['first_visit_month','cohort_lifetime']).agg({'Uid':'nunique'}).reset_index()"
   ]
  },
  {
   "cell_type": "code",
   "execution_count": 110,
   "metadata": {},
   "outputs": [],
   "source": [
    "initial_users_count = cohorts[cohorts['cohort_lifetime'] == 0][\n",
    "    ['first_visit_month', 'Uid']]"
   ]
  },
  {
   "cell_type": "code",
   "execution_count": 111,
   "metadata": {},
   "outputs": [],
   "source": [
    "cohorts = cohorts.merge(initial_users_count,on='first_visit_month')"
   ]
  },
  {
   "cell_type": "code",
   "execution_count": 112,
   "metadata": {},
   "outputs": [],
   "source": [
    "cohorts['retention'] = cohorts['Uid_x']/cohorts['Uid_y']"
   ]
  },
  {
   "cell_type": "code",
   "execution_count": 113,
   "metadata": {},
   "outputs": [
    {
     "data": {
      "text/html": [
       "<div>\n",
       "<style scoped>\n",
       "    .dataframe tbody tr th:only-of-type {\n",
       "        vertical-align: middle;\n",
       "    }\n",
       "\n",
       "    .dataframe tbody tr th {\n",
       "        vertical-align: top;\n",
       "    }\n",
       "\n",
       "    .dataframe thead th {\n",
       "        text-align: right;\n",
       "    }\n",
       "</style>\n",
       "<table border=\"1\" class=\"dataframe\">\n",
       "  <thead>\n",
       "    <tr style=\"text-align: right;\">\n",
       "      <th></th>\n",
       "      <th>first_visit_month</th>\n",
       "      <th>cohort_lifetime</th>\n",
       "      <th>Uid_x</th>\n",
       "      <th>Uid_y</th>\n",
       "      <th>retention</th>\n",
       "    </tr>\n",
       "  </thead>\n",
       "  <tbody>\n",
       "    <tr>\n",
       "      <td>0</td>\n",
       "      <td>2017-06-01</td>\n",
       "      <td>0</td>\n",
       "      <td>13259</td>\n",
       "      <td>13259</td>\n",
       "      <td>1.000000</td>\n",
       "    </tr>\n",
       "    <tr>\n",
       "      <td>1</td>\n",
       "      <td>2017-06-01</td>\n",
       "      <td>4</td>\n",
       "      <td>1043</td>\n",
       "      <td>13259</td>\n",
       "      <td>0.078664</td>\n",
       "    </tr>\n",
       "    <tr>\n",
       "      <td>2</td>\n",
       "      <td>2017-06-01</td>\n",
       "      <td>9</td>\n",
       "      <td>713</td>\n",
       "      <td>13259</td>\n",
       "      <td>0.053775</td>\n",
       "    </tr>\n",
       "    <tr>\n",
       "      <td>3</td>\n",
       "      <td>2017-06-01</td>\n",
       "      <td>13</td>\n",
       "      <td>814</td>\n",
       "      <td>13259</td>\n",
       "      <td>0.061392</td>\n",
       "    </tr>\n",
       "    <tr>\n",
       "      <td>4</td>\n",
       "      <td>2017-06-01</td>\n",
       "      <td>17</td>\n",
       "      <td>909</td>\n",
       "      <td>13259</td>\n",
       "      <td>0.068557</td>\n",
       "    </tr>\n",
       "    <tr>\n",
       "      <td>...</td>\n",
       "      <td>...</td>\n",
       "      <td>...</td>\n",
       "      <td>...</td>\n",
       "      <td>...</td>\n",
       "      <td>...</td>\n",
       "    </tr>\n",
       "    <tr>\n",
       "      <td>73</td>\n",
       "      <td>2018-03-01</td>\n",
       "      <td>4</td>\n",
       "      <td>861</td>\n",
       "      <td>20589</td>\n",
       "      <td>0.041818</td>\n",
       "    </tr>\n",
       "    <tr>\n",
       "      <td>74</td>\n",
       "      <td>2018-03-01</td>\n",
       "      <td>9</td>\n",
       "      <td>524</td>\n",
       "      <td>20589</td>\n",
       "      <td>0.025450</td>\n",
       "    </tr>\n",
       "    <tr>\n",
       "      <td>75</td>\n",
       "      <td>2018-04-01</td>\n",
       "      <td>0</td>\n",
       "      <td>15709</td>\n",
       "      <td>15709</td>\n",
       "      <td>1.000000</td>\n",
       "    </tr>\n",
       "    <tr>\n",
       "      <td>76</td>\n",
       "      <td>2018-04-01</td>\n",
       "      <td>4</td>\n",
       "      <td>744</td>\n",
       "      <td>15709</td>\n",
       "      <td>0.047361</td>\n",
       "    </tr>\n",
       "    <tr>\n",
       "      <td>77</td>\n",
       "      <td>2018-05-01</td>\n",
       "      <td>0</td>\n",
       "      <td>13846</td>\n",
       "      <td>13846</td>\n",
       "      <td>1.000000</td>\n",
       "    </tr>\n",
       "  </tbody>\n",
       "</table>\n",
       "<p>78 rows × 5 columns</p>\n",
       "</div>"
      ],
      "text/plain": [
       "   first_visit_month  cohort_lifetime  Uid_x  Uid_y  retention\n",
       "0         2017-06-01                0  13259  13259   1.000000\n",
       "1         2017-06-01                4   1043  13259   0.078664\n",
       "2         2017-06-01                9    713  13259   0.053775\n",
       "3         2017-06-01               13    814  13259   0.061392\n",
       "4         2017-06-01               17    909  13259   0.068557\n",
       "..               ...              ...    ...    ...        ...\n",
       "73        2018-03-01                4    861  20589   0.041818\n",
       "74        2018-03-01                9    524  20589   0.025450\n",
       "75        2018-04-01                0  15709  15709   1.000000\n",
       "76        2018-04-01                4    744  15709   0.047361\n",
       "77        2018-05-01                0  13846  13846   1.000000\n",
       "\n",
       "[78 rows x 5 columns]"
      ]
     },
     "execution_count": 113,
     "metadata": {},
     "output_type": "execute_result"
    }
   ],
   "source": [
    "cohorts"
   ]
  },
  {
   "cell_type": "code",
   "execution_count": 114,
   "metadata": {},
   "outputs": [],
   "source": [
    "retention_pivot = cohorts.pivot_table(index='first_visit_month',\n",
    "    columns='cohort_lifetime',\n",
    "    values='retention',\n",
    "    aggfunc='sum')"
   ]
  },
  {
   "cell_type": "code",
   "execution_count": 115,
   "metadata": {
    "scrolled": true
   },
   "outputs": [
    {
     "data": {
      "text/html": [
       "<div>\n",
       "<style scoped>\n",
       "    .dataframe tbody tr th:only-of-type {\n",
       "        vertical-align: middle;\n",
       "    }\n",
       "\n",
       "    .dataframe tbody tr th {\n",
       "        vertical-align: top;\n",
       "    }\n",
       "\n",
       "    .dataframe thead th {\n",
       "        text-align: right;\n",
       "    }\n",
       "</style>\n",
       "<table border=\"1\" class=\"dataframe\">\n",
       "  <thead>\n",
       "    <tr style=\"text-align: right;\">\n",
       "      <th>cohort_lifetime</th>\n",
       "      <th>first_visit_month</th>\n",
       "      <th>0</th>\n",
       "      <th>4</th>\n",
       "      <th>8</th>\n",
       "      <th>9</th>\n",
       "      <th>13</th>\n",
       "      <th>17</th>\n",
       "      <th>18</th>\n",
       "      <th>22</th>\n",
       "      <th>26</th>\n",
       "      <th>30</th>\n",
       "      <th>31</th>\n",
       "      <th>35</th>\n",
       "      <th>39</th>\n",
       "      <th>43</th>\n",
       "      <th>48</th>\n",
       "    </tr>\n",
       "  </thead>\n",
       "  <tbody>\n",
       "    <tr>\n",
       "      <td>0</td>\n",
       "      <td>2017-06-01</td>\n",
       "      <td>1.0</td>\n",
       "      <td>0.078664</td>\n",
       "      <td>NaN</td>\n",
       "      <td>0.053775</td>\n",
       "      <td>0.061392</td>\n",
       "      <td>0.068557</td>\n",
       "      <td>NaN</td>\n",
       "      <td>0.071423</td>\n",
       "      <td>0.061015</td>\n",
       "      <td>NaN</td>\n",
       "      <td>0.057772</td>\n",
       "      <td>0.052342</td>\n",
       "      <td>0.050833</td>\n",
       "      <td>0.040652</td>\n",
       "      <td>0.043593</td>\n",
       "    </tr>\n",
       "    <tr>\n",
       "      <td>1</td>\n",
       "      <td>2017-07-01</td>\n",
       "      <td>1.0</td>\n",
       "      <td>0.056088</td>\n",
       "      <td>NaN</td>\n",
       "      <td>0.051294</td>\n",
       "      <td>0.056164</td>\n",
       "      <td>NaN</td>\n",
       "      <td>0.058219</td>\n",
       "      <td>0.048174</td>\n",
       "      <td>0.045358</td>\n",
       "      <td>NaN</td>\n",
       "      <td>0.045738</td>\n",
       "      <td>0.038813</td>\n",
       "      <td>0.028615</td>\n",
       "      <td>0.025951</td>\n",
       "      <td>NaN</td>\n",
       "    </tr>\n",
       "    <tr>\n",
       "      <td>2</td>\n",
       "      <td>2017-08-01</td>\n",
       "      <td>1.0</td>\n",
       "      <td>0.076908</td>\n",
       "      <td>NaN</td>\n",
       "      <td>0.062862</td>\n",
       "      <td>0.062764</td>\n",
       "      <td>0.050093</td>\n",
       "      <td>NaN</td>\n",
       "      <td>0.044004</td>\n",
       "      <td>0.036342</td>\n",
       "      <td>0.039485</td>\n",
       "      <td>NaN</td>\n",
       "      <td>0.027895</td>\n",
       "      <td>0.024752</td>\n",
       "      <td>NaN</td>\n",
       "      <td>NaN</td>\n",
       "    </tr>\n",
       "    <tr>\n",
       "      <td>3</td>\n",
       "      <td>2017-09-01</td>\n",
       "      <td>1.0</td>\n",
       "      <td>0.085489</td>\n",
       "      <td>NaN</td>\n",
       "      <td>0.069205</td>\n",
       "      <td>0.050706</td>\n",
       "      <td>0.039392</td>\n",
       "      <td>NaN</td>\n",
       "      <td>0.037835</td>\n",
       "      <td>0.035860</td>\n",
       "      <td>0.024186</td>\n",
       "      <td>NaN</td>\n",
       "      <td>0.022091</td>\n",
       "      <td>NaN</td>\n",
       "      <td>NaN</td>\n",
       "      <td>NaN</td>\n",
       "    </tr>\n",
       "    <tr>\n",
       "      <td>4</td>\n",
       "      <td>2017-10-01</td>\n",
       "      <td>1.0</td>\n",
       "      <td>0.078608</td>\n",
       "      <td>NaN</td>\n",
       "      <td>0.052239</td>\n",
       "      <td>0.038958</td>\n",
       "      <td>NaN</td>\n",
       "      <td>0.034261</td>\n",
       "      <td>0.032221</td>\n",
       "      <td>0.021365</td>\n",
       "      <td>0.019402</td>\n",
       "      <td>NaN</td>\n",
       "      <td>NaN</td>\n",
       "      <td>NaN</td>\n",
       "      <td>NaN</td>\n",
       "      <td>NaN</td>\n",
       "    </tr>\n",
       "    <tr>\n",
       "      <td>5</td>\n",
       "      <td>2017-11-01</td>\n",
       "      <td>1.0</td>\n",
       "      <td>0.078281</td>\n",
       "      <td>NaN</td>\n",
       "      <td>0.044113</td>\n",
       "      <td>0.038682</td>\n",
       "      <td>0.033727</td>\n",
       "      <td>NaN</td>\n",
       "      <td>0.023415</td>\n",
       "      <td>0.020552</td>\n",
       "      <td>NaN</td>\n",
       "      <td>NaN</td>\n",
       "      <td>NaN</td>\n",
       "      <td>NaN</td>\n",
       "      <td>NaN</td>\n",
       "      <td>NaN</td>\n",
       "    </tr>\n",
       "    <tr>\n",
       "      <td>6</td>\n",
       "      <td>2017-12-01</td>\n",
       "      <td>1.0</td>\n",
       "      <td>0.055802</td>\n",
       "      <td>NaN</td>\n",
       "      <td>0.037993</td>\n",
       "      <td>0.031107</td>\n",
       "      <td>0.020263</td>\n",
       "      <td>NaN</td>\n",
       "      <td>0.018007</td>\n",
       "      <td>NaN</td>\n",
       "      <td>NaN</td>\n",
       "      <td>NaN</td>\n",
       "      <td>NaN</td>\n",
       "      <td>NaN</td>\n",
       "      <td>NaN</td>\n",
       "      <td>NaN</td>\n",
       "    </tr>\n",
       "    <tr>\n",
       "      <td>7</td>\n",
       "      <td>2018-01-01</td>\n",
       "      <td>1.0</td>\n",
       "      <td>0.059715</td>\n",
       "      <td>0.039339</td>\n",
       "      <td>NaN</td>\n",
       "      <td>0.024973</td>\n",
       "      <td>0.019316</td>\n",
       "      <td>NaN</td>\n",
       "      <td>NaN</td>\n",
       "      <td>NaN</td>\n",
       "      <td>NaN</td>\n",
       "      <td>NaN</td>\n",
       "      <td>NaN</td>\n",
       "      <td>NaN</td>\n",
       "      <td>NaN</td>\n",
       "      <td>NaN</td>\n",
       "    </tr>\n",
       "    <tr>\n",
       "      <td>8</td>\n",
       "      <td>2018-02-01</td>\n",
       "      <td>1.0</td>\n",
       "      <td>0.057080</td>\n",
       "      <td>0.025454</td>\n",
       "      <td>NaN</td>\n",
       "      <td>0.018967</td>\n",
       "      <td>NaN</td>\n",
       "      <td>NaN</td>\n",
       "      <td>NaN</td>\n",
       "      <td>NaN</td>\n",
       "      <td>NaN</td>\n",
       "      <td>NaN</td>\n",
       "      <td>NaN</td>\n",
       "      <td>NaN</td>\n",
       "      <td>NaN</td>\n",
       "      <td>NaN</td>\n",
       "    </tr>\n",
       "    <tr>\n",
       "      <td>9</td>\n",
       "      <td>2018-03-01</td>\n",
       "      <td>1.0</td>\n",
       "      <td>0.041818</td>\n",
       "      <td>NaN</td>\n",
       "      <td>0.025450</td>\n",
       "      <td>NaN</td>\n",
       "      <td>NaN</td>\n",
       "      <td>NaN</td>\n",
       "      <td>NaN</td>\n",
       "      <td>NaN</td>\n",
       "      <td>NaN</td>\n",
       "      <td>NaN</td>\n",
       "      <td>NaN</td>\n",
       "      <td>NaN</td>\n",
       "      <td>NaN</td>\n",
       "      <td>NaN</td>\n",
       "    </tr>\n",
       "    <tr>\n",
       "      <td>10</td>\n",
       "      <td>2018-04-01</td>\n",
       "      <td>1.0</td>\n",
       "      <td>0.047361</td>\n",
       "      <td>NaN</td>\n",
       "      <td>NaN</td>\n",
       "      <td>NaN</td>\n",
       "      <td>NaN</td>\n",
       "      <td>NaN</td>\n",
       "      <td>NaN</td>\n",
       "      <td>NaN</td>\n",
       "      <td>NaN</td>\n",
       "      <td>NaN</td>\n",
       "      <td>NaN</td>\n",
       "      <td>NaN</td>\n",
       "      <td>NaN</td>\n",
       "      <td>NaN</td>\n",
       "    </tr>\n",
       "    <tr>\n",
       "      <td>11</td>\n",
       "      <td>2018-05-01</td>\n",
       "      <td>1.0</td>\n",
       "      <td>NaN</td>\n",
       "      <td>NaN</td>\n",
       "      <td>NaN</td>\n",
       "      <td>NaN</td>\n",
       "      <td>NaN</td>\n",
       "      <td>NaN</td>\n",
       "      <td>NaN</td>\n",
       "      <td>NaN</td>\n",
       "      <td>NaN</td>\n",
       "      <td>NaN</td>\n",
       "      <td>NaN</td>\n",
       "      <td>NaN</td>\n",
       "      <td>NaN</td>\n",
       "      <td>NaN</td>\n",
       "    </tr>\n",
       "  </tbody>\n",
       "</table>\n",
       "</div>"
      ],
      "text/plain": [
       "cohort_lifetime first_visit_month    0         4         8         9  \\\n",
       "0                      2017-06-01  1.0  0.078664       NaN  0.053775   \n",
       "1                      2017-07-01  1.0  0.056088       NaN  0.051294   \n",
       "2                      2017-08-01  1.0  0.076908       NaN  0.062862   \n",
       "3                      2017-09-01  1.0  0.085489       NaN  0.069205   \n",
       "4                      2017-10-01  1.0  0.078608       NaN  0.052239   \n",
       "5                      2017-11-01  1.0  0.078281       NaN  0.044113   \n",
       "6                      2017-12-01  1.0  0.055802       NaN  0.037993   \n",
       "7                      2018-01-01  1.0  0.059715  0.039339       NaN   \n",
       "8                      2018-02-01  1.0  0.057080  0.025454       NaN   \n",
       "9                      2018-03-01  1.0  0.041818       NaN  0.025450   \n",
       "10                     2018-04-01  1.0  0.047361       NaN       NaN   \n",
       "11                     2018-05-01  1.0       NaN       NaN       NaN   \n",
       "\n",
       "cohort_lifetime        13        17        18        22        26        30  \\\n",
       "0                0.061392  0.068557       NaN  0.071423  0.061015       NaN   \n",
       "1                0.056164       NaN  0.058219  0.048174  0.045358       NaN   \n",
       "2                0.062764  0.050093       NaN  0.044004  0.036342  0.039485   \n",
       "3                0.050706  0.039392       NaN  0.037835  0.035860  0.024186   \n",
       "4                0.038958       NaN  0.034261  0.032221  0.021365  0.019402   \n",
       "5                0.038682  0.033727       NaN  0.023415  0.020552       NaN   \n",
       "6                0.031107  0.020263       NaN  0.018007       NaN       NaN   \n",
       "7                0.024973  0.019316       NaN       NaN       NaN       NaN   \n",
       "8                0.018967       NaN       NaN       NaN       NaN       NaN   \n",
       "9                     NaN       NaN       NaN       NaN       NaN       NaN   \n",
       "10                    NaN       NaN       NaN       NaN       NaN       NaN   \n",
       "11                    NaN       NaN       NaN       NaN       NaN       NaN   \n",
       "\n",
       "cohort_lifetime        31        35        39        43        48  \n",
       "0                0.057772  0.052342  0.050833  0.040652  0.043593  \n",
       "1                0.045738  0.038813  0.028615  0.025951       NaN  \n",
       "2                     NaN  0.027895  0.024752       NaN       NaN  \n",
       "3                     NaN  0.022091       NaN       NaN       NaN  \n",
       "4                     NaN       NaN       NaN       NaN       NaN  \n",
       "5                     NaN       NaN       NaN       NaN       NaN  \n",
       "6                     NaN       NaN       NaN       NaN       NaN  \n",
       "7                     NaN       NaN       NaN       NaN       NaN  \n",
       "8                     NaN       NaN       NaN       NaN       NaN  \n",
       "9                     NaN       NaN       NaN       NaN       NaN  \n",
       "10                    NaN       NaN       NaN       NaN       NaN  \n",
       "11                    NaN       NaN       NaN       NaN       NaN  "
      ]
     },
     "execution_count": 115,
     "metadata": {},
     "output_type": "execute_result"
    }
   ],
   "source": [
    "retention_pivot.reset_index()"
   ]
  },
  {
   "cell_type": "code",
   "execution_count": 116,
   "metadata": {
    "scrolled": true
   },
   "outputs": [
    {
     "data": {
      "text/plain": [
       "0.03239632273471975"
      ]
     },
     "execution_count": 116,
     "metadata": {},
     "output_type": "execute_result"
    }
   ],
   "source": [
    "retention_pivot[8].mean()"
   ]
  },
  {
   "cell_type": "markdown",
   "metadata": {},
   "source": [
    "Нашли средний Retention Rate на второй месяц «жизни» когорт."
   ]
  },
  {
   "cell_type": "code",
   "execution_count": 117,
   "metadata": {},
   "outputs": [
    {
     "data": {
      "text/plain": [
       "<matplotlib.axes._subplots.AxesSubplot at 0x7efdfdc67b50>"
      ]
     },
     "execution_count": 117,
     "metadata": {},
     "output_type": "execute_result"
    },
    {
     "data": {
      "image/png": "[encoded data removed]",
      "text/plain": [
       "<Figure size 936x648 with 2 Axes>"
      ]
     },
     "metadata": {
      "needs_background": "light"
     },
     "output_type": "display_data"
    }
   ],
   "source": [
    "plt.figure(figsize=(13, 9))\n",
    "plt.title('Retention Rate')\n",
    "sns.heatmap(retention_pivot, annot=True, fmt='.1%', linewidths=1, linecolor='black')"
   ]
  },
  {
   "cell_type": "markdown",
   "metadata": {},
   "source": [
    "Видим, что наибольшее количество визитов было совершено июньской и октябрьскими когортами."
   ]
  },
  {
   "cell_type": "markdown",
   "metadata": {},
   "source": [
    "### Метрики электронной коммерции"
   ]
  },
  {
   "cell_type": "markdown",
   "metadata": {},
   "source": [
    "#### сколько времени в среднем проходит с момента первого посещения сайта до совершения покупки"
   ]
  },
  {
   "cell_type": "code",
   "execution_count": 63,
   "metadata": {},
   "outputs": [
    {
     "data": {
      "text/html": [
       "<div>\n",
       "<style scoped>\n",
       "    .dataframe tbody tr th:only-of-type {\n",
       "        vertical-align: middle;\n",
       "    }\n",
       "\n",
       "    .dataframe tbody tr th {\n",
       "        vertical-align: top;\n",
       "    }\n",
       "\n",
       "    .dataframe thead th {\n",
       "        text-align: right;\n",
       "    }\n",
       "</style>\n",
       "<table border=\"1\" class=\"dataframe\">\n",
       "  <thead>\n",
       "    <tr style=\"text-align: right;\">\n",
       "      <th></th>\n",
       "      <th>Device</th>\n",
       "      <th>End_Ts</th>\n",
       "      <th>Source_Id</th>\n",
       "      <th>Start_Ts</th>\n",
       "      <th>Uid</th>\n",
       "      <th>session_year</th>\n",
       "      <th>session_month</th>\n",
       "      <th>session_week</th>\n",
       "      <th>session_date</th>\n",
       "      <th>session_duration_sec</th>\n",
       "      <th>first_visit_date</th>\n",
       "      <th>first_visit_month</th>\n",
       "      <th>cohort_lifetime</th>\n",
       "    </tr>\n",
       "  </thead>\n",
       "  <tbody>\n",
       "    <tr>\n",
       "      <td>0</td>\n",
       "      <td>touch</td>\n",
       "      <td>2017-12-20 17:38:00</td>\n",
       "      <td>4</td>\n",
       "      <td>2017-12-20 17:20:00</td>\n",
       "      <td>16879256277535980062</td>\n",
       "      <td>2017-01-01</td>\n",
       "      <td>2017-12-01</td>\n",
       "      <td>2017-12-14</td>\n",
       "      <td>2017-12-20</td>\n",
       "      <td>1080</td>\n",
       "      <td>2017-12-20 17:20:00</td>\n",
       "      <td>2017-12-01</td>\n",
       "      <td>0</td>\n",
       "    </tr>\n",
       "    <tr>\n",
       "      <td>1</td>\n",
       "      <td>desktop</td>\n",
       "      <td>2018-02-19 17:21:00</td>\n",
       "      <td>2</td>\n",
       "      <td>2018-02-19 16:53:00</td>\n",
       "      <td>104060357244891740</td>\n",
       "      <td>2018-01-01</td>\n",
       "      <td>2018-02-01</td>\n",
       "      <td>2018-02-15</td>\n",
       "      <td>2018-02-19</td>\n",
       "      <td>1680</td>\n",
       "      <td>2018-02-19 16:53:00</td>\n",
       "      <td>2018-02-01</td>\n",
       "      <td>0</td>\n",
       "    </tr>\n",
       "    <tr>\n",
       "      <td>2</td>\n",
       "      <td>touch</td>\n",
       "      <td>2017-07-01 01:54:00</td>\n",
       "      <td>5</td>\n",
       "      <td>2017-07-01 01:54:00</td>\n",
       "      <td>7459035603376831527</td>\n",
       "      <td>2017-01-01</td>\n",
       "      <td>2017-07-01</td>\n",
       "      <td>2017-06-29</td>\n",
       "      <td>2017-07-01</td>\n",
       "      <td>0</td>\n",
       "      <td>2017-07-01 01:54:00</td>\n",
       "      <td>2017-07-01</td>\n",
       "      <td>0</td>\n",
       "    </tr>\n",
       "    <tr>\n",
       "      <td>3</td>\n",
       "      <td>desktop</td>\n",
       "      <td>2018-05-20 11:23:00</td>\n",
       "      <td>9</td>\n",
       "      <td>2018-05-20 10:59:00</td>\n",
       "      <td>16174680259334210214</td>\n",
       "      <td>2018-01-01</td>\n",
       "      <td>2018-05-01</td>\n",
       "      <td>2018-05-17</td>\n",
       "      <td>2018-05-20</td>\n",
       "      <td>1440</td>\n",
       "      <td>2018-03-09 20:05:00</td>\n",
       "      <td>2018-03-01</td>\n",
       "      <td>8</td>\n",
       "    </tr>\n",
       "    <tr>\n",
       "      <td>4</td>\n",
       "      <td>desktop</td>\n",
       "      <td>2017-12-27 14:06:00</td>\n",
       "      <td>3</td>\n",
       "      <td>2017-12-27 14:06:00</td>\n",
       "      <td>9969694820036681168</td>\n",
       "      <td>2017-01-01</td>\n",
       "      <td>2017-12-01</td>\n",
       "      <td>2017-12-21</td>\n",
       "      <td>2017-12-27</td>\n",
       "      <td>0</td>\n",
       "      <td>2017-12-27 14:06:00</td>\n",
       "      <td>2017-12-01</td>\n",
       "      <td>0</td>\n",
       "    </tr>\n",
       "    <tr>\n",
       "      <td>...</td>\n",
       "      <td>...</td>\n",
       "      <td>...</td>\n",
       "      <td>...</td>\n",
       "      <td>...</td>\n",
       "      <td>...</td>\n",
       "      <td>...</td>\n",
       "      <td>...</td>\n",
       "      <td>...</td>\n",
       "      <td>...</td>\n",
       "      <td>...</td>\n",
       "      <td>...</td>\n",
       "      <td>...</td>\n",
       "      <td>...</td>\n",
       "    </tr>\n",
       "    <tr>\n",
       "      <td>357140</td>\n",
       "      <td>desktop</td>\n",
       "      <td>2017-07-29 19:07:19</td>\n",
       "      <td>2</td>\n",
       "      <td>2017-07-29 19:07:00</td>\n",
       "      <td>18363291481961487539</td>\n",
       "      <td>2017-01-01</td>\n",
       "      <td>2017-07-01</td>\n",
       "      <td>2017-07-27</td>\n",
       "      <td>2017-07-29</td>\n",
       "      <td>19</td>\n",
       "      <td>2017-07-29 19:07:00</td>\n",
       "      <td>2017-07-01</td>\n",
       "      <td>0</td>\n",
       "    </tr>\n",
       "    <tr>\n",
       "      <td>357141</td>\n",
       "      <td>touch</td>\n",
       "      <td>2018-01-25 17:38:19</td>\n",
       "      <td>1</td>\n",
       "      <td>2018-01-25 17:38:00</td>\n",
       "      <td>18370831553019119586</td>\n",
       "      <td>2018-01-01</td>\n",
       "      <td>2018-01-01</td>\n",
       "      <td>2018-01-25</td>\n",
       "      <td>2018-01-25</td>\n",
       "      <td>19</td>\n",
       "      <td>2018-01-25 17:38:00</td>\n",
       "      <td>2018-01-01</td>\n",
       "      <td>0</td>\n",
       "    </tr>\n",
       "    <tr>\n",
       "      <td>357142</td>\n",
       "      <td>desktop</td>\n",
       "      <td>2018-03-03 10:12:19</td>\n",
       "      <td>4</td>\n",
       "      <td>2018-03-03 10:12:00</td>\n",
       "      <td>18387297585500748294</td>\n",
       "      <td>2018-01-01</td>\n",
       "      <td>2018-03-01</td>\n",
       "      <td>2018-03-01</td>\n",
       "      <td>2018-03-03</td>\n",
       "      <td>19</td>\n",
       "      <td>2018-03-03 10:12:00</td>\n",
       "      <td>2018-03-01</td>\n",
       "      <td>0</td>\n",
       "    </tr>\n",
       "    <tr>\n",
       "      <td>357143</td>\n",
       "      <td>desktop</td>\n",
       "      <td>2017-11-02 10:12:19</td>\n",
       "      <td>5</td>\n",
       "      <td>2017-11-02 10:12:00</td>\n",
       "      <td>18388616944624776485</td>\n",
       "      <td>2017-01-01</td>\n",
       "      <td>2017-11-01</td>\n",
       "      <td>2017-11-02</td>\n",
       "      <td>2017-11-02</td>\n",
       "      <td>19</td>\n",
       "      <td>2017-11-02 10:12:00</td>\n",
       "      <td>2017-11-01</td>\n",
       "      <td>0</td>\n",
       "    </tr>\n",
       "    <tr>\n",
       "      <td>357144</td>\n",
       "      <td>touch</td>\n",
       "      <td>2017-09-10 13:13:19</td>\n",
       "      <td>2</td>\n",
       "      <td>2017-09-10 13:13:00</td>\n",
       "      <td>18396128934054549559</td>\n",
       "      <td>2017-01-01</td>\n",
       "      <td>2017-09-01</td>\n",
       "      <td>2017-09-07</td>\n",
       "      <td>2017-09-10</td>\n",
       "      <td>19</td>\n",
       "      <td>2017-09-10 13:13:00</td>\n",
       "      <td>2017-09-01</td>\n",
       "      <td>0</td>\n",
       "    </tr>\n",
       "  </tbody>\n",
       "</table>\n",
       "<p>357145 rows × 13 columns</p>\n",
       "</div>"
      ],
      "text/plain": [
       "         Device              End_Ts  Source_Id            Start_Ts  \\\n",
       "0         touch 2017-12-20 17:38:00          4 2017-12-20 17:20:00   \n",
       "1       desktop 2018-02-19 17:21:00          2 2018-02-19 16:53:00   \n",
       "2         touch 2017-07-01 01:54:00          5 2017-07-01 01:54:00   \n",
       "3       desktop 2018-05-20 11:23:00          9 2018-05-20 10:59:00   \n",
       "4       desktop 2017-12-27 14:06:00          3 2017-12-27 14:06:00   \n",
       "...         ...                 ...        ...                 ...   \n",
       "357140  desktop 2017-07-29 19:07:19          2 2017-07-29 19:07:00   \n",
       "357141    touch 2018-01-25 17:38:19          1 2018-01-25 17:38:00   \n",
       "357142  desktop 2018-03-03 10:12:19          4 2018-03-03 10:12:00   \n",
       "357143  desktop 2017-11-02 10:12:19          5 2017-11-02 10:12:00   \n",
       "357144    touch 2017-09-10 13:13:19          2 2017-09-10 13:13:00   \n",
       "\n",
       "                         Uid session_year session_month session_week  \\\n",
       "0       16879256277535980062   2017-01-01    2017-12-01   2017-12-14   \n",
       "1         104060357244891740   2018-01-01    2018-02-01   2018-02-15   \n",
       "2        7459035603376831527   2017-01-01    2017-07-01   2017-06-29   \n",
       "3       16174680259334210214   2018-01-01    2018-05-01   2018-05-17   \n",
       "4        9969694820036681168   2017-01-01    2017-12-01   2017-12-21   \n",
       "...                      ...          ...           ...          ...   \n",
       "357140  18363291481961487539   2017-01-01    2017-07-01   2017-07-27   \n",
       "357141  18370831553019119586   2018-01-01    2018-01-01   2018-01-25   \n",
       "357142  18387297585500748294   2018-01-01    2018-03-01   2018-03-01   \n",
       "357143  18388616944624776485   2017-01-01    2017-11-01   2017-11-02   \n",
       "357144  18396128934054549559   2017-01-01    2017-09-01   2017-09-07   \n",
       "\n",
       "       session_date  session_duration_sec    first_visit_date  \\\n",
       "0        2017-12-20                  1080 2017-12-20 17:20:00   \n",
       "1        2018-02-19                  1680 2018-02-19 16:53:00   \n",
       "2        2017-07-01                     0 2017-07-01 01:54:00   \n",
       "3        2018-05-20                  1440 2018-03-09 20:05:00   \n",
       "4        2017-12-27                     0 2017-12-27 14:06:00   \n",
       "...             ...                   ...                 ...   \n",
       "357140   2017-07-29                    19 2017-07-29 19:07:00   \n",
       "357141   2018-01-25                    19 2018-01-25 17:38:00   \n",
       "357142   2018-03-03                    19 2018-03-03 10:12:00   \n",
       "357143   2017-11-02                    19 2017-11-02 10:12:00   \n",
       "357144   2017-09-10                    19 2017-09-10 13:13:00   \n",
       "\n",
       "       first_visit_month  cohort_lifetime  \n",
       "0             2017-12-01                0  \n",
       "1             2018-02-01                0  \n",
       "2             2017-07-01                0  \n",
       "3             2018-03-01                8  \n",
       "4             2017-12-01                0  \n",
       "...                  ...              ...  \n",
       "357140        2017-07-01                0  \n",
       "357141        2018-01-01                0  \n",
       "357142        2018-03-01                0  \n",
       "357143        2017-11-01                0  \n",
       "357144        2017-09-01                0  \n",
       "\n",
       "[357145 rows x 13 columns]"
      ]
     },
     "execution_count": 63,
     "metadata": {},
     "output_type": "execute_result"
    }
   ],
   "source": [
    "visits = visits.rename(columns = {'Uid_x':'Uid'})\n",
    "visits"
   ]
  },
  {
   "cell_type": "code",
   "execution_count": 64,
   "metadata": {
    "scrolled": true
   },
   "outputs": [],
   "source": [
    "first_to_bought = visits.merge(orders, on='Uid')"
   ]
  },
  {
   "cell_type": "code",
   "execution_count": 65,
   "metadata": {},
   "outputs": [
    {
     "data": {
      "text/html": [
       "<div>\n",
       "<style scoped>\n",
       "    .dataframe tbody tr th:only-of-type {\n",
       "        vertical-align: middle;\n",
       "    }\n",
       "\n",
       "    .dataframe tbody tr th {\n",
       "        vertical-align: top;\n",
       "    }\n",
       "\n",
       "    .dataframe thead th {\n",
       "        text-align: right;\n",
       "    }\n",
       "</style>\n",
       "<table border=\"1\" class=\"dataframe\">\n",
       "  <thead>\n",
       "    <tr style=\"text-align: right;\">\n",
       "      <th></th>\n",
       "      <th>Device</th>\n",
       "      <th>End_Ts</th>\n",
       "      <th>Source_Id</th>\n",
       "      <th>Start_Ts</th>\n",
       "      <th>Uid</th>\n",
       "      <th>session_year</th>\n",
       "      <th>session_month</th>\n",
       "      <th>session_week</th>\n",
       "      <th>session_date</th>\n",
       "      <th>session_duration_sec</th>\n",
       "      <th>first_visit_date</th>\n",
       "      <th>first_visit_month</th>\n",
       "      <th>cohort_lifetime</th>\n",
       "      <th>Buy_Ts</th>\n",
       "      <th>Revenue</th>\n",
       "      <th>first_bought</th>\n",
       "    </tr>\n",
       "  </thead>\n",
       "  <tbody>\n",
       "    <tr>\n",
       "      <td>0</td>\n",
       "      <td>desktop</td>\n",
       "      <td>2018-05-20 11:23:00</td>\n",
       "      <td>9</td>\n",
       "      <td>2018-05-20 10:59:00</td>\n",
       "      <td>16174680259334210214</td>\n",
       "      <td>2018-01-01</td>\n",
       "      <td>2018-05-01</td>\n",
       "      <td>2018-05-17</td>\n",
       "      <td>2018-05-20</td>\n",
       "      <td>1440</td>\n",
       "      <td>2018-03-09 20:05:00</td>\n",
       "      <td>2018-03-01</td>\n",
       "      <td>8</td>\n",
       "      <td>2018-03-09 20:25:00</td>\n",
       "      <td>2.33</td>\n",
       "      <td>2018-03-09 20:25:00</td>\n",
       "    </tr>\n",
       "    <tr>\n",
       "      <td>1</td>\n",
       "      <td>desktop</td>\n",
       "      <td>2018-03-09 20:33:00</td>\n",
       "      <td>4</td>\n",
       "      <td>2018-03-09 20:05:00</td>\n",
       "      <td>16174680259334210214</td>\n",
       "      <td>2018-01-01</td>\n",
       "      <td>2018-03-01</td>\n",
       "      <td>2018-03-08</td>\n",
       "      <td>2018-03-09</td>\n",
       "      <td>1680</td>\n",
       "      <td>2018-03-09 20:05:00</td>\n",
       "      <td>2018-03-01</td>\n",
       "      <td>0</td>\n",
       "      <td>2018-03-09 20:25:00</td>\n",
       "      <td>2.33</td>\n",
       "      <td>2018-03-09 20:25:00</td>\n",
       "    </tr>\n",
       "    <tr>\n",
       "      <td>2</td>\n",
       "      <td>desktop</td>\n",
       "      <td>2017-09-03 21:36:00</td>\n",
       "      <td>5</td>\n",
       "      <td>2017-09-03 21:35:00</td>\n",
       "      <td>16007536194108375387</td>\n",
       "      <td>2017-01-01</td>\n",
       "      <td>2017-09-01</td>\n",
       "      <td>2017-08-31</td>\n",
       "      <td>2017-09-03</td>\n",
       "      <td>60</td>\n",
       "      <td>2017-09-03 21:35:00</td>\n",
       "      <td>2017-09-01</td>\n",
       "      <td>0</td>\n",
       "      <td>2017-09-04 12:46:00</td>\n",
       "      <td>2.44</td>\n",
       "      <td>2017-09-04 12:46:00</td>\n",
       "    </tr>\n",
       "    <tr>\n",
       "      <td>3</td>\n",
       "      <td>desktop</td>\n",
       "      <td>2017-09-03 21:36:00</td>\n",
       "      <td>5</td>\n",
       "      <td>2017-09-03 21:35:00</td>\n",
       "      <td>16007536194108375387</td>\n",
       "      <td>2017-01-01</td>\n",
       "      <td>2017-09-01</td>\n",
       "      <td>2017-08-31</td>\n",
       "      <td>2017-09-03</td>\n",
       "      <td>60</td>\n",
       "      <td>2017-09-03 21:35:00</td>\n",
       "      <td>2017-09-01</td>\n",
       "      <td>0</td>\n",
       "      <td>2017-10-28 00:01:00</td>\n",
       "      <td>1.53</td>\n",
       "      <td>2017-09-04 12:46:00</td>\n",
       "    </tr>\n",
       "    <tr>\n",
       "      <td>4</td>\n",
       "      <td>desktop</td>\n",
       "      <td>2017-09-03 21:36:00</td>\n",
       "      <td>5</td>\n",
       "      <td>2017-09-03 21:35:00</td>\n",
       "      <td>16007536194108375387</td>\n",
       "      <td>2017-01-01</td>\n",
       "      <td>2017-09-01</td>\n",
       "      <td>2017-08-31</td>\n",
       "      <td>2017-09-03</td>\n",
       "      <td>60</td>\n",
       "      <td>2017-09-03 21:35:00</td>\n",
       "      <td>2017-09-01</td>\n",
       "      <td>0</td>\n",
       "      <td>2017-10-28 19:16:00</td>\n",
       "      <td>1.53</td>\n",
       "      <td>2017-09-04 12:46:00</td>\n",
       "    </tr>\n",
       "    <tr>\n",
       "      <td>...</td>\n",
       "      <td>...</td>\n",
       "      <td>...</td>\n",
       "      <td>...</td>\n",
       "      <td>...</td>\n",
       "      <td>...</td>\n",
       "      <td>...</td>\n",
       "      <td>...</td>\n",
       "      <td>...</td>\n",
       "      <td>...</td>\n",
       "      <td>...</td>\n",
       "      <td>...</td>\n",
       "      <td>...</td>\n",
       "      <td>...</td>\n",
       "      <td>...</td>\n",
       "      <td>...</td>\n",
       "      <td>...</td>\n",
       "    </tr>\n",
       "    <tr>\n",
       "      <td>758129</td>\n",
       "      <td>desktop</td>\n",
       "      <td>2017-11-20 23:44:00</td>\n",
       "      <td>4</td>\n",
       "      <td>2017-11-20 23:33:00</td>\n",
       "      <td>11750532881998794555</td>\n",
       "      <td>2017-01-01</td>\n",
       "      <td>2017-11-01</td>\n",
       "      <td>2017-11-16</td>\n",
       "      <td>2017-11-20</td>\n",
       "      <td>660</td>\n",
       "      <td>2017-11-20 23:33:00</td>\n",
       "      <td>2017-11-01</td>\n",
       "      <td>0</td>\n",
       "      <td>2017-11-20 23:43:00</td>\n",
       "      <td>3.67</td>\n",
       "      <td>2017-11-20 23:43:00</td>\n",
       "    </tr>\n",
       "    <tr>\n",
       "      <td>758130</td>\n",
       "      <td>touch</td>\n",
       "      <td>2018-05-30 23:39:00</td>\n",
       "      <td>2</td>\n",
       "      <td>2018-05-30 23:11:00</td>\n",
       "      <td>10394363694271133241</td>\n",
       "      <td>2018-01-01</td>\n",
       "      <td>2018-05-01</td>\n",
       "      <td>2018-05-24</td>\n",
       "      <td>2018-05-30</td>\n",
       "      <td>1680</td>\n",
       "      <td>2018-05-30 23:11:00</td>\n",
       "      <td>2018-05-01</td>\n",
       "      <td>0</td>\n",
       "      <td>2018-05-31 21:48:00</td>\n",
       "      <td>5.50</td>\n",
       "      <td>2018-05-31 21:48:00</td>\n",
       "    </tr>\n",
       "    <tr>\n",
       "      <td>758131</td>\n",
       "      <td>touch</td>\n",
       "      <td>2017-11-29 20:48:00</td>\n",
       "      <td>4</td>\n",
       "      <td>2017-11-29 20:27:00</td>\n",
       "      <td>11202626539189016002</td>\n",
       "      <td>2017-01-01</td>\n",
       "      <td>2017-11-01</td>\n",
       "      <td>2017-11-23</td>\n",
       "      <td>2017-11-29</td>\n",
       "      <td>1260</td>\n",
       "      <td>2017-11-29 20:27:00</td>\n",
       "      <td>2017-11-01</td>\n",
       "      <td>0</td>\n",
       "      <td>2017-11-29 20:33:00</td>\n",
       "      <td>3.05</td>\n",
       "      <td>2017-11-29 20:33:00</td>\n",
       "    </tr>\n",
       "    <tr>\n",
       "      <td>758132</td>\n",
       "      <td>desktop</td>\n",
       "      <td>2018-04-23 21:19:00</td>\n",
       "      <td>10</td>\n",
       "      <td>2018-04-23 21:11:00</td>\n",
       "      <td>12734910664455613822</td>\n",
       "      <td>2018-01-01</td>\n",
       "      <td>2018-04-01</td>\n",
       "      <td>2018-04-19</td>\n",
       "      <td>2018-04-23</td>\n",
       "      <td>480</td>\n",
       "      <td>2018-04-23 21:11:00</td>\n",
       "      <td>2018-04-01</td>\n",
       "      <td>0</td>\n",
       "      <td>2018-04-23 21:16:00</td>\n",
       "      <td>0.49</td>\n",
       "      <td>2018-04-23 21:16:00</td>\n",
       "    </tr>\n",
       "    <tr>\n",
       "      <td>758133</td>\n",
       "      <td>desktop</td>\n",
       "      <td>2017-07-31 12:31:00</td>\n",
       "      <td>3</td>\n",
       "      <td>2017-07-31 12:13:00</td>\n",
       "      <td>11102751930812818282</td>\n",
       "      <td>2017-01-01</td>\n",
       "      <td>2017-07-01</td>\n",
       "      <td>2017-07-27</td>\n",
       "      <td>2017-07-31</td>\n",
       "      <td>1080</td>\n",
       "      <td>2017-07-31 12:13:00</td>\n",
       "      <td>2017-07-01</td>\n",
       "      <td>0</td>\n",
       "      <td>2017-07-31 12:27:00</td>\n",
       "      <td>2.44</td>\n",
       "      <td>2017-07-31 12:27:00</td>\n",
       "    </tr>\n",
       "  </tbody>\n",
       "</table>\n",
       "<p>758134 rows × 16 columns</p>\n",
       "</div>"
      ],
      "text/plain": [
       "         Device              End_Ts  Source_Id            Start_Ts  \\\n",
       "0       desktop 2018-05-20 11:23:00          9 2018-05-20 10:59:00   \n",
       "1       desktop 2018-03-09 20:33:00          4 2018-03-09 20:05:00   \n",
       "2       desktop 2017-09-03 21:36:00          5 2017-09-03 21:35:00   \n",
       "3       desktop 2017-09-03 21:36:00          5 2017-09-03 21:35:00   \n",
       "4       desktop 2017-09-03 21:36:00          5 2017-09-03 21:35:00   \n",
       "...         ...                 ...        ...                 ...   \n",
       "758129  desktop 2017-11-20 23:44:00          4 2017-11-20 23:33:00   \n",
       "758130    touch 2018-05-30 23:39:00          2 2018-05-30 23:11:00   \n",
       "758131    touch 2017-11-29 20:48:00          4 2017-11-29 20:27:00   \n",
       "758132  desktop 2018-04-23 21:19:00         10 2018-04-23 21:11:00   \n",
       "758133  desktop 2017-07-31 12:31:00          3 2017-07-31 12:13:00   \n",
       "\n",
       "                         Uid session_year session_month session_week  \\\n",
       "0       16174680259334210214   2018-01-01    2018-05-01   2018-05-17   \n",
       "1       16174680259334210214   2018-01-01    2018-03-01   2018-03-08   \n",
       "2       16007536194108375387   2017-01-01    2017-09-01   2017-08-31   \n",
       "3       16007536194108375387   2017-01-01    2017-09-01   2017-08-31   \n",
       "4       16007536194108375387   2017-01-01    2017-09-01   2017-08-31   \n",
       "...                      ...          ...           ...          ...   \n",
       "758129  11750532881998794555   2017-01-01    2017-11-01   2017-11-16   \n",
       "758130  10394363694271133241   2018-01-01    2018-05-01   2018-05-24   \n",
       "758131  11202626539189016002   2017-01-01    2017-11-01   2017-11-23   \n",
       "758132  12734910664455613822   2018-01-01    2018-04-01   2018-04-19   \n",
       "758133  11102751930812818282   2017-01-01    2017-07-01   2017-07-27   \n",
       "\n",
       "       session_date  session_duration_sec    first_visit_date  \\\n",
       "0        2018-05-20                  1440 2018-03-09 20:05:00   \n",
       "1        2018-03-09                  1680 2018-03-09 20:05:00   \n",
       "2        2017-09-03                    60 2017-09-03 21:35:00   \n",
       "3        2017-09-03                    60 2017-09-03 21:35:00   \n",
       "4        2017-09-03                    60 2017-09-03 21:35:00   \n",
       "...             ...                   ...                 ...   \n",
       "758129   2017-11-20                   660 2017-11-20 23:33:00   \n",
       "758130   2018-05-30                  1680 2018-05-30 23:11:00   \n",
       "758131   2017-11-29                  1260 2017-11-29 20:27:00   \n",
       "758132   2018-04-23                   480 2018-04-23 21:11:00   \n",
       "758133   2017-07-31                  1080 2017-07-31 12:13:00   \n",
       "\n",
       "       first_visit_month  cohort_lifetime              Buy_Ts  Revenue  \\\n",
       "0             2018-03-01                8 2018-03-09 20:25:00     2.33   \n",
       "1             2018-03-01                0 2018-03-09 20:25:00     2.33   \n",
       "2             2017-09-01                0 2017-09-04 12:46:00     2.44   \n",
       "3             2017-09-01                0 2017-10-28 00:01:00     1.53   \n",
       "4             2017-09-01                0 2017-10-28 19:16:00     1.53   \n",
       "...                  ...              ...                 ...      ...   \n",
       "758129        2017-11-01                0 2017-11-20 23:43:00     3.67   \n",
       "758130        2018-05-01                0 2018-05-31 21:48:00     5.50   \n",
       "758131        2017-11-01                0 2017-11-29 20:33:00     3.05   \n",
       "758132        2018-04-01                0 2018-04-23 21:16:00     0.49   \n",
       "758133        2017-07-01                0 2017-07-31 12:27:00     2.44   \n",
       "\n",
       "              first_bought  \n",
       "0      2018-03-09 20:25:00  \n",
       "1      2018-03-09 20:25:00  \n",
       "2      2017-09-04 12:46:00  \n",
       "3      2017-09-04 12:46:00  \n",
       "4      2017-09-04 12:46:00  \n",
       "...                    ...  \n",
       "758129 2017-11-20 23:43:00  \n",
       "758130 2018-05-31 21:48:00  \n",
       "758131 2017-11-29 20:33:00  \n",
       "758132 2018-04-23 21:16:00  \n",
       "758133 2017-07-31 12:27:00  \n",
       "\n",
       "[758134 rows x 16 columns]"
      ]
     },
     "execution_count": 65,
     "metadata": {},
     "output_type": "execute_result"
    }
   ],
   "source": [
    "first = pd.DataFrame()\n",
    "first['first_bought'] = orders.groupby('Uid')['Buy_Ts'].min()\n",
    "first_to_bought = first_to_bought.merge(first, on='Uid', how='left')\n",
    "first_to_bought"
   ]
  },
  {
   "cell_type": "code",
   "execution_count": 66,
   "metadata": {},
   "outputs": [],
   "source": [
    "first_to_bought['time_to_event'] = (\n",
    "                first_to_bought['first_bought'] - first_to_bought['first_visit_month']\n",
    ")"
   ]
  },
  {
   "cell_type": "code",
   "execution_count": 67,
   "metadata": {
    "scrolled": true
   },
   "outputs": [
    {
     "data": {
      "text/plain": [
       "Timedelta('28 days 02:34:15.550074')"
      ]
     },
     "execution_count": 67,
     "metadata": {},
     "output_type": "execute_result"
    }
   ],
   "source": [
    "first_to_bought['time_to_event'].mean()"
   ]
  },
  {
   "cell_type": "markdown",
   "metadata": {},
   "source": [
    "Рассчитали, что в среднем с дня первого захода на сайт до покупки проходит 28 дней. "
   ]
  },
  {
   "cell_type": "markdown",
   "metadata": {},
   "source": [
    "#### рассчитаeм среднее количество покупок на одного покупателя за определённый период"
   ]
  },
  {
   "cell_type": "code",
   "execution_count": 68,
   "metadata": {},
   "outputs": [],
   "source": [
    "cohort_new1 = first_to_bought.groupby(['first_visit_month', 'Uid']).agg({'Buy_Ts':'nunique'}).reset_index()"
   ]
  },
  {
   "cell_type": "code",
   "execution_count": 69,
   "metadata": {
    "scrolled": false
   },
   "outputs": [
    {
     "data": {
      "text/html": [
       "<div>\n",
       "<style scoped>\n",
       "    .dataframe tbody tr th:only-of-type {\n",
       "        vertical-align: middle;\n",
       "    }\n",
       "\n",
       "    .dataframe tbody tr th {\n",
       "        vertical-align: top;\n",
       "    }\n",
       "\n",
       "    .dataframe thead th {\n",
       "        text-align: right;\n",
       "    }\n",
       "</style>\n",
       "<table border=\"1\" class=\"dataframe\">\n",
       "  <thead>\n",
       "    <tr style=\"text-align: right;\">\n",
       "      <th></th>\n",
       "      <th>first_visit_month</th>\n",
       "      <th>Uid</th>\n",
       "      <th>Buy_Ts</th>\n",
       "    </tr>\n",
       "  </thead>\n",
       "  <tbody>\n",
       "    <tr>\n",
       "      <td>0</td>\n",
       "      <td>2017-06-01</td>\n",
       "      <td>1575281904278712</td>\n",
       "      <td>2</td>\n",
       "    </tr>\n",
       "    <tr>\n",
       "      <td>1</td>\n",
       "      <td>2017-06-01</td>\n",
       "      <td>16233238570251706</td>\n",
       "      <td>1</td>\n",
       "    </tr>\n",
       "    <tr>\n",
       "      <td>2</td>\n",
       "      <td>2017-06-01</td>\n",
       "      <td>28094489227360733</td>\n",
       "      <td>5</td>\n",
       "    </tr>\n",
       "    <tr>\n",
       "      <td>3</td>\n",
       "      <td>2017-06-01</td>\n",
       "      <td>29085576454138824</td>\n",
       "      <td>1</td>\n",
       "    </tr>\n",
       "    <tr>\n",
       "      <td>4</td>\n",
       "      <td>2017-06-01</td>\n",
       "      <td>29340056013621514</td>\n",
       "      <td>2</td>\n",
       "    </tr>\n",
       "    <tr>\n",
       "      <td>...</td>\n",
       "      <td>...</td>\n",
       "      <td>...</td>\n",
       "      <td>...</td>\n",
       "    </tr>\n",
       "    <tr>\n",
       "      <td>36183</td>\n",
       "      <td>2018-05-01</td>\n",
       "      <td>18413403606138337462</td>\n",
       "      <td>1</td>\n",
       "    </tr>\n",
       "    <tr>\n",
       "      <td>36184</td>\n",
       "      <td>2018-05-01</td>\n",
       "      <td>18417227789295707563</td>\n",
       "      <td>1</td>\n",
       "    </tr>\n",
       "    <tr>\n",
       "      <td>36185</td>\n",
       "      <td>2018-05-01</td>\n",
       "      <td>18418973552381796231</td>\n",
       "      <td>1</td>\n",
       "    </tr>\n",
       "    <tr>\n",
       "      <td>36186</td>\n",
       "      <td>2018-05-01</td>\n",
       "      <td>18419772037216346332</td>\n",
       "      <td>1</td>\n",
       "    </tr>\n",
       "    <tr>\n",
       "      <td>36187</td>\n",
       "      <td>2018-05-01</td>\n",
       "      <td>18428860277441438399</td>\n",
       "      <td>1</td>\n",
       "    </tr>\n",
       "  </tbody>\n",
       "</table>\n",
       "<p>36188 rows × 3 columns</p>\n",
       "</div>"
      ],
      "text/plain": [
       "      first_visit_month                   Uid  Buy_Ts\n",
       "0            2017-06-01      1575281904278712       2\n",
       "1            2017-06-01     16233238570251706       1\n",
       "2            2017-06-01     28094489227360733       5\n",
       "3            2017-06-01     29085576454138824       1\n",
       "4            2017-06-01     29340056013621514       2\n",
       "...                 ...                   ...     ...\n",
       "36183        2018-05-01  18413403606138337462       1\n",
       "36184        2018-05-01  18417227789295707563       1\n",
       "36185        2018-05-01  18418973552381796231       1\n",
       "36186        2018-05-01  18419772037216346332       1\n",
       "36187        2018-05-01  18428860277441438399       1\n",
       "\n",
       "[36188 rows x 3 columns]"
      ]
     },
     "execution_count": 69,
     "metadata": {},
     "output_type": "execute_result"
    }
   ],
   "source": [
    "cohort_new1\n"
   ]
  },
  {
   "cell_type": "code",
   "execution_count": 70,
   "metadata": {},
   "outputs": [],
   "source": [
    "cohort_new = cohort_new1[cohort_new1['first_visit_month'] > '2017-12-28']"
   ]
  },
  {
   "cell_type": "code",
   "execution_count": 71,
   "metadata": {},
   "outputs": [
    {
     "data": {
      "text/html": [
       "<div>\n",
       "<style scoped>\n",
       "    .dataframe tbody tr th:only-of-type {\n",
       "        vertical-align: middle;\n",
       "    }\n",
       "\n",
       "    .dataframe tbody tr th {\n",
       "        vertical-align: top;\n",
       "    }\n",
       "\n",
       "    .dataframe thead th {\n",
       "        text-align: right;\n",
       "    }\n",
       "</style>\n",
       "<table border=\"1\" class=\"dataframe\">\n",
       "  <thead>\n",
       "    <tr style=\"text-align: right;\">\n",
       "      <th></th>\n",
       "      <th>first_visit_month</th>\n",
       "      <th>Uid</th>\n",
       "      <th>Buy_Ts</th>\n",
       "    </tr>\n",
       "  </thead>\n",
       "  <tbody>\n",
       "    <tr>\n",
       "      <td>23174</td>\n",
       "      <td>2018-01-01</td>\n",
       "      <td>2464366381792757</td>\n",
       "      <td>1</td>\n",
       "    </tr>\n",
       "    <tr>\n",
       "      <td>23175</td>\n",
       "      <td>2018-01-01</td>\n",
       "      <td>4808417689019433</td>\n",
       "      <td>1</td>\n",
       "    </tr>\n",
       "    <tr>\n",
       "      <td>23176</td>\n",
       "      <td>2018-01-01</td>\n",
       "      <td>12436904862559956</td>\n",
       "      <td>1</td>\n",
       "    </tr>\n",
       "    <tr>\n",
       "      <td>23177</td>\n",
       "      <td>2018-01-01</td>\n",
       "      <td>21441990708817825</td>\n",
       "      <td>1</td>\n",
       "    </tr>\n",
       "    <tr>\n",
       "      <td>23178</td>\n",
       "      <td>2018-01-01</td>\n",
       "      <td>21801295586117262</td>\n",
       "      <td>2</td>\n",
       "    </tr>\n",
       "    <tr>\n",
       "      <td>...</td>\n",
       "      <td>...</td>\n",
       "      <td>...</td>\n",
       "      <td>...</td>\n",
       "    </tr>\n",
       "    <tr>\n",
       "      <td>36183</td>\n",
       "      <td>2018-05-01</td>\n",
       "      <td>18413403606138337462</td>\n",
       "      <td>1</td>\n",
       "    </tr>\n",
       "    <tr>\n",
       "      <td>36184</td>\n",
       "      <td>2018-05-01</td>\n",
       "      <td>18417227789295707563</td>\n",
       "      <td>1</td>\n",
       "    </tr>\n",
       "    <tr>\n",
       "      <td>36185</td>\n",
       "      <td>2018-05-01</td>\n",
       "      <td>18418973552381796231</td>\n",
       "      <td>1</td>\n",
       "    </tr>\n",
       "    <tr>\n",
       "      <td>36186</td>\n",
       "      <td>2018-05-01</td>\n",
       "      <td>18419772037216346332</td>\n",
       "      <td>1</td>\n",
       "    </tr>\n",
       "    <tr>\n",
       "      <td>36187</td>\n",
       "      <td>2018-05-01</td>\n",
       "      <td>18428860277441438399</td>\n",
       "      <td>1</td>\n",
       "    </tr>\n",
       "  </tbody>\n",
       "</table>\n",
       "<p>13014 rows × 3 columns</p>\n",
       "</div>"
      ],
      "text/plain": [
       "      first_visit_month                   Uid  Buy_Ts\n",
       "23174        2018-01-01      2464366381792757       1\n",
       "23175        2018-01-01      4808417689019433       1\n",
       "23176        2018-01-01     12436904862559956       1\n",
       "23177        2018-01-01     21441990708817825       1\n",
       "23178        2018-01-01     21801295586117262       2\n",
       "...                 ...                   ...     ...\n",
       "36183        2018-05-01  18413403606138337462       1\n",
       "36184        2018-05-01  18417227789295707563       1\n",
       "36185        2018-05-01  18418973552381796231       1\n",
       "36186        2018-05-01  18419772037216346332       1\n",
       "36187        2018-05-01  18428860277441438399       1\n",
       "\n",
       "[13014 rows x 3 columns]"
      ]
     },
     "execution_count": 71,
     "metadata": {},
     "output_type": "execute_result"
    }
   ],
   "source": [
    "cohort_new"
   ]
  },
  {
   "cell_type": "code",
   "execution_count": 72,
   "metadata": {},
   "outputs": [
    {
     "data": {
      "text/plain": [
       "1.2050868295681574"
      ]
     },
     "execution_count": 72,
     "metadata": {},
     "output_type": "execute_result"
    }
   ],
   "source": [
    "cohort_new['Buy_Ts'].mean()"
   ]
  },
  {
   "cell_type": "markdown",
   "metadata": {},
   "source": [
    "В среднем одним человеком совершалась одна покупка в течение последних 6 месяцев."
   ]
  },
  {
   "cell_type": "markdown",
   "metadata": {},
   "source": [
    "#### Рассчитаем средний чек"
   ]
  },
  {
   "cell_type": "code",
   "execution_count": 73,
   "metadata": {},
   "outputs": [
    {
     "data": {
      "text/html": [
       "<div>\n",
       "<style scoped>\n",
       "    .dataframe tbody tr th:only-of-type {\n",
       "        vertical-align: middle;\n",
       "    }\n",
       "\n",
       "    .dataframe tbody tr th {\n",
       "        vertical-align: top;\n",
       "    }\n",
       "\n",
       "    .dataframe thead th {\n",
       "        text-align: right;\n",
       "    }\n",
       "</style>\n",
       "<table border=\"1\" class=\"dataframe\">\n",
       "  <thead>\n",
       "    <tr style=\"text-align: right;\">\n",
       "      <th></th>\n",
       "      <th>Uid</th>\n",
       "      <th>Revenue</th>\n",
       "    </tr>\n",
       "    <tr>\n",
       "      <th>Buy_Ts</th>\n",
       "      <th></th>\n",
       "      <th></th>\n",
       "    </tr>\n",
       "  </thead>\n",
       "  <tbody>\n",
       "    <tr>\n",
       "      <td>1</td>\n",
       "      <td>9128001955588630528</td>\n",
       "      <td>4.112927</td>\n",
       "    </tr>\n",
       "    <tr>\n",
       "      <td>2</td>\n",
       "      <td>8984572438063144960</td>\n",
       "      <td>4.840095</td>\n",
       "    </tr>\n",
       "    <tr>\n",
       "      <td>3</td>\n",
       "      <td>9193315293063396352</td>\n",
       "      <td>5.413930</td>\n",
       "    </tr>\n",
       "    <tr>\n",
       "      <td>4</td>\n",
       "      <td>8975084476919762944</td>\n",
       "      <td>5.150645</td>\n",
       "    </tr>\n",
       "    <tr>\n",
       "      <td>5</td>\n",
       "      <td>9079202585703793664</td>\n",
       "      <td>4.771279</td>\n",
       "    </tr>\n",
       "    <tr>\n",
       "      <td>6</td>\n",
       "      <td>9004665152890979328</td>\n",
       "      <td>4.059834</td>\n",
       "    </tr>\n",
       "    <tr>\n",
       "      <td>7</td>\n",
       "      <td>9229717811768844288</td>\n",
       "      <td>5.306589</td>\n",
       "    </tr>\n",
       "    <tr>\n",
       "      <td>8</td>\n",
       "      <td>9086443336258735104</td>\n",
       "      <td>4.847139</td>\n",
       "    </tr>\n",
       "    <tr>\n",
       "      <td>9</td>\n",
       "      <td>9180070757796361216</td>\n",
       "      <td>5.416448</td>\n",
       "    </tr>\n",
       "    <tr>\n",
       "      <td>10</td>\n",
       "      <td>9018957030131061760</td>\n",
       "      <td>4.928280</td>\n",
       "    </tr>\n",
       "    <tr>\n",
       "      <td>11</td>\n",
       "      <td>9258361936352366592</td>\n",
       "      <td>4.783518</td>\n",
       "    </tr>\n",
       "    <tr>\n",
       "      <td>12</td>\n",
       "      <td>9039247564685137920</td>\n",
       "      <td>5.852139</td>\n",
       "    </tr>\n",
       "  </tbody>\n",
       "</table>\n",
       "</div>"
      ],
      "text/plain": [
       "                        Uid   Revenue\n",
       "Buy_Ts                               \n",
       "1       9128001955588630528  4.112927\n",
       "2       8984572438063144960  4.840095\n",
       "3       9193315293063396352  5.413930\n",
       "4       8975084476919762944  5.150645\n",
       "5       9079202585703793664  4.771279\n",
       "6       9004665152890979328  4.059834\n",
       "7       9229717811768844288  5.306589\n",
       "8       9086443336258735104  4.847139\n",
       "9       9180070757796361216  5.416448\n",
       "10      9018957030131061760  4.928280\n",
       "11      9258361936352366592  4.783518\n",
       "12      9039247564685137920  5.852139"
      ]
     },
     "execution_count": 73,
     "metadata": {},
     "output_type": "execute_result"
    }
   ],
   "source": [
    "order_date = orders.groupby(orders['Buy_Ts'].dt.month)['Uid','Revenue'].mean()\n",
    "order_date\n"
   ]
  },
  {
   "cell_type": "code",
   "execution_count": 74,
   "metadata": {},
   "outputs": [
    {
     "data": {
      "text/plain": [
       "4.956901936821488"
      ]
     },
     "execution_count": 74,
     "metadata": {},
     "output_type": "execute_result"
    }
   ],
   "source": [
    "order_date['Revenue'].mean()"
   ]
  },
  {
   "cell_type": "markdown",
   "metadata": {},
   "source": [
    "Рассчитали средний чек по месяцам и средний чек за весь период"
   ]
  },
  {
   "cell_type": "code",
   "execution_count": 75,
   "metadata": {},
   "outputs": [
    {
     "data": {
      "text/plain": [
       "<matplotlib.axes._subplots.AxesSubplot at 0x7efdffd8cd90>"
      ]
     },
     "execution_count": 75,
     "metadata": {},
     "output_type": "execute_result"
    },
    {
     "data": {
      "image/png": "[encoded data removed]",
      "text/plain": [
       "<Figure size 432x288 with 1 Axes>"
      ]
     },
     "metadata": {
      "needs_background": "light"
     },
     "output_type": "display_data"
    }
   ],
   "source": [
    "order_date['Revenue'].plot()"
   ]
  },
  {
   "cell_type": "markdown",
   "metadata": {},
   "source": [
    "Видим, что средний чек разнится от месяца к месяцу, например, наибольший средний чек был в декабре, а наименьший - в июне. "
   ]
  },
  {
   "cell_type": "markdown",
   "metadata": {},
   "source": [
    "Такая динамика может говорить о том, что в какие-то месяцы могут проводиться больше мероприятий, а в какие-то меньше. Или же в определенные месяцы проводились акции или скидки"
   ]
  },
  {
   "cell_type": "markdown",
   "metadata": {},
   "source": [
    "####  Выясним, как меняется LTV на покупателя по когортам"
   ]
  },
  {
   "cell_type": "code",
   "execution_count": 76,
   "metadata": {},
   "outputs": [],
   "source": [
    "orders['Buy_Ts'] = orders['Buy_Ts'].astype('datetime64[M]')"
   ]
  },
  {
   "cell_type": "code",
   "execution_count": 77,
   "metadata": {},
   "outputs": [],
   "source": [
    "first_orders = orders.groupby('Uid').agg({'Buy_Ts': 'min'}).reset_index()\n",
    "first_orders.columns = ['Uid', 'first_order_month']"
   ]
  },
  {
   "cell_type": "code",
   "execution_count": 78,
   "metadata": {},
   "outputs": [
    {
     "data": {
      "text/html": [
       "<div>\n",
       "<style scoped>\n",
       "    .dataframe tbody tr th:only-of-type {\n",
       "        vertical-align: middle;\n",
       "    }\n",
       "\n",
       "    .dataframe tbody tr th {\n",
       "        vertical-align: top;\n",
       "    }\n",
       "\n",
       "    .dataframe thead th {\n",
       "        text-align: right;\n",
       "    }\n",
       "</style>\n",
       "<table border=\"1\" class=\"dataframe\">\n",
       "  <thead>\n",
       "    <tr style=\"text-align: right;\">\n",
       "      <th></th>\n",
       "      <th>Uid</th>\n",
       "      <th>first_order_month</th>\n",
       "    </tr>\n",
       "  </thead>\n",
       "  <tbody>\n",
       "    <tr>\n",
       "      <td>0</td>\n",
       "      <td>313578113262317</td>\n",
       "      <td>2018-01-01</td>\n",
       "    </tr>\n",
       "    <tr>\n",
       "      <td>1</td>\n",
       "      <td>1575281904278712</td>\n",
       "      <td>2017-06-01</td>\n",
       "    </tr>\n",
       "    <tr>\n",
       "      <td>2</td>\n",
       "      <td>2429014661409475</td>\n",
       "      <td>2017-10-01</td>\n",
       "    </tr>\n",
       "    <tr>\n",
       "      <td>3</td>\n",
       "      <td>2464366381792757</td>\n",
       "      <td>2018-01-01</td>\n",
       "    </tr>\n",
       "    <tr>\n",
       "      <td>4</td>\n",
       "      <td>2551852515556206</td>\n",
       "      <td>2017-11-01</td>\n",
       "    </tr>\n",
       "  </tbody>\n",
       "</table>\n",
       "</div>"
      ],
      "text/plain": [
       "                Uid first_order_month\n",
       "0   313578113262317        2018-01-01\n",
       "1  1575281904278712        2017-06-01\n",
       "2  2429014661409475        2017-10-01\n",
       "3  2464366381792757        2018-01-01\n",
       "4  2551852515556206        2017-11-01"
      ]
     },
     "execution_count": 78,
     "metadata": {},
     "output_type": "execute_result"
    }
   ],
   "source": [
    "first_orders.head()"
   ]
  },
  {
   "cell_type": "code",
   "execution_count": 79,
   "metadata": {},
   "outputs": [],
   "source": [
    "cohort_sizes = (\n",
    "    first_orders.groupby('first_order_month')\n",
    "    .agg({'Uid': 'nunique'})\n",
    "    .reset_index()\n",
    ")"
   ]
  },
  {
   "cell_type": "code",
   "execution_count": 80,
   "metadata": {},
   "outputs": [],
   "source": [
    "cohort_sizes.rename(columns={'Uid': 'n_buyers'}, inplace=True)"
   ]
  },
  {
   "cell_type": "code",
   "execution_count": 81,
   "metadata": {},
   "outputs": [
    {
     "data": {
      "text/html": [
       "<div>\n",
       "<style scoped>\n",
       "    .dataframe tbody tr th:only-of-type {\n",
       "        vertical-align: middle;\n",
       "    }\n",
       "\n",
       "    .dataframe tbody tr th {\n",
       "        vertical-align: top;\n",
       "    }\n",
       "\n",
       "    .dataframe thead th {\n",
       "        text-align: right;\n",
       "    }\n",
       "</style>\n",
       "<table border=\"1\" class=\"dataframe\">\n",
       "  <thead>\n",
       "    <tr style=\"text-align: right;\">\n",
       "      <th></th>\n",
       "      <th>Buy_Ts</th>\n",
       "      <th>Revenue</th>\n",
       "      <th>Uid</th>\n",
       "      <th>order_month</th>\n",
       "    </tr>\n",
       "  </thead>\n",
       "  <tbody>\n",
       "    <tr>\n",
       "      <td>0</td>\n",
       "      <td>2017-06-01</td>\n",
       "      <td>17.00</td>\n",
       "      <td>10329302124590727494</td>\n",
       "      <td>2017-06-01</td>\n",
       "    </tr>\n",
       "    <tr>\n",
       "      <td>1</td>\n",
       "      <td>2017-06-01</td>\n",
       "      <td>0.55</td>\n",
       "      <td>11627257723692907447</td>\n",
       "      <td>2017-06-01</td>\n",
       "    </tr>\n",
       "    <tr>\n",
       "      <td>2</td>\n",
       "      <td>2017-06-01</td>\n",
       "      <td>0.37</td>\n",
       "      <td>17903680561304213844</td>\n",
       "      <td>2017-06-01</td>\n",
       "    </tr>\n",
       "    <tr>\n",
       "      <td>3</td>\n",
       "      <td>2017-06-01</td>\n",
       "      <td>0.55</td>\n",
       "      <td>16109239769442553005</td>\n",
       "      <td>2017-06-01</td>\n",
       "    </tr>\n",
       "    <tr>\n",
       "      <td>4</td>\n",
       "      <td>2017-06-01</td>\n",
       "      <td>0.37</td>\n",
       "      <td>14200605875248379450</td>\n",
       "      <td>2017-06-01</td>\n",
       "    </tr>\n",
       "    <tr>\n",
       "      <td>...</td>\n",
       "      <td>...</td>\n",
       "      <td>...</td>\n",
       "      <td>...</td>\n",
       "      <td>...</td>\n",
       "    </tr>\n",
       "    <tr>\n",
       "      <td>50410</td>\n",
       "      <td>2018-05-01</td>\n",
       "      <td>4.64</td>\n",
       "      <td>12296626599487328624</td>\n",
       "      <td>2018-05-01</td>\n",
       "    </tr>\n",
       "    <tr>\n",
       "      <td>50411</td>\n",
       "      <td>2018-05-01</td>\n",
       "      <td>5.80</td>\n",
       "      <td>11369640365507475976</td>\n",
       "      <td>2018-05-01</td>\n",
       "    </tr>\n",
       "    <tr>\n",
       "      <td>50412</td>\n",
       "      <td>2018-05-01</td>\n",
       "      <td>0.30</td>\n",
       "      <td>1786462140797698849</td>\n",
       "      <td>2018-05-01</td>\n",
       "    </tr>\n",
       "    <tr>\n",
       "      <td>50413</td>\n",
       "      <td>2018-05-01</td>\n",
       "      <td>3.67</td>\n",
       "      <td>3993697860786194247</td>\n",
       "      <td>2018-05-01</td>\n",
       "    </tr>\n",
       "    <tr>\n",
       "      <td>50414</td>\n",
       "      <td>2018-06-01</td>\n",
       "      <td>3.42</td>\n",
       "      <td>83872787173869366</td>\n",
       "      <td>2018-06-01</td>\n",
       "    </tr>\n",
       "  </tbody>\n",
       "</table>\n",
       "<p>50415 rows × 4 columns</p>\n",
       "</div>"
      ],
      "text/plain": [
       "          Buy_Ts  Revenue                   Uid order_month\n",
       "0     2017-06-01    17.00  10329302124590727494  2017-06-01\n",
       "1     2017-06-01     0.55  11627257723692907447  2017-06-01\n",
       "2     2017-06-01     0.37  17903680561304213844  2017-06-01\n",
       "3     2017-06-01     0.55  16109239769442553005  2017-06-01\n",
       "4     2017-06-01     0.37  14200605875248379450  2017-06-01\n",
       "...          ...      ...                   ...         ...\n",
       "50410 2018-05-01     4.64  12296626599487328624  2018-05-01\n",
       "50411 2018-05-01     5.80  11369640365507475976  2018-05-01\n",
       "50412 2018-05-01     0.30   1786462140797698849  2018-05-01\n",
       "50413 2018-05-01     3.67   3993697860786194247  2018-05-01\n",
       "50414 2018-06-01     3.42     83872787173869366  2018-06-01\n",
       "\n",
       "[50415 rows x 4 columns]"
      ]
     },
     "execution_count": 81,
     "metadata": {},
     "output_type": "execute_result"
    }
   ],
   "source": [
    "orders['order_month'] = orders['Buy_Ts'].astype('datetime64[M]')\n",
    "orders"
   ]
  },
  {
   "cell_type": "code",
   "execution_count": 82,
   "metadata": {},
   "outputs": [],
   "source": [
    "orders_new = pd.merge(orders,first_orders, on='Uid', how='inner').groupby(['first_order_month', 'order_month']).agg({'Revenue': 'sum'}).reset_index()"
   ]
  },
  {
   "cell_type": "code",
   "execution_count": 83,
   "metadata": {},
   "outputs": [
    {
     "data": {
      "text/html": [
       "<div>\n",
       "<style scoped>\n",
       "    .dataframe tbody tr th:only-of-type {\n",
       "        vertical-align: middle;\n",
       "    }\n",
       "\n",
       "    .dataframe tbody tr th {\n",
       "        vertical-align: top;\n",
       "    }\n",
       "\n",
       "    .dataframe thead th {\n",
       "        text-align: right;\n",
       "    }\n",
       "</style>\n",
       "<table border=\"1\" class=\"dataframe\">\n",
       "  <thead>\n",
       "    <tr style=\"text-align: right;\">\n",
       "      <th></th>\n",
       "      <th>first_order_month</th>\n",
       "      <th>order_month</th>\n",
       "      <th>Revenue</th>\n",
       "    </tr>\n",
       "  </thead>\n",
       "  <tbody>\n",
       "    <tr>\n",
       "      <td>0</td>\n",
       "      <td>2017-06-01</td>\n",
       "      <td>2017-06-01</td>\n",
       "      <td>9557.49</td>\n",
       "    </tr>\n",
       "    <tr>\n",
       "      <td>1</td>\n",
       "      <td>2017-06-01</td>\n",
       "      <td>2017-07-01</td>\n",
       "      <td>981.82</td>\n",
       "    </tr>\n",
       "    <tr>\n",
       "      <td>2</td>\n",
       "      <td>2017-06-01</td>\n",
       "      <td>2017-08-01</td>\n",
       "      <td>885.34</td>\n",
       "    </tr>\n",
       "    <tr>\n",
       "      <td>3</td>\n",
       "      <td>2017-06-01</td>\n",
       "      <td>2017-09-01</td>\n",
       "      <td>1931.30</td>\n",
       "    </tr>\n",
       "    <tr>\n",
       "      <td>4</td>\n",
       "      <td>2017-06-01</td>\n",
       "      <td>2017-10-01</td>\n",
       "      <td>2068.58</td>\n",
       "    </tr>\n",
       "    <tr>\n",
       "      <td>...</td>\n",
       "      <td>...</td>\n",
       "      <td>...</td>\n",
       "      <td>...</td>\n",
       "    </tr>\n",
       "    <tr>\n",
       "      <td>74</td>\n",
       "      <td>2018-03-01</td>\n",
       "      <td>2018-05-01</td>\n",
       "      <td>1114.87</td>\n",
       "    </tr>\n",
       "    <tr>\n",
       "      <td>75</td>\n",
       "      <td>2018-04-01</td>\n",
       "      <td>2018-04-01</td>\n",
       "      <td>10600.69</td>\n",
       "    </tr>\n",
       "    <tr>\n",
       "      <td>76</td>\n",
       "      <td>2018-04-01</td>\n",
       "      <td>2018-05-01</td>\n",
       "      <td>1209.92</td>\n",
       "    </tr>\n",
       "    <tr>\n",
       "      <td>77</td>\n",
       "      <td>2018-05-01</td>\n",
       "      <td>2018-05-01</td>\n",
       "      <td>13925.76</td>\n",
       "    </tr>\n",
       "    <tr>\n",
       "      <td>78</td>\n",
       "      <td>2018-06-01</td>\n",
       "      <td>2018-06-01</td>\n",
       "      <td>3.42</td>\n",
       "    </tr>\n",
       "  </tbody>\n",
       "</table>\n",
       "<p>79 rows × 3 columns</p>\n",
       "</div>"
      ],
      "text/plain": [
       "   first_order_month order_month   Revenue\n",
       "0         2017-06-01  2017-06-01   9557.49\n",
       "1         2017-06-01  2017-07-01    981.82\n",
       "2         2017-06-01  2017-08-01    885.34\n",
       "3         2017-06-01  2017-09-01   1931.30\n",
       "4         2017-06-01  2017-10-01   2068.58\n",
       "..               ...         ...       ...\n",
       "74        2018-03-01  2018-05-01   1114.87\n",
       "75        2018-04-01  2018-04-01  10600.69\n",
       "76        2018-04-01  2018-05-01   1209.92\n",
       "77        2018-05-01  2018-05-01  13925.76\n",
       "78        2018-06-01  2018-06-01      3.42\n",
       "\n",
       "[79 rows x 3 columns]"
      ]
     },
     "execution_count": 83,
     "metadata": {},
     "output_type": "execute_result"
    }
   ],
   "source": [
    "orders_new"
   ]
  },
  {
   "cell_type": "code",
   "execution_count": 84,
   "metadata": {},
   "outputs": [],
   "source": [
    "orders_new['first_order_month'] = orders_new['first_order_month'].astype('datetime64[M]')"
   ]
  },
  {
   "cell_type": "code",
   "execution_count": 85,
   "metadata": {},
   "outputs": [
    {
     "data": {
      "text/html": [
       "<div>\n",
       "<style scoped>\n",
       "    .dataframe tbody tr th:only-of-type {\n",
       "        vertical-align: middle;\n",
       "    }\n",
       "\n",
       "    .dataframe tbody tr th {\n",
       "        vertical-align: top;\n",
       "    }\n",
       "\n",
       "    .dataframe thead th {\n",
       "        text-align: right;\n",
       "    }\n",
       "</style>\n",
       "<table border=\"1\" class=\"dataframe\">\n",
       "  <thead>\n",
       "    <tr style=\"text-align: right;\">\n",
       "      <th></th>\n",
       "      <th>first_order_month</th>\n",
       "      <th>order_month</th>\n",
       "      <th>revenue</th>\n",
       "      <th>age_month</th>\n",
       "    </tr>\n",
       "  </thead>\n",
       "  <tbody>\n",
       "    <tr>\n",
       "      <td>0</td>\n",
       "      <td>2017-06-01</td>\n",
       "      <td>2017-06-01</td>\n",
       "      <td>9557.49</td>\n",
       "      <td>0.0</td>\n",
       "    </tr>\n",
       "    <tr>\n",
       "      <td>1</td>\n",
       "      <td>2017-06-01</td>\n",
       "      <td>2017-07-01</td>\n",
       "      <td>981.82</td>\n",
       "      <td>1.0</td>\n",
       "    </tr>\n",
       "    <tr>\n",
       "      <td>2</td>\n",
       "      <td>2017-06-01</td>\n",
       "      <td>2017-08-01</td>\n",
       "      <td>885.34</td>\n",
       "      <td>2.0</td>\n",
       "    </tr>\n",
       "    <tr>\n",
       "      <td>3</td>\n",
       "      <td>2017-06-01</td>\n",
       "      <td>2017-09-01</td>\n",
       "      <td>1931.30</td>\n",
       "      <td>3.0</td>\n",
       "    </tr>\n",
       "    <tr>\n",
       "      <td>4</td>\n",
       "      <td>2017-06-01</td>\n",
       "      <td>2017-10-01</td>\n",
       "      <td>2068.58</td>\n",
       "      <td>4.0</td>\n",
       "    </tr>\n",
       "    <tr>\n",
       "      <td>...</td>\n",
       "      <td>...</td>\n",
       "      <td>...</td>\n",
       "      <td>...</td>\n",
       "      <td>...</td>\n",
       "    </tr>\n",
       "    <tr>\n",
       "      <td>74</td>\n",
       "      <td>2018-03-01</td>\n",
       "      <td>2018-05-01</td>\n",
       "      <td>1114.87</td>\n",
       "      <td>2.0</td>\n",
       "    </tr>\n",
       "    <tr>\n",
       "      <td>75</td>\n",
       "      <td>2018-04-01</td>\n",
       "      <td>2018-04-01</td>\n",
       "      <td>10600.69</td>\n",
       "      <td>0.0</td>\n",
       "    </tr>\n",
       "    <tr>\n",
       "      <td>76</td>\n",
       "      <td>2018-04-01</td>\n",
       "      <td>2018-05-01</td>\n",
       "      <td>1209.92</td>\n",
       "      <td>1.0</td>\n",
       "    </tr>\n",
       "    <tr>\n",
       "      <td>77</td>\n",
       "      <td>2018-05-01</td>\n",
       "      <td>2018-05-01</td>\n",
       "      <td>13925.76</td>\n",
       "      <td>0.0</td>\n",
       "    </tr>\n",
       "    <tr>\n",
       "      <td>78</td>\n",
       "      <td>2018-06-01</td>\n",
       "      <td>2018-06-01</td>\n",
       "      <td>3.42</td>\n",
       "      <td>0.0</td>\n",
       "    </tr>\n",
       "  </tbody>\n",
       "</table>\n",
       "<p>79 rows × 4 columns</p>\n",
       "</div>"
      ],
      "text/plain": [
       "   first_order_month order_month   revenue  age_month\n",
       "0         2017-06-01  2017-06-01   9557.49        0.0\n",
       "1         2017-06-01  2017-07-01    981.82        1.0\n",
       "2         2017-06-01  2017-08-01    885.34        2.0\n",
       "3         2017-06-01  2017-09-01   1931.30        3.0\n",
       "4         2017-06-01  2017-10-01   2068.58        4.0\n",
       "..               ...         ...       ...        ...\n",
       "74        2018-03-01  2018-05-01   1114.87        2.0\n",
       "75        2018-04-01  2018-04-01  10600.69        0.0\n",
       "76        2018-04-01  2018-05-01   1209.92        1.0\n",
       "77        2018-05-01  2018-05-01  13925.76        0.0\n",
       "78        2018-06-01  2018-06-01      3.42        0.0\n",
       "\n",
       "[79 rows x 4 columns]"
      ]
     },
     "execution_count": 85,
     "metadata": {},
     "output_type": "execute_result"
    }
   ],
   "source": [
    "orders_new['age_month'] = ((orders_new['order_month'] - orders_new['first_order_month']) / np.timedelta64(1,'M')).round()\n",
    "orders_new.columns = ['first_order_month', 'order_month', 'revenue', 'age_month']\n",
    "orders_new"
   ]
  },
  {
   "cell_type": "code",
   "execution_count": 86,
   "metadata": {},
   "outputs": [],
   "source": [
    "cohorts = pd.merge(orders, first_orders, how='inner', on='Uid')\\\n",
    ".groupby(['first_order_month', 'Buy_Ts'])\\\n",
    ".agg({'Revenue': 'sum'}).reset_index()"
   ]
  },
  {
   "cell_type": "code",
   "execution_count": 87,
   "metadata": {},
   "outputs": [],
   "source": [
    "cohorts['age_month'] = ((cohorts['Buy_Ts'] - cohorts['first_order_month']) / np.timedelta64(1,'M')).round()"
   ]
  },
  {
   "cell_type": "code",
   "execution_count": 88,
   "metadata": {},
   "outputs": [],
   "source": [
    "cohorts.columns = ['first_order_month', 'order_month', 'revenue', 'age_month']"
   ]
  },
  {
   "cell_type": "code",
   "execution_count": 89,
   "metadata": {},
   "outputs": [
    {
     "data": {
      "text/html": [
       "<div>\n",
       "<style scoped>\n",
       "    .dataframe tbody tr th:only-of-type {\n",
       "        vertical-align: middle;\n",
       "    }\n",
       "\n",
       "    .dataframe tbody tr th {\n",
       "        vertical-align: top;\n",
       "    }\n",
       "\n",
       "    .dataframe thead th {\n",
       "        text-align: right;\n",
       "    }\n",
       "</style>\n",
       "<table border=\"1\" class=\"dataframe\">\n",
       "  <thead>\n",
       "    <tr style=\"text-align: right;\">\n",
       "      <th></th>\n",
       "      <th>first_order_month</th>\n",
       "      <th>n_buyers</th>\n",
       "      <th>order_month</th>\n",
       "      <th>revenue</th>\n",
       "      <th>age_month</th>\n",
       "    </tr>\n",
       "  </thead>\n",
       "  <tbody>\n",
       "    <tr>\n",
       "      <td>0</td>\n",
       "      <td>2017-06-01</td>\n",
       "      <td>2023</td>\n",
       "      <td>2017-06-01</td>\n",
       "      <td>9557.49</td>\n",
       "      <td>0.0</td>\n",
       "    </tr>\n",
       "    <tr>\n",
       "      <td>1</td>\n",
       "      <td>2017-06-01</td>\n",
       "      <td>2023</td>\n",
       "      <td>2017-07-01</td>\n",
       "      <td>981.82</td>\n",
       "      <td>1.0</td>\n",
       "    </tr>\n",
       "    <tr>\n",
       "      <td>2</td>\n",
       "      <td>2017-06-01</td>\n",
       "      <td>2023</td>\n",
       "      <td>2017-08-01</td>\n",
       "      <td>885.34</td>\n",
       "      <td>2.0</td>\n",
       "    </tr>\n",
       "    <tr>\n",
       "      <td>3</td>\n",
       "      <td>2017-06-01</td>\n",
       "      <td>2023</td>\n",
       "      <td>2017-09-01</td>\n",
       "      <td>1931.30</td>\n",
       "      <td>3.0</td>\n",
       "    </tr>\n",
       "    <tr>\n",
       "      <td>4</td>\n",
       "      <td>2017-06-01</td>\n",
       "      <td>2023</td>\n",
       "      <td>2017-10-01</td>\n",
       "      <td>2068.58</td>\n",
       "      <td>4.0</td>\n",
       "    </tr>\n",
       "    <tr>\n",
       "      <td>...</td>\n",
       "      <td>...</td>\n",
       "      <td>...</td>\n",
       "      <td>...</td>\n",
       "      <td>...</td>\n",
       "      <td>...</td>\n",
       "    </tr>\n",
       "    <tr>\n",
       "      <td>74</td>\n",
       "      <td>2018-03-01</td>\n",
       "      <td>3533</td>\n",
       "      <td>2018-05-01</td>\n",
       "      <td>1114.87</td>\n",
       "      <td>2.0</td>\n",
       "    </tr>\n",
       "    <tr>\n",
       "      <td>75</td>\n",
       "      <td>2018-04-01</td>\n",
       "      <td>2276</td>\n",
       "      <td>2018-04-01</td>\n",
       "      <td>10600.69</td>\n",
       "      <td>0.0</td>\n",
       "    </tr>\n",
       "    <tr>\n",
       "      <td>76</td>\n",
       "      <td>2018-04-01</td>\n",
       "      <td>2276</td>\n",
       "      <td>2018-05-01</td>\n",
       "      <td>1209.92</td>\n",
       "      <td>1.0</td>\n",
       "    </tr>\n",
       "    <tr>\n",
       "      <td>77</td>\n",
       "      <td>2018-05-01</td>\n",
       "      <td>2988</td>\n",
       "      <td>2018-05-01</td>\n",
       "      <td>13925.76</td>\n",
       "      <td>0.0</td>\n",
       "    </tr>\n",
       "    <tr>\n",
       "      <td>78</td>\n",
       "      <td>2018-06-01</td>\n",
       "      <td>1</td>\n",
       "      <td>2018-06-01</td>\n",
       "      <td>3.42</td>\n",
       "      <td>0.0</td>\n",
       "    </tr>\n",
       "  </tbody>\n",
       "</table>\n",
       "<p>79 rows × 5 columns</p>\n",
       "</div>"
      ],
      "text/plain": [
       "   first_order_month  n_buyers order_month   revenue  age_month\n",
       "0         2017-06-01      2023  2017-06-01   9557.49        0.0\n",
       "1         2017-06-01      2023  2017-07-01    981.82        1.0\n",
       "2         2017-06-01      2023  2017-08-01    885.34        2.0\n",
       "3         2017-06-01      2023  2017-09-01   1931.30        3.0\n",
       "4         2017-06-01      2023  2017-10-01   2068.58        4.0\n",
       "..               ...       ...         ...       ...        ...\n",
       "74        2018-03-01      3533  2018-05-01   1114.87        2.0\n",
       "75        2018-04-01      2276  2018-04-01  10600.69        0.0\n",
       "76        2018-04-01      2276  2018-05-01   1209.92        1.0\n",
       "77        2018-05-01      2988  2018-05-01  13925.76        0.0\n",
       "78        2018-06-01         1  2018-06-01      3.42        0.0\n",
       "\n",
       "[79 rows x 5 columns]"
      ]
     },
     "execution_count": 89,
     "metadata": {},
     "output_type": "execute_result"
    }
   ],
   "source": [
    "cohorts_report = pd.merge(cohort_sizes, cohorts, on = 'first_order_month')\n",
    "cohorts_report"
   ]
  },
  {
   "cell_type": "code",
   "execution_count": 90,
   "metadata": {},
   "outputs": [],
   "source": [
    "cohorts_report = pd.merge(cohort_sizes, cohorts, on = 'first_order_month')\n",
    "cohorts_report['rev_per_buyer'] = cohorts_report['revenue'] / cohorts_report['n_buyers']"
   ]
  },
  {
   "cell_type": "code",
   "execution_count": 91,
   "metadata": {},
   "outputs": [],
   "source": [
    "cohorts_age = cohorts_report.pivot_table(index='first_order_month', columns='age_month', values='rev_per_buyer', aggfunc='sum').cumsum(axis=1)"
   ]
  },
  {
   "cell_type": "code",
   "execution_count": 92,
   "metadata": {
    "scrolled": true
   },
   "outputs": [
    {
     "data": {
      "text/html": [
       "<div>\n",
       "<style scoped>\n",
       "    .dataframe tbody tr th:only-of-type {\n",
       "        vertical-align: middle;\n",
       "    }\n",
       "\n",
       "    .dataframe tbody tr th {\n",
       "        vertical-align: top;\n",
       "    }\n",
       "\n",
       "    .dataframe thead th {\n",
       "        text-align: right;\n",
       "    }\n",
       "</style>\n",
       "<table border=\"1\" class=\"dataframe\">\n",
       "  <thead>\n",
       "    <tr style=\"text-align: right;\">\n",
       "      <th>age_month</th>\n",
       "      <th>first_order_month</th>\n",
       "      <th>0.0</th>\n",
       "      <th>1.0</th>\n",
       "      <th>2.0</th>\n",
       "      <th>3.0</th>\n",
       "      <th>4.0</th>\n",
       "      <th>5.0</th>\n",
       "      <th>6.0</th>\n",
       "      <th>7.0</th>\n",
       "      <th>8.0</th>\n",
       "      <th>9.0</th>\n",
       "      <th>10.0</th>\n",
       "      <th>11.0</th>\n",
       "    </tr>\n",
       "  </thead>\n",
       "  <tbody>\n",
       "    <tr>\n",
       "      <td>0</td>\n",
       "      <td>2017-06-01</td>\n",
       "      <td>4.724414</td>\n",
       "      <td>5.209743</td>\n",
       "      <td>5.647380</td>\n",
       "      <td>6.602051</td>\n",
       "      <td>7.624582</td>\n",
       "      <td>8.360084</td>\n",
       "      <td>9.310524</td>\n",
       "      <td>9.892116</td>\n",
       "      <td>10.445329</td>\n",
       "      <td>11.051117</td>\n",
       "      <td>11.622378</td>\n",
       "      <td>11.879234</td>\n",
       "    </tr>\n",
       "    <tr>\n",
       "      <td>1</td>\n",
       "      <td>2017-07-01</td>\n",
       "      <td>6.010218</td>\n",
       "      <td>6.345429</td>\n",
       "      <td>6.968960</td>\n",
       "      <td>7.327936</td>\n",
       "      <td>7.504727</td>\n",
       "      <td>7.660775</td>\n",
       "      <td>7.780983</td>\n",
       "      <td>7.922803</td>\n",
       "      <td>8.084035</td>\n",
       "      <td>8.231180</td>\n",
       "      <td>8.386854</td>\n",
       "      <td>NaN</td>\n",
       "    </tr>\n",
       "    <tr>\n",
       "      <td>2</td>\n",
       "      <td>2017-08-01</td>\n",
       "      <td>5.276518</td>\n",
       "      <td>5.748511</td>\n",
       "      <td>6.206993</td>\n",
       "      <td>6.598270</td>\n",
       "      <td>7.092321</td>\n",
       "      <td>7.375861</td>\n",
       "      <td>7.586526</td>\n",
       "      <td>7.991533</td>\n",
       "      <td>8.283745</td>\n",
       "      <td>8.471723</td>\n",
       "      <td>NaN</td>\n",
       "      <td>NaN</td>\n",
       "    </tr>\n",
       "    <tr>\n",
       "      <td>3</td>\n",
       "      <td>2017-09-01</td>\n",
       "      <td>5.644529</td>\n",
       "      <td>6.762115</td>\n",
       "      <td>7.283045</td>\n",
       "      <td>11.258838</td>\n",
       "      <td>11.659396</td>\n",
       "      <td>12.306463</td>\n",
       "      <td>13.008071</td>\n",
       "      <td>13.251220</td>\n",
       "      <td>13.435227</td>\n",
       "      <td>NaN</td>\n",
       "      <td>NaN</td>\n",
       "      <td>NaN</td>\n",
       "    </tr>\n",
       "    <tr>\n",
       "      <td>4</td>\n",
       "      <td>2017-10-01</td>\n",
       "      <td>5.003733</td>\n",
       "      <td>5.539495</td>\n",
       "      <td>5.730889</td>\n",
       "      <td>5.888035</td>\n",
       "      <td>6.039594</td>\n",
       "      <td>6.159956</td>\n",
       "      <td>6.244772</td>\n",
       "      <td>6.360242</td>\n",
       "      <td>NaN</td>\n",
       "      <td>NaN</td>\n",
       "      <td>NaN</td>\n",
       "      <td>NaN</td>\n",
       "    </tr>\n",
       "    <tr>\n",
       "      <td>5</td>\n",
       "      <td>2017-11-01</td>\n",
       "      <td>5.154683</td>\n",
       "      <td>5.553916</td>\n",
       "      <td>5.753472</td>\n",
       "      <td>6.078424</td>\n",
       "      <td>6.226437</td>\n",
       "      <td>6.280316</td>\n",
       "      <td>6.395244</td>\n",
       "      <td>NaN</td>\n",
       "      <td>NaN</td>\n",
       "      <td>NaN</td>\n",
       "      <td>NaN</td>\n",
       "      <td>NaN</td>\n",
       "    </tr>\n",
       "    <tr>\n",
       "      <td>6</td>\n",
       "      <td>2017-12-01</td>\n",
       "      <td>4.738191</td>\n",
       "      <td>4.998565</td>\n",
       "      <td>5.923662</td>\n",
       "      <td>6.988937</td>\n",
       "      <td>7.301866</td>\n",
       "      <td>7.639913</td>\n",
       "      <td>NaN</td>\n",
       "      <td>NaN</td>\n",
       "      <td>NaN</td>\n",
       "      <td>NaN</td>\n",
       "      <td>NaN</td>\n",
       "      <td>NaN</td>\n",
       "    </tr>\n",
       "    <tr>\n",
       "      <td>7</td>\n",
       "      <td>2018-01-01</td>\n",
       "      <td>4.135636</td>\n",
       "      <td>4.430394</td>\n",
       "      <td>4.734675</td>\n",
       "      <td>4.877453</td>\n",
       "      <td>4.940151</td>\n",
       "      <td>NaN</td>\n",
       "      <td>NaN</td>\n",
       "      <td>NaN</td>\n",
       "      <td>NaN</td>\n",
       "      <td>NaN</td>\n",
       "      <td>NaN</td>\n",
       "      <td>NaN</td>\n",
       "    </tr>\n",
       "    <tr>\n",
       "      <td>8</td>\n",
       "      <td>2018-02-01</td>\n",
       "      <td>4.156987</td>\n",
       "      <td>4.435262</td>\n",
       "      <td>4.513777</td>\n",
       "      <td>4.587921</td>\n",
       "      <td>NaN</td>\n",
       "      <td>NaN</td>\n",
       "      <td>NaN</td>\n",
       "      <td>NaN</td>\n",
       "      <td>NaN</td>\n",
       "      <td>NaN</td>\n",
       "      <td>NaN</td>\n",
       "      <td>NaN</td>\n",
       "    </tr>\n",
       "    <tr>\n",
       "      <td>9</td>\n",
       "      <td>2018-03-01</td>\n",
       "      <td>4.838803</td>\n",
       "      <td>5.139694</td>\n",
       "      <td>5.455253</td>\n",
       "      <td>NaN</td>\n",
       "      <td>NaN</td>\n",
       "      <td>NaN</td>\n",
       "      <td>NaN</td>\n",
       "      <td>NaN</td>\n",
       "      <td>NaN</td>\n",
       "      <td>NaN</td>\n",
       "      <td>NaN</td>\n",
       "      <td>NaN</td>\n",
       "    </tr>\n",
       "    <tr>\n",
       "      <td>10</td>\n",
       "      <td>2018-04-01</td>\n",
       "      <td>4.657597</td>\n",
       "      <td>5.189196</td>\n",
       "      <td>NaN</td>\n",
       "      <td>NaN</td>\n",
       "      <td>NaN</td>\n",
       "      <td>NaN</td>\n",
       "      <td>NaN</td>\n",
       "      <td>NaN</td>\n",
       "      <td>NaN</td>\n",
       "      <td>NaN</td>\n",
       "      <td>NaN</td>\n",
       "      <td>NaN</td>\n",
       "    </tr>\n",
       "    <tr>\n",
       "      <td>11</td>\n",
       "      <td>2018-05-01</td>\n",
       "      <td>4.660562</td>\n",
       "      <td>NaN</td>\n",
       "      <td>NaN</td>\n",
       "      <td>NaN</td>\n",
       "      <td>NaN</td>\n",
       "      <td>NaN</td>\n",
       "      <td>NaN</td>\n",
       "      <td>NaN</td>\n",
       "      <td>NaN</td>\n",
       "      <td>NaN</td>\n",
       "      <td>NaN</td>\n",
       "      <td>NaN</td>\n",
       "    </tr>\n",
       "    <tr>\n",
       "      <td>12</td>\n",
       "      <td>2018-06-01</td>\n",
       "      <td>3.420000</td>\n",
       "      <td>NaN</td>\n",
       "      <td>NaN</td>\n",
       "      <td>NaN</td>\n",
       "      <td>NaN</td>\n",
       "      <td>NaN</td>\n",
       "      <td>NaN</td>\n",
       "      <td>NaN</td>\n",
       "      <td>NaN</td>\n",
       "      <td>NaN</td>\n",
       "      <td>NaN</td>\n",
       "      <td>NaN</td>\n",
       "    </tr>\n",
       "  </tbody>\n",
       "</table>\n",
       "</div>"
      ],
      "text/plain": [
       "age_month first_order_month       0.0       1.0       2.0        3.0  \\\n",
       "0                2017-06-01  4.724414  5.209743  5.647380   6.602051   \n",
       "1                2017-07-01  6.010218  6.345429  6.968960   7.327936   \n",
       "2                2017-08-01  5.276518  5.748511  6.206993   6.598270   \n",
       "3                2017-09-01  5.644529  6.762115  7.283045  11.258838   \n",
       "4                2017-10-01  5.003733  5.539495  5.730889   5.888035   \n",
       "5                2017-11-01  5.154683  5.553916  5.753472   6.078424   \n",
       "6                2017-12-01  4.738191  4.998565  5.923662   6.988937   \n",
       "7                2018-01-01  4.135636  4.430394  4.734675   4.877453   \n",
       "8                2018-02-01  4.156987  4.435262  4.513777   4.587921   \n",
       "9                2018-03-01  4.838803  5.139694  5.455253        NaN   \n",
       "10               2018-04-01  4.657597  5.189196       NaN        NaN   \n",
       "11               2018-05-01  4.660562       NaN       NaN        NaN   \n",
       "12               2018-06-01  3.420000       NaN       NaN        NaN   \n",
       "\n",
       "age_month        4.0        5.0        6.0        7.0        8.0        9.0  \\\n",
       "0           7.624582   8.360084   9.310524   9.892116  10.445329  11.051117   \n",
       "1           7.504727   7.660775   7.780983   7.922803   8.084035   8.231180   \n",
       "2           7.092321   7.375861   7.586526   7.991533   8.283745   8.471723   \n",
       "3          11.659396  12.306463  13.008071  13.251220  13.435227        NaN   \n",
       "4           6.039594   6.159956   6.244772   6.360242        NaN        NaN   \n",
       "5           6.226437   6.280316   6.395244        NaN        NaN        NaN   \n",
       "6           7.301866   7.639913        NaN        NaN        NaN        NaN   \n",
       "7           4.940151        NaN        NaN        NaN        NaN        NaN   \n",
       "8                NaN        NaN        NaN        NaN        NaN        NaN   \n",
       "9                NaN        NaN        NaN        NaN        NaN        NaN   \n",
       "10               NaN        NaN        NaN        NaN        NaN        NaN   \n",
       "11               NaN        NaN        NaN        NaN        NaN        NaN   \n",
       "12               NaN        NaN        NaN        NaN        NaN        NaN   \n",
       "\n",
       "age_month       10.0       11.0  \n",
       "0          11.622378  11.879234  \n",
       "1           8.386854        NaN  \n",
       "2                NaN        NaN  \n",
       "3                NaN        NaN  \n",
       "4                NaN        NaN  \n",
       "5                NaN        NaN  \n",
       "6                NaN        NaN  \n",
       "7                NaN        NaN  \n",
       "8                NaN        NaN  \n",
       "9                NaN        NaN  \n",
       "10               NaN        NaN  \n",
       "11               NaN        NaN  \n",
       "12               NaN        NaN  "
      ]
     },
     "execution_count": 92,
     "metadata": {},
     "output_type": "execute_result"
    }
   ],
   "source": [
    "cohorts_age.reset_index()"
   ]
  },
  {
   "cell_type": "code",
   "execution_count": 93,
   "metadata": {},
   "outputs": [
    {
     "data": {
      "text/html": [
       "<div>\n",
       "<style scoped>\n",
       "    .dataframe tbody tr th:only-of-type {\n",
       "        vertical-align: middle;\n",
       "    }\n",
       "\n",
       "    .dataframe tbody tr th {\n",
       "        vertical-align: top;\n",
       "    }\n",
       "\n",
       "    .dataframe thead th {\n",
       "        text-align: right;\n",
       "    }\n",
       "</style>\n",
       "<table border=\"1\" class=\"dataframe\">\n",
       "  <thead>\n",
       "    <tr style=\"text-align: right;\">\n",
       "      <th></th>\n",
       "      <th>first_order_month</th>\n",
       "      <th>n_buyers</th>\n",
       "      <th>order_month</th>\n",
       "      <th>revenue</th>\n",
       "      <th>age_month</th>\n",
       "    </tr>\n",
       "  </thead>\n",
       "  <tbody>\n",
       "    <tr>\n",
       "      <td>0</td>\n",
       "      <td>2017-06-01</td>\n",
       "      <td>2023</td>\n",
       "      <td>2017-06-01</td>\n",
       "      <td>9557.49</td>\n",
       "      <td>0.0</td>\n",
       "    </tr>\n",
       "    <tr>\n",
       "      <td>1</td>\n",
       "      <td>2017-06-01</td>\n",
       "      <td>2023</td>\n",
       "      <td>2017-07-01</td>\n",
       "      <td>981.82</td>\n",
       "      <td>1.0</td>\n",
       "    </tr>\n",
       "    <tr>\n",
       "      <td>2</td>\n",
       "      <td>2017-06-01</td>\n",
       "      <td>2023</td>\n",
       "      <td>2017-08-01</td>\n",
       "      <td>885.34</td>\n",
       "      <td>2.0</td>\n",
       "    </tr>\n",
       "    <tr>\n",
       "      <td>3</td>\n",
       "      <td>2017-06-01</td>\n",
       "      <td>2023</td>\n",
       "      <td>2017-09-01</td>\n",
       "      <td>1931.30</td>\n",
       "      <td>3.0</td>\n",
       "    </tr>\n",
       "    <tr>\n",
       "      <td>4</td>\n",
       "      <td>2017-06-01</td>\n",
       "      <td>2023</td>\n",
       "      <td>2017-10-01</td>\n",
       "      <td>2068.58</td>\n",
       "      <td>4.0</td>\n",
       "    </tr>\n",
       "    <tr>\n",
       "      <td>...</td>\n",
       "      <td>...</td>\n",
       "      <td>...</td>\n",
       "      <td>...</td>\n",
       "      <td>...</td>\n",
       "      <td>...</td>\n",
       "    </tr>\n",
       "    <tr>\n",
       "      <td>74</td>\n",
       "      <td>2018-03-01</td>\n",
       "      <td>3533</td>\n",
       "      <td>2018-05-01</td>\n",
       "      <td>1114.87</td>\n",
       "      <td>2.0</td>\n",
       "    </tr>\n",
       "    <tr>\n",
       "      <td>75</td>\n",
       "      <td>2018-04-01</td>\n",
       "      <td>2276</td>\n",
       "      <td>2018-04-01</td>\n",
       "      <td>10600.69</td>\n",
       "      <td>0.0</td>\n",
       "    </tr>\n",
       "    <tr>\n",
       "      <td>76</td>\n",
       "      <td>2018-04-01</td>\n",
       "      <td>2276</td>\n",
       "      <td>2018-05-01</td>\n",
       "      <td>1209.92</td>\n",
       "      <td>1.0</td>\n",
       "    </tr>\n",
       "    <tr>\n",
       "      <td>77</td>\n",
       "      <td>2018-05-01</td>\n",
       "      <td>2988</td>\n",
       "      <td>2018-05-01</td>\n",
       "      <td>13925.76</td>\n",
       "      <td>0.0</td>\n",
       "    </tr>\n",
       "    <tr>\n",
       "      <td>78</td>\n",
       "      <td>2018-06-01</td>\n",
       "      <td>1</td>\n",
       "      <td>2018-06-01</td>\n",
       "      <td>3.42</td>\n",
       "      <td>0.0</td>\n",
       "    </tr>\n",
       "  </tbody>\n",
       "</table>\n",
       "<p>79 rows × 5 columns</p>\n",
       "</div>"
      ],
      "text/plain": [
       "   first_order_month  n_buyers order_month   revenue  age_month\n",
       "0         2017-06-01      2023  2017-06-01   9557.49        0.0\n",
       "1         2017-06-01      2023  2017-07-01    981.82        1.0\n",
       "2         2017-06-01      2023  2017-08-01    885.34        2.0\n",
       "3         2017-06-01      2023  2017-09-01   1931.30        3.0\n",
       "4         2017-06-01      2023  2017-10-01   2068.58        4.0\n",
       "..               ...       ...         ...       ...        ...\n",
       "74        2018-03-01      3533  2018-05-01   1114.87        2.0\n",
       "75        2018-04-01      2276  2018-04-01  10600.69        0.0\n",
       "76        2018-04-01      2276  2018-05-01   1209.92        1.0\n",
       "77        2018-05-01      2988  2018-05-01  13925.76        0.0\n",
       "78        2018-06-01         1  2018-06-01      3.42        0.0\n",
       "\n",
       "[79 rows x 5 columns]"
      ]
     },
     "execution_count": 93,
     "metadata": {},
     "output_type": "execute_result"
    }
   ],
   "source": [
    "report = pd.merge(cohort_sizes, cohorts, on='first_order_month')\n",
    "report"
   ]
  },
  {
   "cell_type": "code",
   "execution_count": 94,
   "metadata": {},
   "outputs": [
    {
     "data": {
      "text/html": [
       "<div>\n",
       "<style scoped>\n",
       "    .dataframe tbody tr th:only-of-type {\n",
       "        vertical-align: middle;\n",
       "    }\n",
       "\n",
       "    .dataframe tbody tr th {\n",
       "        vertical-align: top;\n",
       "    }\n",
       "\n",
       "    .dataframe thead th {\n",
       "        text-align: right;\n",
       "    }\n",
       "</style>\n",
       "<table border=\"1\" class=\"dataframe\">\n",
       "  <thead>\n",
       "    <tr style=\"text-align: right;\">\n",
       "      <th></th>\n",
       "      <th>first_order_month</th>\n",
       "      <th>n_buyers</th>\n",
       "      <th>order_month</th>\n",
       "      <th>revenue</th>\n",
       "      <th>age_month</th>\n",
       "      <th>ltv</th>\n",
       "    </tr>\n",
       "  </thead>\n",
       "  <tbody>\n",
       "    <tr>\n",
       "      <td>0</td>\n",
       "      <td>2017-06-01</td>\n",
       "      <td>2023</td>\n",
       "      <td>2017-06-01</td>\n",
       "      <td>9557.49</td>\n",
       "      <td>0.0</td>\n",
       "      <td>4.724414</td>\n",
       "    </tr>\n",
       "    <tr>\n",
       "      <td>1</td>\n",
       "      <td>2017-06-01</td>\n",
       "      <td>2023</td>\n",
       "      <td>2017-07-01</td>\n",
       "      <td>981.82</td>\n",
       "      <td>1.0</td>\n",
       "      <td>0.485329</td>\n",
       "    </tr>\n",
       "    <tr>\n",
       "      <td>2</td>\n",
       "      <td>2017-06-01</td>\n",
       "      <td>2023</td>\n",
       "      <td>2017-08-01</td>\n",
       "      <td>885.34</td>\n",
       "      <td>2.0</td>\n",
       "      <td>0.437637</td>\n",
       "    </tr>\n",
       "    <tr>\n",
       "      <td>3</td>\n",
       "      <td>2017-06-01</td>\n",
       "      <td>2023</td>\n",
       "      <td>2017-09-01</td>\n",
       "      <td>1931.30</td>\n",
       "      <td>3.0</td>\n",
       "      <td>0.954671</td>\n",
       "    </tr>\n",
       "    <tr>\n",
       "      <td>4</td>\n",
       "      <td>2017-06-01</td>\n",
       "      <td>2023</td>\n",
       "      <td>2017-10-01</td>\n",
       "      <td>2068.58</td>\n",
       "      <td>4.0</td>\n",
       "      <td>1.022531</td>\n",
       "    </tr>\n",
       "    <tr>\n",
       "      <td>...</td>\n",
       "      <td>...</td>\n",
       "      <td>...</td>\n",
       "      <td>...</td>\n",
       "      <td>...</td>\n",
       "      <td>...</td>\n",
       "      <td>...</td>\n",
       "    </tr>\n",
       "    <tr>\n",
       "      <td>74</td>\n",
       "      <td>2018-03-01</td>\n",
       "      <td>3533</td>\n",
       "      <td>2018-05-01</td>\n",
       "      <td>1114.87</td>\n",
       "      <td>2.0</td>\n",
       "      <td>0.315559</td>\n",
       "    </tr>\n",
       "    <tr>\n",
       "      <td>75</td>\n",
       "      <td>2018-04-01</td>\n",
       "      <td>2276</td>\n",
       "      <td>2018-04-01</td>\n",
       "      <td>10600.69</td>\n",
       "      <td>0.0</td>\n",
       "      <td>4.657597</td>\n",
       "    </tr>\n",
       "    <tr>\n",
       "      <td>76</td>\n",
       "      <td>2018-04-01</td>\n",
       "      <td>2276</td>\n",
       "      <td>2018-05-01</td>\n",
       "      <td>1209.92</td>\n",
       "      <td>1.0</td>\n",
       "      <td>0.531599</td>\n",
       "    </tr>\n",
       "    <tr>\n",
       "      <td>77</td>\n",
       "      <td>2018-05-01</td>\n",
       "      <td>2988</td>\n",
       "      <td>2018-05-01</td>\n",
       "      <td>13925.76</td>\n",
       "      <td>0.0</td>\n",
       "      <td>4.660562</td>\n",
       "    </tr>\n",
       "    <tr>\n",
       "      <td>78</td>\n",
       "      <td>2018-06-01</td>\n",
       "      <td>1</td>\n",
       "      <td>2018-06-01</td>\n",
       "      <td>3.42</td>\n",
       "      <td>0.0</td>\n",
       "      <td>3.420000</td>\n",
       "    </tr>\n",
       "  </tbody>\n",
       "</table>\n",
       "<p>79 rows × 6 columns</p>\n",
       "</div>"
      ],
      "text/plain": [
       "   first_order_month  n_buyers order_month   revenue  age_month       ltv\n",
       "0         2017-06-01      2023  2017-06-01   9557.49        0.0  4.724414\n",
       "1         2017-06-01      2023  2017-07-01    981.82        1.0  0.485329\n",
       "2         2017-06-01      2023  2017-08-01    885.34        2.0  0.437637\n",
       "3         2017-06-01      2023  2017-09-01   1931.30        3.0  0.954671\n",
       "4         2017-06-01      2023  2017-10-01   2068.58        4.0  1.022531\n",
       "..               ...       ...         ...       ...        ...       ...\n",
       "74        2018-03-01      3533  2018-05-01   1114.87        2.0  0.315559\n",
       "75        2018-04-01      2276  2018-04-01  10600.69        0.0  4.657597\n",
       "76        2018-04-01      2276  2018-05-01   1209.92        1.0  0.531599\n",
       "77        2018-05-01      2988  2018-05-01  13925.76        0.0  4.660562\n",
       "78        2018-06-01         1  2018-06-01      3.42        0.0  3.420000\n",
       "\n",
       "[79 rows x 6 columns]"
      ]
     },
     "execution_count": 94,
     "metadata": {},
     "output_type": "execute_result"
    }
   ],
   "source": [
    "report['ltv'] = report['revenue'] / report['n_buyers']\n",
    "report"
   ]
  },
  {
   "cell_type": "code",
   "execution_count": 95,
   "metadata": {
    "scrolled": true
   },
   "outputs": [
    {
     "data": {
      "text/html": [
       "<div>\n",
       "<style scoped>\n",
       "    .dataframe tbody tr th:only-of-type {\n",
       "        vertical-align: middle;\n",
       "    }\n",
       "\n",
       "    .dataframe tbody tr th {\n",
       "        vertical-align: top;\n",
       "    }\n",
       "\n",
       "    .dataframe thead th {\n",
       "        text-align: right;\n",
       "    }\n",
       "</style>\n",
       "<table border=\"1\" class=\"dataframe\">\n",
       "  <thead>\n",
       "    <tr style=\"text-align: right;\">\n",
       "      <th>age_month</th>\n",
       "      <th>0.0</th>\n",
       "      <th>1.0</th>\n",
       "      <th>2.0</th>\n",
       "      <th>3.0</th>\n",
       "      <th>4.0</th>\n",
       "      <th>5.0</th>\n",
       "      <th>6.0</th>\n",
       "      <th>7.0</th>\n",
       "      <th>8.0</th>\n",
       "      <th>9.0</th>\n",
       "      <th>10.0</th>\n",
       "      <th>11.0</th>\n",
       "    </tr>\n",
       "    <tr>\n",
       "      <th>first_order_month</th>\n",
       "      <th></th>\n",
       "      <th></th>\n",
       "      <th></th>\n",
       "      <th></th>\n",
       "      <th></th>\n",
       "      <th></th>\n",
       "      <th></th>\n",
       "      <th></th>\n",
       "      <th></th>\n",
       "      <th></th>\n",
       "      <th></th>\n",
       "      <th></th>\n",
       "    </tr>\n",
       "  </thead>\n",
       "  <tbody>\n",
       "    <tr>\n",
       "      <td>2017-06-01</td>\n",
       "      <td>5.0</td>\n",
       "      <td>0</td>\n",
       "      <td>0</td>\n",
       "      <td>1</td>\n",
       "      <td>1</td>\n",
       "      <td>1</td>\n",
       "      <td>1</td>\n",
       "      <td>1</td>\n",
       "      <td>1</td>\n",
       "      <td>1</td>\n",
       "      <td>1</td>\n",
       "      <td>0</td>\n",
       "    </tr>\n",
       "    <tr>\n",
       "      <td>2017-07-01</td>\n",
       "      <td>6.0</td>\n",
       "      <td>0</td>\n",
       "      <td>1</td>\n",
       "      <td>0</td>\n",
       "      <td>0</td>\n",
       "      <td>0</td>\n",
       "      <td>0</td>\n",
       "      <td>0</td>\n",
       "      <td>0</td>\n",
       "      <td>0</td>\n",
       "      <td>0</td>\n",
       "      <td></td>\n",
       "    </tr>\n",
       "    <tr>\n",
       "      <td>2017-08-01</td>\n",
       "      <td>5.0</td>\n",
       "      <td>0</td>\n",
       "      <td>0</td>\n",
       "      <td>0</td>\n",
       "      <td>0</td>\n",
       "      <td>0</td>\n",
       "      <td>0</td>\n",
       "      <td>0</td>\n",
       "      <td>0</td>\n",
       "      <td>0</td>\n",
       "      <td></td>\n",
       "      <td></td>\n",
       "    </tr>\n",
       "    <tr>\n",
       "      <td>2017-09-01</td>\n",
       "      <td>6.0</td>\n",
       "      <td>1</td>\n",
       "      <td>1</td>\n",
       "      <td>4</td>\n",
       "      <td>0</td>\n",
       "      <td>1</td>\n",
       "      <td>1</td>\n",
       "      <td>0</td>\n",
       "      <td>0</td>\n",
       "      <td></td>\n",
       "      <td></td>\n",
       "      <td></td>\n",
       "    </tr>\n",
       "    <tr>\n",
       "      <td>2017-10-01</td>\n",
       "      <td>5.0</td>\n",
       "      <td>1</td>\n",
       "      <td>0</td>\n",
       "      <td>0</td>\n",
       "      <td>0</td>\n",
       "      <td>0</td>\n",
       "      <td>0</td>\n",
       "      <td>0</td>\n",
       "      <td></td>\n",
       "      <td></td>\n",
       "      <td></td>\n",
       "      <td></td>\n",
       "    </tr>\n",
       "    <tr>\n",
       "      <td>2017-11-01</td>\n",
       "      <td>5.0</td>\n",
       "      <td>0</td>\n",
       "      <td>0</td>\n",
       "      <td>0</td>\n",
       "      <td>0</td>\n",
       "      <td>0</td>\n",
       "      <td>0</td>\n",
       "      <td></td>\n",
       "      <td></td>\n",
       "      <td></td>\n",
       "      <td></td>\n",
       "      <td></td>\n",
       "    </tr>\n",
       "    <tr>\n",
       "      <td>2017-12-01</td>\n",
       "      <td>5.0</td>\n",
       "      <td>0</td>\n",
       "      <td>1</td>\n",
       "      <td>1</td>\n",
       "      <td>0</td>\n",
       "      <td>0</td>\n",
       "      <td></td>\n",
       "      <td></td>\n",
       "      <td></td>\n",
       "      <td></td>\n",
       "      <td></td>\n",
       "      <td></td>\n",
       "    </tr>\n",
       "    <tr>\n",
       "      <td>2018-01-01</td>\n",
       "      <td>4.0</td>\n",
       "      <td>0</td>\n",
       "      <td>0</td>\n",
       "      <td>0</td>\n",
       "      <td>0</td>\n",
       "      <td></td>\n",
       "      <td></td>\n",
       "      <td></td>\n",
       "      <td></td>\n",
       "      <td></td>\n",
       "      <td></td>\n",
       "      <td></td>\n",
       "    </tr>\n",
       "    <tr>\n",
       "      <td>2018-02-01</td>\n",
       "      <td>4.0</td>\n",
       "      <td>0</td>\n",
       "      <td>0</td>\n",
       "      <td>0</td>\n",
       "      <td></td>\n",
       "      <td></td>\n",
       "      <td></td>\n",
       "      <td></td>\n",
       "      <td></td>\n",
       "      <td></td>\n",
       "      <td></td>\n",
       "      <td></td>\n",
       "    </tr>\n",
       "    <tr>\n",
       "      <td>2018-03-01</td>\n",
       "      <td>5.0</td>\n",
       "      <td>0</td>\n",
       "      <td>0</td>\n",
       "      <td></td>\n",
       "      <td></td>\n",
       "      <td></td>\n",
       "      <td></td>\n",
       "      <td></td>\n",
       "      <td></td>\n",
       "      <td></td>\n",
       "      <td></td>\n",
       "      <td></td>\n",
       "    </tr>\n",
       "    <tr>\n",
       "      <td>2018-04-01</td>\n",
       "      <td>5.0</td>\n",
       "      <td>1</td>\n",
       "      <td></td>\n",
       "      <td></td>\n",
       "      <td></td>\n",
       "      <td></td>\n",
       "      <td></td>\n",
       "      <td></td>\n",
       "      <td></td>\n",
       "      <td></td>\n",
       "      <td></td>\n",
       "      <td></td>\n",
       "    </tr>\n",
       "    <tr>\n",
       "      <td>2018-05-01</td>\n",
       "      <td>5.0</td>\n",
       "      <td></td>\n",
       "      <td></td>\n",
       "      <td></td>\n",
       "      <td></td>\n",
       "      <td></td>\n",
       "      <td></td>\n",
       "      <td></td>\n",
       "      <td></td>\n",
       "      <td></td>\n",
       "      <td></td>\n",
       "      <td></td>\n",
       "    </tr>\n",
       "    <tr>\n",
       "      <td>2018-06-01</td>\n",
       "      <td>3.0</td>\n",
       "      <td></td>\n",
       "      <td></td>\n",
       "      <td></td>\n",
       "      <td></td>\n",
       "      <td></td>\n",
       "      <td></td>\n",
       "      <td></td>\n",
       "      <td></td>\n",
       "      <td></td>\n",
       "      <td></td>\n",
       "      <td></td>\n",
       "    </tr>\n",
       "  </tbody>\n",
       "</table>\n",
       "</div>"
      ],
      "text/plain": [
       "age_month          0.0  1.0  2.0  3.0  4.0  5.0  6.0  7.0  8.0  9.0  10.0 11.0\n",
       "first_order_month                                                             \n",
       "2017-06-01          5.0    0    0    1    1    1    1    1    1    1    1    0\n",
       "2017-07-01          6.0    0    1    0    0    0    0    0    0    0    0     \n",
       "2017-08-01          5.0    0    0    0    0    0    0    0    0    0          \n",
       "2017-09-01          6.0    1    1    4    0    1    1    0    0               \n",
       "2017-10-01          5.0    1    0    0    0    0    0    0                    \n",
       "2017-11-01          5.0    0    0    0    0    0    0                         \n",
       "2017-12-01          5.0    0    1    1    0    0                              \n",
       "2018-01-01          4.0    0    0    0    0                                   \n",
       "2018-02-01          4.0    0    0    0                                        \n",
       "2018-03-01          5.0    0    0                                             \n",
       "2018-04-01          5.0    1                                                  \n",
       "2018-05-01          5.0                                                       \n",
       "2018-06-01          3.0                                                       "
      ]
     },
     "execution_count": 95,
     "metadata": {},
     "output_type": "execute_result"
    }
   ],
   "source": [
    "result = report.pivot_table(\n",
    "    index='first_order_month', columns='age_month', values='ltv', aggfunc='mean'\n",
    ").round()\n",
    "result.fillna('') "
   ]
  },
  {
   "cell_type": "code",
   "execution_count": 96,
   "metadata": {
    "scrolled": true
   },
   "outputs": [
    {
     "data": {
      "text/plain": [
       "<matplotlib.axes._subplots.AxesSubplot at 0x7efdfdb10910>"
      ]
     },
     "execution_count": 96,
     "metadata": {},
     "output_type": "execute_result"
    },
    {
     "data": {
      "image/png": "[encoded data removed]",
      "text/plain": [
       "<Figure size 432x288 with 1 Axes>"
      ]
     },
     "metadata": {
      "needs_background": "light"
     },
     "output_type": "display_data"
    }
   ],
   "source": [
    "result.plot()"
   ]
  },
  {
   "cell_type": "code",
   "execution_count": 97,
   "metadata": {},
   "outputs": [
    {
     "data": {
      "text/plain": [
       "7.285714285714286"
      ]
     },
     "execution_count": 97,
     "metadata": {},
     "output_type": "execute_result"
    }
   ],
   "source": [
    "m6_cum_ltv = result.cumsum(axis=1).mean(axis=0)[5]\n",
    "m6_cum_ltv"
   ]
  },
  {
   "cell_type": "code",
   "execution_count": 98,
   "metadata": {},
   "outputs": [
    {
     "name": "stdout",
     "output_type": "stream",
     "text": [
      "Средний LTV за 6 месяцев после первой покупки: 7.285714285714286\n"
     ]
    }
   ],
   "source": [
    "print('Средний LTV за 6 месяцев после первой покупки:', m6_cum_ltv)"
   ]
  },
  {
   "cell_type": "markdown",
   "metadata": {},
   "source": [
    "Видим изменение LTV во времени для каждой из когорт."
   ]
  },
  {
   "cell_type": "markdown",
   "metadata": {},
   "source": [
    "Видим, что метрика со временем только увеличивается."
   ]
  },
  {
   "cell_type": "markdown",
   "metadata": {},
   "source": [
    "Все равно что-то страшное получилось..."
   ]
  },
  {
   "cell_type": "markdown",
   "metadata": {},
   "source": [
    "### Маркетинговые метрики"
   ]
  },
  {
   "cell_type": "markdown",
   "metadata": {},
   "source": [
    "Посчитайте и отобразите на графиках, как маркетинговые метрики различаются по рекламным источникам."
   ]
  },
  {
   "cell_type": "markdown",
   "metadata": {},
   "source": [
    "####  Посчитайте общую сумму расходов на маркетинг"
   ]
  },
  {
   "cell_type": "code",
   "execution_count": 99,
   "metadata": {},
   "outputs": [
    {
     "data": {
      "text/html": [
       "<div>\n",
       "<style scoped>\n",
       "    .dataframe tbody tr th:only-of-type {\n",
       "        vertical-align: middle;\n",
       "    }\n",
       "\n",
       "    .dataframe tbody tr th {\n",
       "        vertical-align: top;\n",
       "    }\n",
       "\n",
       "    .dataframe thead th {\n",
       "        text-align: right;\n",
       "    }\n",
       "</style>\n",
       "<table border=\"1\" class=\"dataframe\">\n",
       "  <thead>\n",
       "    <tr style=\"text-align: right;\">\n",
       "      <th></th>\n",
       "      <th>source_id</th>\n",
       "      <th>dt</th>\n",
       "      <th>costs</th>\n",
       "      <th>month</th>\n",
       "    </tr>\n",
       "  </thead>\n",
       "  <tbody>\n",
       "    <tr>\n",
       "      <td>0</td>\n",
       "      <td>1</td>\n",
       "      <td>2017-06-01</td>\n",
       "      <td>75.20</td>\n",
       "      <td>2017-06-01</td>\n",
       "    </tr>\n",
       "    <tr>\n",
       "      <td>1</td>\n",
       "      <td>1</td>\n",
       "      <td>2017-06-02</td>\n",
       "      <td>62.25</td>\n",
       "      <td>2017-06-01</td>\n",
       "    </tr>\n",
       "    <tr>\n",
       "      <td>2</td>\n",
       "      <td>1</td>\n",
       "      <td>2017-06-03</td>\n",
       "      <td>36.53</td>\n",
       "      <td>2017-06-01</td>\n",
       "    </tr>\n",
       "    <tr>\n",
       "      <td>3</td>\n",
       "      <td>1</td>\n",
       "      <td>2017-06-04</td>\n",
       "      <td>55.00</td>\n",
       "      <td>2017-06-01</td>\n",
       "    </tr>\n",
       "    <tr>\n",
       "      <td>4</td>\n",
       "      <td>1</td>\n",
       "      <td>2017-06-05</td>\n",
       "      <td>57.08</td>\n",
       "      <td>2017-06-01</td>\n",
       "    </tr>\n",
       "    <tr>\n",
       "      <td>...</td>\n",
       "      <td>...</td>\n",
       "      <td>...</td>\n",
       "      <td>...</td>\n",
       "      <td>...</td>\n",
       "    </tr>\n",
       "    <tr>\n",
       "      <td>2537</td>\n",
       "      <td>10</td>\n",
       "      <td>2018-05-27</td>\n",
       "      <td>9.92</td>\n",
       "      <td>2018-05-01</td>\n",
       "    </tr>\n",
       "    <tr>\n",
       "      <td>2538</td>\n",
       "      <td>10</td>\n",
       "      <td>2018-05-28</td>\n",
       "      <td>21.26</td>\n",
       "      <td>2018-05-01</td>\n",
       "    </tr>\n",
       "    <tr>\n",
       "      <td>2539</td>\n",
       "      <td>10</td>\n",
       "      <td>2018-05-29</td>\n",
       "      <td>11.32</td>\n",
       "      <td>2018-05-01</td>\n",
       "    </tr>\n",
       "    <tr>\n",
       "      <td>2540</td>\n",
       "      <td>10</td>\n",
       "      <td>2018-05-30</td>\n",
       "      <td>33.15</td>\n",
       "      <td>2018-05-01</td>\n",
       "    </tr>\n",
       "    <tr>\n",
       "      <td>2541</td>\n",
       "      <td>10</td>\n",
       "      <td>2018-05-31</td>\n",
       "      <td>17.60</td>\n",
       "      <td>2018-05-01</td>\n",
       "    </tr>\n",
       "  </tbody>\n",
       "</table>\n",
       "<p>2542 rows × 4 columns</p>\n",
       "</div>"
      ],
      "text/plain": [
       "      source_id         dt  costs      month\n",
       "0             1 2017-06-01  75.20 2017-06-01\n",
       "1             1 2017-06-02  62.25 2017-06-01\n",
       "2             1 2017-06-03  36.53 2017-06-01\n",
       "3             1 2017-06-04  55.00 2017-06-01\n",
       "4             1 2017-06-05  57.08 2017-06-01\n",
       "...         ...        ...    ...        ...\n",
       "2537         10 2018-05-27   9.92 2018-05-01\n",
       "2538         10 2018-05-28  21.26 2018-05-01\n",
       "2539         10 2018-05-29  11.32 2018-05-01\n",
       "2540         10 2018-05-30  33.15 2018-05-01\n",
       "2541         10 2018-05-31  17.60 2018-05-01\n",
       "\n",
       "[2542 rows x 4 columns]"
      ]
     },
     "execution_count": 99,
     "metadata": {},
     "output_type": "execute_result"
    }
   ],
   "source": [
    "costs['month'] = costs['dt'].astype('datetime64[M]')\n",
    "costs"
   ]
  },
  {
   "cell_type": "code",
   "execution_count": 100,
   "metadata": {},
   "outputs": [
    {
     "data": {
      "text/html": [
       "<div>\n",
       "<style scoped>\n",
       "    .dataframe tbody tr th:only-of-type {\n",
       "        vertical-align: middle;\n",
       "    }\n",
       "\n",
       "    .dataframe tbody tr th {\n",
       "        vertical-align: top;\n",
       "    }\n",
       "\n",
       "    .dataframe thead th {\n",
       "        text-align: right;\n",
       "    }\n",
       "</style>\n",
       "<table border=\"1\" class=\"dataframe\">\n",
       "  <thead>\n",
       "    <tr style=\"text-align: right;\">\n",
       "      <th></th>\n",
       "      <th>first_order_month</th>\n",
       "      <th>n_buyers</th>\n",
       "      <th>order_month</th>\n",
       "      <th>revenue</th>\n",
       "      <th>age_month</th>\n",
       "      <th>ltv</th>\n",
       "      <th>source_id</th>\n",
       "      <th>costs</th>\n",
       "    </tr>\n",
       "  </thead>\n",
       "  <tbody>\n",
       "    <tr>\n",
       "      <td>0</td>\n",
       "      <td>2017-06-01</td>\n",
       "      <td>2023</td>\n",
       "      <td>2017-06-01</td>\n",
       "      <td>9557.49</td>\n",
       "      <td>0.0</td>\n",
       "      <td>4.724414</td>\n",
       "      <td>1020</td>\n",
       "      <td>18015.00</td>\n",
       "    </tr>\n",
       "    <tr>\n",
       "      <td>1</td>\n",
       "      <td>2017-06-01</td>\n",
       "      <td>2023</td>\n",
       "      <td>2017-07-01</td>\n",
       "      <td>981.82</td>\n",
       "      <td>1.0</td>\n",
       "      <td>0.485329</td>\n",
       "      <td>1020</td>\n",
       "      <td>18015.00</td>\n",
       "    </tr>\n",
       "    <tr>\n",
       "      <td>2</td>\n",
       "      <td>2017-06-01</td>\n",
       "      <td>2023</td>\n",
       "      <td>2017-08-01</td>\n",
       "      <td>885.34</td>\n",
       "      <td>2.0</td>\n",
       "      <td>0.437637</td>\n",
       "      <td>1020</td>\n",
       "      <td>18015.00</td>\n",
       "    </tr>\n",
       "    <tr>\n",
       "      <td>3</td>\n",
       "      <td>2017-06-01</td>\n",
       "      <td>2023</td>\n",
       "      <td>2017-09-01</td>\n",
       "      <td>1931.30</td>\n",
       "      <td>3.0</td>\n",
       "      <td>0.954671</td>\n",
       "      <td>1020</td>\n",
       "      <td>18015.00</td>\n",
       "    </tr>\n",
       "    <tr>\n",
       "      <td>4</td>\n",
       "      <td>2017-06-01</td>\n",
       "      <td>2023</td>\n",
       "      <td>2017-10-01</td>\n",
       "      <td>2068.58</td>\n",
       "      <td>4.0</td>\n",
       "      <td>1.022531</td>\n",
       "      <td>1020</td>\n",
       "      <td>18015.00</td>\n",
       "    </tr>\n",
       "    <tr>\n",
       "      <td>...</td>\n",
       "      <td>...</td>\n",
       "      <td>...</td>\n",
       "      <td>...</td>\n",
       "      <td>...</td>\n",
       "      <td>...</td>\n",
       "      <td>...</td>\n",
       "      <td>...</td>\n",
       "      <td>...</td>\n",
       "    </tr>\n",
       "    <tr>\n",
       "      <td>73</td>\n",
       "      <td>2018-03-01</td>\n",
       "      <td>3533</td>\n",
       "      <td>2018-04-01</td>\n",
       "      <td>1063.05</td>\n",
       "      <td>1.0</td>\n",
       "      <td>0.300892</td>\n",
       "      <td>1025</td>\n",
       "      <td>30415.27</td>\n",
       "    </tr>\n",
       "    <tr>\n",
       "      <td>74</td>\n",
       "      <td>2018-03-01</td>\n",
       "      <td>3533</td>\n",
       "      <td>2018-05-01</td>\n",
       "      <td>1114.87</td>\n",
       "      <td>2.0</td>\n",
       "      <td>0.315559</td>\n",
       "      <td>1025</td>\n",
       "      <td>30415.27</td>\n",
       "    </tr>\n",
       "    <tr>\n",
       "      <td>75</td>\n",
       "      <td>2018-04-01</td>\n",
       "      <td>2276</td>\n",
       "      <td>2018-04-01</td>\n",
       "      <td>10600.69</td>\n",
       "      <td>0.0</td>\n",
       "      <td>4.657597</td>\n",
       "      <td>986</td>\n",
       "      <td>22289.38</td>\n",
       "    </tr>\n",
       "    <tr>\n",
       "      <td>76</td>\n",
       "      <td>2018-04-01</td>\n",
       "      <td>2276</td>\n",
       "      <td>2018-05-01</td>\n",
       "      <td>1209.92</td>\n",
       "      <td>1.0</td>\n",
       "      <td>0.531599</td>\n",
       "      <td>986</td>\n",
       "      <td>22289.38</td>\n",
       "    </tr>\n",
       "    <tr>\n",
       "      <td>77</td>\n",
       "      <td>2018-05-01</td>\n",
       "      <td>2988</td>\n",
       "      <td>2018-05-01</td>\n",
       "      <td>13925.76</td>\n",
       "      <td>0.0</td>\n",
       "      <td>4.660562</td>\n",
       "      <td>1054</td>\n",
       "      <td>22224.27</td>\n",
       "    </tr>\n",
       "  </tbody>\n",
       "</table>\n",
       "<p>78 rows × 8 columns</p>\n",
       "</div>"
      ],
      "text/plain": [
       "   first_order_month  n_buyers order_month   revenue  age_month       ltv  \\\n",
       "0         2017-06-01      2023  2017-06-01   9557.49        0.0  4.724414   \n",
       "1         2017-06-01      2023  2017-07-01    981.82        1.0  0.485329   \n",
       "2         2017-06-01      2023  2017-08-01    885.34        2.0  0.437637   \n",
       "3         2017-06-01      2023  2017-09-01   1931.30        3.0  0.954671   \n",
       "4         2017-06-01      2023  2017-10-01   2068.58        4.0  1.022531   \n",
       "..               ...       ...         ...       ...        ...       ...   \n",
       "73        2018-03-01      3533  2018-04-01   1063.05        1.0  0.300892   \n",
       "74        2018-03-01      3533  2018-05-01   1114.87        2.0  0.315559   \n",
       "75        2018-04-01      2276  2018-04-01  10600.69        0.0  4.657597   \n",
       "76        2018-04-01      2276  2018-05-01   1209.92        1.0  0.531599   \n",
       "77        2018-05-01      2988  2018-05-01  13925.76        0.0  4.660562   \n",
       "\n",
       "    source_id     costs  \n",
       "0        1020  18015.00  \n",
       "1        1020  18015.00  \n",
       "2        1020  18015.00  \n",
       "3        1020  18015.00  \n",
       "4        1020  18015.00  \n",
       "..        ...       ...  \n",
       "73       1025  30415.27  \n",
       "74       1025  30415.27  \n",
       "75        986  22289.38  \n",
       "76        986  22289.38  \n",
       "77       1054  22224.27  \n",
       "\n",
       "[78 rows x 8 columns]"
      ]
     },
     "execution_count": 100,
     "metadata": {},
     "output_type": "execute_result"
    }
   ],
   "source": [
    "monthly_costs = costs.groupby('month').sum()\n",
    "report_new = pd.merge(\n",
    "    report, monthly_costs, left_on='first_order_month', right_on='month'\n",
    ")\n",
    "report_new"
   ]
  },
  {
   "cell_type": "code",
   "execution_count": 101,
   "metadata": {},
   "outputs": [
    {
     "data": {
      "text/plain": [
       "329131.61999999994"
      ]
     },
     "execution_count": 101,
     "metadata": {},
     "output_type": "execute_result"
    }
   ],
   "source": [
    "monthly_costs['costs'].sum()"
   ]
  },
  {
   "cell_type": "code",
   "execution_count": 102,
   "metadata": {
    "scrolled": true
   },
   "outputs": [
    {
     "data": {
      "text/html": [
       "<div>\n",
       "<style scoped>\n",
       "    .dataframe tbody tr th:only-of-type {\n",
       "        vertical-align: middle;\n",
       "    }\n",
       "\n",
       "    .dataframe tbody tr th {\n",
       "        vertical-align: top;\n",
       "    }\n",
       "\n",
       "    .dataframe thead th {\n",
       "        text-align: right;\n",
       "    }\n",
       "</style>\n",
       "<table border=\"1\" class=\"dataframe\">\n",
       "  <thead>\n",
       "    <tr style=\"text-align: right;\">\n",
       "      <th></th>\n",
       "      <th>first_order_month</th>\n",
       "      <th>n_buyers</th>\n",
       "      <th>order_month</th>\n",
       "      <th>revenue</th>\n",
       "      <th>age_month</th>\n",
       "      <th>ltv</th>\n",
       "      <th>source_id</th>\n",
       "      <th>costs</th>\n",
       "      <th>cac</th>\n",
       "      <th>romi</th>\n",
       "    </tr>\n",
       "  </thead>\n",
       "  <tbody>\n",
       "    <tr>\n",
       "      <td>0</td>\n",
       "      <td>2017-06-01</td>\n",
       "      <td>2023</td>\n",
       "      <td>2017-06-01</td>\n",
       "      <td>9557.49</td>\n",
       "      <td>0.0</td>\n",
       "      <td>4.724414</td>\n",
       "      <td>1020</td>\n",
       "      <td>18015.00</td>\n",
       "      <td>8.905091</td>\n",
       "      <td>0.530530</td>\n",
       "    </tr>\n",
       "    <tr>\n",
       "      <td>1</td>\n",
       "      <td>2017-06-01</td>\n",
       "      <td>2023</td>\n",
       "      <td>2017-07-01</td>\n",
       "      <td>981.82</td>\n",
       "      <td>1.0</td>\n",
       "      <td>0.485329</td>\n",
       "      <td>1020</td>\n",
       "      <td>18015.00</td>\n",
       "      <td>8.905091</td>\n",
       "      <td>0.054500</td>\n",
       "    </tr>\n",
       "    <tr>\n",
       "      <td>2</td>\n",
       "      <td>2017-06-01</td>\n",
       "      <td>2023</td>\n",
       "      <td>2017-08-01</td>\n",
       "      <td>885.34</td>\n",
       "      <td>2.0</td>\n",
       "      <td>0.437637</td>\n",
       "      <td>1020</td>\n",
       "      <td>18015.00</td>\n",
       "      <td>8.905091</td>\n",
       "      <td>0.049145</td>\n",
       "    </tr>\n",
       "    <tr>\n",
       "      <td>3</td>\n",
       "      <td>2017-06-01</td>\n",
       "      <td>2023</td>\n",
       "      <td>2017-09-01</td>\n",
       "      <td>1931.30</td>\n",
       "      <td>3.0</td>\n",
       "      <td>0.954671</td>\n",
       "      <td>1020</td>\n",
       "      <td>18015.00</td>\n",
       "      <td>8.905091</td>\n",
       "      <td>0.107205</td>\n",
       "    </tr>\n",
       "    <tr>\n",
       "      <td>4</td>\n",
       "      <td>2017-06-01</td>\n",
       "      <td>2023</td>\n",
       "      <td>2017-10-01</td>\n",
       "      <td>2068.58</td>\n",
       "      <td>4.0</td>\n",
       "      <td>1.022531</td>\n",
       "      <td>1020</td>\n",
       "      <td>18015.00</td>\n",
       "      <td>8.905091</td>\n",
       "      <td>0.114825</td>\n",
       "    </tr>\n",
       "    <tr>\n",
       "      <td>...</td>\n",
       "      <td>...</td>\n",
       "      <td>...</td>\n",
       "      <td>...</td>\n",
       "      <td>...</td>\n",
       "      <td>...</td>\n",
       "      <td>...</td>\n",
       "      <td>...</td>\n",
       "      <td>...</td>\n",
       "      <td>...</td>\n",
       "      <td>...</td>\n",
       "    </tr>\n",
       "    <tr>\n",
       "      <td>73</td>\n",
       "      <td>2018-03-01</td>\n",
       "      <td>3533</td>\n",
       "      <td>2018-04-01</td>\n",
       "      <td>1063.05</td>\n",
       "      <td>1.0</td>\n",
       "      <td>0.300892</td>\n",
       "      <td>1025</td>\n",
       "      <td>30415.27</td>\n",
       "      <td>8.608907</td>\n",
       "      <td>0.034951</td>\n",
       "    </tr>\n",
       "    <tr>\n",
       "      <td>74</td>\n",
       "      <td>2018-03-01</td>\n",
       "      <td>3533</td>\n",
       "      <td>2018-05-01</td>\n",
       "      <td>1114.87</td>\n",
       "      <td>2.0</td>\n",
       "      <td>0.315559</td>\n",
       "      <td>1025</td>\n",
       "      <td>30415.27</td>\n",
       "      <td>8.608907</td>\n",
       "      <td>0.036655</td>\n",
       "    </tr>\n",
       "    <tr>\n",
       "      <td>75</td>\n",
       "      <td>2018-04-01</td>\n",
       "      <td>2276</td>\n",
       "      <td>2018-04-01</td>\n",
       "      <td>10600.69</td>\n",
       "      <td>0.0</td>\n",
       "      <td>4.657597</td>\n",
       "      <td>986</td>\n",
       "      <td>22289.38</td>\n",
       "      <td>9.793225</td>\n",
       "      <td>0.475594</td>\n",
       "    </tr>\n",
       "    <tr>\n",
       "      <td>76</td>\n",
       "      <td>2018-04-01</td>\n",
       "      <td>2276</td>\n",
       "      <td>2018-05-01</td>\n",
       "      <td>1209.92</td>\n",
       "      <td>1.0</td>\n",
       "      <td>0.531599</td>\n",
       "      <td>986</td>\n",
       "      <td>22289.38</td>\n",
       "      <td>9.793225</td>\n",
       "      <td>0.054282</td>\n",
       "    </tr>\n",
       "    <tr>\n",
       "      <td>77</td>\n",
       "      <td>2018-05-01</td>\n",
       "      <td>2988</td>\n",
       "      <td>2018-05-01</td>\n",
       "      <td>13925.76</td>\n",
       "      <td>0.0</td>\n",
       "      <td>4.660562</td>\n",
       "      <td>1054</td>\n",
       "      <td>22224.27</td>\n",
       "      <td>7.437841</td>\n",
       "      <td>0.626601</td>\n",
       "    </tr>\n",
       "  </tbody>\n",
       "</table>\n",
       "<p>78 rows × 10 columns</p>\n",
       "</div>"
      ],
      "text/plain": [
       "   first_order_month  n_buyers order_month   revenue  age_month       ltv  \\\n",
       "0         2017-06-01      2023  2017-06-01   9557.49        0.0  4.724414   \n",
       "1         2017-06-01      2023  2017-07-01    981.82        1.0  0.485329   \n",
       "2         2017-06-01      2023  2017-08-01    885.34        2.0  0.437637   \n",
       "3         2017-06-01      2023  2017-09-01   1931.30        3.0  0.954671   \n",
       "4         2017-06-01      2023  2017-10-01   2068.58        4.0  1.022531   \n",
       "..               ...       ...         ...       ...        ...       ...   \n",
       "73        2018-03-01      3533  2018-04-01   1063.05        1.0  0.300892   \n",
       "74        2018-03-01      3533  2018-05-01   1114.87        2.0  0.315559   \n",
       "75        2018-04-01      2276  2018-04-01  10600.69        0.0  4.657597   \n",
       "76        2018-04-01      2276  2018-05-01   1209.92        1.0  0.531599   \n",
       "77        2018-05-01      2988  2018-05-01  13925.76        0.0  4.660562   \n",
       "\n",
       "    source_id     costs       cac      romi  \n",
       "0        1020  18015.00  8.905091  0.530530  \n",
       "1        1020  18015.00  8.905091  0.054500  \n",
       "2        1020  18015.00  8.905091  0.049145  \n",
       "3        1020  18015.00  8.905091  0.107205  \n",
       "4        1020  18015.00  8.905091  0.114825  \n",
       "..        ...       ...       ...       ...  \n",
       "73       1025  30415.27  8.608907  0.034951  \n",
       "74       1025  30415.27  8.608907  0.036655  \n",
       "75        986  22289.38  9.793225  0.475594  \n",
       "76        986  22289.38  9.793225  0.054282  \n",
       "77       1054  22224.27  7.437841  0.626601  \n",
       "\n",
       "[78 rows x 10 columns]"
      ]
     },
     "execution_count": 102,
     "metadata": {},
     "output_type": "execute_result"
    }
   ],
   "source": [
    "report_new['cac'] = report_new['costs'] / report_new['n_buyers']\n",
    "report_new['romi'] = report_new['ltv'] / report_new['cac']\n",
    "report_new"
   ]
  },
  {
   "cell_type": "code",
   "execution_count": 103,
   "metadata": {},
   "outputs": [],
   "source": [
    "output = report_new.pivot_table(\n",
    "    index='first_order_month', columns='age_month', values='romi', aggfunc='mean'\n",
    ")"
   ]
  },
  {
   "cell_type": "code",
   "execution_count": 104,
   "metadata": {
    "scrolled": true
   },
   "outputs": [
    {
     "data": {
      "text/html": [
       "<div>\n",
       "<style scoped>\n",
       "    .dataframe tbody tr th:only-of-type {\n",
       "        vertical-align: middle;\n",
       "    }\n",
       "\n",
       "    .dataframe tbody tr th {\n",
       "        vertical-align: top;\n",
       "    }\n",
       "\n",
       "    .dataframe thead th {\n",
       "        text-align: right;\n",
       "    }\n",
       "</style>\n",
       "<table border=\"1\" class=\"dataframe\">\n",
       "  <thead>\n",
       "    <tr style=\"text-align: right;\">\n",
       "      <th>age_month</th>\n",
       "      <th>first_order_month</th>\n",
       "      <th>0.0</th>\n",
       "      <th>1.0</th>\n",
       "      <th>2.0</th>\n",
       "      <th>3.0</th>\n",
       "      <th>4.0</th>\n",
       "      <th>5.0</th>\n",
       "      <th>6.0</th>\n",
       "      <th>7.0</th>\n",
       "      <th>8.0</th>\n",
       "      <th>9.0</th>\n",
       "      <th>10.0</th>\n",
       "      <th>11.0</th>\n",
       "    </tr>\n",
       "  </thead>\n",
       "  <tbody>\n",
       "    <tr>\n",
       "      <td>0</td>\n",
       "      <td>2017-06-01</td>\n",
       "      <td>0.530530</td>\n",
       "      <td>0.054500</td>\n",
       "      <td>0.049145</td>\n",
       "      <td>0.107205</td>\n",
       "      <td>0.114825</td>\n",
       "      <td>0.082593</td>\n",
       "      <td>0.106730</td>\n",
       "      <td>0.065310</td>\n",
       "      <td>0.062123</td>\n",
       "      <td>0.068027</td>\n",
       "      <td>0.064150</td>\n",
       "      <td>0.028844</td>\n",
       "    </tr>\n",
       "    <tr>\n",
       "      <td>1</td>\n",
       "      <td>2017-07-01</td>\n",
       "      <td>0.633623</td>\n",
       "      <td>0.035339</td>\n",
       "      <td>0.065735</td>\n",
       "      <td>0.037845</td>\n",
       "      <td>0.018638</td>\n",
       "      <td>0.016451</td>\n",
       "      <td>0.012673</td>\n",
       "      <td>0.014951</td>\n",
       "      <td>0.016998</td>\n",
       "      <td>0.015513</td>\n",
       "      <td>0.016412</td>\n",
       "      <td>NaN</td>\n",
       "    </tr>\n",
       "    <tr>\n",
       "      <td>2</td>\n",
       "      <td>2017-08-01</td>\n",
       "      <td>0.488747</td>\n",
       "      <td>0.043719</td>\n",
       "      <td>0.042468</td>\n",
       "      <td>0.036243</td>\n",
       "      <td>0.045762</td>\n",
       "      <td>0.026263</td>\n",
       "      <td>0.019513</td>\n",
       "      <td>0.037515</td>\n",
       "      <td>0.027067</td>\n",
       "      <td>0.017412</td>\n",
       "      <td>NaN</td>\n",
       "      <td>NaN</td>\n",
       "    </tr>\n",
       "    <tr>\n",
       "      <td>3</td>\n",
       "      <td>2017-09-01</td>\n",
       "      <td>0.597833</td>\n",
       "      <td>0.118368</td>\n",
       "      <td>0.055174</td>\n",
       "      <td>0.421091</td>\n",
       "      <td>0.042425</td>\n",
       "      <td>0.068533</td>\n",
       "      <td>0.074310</td>\n",
       "      <td>0.025753</td>\n",
       "      <td>0.019489</td>\n",
       "      <td>NaN</td>\n",
       "      <td>NaN</td>\n",
       "      <td>NaN</td>\n",
       "    </tr>\n",
       "    <tr>\n",
       "      <td>4</td>\n",
       "      <td>2017-10-01</td>\n",
       "      <td>0.597866</td>\n",
       "      <td>0.064015</td>\n",
       "      <td>0.022869</td>\n",
       "      <td>0.018776</td>\n",
       "      <td>0.018109</td>\n",
       "      <td>0.014381</td>\n",
       "      <td>0.010134</td>\n",
       "      <td>0.013797</td>\n",
       "      <td>NaN</td>\n",
       "      <td>NaN</td>\n",
       "      <td>NaN</td>\n",
       "      <td>NaN</td>\n",
       "    </tr>\n",
       "    <tr>\n",
       "      <td>5</td>\n",
       "      <td>2017-11-01</td>\n",
       "      <td>0.554931</td>\n",
       "      <td>0.042980</td>\n",
       "      <td>0.021483</td>\n",
       "      <td>0.034983</td>\n",
       "      <td>0.015934</td>\n",
       "      <td>0.005800</td>\n",
       "      <td>0.012373</td>\n",
       "      <td>NaN</td>\n",
       "      <td>NaN</td>\n",
       "      <td>NaN</td>\n",
       "      <td>NaN</td>\n",
       "      <td>NaN</td>\n",
       "    </tr>\n",
       "    <tr>\n",
       "      <td>6</td>\n",
       "      <td>2017-12-01</td>\n",
       "      <td>0.542015</td>\n",
       "      <td>0.029785</td>\n",
       "      <td>0.105824</td>\n",
       "      <td>0.121860</td>\n",
       "      <td>0.035797</td>\n",
       "      <td>0.038670</td>\n",
       "      <td>NaN</td>\n",
       "      <td>NaN</td>\n",
       "      <td>NaN</td>\n",
       "      <td>NaN</td>\n",
       "      <td>NaN</td>\n",
       "      <td>NaN</td>\n",
       "    </tr>\n",
       "    <tr>\n",
       "      <td>7</td>\n",
       "      <td>2018-01-01</td>\n",
       "      <td>0.416173</td>\n",
       "      <td>0.029662</td>\n",
       "      <td>0.030620</td>\n",
       "      <td>0.014368</td>\n",
       "      <td>0.006309</td>\n",
       "      <td>NaN</td>\n",
       "      <td>NaN</td>\n",
       "      <td>NaN</td>\n",
       "      <td>NaN</td>\n",
       "      <td>NaN</td>\n",
       "      <td>NaN</td>\n",
       "      <td>NaN</td>\n",
       "    </tr>\n",
       "    <tr>\n",
       "      <td>8</td>\n",
       "      <td>2018-02-01</td>\n",
       "      <td>0.463807</td>\n",
       "      <td>0.031048</td>\n",
       "      <td>0.008760</td>\n",
       "      <td>0.008272</td>\n",
       "      <td>NaN</td>\n",
       "      <td>NaN</td>\n",
       "      <td>NaN</td>\n",
       "      <td>NaN</td>\n",
       "      <td>NaN</td>\n",
       "      <td>NaN</td>\n",
       "      <td>NaN</td>\n",
       "      <td>NaN</td>\n",
       "    </tr>\n",
       "    <tr>\n",
       "      <td>9</td>\n",
       "      <td>2018-03-01</td>\n",
       "      <td>0.562069</td>\n",
       "      <td>0.034951</td>\n",
       "      <td>0.036655</td>\n",
       "      <td>NaN</td>\n",
       "      <td>NaN</td>\n",
       "      <td>NaN</td>\n",
       "      <td>NaN</td>\n",
       "      <td>NaN</td>\n",
       "      <td>NaN</td>\n",
       "      <td>NaN</td>\n",
       "      <td>NaN</td>\n",
       "      <td>NaN</td>\n",
       "    </tr>\n",
       "    <tr>\n",
       "      <td>10</td>\n",
       "      <td>2018-04-01</td>\n",
       "      <td>0.475594</td>\n",
       "      <td>0.054282</td>\n",
       "      <td>NaN</td>\n",
       "      <td>NaN</td>\n",
       "      <td>NaN</td>\n",
       "      <td>NaN</td>\n",
       "      <td>NaN</td>\n",
       "      <td>NaN</td>\n",
       "      <td>NaN</td>\n",
       "      <td>NaN</td>\n",
       "      <td>NaN</td>\n",
       "      <td>NaN</td>\n",
       "    </tr>\n",
       "    <tr>\n",
       "      <td>11</td>\n",
       "      <td>2018-05-01</td>\n",
       "      <td>0.626601</td>\n",
       "      <td>NaN</td>\n",
       "      <td>NaN</td>\n",
       "      <td>NaN</td>\n",
       "      <td>NaN</td>\n",
       "      <td>NaN</td>\n",
       "      <td>NaN</td>\n",
       "      <td>NaN</td>\n",
       "      <td>NaN</td>\n",
       "      <td>NaN</td>\n",
       "      <td>NaN</td>\n",
       "      <td>NaN</td>\n",
       "    </tr>\n",
       "  </tbody>\n",
       "</table>\n",
       "</div>"
      ],
      "text/plain": [
       "age_month first_order_month       0.0       1.0       2.0       3.0       4.0  \\\n",
       "0                2017-06-01  0.530530  0.054500  0.049145  0.107205  0.114825   \n",
       "1                2017-07-01  0.633623  0.035339  0.065735  0.037845  0.018638   \n",
       "2                2017-08-01  0.488747  0.043719  0.042468  0.036243  0.045762   \n",
       "3                2017-09-01  0.597833  0.118368  0.055174  0.421091  0.042425   \n",
       "4                2017-10-01  0.597866  0.064015  0.022869  0.018776  0.018109   \n",
       "5                2017-11-01  0.554931  0.042980  0.021483  0.034983  0.015934   \n",
       "6                2017-12-01  0.542015  0.029785  0.105824  0.121860  0.035797   \n",
       "7                2018-01-01  0.416173  0.029662  0.030620  0.014368  0.006309   \n",
       "8                2018-02-01  0.463807  0.031048  0.008760  0.008272       NaN   \n",
       "9                2018-03-01  0.562069  0.034951  0.036655       NaN       NaN   \n",
       "10               2018-04-01  0.475594  0.054282       NaN       NaN       NaN   \n",
       "11               2018-05-01  0.626601       NaN       NaN       NaN       NaN   \n",
       "\n",
       "age_month       5.0       6.0       7.0       8.0       9.0      10.0  \\\n",
       "0          0.082593  0.106730  0.065310  0.062123  0.068027  0.064150   \n",
       "1          0.016451  0.012673  0.014951  0.016998  0.015513  0.016412   \n",
       "2          0.026263  0.019513  0.037515  0.027067  0.017412       NaN   \n",
       "3          0.068533  0.074310  0.025753  0.019489       NaN       NaN   \n",
       "4          0.014381  0.010134  0.013797       NaN       NaN       NaN   \n",
       "5          0.005800  0.012373       NaN       NaN       NaN       NaN   \n",
       "6          0.038670       NaN       NaN       NaN       NaN       NaN   \n",
       "7               NaN       NaN       NaN       NaN       NaN       NaN   \n",
       "8               NaN       NaN       NaN       NaN       NaN       NaN   \n",
       "9               NaN       NaN       NaN       NaN       NaN       NaN   \n",
       "10              NaN       NaN       NaN       NaN       NaN       NaN   \n",
       "11              NaN       NaN       NaN       NaN       NaN       NaN   \n",
       "\n",
       "age_month      11.0  \n",
       "0          0.028844  \n",
       "1               NaN  \n",
       "2               NaN  \n",
       "3               NaN  \n",
       "4               NaN  \n",
       "5               NaN  \n",
       "6               NaN  \n",
       "7               NaN  \n",
       "8               NaN  \n",
       "9               NaN  \n",
       "10              NaN  \n",
       "11              NaN  "
      ]
     },
     "execution_count": 104,
     "metadata": {},
     "output_type": "execute_result"
    }
   ],
   "source": [
    "output.reset_index()"
   ]
  },
  {
   "cell_type": "code",
   "execution_count": 105,
   "metadata": {},
   "outputs": [
    {
     "data": {
      "text/plain": [
       "Text(0.5, 1.0, 'график суммарных расходов')"
      ]
     },
     "execution_count": 105,
     "metadata": {},
     "output_type": "execute_result"
    },
    {
     "data": {
      "image/png": "[encoded data removed]",
      "text/plain": [
       "<Figure size 432x288 with 1 Axes>"
      ]
     },
     "metadata": {
      "needs_background": "light"
     },
     "output_type": "display_data"
    }
   ],
   "source": [
    "report_new.pivot_table(index='age_month', values='costs', aggfunc='sum').plot() \n",
    "plt.title('график суммарных расходов')"
   ]
  },
  {
   "cell_type": "code",
   "execution_count": 106,
   "metadata": {},
   "outputs": [
    {
     "data": {
      "text/plain": [
       "Text(0.5, 1.0, 'график расходов по источникам')"
      ]
     },
     "execution_count": 106,
     "metadata": {},
     "output_type": "execute_result"
    },
    {
     "data": {
      "image/png": "[encoded data removed]",
      "text/plain": [
       "<Figure size 432x288 with 1 Axes>"
      ]
     },
     "metadata": {
      "needs_background": "light"
     },
     "output_type": "display_data"
    }
   ],
   "source": [
    "report_new.pivot_table(index='age_month', columns='source_id', values='costs', aggfunc='sum').plot.area()\n",
    "plt.title('график расходов по источникам')"
   ]
  },
  {
   "cell_type": "markdown",
   "metadata": {},
   "source": [
    "Рассчитали суммарные расходы за весь период"
   ]
  },
  {
   "cell_type": "markdown",
   "metadata": {},
   "source": [
    "На графике представлено изменение трат во времени, видим, что наибольшее количество затрат было в ноябре-декабре."
   ]
  },
  {
   "cell_type": "markdown",
   "metadata": {},
   "source": [
    "Видим, что разные на разные ресурсы тратят разное количество денег."
   ]
  },
  {
   "cell_type": "markdown",
   "metadata": {},
   "source": [
    "#### Рассчитайте средний CAC"
   ]
  },
  {
   "cell_type": "code",
   "execution_count": 107,
   "metadata": {},
   "outputs": [
    {
     "data": {
      "text/plain": [
       "9.319905176921116"
      ]
     },
     "execution_count": 107,
     "metadata": {},
     "output_type": "execute_result"
    }
   ],
   "source": [
    "report_new['cac'].mean()"
   ]
  },
  {
   "cell_type": "markdown",
   "metadata": {},
   "source": [
    "Рассчитали средний САС."
   ]
  },
  {
   "cell_type": "markdown",
   "metadata": {},
   "source": [
    "## Сформулируйте выводы и рекомендации"
   ]
  },
  {
   "cell_type": "markdown",
   "metadata": {},
   "source": [
    "### Опишите выводы, которые вы сделали после подсчёта метрик каждого вида: маркетинговых, продуктовых и метрик электронной коммерции"
   ]
  },
  {
   "cell_type": "markdown",
   "metadata": {},
   "source": [
    "Видим, что коэффициент удержания не так высок, но время от времени покупки разныхми когортами совершаются."
   ]
  },
  {
   "cell_type": "markdown",
   "metadata": {},
   "source": [
    "Среднее время, которое проходит от первого визита до покупки - 20 дней, что больше средней жизни одной когорты."
   ]
  },
  {
   "cell_type": "markdown",
   "metadata": {},
   "source": [
    "Видим, что средний чек стабильно остается на одинаковом уровне."
   ]
  },
  {
   "cell_type": "markdown",
   "metadata": {},
   "source": [
    "### Подведите итоги когортного анализа"
   ]
  },
  {
   "cell_type": "markdown",
   "metadata": {},
   "source": [
    "Видим, что самая перспективная когорта - люди, которые впервые зашли в июне-августе 2017, так как у них наибольший уровень удержания на сайте."
   ]
  }
 ],
 "metadata": {
  "ExecuteTimeLog": [
   {
    "duration": 584,
    "start_time": "2021-10-12T20:59:16.498Z"
   },
   {
    "duration": 807,
    "start_time": "2021-10-12T21:00:29.680Z"
   },
   {
    "duration": 656,
    "start_time": "2021-10-12T21:00:35.913Z"
   },
   {
    "duration": 51,
    "start_time": "2021-10-12T21:00:47.196Z"
   },
   {
    "duration": 101,
    "start_time": "2021-10-12T21:01:04.399Z"
   },
   {
    "duration": 94,
    "start_time": "2021-10-12T21:01:21.874Z"
   },
   {
    "duration": 558,
    "start_time": "2021-10-13T11:28:06.985Z"
   },
   {
    "duration": 774,
    "start_time": "2021-10-13T11:28:08.150Z"
   },
   {
    "duration": 118,
    "start_time": "2021-10-13T11:28:09.337Z"
   },
   {
    "duration": 26,
    "start_time": "2021-10-13T11:28:10.910Z"
   },
   {
    "duration": 254,
    "start_time": "2021-10-13T11:28:11.589Z"
   },
   {
    "duration": 21,
    "start_time": "2021-10-13T11:28:22.839Z"
   },
   {
    "duration": 79,
    "start_time": "2021-10-13T11:38:09.929Z"
   },
   {
    "duration": 214,
    "start_time": "2021-10-13T11:38:16.828Z"
   },
   {
    "duration": 3490,
    "start_time": "2021-10-13T11:38:29.710Z"
   },
   {
    "duration": 2,
    "start_time": "2021-10-13T11:40:10.504Z"
   },
   {
    "duration": 2,
    "start_time": "2021-10-13T11:40:23.049Z"
   },
   {
    "duration": 3,
    "start_time": "2021-10-13T12:52:25.907Z"
   },
   {
    "duration": 2717,
    "start_time": "2021-10-13T12:52:51.306Z"
   },
   {
    "duration": 2778,
    "start_time": "2021-10-13T14:20:36.018Z"
   },
   {
    "duration": 3,
    "start_time": "2021-10-13T14:20:41.642Z"
   },
   {
    "duration": 716,
    "start_time": "2021-10-13T14:20:42.160Z"
   },
   {
    "duration": 120,
    "start_time": "2021-10-13T14:20:42.877Z"
   },
   {
    "duration": 4,
    "start_time": "2021-10-13T14:20:43.119Z"
   },
   {
    "duration": 3,
    "start_time": "2021-10-13T14:20:43.606Z"
   },
   {
    "duration": 2,
    "start_time": "2021-10-13T14:20:44.269Z"
   },
   {
    "duration": 3,
    "start_time": "2021-10-13T14:20:44.888Z"
   },
   {
    "duration": 3,
    "start_time": "2021-10-13T14:20:45.266Z"
   },
   {
    "duration": 89,
    "start_time": "2021-10-13T14:20:47.562Z"
   },
   {
    "duration": 27,
    "start_time": "2021-10-13T14:20:48.449Z"
   },
   {
    "duration": 20,
    "start_time": "2021-10-13T14:20:49.000Z"
   },
   {
    "duration": 40,
    "start_time": "2021-10-13T14:21:09.807Z"
   },
   {
    "duration": 92,
    "start_time": "2021-10-13T14:21:25.187Z"
   },
   {
    "duration": 29,
    "start_time": "2021-10-13T14:21:26.466Z"
   },
   {
    "duration": 4,
    "start_time": "2021-10-13T14:22:07.426Z"
   },
   {
    "duration": 14,
    "start_time": "2021-10-13T14:23:18.771Z"
   },
   {
    "duration": 5,
    "start_time": "2021-10-13T14:24:01.611Z"
   },
   {
    "duration": 6,
    "start_time": "2021-10-13T14:24:09.442Z"
   },
   {
    "duration": 11,
    "start_time": "2021-10-13T14:24:15.545Z"
   },
   {
    "duration": 37,
    "start_time": "2021-10-13T14:25:34.164Z"
   },
   {
    "duration": 15,
    "start_time": "2021-10-13T14:25:36.926Z"
   },
   {
    "duration": 5811,
    "start_time": "2021-10-13T14:26:44.336Z"
   },
   {
    "duration": -825,
    "start_time": "2021-10-13T14:26:50.974Z"
   },
   {
    "duration": 36,
    "start_time": "2021-10-13T14:27:12.122Z"
   },
   {
    "duration": 5277,
    "start_time": "2021-10-13T14:27:16.648Z"
   },
   {
    "duration": 5557,
    "start_time": "2021-10-13T14:27:23.955Z"
   },
   {
    "duration": 7083,
    "start_time": "2021-10-13T14:27:34.357Z"
   },
   {
    "duration": -1092,
    "start_time": "2021-10-13T14:27:42.535Z"
   },
   {
    "duration": 2,
    "start_time": "2021-10-13T14:28:14.421Z"
   },
   {
    "duration": 775,
    "start_time": "2021-10-13T14:28:15.132Z"
   },
   {
    "duration": 108,
    "start_time": "2021-10-13T14:28:15.909Z"
   },
   {
    "duration": 3,
    "start_time": "2021-10-13T14:28:17.864Z"
   },
   {
    "duration": 174,
    "start_time": "2021-10-13T14:28:17.869Z"
   },
   {
    "duration": 28,
    "start_time": "2021-10-13T14:28:18.563Z"
   },
   {
    "duration": 3,
    "start_time": "2021-10-13T14:28:19.313Z"
   },
   {
    "duration": 14,
    "start_time": "2021-10-13T14:28:20.046Z"
   },
   {
    "duration": 21,
    "start_time": "2021-10-13T14:28:20.839Z"
   },
   {
    "duration": 5,
    "start_time": "2021-10-13T14:28:21.572Z"
   },
   {
    "duration": 41,
    "start_time": "2021-10-13T14:28:26.511Z"
   },
   {
    "duration": 7218,
    "start_time": "2021-10-13T14:28:27.387Z"
   },
   {
    "duration": -517,
    "start_time": "2021-10-13T14:28:35.124Z"
   },
   {
    "duration": -525,
    "start_time": "2021-10-13T14:28:35.133Z"
   },
   {
    "duration": 41,
    "start_time": "2021-10-13T14:28:45.615Z"
   },
   {
    "duration": 116,
    "start_time": "2021-10-13T14:28:50.919Z"
   },
   {
    "duration": 42,
    "start_time": "2021-10-13T14:28:52.233Z"
   },
   {
    "duration": 5684,
    "start_time": "2021-10-13T14:30:49.767Z"
   },
   {
    "duration": 87,
    "start_time": "2021-10-13T14:31:24.825Z"
   },
   {
    "duration": 8,
    "start_time": "2021-10-13T14:31:27.535Z"
   },
   {
    "duration": 5261,
    "start_time": "2021-10-13T14:32:11.719Z"
   },
   {
    "duration": -585,
    "start_time": "2021-10-13T14:32:17.567Z"
   },
   {
    "duration": 125,
    "start_time": "2021-10-13T14:32:17.831Z"
   },
   {
    "duration": 4,
    "start_time": "2021-10-13T14:32:19.194Z"
   },
   {
    "duration": 5473,
    "start_time": "2021-10-13T14:33:01.377Z"
   },
   {
    "duration": -588,
    "start_time": "2021-10-13T14:33:07.441Z"
   },
   {
    "duration": 101,
    "start_time": "2021-10-13T14:33:13.059Z"
   },
   {
    "duration": 94,
    "start_time": "2021-10-13T14:33:18.754Z"
   },
   {
    "duration": 5,
    "start_time": "2021-10-13T14:33:20.553Z"
   },
   {
    "duration": 240,
    "start_time": "2021-10-13T14:33:41.813Z"
   },
   {
    "duration": 91,
    "start_time": "2021-10-13T14:33:48.141Z"
   },
   {
    "duration": 164,
    "start_time": "2021-10-13T14:33:49.544Z"
   },
   {
    "duration": 9,
    "start_time": "2021-10-13T14:34:00.131Z"
   },
   {
    "duration": 163,
    "start_time": "2021-10-13T14:34:46.394Z"
   },
   {
    "duration": 5597,
    "start_time": "2021-10-13T14:35:11.549Z"
   },
   {
    "duration": 92,
    "start_time": "2021-10-13T14:35:27.061Z"
   },
   {
    "duration": 451,
    "start_time": "2021-10-13T14:35:30.416Z"
   },
   {
    "duration": 185,
    "start_time": "2021-10-13T14:35:43.246Z"
   },
   {
    "duration": 67,
    "start_time": "2021-10-13T14:36:05.003Z"
   },
   {
    "duration": 297,
    "start_time": "2021-10-13T14:36:07.547Z"
   },
   {
    "duration": 3,
    "start_time": "2021-10-13T14:37:11.904Z"
   },
   {
    "duration": 188,
    "start_time": "2021-10-13T14:37:24.038Z"
   },
   {
    "duration": 175,
    "start_time": "2021-10-13T14:37:56.641Z"
   },
   {
    "duration": 68,
    "start_time": "2021-10-13T14:38:06.176Z"
   },
   {
    "duration": 180,
    "start_time": "2021-10-13T14:38:08.183Z"
   },
   {
    "duration": 200,
    "start_time": "2021-10-13T14:38:32.675Z"
   },
   {
    "duration": 377,
    "start_time": "2021-10-13T14:40:17.941Z"
   },
   {
    "duration": 144,
    "start_time": "2021-10-13T14:40:46.474Z"
   },
   {
    "duration": -489,
    "start_time": "2021-10-13T14:51:56.531Z"
   },
   {
    "duration": 5558,
    "start_time": "2021-10-13T14:52:05.575Z"
   },
   {
    "duration": 6243,
    "start_time": "2021-10-13T14:52:27.684Z"
   },
   {
    "duration": 104,
    "start_time": "2021-10-13T14:52:58.417Z"
   },
   {
    "duration": 94,
    "start_time": "2021-10-13T14:52:59.138Z"
   },
   {
    "duration": 144,
    "start_time": "2021-10-13T14:52:59.969Z"
   },
   {
    "duration": 153,
    "start_time": "2021-10-13T14:53:00.660Z"
   },
   {
    "duration": 168,
    "start_time": "2021-10-13T14:53:20.050Z"
   },
   {
    "duration": 171,
    "start_time": "2021-10-13T14:53:22.062Z"
   },
   {
    "duration": 39,
    "start_time": "2021-10-13T14:56:32.067Z"
   },
   {
    "duration": 20,
    "start_time": "2021-10-13T14:56:38.501Z"
   },
   {
    "duration": 68,
    "start_time": "2021-10-13T14:57:00.412Z"
   },
   {
    "duration": 237,
    "start_time": "2021-10-13T14:57:03.648Z"
   },
   {
    "duration": 110,
    "start_time": "2021-10-13T14:57:12.088Z"
   },
   {
    "duration": 17,
    "start_time": "2021-10-13T14:57:25.207Z"
   },
   {
    "duration": 111,
    "start_time": "2021-10-13T14:57:34.364Z"
   },
   {
    "duration": 13,
    "start_time": "2021-10-13T14:57:36.378Z"
   },
   {
    "duration": 222,
    "start_time": "2021-10-13T14:58:10.533Z"
   },
   {
    "duration": 881,
    "start_time": "2021-10-13T14:58:18.844Z"
   },
   {
    "duration": 123,
    "start_time": "2021-10-13T14:58:38.705Z"
   },
   {
    "duration": 3,
    "start_time": "2021-10-13T14:58:39.434Z"
   },
   {
    "duration": 16,
    "start_time": "2021-10-13T14:58:44.590Z"
   },
   {
    "duration": 8,
    "start_time": "2021-10-13T14:59:31.830Z"
   },
   {
    "duration": 15,
    "start_time": "2021-10-13T14:59:37.098Z"
   },
   {
    "duration": 4,
    "start_time": "2021-10-13T15:00:33.848Z"
   },
   {
    "duration": 174,
    "start_time": "2021-10-13T15:01:43.096Z"
   },
   {
    "duration": 408,
    "start_time": "2021-10-13T15:03:05.836Z"
   },
   {
    "duration": 171,
    "start_time": "2021-10-13T15:03:25.578Z"
   },
   {
    "duration": 165,
    "start_time": "2021-10-13T15:03:31.487Z"
   },
   {
    "duration": 158,
    "start_time": "2021-10-13T15:03:37.109Z"
   },
   {
    "duration": 249,
    "start_time": "2021-10-13T15:05:20.373Z"
   },
   {
    "duration": 22,
    "start_time": "2021-10-13T15:05:30.161Z"
   },
   {
    "duration": 411,
    "start_time": "2021-10-13T15:09:10.413Z"
   },
   {
    "duration": 19,
    "start_time": "2021-10-13T15:09:12.196Z"
   },
   {
    "duration": 244,
    "start_time": "2021-10-13T15:09:17.521Z"
   },
   {
    "duration": 7,
    "start_time": "2021-10-13T15:09:31.250Z"
   },
   {
    "duration": 189,
    "start_time": "2021-10-13T15:09:43.663Z"
   },
   {
    "duration": 209,
    "start_time": "2021-10-13T15:09:48.573Z"
   },
   {
    "duration": 194,
    "start_time": "2021-10-13T15:09:55.347Z"
   },
   {
    "duration": 254,
    "start_time": "2021-10-13T15:10:01.654Z"
   },
   {
    "duration": 7,
    "start_time": "2021-10-13T15:10:21.350Z"
   },
   {
    "duration": 536,
    "start_time": "2021-10-13T15:11:42.341Z"
   },
   {
    "duration": 203,
    "start_time": "2021-10-13T15:11:58.424Z"
   },
   {
    "duration": 94,
    "start_time": "2021-10-13T15:25:20.775Z"
   },
   {
    "duration": 6,
    "start_time": "2021-10-13T15:25:27.198Z"
   },
   {
    "duration": 3,
    "start_time": "2021-10-13T15:25:54.373Z"
   },
   {
    "duration": 5,
    "start_time": "2021-10-13T15:25:58.236Z"
   },
   {
    "duration": 80,
    "start_time": "2021-10-13T15:26:10.282Z"
   },
   {
    "duration": 3,
    "start_time": "2021-10-13T15:26:11.889Z"
   },
   {
    "duration": 7,
    "start_time": "2021-10-13T15:26:12.907Z"
   },
   {
    "duration": 20,
    "start_time": "2021-10-13T15:26:44.318Z"
   },
   {
    "duration": 92,
    "start_time": "2021-10-13T15:27:25.914Z"
   },
   {
    "duration": 21,
    "start_time": "2021-10-13T15:27:28.885Z"
   },
   {
    "duration": 882,
    "start_time": "2021-10-13T15:32:05.117Z"
   },
   {
    "duration": 877,
    "start_time": "2021-10-13T15:32:59.206Z"
   },
   {
    "duration": 293,
    "start_time": "2021-10-13T15:33:10.306Z"
   },
   {
    "duration": 802,
    "start_time": "2021-10-13T15:33:57.173Z"
   },
   {
    "duration": 54,
    "start_time": "2021-10-13T15:34:05.538Z"
   },
   {
    "duration": 23,
    "start_time": "2021-10-13T15:34:09.657Z"
   },
   {
    "duration": 99,
    "start_time": "2021-10-13T15:36:21.262Z"
   },
   {
    "duration": 24,
    "start_time": "2021-10-13T15:36:22.694Z"
   },
   {
    "duration": 4987,
    "start_time": "2021-10-13T15:36:52.885Z"
   },
   {
    "duration": 247,
    "start_time": "2021-10-13T15:37:06.338Z"
   },
   {
    "duration": 3,
    "start_time": "2021-10-13T15:37:22.672Z"
   },
   {
    "duration": 14,
    "start_time": "2021-10-13T15:37:25.682Z"
   },
   {
    "duration": 24,
    "start_time": "2021-10-13T15:37:28.755Z"
   },
   {
    "duration": 5,
    "start_time": "2021-10-13T15:37:43.746Z"
   },
   {
    "duration": 5,
    "start_time": "2021-10-13T15:37:47.327Z"
   },
   {
    "duration": 212,
    "start_time": "2021-10-13T15:38:38.355Z"
   },
   {
    "duration": 186,
    "start_time": "2021-10-13T15:38:41.141Z"
   },
   {
    "duration": 11,
    "start_time": "2021-10-13T15:38:46.149Z"
   },
   {
    "duration": 8,
    "start_time": "2021-10-13T15:39:20.498Z"
   },
   {
    "duration": 220,
    "start_time": "2021-10-13T15:39:23.389Z"
   },
   {
    "duration": 7,
    "start_time": "2021-10-13T15:39:29.811Z"
   },
   {
    "duration": 9,
    "start_time": "2021-10-13T15:39:37.003Z"
   },
   {
    "duration": 5,
    "start_time": "2021-10-13T15:39:58.832Z"
   },
   {
    "duration": 5,
    "start_time": "2021-10-13T15:40:03.060Z"
   },
   {
    "duration": 10,
    "start_time": "2021-10-13T15:40:10.266Z"
   },
   {
    "duration": 21,
    "start_time": "2021-10-13T15:40:22.842Z"
   },
   {
    "duration": 12,
    "start_time": "2021-10-13T15:40:26.329Z"
   },
   {
    "duration": -665,
    "start_time": "2021-10-13T16:00:32.837Z"
   },
   {
    "duration": 14,
    "start_time": "2021-10-13T16:00:36.135Z"
   },
   {
    "duration": 4,
    "start_time": "2021-10-13T16:00:37.677Z"
   },
   {
    "duration": 14,
    "start_time": "2021-10-13T16:00:38.599Z"
   },
   {
    "duration": 140,
    "start_time": "2021-10-13T16:01:15.581Z"
   },
   {
    "duration": 130,
    "start_time": "2021-10-13T16:01:19.012Z"
   },
   {
    "duration": 44,
    "start_time": "2021-10-13T16:01:31.514Z"
   },
   {
    "duration": 13,
    "start_time": "2021-10-13T16:02:58.026Z"
   },
   {
    "duration": 162,
    "start_time": "2021-10-13T16:02:58.939Z"
   },
   {
    "duration": 8,
    "start_time": "2021-10-13T16:02:59.588Z"
   },
   {
    "duration": 9,
    "start_time": "2021-10-13T16:03:00.255Z"
   },
   {
    "duration": 5,
    "start_time": "2021-10-13T16:03:00.950Z"
   },
   {
    "duration": 21,
    "start_time": "2021-10-13T16:03:01.619Z"
   },
   {
    "duration": 5,
    "start_time": "2021-10-13T16:03:02.305Z"
   },
   {
    "duration": 15,
    "start_time": "2021-10-13T16:03:02.881Z"
   },
   {
    "duration": 168,
    "start_time": "2021-10-13T16:03:03.631Z"
   },
   {
    "duration": 48,
    "start_time": "2021-10-13T16:03:04.554Z"
   },
   {
    "duration": 47,
    "start_time": "2021-10-13T16:03:05.667Z"
   },
   {
    "duration": 247,
    "start_time": "2021-10-13T16:04:28.498Z"
   },
   {
    "duration": 107,
    "start_time": "2021-10-13T16:04:40.789Z"
   },
   {
    "duration": 98,
    "start_time": "2021-10-13T16:04:46.073Z"
   },
   {
    "duration": 29,
    "start_time": "2021-10-13T16:04:49.789Z"
   },
   {
    "duration": 13,
    "start_time": "2021-10-13T16:04:56.803Z"
   },
   {
    "duration": 164,
    "start_time": "2021-10-13T16:04:57.625Z"
   },
   {
    "duration": 10,
    "start_time": "2021-10-13T16:05:02.792Z"
   },
   {
    "duration": 72,
    "start_time": "2021-10-13T16:05:05.036Z"
   },
   {
    "duration": 157,
    "start_time": "2021-10-13T16:05:07.560Z"
   },
   {
    "duration": 7,
    "start_time": "2021-10-13T16:05:08.264Z"
   },
   {
    "duration": 9,
    "start_time": "2021-10-13T16:05:09.222Z"
   },
   {
    "duration": 4,
    "start_time": "2021-10-13T16:05:10.127Z"
   },
   {
    "duration": 22,
    "start_time": "2021-10-13T16:05:15.637Z"
   },
   {
    "duration": 5,
    "start_time": "2021-10-13T16:05:16.613Z"
   },
   {
    "duration": 13,
    "start_time": "2021-10-13T16:05:17.403Z"
   },
   {
    "duration": 175,
    "start_time": "2021-10-13T16:05:23.533Z"
   },
   {
    "duration": 49,
    "start_time": "2021-10-13T16:05:26.514Z"
   },
   {
    "duration": 221,
    "start_time": "2021-10-13T16:05:35.692Z"
   },
   {
    "duration": 7091,
    "start_time": "2021-10-13T16:06:08.460Z"
   },
   {
    "duration": 14,
    "start_time": "2021-10-13T16:16:45.906Z"
   },
   {
    "duration": 153,
    "start_time": "2021-10-13T16:16:50.463Z"
   },
   {
    "duration": 8,
    "start_time": "2021-10-13T16:16:51.153Z"
   },
   {
    "duration": 9,
    "start_time": "2021-10-13T16:16:51.808Z"
   },
   {
    "duration": 5,
    "start_time": "2021-10-13T16:16:52.478Z"
   },
   {
    "duration": 20,
    "start_time": "2021-10-13T16:16:53.138Z"
   },
   {
    "duration": 4,
    "start_time": "2021-10-13T16:16:53.777Z"
   },
   {
    "duration": 13,
    "start_time": "2021-10-13T16:16:54.398Z"
   },
   {
    "duration": 126,
    "start_time": "2021-10-13T16:16:54.990Z"
   },
   {
    "duration": 3693,
    "start_time": "2021-10-13T16:16:55.642Z"
   },
   {
    "duration": 98,
    "start_time": "2021-10-13T16:17:30.187Z"
   },
   {
    "duration": 27,
    "start_time": "2021-10-13T16:17:30.823Z"
   },
   {
    "duration": 13,
    "start_time": "2021-10-13T16:17:31.532Z"
   },
   {
    "duration": 160,
    "start_time": "2021-10-13T16:17:32.070Z"
   },
   {
    "duration": 8,
    "start_time": "2021-10-13T16:17:32.704Z"
   },
   {
    "duration": 212,
    "start_time": "2021-10-13T16:17:33.315Z"
   },
   {
    "duration": 4,
    "start_time": "2021-10-13T16:17:33.942Z"
   },
   {
    "duration": 214,
    "start_time": "2021-10-13T16:17:34.646Z"
   },
   {
    "duration": 204,
    "start_time": "2021-10-13T16:17:38.437Z"
   },
   {
    "duration": 28,
    "start_time": "2021-10-13T16:17:46.762Z"
   },
   {
    "duration": 94,
    "start_time": "2021-10-13T16:17:47.577Z"
   },
   {
    "duration": 24,
    "start_time": "2021-10-13T16:17:48.321Z"
   },
   {
    "duration": 12,
    "start_time": "2021-10-13T16:17:49.085Z"
   },
   {
    "duration": 160,
    "start_time": "2021-10-13T16:17:49.822Z"
   },
   {
    "duration": 9,
    "start_time": "2021-10-13T16:17:50.631Z"
   },
   {
    "duration": 229,
    "start_time": "2021-10-13T16:17:51.338Z"
   },
   {
    "duration": 4,
    "start_time": "2021-10-13T16:17:52.153Z"
   },
   {
    "duration": 238,
    "start_time": "2021-10-13T16:17:53.021Z"
   },
   {
    "duration": 8,
    "start_time": "2021-10-13T16:17:59.935Z"
   },
   {
    "duration": 4,
    "start_time": "2021-10-13T16:18:01.214Z"
   },
   {
    "duration": 20,
    "start_time": "2021-10-13T16:18:02.053Z"
   },
   {
    "duration": 4,
    "start_time": "2021-10-13T16:18:04.416Z"
   },
   {
    "duration": 13,
    "start_time": "2021-10-13T16:18:05.239Z"
   },
   {
    "duration": 217,
    "start_time": "2021-10-13T16:18:05.793Z"
   },
   {
    "duration": 3739,
    "start_time": "2021-10-13T16:18:06.436Z"
   },
   {
    "duration": 634,
    "start_time": "2021-10-13T16:18:10.177Z"
   },
   {
    "duration": -493,
    "start_time": "2021-10-13T16:18:11.306Z"
   },
   {
    "duration": 232,
    "start_time": "2021-10-13T16:18:13.204Z"
   },
   {
    "duration": 123,
    "start_time": "2021-10-13T16:18:19.388Z"
   },
   {
    "duration": 3768,
    "start_time": "2021-10-13T16:18:20.077Z"
   },
   {
    "duration": 13,
    "start_time": "2021-10-13T16:18:42.812Z"
   },
   {
    "duration": 146,
    "start_time": "2021-10-13T16:18:43.695Z"
   },
   {
    "duration": 8,
    "start_time": "2021-10-13T16:18:44.560Z"
   },
   {
    "duration": 8,
    "start_time": "2021-10-13T16:18:45.281Z"
   },
   {
    "duration": 4,
    "start_time": "2021-10-13T16:18:46.066Z"
   },
   {
    "duration": 18,
    "start_time": "2021-10-13T16:18:46.922Z"
   },
   {
    "duration": 4,
    "start_time": "2021-10-13T16:18:47.626Z"
   },
   {
    "duration": 13,
    "start_time": "2021-10-13T16:18:48.335Z"
   },
   {
    "duration": 77,
    "start_time": "2021-10-13T16:18:48.973Z"
   },
   {
    "duration": 1189,
    "start_time": "2021-10-13T16:18:49.850Z"
   },
   {
    "duration": 12,
    "start_time": "2021-10-13T16:19:10.944Z"
   },
   {
    "duration": 159,
    "start_time": "2021-10-13T16:19:11.723Z"
   },
   {
    "duration": 8,
    "start_time": "2021-10-13T16:19:12.495Z"
   },
   {
    "duration": 9,
    "start_time": "2021-10-13T16:19:14.170Z"
   },
   {
    "duration": 5,
    "start_time": "2021-10-13T16:19:14.906Z"
   },
   {
    "duration": 20,
    "start_time": "2021-10-13T16:19:15.653Z"
   },
   {
    "duration": 4,
    "start_time": "2021-10-13T16:19:16.462Z"
   },
   {
    "duration": 12,
    "start_time": "2021-10-13T16:19:17.134Z"
   },
   {
    "duration": 128,
    "start_time": "2021-10-13T16:19:17.831Z"
   },
   {
    "duration": 3666,
    "start_time": "2021-10-13T16:19:18.577Z"
   },
   {
    "duration": 1468,
    "start_time": "2021-10-14T14:49:19.374Z"
   },
   {
    "duration": 867,
    "start_time": "2021-10-14T14:49:20.845Z"
   },
   {
    "duration": 223,
    "start_time": "2021-10-14T14:49:21.716Z"
   },
   {
    "duration": 4,
    "start_time": "2021-10-14T14:49:22.783Z"
   },
   {
    "duration": 247,
    "start_time": "2021-10-14T14:49:23.527Z"
   },
   {
    "duration": 43,
    "start_time": "2021-10-14T14:49:24.040Z"
   },
   {
    "duration": 4,
    "start_time": "2021-10-14T14:49:24.616Z"
   },
   {
    "duration": 18,
    "start_time": "2021-10-14T14:49:24.997Z"
   },
   {
    "duration": 34,
    "start_time": "2021-10-14T14:49:25.360Z"
   },
   {
    "duration": 6,
    "start_time": "2021-10-14T14:49:25.483Z"
   },
   {
    "duration": 53,
    "start_time": "2021-10-14T14:49:27.380Z"
   },
   {
    "duration": 55,
    "start_time": "2021-10-14T14:49:27.904Z"
   },
   {
    "duration": 63,
    "start_time": "2021-10-14T14:49:28.055Z"
   },
   {
    "duration": 174,
    "start_time": "2021-10-14T14:49:28.181Z"
   },
   {
    "duration": 58,
    "start_time": "2021-10-14T14:49:28.362Z"
   },
   {
    "duration": 148,
    "start_time": "2021-10-14T14:49:28.504Z"
   },
   {
    "duration": 147,
    "start_time": "2021-10-14T14:49:29.312Z"
   },
   {
    "duration": 130,
    "start_time": "2021-10-14T14:49:29.461Z"
   },
   {
    "duration": 354,
    "start_time": "2021-10-14T14:49:29.647Z"
   },
   {
    "duration": 262,
    "start_time": "2021-10-14T14:49:41.439Z"
   },
   {
    "duration": 301,
    "start_time": "2021-10-14T14:50:51.247Z"
   },
   {
    "duration": 6,
    "start_time": "2021-10-14T14:52:32.603Z"
   },
   {
    "duration": 4,
    "start_time": "2021-10-14T14:52:48.831Z"
   },
   {
    "duration": 263,
    "start_time": "2021-10-14T14:54:34.977Z"
   },
   {
    "duration": 282,
    "start_time": "2021-10-14T14:54:36.352Z"
   },
   {
    "duration": 130,
    "start_time": "2021-10-14T14:54:39.142Z"
   },
   {
    "duration": 4,
    "start_time": "2021-10-14T14:54:39.850Z"
   },
   {
    "duration": 11,
    "start_time": "2021-10-14T14:54:40.503Z"
   },
   {
    "duration": 23,
    "start_time": "2021-10-14T14:54:41.274Z"
   },
   {
    "duration": 286,
    "start_time": "2021-10-14T14:54:41.880Z"
   },
   {
    "duration": 23,
    "start_time": "2021-10-14T14:54:44.591Z"
   },
   {
    "duration": 459,
    "start_time": "2021-10-14T14:54:45.259Z"
   },
   {
    "duration": 11,
    "start_time": "2021-10-14T14:54:45.919Z"
   },
   {
    "duration": 391,
    "start_time": "2021-10-14T14:54:54.105Z"
   },
   {
    "duration": 126,
    "start_time": "2021-10-14T14:54:57.028Z"
   },
   {
    "duration": 605,
    "start_time": "2021-10-14T14:54:57.157Z"
   },
   {
    "duration": -506,
    "start_time": "2021-10-14T14:54:58.271Z"
   },
   {
    "duration": 8451,
    "start_time": "2021-10-14T14:54:58.029Z"
   },
   {
    "duration": -679,
    "start_time": "2021-10-14T14:55:07.162Z"
   },
   {
    "duration": 116,
    "start_time": "2021-10-14T14:55:18.877Z"
   },
   {
    "duration": 432,
    "start_time": "2021-10-14T14:55:21.097Z"
   },
   {
    "duration": 4,
    "start_time": "2021-10-14T14:55:33.097Z"
   },
   {
    "duration": 4,
    "start_time": "2021-10-14T14:55:33.237Z"
   },
   {
    "duration": 796,
    "start_time": "2021-10-14T14:55:33.425Z"
   },
   {
    "duration": 122,
    "start_time": "2021-10-14T14:55:34.224Z"
   },
   {
    "duration": 14,
    "start_time": "2021-10-14T14:55:34.348Z"
   },
   {
    "duration": 231,
    "start_time": "2021-10-14T14:55:34.372Z"
   },
   {
    "duration": 37,
    "start_time": "2021-10-14T14:55:34.683Z"
   },
   {
    "duration": 4,
    "start_time": "2021-10-14T14:55:34.990Z"
   },
   {
    "duration": 19,
    "start_time": "2021-10-14T14:55:35.279Z"
   },
   {
    "duration": 29,
    "start_time": "2021-10-14T14:55:35.589Z"
   },
   {
    "duration": 6,
    "start_time": "2021-10-14T14:55:35.904Z"
   },
   {
    "duration": 52,
    "start_time": "2021-10-14T14:55:37.764Z"
   },
   {
    "duration": 53,
    "start_time": "2021-10-14T14:55:38.102Z"
   },
   {
    "duration": 60,
    "start_time": "2021-10-14T14:55:38.330Z"
   },
   {
    "duration": 169,
    "start_time": "2021-10-14T14:55:38.566Z"
   },
   {
    "duration": 53,
    "start_time": "2021-10-14T14:55:38.814Z"
   },
   {
    "duration": 146,
    "start_time": "2021-10-14T14:55:39.068Z"
   },
   {
    "duration": 150,
    "start_time": "2021-10-14T14:55:39.343Z"
   },
   {
    "duration": 111,
    "start_time": "2021-10-14T14:55:39.613Z"
   },
   {
    "duration": 258,
    "start_time": "2021-10-14T14:55:39.860Z"
   },
   {
    "duration": 268,
    "start_time": "2021-10-14T14:55:40.121Z"
   },
   {
    "duration": 278,
    "start_time": "2021-10-14T14:55:40.392Z"
   },
   {
    "duration": 125,
    "start_time": "2021-10-14T14:55:41.189Z"
   },
   {
    "duration": 4,
    "start_time": "2021-10-14T14:55:42.272Z"
   },
   {
    "duration": 5,
    "start_time": "2021-10-14T14:55:42.945Z"
   },
   {
    "duration": 25,
    "start_time": "2021-10-14T14:55:43.306Z"
   },
   {
    "duration": 263,
    "start_time": "2021-10-14T14:55:43.450Z"
   },
   {
    "duration": 22,
    "start_time": "2021-10-14T14:55:44.636Z"
   },
   {
    "duration": 420,
    "start_time": "2021-10-14T14:55:45.356Z"
   },
   {
    "duration": 11,
    "start_time": "2021-10-14T14:55:46.237Z"
   },
   {
    "duration": 322,
    "start_time": "2021-10-14T14:55:47.042Z"
   },
   {
    "duration": 126,
    "start_time": "2021-10-14T14:55:48.167Z"
   },
   {
    "duration": 510,
    "start_time": "2021-10-14T14:55:48.296Z"
   },
   {
    "duration": -536,
    "start_time": "2021-10-14T14:55:49.344Z"
   },
   {
    "duration": 258,
    "start_time": "2021-10-14T14:57:31.530Z"
   },
   {
    "duration": 34,
    "start_time": "2021-10-14T14:57:33.307Z"
   },
   {
    "duration": 107,
    "start_time": "2021-10-14T14:58:28.587Z"
   },
   {
    "duration": 40,
    "start_time": "2021-10-14T14:58:30.506Z"
   },
   {
    "duration": 145,
    "start_time": "2021-10-14T14:58:36.794Z"
   },
   {
    "duration": 1127,
    "start_time": "2021-10-14T14:58:37.424Z"
   },
   {
    "duration": 308,
    "start_time": "2021-10-14T14:58:57.669Z"
   },
   {
    "duration": 95,
    "start_time": "2021-10-14T14:58:59.412Z"
   },
   {
    "duration": 425,
    "start_time": "2021-10-14T14:59:00.057Z"
   },
   {
    "duration": 106,
    "start_time": "2021-10-14T15:00:07.149Z"
   },
   {
    "duration": 37,
    "start_time": "2021-10-14T15:00:09.073Z"
   },
   {
    "duration": 1445,
    "start_time": "2021-10-14T15:00:26.485Z"
   },
   {
    "duration": 3,
    "start_time": "2021-10-14T15:00:29.014Z"
   },
   {
    "duration": 819,
    "start_time": "2021-10-14T15:00:29.701Z"
   },
   {
    "duration": 160,
    "start_time": "2021-10-14T15:00:30.522Z"
   },
   {
    "duration": 5,
    "start_time": "2021-10-14T15:00:30.983Z"
   },
   {
    "duration": 242,
    "start_time": "2021-10-14T15:00:31.698Z"
   },
   {
    "duration": 39,
    "start_time": "2021-10-14T15:00:32.264Z"
   },
   {
    "duration": 4,
    "start_time": "2021-10-14T15:00:33.045Z"
   },
   {
    "duration": 18,
    "start_time": "2021-10-14T15:00:33.560Z"
   },
   {
    "duration": 31,
    "start_time": "2021-10-14T15:00:34.063Z"
   },
   {
    "duration": 7,
    "start_time": "2021-10-14T15:00:34.130Z"
   },
   {
    "duration": 57,
    "start_time": "2021-10-14T15:00:34.911Z"
   },
   {
    "duration": 57,
    "start_time": "2021-10-14T15:00:35.057Z"
   },
   {
    "duration": 60,
    "start_time": "2021-10-14T15:00:35.195Z"
   },
   {
    "duration": 170,
    "start_time": "2021-10-14T15:00:35.327Z"
   },
   {
    "duration": 63,
    "start_time": "2021-10-14T15:00:35.499Z"
   },
   {
    "duration": 154,
    "start_time": "2021-10-14T15:00:35.612Z"
   },
   {
    "duration": 165,
    "start_time": "2021-10-14T15:00:35.768Z"
   },
   {
    "duration": 119,
    "start_time": "2021-10-14T15:00:35.936Z"
   },
   {
    "duration": 267,
    "start_time": "2021-10-14T15:00:36.057Z"
   },
   {
    "duration": 296,
    "start_time": "2021-10-14T15:00:36.327Z"
   },
   {
    "duration": 288,
    "start_time": "2021-10-14T15:00:36.625Z"
   },
   {
    "duration": 140,
    "start_time": "2021-10-14T15:00:36.916Z"
   },
   {
    "duration": 4,
    "start_time": "2021-10-14T15:00:37.061Z"
   },
   {
    "duration": 13,
    "start_time": "2021-10-14T15:00:37.067Z"
   },
   {
    "duration": 25,
    "start_time": "2021-10-14T15:00:37.169Z"
   },
   {
    "duration": 256,
    "start_time": "2021-10-14T15:00:37.332Z"
   },
   {
    "duration": 23,
    "start_time": "2021-10-14T15:00:39.082Z"
   },
   {
    "duration": 441,
    "start_time": "2021-10-14T15:00:39.326Z"
   },
   {
    "duration": 12,
    "start_time": "2021-10-14T15:00:41.122Z"
   },
   {
    "duration": 330,
    "start_time": "2021-10-14T15:00:41.513Z"
   },
   {
    "duration": 128,
    "start_time": "2021-10-14T15:00:42.784Z"
   },
   {
    "duration": 564,
    "start_time": "2021-10-14T15:00:43.830Z"
   },
   {
    "duration": 122,
    "start_time": "2021-10-14T15:04:49.191Z"
   },
   {
    "duration": 132,
    "start_time": "2021-10-14T15:04:52.755Z"
   },
   {
    "duration": 35,
    "start_time": "2021-10-14T15:04:55.771Z"
   },
   {
    "duration": 138,
    "start_time": "2021-10-14T15:08:04.224Z"
   },
   {
    "duration": 34,
    "start_time": "2021-10-14T15:08:05.190Z"
   },
   {
    "duration": 8999,
    "start_time": "2021-10-14T15:08:06.235Z"
   },
   {
    "duration": -636,
    "start_time": "2021-10-14T15:08:15.874Z"
   },
   {
    "duration": -638,
    "start_time": "2021-10-14T15:08:15.877Z"
   },
   {
    "duration": -657,
    "start_time": "2021-10-14T15:08:15.898Z"
   },
   {
    "duration": -661,
    "start_time": "2021-10-14T15:08:15.903Z"
   },
   {
    "duration": -663,
    "start_time": "2021-10-14T15:08:15.907Z"
   },
   {
    "duration": -666,
    "start_time": "2021-10-14T15:08:15.911Z"
   },
   {
    "duration": -668,
    "start_time": "2021-10-14T15:08:15.915Z"
   },
   {
    "duration": -672,
    "start_time": "2021-10-14T15:08:15.921Z"
   },
   {
    "duration": -676,
    "start_time": "2021-10-14T15:08:15.926Z"
   },
   {
    "duration": 8441,
    "start_time": "2021-10-14T15:08:39.661Z"
   },
   {
    "duration": 7523,
    "start_time": "2021-10-14T15:09:21.038Z"
   },
   {
    "duration": 15,
    "start_time": "2021-10-14T15:10:07.172Z"
   },
   {
    "duration": 476,
    "start_time": "2021-10-14T15:10:11.665Z"
   },
   {
    "duration": 309,
    "start_time": "2021-10-14T15:10:25.912Z"
   },
   {
    "duration": 205,
    "start_time": "2021-10-14T15:10:43.124Z"
   },
   {
    "duration": 13,
    "start_time": "2021-10-14T15:10:45.156Z"
   },
   {
    "duration": 316,
    "start_time": "2021-10-14T15:10:49.781Z"
   },
   {
    "duration": 354,
    "start_time": "2021-10-14T15:10:50.658Z"
   },
   {
    "duration": 316,
    "start_time": "2021-10-14T15:11:08.399Z"
   },
   {
    "duration": 315,
    "start_time": "2021-10-14T15:11:10.390Z"
   },
   {
    "duration": 334,
    "start_time": "2021-10-14T15:11:30.776Z"
   },
   {
    "duration": 8,
    "start_time": "2021-10-14T15:11:40.242Z"
   },
   {
    "duration": 5,
    "start_time": "2021-10-14T15:11:42.352Z"
   },
   {
    "duration": 438,
    "start_time": "2021-10-14T15:11:45.176Z"
   },
   {
    "duration": -504,
    "start_time": "2021-10-14T15:11:54.056Z"
   },
   {
    "duration": -535,
    "start_time": "2021-10-14T15:11:54.088Z"
   },
   {
    "duration": 14,
    "start_time": "2021-10-14T15:11:53.586Z"
   },
   {
    "duration": 335,
    "start_time": "2021-10-14T15:11:54.616Z"
   },
   {
    "duration": 31,
    "start_time": "2021-10-14T15:11:57.107Z"
   },
   {
    "duration": 5,
    "start_time": "2021-10-14T15:11:57.843Z"
   },
   {
    "duration": 24,
    "start_time": "2021-10-14T15:11:58.860Z"
   },
   {
    "duration": 316,
    "start_time": "2021-10-14T15:11:59.630Z"
   },
   {
    "duration": 307,
    "start_time": "2021-10-14T15:12:00.387Z"
   },
   {
    "duration": 191,
    "start_time": "2021-10-14T15:12:08.271Z"
   },
   {
    "duration": 6096,
    "start_time": "2021-10-14T15:12:10.750Z"
   },
   {
    "duration": 6012,
    "start_time": "2021-10-14T15:12:25.524Z"
   },
   {
    "duration": 438,
    "start_time": "2021-10-14T20:37:15.720Z"
   },
   {
    "duration": 40,
    "start_time": "2021-10-14T20:38:40.137Z"
   },
   {
    "duration": 148,
    "start_time": "2021-10-14T20:42:07.291Z"
   },
   {
    "duration": 44,
    "start_time": "2021-10-14T20:42:16.464Z"
   },
   {
    "duration": 6,
    "start_time": "2021-10-14T20:42:33.564Z"
   },
   {
    "duration": 153,
    "start_time": "2021-10-14T20:42:39.596Z"
   },
   {
    "duration": 42,
    "start_time": "2021-10-14T20:42:42.150Z"
   },
   {
    "duration": 151,
    "start_time": "2021-10-14T20:43:37.294Z"
   },
   {
    "duration": 45,
    "start_time": "2021-10-14T20:43:41.369Z"
   },
   {
    "duration": 6,
    "start_time": "2021-10-14T20:43:55.651Z"
   },
   {
    "duration": 314,
    "start_time": "2021-10-14T20:44:38.735Z"
   },
   {
    "duration": 300,
    "start_time": "2021-10-14T20:44:56.511Z"
   },
   {
    "duration": 25,
    "start_time": "2021-10-14T20:45:00.281Z"
   },
   {
    "duration": 31,
    "start_time": "2021-10-14T20:45:04.961Z"
   },
   {
    "duration": 29,
    "start_time": "2021-10-14T20:45:10.201Z"
   },
   {
    "duration": 261,
    "start_time": "2021-10-14T20:46:03.472Z"
   },
   {
    "duration": 6,
    "start_time": "2021-10-14T20:46:05.063Z"
   },
   {
    "duration": 307,
    "start_time": "2021-10-14T20:46:13.861Z"
   },
   {
    "duration": 867,
    "start_time": "2021-10-14T20:46:55.382Z"
   },
   {
    "duration": 1489,
    "start_time": "2021-10-14T20:47:29.965Z"
   },
   {
    "duration": 4,
    "start_time": "2021-10-14T20:47:32.928Z"
   },
   {
    "duration": 884,
    "start_time": "2021-10-14T20:47:33.520Z"
   },
   {
    "duration": 139,
    "start_time": "2021-10-14T20:47:34.407Z"
   },
   {
    "duration": 13,
    "start_time": "2021-10-14T20:47:34.549Z"
   },
   {
    "duration": 232,
    "start_time": "2021-10-14T20:47:34.950Z"
   },
   {
    "duration": 40,
    "start_time": "2021-10-14T20:47:35.386Z"
   },
   {
    "duration": 4,
    "start_time": "2021-10-14T20:47:35.850Z"
   },
   {
    "duration": 19,
    "start_time": "2021-10-14T20:47:36.198Z"
   },
   {
    "duration": 31,
    "start_time": "2021-10-14T20:47:36.441Z"
   },
   {
    "duration": 7,
    "start_time": "2021-10-14T20:47:37.203Z"
   },
   {
    "duration": 56,
    "start_time": "2021-10-14T20:47:39.384Z"
   },
   {
    "duration": 57,
    "start_time": "2021-10-14T20:47:39.984Z"
   },
   {
    "duration": 63,
    "start_time": "2021-10-14T20:47:40.122Z"
   },
   {
    "duration": 199,
    "start_time": "2021-10-14T20:47:40.248Z"
   },
   {
    "duration": 61,
    "start_time": "2021-10-14T20:47:40.450Z"
   },
   {
    "duration": 158,
    "start_time": "2021-10-14T20:47:40.539Z"
   },
   {
    "duration": 171,
    "start_time": "2021-10-14T20:47:40.700Z"
   },
   {
    "duration": 110,
    "start_time": "2021-10-14T20:47:40.885Z"
   },
   {
    "duration": 256,
    "start_time": "2021-10-14T20:47:41.771Z"
   },
   {
    "duration": 251,
    "start_time": "2021-10-14T20:47:42.393Z"
   },
   {
    "duration": 270,
    "start_time": "2021-10-14T20:47:42.878Z"
   },
   {
    "duration": 126,
    "start_time": "2021-10-14T20:47:44.136Z"
   },
   {
    "duration": 4,
    "start_time": "2021-10-14T20:47:44.265Z"
   },
   {
    "duration": 11,
    "start_time": "2021-10-14T20:47:44.417Z"
   },
   {
    "duration": 23,
    "start_time": "2021-10-14T20:47:44.558Z"
   },
   {
    "duration": 263,
    "start_time": "2021-10-14T20:47:44.779Z"
   },
   {
    "duration": 22,
    "start_time": "2021-10-14T20:47:45.697Z"
   },
   {
    "duration": 402,
    "start_time": "2021-10-14T20:47:45.935Z"
   },
   {
    "duration": 28,
    "start_time": "2021-10-14T20:47:46.341Z"
   },
   {
    "duration": 312,
    "start_time": "2021-10-14T20:47:46.443Z"
   },
   {
    "duration": 118,
    "start_time": "2021-10-14T20:47:46.952Z"
   },
   {
    "duration": 135,
    "start_time": "2021-10-14T20:47:47.073Z"
   },
   {
    "duration": 34,
    "start_time": "2021-10-14T20:47:47.248Z"
   },
   {
    "duration": 134,
    "start_time": "2021-10-14T20:47:47.415Z"
   },
   {
    "duration": 35,
    "start_time": "2021-10-14T20:47:47.601Z"
   },
   {
    "duration": 15,
    "start_time": "2021-10-14T20:47:47.779Z"
   },
   {
    "duration": 250,
    "start_time": "2021-10-14T20:47:47.975Z"
   },
   {
    "duration": 11,
    "start_time": "2021-10-14T20:47:48.227Z"
   },
   {
    "duration": 10,
    "start_time": "2021-10-14T20:47:48.385Z"
   },
   {
    "duration": 7,
    "start_time": "2021-10-14T20:47:48.593Z"
   },
   {
    "duration": 31,
    "start_time": "2021-10-14T20:47:48.798Z"
   },
   {
    "duration": 6,
    "start_time": "2021-10-14T20:47:49.012Z"
   },
   {
    "duration": 17,
    "start_time": "2021-10-14T20:47:49.225Z"
   },
   {
    "duration": 167,
    "start_time": "2021-10-14T20:47:49.397Z"
   },
   {
    "duration": 5620,
    "start_time": "2021-10-14T20:47:49.592Z"
   },
   {
    "duration": 434,
    "start_time": "2021-10-14T20:47:57.728Z"
   },
   {
    "duration": 301,
    "start_time": "2021-10-14T20:47:58.720Z"
   },
   {
    "duration": 17,
    "start_time": "2021-10-14T20:49:33.577Z"
   },
   {
    "duration": 68,
    "start_time": "2021-10-14T20:49:38.695Z"
   },
   {
    "duration": 8,
    "start_time": "2021-10-14T20:49:52.430Z"
   },
   {
    "duration": 17,
    "start_time": "2021-10-14T20:51:48.125Z"
   },
   {
    "duration": 905,
    "start_time": "2021-10-14T20:54:22.702Z"
   },
   {
    "duration": 206,
    "start_time": "2021-10-14T20:54:33.539Z"
   },
   {
    "duration": 755,
    "start_time": "2021-10-14T20:54:53.338Z"
   },
   {
    "duration": 209,
    "start_time": "2021-10-14T20:55:01.031Z"
   },
   {
    "duration": 194,
    "start_time": "2021-10-14T20:55:49.750Z"
   },
   {
    "duration": 12,
    "start_time": "2021-10-14T20:55:52.380Z"
   },
   {
    "duration": 10,
    "start_time": "2021-10-14T20:55:52.517Z"
   },
   {
    "duration": 196,
    "start_time": "2021-10-14T20:55:58.022Z"
   },
   {
    "duration": 11,
    "start_time": "2021-10-14T20:56:00.815Z"
   },
   {
    "duration": 498,
    "start_time": "2021-10-14T20:58:48.336Z"
   },
   {
    "duration": 178,
    "start_time": "2021-10-14T20:58:50.247Z"
   },
   {
    "duration": 296,
    "start_time": "2021-10-14T20:58:56.567Z"
   },
   {
    "duration": 15,
    "start_time": "2021-10-14T20:59:00.319Z"
   },
   {
    "duration": 6,
    "start_time": "2021-10-14T20:59:54.678Z"
   },
   {
    "duration": 270,
    "start_time": "2021-10-14T21:00:17.630Z"
   },
   {
    "duration": 7,
    "start_time": "2021-10-14T21:00:20.105Z"
   },
   {
    "duration": 13,
    "start_time": "2021-10-14T21:00:24.565Z"
   },
   {
    "duration": 13,
    "start_time": "2021-10-14T21:00:31.641Z"
   },
   {
    "duration": 6,
    "start_time": "2021-10-14T21:00:59.719Z"
   },
   {
    "duration": 15,
    "start_time": "2021-10-14T21:01:01.959Z"
   },
   {
    "duration": 15,
    "start_time": "2021-10-14T21:01:04.792Z"
   },
   {
    "duration": 173,
    "start_time": "2021-10-14T21:01:09.647Z"
   },
   {
    "duration": 14,
    "start_time": "2021-10-14T21:01:11.642Z"
   },
   {
    "duration": 6,
    "start_time": "2021-10-14T21:01:14.462Z"
   },
   {
    "duration": 15,
    "start_time": "2021-10-14T21:01:15.097Z"
   },
   {
    "duration": 7,
    "start_time": "2021-10-14T21:01:23.087Z"
   },
   {
    "duration": 14,
    "start_time": "2021-10-14T21:01:24.866Z"
   },
   {
    "duration": 7,
    "start_time": "2021-10-14T21:01:28.990Z"
   },
   {
    "duration": 13,
    "start_time": "2021-10-14T21:01:30.257Z"
   },
   {
    "duration": 7,
    "start_time": "2021-10-14T21:01:50.342Z"
   },
   {
    "duration": 7,
    "start_time": "2021-10-14T21:02:29.266Z"
   },
   {
    "duration": 16,
    "start_time": "2021-10-14T21:03:58.396Z"
   },
   {
    "duration": 8,
    "start_time": "2021-10-14T21:04:03.221Z"
   },
   {
    "duration": 13,
    "start_time": "2021-10-14T21:04:20.248Z"
   },
   {
    "duration": 8,
    "start_time": "2021-10-14T21:04:22.126Z"
   },
   {
    "duration": 4,
    "start_time": "2021-10-14T21:05:39.769Z"
   },
   {
    "duration": 6,
    "start_time": "2021-10-14T21:05:43.118Z"
   },
   {
    "duration": 16,
    "start_time": "2021-10-14T21:09:04.559Z"
   },
   {
    "duration": 11,
    "start_time": "2021-10-14T21:09:05.551Z"
   },
   {
    "duration": 15,
    "start_time": "2021-10-14T21:09:14.842Z"
   },
   {
    "duration": 7,
    "start_time": "2021-10-14T21:09:16.234Z"
   },
   {
    "duration": 14,
    "start_time": "2021-10-14T21:09:22.129Z"
   },
   {
    "duration": 7,
    "start_time": "2021-10-14T21:09:23.412Z"
   },
   {
    "duration": 316,
    "start_time": "2021-10-14T21:09:38.065Z"
   },
   {
    "duration": 14,
    "start_time": "2021-10-14T21:09:44.087Z"
   },
   {
    "duration": 19,
    "start_time": "2021-10-14T21:09:53.897Z"
   },
   {
    "duration": 10,
    "start_time": "2021-10-14T21:09:55.411Z"
   },
   {
    "duration": 8281,
    "start_time": "2021-10-14T21:11:48.279Z"
   },
   {
    "duration": 11,
    "start_time": "2021-10-14T21:12:08.402Z"
   },
   {
    "duration": 20,
    "start_time": "2021-10-14T21:12:26.657Z"
   },
   {
    "duration": 13,
    "start_time": "2021-10-14T21:12:33.065Z"
   },
   {
    "duration": 13,
    "start_time": "2021-10-14T21:12:43.416Z"
   },
   {
    "duration": 10,
    "start_time": "2021-10-14T21:12:50.532Z"
   },
   {
    "duration": 10,
    "start_time": "2021-10-14T21:13:06.365Z"
   },
   {
    "duration": 321,
    "start_time": "2021-10-14T21:13:35.740Z"
   },
   {
    "duration": 11,
    "start_time": "2021-10-14T21:14:02.977Z"
   },
   {
    "duration": 21,
    "start_time": "2021-10-14T21:14:03.639Z"
   },
   {
    "duration": 13,
    "start_time": "2021-10-14T21:14:04.203Z"
   },
   {
    "duration": 11,
    "start_time": "2021-10-14T21:14:04.871Z"
   },
   {
    "duration": 325,
    "start_time": "2021-10-14T21:14:05.551Z"
   },
   {
    "duration": 28,
    "start_time": "2021-10-14T21:14:16.796Z"
   },
   {
    "duration": 30,
    "start_time": "2021-10-14T21:14:20.683Z"
   },
   {
    "duration": 20,
    "start_time": "2021-10-14T21:14:22.786Z"
   },
   {
    "duration": 24,
    "start_time": "2021-10-14T21:14:24.517Z"
   },
   {
    "duration": 7473,
    "start_time": "2021-10-14T21:14:32.959Z"
   },
   {
    "duration": 19,
    "start_time": "2021-10-14T21:14:49.966Z"
   },
   {
    "duration": 17,
    "start_time": "2021-10-14T21:14:53.710Z"
   },
   {
    "duration": 3,
    "start_time": "2021-10-14T21:15:52.594Z"
   },
   {
    "duration": 10,
    "start_time": "2021-10-14T21:16:09.252Z"
   },
   {
    "duration": -919,
    "start_time": "2021-10-14T21:16:25.996Z"
   },
   {
    "duration": 6,
    "start_time": "2021-10-14T21:16:26.609Z"
   },
   {
    "duration": 6,
    "start_time": "2021-10-14T21:16:38.116Z"
   },
   {
    "duration": 22,
    "start_time": "2021-10-14T21:16:40.576Z"
   },
   {
    "duration": 278,
    "start_time": "2021-10-14T21:17:03.007Z"
   },
   {
    "duration": 270,
    "start_time": "2021-10-14T21:17:21.846Z"
   },
   {
    "duration": 24,
    "start_time": "2021-10-14T21:20:04.655Z"
   },
   {
    "duration": 5,
    "start_time": "2021-10-14T21:20:19.063Z"
   },
   {
    "duration": 556,
    "start_time": "2021-10-14T21:20:30.855Z"
   },
   {
    "duration": 548,
    "start_time": "2021-10-14T21:20:45.747Z"
   },
   {
    "duration": 550,
    "start_time": "2021-10-14T21:22:28.272Z"
   },
   {
    "duration": 483,
    "start_time": "2021-10-14T21:22:34.248Z"
   },
   {
    "duration": 280,
    "start_time": "2021-10-14T21:22:50.320Z"
   },
   {
    "duration": 282,
    "start_time": "2021-10-14T21:23:01.772Z"
   },
   {
    "duration": 321,
    "start_time": "2021-10-14T21:23:16.836Z"
   },
   {
    "duration": 307,
    "start_time": "2021-10-14T21:23:20.518Z"
   },
   {
    "duration": 296,
    "start_time": "2021-10-14T21:24:02.558Z"
   },
   {
    "duration": 288,
    "start_time": "2021-10-14T21:24:13.224Z"
   },
   {
    "duration": 25,
    "start_time": "2021-10-14T21:24:22.355Z"
   },
   {
    "duration": 507,
    "start_time": "2021-10-14T21:25:21.964Z"
   },
   {
    "duration": 884,
    "start_time": "2021-10-14T21:25:30.202Z"
   },
   {
    "duration": 9,
    "start_time": "2021-10-14T21:26:21.316Z"
   },
   {
    "duration": 12312,
    "start_time": "2021-10-14T21:26:23.586Z"
   },
   {
    "duration": -1131,
    "start_time": "2021-10-14T21:26:37.032Z"
   },
   {
    "duration": 11008,
    "start_time": "2021-10-14T21:26:45.611Z"
   },
   {
    "duration": 12,
    "start_time": "2021-10-14T21:27:06.242Z"
   },
   {
    "duration": 6,
    "start_time": "2021-10-14T21:27:07.041Z"
   },
   {
    "duration": 20,
    "start_time": "2021-10-14T21:27:07.905Z"
   },
   {
    "duration": 10213,
    "start_time": "2021-10-14T21:27:15.461Z"
   },
   {
    "duration": 10891,
    "start_time": "2021-10-14T21:27:29.704Z"
   },
   {
    "duration": 10240,
    "start_time": "2021-10-14T21:28:22.383Z"
   },
   {
    "duration": -1299,
    "start_time": "2021-10-14T21:28:33.925Z"
   },
   {
    "duration": -976,
    "start_time": "2021-10-14T21:28:52.091Z"
   },
   {
    "duration": -1010,
    "start_time": "2021-10-14T21:28:52.127Z"
   },
   {
    "duration": -1027,
    "start_time": "2021-10-14T21:28:52.146Z"
   },
   {
    "duration": -1046,
    "start_time": "2021-10-14T21:28:52.167Z"
   },
   {
    "duration": -1058,
    "start_time": "2021-10-14T21:28:52.181Z"
   },
   {
    "duration": 3,
    "start_time": "2021-10-14T21:28:55.818Z"
   },
   {
    "duration": 10,
    "start_time": "2021-10-14T21:28:56.938Z"
   },
   {
    "duration": 6,
    "start_time": "2021-10-14T21:28:57.687Z"
   },
   {
    "duration": 12,
    "start_time": "2021-10-14T21:28:58.390Z"
   },
   {
    "duration": 9734,
    "start_time": "2021-10-14T21:28:59.063Z"
   },
   {
    "duration": 10560,
    "start_time": "2021-10-14T21:29:22.131Z"
   },
   {
    "duration": 9,
    "start_time": "2021-10-14T21:29:39.265Z"
   },
   {
    "duration": 6,
    "start_time": "2021-10-14T21:29:39.871Z"
   },
   {
    "duration": 15,
    "start_time": "2021-10-14T21:29:40.473Z"
   },
   {
    "duration": 10219,
    "start_time": "2021-10-14T21:29:44.579Z"
   },
   {
    "duration": -962,
    "start_time": "2021-10-14T21:29:55.762Z"
   },
   {
    "duration": 1520,
    "start_time": "2021-10-14T21:30:31.860Z"
   },
   {
    "duration": 4,
    "start_time": "2021-10-14T21:30:33.383Z"
   },
   {
    "duration": 844,
    "start_time": "2021-10-14T21:30:33.390Z"
   },
   {
    "duration": 147,
    "start_time": "2021-10-14T21:30:34.237Z"
   },
   {
    "duration": 3,
    "start_time": "2021-10-14T21:30:34.387Z"
   },
   {
    "duration": 252,
    "start_time": "2021-10-14T21:30:34.393Z"
   },
   {
    "duration": 41,
    "start_time": "2021-10-14T21:30:34.647Z"
   },
   {
    "duration": 4,
    "start_time": "2021-10-14T21:30:34.691Z"
   },
   {
    "duration": 25,
    "start_time": "2021-10-14T21:30:34.697Z"
   },
   {
    "duration": 59,
    "start_time": "2021-10-14T21:30:34.724Z"
   },
   {
    "duration": 6,
    "start_time": "2021-10-14T21:30:34.786Z"
   },
   {
    "duration": 78,
    "start_time": "2021-10-14T21:30:34.795Z"
   },
   {
    "duration": 54,
    "start_time": "2021-10-14T21:30:34.876Z"
   },
   {
    "duration": 77,
    "start_time": "2021-10-14T21:30:34.932Z"
   },
   {
    "duration": 192,
    "start_time": "2021-10-14T21:30:35.012Z"
   },
   {
    "duration": 69,
    "start_time": "2021-10-14T21:30:35.207Z"
   },
   {
    "duration": 161,
    "start_time": "2021-10-14T21:30:35.278Z"
   },
   {
    "duration": 163,
    "start_time": "2021-10-14T21:30:35.442Z"
   },
   {
    "duration": 123,
    "start_time": "2021-10-14T21:30:35.608Z"
   },
   {
    "duration": 267,
    "start_time": "2021-10-14T21:30:35.734Z"
   },
   {
    "duration": 276,
    "start_time": "2021-10-14T21:30:36.003Z"
   },
   {
    "duration": 322,
    "start_time": "2021-10-14T21:30:36.282Z"
   },
   {
    "duration": 141,
    "start_time": "2021-10-14T21:30:36.607Z"
   },
   {
    "duration": 12,
    "start_time": "2021-10-14T21:30:36.751Z"
   },
   {
    "duration": 16,
    "start_time": "2021-10-14T21:30:36.766Z"
   },
   {
    "duration": 24,
    "start_time": "2021-10-14T21:30:36.785Z"
   },
   {
    "duration": 300,
    "start_time": "2021-10-14T21:30:36.811Z"
   },
   {
    "duration": 23,
    "start_time": "2021-10-14T21:30:37.260Z"
   },
   {
    "duration": 509,
    "start_time": "2021-10-14T21:30:37.353Z"
   },
   {
    "duration": 11,
    "start_time": "2021-10-14T21:30:37.865Z"
   },
   {
    "duration": 371,
    "start_time": "2021-10-14T21:30:37.879Z"
   },
   {
    "duration": 131,
    "start_time": "2021-10-14T21:30:38.261Z"
   },
   {
    "duration": 166,
    "start_time": "2021-10-14T21:30:38.395Z"
   },
   {
    "duration": 37,
    "start_time": "2021-10-14T21:30:38.564Z"
   },
   {
    "duration": 153,
    "start_time": "2021-10-14T21:30:38.609Z"
   },
   {
    "duration": 38,
    "start_time": "2021-10-14T21:30:38.768Z"
   },
   {
    "duration": 14,
    "start_time": "2021-10-14T21:30:38.924Z"
   },
   {
    "duration": 252,
    "start_time": "2021-10-14T21:30:39.085Z"
   },
   {
    "duration": 11,
    "start_time": "2021-10-14T21:30:39.339Z"
   },
   {
    "duration": 11,
    "start_time": "2021-10-14T21:30:39.370Z"
   },
   {
    "duration": 6,
    "start_time": "2021-10-14T21:30:39.549Z"
   },
   {
    "duration": 31,
    "start_time": "2021-10-14T21:30:39.663Z"
   },
   {
    "duration": 6,
    "start_time": "2021-10-14T21:30:39.799Z"
   },
   {
    "duration": 19,
    "start_time": "2021-10-14T21:30:39.946Z"
   },
   {
    "duration": 180,
    "start_time": "2021-10-14T21:30:40.117Z"
   },
   {
    "duration": 5998,
    "start_time": "2021-10-14T21:30:40.299Z"
   },
   {
    "duration": 468,
    "start_time": "2021-10-14T21:30:46.300Z"
   },
   {
    "duration": 325,
    "start_time": "2021-10-14T21:30:46.771Z"
   },
   {
    "duration": 17,
    "start_time": "2021-10-14T21:30:47.099Z"
   },
   {
    "duration": 9,
    "start_time": "2021-10-14T21:30:47.118Z"
   },
   {
    "duration": 383,
    "start_time": "2021-10-14T21:30:47.131Z"
   },
   {
    "duration": 13,
    "start_time": "2021-10-14T21:30:47.518Z"
   },
   {
    "duration": 408,
    "start_time": "2021-10-14T21:30:47.533Z"
   },
   {
    "duration": -899,
    "start_time": "2021-10-14T21:30:48.843Z"
   },
   {
    "duration": -904,
    "start_time": "2021-10-14T21:30:48.849Z"
   },
   {
    "duration": -909,
    "start_time": "2021-10-14T21:30:48.856Z"
   },
   {
    "duration": -917,
    "start_time": "2021-10-14T21:30:48.866Z"
   },
   {
    "duration": -922,
    "start_time": "2021-10-14T21:30:48.872Z"
   },
   {
    "duration": -925,
    "start_time": "2021-10-14T21:30:48.877Z"
   },
   {
    "duration": -931,
    "start_time": "2021-10-14T21:30:48.884Z"
   },
   {
    "duration": -935,
    "start_time": "2021-10-14T21:30:48.890Z"
   },
   {
    "duration": -939,
    "start_time": "2021-10-14T21:30:48.895Z"
   },
   {
    "duration": -944,
    "start_time": "2021-10-14T21:30:48.902Z"
   },
   {
    "duration": -949,
    "start_time": "2021-10-14T21:30:48.908Z"
   },
   {
    "duration": -953,
    "start_time": "2021-10-14T21:30:48.914Z"
   },
   {
    "duration": -959,
    "start_time": "2021-10-14T21:30:48.921Z"
   },
   {
    "duration": -962,
    "start_time": "2021-10-14T21:30:48.926Z"
   },
   {
    "duration": -966,
    "start_time": "2021-10-14T21:30:48.931Z"
   },
   {
    "duration": -970,
    "start_time": "2021-10-14T21:30:48.937Z"
   },
   {
    "duration": 8,
    "start_time": "2021-10-14T21:31:04.951Z"
   },
   {
    "duration": 15,
    "start_time": "2021-10-14T21:31:06.344Z"
   },
   {
    "duration": 7,
    "start_time": "2021-10-14T21:31:07.229Z"
   },
   {
    "duration": 19,
    "start_time": "2021-10-14T21:31:10.121Z"
   },
   {
    "duration": 10,
    "start_time": "2021-10-14T21:31:10.967Z"
   },
   {
    "duration": 13,
    "start_time": "2021-10-14T21:31:13.425Z"
   },
   {
    "duration": 23,
    "start_time": "2021-10-14T21:31:14.177Z"
   },
   {
    "duration": 7312,
    "start_time": "2021-10-14T21:31:14.887Z"
   },
   {
    "duration": -1364,
    "start_time": "2021-10-14T21:31:23.566Z"
   },
   {
    "duration": -1384,
    "start_time": "2021-10-14T21:31:23.588Z"
   },
   {
    "duration": -1401,
    "start_time": "2021-10-14T21:31:23.606Z"
   },
   {
    "duration": -1414,
    "start_time": "2021-10-14T21:31:23.620Z"
   },
   {
    "duration": 15,
    "start_time": "2021-10-14T21:31:32.862Z"
   },
   {
    "duration": 11,
    "start_time": "2021-10-14T21:31:34.647Z"
   },
   {
    "duration": 25,
    "start_time": "2021-10-14T21:31:35.389Z"
   },
   {
    "duration": 21,
    "start_time": "2021-10-14T21:31:36.107Z"
   },
   {
    "duration": 17,
    "start_time": "2021-10-14T21:31:36.830Z"
   },
   {
    "duration": 3,
    "start_time": "2021-10-14T21:31:37.569Z"
   },
   {
    "duration": 9,
    "start_time": "2021-10-14T21:31:38.272Z"
   },
   {
    "duration": 6,
    "start_time": "2021-10-14T21:31:38.971Z"
   },
   {
    "duration": 14,
    "start_time": "2021-10-14T21:31:39.731Z"
   },
   {
    "duration": 9873,
    "start_time": "2021-10-14T21:31:41.095Z"
   },
   {
    "duration": 10262,
    "start_time": "2021-10-14T21:32:19.423Z"
   },
   {
    "duration": -1067,
    "start_time": "2021-10-14T21:33:47.924Z"
   },
   {
    "duration": 10082,
    "start_time": "2021-10-14T21:33:55.448Z"
   },
   {
    "duration": 11033,
    "start_time": "2021-10-14T21:34:11.113Z"
   },
   {
    "duration": 10626,
    "start_time": "2021-10-14T21:34:31.794Z"
   },
   {
    "duration": -955,
    "start_time": "2021-10-14T21:34:55.304Z"
   },
   {
    "duration": -993,
    "start_time": "2021-10-14T21:34:55.343Z"
   },
   {
    "duration": -1010,
    "start_time": "2021-10-14T21:34:55.361Z"
   },
   {
    "duration": 9,
    "start_time": "2021-10-14T21:35:09.242Z"
   },
   {
    "duration": 5,
    "start_time": "2021-10-14T21:35:10.022Z"
   },
   {
    "duration": 5,
    "start_time": "2021-10-14T21:35:10.766Z"
   },
   {
    "duration": 13,
    "start_time": "2021-10-14T21:35:11.660Z"
   },
   {
    "duration": 308,
    "start_time": "2021-10-14T21:35:41.951Z"
   },
   {
    "duration": 12381,
    "start_time": "2021-10-14T21:35:50.895Z"
   },
   {
    "duration": 11575,
    "start_time": "2021-10-14T21:36:10.224Z"
   },
   {
    "duration": 8,
    "start_time": "2021-10-14T21:36:35.419Z"
   },
   {
    "duration": 5,
    "start_time": "2021-10-14T21:36:37.105Z"
   },
   {
    "duration": 26,
    "start_time": "2021-10-14T21:36:37.931Z"
   },
   {
    "duration": 1140,
    "start_time": "2021-10-14T21:36:52.567Z"
   },
   {
    "duration": 498,
    "start_time": "2021-10-14T21:37:28.882Z"
   },
   {
    "duration": 312,
    "start_time": "2021-10-14T21:37:35.857Z"
   },
   {
    "duration": 15,
    "start_time": "2021-10-14T21:37:51.399Z"
   },
   {
    "duration": 15,
    "start_time": "2021-10-14T21:38:00.075Z"
   },
   {
    "duration": 271,
    "start_time": "2021-10-14T21:38:02.811Z"
   },
   {
    "duration": 615,
    "start_time": "2021-10-14T21:38:50.189Z"
   },
   {
    "duration": 309,
    "start_time": "2021-10-14T21:43:14.698Z"
   },
   {
    "duration": 79,
    "start_time": "2021-10-14T21:43:25.740Z"
   },
   {
    "duration": 278,
    "start_time": "2021-10-14T21:43:29.234Z"
   },
   {
    "duration": 293,
    "start_time": "2021-10-14T21:45:21.964Z"
   },
   {
    "duration": 9,
    "start_time": "2021-10-14T21:47:20.776Z"
   },
   {
    "duration": 21,
    "start_time": "2021-10-14T21:47:21.956Z"
   },
   {
    "duration": 14,
    "start_time": "2021-10-14T21:47:22.856Z"
   },
   {
    "duration": 10,
    "start_time": "2021-10-14T21:47:23.716Z"
   },
   {
    "duration": 27,
    "start_time": "2021-10-14T21:47:24.518Z"
   },
   {
    "duration": 19,
    "start_time": "2021-10-14T21:47:25.306Z"
   },
   {
    "duration": 17,
    "start_time": "2021-10-14T21:47:26.314Z"
   },
   {
    "duration": 4,
    "start_time": "2021-10-14T21:47:27.054Z"
   },
   {
    "duration": 9,
    "start_time": "2021-10-14T21:47:27.838Z"
   },
   {
    "duration": 6,
    "start_time": "2021-10-14T21:47:28.539Z"
   },
   {
    "duration": 27,
    "start_time": "2021-10-14T21:47:29.215Z"
   },
   {
    "duration": 16,
    "start_time": "2021-10-14T21:47:29.961Z"
   },
   {
    "duration": 277,
    "start_time": "2021-10-14T21:47:30.758Z"
   },
   {
    "duration": 242,
    "start_time": "2021-10-14T21:48:16.314Z"
   },
   {
    "duration": 7,
    "start_time": "2021-10-14T21:48:33.000Z"
   },
   {
    "duration": 13,
    "start_time": "2021-10-14T21:50:40.021Z"
   },
   {
    "duration": 10,
    "start_time": "2021-10-14T21:50:46.673Z"
   },
   {
    "duration": 498,
    "start_time": "2021-10-14T21:51:09.378Z"
   },
   {
    "duration": 344,
    "start_time": "2021-10-14T21:51:19.039Z"
   },
   {
    "duration": 8676,
    "start_time": "2021-10-14T21:51:31.312Z"
   },
   {
    "duration": 18,
    "start_time": "2021-10-14T21:51:53.363Z"
   },
   {
    "duration": 19,
    "start_time": "2021-10-14T21:52:00.604Z"
   },
   {
    "duration": 255,
    "start_time": "2021-10-14T21:52:03.769Z"
   },
   {
    "duration": 243,
    "start_time": "2021-10-14T21:53:17.002Z"
   },
   {
    "duration": 74,
    "start_time": "2021-10-14T21:55:19.319Z"
   },
   {
    "duration": 535,
    "start_time": "2021-10-14T21:56:08.489Z"
   },
   {
    "duration": 439,
    "start_time": "2021-10-14T21:56:20.378Z"
   },
   {
    "duration": 342,
    "start_time": "2021-10-14T21:56:22.701Z"
   },
   {
    "duration": 21,
    "start_time": "2021-10-14T21:58:07.326Z"
   },
   {
    "duration": 23,
    "start_time": "2021-10-14T21:58:13.213Z"
   },
   {
    "duration": 25,
    "start_time": "2021-10-14T21:58:20.336Z"
   },
   {
    "duration": 282,
    "start_time": "2021-10-14T21:58:23.414Z"
   },
   {
    "duration": 740,
    "start_time": "2021-10-14T21:58:41.938Z"
   },
   {
    "duration": 310,
    "start_time": "2021-10-14T21:58:55.641Z"
   },
   {
    "duration": 415,
    "start_time": "2021-10-14T21:59:14.180Z"
   },
   {
    "duration": 25,
    "start_time": "2021-10-14T22:00:21.135Z"
   },
   {
    "duration": 74,
    "start_time": "2021-10-14T22:00:24.439Z"
   },
   {
    "duration": 318,
    "start_time": "2021-10-14T22:00:36.146Z"
   },
   {
    "duration": 8170,
    "start_time": "2021-10-14T22:00:54.040Z"
   },
   {
    "duration": 335,
    "start_time": "2021-10-14T22:01:08.054Z"
   },
   {
    "duration": 297,
    "start_time": "2021-10-14T22:01:17.582Z"
   },
   {
    "duration": 309,
    "start_time": "2021-10-14T22:11:57.728Z"
   },
   {
    "duration": 8,
    "start_time": "2021-10-14T22:13:16.678Z"
   },
   {
    "duration": 24,
    "start_time": "2021-10-14T22:13:20.429Z"
   },
   {
    "duration": 9184,
    "start_time": "2021-10-14T22:13:34.105Z"
   },
   {
    "duration": -1063,
    "start_time": "2021-10-14T22:13:44.355Z"
   },
   {
    "duration": 28,
    "start_time": "2021-10-14T22:14:37.282Z"
   },
   {
    "duration": 20,
    "start_time": "2021-10-14T22:14:53.777Z"
   },
   {
    "duration": 14,
    "start_time": "2021-10-14T22:14:56.279Z"
   },
   {
    "duration": 4,
    "start_time": "2021-10-14T22:15:00.319Z"
   },
   {
    "duration": 8,
    "start_time": "2021-10-14T22:15:00.938Z"
   },
   {
    "duration": 5,
    "start_time": "2021-10-14T22:15:01.605Z"
   },
   {
    "duration": 26,
    "start_time": "2021-10-14T22:15:02.311Z"
   },
   {
    "duration": 16,
    "start_time": "2021-10-14T22:15:03.104Z"
   },
   {
    "duration": 252,
    "start_time": "2021-10-14T22:15:04.307Z"
   },
   {
    "duration": 26,
    "start_time": "2021-10-14T22:15:10.022Z"
   },
   {
    "duration": 305,
    "start_time": "2021-10-14T22:15:12.541Z"
   },
   {
    "duration": 37,
    "start_time": "2021-10-14T22:15:14.879Z"
   },
   {
    "duration": 7,
    "start_time": "2021-10-14T22:15:17.232Z"
   },
   {
    "duration": 33,
    "start_time": "2021-10-14T22:15:19.475Z"
   },
   {
    "duration": 330,
    "start_time": "2021-10-14T22:15:58.758Z"
   },
   {
    "duration": 27,
    "start_time": "2021-10-14T22:16:16.494Z"
   },
   {
    "duration": 22,
    "start_time": "2021-10-14T22:16:23.362Z"
   },
   {
    "duration": 29,
    "start_time": "2021-10-14T22:16:35.579Z"
   },
   {
    "duration": 38,
    "start_time": "2021-10-14T22:16:46.948Z"
   },
   {
    "duration": 29,
    "start_time": "2021-10-14T22:17:34.357Z"
   },
   {
    "duration": 24,
    "start_time": "2021-10-14T22:17:35.098Z"
   },
   {
    "duration": 34,
    "start_time": "2021-10-14T22:17:39.729Z"
   },
   {
    "duration": 35,
    "start_time": "2021-10-14T22:17:46.786Z"
   },
   {
    "duration": 1107,
    "start_time": "2021-10-15T20:17:33.515Z"
   },
   {
    "duration": 2,
    "start_time": "2021-10-15T20:17:34.624Z"
   },
   {
    "duration": 611,
    "start_time": "2021-10-15T20:17:34.628Z"
   },
   {
    "duration": 102,
    "start_time": "2021-10-15T20:17:35.241Z"
   },
   {
    "duration": 2,
    "start_time": "2021-10-15T20:17:35.345Z"
   },
   {
    "duration": 162,
    "start_time": "2021-10-15T20:17:35.349Z"
   },
   {
    "duration": 24,
    "start_time": "2021-10-15T20:17:35.513Z"
   },
   {
    "duration": 2,
    "start_time": "2021-10-15T20:17:35.539Z"
   },
   {
    "duration": 13,
    "start_time": "2021-10-15T20:17:35.543Z"
   },
   {
    "duration": 39,
    "start_time": "2021-10-15T20:17:35.557Z"
   },
   {
    "duration": 4,
    "start_time": "2021-10-15T20:17:35.598Z"
   },
   {
    "duration": 41,
    "start_time": "2021-10-15T20:17:35.603Z"
   },
   {
    "duration": 48,
    "start_time": "2021-10-15T20:17:35.645Z"
   },
   {
    "duration": 39,
    "start_time": "2021-10-15T20:17:35.694Z"
   },
   {
    "duration": 114,
    "start_time": "2021-10-15T20:17:35.734Z"
   },
   {
    "duration": 44,
    "start_time": "2021-10-15T20:17:35.850Z"
   },
   {
    "duration": 120,
    "start_time": "2021-10-15T20:17:35.896Z"
   },
   {
    "duration": 106,
    "start_time": "2021-10-15T20:17:36.017Z"
   },
   {
    "duration": 91,
    "start_time": "2021-10-15T20:17:36.125Z"
   },
   {
    "duration": 157,
    "start_time": "2021-10-15T20:17:36.217Z"
   },
   {
    "duration": 149,
    "start_time": "2021-10-15T20:17:36.376Z"
   },
   {
    "duration": 166,
    "start_time": "2021-10-15T20:17:36.527Z"
   },
   {
    "duration": 100,
    "start_time": "2021-10-15T20:17:36.696Z"
   },
   {
    "duration": 3,
    "start_time": "2021-10-15T20:17:36.798Z"
   },
   {
    "duration": 8,
    "start_time": "2021-10-15T20:17:36.802Z"
   },
   {
    "duration": 13,
    "start_time": "2021-10-15T20:17:36.812Z"
   },
   {
    "duration": 169,
    "start_time": "2021-10-15T20:17:36.826Z"
   },
   {
    "duration": 17,
    "start_time": "2021-10-15T20:17:36.996Z"
   },
   {
    "duration": 251,
    "start_time": "2021-10-15T20:17:37.014Z"
   },
   {
    "duration": 7,
    "start_time": "2021-10-15T20:17:37.266Z"
   },
   {
    "duration": 205,
    "start_time": "2021-10-15T20:17:37.274Z"
   },
   {
    "duration": 83,
    "start_time": "2021-10-15T20:17:37.480Z"
   },
   {
    "duration": 83,
    "start_time": "2021-10-15T20:17:37.564Z"
   },
   {
    "duration": 19,
    "start_time": "2021-10-15T20:17:37.648Z"
   },
   {
    "duration": 105,
    "start_time": "2021-10-15T20:17:37.668Z"
   },
   {
    "duration": 24,
    "start_time": "2021-10-15T20:17:37.775Z"
   },
   {
    "duration": 10,
    "start_time": "2021-10-15T20:17:37.801Z"
   },
   {
    "duration": 196,
    "start_time": "2021-10-15T20:17:37.812Z"
   },
   {
    "duration": 7,
    "start_time": "2021-10-15T20:17:38.010Z"
   },
   {
    "duration": 10,
    "start_time": "2021-10-15T20:17:38.018Z"
   },
   {
    "duration": 3,
    "start_time": "2021-10-15T20:17:38.030Z"
   },
   {
    "duration": 18,
    "start_time": "2021-10-15T20:17:38.034Z"
   },
   {
    "duration": 4,
    "start_time": "2021-10-15T20:17:38.053Z"
   },
   {
    "duration": 34,
    "start_time": "2021-10-15T20:17:38.058Z"
   },
   {
    "duration": 114,
    "start_time": "2021-10-15T20:17:38.094Z"
   },
   {
    "duration": 3827,
    "start_time": "2021-10-15T20:17:38.210Z"
   },
   {
    "duration": 374,
    "start_time": "2021-10-15T20:17:42.039Z"
   },
   {
    "duration": 216,
    "start_time": "2021-10-15T20:17:42.414Z"
   },
   {
    "duration": 13,
    "start_time": "2021-10-15T20:17:42.631Z"
   },
   {
    "duration": 5,
    "start_time": "2021-10-15T20:17:42.645Z"
   },
   {
    "duration": 208,
    "start_time": "2021-10-15T20:17:42.652Z"
   },
   {
    "duration": 12,
    "start_time": "2021-10-15T20:17:42.862Z"
   },
   {
    "duration": 5,
    "start_time": "2021-10-15T20:17:42.892Z"
   },
   {
    "duration": 14,
    "start_time": "2021-10-15T20:17:42.899Z"
   },
   {
    "duration": 6,
    "start_time": "2021-10-15T20:17:42.914Z"
   },
   {
    "duration": 16,
    "start_time": "2021-10-15T20:17:42.921Z"
   },
   {
    "duration": 57,
    "start_time": "2021-10-15T20:17:42.938Z"
   },
   {
    "duration": 8,
    "start_time": "2021-10-15T20:17:42.997Z"
   },
   {
    "duration": 14,
    "start_time": "2021-10-15T20:17:43.007Z"
   },
   {
    "duration": 8,
    "start_time": "2021-10-15T20:17:43.023Z"
   },
   {
    "duration": 58,
    "start_time": "2021-10-15T20:17:43.033Z"
   },
   {
    "duration": 14,
    "start_time": "2021-10-15T20:17:43.093Z"
   },
   {
    "duration": 12,
    "start_time": "2021-10-15T20:17:43.109Z"
   },
   {
    "duration": 11,
    "start_time": "2021-10-15T20:17:43.122Z"
   },
   {
    "duration": 2,
    "start_time": "2021-10-15T20:17:43.134Z"
   },
   {
    "duration": 53,
    "start_time": "2021-10-15T20:17:43.138Z"
   },
   {
    "duration": 3,
    "start_time": "2021-10-15T20:17:43.193Z"
   },
   {
    "duration": 17,
    "start_time": "2021-10-15T20:17:43.201Z"
   },
   {
    "duration": 10,
    "start_time": "2021-10-15T20:17:43.219Z"
   },
   {
    "duration": 194,
    "start_time": "2021-10-15T20:17:43.230Z"
   },
   {
    "duration": 325,
    "start_time": "2021-10-15T20:17:43.426Z"
   },
   {
    "duration": 1054,
    "start_time": "2021-10-15T20:17:42.699Z"
   },
   {
    "duration": 1051,
    "start_time": "2021-10-15T20:17:42.703Z"
   },
   {
    "duration": 1049,
    "start_time": "2021-10-15T20:17:42.706Z"
   },
   {
    "duration": 1047,
    "start_time": "2021-10-15T20:17:42.709Z"
   },
   {
    "duration": 1045,
    "start_time": "2021-10-15T20:17:42.712Z"
   },
   {
    "duration": 1043,
    "start_time": "2021-10-15T20:17:42.715Z"
   },
   {
    "duration": 1040,
    "start_time": "2021-10-15T20:17:42.719Z"
   },
   {
    "duration": 976,
    "start_time": "2021-10-16T04:18:21.227Z"
   },
   {
    "duration": 2,
    "start_time": "2021-10-16T04:18:22.205Z"
   },
   {
    "duration": 600,
    "start_time": "2021-10-16T04:18:22.209Z"
   },
   {
    "duration": 105,
    "start_time": "2021-10-16T04:18:22.811Z"
   },
   {
    "duration": 2,
    "start_time": "2021-10-16T04:18:22.918Z"
   },
   {
    "duration": 178,
    "start_time": "2021-10-16T04:18:22.922Z"
   },
   {
    "duration": 27,
    "start_time": "2021-10-16T04:18:23.102Z"
   },
   {
    "duration": 3,
    "start_time": "2021-10-16T04:18:23.131Z"
   },
   {
    "duration": 15,
    "start_time": "2021-10-16T04:18:23.136Z"
   },
   {
    "duration": 47,
    "start_time": "2021-10-16T04:18:23.152Z"
   },
   {
    "duration": 3,
    "start_time": "2021-10-16T04:18:23.201Z"
   },
   {
    "duration": 39,
    "start_time": "2021-10-16T04:18:23.206Z"
   },
   {
    "duration": 56,
    "start_time": "2021-10-16T04:18:23.246Z"
   },
   {
    "duration": 40,
    "start_time": "2021-10-16T04:18:23.304Z"
   },
   {
    "duration": 121,
    "start_time": "2021-10-16T04:18:23.346Z"
   },
   {
    "duration": 49,
    "start_time": "2021-10-16T04:18:23.469Z"
   },
   {
    "duration": 121,
    "start_time": "2021-10-16T04:18:23.520Z"
   },
   {
    "duration": 117,
    "start_time": "2021-10-16T04:18:23.642Z"
   },
   {
    "duration": 90,
    "start_time": "2021-10-16T04:18:23.761Z"
   },
   {
    "duration": 162,
    "start_time": "2021-10-16T04:18:23.853Z"
   },
   {
    "duration": 156,
    "start_time": "2021-10-16T04:18:24.017Z"
   },
   {
    "duration": 167,
    "start_time": "2021-10-16T04:18:24.175Z"
   },
   {
    "duration": 105,
    "start_time": "2021-10-16T04:18:24.346Z"
   },
   {
    "duration": 2,
    "start_time": "2021-10-16T04:18:24.454Z"
   },
   {
    "duration": 8,
    "start_time": "2021-10-16T04:18:24.458Z"
   },
   {
    "duration": 30,
    "start_time": "2021-10-16T04:18:24.467Z"
   },
   {
    "duration": 166,
    "start_time": "2021-10-16T04:18:24.499Z"
   },
   {
    "duration": 25,
    "start_time": "2021-10-16T04:18:24.666Z"
   },
   {
    "duration": 245,
    "start_time": "2021-10-16T04:18:24.693Z"
   },
   {
    "duration": 6,
    "start_time": "2021-10-16T04:18:24.940Z"
   },
   {
    "duration": 1003,
    "start_time": "2021-10-16T04:18:24.948Z"
   },
   {
    "duration": 89,
    "start_time": "2021-10-16T04:18:25.953Z"
   },
   {
    "duration": 79,
    "start_time": "2021-10-16T04:18:26.043Z"
   },
   {
    "duration": 20,
    "start_time": "2021-10-16T04:18:26.124Z"
   },
   {
    "duration": 106,
    "start_time": "2021-10-16T04:18:26.145Z"
   },
   {
    "duration": 20,
    "start_time": "2021-10-16T04:18:26.253Z"
   },
   {
    "duration": 23,
    "start_time": "2021-10-16T04:18:26.274Z"
   },
   {
    "duration": 196,
    "start_time": "2021-10-16T04:18:26.298Z"
   },
   {
    "duration": 7,
    "start_time": "2021-10-16T04:18:26.495Z"
   },
   {
    "duration": 9,
    "start_time": "2021-10-16T04:18:26.504Z"
   },
   {
    "duration": 3,
    "start_time": "2021-10-16T04:18:26.515Z"
   },
   {
    "duration": 18,
    "start_time": "2021-10-16T04:18:26.520Z"
   },
   {
    "duration": 4,
    "start_time": "2021-10-16T04:18:26.539Z"
   },
   {
    "duration": 12,
    "start_time": "2021-10-16T04:18:26.544Z"
   },
   {
    "duration": 149,
    "start_time": "2021-10-16T04:18:26.557Z"
   },
   {
    "duration": 3652,
    "start_time": "2021-10-16T04:18:26.707Z"
   },
   {
    "duration": 358,
    "start_time": "2021-10-16T04:18:30.361Z"
   },
   {
    "duration": 222,
    "start_time": "2021-10-16T04:18:30.721Z"
   },
   {
    "duration": 14,
    "start_time": "2021-10-16T04:18:30.944Z"
   },
   {
    "duration": 6,
    "start_time": "2021-10-16T04:18:30.960Z"
   },
   {
    "duration": 228,
    "start_time": "2021-10-16T04:18:30.967Z"
   },
   {
    "duration": 75,
    "start_time": "2021-10-16T04:18:31.197Z"
   },
   {
    "duration": 18,
    "start_time": "2021-10-16T04:18:31.274Z"
   },
   {
    "duration": 9,
    "start_time": "2021-10-16T04:18:31.294Z"
   },
   {
    "duration": 8,
    "start_time": "2021-10-16T04:18:31.304Z"
   },
   {
    "duration": 14,
    "start_time": "2021-10-16T04:18:31.313Z"
   },
   {
    "duration": 6,
    "start_time": "2021-10-16T04:18:31.328Z"
   },
   {
    "duration": 8,
    "start_time": "2021-10-16T04:18:31.335Z"
   },
   {
    "duration": 46,
    "start_time": "2021-10-16T04:18:31.345Z"
   },
   {
    "duration": 9,
    "start_time": "2021-10-16T04:18:31.393Z"
   },
   {
    "duration": 7,
    "start_time": "2021-10-16T04:18:31.403Z"
   },
   {
    "duration": 18,
    "start_time": "2021-10-16T04:18:31.411Z"
   },
   {
    "duration": 12,
    "start_time": "2021-10-16T04:18:31.430Z"
   },
   {
    "duration": 10,
    "start_time": "2021-10-16T04:18:31.443Z"
   },
   {
    "duration": 36,
    "start_time": "2021-10-16T04:18:31.455Z"
   },
   {
    "duration": 6,
    "start_time": "2021-10-16T04:18:31.492Z"
   },
   {
    "duration": 8,
    "start_time": "2021-10-16T04:18:31.499Z"
   },
   {
    "duration": 14,
    "start_time": "2021-10-16T04:18:31.512Z"
   },
   {
    "duration": 8,
    "start_time": "2021-10-16T04:18:31.528Z"
   },
   {
    "duration": 172,
    "start_time": "2021-10-16T04:18:31.538Z"
   },
   {
    "duration": 251,
    "start_time": "2021-10-16T04:18:31.712Z"
   },
   {
    "duration": 1016,
    "start_time": "2021-10-16T04:18:30.949Z"
   },
   {
    "duration": 1013,
    "start_time": "2021-10-16T04:18:30.953Z"
   },
   {
    "duration": 1011,
    "start_time": "2021-10-16T04:18:30.956Z"
   },
   {
    "duration": 1007,
    "start_time": "2021-10-16T04:18:30.961Z"
   },
   {
    "duration": 1004,
    "start_time": "2021-10-16T04:18:30.964Z"
   },
   {
    "duration": 1001,
    "start_time": "2021-10-16T04:18:30.968Z"
   },
   {
    "duration": 1000,
    "start_time": "2021-10-16T04:18:30.970Z"
   },
   {
    "duration": 1230,
    "start_time": "2021-10-16T12:01:20.887Z"
   },
   {
    "duration": 2,
    "start_time": "2021-10-16T12:01:22.119Z"
   },
   {
    "duration": 761,
    "start_time": "2021-10-16T12:01:28.836Z"
   },
   {
    "duration": 121,
    "start_time": "2021-10-16T12:01:30.272Z"
   },
   {
    "duration": 3,
    "start_time": "2021-10-16T12:01:31.981Z"
   },
   {
    "duration": 151,
    "start_time": "2021-10-16T12:01:32.822Z"
   },
   {
    "duration": 24,
    "start_time": "2021-10-16T12:01:34.490Z"
   },
   {
    "duration": 3,
    "start_time": "2021-10-16T12:01:35.491Z"
   },
   {
    "duration": 13,
    "start_time": "2021-10-16T12:01:36.428Z"
   },
   {
    "duration": 23,
    "start_time": "2021-10-16T12:01:37.421Z"
   },
   {
    "duration": 4,
    "start_time": "2021-10-16T12:01:38.860Z"
   },
   {
    "duration": 26,
    "start_time": "2021-10-16T12:04:17.389Z"
   },
   {
    "duration": 121,
    "start_time": "2021-10-16T12:04:22.575Z"
   },
   {
    "duration": 6,
    "start_time": "2021-10-16T12:04:24.021Z"
   },
   {
    "duration": 6,
    "start_time": "2021-10-16T12:04:36.689Z"
   },
   {
    "duration": 75,
    "start_time": "2021-10-16T12:05:12.449Z"
   },
   {
    "duration": 11,
    "start_time": "2021-10-16T12:05:20.104Z"
   },
   {
    "duration": 6,
    "start_time": "2021-10-16T12:05:24.667Z"
   },
   {
    "duration": 6,
    "start_time": "2021-10-16T12:05:29.328Z"
   },
   {
    "duration": 11005,
    "start_time": "2021-10-16T12:20:07.994Z"
   },
   {
    "duration": -1274,
    "start_time": "2021-10-16T12:24:11.388Z"
   },
   {
    "duration": 15,
    "start_time": "2021-10-16T12:24:16.623Z"
   },
   {
    "duration": 124,
    "start_time": "2021-10-16T12:24:17.982Z"
   },
   {
    "duration": 119,
    "start_time": "2021-10-16T12:24:34.515Z"
   },
   {
    "duration": 354,
    "start_time": "2021-10-16T12:24:36.474Z"
   },
   {
    "duration": 17,
    "start_time": "2021-10-16T12:24:52.142Z"
   },
   {
    "duration": 16,
    "start_time": "2021-10-16T12:24:56.730Z"
   },
   {
    "duration": 5,
    "start_time": "2021-10-16T12:25:05.619Z"
   },
   {
    "duration": 14,
    "start_time": "2021-10-16T12:25:08.245Z"
   },
   {
    "duration": 3,
    "start_time": "2021-10-16T12:25:18.741Z"
   },
   {
    "duration": 5,
    "start_time": "2021-10-16T12:25:20.185Z"
   },
   {
    "duration": 417,
    "start_time": "2021-10-16T12:25:27.583Z"
   },
   {
    "duration": 362,
    "start_time": "2021-10-16T12:25:38.899Z"
   },
   {
    "duration": 350,
    "start_time": "2021-10-16T12:26:07.102Z"
   },
   {
    "duration": 364,
    "start_time": "2021-10-16T12:26:07.877Z"
   },
   {
    "duration": 356,
    "start_time": "2021-10-16T12:26:11.696Z"
   },
   {
    "duration": 1236,
    "start_time": "2021-10-16T12:26:33.369Z"
   },
   {
    "duration": 2,
    "start_time": "2021-10-16T12:26:34.607Z"
   },
   {
    "duration": 597,
    "start_time": "2021-10-16T12:26:34.778Z"
   },
   {
    "duration": 106,
    "start_time": "2021-10-16T12:26:36.978Z"
   },
   {
    "duration": 2,
    "start_time": "2021-10-16T12:26:37.596Z"
   },
   {
    "duration": 158,
    "start_time": "2021-10-16T12:26:38.243Z"
   },
   {
    "duration": 29,
    "start_time": "2021-10-16T12:26:39.564Z"
   },
   {
    "duration": 2,
    "start_time": "2021-10-16T12:26:40.268Z"
   },
   {
    "duration": 12,
    "start_time": "2021-10-16T12:26:40.877Z"
   },
   {
    "duration": 18,
    "start_time": "2021-10-16T12:26:41.538Z"
   },
   {
    "duration": 7,
    "start_time": "2021-10-16T12:26:42.226Z"
   },
   {
    "duration": 26,
    "start_time": "2021-10-16T12:26:42.874Z"
   },
   {
    "duration": 7,
    "start_time": "2021-10-16T12:26:43.454Z"
   },
   {
    "duration": 7,
    "start_time": "2021-10-16T12:26:44.086Z"
   },
   {
    "duration": 79,
    "start_time": "2021-10-16T12:26:45.801Z"
   },
   {
    "duration": 73,
    "start_time": "2021-10-16T12:26:47.747Z"
   },
   {
    "duration": 11,
    "start_time": "2021-10-16T12:26:48.425Z"
   },
   {
    "duration": 6,
    "start_time": "2021-10-16T12:26:49.130Z"
   },
   {
    "duration": 15,
    "start_time": "2021-10-16T12:26:49.818Z"
   },
   {
    "duration": 17,
    "start_time": "2021-10-16T12:26:52.063Z"
   },
   {
    "duration": 15,
    "start_time": "2021-10-16T12:26:54.110Z"
   },
   {
    "duration": 4,
    "start_time": "2021-10-16T12:28:30.794Z"
   },
   {
    "duration": 14,
    "start_time": "2021-10-16T12:28:32.726Z"
   },
   {
    "duration": 4,
    "start_time": "2021-10-16T12:31:59.659Z"
   },
   {
    "duration": 16,
    "start_time": "2021-10-16T12:32:01.187Z"
   },
   {
    "duration": 3,
    "start_time": "2021-10-16T12:32:19.281Z"
   },
   {
    "duration": 5,
    "start_time": "2021-10-16T12:32:23.106Z"
   },
   {
    "duration": 46,
    "start_time": "2021-10-16T12:32:32.607Z"
   },
   {
    "duration": 2070,
    "start_time": "2021-10-16T12:32:40.171Z"
   },
   {
    "duration": 2,
    "start_time": "2021-10-16T12:32:42.243Z"
   },
   {
    "duration": 648,
    "start_time": "2021-10-16T12:32:42.247Z"
   },
   {
    "duration": 108,
    "start_time": "2021-10-16T12:32:42.896Z"
   },
   {
    "duration": 3,
    "start_time": "2021-10-16T12:32:43.304Z"
   },
   {
    "duration": 172,
    "start_time": "2021-10-16T12:32:44.040Z"
   },
   {
    "duration": 25,
    "start_time": "2021-10-16T12:32:45.457Z"
   },
   {
    "duration": 2,
    "start_time": "2021-10-16T12:32:46.079Z"
   },
   {
    "duration": 12,
    "start_time": "2021-10-16T12:32:46.658Z"
   },
   {
    "duration": 19,
    "start_time": "2021-10-16T12:32:48.441Z"
   },
   {
    "duration": 5,
    "start_time": "2021-10-16T12:32:49.077Z"
   },
   {
    "duration": 26,
    "start_time": "2021-10-16T12:32:49.682Z"
   },
   {
    "duration": 6,
    "start_time": "2021-10-16T12:32:50.360Z"
   },
   {
    "duration": 6,
    "start_time": "2021-10-16T12:32:51.034Z"
   },
   {
    "duration": 82,
    "start_time": "2021-10-16T12:32:52.322Z"
   },
   {
    "duration": 12,
    "start_time": "2021-10-16T12:32:53.053Z"
   },
   {
    "duration": 5,
    "start_time": "2021-10-16T12:32:53.689Z"
   },
   {
    "duration": 16,
    "start_time": "2021-10-16T12:32:55.126Z"
   },
   {
    "duration": 19,
    "start_time": "2021-10-16T12:32:55.826Z"
   },
   {
    "duration": 5,
    "start_time": "2021-10-16T12:32:57.315Z"
   },
   {
    "duration": 17,
    "start_time": "2021-10-16T12:33:50.586Z"
   },
   {
    "duration": 8,
    "start_time": "2021-10-16T12:34:35.515Z"
   },
   {
    "duration": 9678,
    "start_time": "2021-10-16T12:39:39.762Z"
   },
   {
    "duration": 368,
    "start_time": "2021-10-16T12:39:52.985Z"
   },
   {
    "duration": 119,
    "start_time": "2021-10-16T12:41:31.060Z"
   },
   {
    "duration": 8,
    "start_time": "2021-10-16T12:41:36.599Z"
   },
   {
    "duration": 9,
    "start_time": "2021-10-16T12:41:50.122Z"
   },
   {
    "duration": 10,
    "start_time": "2021-10-16T12:42:10.184Z"
   },
   {
    "duration": 5,
    "start_time": "2021-10-16T12:42:42.566Z"
   },
   {
    "duration": 5,
    "start_time": "2021-10-16T12:42:46.464Z"
   },
   {
    "duration": 4669,
    "start_time": "2021-10-16T12:42:54.732Z"
   },
   {
    "duration": -1274,
    "start_time": "2021-10-16T12:43:00.678Z"
   },
   {
    "duration": 4800,
    "start_time": "2021-10-16T12:43:07.182Z"
   },
   {
    "duration": 1267,
    "start_time": "2021-10-16T12:43:22.464Z"
   },
   {
    "duration": 3,
    "start_time": "2021-10-16T12:43:23.733Z"
   },
   {
    "duration": 652,
    "start_time": "2021-10-16T12:43:23.738Z"
   },
   {
    "duration": 108,
    "start_time": "2021-10-16T12:43:24.392Z"
   },
   {
    "duration": 3,
    "start_time": "2021-10-16T12:43:24.501Z"
   },
   {
    "duration": 161,
    "start_time": "2021-10-16T12:43:24.505Z"
   },
   {
    "duration": 28,
    "start_time": "2021-10-16T12:43:24.668Z"
   },
   {
    "duration": 3,
    "start_time": "2021-10-16T12:43:24.698Z"
   },
   {
    "duration": 18,
    "start_time": "2021-10-16T12:43:24.702Z"
   },
   {
    "duration": 18,
    "start_time": "2021-10-16T12:43:24.721Z"
   },
   {
    "duration": 4,
    "start_time": "2021-10-16T12:43:24.740Z"
   },
   {
    "duration": 53,
    "start_time": "2021-10-16T12:43:24.745Z"
   },
   {
    "duration": 5,
    "start_time": "2021-10-16T12:43:24.799Z"
   },
   {
    "duration": 9,
    "start_time": "2021-10-16T12:43:24.806Z"
   },
   {
    "duration": 98,
    "start_time": "2021-10-16T12:43:24.816Z"
   },
   {
    "duration": 10,
    "start_time": "2021-10-16T12:43:25.168Z"
   },
   {
    "duration": 5,
    "start_time": "2021-10-16T12:43:25.486Z"
   },
   {
    "duration": 15,
    "start_time": "2021-10-16T12:43:26.100Z"
   },
   {
    "duration": 18,
    "start_time": "2021-10-16T12:43:26.341Z"
   },
   {
    "duration": 6,
    "start_time": "2021-10-16T12:43:26.730Z"
   },
   {
    "duration": 9,
    "start_time": "2021-10-16T12:43:27.919Z"
   },
   {
    "duration": 19,
    "start_time": "2021-10-16T12:43:31.762Z"
   },
   {
    "duration": 13,
    "start_time": "2021-10-16T12:43:34.186Z"
   },
   {
    "duration": 36,
    "start_time": "2021-10-16T12:44:39.311Z"
   },
   {
    "duration": 37,
    "start_time": "2021-10-16T12:44:40.015Z"
   },
   {
    "duration": 40,
    "start_time": "2021-10-16T12:44:40.645Z"
   },
   {
    "duration": 105,
    "start_time": "2021-10-16T12:44:41.305Z"
   },
   {
    "duration": 36,
    "start_time": "2021-10-16T12:44:41.905Z"
   },
   {
    "duration": 114,
    "start_time": "2021-10-16T12:44:42.531Z"
   },
   {
    "duration": 114,
    "start_time": "2021-10-16T12:44:43.319Z"
   },
   {
    "duration": 91,
    "start_time": "2021-10-16T12:44:44.135Z"
   },
   {
    "duration": 149,
    "start_time": "2021-10-16T12:44:45.153Z"
   },
   {
    "duration": 1588,
    "start_time": "2021-10-16T12:51:00.169Z"
   },
   {
    "duration": 504,
    "start_time": "2021-10-16T12:51:31.141Z"
   },
   {
    "duration": 170,
    "start_time": "2021-10-16T12:51:44.970Z"
   },
   {
    "duration": 380,
    "start_time": "2021-10-16T12:53:43.050Z"
   },
   {
    "duration": 389,
    "start_time": "2021-10-16T12:53:50.608Z"
   },
   {
    "duration": -1271,
    "start_time": "2021-10-16T12:54:09.705Z"
   },
   {
    "duration": 164,
    "start_time": "2021-10-16T12:54:10.293Z"
   },
   {
    "duration": 358,
    "start_time": "2021-10-16T12:54:52.106Z"
   },
   {
    "duration": 135,
    "start_time": "2021-10-16T12:55:20.773Z"
   },
   {
    "duration": 357,
    "start_time": "2021-10-16T12:55:28.664Z"
   },
   {
    "duration": 436,
    "start_time": "2021-10-16T12:55:33.626Z"
   },
   {
    "duration": 371,
    "start_time": "2021-10-16T12:55:41.680Z"
   },
   {
    "duration": 381,
    "start_time": "2021-10-16T12:55:44.446Z"
   },
   {
    "duration": 106,
    "start_time": "2021-10-16T12:57:00.223Z"
   },
   {
    "duration": 98,
    "start_time": "2021-10-16T12:57:04.631Z"
   },
   {
    "duration": 422,
    "start_time": "2021-10-16T12:57:55.834Z"
   },
   {
    "duration": 353,
    "start_time": "2021-10-16T12:57:59.154Z"
   },
   {
    "duration": 140,
    "start_time": "2021-10-16T12:58:03.518Z"
   },
   {
    "duration": 77,
    "start_time": "2021-10-16T12:58:13.562Z"
   },
   {
    "duration": 9086,
    "start_time": "2021-10-16T12:58:15.456Z"
   },
   {
    "duration": 76,
    "start_time": "2021-10-16T12:58:26.016Z"
   },
   {
    "duration": 199,
    "start_time": "2021-10-16T12:58:28.718Z"
   },
   {
    "duration": 80,
    "start_time": "2021-10-16T12:58:37.862Z"
   },
   {
    "duration": 9770,
    "start_time": "2021-10-16T12:58:38.320Z"
   },
   {
    "duration": 78,
    "start_time": "2021-10-16T12:58:56.300Z"
   },
   {
    "duration": 133,
    "start_time": "2021-10-16T12:58:57.899Z"
   },
   {
    "duration": 131,
    "start_time": "2021-10-16T12:59:29.587Z"
   },
   {
    "duration": 136,
    "start_time": "2021-10-16T12:59:56.085Z"
   },
   {
    "duration": 158,
    "start_time": "2021-10-16T13:01:13.295Z"
   },
   {
    "duration": 105,
    "start_time": "2021-10-16T13:01:16.885Z"
   },
   {
    "duration": 3,
    "start_time": "2021-10-16T13:01:17.674Z"
   },
   {
    "duration": 10,
    "start_time": "2021-10-16T13:01:18.444Z"
   },
   {
    "duration": 16,
    "start_time": "2021-10-16T13:01:19.168Z"
   },
   {
    "duration": 3,
    "start_time": "2021-10-16T13:02:18.740Z"
   },
   {
    "duration": 5,
    "start_time": "2021-10-16T13:02:21.691Z"
   },
   {
    "duration": 151,
    "start_time": "2021-10-16T13:02:46.409Z"
   },
   {
    "duration": 17,
    "start_time": "2021-10-16T13:04:30.537Z"
   },
   {
    "duration": 222,
    "start_time": "2021-10-16T13:04:31.121Z"
   },
   {
    "duration": 235,
    "start_time": "2021-10-16T13:05:34.617Z"
   },
   {
    "duration": 7,
    "start_time": "2021-10-16T13:05:54.262Z"
   },
   {
    "duration": 6,
    "start_time": "2021-10-16T13:06:00.807Z"
   },
   {
    "duration": 183,
    "start_time": "2021-10-16T13:06:48.233Z"
   },
   {
    "duration": 190,
    "start_time": "2021-10-16T13:06:56.929Z"
   },
   {
    "duration": 78,
    "start_time": "2021-10-16T13:10:26.356Z"
   },
   {
    "duration": 70,
    "start_time": "2021-10-16T13:10:26.933Z"
   },
   {
    "duration": 21,
    "start_time": "2021-10-16T13:10:27.528Z"
   },
   {
    "duration": 96,
    "start_time": "2021-10-16T13:10:28.206Z"
   },
   {
    "duration": 21,
    "start_time": "2021-10-16T13:10:28.746Z"
   },
   {
    "duration": 12,
    "start_time": "2021-10-16T13:10:29.642Z"
   },
   {
    "duration": 183,
    "start_time": "2021-10-16T13:10:30.304Z"
   },
   {
    "duration": 8,
    "start_time": "2021-10-16T13:10:31.034Z"
   },
   {
    "duration": 9,
    "start_time": "2021-10-16T13:10:31.741Z"
   },
   {
    "duration": 5,
    "start_time": "2021-10-16T13:10:32.437Z"
   },
   {
    "duration": 25,
    "start_time": "2021-10-16T13:10:33.147Z"
   },
   {
    "duration": 4,
    "start_time": "2021-10-16T13:10:33.887Z"
   },
   {
    "duration": 12,
    "start_time": "2021-10-16T13:10:34.845Z"
   },
   {
    "duration": 117,
    "start_time": "2021-10-16T13:10:35.937Z"
   },
   {
    "duration": 3594,
    "start_time": "2021-10-16T13:10:36.904Z"
   },
   {
    "duration": 11,
    "start_time": "2021-10-16T13:13:40.652Z"
   },
   {
    "duration": 402,
    "start_time": "2021-10-16T13:13:47.331Z"
   },
   {
    "duration": 352,
    "start_time": "2021-10-16T13:13:56.708Z"
   },
   {
    "duration": 570,
    "start_time": "2021-10-16T13:14:05.863Z"
   },
   {
    "duration": 4,
    "start_time": "2021-10-16T13:14:09.846Z"
   },
   {
    "duration": 410,
    "start_time": "2021-10-16T13:14:10.767Z"
   },
   {
    "duration": 385,
    "start_time": "2021-10-16T13:14:22.274Z"
   },
   {
    "duration": 4,
    "start_time": "2021-10-16T13:14:24.177Z"
   },
   {
    "duration": 367,
    "start_time": "2021-10-16T13:14:25.182Z"
   },
   {
    "duration": 373,
    "start_time": "2021-10-16T13:15:11.133Z"
   },
   {
    "duration": 142,
    "start_time": "2021-10-16T13:15:15.184Z"
   },
   {
    "duration": 8,
    "start_time": "2021-10-16T13:15:16.193Z"
   },
   {
    "duration": 9,
    "start_time": "2021-10-16T13:15:17.418Z"
   },
   {
    "duration": 5,
    "start_time": "2021-10-16T13:15:18.171Z"
   },
   {
    "duration": 99,
    "start_time": "2021-10-16T13:15:18.848Z"
   },
   {
    "duration": 5,
    "start_time": "2021-10-16T13:15:19.565Z"
   },
   {
    "duration": 13,
    "start_time": "2021-10-16T13:15:21.826Z"
   },
   {
    "duration": 39,
    "start_time": "2021-10-16T13:15:39.146Z"
   },
   {
    "duration": 410,
    "start_time": "2021-10-16T13:15:45.598Z"
   },
   {
    "duration": 7,
    "start_time": "2021-10-16T13:15:50.780Z"
   },
   {
    "duration": 9033,
    "start_time": "2021-10-16T13:17:00.045Z"
   },
   {
    "duration": -1266,
    "start_time": "2021-10-16T13:17:10.345Z"
   },
   {
    "duration": 144,
    "start_time": "2021-10-16T13:17:12.165Z"
   },
   {
    "duration": 8,
    "start_time": "2021-10-16T13:17:14.551Z"
   },
   {
    "duration": 8,
    "start_time": "2021-10-16T13:17:15.365Z"
   },
   {
    "duration": 5,
    "start_time": "2021-10-16T13:17:16.192Z"
   },
   {
    "duration": 19,
    "start_time": "2021-10-16T13:17:16.986Z"
   },
   {
    "duration": 4,
    "start_time": "2021-10-16T13:17:19.418Z"
   },
   {
    "duration": 12,
    "start_time": "2021-10-16T13:17:21.466Z"
   },
   {
    "duration": 362,
    "start_time": "2021-10-16T13:17:48.000Z"
   },
   {
    "duration": 8,
    "start_time": "2021-10-16T13:18:05.972Z"
   },
   {
    "duration": 13,
    "start_time": "2021-10-16T13:18:09.502Z"
   },
   {
    "duration": 13,
    "start_time": "2021-10-16T13:18:15.309Z"
   },
   {
    "duration": 5,
    "start_time": "2021-10-16T13:18:32.152Z"
   },
   {
    "duration": 142,
    "start_time": "2021-10-16T13:18:37.192Z"
   },
   {
    "duration": 8,
    "start_time": "2021-10-16T13:18:37.824Z"
   },
   {
    "duration": 9,
    "start_time": "2021-10-16T13:18:38.484Z"
   },
   {
    "duration": 5,
    "start_time": "2021-10-16T13:18:39.152Z"
   },
   {
    "duration": 19,
    "start_time": "2021-10-16T13:18:39.883Z"
   },
   {
    "duration": 4,
    "start_time": "2021-10-16T13:18:42.142Z"
   },
   {
    "duration": 12,
    "start_time": "2021-10-16T13:18:42.148Z"
   },
   {
    "duration": 13,
    "start_time": "2021-10-16T13:18:44.635Z"
   },
   {
    "duration": 23,
    "start_time": "2021-10-16T13:18:46.284Z"
   },
   {
    "duration": 432,
    "start_time": "2021-10-16T13:18:47.308Z"
   },
   {
    "duration": 1982,
    "start_time": "2021-10-16T13:19:18.345Z"
   },
   {
    "duration": 1428,
    "start_time": "2021-10-16T13:19:28.254Z"
   },
   {
    "duration": 1996,
    "start_time": "2021-10-16T13:19:39.609Z"
   },
   {
    "duration": 1479,
    "start_time": "2021-10-16T13:19:47.804Z"
   },
   {
    "duration": 8,
    "start_time": "2021-10-16T13:19:51.854Z"
   },
   {
    "duration": 12,
    "start_time": "2021-10-16T13:19:54.620Z"
   },
   {
    "duration": 20,
    "start_time": "2021-10-16T13:20:26.198Z"
   },
   {
    "duration": 441,
    "start_time": "2021-10-16T13:20:34.329Z"
   },
   {
    "duration": 132,
    "start_time": "2021-10-16T13:20:39.552Z"
   },
   {
    "duration": 141,
    "start_time": "2021-10-16T13:20:48.568Z"
   },
   {
    "duration": 7,
    "start_time": "2021-10-16T13:20:49.211Z"
   },
   {
    "duration": 8,
    "start_time": "2021-10-16T13:20:49.820Z"
   },
   {
    "duration": 4,
    "start_time": "2021-10-16T13:20:50.393Z"
   },
   {
    "duration": 17,
    "start_time": "2021-10-16T13:20:51.014Z"
   },
   {
    "duration": 4,
    "start_time": "2021-10-16T13:20:51.610Z"
   },
   {
    "duration": 7,
    "start_time": "2021-10-16T13:20:52.205Z"
   },
   {
    "duration": 20,
    "start_time": "2021-10-16T13:20:53.788Z"
   },
   {
    "duration": 369,
    "start_time": "2021-10-16T13:20:57.968Z"
   },
   {
    "duration": 369,
    "start_time": "2021-10-16T13:21:06.483Z"
   },
   {
    "duration": 139,
    "start_time": "2021-10-16T13:21:17.812Z"
   },
   {
    "duration": 8,
    "start_time": "2021-10-16T13:21:18.559Z"
   },
   {
    "duration": 8,
    "start_time": "2021-10-16T13:21:19.223Z"
   },
   {
    "duration": 4,
    "start_time": "2021-10-16T13:21:19.789Z"
   },
   {
    "duration": 18,
    "start_time": "2021-10-16T13:21:20.282Z"
   },
   {
    "duration": 4,
    "start_time": "2021-10-16T13:21:20.746Z"
   },
   {
    "duration": 7,
    "start_time": "2021-10-16T13:21:21.257Z"
   },
   {
    "duration": 13,
    "start_time": "2021-10-16T13:21:23.550Z"
   },
   {
    "duration": 29,
    "start_time": "2021-10-16T13:21:27.254Z"
   },
   {
    "duration": 16,
    "start_time": "2021-10-16T13:21:31.125Z"
   },
   {
    "duration": 443,
    "start_time": "2021-10-16T13:21:32.977Z"
   },
   {
    "duration": 21,
    "start_time": "2021-10-16T13:23:50.076Z"
   },
   {
    "duration": 386,
    "start_time": "2021-10-16T13:26:13.576Z"
   },
   {
    "duration": 364,
    "start_time": "2021-10-16T13:26:26.797Z"
   },
   {
    "duration": 7,
    "start_time": "2021-10-16T13:26:43.003Z"
   },
   {
    "duration": 7,
    "start_time": "2021-10-16T13:26:48.202Z"
   },
   {
    "duration": 6,
    "start_time": "2021-10-16T13:26:53.464Z"
   },
   {
    "duration": 123,
    "start_time": "2021-10-16T13:27:05.147Z"
   },
   {
    "duration": 450,
    "start_time": "2021-10-16T13:27:08.099Z"
   },
   {
    "duration": 5,
    "start_time": "2021-10-16T13:27:26.175Z"
   },
   {
    "duration": 369,
    "start_time": "2021-10-16T13:27:27.849Z"
   },
   {
    "duration": 376,
    "start_time": "2021-10-16T13:27:37.148Z"
   },
   {
    "duration": 17,
    "start_time": "2021-10-16T13:27:54.544Z"
   },
   {
    "duration": 16,
    "start_time": "2021-10-16T13:28:00.180Z"
   },
   {
    "duration": 14,
    "start_time": "2021-10-16T13:28:10.109Z"
   },
   {
    "duration": 334,
    "start_time": "2021-10-16T13:28:11.933Z"
   },
   {
    "duration": 5,
    "start_time": "2021-10-16T13:32:06.934Z"
   },
   {
    "duration": 30,
    "start_time": "2021-10-16T13:34:09.472Z"
   },
   {
    "duration": 14,
    "start_time": "2021-10-16T13:34:17.762Z"
   },
   {
    "duration": 366,
    "start_time": "2021-10-16T13:34:36.835Z"
   },
   {
    "duration": 403,
    "start_time": "2021-10-16T13:34:38.738Z"
   },
   {
    "duration": 647,
    "start_time": "2021-10-16T13:34:44.892Z"
   },
   {
    "duration": 143,
    "start_time": "2021-10-16T13:34:59.730Z"
   },
   {
    "duration": 7711,
    "start_time": "2021-10-16T13:38:32.125Z"
   },
   {
    "duration": 13,
    "start_time": "2021-10-16T13:39:04.730Z"
   },
   {
    "duration": 652,
    "start_time": "2021-10-16T13:39:16.440Z"
   },
   {
    "duration": 230,
    "start_time": "2021-10-16T13:39:47.844Z"
   },
   {
    "duration": 290,
    "start_time": "2021-10-16T13:41:35.976Z"
   },
   {
    "duration": 207,
    "start_time": "2021-10-16T13:41:38.213Z"
   },
   {
    "duration": 14,
    "start_time": "2021-10-16T13:41:39.100Z"
   },
   {
    "duration": 6,
    "start_time": "2021-10-16T13:41:39.963Z"
   },
   {
    "duration": 188,
    "start_time": "2021-10-16T13:41:41.864Z"
   },
   {
    "duration": 10,
    "start_time": "2021-10-16T13:41:42.886Z"
   },
   {
    "duration": 5,
    "start_time": "2021-10-16T13:41:43.750Z"
   },
   {
    "duration": 10,
    "start_time": "2021-10-16T13:41:44.436Z"
   },
   {
    "duration": 5,
    "start_time": "2021-10-16T13:41:45.590Z"
   },
   {
    "duration": 12,
    "start_time": "2021-10-16T13:41:49.661Z"
   },
   {
    "duration": 7,
    "start_time": "2021-10-16T13:41:50.307Z"
   },
   {
    "duration": 5,
    "start_time": "2021-10-16T13:42:08.040Z"
   },
   {
    "duration": 17,
    "start_time": "2021-10-16T13:42:26.512Z"
   },
   {
    "duration": 4,
    "start_time": "2021-10-16T13:42:29.256Z"
   },
   {
    "duration": 3,
    "start_time": "2021-10-16T13:42:42.031Z"
   },
   {
    "duration": 160,
    "start_time": "2021-10-16T13:42:43.228Z"
   },
   {
    "duration": 163,
    "start_time": "2021-10-16T13:42:45.952Z"
   },
   {
    "duration": 152,
    "start_time": "2021-10-16T13:43:07.607Z"
   },
   {
    "duration": 8,
    "start_time": "2021-10-16T13:44:04.870Z"
   },
   {
    "duration": 15,
    "start_time": "2021-10-16T13:44:05.858Z"
   },
   {
    "duration": 9,
    "start_time": "2021-10-16T13:44:06.554Z"
   },
   {
    "duration": 7,
    "start_time": "2021-10-16T13:44:07.196Z"
   },
   {
    "duration": 15,
    "start_time": "2021-10-16T13:44:07.891Z"
   },
   {
    "duration": 12,
    "start_time": "2021-10-16T13:44:08.528Z"
   },
   {
    "duration": 11,
    "start_time": "2021-10-16T13:44:09.264Z"
   },
   {
    "duration": 3,
    "start_time": "2021-10-16T13:44:09.956Z"
   },
   {
    "duration": 6,
    "start_time": "2021-10-16T13:44:10.611Z"
   },
   {
    "duration": 3,
    "start_time": "2021-10-16T13:44:11.257Z"
   },
   {
    "duration": 16,
    "start_time": "2021-10-16T13:44:11.934Z"
   },
   {
    "duration": 11,
    "start_time": "2021-10-16T13:44:12.595Z"
   },
   {
    "duration": 146,
    "start_time": "2021-10-16T13:44:13.284Z"
   },
   {
    "duration": 362,
    "start_time": "2021-10-16T13:44:36.618Z"
   },
   {
    "duration": 361,
    "start_time": "2021-10-16T13:46:04.810Z"
   },
   {
    "duration": 14,
    "start_time": "2021-10-16T13:46:30.582Z"
   },
   {
    "duration": 15,
    "start_time": "2021-10-16T13:46:38.685Z"
   },
   {
    "duration": 7,
    "start_time": "2021-10-16T13:46:51.904Z"
   },
   {
    "duration": 17,
    "start_time": "2021-10-16T13:47:10.967Z"
   },
   {
    "duration": 3,
    "start_time": "2021-10-16T13:47:21.106Z"
   },
   {
    "duration": 364,
    "start_time": "2021-10-16T13:47:31.108Z"
   },
   {
    "duration": 14,
    "start_time": "2021-10-16T13:47:40.578Z"
   },
   {
    "duration": 363,
    "start_time": "2021-10-16T13:47:42.954Z"
   },
   {
    "duration": 15,
    "start_time": "2021-10-16T13:47:44.978Z"
   },
   {
    "duration": 10300,
    "start_time": "2021-10-16T13:48:04.823Z"
   },
   {
    "duration": -1307,
    "start_time": "2021-10-16T13:48:16.433Z"
   },
   {
    "duration": 14,
    "start_time": "2021-10-16T13:48:16.809Z"
   },
   {
    "duration": 8924,
    "start_time": "2021-10-16T13:48:17.669Z"
   },
   {
    "duration": 22,
    "start_time": "2021-10-16T13:49:17.842Z"
   },
   {
    "duration": 13,
    "start_time": "2021-10-16T13:49:23.964Z"
   },
   {
    "duration": 26,
    "start_time": "2021-10-16T13:49:28.625Z"
   },
   {
    "duration": 10,
    "start_time": "2021-10-16T13:49:33.148Z"
   },
   {
    "duration": 18,
    "start_time": "2021-10-16T13:50:03.901Z"
   },
   {
    "duration": 22,
    "start_time": "2021-10-16T13:50:09.262Z"
   },
   {
    "duration": 11,
    "start_time": "2021-10-16T13:50:17.675Z"
   },
   {
    "duration": 3,
    "start_time": "2021-10-16T13:50:24.857Z"
   },
   {
    "duration": 4,
    "start_time": "2021-10-16T13:50:26.837Z"
   },
   {
    "duration": 4,
    "start_time": "2021-10-16T13:50:40.172Z"
   },
   {
    "duration": 9686,
    "start_time": "2021-10-16T13:50:48.682Z"
   },
   {
    "duration": 6,
    "start_time": "2021-10-16T13:51:05.262Z"
   },
   {
    "duration": 4,
    "start_time": "2021-10-16T13:51:17.453Z"
   },
   {
    "duration": 4,
    "start_time": "2021-10-16T13:51:24.296Z"
   },
   {
    "duration": 43,
    "start_time": "2021-10-16T13:51:40.958Z"
   },
   {
    "duration": 14,
    "start_time": "2021-10-16T13:53:10.947Z"
   },
   {
    "duration": 15,
    "start_time": "2021-10-16T13:53:45.865Z"
   },
   {
    "duration": 4,
    "start_time": "2021-10-16T13:54:10.947Z"
   },
   {
    "duration": 18,
    "start_time": "2021-10-16T13:54:12.185Z"
   },
   {
    "duration": 5,
    "start_time": "2021-10-16T13:54:20.646Z"
   },
   {
    "duration": 3,
    "start_time": "2021-10-16T13:54:22.260Z"
   },
   {
    "duration": 15,
    "start_time": "2021-10-16T13:54:22.976Z"
   },
   {
    "duration": 2064,
    "start_time": "2021-10-16T16:15:58.916Z"
   },
   {
    "duration": 5,
    "start_time": "2021-10-16T16:16:00.983Z"
   },
   {
    "duration": 883,
    "start_time": "2021-10-16T16:16:00.992Z"
   },
   {
    "duration": 146,
    "start_time": "2021-10-16T16:16:01.878Z"
   },
   {
    "duration": 6,
    "start_time": "2021-10-16T16:16:02.860Z"
   },
   {
    "duration": 241,
    "start_time": "2021-10-16T16:16:02.975Z"
   },
   {
    "duration": 37,
    "start_time": "2021-10-16T16:16:03.267Z"
   },
   {
    "duration": 4,
    "start_time": "2021-10-16T16:16:03.410Z"
   },
   {
    "duration": 18,
    "start_time": "2021-10-16T16:16:03.643Z"
   },
   {
    "duration": 29,
    "start_time": "2021-10-16T16:16:03.773Z"
   },
   {
    "duration": 7,
    "start_time": "2021-10-16T16:16:03.931Z"
   },
   {
    "duration": 36,
    "start_time": "2021-10-16T16:16:04.131Z"
   },
   {
    "duration": 9,
    "start_time": "2021-10-16T16:16:04.276Z"
   },
   {
    "duration": 10,
    "start_time": "2021-10-16T16:16:04.525Z"
   },
   {
    "duration": 146,
    "start_time": "2021-10-16T16:16:04.677Z"
   },
   {
    "duration": 19,
    "start_time": "2021-10-16T16:16:04.828Z"
   },
   {
    "duration": 9,
    "start_time": "2021-10-16T16:16:04.992Z"
   },
   {
    "duration": 37,
    "start_time": "2021-10-16T16:16:05.159Z"
   },
   {
    "duration": 27,
    "start_time": "2021-10-16T16:16:05.293Z"
   },
   {
    "duration": 7,
    "start_time": "2021-10-16T16:16:05.478Z"
   },
   {
    "duration": 13,
    "start_time": "2021-10-16T16:16:05.804Z"
   },
   {
    "duration": 37,
    "start_time": "2021-10-16T16:16:06.140Z"
   },
   {
    "duration": 28,
    "start_time": "2021-10-16T16:16:06.313Z"
   },
   {
    "duration": 52,
    "start_time": "2021-10-16T16:16:08.540Z"
   },
   {
    "duration": 54,
    "start_time": "2021-10-16T16:16:08.675Z"
   },
   {
    "duration": 60,
    "start_time": "2021-10-16T16:16:08.935Z"
   },
   {
    "duration": 172,
    "start_time": "2021-10-16T16:16:09.128Z"
   },
   {
    "duration": 54,
    "start_time": "2021-10-16T16:16:09.303Z"
   },
   {
    "duration": 164,
    "start_time": "2021-10-16T16:16:09.451Z"
   },
   {
    "duration": 157,
    "start_time": "2021-10-16T16:16:09.618Z"
   },
   {
    "duration": 111,
    "start_time": "2021-10-16T16:16:09.821Z"
   },
   {
    "duration": 266,
    "start_time": "2021-10-16T16:16:09.934Z"
   },
   {
    "duration": 263,
    "start_time": "2021-10-16T16:16:10.203Z"
   },
   {
    "duration": 312,
    "start_time": "2021-10-16T16:16:10.590Z"
   },
   {
    "duration": 168,
    "start_time": "2021-10-16T16:16:11.147Z"
   },
   {
    "duration": 4,
    "start_time": "2021-10-16T16:16:11.318Z"
   },
   {
    "duration": 9,
    "start_time": "2021-10-16T16:16:11.413Z"
   },
   {
    "duration": 24,
    "start_time": "2021-10-16T16:16:11.610Z"
   },
   {
    "duration": 6,
    "start_time": "2021-10-16T16:16:11.795Z"
   },
   {
    "duration": 268,
    "start_time": "2021-10-16T16:16:13.905Z"
   },
   {
    "duration": 22,
    "start_time": "2021-10-16T16:16:15.169Z"
   },
   {
    "duration": 450,
    "start_time": "2021-10-16T16:16:15.337Z"
   },
   {
    "duration": 11,
    "start_time": "2021-10-16T16:16:16.180Z"
   },
   {
    "duration": 315,
    "start_time": "2021-10-16T16:16:17.821Z"
   },
   {
    "duration": 132,
    "start_time": "2021-10-16T16:16:18.701Z"
   },
   {
    "duration": 128,
    "start_time": "2021-10-16T16:16:18.927Z"
   },
   {
    "duration": 34,
    "start_time": "2021-10-16T16:16:19.437Z"
   },
   {
    "duration": 140,
    "start_time": "2021-10-16T16:16:19.567Z"
   },
   {
    "duration": 38,
    "start_time": "2021-10-16T16:16:19.722Z"
   },
   {
    "duration": 14,
    "start_time": "2021-10-16T16:16:19.884Z"
   },
   {
    "duration": 258,
    "start_time": "2021-10-16T16:16:19.980Z"
   },
   {
    "duration": 11,
    "start_time": "2021-10-16T16:16:20.241Z"
   },
   {
    "duration": 11,
    "start_time": "2021-10-16T16:16:20.298Z"
   },
   {
    "duration": 7,
    "start_time": "2021-10-16T16:16:20.487Z"
   },
   {
    "duration": 30,
    "start_time": "2021-10-16T16:16:20.785Z"
   },
   {
    "duration": 6,
    "start_time": "2021-10-16T16:16:21.021Z"
   },
   {
    "duration": 10,
    "start_time": "2021-10-16T16:16:21.168Z"
   },
   {
    "duration": 20,
    "start_time": "2021-10-16T16:16:22.302Z"
   },
   {
    "duration": 42,
    "start_time": "2021-10-16T16:16:22.452Z"
   },
   {
    "duration": 23,
    "start_time": "2021-10-16T16:16:22.581Z"
   },
   {
    "duration": 538,
    "start_time": "2021-10-16T16:16:22.781Z"
   },
   {
    "duration": 7,
    "start_time": "2021-10-16T16:16:24.395Z"
   },
   {
    "duration": 343,
    "start_time": "2021-10-16T16:16:24.758Z"
   },
   {
    "duration": 445,
    "start_time": "2021-10-16T16:16:25.275Z"
   },
   {
    "duration": 319,
    "start_time": "2021-10-16T16:16:25.722Z"
   },
   {
    "duration": 18,
    "start_time": "2021-10-16T16:16:26.649Z"
   },
   {
    "duration": 8,
    "start_time": "2021-10-16T16:16:27.357Z"
   },
   {
    "duration": 268,
    "start_time": "2021-10-16T16:16:28.338Z"
   },
   {
    "duration": 13,
    "start_time": "2021-10-16T16:16:28.613Z"
   },
   {
    "duration": 7,
    "start_time": "2021-10-16T16:16:28.711Z"
   },
   {
    "duration": 15,
    "start_time": "2021-10-16T16:16:29.971Z"
   },
   {
    "duration": 7,
    "start_time": "2021-10-16T16:16:31.058Z"
   },
   {
    "duration": 27,
    "start_time": "2021-10-16T16:16:32.578Z"
   },
   {
    "duration": 8,
    "start_time": "2021-10-16T16:16:32.775Z"
   },
   {
    "duration": 288,
    "start_time": "2021-10-16T16:16:34.083Z"
   },
   {
    "duration": 21,
    "start_time": "2021-10-16T16:16:35.620Z"
   },
   {
    "duration": 10,
    "start_time": "2021-10-16T16:16:35.781Z"
   },
   {
    "duration": 9622,
    "start_time": "2021-10-16T16:16:35.936Z"
   },
   {
    "duration": -942,
    "start_time": "2021-10-16T16:16:46.503Z"
   },
   {
    "duration": -955,
    "start_time": "2021-10-16T16:16:46.518Z"
   },
   {
    "duration": -966,
    "start_time": "2021-10-16T16:16:46.530Z"
   },
   {
    "duration": -975,
    "start_time": "2021-10-16T16:16:46.540Z"
   },
   {
    "duration": -986,
    "start_time": "2021-10-16T16:16:46.553Z"
   },
   {
    "duration": -993,
    "start_time": "2021-10-16T16:16:46.561Z"
   },
   {
    "duration": -1001,
    "start_time": "2021-10-16T16:16:46.570Z"
   },
   {
    "duration": -1007,
    "start_time": "2021-10-16T16:16:46.578Z"
   },
   {
    "duration": -1013,
    "start_time": "2021-10-16T16:16:46.585Z"
   },
   {
    "duration": -1029,
    "start_time": "2021-10-16T16:16:46.602Z"
   },
   {
    "duration": -1036,
    "start_time": "2021-10-16T16:16:46.611Z"
   },
   {
    "duration": 25,
    "start_time": "2021-10-16T16:16:58.577Z"
   },
   {
    "duration": 4,
    "start_time": "2021-10-16T16:17:00.610Z"
   },
   {
    "duration": 24,
    "start_time": "2021-10-16T16:17:02.977Z"
   },
   {
    "duration": 41,
    "start_time": "2021-10-16T16:17:03.807Z"
   },
   {
    "duration": 21,
    "start_time": "2021-10-16T16:17:04.667Z"
   },
   {
    "duration": 4,
    "start_time": "2021-10-16T16:17:05.450Z"
   },
   {
    "duration": 6,
    "start_time": "2021-10-16T16:17:06.199Z"
   },
   {
    "duration": 7,
    "start_time": "2021-10-16T16:17:06.981Z"
   },
   {
    "duration": 5,
    "start_time": "2021-10-16T16:17:07.721Z"
   },
   {
    "duration": 25,
    "start_time": "2021-10-16T16:17:08.493Z"
   },
   {
    "duration": 109,
    "start_time": "2021-10-16T16:17:09.264Z"
   },
   {
    "duration": 38,
    "start_time": "2021-10-16T16:17:14.688Z"
   },
   {
    "duration": 332,
    "start_time": "2021-10-16T16:17:51.357Z"
   },
   {
    "duration": 8899,
    "start_time": "2021-10-16T16:18:12.424Z"
   },
   {
    "duration": -790,
    "start_time": "2021-10-16T16:18:56.646Z"
   },
   {
    "duration": 8475,
    "start_time": "2021-10-16T16:19:20.068Z"
   },
   {
    "duration": 21,
    "start_time": "2021-10-16T16:20:27.281Z"
   },
   {
    "duration": 25,
    "start_time": "2021-10-16T16:20:35.412Z"
   },
   {
    "duration": 299,
    "start_time": "2021-10-16T16:20:39.624Z"
   },
   {
    "duration": 9177,
    "start_time": "2021-10-16T16:20:50.817Z"
   },
   {
    "duration": 286,
    "start_time": "2021-10-16T16:21:21.868Z"
   },
   {
    "duration": 8787,
    "start_time": "2021-10-16T16:22:26.379Z"
   },
   {
    "duration": 8354,
    "start_time": "2021-10-16T16:22:37.969Z"
   },
   {
    "duration": 9065,
    "start_time": "2021-10-16T16:23:32.234Z"
   },
   {
    "duration": 282,
    "start_time": "2021-10-16T16:23:51.901Z"
   },
   {
    "duration": 35,
    "start_time": "2021-10-16T16:25:48.362Z"
   },
   {
    "duration": 12,
    "start_time": "2021-10-16T16:25:51.350Z"
   },
   {
    "duration": 136,
    "start_time": "2021-10-16T16:25:55.702Z"
   },
   {
    "duration": 38,
    "start_time": "2021-10-16T16:25:57.588Z"
   },
   {
    "duration": 19,
    "start_time": "2021-10-16T16:29:38.707Z"
   },
   {
    "duration": 22,
    "start_time": "2021-10-16T16:29:39.576Z"
   },
   {
    "duration": 275,
    "start_time": "2021-10-16T16:29:40.698Z"
   },
   {
    "duration": 657,
    "start_time": "2021-10-16T16:30:04.391Z"
   },
   {
    "duration": 272,
    "start_time": "2021-10-16T16:30:23.791Z"
   },
   {
    "duration": 517,
    "start_time": "2021-10-16T16:31:05.511Z"
   },
   {
    "duration": 590,
    "start_time": "2021-10-16T16:31:25.840Z"
   },
   {
    "duration": 339,
    "start_time": "2021-10-16T16:32:14.603Z"
   },
   {
    "duration": 355,
    "start_time": "2021-10-16T16:32:38.425Z"
   },
   {
    "duration": 22,
    "start_time": "2021-10-16T16:33:05.631Z"
   },
   {
    "duration": 18,
    "start_time": "2021-10-16T16:33:19.838Z"
   },
   {
    "duration": 349,
    "start_time": "2021-10-16T16:33:38.376Z"
   },
   {
    "duration": 22,
    "start_time": "2021-10-16T16:33:48.649Z"
   },
   {
    "duration": 21,
    "start_time": "2021-10-16T16:34:43.660Z"
   },
   {
    "duration": 22,
    "start_time": "2021-10-16T16:34:48.340Z"
   },
   {
    "duration": 11,
    "start_time": "2021-10-16T16:35:30.042Z"
   },
   {
    "duration": 53,
    "start_time": "2021-10-16T16:35:31.912Z"
   },
   {
    "duration": 9,
    "start_time": "2021-10-16T16:35:35.913Z"
   },
   {
    "duration": 359,
    "start_time": "2021-10-16T16:35:43.915Z"
   },
   {
    "duration": 381,
    "start_time": "2021-10-16T16:35:48.014Z"
   },
   {
    "duration": 352,
    "start_time": "2021-10-16T16:35:56.331Z"
   },
   {
    "duration": 4,
    "start_time": "2021-10-16T16:36:07.020Z"
   },
   {
    "duration": 790,
    "start_time": "2021-10-16T16:36:07.099Z"
   },
   {
    "duration": 120,
    "start_time": "2021-10-16T16:36:07.892Z"
   },
   {
    "duration": 4,
    "start_time": "2021-10-16T16:36:08.015Z"
   },
   {
    "duration": 240,
    "start_time": "2021-10-16T16:36:08.021Z"
   },
   {
    "duration": 46,
    "start_time": "2021-10-16T16:36:08.264Z"
   },
   {
    "duration": 3,
    "start_time": "2021-10-16T16:36:08.312Z"
   },
   {
    "duration": 27,
    "start_time": "2021-10-16T16:36:08.318Z"
   },
   {
    "duration": 54,
    "start_time": "2021-10-16T16:36:08.347Z"
   },
   {
    "duration": 7,
    "start_time": "2021-10-16T16:36:08.403Z"
   },
   {
    "duration": 30,
    "start_time": "2021-10-16T16:36:08.419Z"
   },
   {
    "duration": 8,
    "start_time": "2021-10-16T16:36:08.532Z"
   },
   {
    "duration": 8,
    "start_time": "2021-10-16T16:36:08.644Z"
   },
   {
    "duration": 130,
    "start_time": "2021-10-16T16:36:08.884Z"
   },
   {
    "duration": 17,
    "start_time": "2021-10-16T16:36:09.017Z"
   },
   {
    "duration": 8,
    "start_time": "2021-10-16T16:36:09.176Z"
   },
   {
    "duration": 24,
    "start_time": "2021-10-16T16:36:09.289Z"
   },
   {
    "duration": 25,
    "start_time": "2021-10-16T16:36:09.418Z"
   },
   {
    "duration": 8,
    "start_time": "2021-10-16T16:36:09.558Z"
   },
   {
    "duration": 11,
    "start_time": "2021-10-16T16:36:09.855Z"
   },
   {
    "duration": 27,
    "start_time": "2021-10-16T16:36:10.156Z"
   },
   {
    "duration": 21,
    "start_time": "2021-10-16T16:36:10.283Z"
   },
   {
    "duration": 54,
    "start_time": "2021-10-16T16:36:11.756Z"
   },
   {
    "duration": 53,
    "start_time": "2021-10-16T16:36:11.896Z"
   },
   {
    "duration": 59,
    "start_time": "2021-10-16T16:36:12.046Z"
   },
   {
    "duration": 166,
    "start_time": "2021-10-16T16:36:12.216Z"
   },
   {
    "duration": 60,
    "start_time": "2021-10-16T16:36:12.385Z"
   },
   {
    "duration": 130,
    "start_time": "2021-10-16T16:36:12.524Z"
   },
   {
    "duration": 159,
    "start_time": "2021-10-16T16:36:12.660Z"
   },
   {
    "duration": 119,
    "start_time": "2021-10-16T16:36:12.822Z"
   },
   {
    "duration": 253,
    "start_time": "2021-10-16T16:36:12.958Z"
   },
   {
    "duration": 259,
    "start_time": "2021-10-16T16:36:13.214Z"
   },
   {
    "duration": 279,
    "start_time": "2021-10-16T16:36:13.629Z"
   },
   {
    "duration": 145,
    "start_time": "2021-10-16T16:36:14.263Z"
   },
   {
    "duration": 4,
    "start_time": "2021-10-16T16:36:14.415Z"
   },
   {
    "duration": 5,
    "start_time": "2021-10-16T16:36:14.562Z"
   },
   {
    "duration": 24,
    "start_time": "2021-10-16T16:36:14.701Z"
   },
   {
    "duration": 7,
    "start_time": "2021-10-16T16:36:14.839Z"
   },
   {
    "duration": 266,
    "start_time": "2021-10-16T16:36:15.424Z"
   },
   {
    "duration": 24,
    "start_time": "2021-10-16T16:36:16.270Z"
   },
   {
    "duration": 433,
    "start_time": "2021-10-16T16:36:16.417Z"
   },
   {
    "duration": 11,
    "start_time": "2021-10-16T16:36:17.101Z"
   },
   {
    "duration": 321,
    "start_time": "2021-10-16T16:36:17.689Z"
   },
   {
    "duration": 121,
    "start_time": "2021-10-16T16:36:18.444Z"
   },
   {
    "duration": 125,
    "start_time": "2021-10-16T16:36:18.568Z"
   },
   {
    "duration": 33,
    "start_time": "2021-10-16T16:36:18.731Z"
   },
   {
    "duration": 132,
    "start_time": "2021-10-16T16:36:18.865Z"
   },
   {
    "duration": 36,
    "start_time": "2021-10-16T16:36:19.035Z"
   },
   {
    "duration": 13,
    "start_time": "2021-10-16T16:36:19.176Z"
   },
   {
    "duration": 251,
    "start_time": "2021-10-16T16:36:19.343Z"
   },
   {
    "duration": 11,
    "start_time": "2021-10-16T16:36:19.597Z"
   },
   {
    "duration": 9,
    "start_time": "2021-10-16T16:36:19.626Z"
   },
   {
    "duration": 5,
    "start_time": "2021-10-16T16:36:19.837Z"
   },
   {
    "duration": 29,
    "start_time": "2021-10-16T16:36:19.936Z"
   },
   {
    "duration": 6,
    "start_time": "2021-10-16T16:36:20.079Z"
   },
   {
    "duration": 11,
    "start_time": "2021-10-16T16:36:20.234Z"
   },
   {
    "duration": 21,
    "start_time": "2021-10-16T16:36:20.385Z"
   },
   {
    "duration": 43,
    "start_time": "2021-10-16T16:36:20.526Z"
   },
   {
    "duration": 22,
    "start_time": "2021-10-16T16:36:20.714Z"
   },
   {
    "duration": 516,
    "start_time": "2021-10-16T16:36:20.909Z"
   },
   {
    "duration": 7,
    "start_time": "2021-10-16T16:36:21.801Z"
   },
   {
    "duration": 260,
    "start_time": "2021-10-16T16:36:22.234Z"
   },
   {
    "duration": 438,
    "start_time": "2021-10-16T16:36:22.900Z"
   },
   {
    "duration": 332,
    "start_time": "2021-10-16T16:36:23.341Z"
   },
   {
    "duration": 29,
    "start_time": "2021-10-16T16:36:23.676Z"
   },
   {
    "duration": 8,
    "start_time": "2021-10-16T16:36:23.707Z"
   },
   {
    "duration": 271,
    "start_time": "2021-10-16T16:36:23.951Z"
   },
   {
    "duration": 15,
    "start_time": "2021-10-16T16:36:24.225Z"
   },
   {
    "duration": 7,
    "start_time": "2021-10-16T16:36:24.242Z"
   },
   {
    "duration": 15,
    "start_time": "2021-10-16T16:36:24.387Z"
   },
   {
    "duration": 6,
    "start_time": "2021-10-16T16:36:24.624Z"
   },
   {
    "duration": 25,
    "start_time": "2021-10-16T16:36:25.265Z"
   },
   {
    "duration": 6,
    "start_time": "2021-10-16T16:36:25.441Z"
   },
   {
    "duration": 274,
    "start_time": "2021-10-16T16:36:27.883Z"
   },
   {
    "duration": 23,
    "start_time": "2021-10-16T16:36:30.640Z"
   },
   {
    "duration": 10,
    "start_time": "2021-10-16T16:36:30.748Z"
   },
   {
    "duration": 25,
    "start_time": "2021-10-16T16:36:31.740Z"
   },
   {
    "duration": 4,
    "start_time": "2021-10-16T16:36:31.905Z"
   },
   {
    "duration": 23,
    "start_time": "2021-10-16T16:36:32.016Z"
   },
   {
    "duration": 40,
    "start_time": "2021-10-16T16:36:32.173Z"
   },
   {
    "duration": 23,
    "start_time": "2021-10-16T16:36:32.305Z"
   },
   {
    "duration": 4,
    "start_time": "2021-10-16T16:36:32.419Z"
   },
   {
    "duration": 6,
    "start_time": "2021-10-16T16:36:32.544Z"
   },
   {
    "duration": 9,
    "start_time": "2021-10-16T16:36:32.683Z"
   },
   {
    "duration": 4,
    "start_time": "2021-10-16T16:36:32.932Z"
   },
   {
    "duration": 27,
    "start_time": "2021-10-16T16:36:33.882Z"
   },
   {
    "duration": 111,
    "start_time": "2021-10-16T16:36:34.023Z"
   },
   {
    "duration": 36,
    "start_time": "2021-10-16T16:36:34.137Z"
   },
   {
    "duration": 20,
    "start_time": "2021-10-16T16:36:37.956Z"
   },
   {
    "duration": 22,
    "start_time": "2021-10-16T16:36:39.239Z"
   },
   {
    "duration": 494,
    "start_time": "2021-10-16T16:36:41.279Z"
   },
   {
    "duration": 11,
    "start_time": "2021-10-16T16:36:42.848Z"
   },
   {
    "duration": 56,
    "start_time": "2021-10-16T16:36:44.234Z"
   },
   {
    "duration": 9,
    "start_time": "2021-10-16T16:36:47.486Z"
   },
   {
    "duration": 74,
    "start_time": "2021-10-16T16:36:49.457Z"
   },
   {
    "duration": 38,
    "start_time": "2021-10-16T16:36:50.357Z"
   },
   {
    "duration": 25,
    "start_time": "2021-10-16T16:36:50.936Z"
   },
   {
    "duration": 24,
    "start_time": "2021-10-16T16:36:51.497Z"
   },
   {
    "duration": 1473,
    "start_time": "2021-10-17T14:24:20.304Z"
   },
   {
    "duration": 6,
    "start_time": "2021-10-17T14:24:21.780Z"
   },
   {
    "duration": 783,
    "start_time": "2021-10-17T14:24:21.789Z"
   },
   {
    "duration": 150,
    "start_time": "2021-10-17T14:24:22.575Z"
   },
   {
    "duration": 6,
    "start_time": "2021-10-17T14:24:22.728Z"
   },
   {
    "duration": 283,
    "start_time": "2021-10-17T14:24:22.737Z"
   },
   {
    "duration": 36,
    "start_time": "2021-10-17T14:24:23.022Z"
   },
   {
    "duration": 4,
    "start_time": "2021-10-17T14:24:23.061Z"
   },
   {
    "duration": 20,
    "start_time": "2021-10-17T14:24:23.084Z"
   },
   {
    "duration": 37,
    "start_time": "2021-10-17T14:24:23.106Z"
   },
   {
    "duration": 6,
    "start_time": "2021-10-17T14:24:23.146Z"
   },
   {
    "duration": 32,
    "start_time": "2021-10-17T14:24:23.183Z"
   },
   {
    "duration": 8,
    "start_time": "2021-10-17T14:24:23.217Z"
   },
   {
    "duration": 11,
    "start_time": "2021-10-17T14:24:23.228Z"
   },
   {
    "duration": 175,
    "start_time": "2021-10-17T14:24:23.241Z"
   },
   {
    "duration": 17,
    "start_time": "2021-10-17T14:24:23.419Z"
   },
   {
    "duration": 6,
    "start_time": "2021-10-17T14:24:23.439Z"
   },
   {
    "duration": 51,
    "start_time": "2021-10-17T14:24:23.448Z"
   },
   {
    "duration": 27,
    "start_time": "2021-10-17T14:24:23.501Z"
   },
   {
    "duration": 7,
    "start_time": "2021-10-17T14:24:23.530Z"
   },
   {
    "duration": 13,
    "start_time": "2021-10-17T14:24:23.539Z"
   },
   {
    "duration": 32,
    "start_time": "2021-10-17T14:24:23.583Z"
   },
   {
    "duration": 18,
    "start_time": "2021-10-17T14:24:23.622Z"
   },
   {
    "duration": 80,
    "start_time": "2021-10-17T14:24:23.644Z"
   },
   {
    "duration": 57,
    "start_time": "2021-10-17T14:24:23.727Z"
   },
   {
    "duration": 55,
    "start_time": "2021-10-17T14:24:23.786Z"
   },
   {
    "duration": 180,
    "start_time": "2021-10-17T14:24:23.843Z"
   },
   {
    "duration": 61,
    "start_time": "2021-10-17T14:24:24.026Z"
   },
   {
    "duration": 148,
    "start_time": "2021-10-17T14:24:24.090Z"
   },
   {
    "duration": 155,
    "start_time": "2021-10-17T14:24:24.240Z"
   },
   {
    "duration": 115,
    "start_time": "2021-10-17T14:24:24.397Z"
   },
   {
    "duration": 260,
    "start_time": "2021-10-17T14:24:24.514Z"
   },
   {
    "duration": 245,
    "start_time": "2021-10-17T14:24:24.776Z"
   },
   {
    "duration": 278,
    "start_time": "2021-10-17T14:24:25.024Z"
   },
   {
    "duration": 165,
    "start_time": "2021-10-17T14:24:25.304Z"
   },
   {
    "duration": 5,
    "start_time": "2021-10-17T14:24:25.471Z"
   },
   {
    "duration": 17,
    "start_time": "2021-10-17T14:24:25.479Z"
   },
   {
    "duration": 25,
    "start_time": "2021-10-17T14:24:25.498Z"
   },
   {
    "duration": 7,
    "start_time": "2021-10-17T14:24:25.526Z"
   },
   {
    "duration": 326,
    "start_time": "2021-10-17T14:24:25.535Z"
   },
   {
    "duration": 36,
    "start_time": "2021-10-17T14:24:25.863Z"
   },
   {
    "duration": 453,
    "start_time": "2021-10-17T14:24:25.901Z"
   },
   {
    "duration": 26,
    "start_time": "2021-10-17T14:24:26.356Z"
   },
   {
    "duration": 359,
    "start_time": "2021-10-17T14:24:26.385Z"
   },
   {
    "duration": 136,
    "start_time": "2021-10-17T14:24:26.747Z"
   },
   {
    "duration": 133,
    "start_time": "2021-10-17T14:24:26.885Z"
   },
   {
    "duration": 34,
    "start_time": "2021-10-17T14:24:27.021Z"
   },
   {
    "duration": 150,
    "start_time": "2021-10-17T14:24:27.058Z"
   },
   {
    "duration": 38,
    "start_time": "2021-10-17T14:24:27.210Z"
   },
   {
    "duration": 31,
    "start_time": "2021-10-17T14:24:27.251Z"
   },
   {
    "duration": 264,
    "start_time": "2021-10-17T14:24:27.285Z"
   },
   {
    "duration": 10,
    "start_time": "2021-10-17T14:24:27.551Z"
   },
   {
    "duration": 22,
    "start_time": "2021-10-17T14:24:27.563Z"
   },
   {
    "duration": 6,
    "start_time": "2021-10-17T14:24:27.588Z"
   },
   {
    "duration": 39,
    "start_time": "2021-10-17T14:24:27.596Z"
   },
   {
    "duration": 6,
    "start_time": "2021-10-17T14:24:27.638Z"
   },
   {
    "duration": 43,
    "start_time": "2021-10-17T14:24:27.646Z"
   },
   {
    "duration": 20,
    "start_time": "2021-10-17T14:24:27.692Z"
   },
   {
    "duration": 42,
    "start_time": "2021-10-17T14:24:27.714Z"
   },
   {
    "duration": 43,
    "start_time": "2021-10-17T14:24:27.758Z"
   },
   {
    "duration": 507,
    "start_time": "2021-10-17T14:24:27.803Z"
   },
   {
    "duration": 6,
    "start_time": "2021-10-17T14:24:28.313Z"
   },
   {
    "duration": 368,
    "start_time": "2021-10-17T14:24:28.321Z"
   },
   {
    "duration": 438,
    "start_time": "2021-10-17T14:24:28.692Z"
   },
   {
    "duration": 301,
    "start_time": "2021-10-17T14:24:29.133Z"
   },
   {
    "duration": 17,
    "start_time": "2021-10-17T14:24:29.437Z"
   },
   {
    "duration": 27,
    "start_time": "2021-10-17T14:24:29.456Z"
   },
   {
    "duration": 272,
    "start_time": "2021-10-17T14:24:29.491Z"
   },
   {
    "duration": 25,
    "start_time": "2021-10-17T14:24:29.766Z"
   },
   {
    "duration": 9,
    "start_time": "2021-10-17T14:24:29.794Z"
   },
   {
    "duration": 18,
    "start_time": "2021-10-17T14:24:29.805Z"
   },
   {
    "duration": 10,
    "start_time": "2021-10-17T14:24:29.826Z"
   },
   {
    "duration": 60,
    "start_time": "2021-10-17T14:24:29.839Z"
   },
   {
    "duration": 5,
    "start_time": "2021-10-17T14:24:29.902Z"
   },
   {
    "duration": 292,
    "start_time": "2021-10-17T14:24:29.909Z"
   },
   {
    "duration": 21,
    "start_time": "2021-10-17T14:24:30.204Z"
   },
   {
    "duration": 9,
    "start_time": "2021-10-17T14:24:30.228Z"
   },
   {
    "duration": 53,
    "start_time": "2021-10-17T14:24:30.240Z"
   },
   {
    "duration": 4,
    "start_time": "2021-10-17T14:24:30.295Z"
   },
   {
    "duration": 41,
    "start_time": "2021-10-17T14:24:30.301Z"
   },
   {
    "duration": 46,
    "start_time": "2021-10-17T14:24:30.344Z"
   },
   {
    "duration": 22,
    "start_time": "2021-10-17T14:24:30.392Z"
   },
   {
    "duration": 6,
    "start_time": "2021-10-17T14:24:30.416Z"
   },
   {
    "duration": 16,
    "start_time": "2021-10-17T14:24:30.424Z"
   },
   {
    "duration": 18,
    "start_time": "2021-10-17T14:24:30.442Z"
   },
   {
    "duration": 27,
    "start_time": "2021-10-17T14:24:30.463Z"
   },
   {
    "duration": 32,
    "start_time": "2021-10-17T14:24:30.493Z"
   },
   {
    "duration": 127,
    "start_time": "2021-10-17T14:24:30.528Z"
   },
   {
    "duration": 47,
    "start_time": "2021-10-17T14:24:30.657Z"
   },
   {
    "duration": 21,
    "start_time": "2021-10-17T14:24:30.706Z"
   },
   {
    "duration": 41,
    "start_time": "2021-10-17T14:24:30.729Z"
   },
   {
    "duration": 493,
    "start_time": "2021-10-17T14:24:30.782Z"
   },
   {
    "duration": 10,
    "start_time": "2021-10-17T14:24:31.277Z"
   },
   {
    "duration": 59,
    "start_time": "2021-10-17T14:24:31.290Z"
   },
   {
    "duration": 8,
    "start_time": "2021-10-17T14:24:31.351Z"
   },
   {
    "duration": 53,
    "start_time": "2021-10-17T14:24:31.383Z"
   },
   {
    "duration": 57,
    "start_time": "2021-10-17T14:24:31.439Z"
   },
   {
    "duration": 26,
    "start_time": "2021-10-17T14:24:31.499Z"
   },
   {
    "duration": 31,
    "start_time": "2021-10-17T14:24:31.527Z"
   },
   {
    "duration": 1489,
    "start_time": "2021-10-17T15:46:07.831Z"
   },
   {
    "duration": 4,
    "start_time": "2021-10-17T15:46:09.323Z"
   },
   {
    "duration": 772,
    "start_time": "2021-10-17T15:46:09.330Z"
   },
   {
    "duration": 141,
    "start_time": "2021-10-17T15:46:10.105Z"
   },
   {
    "duration": 5,
    "start_time": "2021-10-17T15:46:10.250Z"
   },
   {
    "duration": 246,
    "start_time": "2021-10-17T15:46:10.257Z"
   },
   {
    "duration": 38,
    "start_time": "2021-10-17T15:46:10.506Z"
   },
   {
    "duration": 4,
    "start_time": "2021-10-17T15:46:10.549Z"
   },
   {
    "duration": 18,
    "start_time": "2021-10-17T15:46:10.583Z"
   },
   {
    "duration": 42,
    "start_time": "2021-10-17T15:46:10.604Z"
   },
   {
    "duration": 6,
    "start_time": "2021-10-17T15:46:10.648Z"
   },
   {
    "duration": 51,
    "start_time": "2021-10-17T15:46:10.656Z"
   },
   {
    "duration": 8,
    "start_time": "2021-10-17T15:46:10.709Z"
   },
   {
    "duration": 20,
    "start_time": "2021-10-17T15:46:10.720Z"
   },
   {
    "duration": 213,
    "start_time": "2021-10-17T15:46:10.743Z"
   },
   {
    "duration": 29,
    "start_time": "2021-10-17T15:46:10.959Z"
   },
   {
    "duration": 8,
    "start_time": "2021-10-17T15:46:10.991Z"
   },
   {
    "duration": 25,
    "start_time": "2021-10-17T15:46:11.001Z"
   },
   {
    "duration": 55,
    "start_time": "2021-10-17T15:46:11.029Z"
   },
   {
    "duration": 6,
    "start_time": "2021-10-17T15:46:11.087Z"
   },
   {
    "duration": 16,
    "start_time": "2021-10-17T15:46:11.095Z"
   },
   {
    "duration": 27,
    "start_time": "2021-10-17T15:46:11.113Z"
   },
   {
    "duration": 48,
    "start_time": "2021-10-17T15:46:11.146Z"
   },
   {
    "duration": 51,
    "start_time": "2021-10-17T15:46:11.198Z"
   },
   {
    "duration": 73,
    "start_time": "2021-10-17T15:46:11.251Z"
   },
   {
    "duration": 69,
    "start_time": "2021-10-17T15:46:11.326Z"
   },
   {
    "duration": 160,
    "start_time": "2021-10-17T15:46:11.398Z"
   },
   {
    "duration": 63,
    "start_time": "2021-10-17T15:46:11.562Z"
   },
   {
    "duration": 154,
    "start_time": "2021-10-17T15:46:11.628Z"
   },
   {
    "duration": 183,
    "start_time": "2021-10-17T15:46:11.785Z"
   },
   {
    "duration": 155,
    "start_time": "2021-10-17T15:46:11.971Z"
   },
   {
    "duration": 382,
    "start_time": "2021-10-17T15:46:12.129Z"
   },
   {
    "duration": 408,
    "start_time": "2021-10-17T15:46:12.514Z"
   },
   {
    "duration": 431,
    "start_time": "2021-10-17T15:46:12.926Z"
   },
   {
    "duration": 211,
    "start_time": "2021-10-17T15:46:13.360Z"
   },
   {
    "duration": 9,
    "start_time": "2021-10-17T15:46:13.574Z"
   },
   {
    "duration": 17,
    "start_time": "2021-10-17T15:46:13.586Z"
   },
   {
    "duration": 36,
    "start_time": "2021-10-17T15:46:13.606Z"
   },
   {
    "duration": 7,
    "start_time": "2021-10-17T15:46:13.644Z"
   },
   {
    "duration": 281,
    "start_time": "2021-10-17T15:46:13.653Z"
   },
   {
    "duration": 22,
    "start_time": "2021-10-17T15:46:13.937Z"
   },
   {
    "duration": 451,
    "start_time": "2021-10-17T15:46:13.962Z"
   },
   {
    "duration": 10,
    "start_time": "2021-10-17T15:46:14.416Z"
   },
   {
    "duration": 335,
    "start_time": "2021-10-17T15:46:14.429Z"
   },
   {
    "duration": 140,
    "start_time": "2021-10-17T15:46:14.767Z"
   },
   {
    "duration": 144,
    "start_time": "2021-10-17T15:46:14.910Z"
   },
   {
    "duration": 44,
    "start_time": "2021-10-17T15:46:15.057Z"
   },
   {
    "duration": 150,
    "start_time": "2021-10-17T15:46:15.103Z"
   },
   {
    "duration": 45,
    "start_time": "2021-10-17T15:46:15.256Z"
   },
   {
    "duration": 16,
    "start_time": "2021-10-17T15:46:15.304Z"
   },
   {
    "duration": 280,
    "start_time": "2021-10-17T15:46:15.322Z"
   },
   {
    "duration": 12,
    "start_time": "2021-10-17T15:46:15.605Z"
   },
   {
    "duration": 13,
    "start_time": "2021-10-17T15:46:15.620Z"
   },
   {
    "duration": 6,
    "start_time": "2021-10-17T15:46:15.636Z"
   },
   {
    "duration": 64,
    "start_time": "2021-10-17T15:46:15.645Z"
   },
   {
    "duration": 7,
    "start_time": "2021-10-17T15:46:15.711Z"
   },
   {
    "duration": 13,
    "start_time": "2021-10-17T15:46:15.721Z"
   },
   {
    "duration": 52,
    "start_time": "2021-10-17T15:46:15.736Z"
   },
   {
    "duration": 42,
    "start_time": "2021-10-17T15:46:15.791Z"
   },
   {
    "duration": 50,
    "start_time": "2021-10-17T15:46:15.836Z"
   },
   {
    "duration": 487,
    "start_time": "2021-10-17T15:46:15.889Z"
   },
   {
    "duration": 9,
    "start_time": "2021-10-17T15:46:16.378Z"
   },
   {
    "duration": 342,
    "start_time": "2021-10-17T15:46:16.390Z"
   },
   {
    "duration": 413,
    "start_time": "2021-10-17T15:46:16.735Z"
   },
   {
    "duration": 305,
    "start_time": "2021-10-17T15:46:17.151Z"
   },
   {
    "duration": 31,
    "start_time": "2021-10-17T15:46:17.459Z"
   },
   {
    "duration": 8,
    "start_time": "2021-10-17T15:46:17.492Z"
   },
   {
    "duration": 277,
    "start_time": "2021-10-17T15:46:17.509Z"
   },
   {
    "duration": 12,
    "start_time": "2021-10-17T15:46:17.790Z"
   },
   {
    "duration": 9,
    "start_time": "2021-10-17T15:46:17.804Z"
   },
   {
    "duration": 15,
    "start_time": "2021-10-17T15:46:17.816Z"
   },
   {
    "duration": 8,
    "start_time": "2021-10-17T15:46:17.833Z"
   },
   {
    "duration": 25,
    "start_time": "2021-10-17T15:46:17.883Z"
   },
   {
    "duration": 6,
    "start_time": "2021-10-17T15:46:17.910Z"
   },
   {
    "duration": 289,
    "start_time": "2021-10-17T15:46:17.918Z"
   },
   {
    "duration": 20,
    "start_time": "2021-10-17T15:46:18.210Z"
   },
   {
    "duration": 9,
    "start_time": "2021-10-17T15:46:18.233Z"
   },
   {
    "duration": 58,
    "start_time": "2021-10-17T15:46:18.246Z"
   },
   {
    "duration": 5,
    "start_time": "2021-10-17T15:46:18.307Z"
   },
   {
    "duration": 35,
    "start_time": "2021-10-17T15:46:18.315Z"
   },
   {
    "duration": 65,
    "start_time": "2021-10-17T15:46:18.354Z"
   },
   {
    "duration": 25,
    "start_time": "2021-10-17T15:46:18.423Z"
   },
   {
    "duration": 32,
    "start_time": "2021-10-17T15:46:18.451Z"
   },
   {
    "duration": 5,
    "start_time": "2021-10-17T15:46:18.486Z"
   },
   {
    "duration": 9,
    "start_time": "2021-10-17T15:46:18.494Z"
   },
   {
    "duration": 4,
    "start_time": "2021-10-17T15:46:18.506Z"
   },
   {
    "duration": 28,
    "start_time": "2021-10-17T15:46:18.512Z"
   },
   {
    "duration": 118,
    "start_time": "2021-10-17T15:46:18.583Z"
   },
   {
    "duration": 36,
    "start_time": "2021-10-17T15:46:18.704Z"
   },
   {
    "duration": 41,
    "start_time": "2021-10-17T15:46:18.743Z"
   },
   {
    "duration": 21,
    "start_time": "2021-10-17T15:46:18.787Z"
   },
   {
    "duration": 501,
    "start_time": "2021-10-17T15:46:18.811Z"
   },
   {
    "duration": 11,
    "start_time": "2021-10-17T15:46:19.314Z"
   },
   {
    "duration": 78,
    "start_time": "2021-10-17T15:46:19.327Z"
   },
   {
    "duration": 11,
    "start_time": "2021-10-17T15:46:19.408Z"
   },
   {
    "duration": 77,
    "start_time": "2021-10-17T15:46:19.422Z"
   },
   {
    "duration": 36,
    "start_time": "2021-10-17T15:46:19.502Z"
   },
   {
    "duration": 42,
    "start_time": "2021-10-17T15:46:19.540Z"
   },
   {
    "duration": 25,
    "start_time": "2021-10-17T15:46:19.585Z"
   },
   {
    "duration": 38,
    "start_time": "2021-10-17T16:07:00.933Z"
   },
   {
    "duration": 504,
    "start_time": "2021-10-17T16:07:10.652Z"
   },
   {
    "duration": 353,
    "start_time": "2021-10-17T16:07:15.124Z"
   },
   {
    "duration": 24,
    "start_time": "2021-10-17T16:07:20.356Z"
   },
   {
    "duration": 46,
    "start_time": "2021-10-17T16:07:36.644Z"
   },
   {
    "duration": 1614,
    "start_time": "2021-10-19T15:09:41.315Z"
   },
   {
    "duration": 4,
    "start_time": "2021-10-19T15:11:08.216Z"
   },
   {
    "duration": 759,
    "start_time": "2021-10-19T15:11:08.942Z"
   },
   {
    "duration": 135,
    "start_time": "2021-10-19T15:11:10.033Z"
   },
   {
    "duration": 4,
    "start_time": "2021-10-19T15:11:10.997Z"
   },
   {
    "duration": 225,
    "start_time": "2021-10-19T15:11:11.828Z"
   },
   {
    "duration": 36,
    "start_time": "2021-10-19T15:11:13.131Z"
   },
   {
    "duration": 4,
    "start_time": "2021-10-19T15:11:13.941Z"
   },
   {
    "duration": 20,
    "start_time": "2021-10-19T15:11:14.912Z"
   },
   {
    "duration": 31,
    "start_time": "2021-10-19T15:11:15.733Z"
   },
   {
    "duration": 7,
    "start_time": "2021-10-19T15:11:16.600Z"
   },
   {
    "duration": 32,
    "start_time": "2021-10-19T15:11:17.604Z"
   },
   {
    "duration": 9,
    "start_time": "2021-10-19T15:11:18.286Z"
   },
   {
    "duration": 8,
    "start_time": "2021-10-19T15:11:19.022Z"
   },
   {
    "duration": 136,
    "start_time": "2021-10-19T15:11:20.519Z"
   },
   {
    "duration": 17,
    "start_time": "2021-10-19T15:11:21.339Z"
   },
   {
    "duration": 8,
    "start_time": "2021-10-19T15:11:21.857Z"
   },
   {
    "duration": 24,
    "start_time": "2021-10-19T15:11:43.024Z"
   },
   {
    "duration": 26,
    "start_time": "2021-10-19T15:11:44.116Z"
   },
   {
    "duration": 7,
    "start_time": "2021-10-19T15:11:44.934Z"
   },
   {
    "duration": 40,
    "start_time": "2021-10-19T15:38:50.794Z"
   },
   {
    "duration": 13,
    "start_time": "2021-10-19T15:41:36.709Z"
   },
   {
    "duration": 12,
    "start_time": "2021-10-19T15:41:38.732Z"
   },
   {
    "duration": 30,
    "start_time": "2021-10-19T15:41:41.712Z"
   },
   {
    "duration": 19,
    "start_time": "2021-10-19T15:41:42.512Z"
   },
   {
    "duration": 51,
    "start_time": "2021-10-19T15:43:16.673Z"
   },
   {
    "duration": 51,
    "start_time": "2021-10-19T15:43:17.202Z"
   },
   {
    "duration": 69,
    "start_time": "2021-10-19T15:43:18.403Z"
   },
   {
    "duration": 180,
    "start_time": "2021-10-19T15:43:18.921Z"
   },
   {
    "duration": 50,
    "start_time": "2021-10-19T15:43:19.474Z"
   },
   {
    "duration": 145,
    "start_time": "2021-10-19T15:43:20.643Z"
   },
   {
    "duration": 145,
    "start_time": "2021-10-19T15:43:21.895Z"
   },
   {
    "duration": 102,
    "start_time": "2021-10-19T15:43:24.249Z"
   },
   {
    "duration": 7501,
    "start_time": "2021-10-19T15:55:27.581Z"
   },
   {
    "duration": 49,
    "start_time": "2021-10-19T15:56:12.270Z"
   },
   {
    "duration": 38,
    "start_time": "2021-10-19T15:56:29.688Z"
   },
   {
    "duration": 7206,
    "start_time": "2021-10-19T15:56:45.336Z"
   },
   {
    "duration": 165,
    "start_time": "2021-10-19T15:56:53.232Z"
   },
   {
    "duration": 52,
    "start_time": "2021-10-19T15:57:45.768Z"
   },
   {
    "duration": 51,
    "start_time": "2021-10-19T15:57:46.343Z"
   },
   {
    "duration": 57,
    "start_time": "2021-10-19T15:57:46.847Z"
   },
   {
    "duration": 168,
    "start_time": "2021-10-19T15:57:47.322Z"
   },
   {
    "duration": 52,
    "start_time": "2021-10-19T15:57:47.760Z"
   },
   {
    "duration": 143,
    "start_time": "2021-10-19T15:57:48.998Z"
   },
   {
    "duration": 149,
    "start_time": "2021-10-19T15:57:50.067Z"
   },
   {
    "duration": 106,
    "start_time": "2021-10-19T15:57:50.608Z"
   },
   {
    "duration": 51,
    "start_time": "2021-10-19T15:58:16.471Z"
   },
   {
    "duration": 49,
    "start_time": "2021-10-19T15:58:17.057Z"
   },
   {
    "duration": 55,
    "start_time": "2021-10-19T15:58:17.586Z"
   },
   {
    "duration": 289,
    "start_time": "2021-10-19T15:58:18.306Z"
   },
   {
    "duration": 315,
    "start_time": "2021-10-19T15:58:21.883Z"
   },
   {
    "duration": 1467,
    "start_time": "2021-10-19T15:58:33.371Z"
   },
   {
    "duration": 3,
    "start_time": "2021-10-19T15:58:34.841Z"
   },
   {
    "duration": 819,
    "start_time": "2021-10-19T15:58:34.847Z"
   },
   {
    "duration": 147,
    "start_time": "2021-10-19T15:58:35.669Z"
   },
   {
    "duration": 4,
    "start_time": "2021-10-19T15:58:35.818Z"
   },
   {
    "duration": 249,
    "start_time": "2021-10-19T15:58:35.824Z"
   },
   {
    "duration": 39,
    "start_time": "2021-10-19T15:58:36.075Z"
   },
   {
    "duration": 3,
    "start_time": "2021-10-19T15:58:36.118Z"
   },
   {
    "duration": 31,
    "start_time": "2021-10-19T15:58:36.124Z"
   },
   {
    "duration": 49,
    "start_time": "2021-10-19T15:58:36.158Z"
   },
   {
    "duration": 6,
    "start_time": "2021-10-19T15:58:36.210Z"
   },
   {
    "duration": 43,
    "start_time": "2021-10-19T15:58:36.219Z"
   },
   {
    "duration": 22,
    "start_time": "2021-10-19T15:58:36.265Z"
   },
   {
    "duration": 20,
    "start_time": "2021-10-19T15:58:36.290Z"
   },
   {
    "duration": 158,
    "start_time": "2021-10-19T15:58:36.312Z"
   },
   {
    "duration": 24,
    "start_time": "2021-10-19T15:58:36.473Z"
   },
   {
    "duration": 8,
    "start_time": "2021-10-19T15:58:36.499Z"
   },
   {
    "duration": 22,
    "start_time": "2021-10-19T15:58:36.510Z"
   },
   {
    "duration": 63,
    "start_time": "2021-10-19T15:58:36.534Z"
   },
   {
    "duration": 7,
    "start_time": "2021-10-19T15:58:36.599Z"
   },
   {
    "duration": 41,
    "start_time": "2021-10-19T15:58:36.920Z"
   },
   {
    "duration": 12,
    "start_time": "2021-10-19T15:58:37.196Z"
   },
   {
    "duration": 29,
    "start_time": "2021-10-19T15:58:37.673Z"
   },
   {
    "duration": 19,
    "start_time": "2021-10-19T15:58:37.813Z"
   },
   {
    "duration": 47,
    "start_time": "2021-10-19T15:58:40.682Z"
   },
   {
    "duration": 34,
    "start_time": "2021-10-19T15:58:40.819Z"
   },
   {
    "duration": 161,
    "start_time": "2021-10-19T15:58:41.005Z"
   },
   {
    "duration": 51,
    "start_time": "2021-10-19T15:58:41.228Z"
   },
   {
    "duration": 49,
    "start_time": "2021-10-19T15:58:41.595Z"
   },
   {
    "duration": 57,
    "start_time": "2021-10-19T15:58:41.730Z"
   },
   {
    "duration": 402,
    "start_time": "2021-10-19T15:58:41.896Z"
   },
   {
    "duration": 229,
    "start_time": "2021-10-19T15:58:42.071Z"
   },
   {
    "duration": 285,
    "start_time": "2021-10-19T15:59:20.302Z"
   },
   {
    "duration": 293,
    "start_time": "2021-10-19T16:04:06.343Z"
   },
   {
    "duration": 54,
    "start_time": "2021-10-19T16:11:35.691Z"
   },
   {
    "duration": 36,
    "start_time": "2021-10-19T16:11:36.265Z"
   },
   {
    "duration": 171,
    "start_time": "2021-10-19T16:11:36.816Z"
   },
   {
    "duration": 59,
    "start_time": "2021-10-19T16:11:37.314Z"
   },
   {
    "duration": 52,
    "start_time": "2021-10-19T16:11:38.212Z"
   },
   {
    "duration": 58,
    "start_time": "2021-10-19T16:11:38.842Z"
   },
   {
    "duration": 305,
    "start_time": "2021-10-19T16:11:39.354Z"
   },
   {
    "duration": 72,
    "start_time": "2021-10-19T16:11:51.958Z"
   },
   {
    "duration": 152,
    "start_time": "2021-10-19T16:11:54.600Z"
   },
   {
    "duration": 292,
    "start_time": "2021-10-19T16:11:55.389Z"
   },
   {
    "duration": 98,
    "start_time": "2021-10-19T16:12:02.356Z"
   },
   {
    "duration": 97,
    "start_time": "2021-10-19T16:12:04.307Z"
   },
   {
    "duration": 115,
    "start_time": "2021-10-19T16:12:05.184Z"
   },
   {
    "duration": 364,
    "start_time": "2021-10-19T16:12:06.672Z"
   },
   {
    "duration": 259,
    "start_time": "2021-10-19T16:12:07.803Z"
   },
   {
    "duration": 287,
    "start_time": "2021-10-19T16:12:38.509Z"
   },
   {
    "duration": 45,
    "start_time": "2021-10-19T16:14:21.815Z"
   },
   {
    "duration": 2135,
    "start_time": "2021-10-19T16:14:50.043Z"
   },
   {
    "duration": 5,
    "start_time": "2021-10-19T16:14:52.181Z"
   },
   {
    "duration": 1243,
    "start_time": "2021-10-19T16:14:52.190Z"
   },
   {
    "duration": 229,
    "start_time": "2021-10-19T16:14:53.437Z"
   },
   {
    "duration": 13,
    "start_time": "2021-10-19T16:14:53.670Z"
   },
   {
    "duration": 462,
    "start_time": "2021-10-19T16:14:53.687Z"
   },
   {
    "duration": 49,
    "start_time": "2021-10-19T16:14:54.152Z"
   },
   {
    "duration": 4,
    "start_time": "2021-10-19T16:14:54.205Z"
   },
   {
    "duration": 27,
    "start_time": "2021-10-19T16:14:54.213Z"
   },
   {
    "duration": 53,
    "start_time": "2021-10-19T16:14:54.243Z"
   },
   {
    "duration": 7,
    "start_time": "2021-10-19T16:14:54.299Z"
   },
   {
    "duration": 49,
    "start_time": "2021-10-19T16:14:54.309Z"
   },
   {
    "duration": 29,
    "start_time": "2021-10-19T16:14:54.361Z"
   },
   {
    "duration": 11,
    "start_time": "2021-10-19T16:14:54.393Z"
   },
   {
    "duration": 182,
    "start_time": "2021-10-19T16:14:54.406Z"
   },
   {
    "duration": 18,
    "start_time": "2021-10-19T16:14:54.591Z"
   },
   {
    "duration": 7,
    "start_time": "2021-10-19T16:14:54.611Z"
   },
   {
    "duration": 27,
    "start_time": "2021-10-19T16:14:54.621Z"
   },
   {
    "duration": 55,
    "start_time": "2021-10-19T16:14:54.650Z"
   },
   {
    "duration": 6,
    "start_time": "2021-10-19T16:14:54.707Z"
   },
   {
    "duration": 69,
    "start_time": "2021-10-19T16:14:54.715Z"
   },
   {
    "duration": 12,
    "start_time": "2021-10-19T16:14:54.787Z"
   },
   {
    "duration": 30,
    "start_time": "2021-10-19T16:14:56.647Z"
   },
   {
    "duration": 19,
    "start_time": "2021-10-19T16:14:58.455Z"
   },
   {
    "duration": 49,
    "start_time": "2021-10-19T16:15:02.150Z"
   },
   {
    "duration": 37,
    "start_time": "2021-10-19T16:15:02.270Z"
   },
   {
    "duration": 168,
    "start_time": "2021-10-19T16:15:02.428Z"
   },
   {
    "duration": 28,
    "start_time": "2021-10-19T16:15:02.599Z"
   },
   {
    "duration": 504,
    "start_time": "2021-10-19T16:15:02.811Z"
   },
   {
    "duration": 271,
    "start_time": "2021-10-19T16:19:18.086Z"
   },
   {
    "duration": 288,
    "start_time": "2021-10-19T16:19:25.791Z"
   },
   {
    "duration": 153,
    "start_time": "2021-10-19T16:19:40.432Z"
   },
   {
    "duration": 128,
    "start_time": "2021-10-19T16:19:48.143Z"
   },
   {
    "duration": 281,
    "start_time": "2021-10-19T16:19:49.543Z"
   },
   {
    "duration": 6612,
    "start_time": "2021-10-19T16:19:53.539Z"
   },
   {
    "duration": 263,
    "start_time": "2021-10-19T16:20:27.777Z"
   },
   {
    "duration": 95,
    "start_time": "2021-10-19T16:21:21.579Z"
   },
   {
    "duration": 132,
    "start_time": "2021-10-19T16:21:22.212Z"
   },
   {
    "duration": 105,
    "start_time": "2021-10-19T16:21:22.908Z"
   },
   {
    "duration": 9425,
    "start_time": "2021-10-19T16:21:43.124Z"
   },
   {
    "duration": 7214,
    "start_time": "2021-10-19T16:22:02.017Z"
   },
   {
    "duration": 230,
    "start_time": "2021-10-19T16:23:13.199Z"
   },
   {
    "duration": 285,
    "start_time": "2021-10-19T16:23:22.136Z"
   },
   {
    "duration": 7520,
    "start_time": "2021-10-19T16:23:26.356Z"
   },
   {
    "duration": 263,
    "start_time": "2021-10-19T16:23:36.112Z"
   },
   {
    "duration": 73,
    "start_time": "2021-10-19T16:23:58.681Z"
   },
   {
    "duration": 340,
    "start_time": "2021-10-19T16:25:05.913Z"
   },
   {
    "duration": 330,
    "start_time": "2021-10-19T16:25:07.056Z"
   },
   {
    "duration": 96,
    "start_time": "2021-10-19T16:25:18.488Z"
   },
   {
    "duration": 255,
    "start_time": "2021-10-19T16:25:20.681Z"
   },
   {
    "duration": 35,
    "start_time": "2021-10-19T16:25:59.950Z"
   },
   {
    "duration": 123,
    "start_time": "2021-10-19T16:26:04.802Z"
   },
   {
    "duration": 4,
    "start_time": "2021-10-19T16:27:12.150Z"
   },
   {
    "duration": 12,
    "start_time": "2021-10-19T16:27:14.318Z"
   },
   {
    "duration": 10,
    "start_time": "2021-10-19T16:27:16.701Z"
   },
   {
    "duration": 134,
    "start_time": "2021-10-19T16:27:29.726Z"
   },
   {
    "duration": 5,
    "start_time": "2021-10-19T16:27:30.701Z"
   },
   {
    "duration": 6,
    "start_time": "2021-10-19T16:27:31.371Z"
   },
   {
    "duration": 17,
    "start_time": "2021-10-19T16:27:32.070Z"
   },
   {
    "duration": 6,
    "start_time": "2021-10-19T16:27:36.291Z"
   },
   {
    "duration": 300,
    "start_time": "2021-10-19T16:28:19.137Z"
   },
   {
    "duration": 21,
    "start_time": "2021-10-19T16:28:26.184Z"
   },
   {
    "duration": 403,
    "start_time": "2021-10-19T16:28:27.939Z"
   },
   {
    "duration": 11,
    "start_time": "2021-10-19T16:28:34.521Z"
   },
   {
    "duration": 462,
    "start_time": "2021-10-19T16:28:38.439Z"
   },
   {
    "duration": 115,
    "start_time": "2021-10-19T16:39:02.680Z"
   },
   {
    "duration": 128,
    "start_time": "2021-10-19T16:40:29.269Z"
   },
   {
    "duration": 38,
    "start_time": "2021-10-19T16:40:30.518Z"
   },
   {
    "duration": 141,
    "start_time": "2021-10-19T16:41:39.278Z"
   },
   {
    "duration": 36,
    "start_time": "2021-10-19T16:42:43.598Z"
   },
   {
    "duration": 14,
    "start_time": "2021-10-19T16:43:05.248Z"
   },
   {
    "duration": 237,
    "start_time": "2021-10-19T16:43:06.219Z"
   },
   {
    "duration": 11,
    "start_time": "2021-10-19T16:43:07.319Z"
   },
   {
    "duration": 11,
    "start_time": "2021-10-19T16:43:09.232Z"
   },
   {
    "duration": 5,
    "start_time": "2021-10-19T16:43:10.370Z"
   },
   {
    "duration": 30,
    "start_time": "2021-10-19T16:43:42.691Z"
   },
   {
    "duration": 6,
    "start_time": "2021-10-19T16:43:43.183Z"
   },
   {
    "duration": 10,
    "start_time": "2021-10-19T16:43:43.648Z"
   },
   {
    "duration": 52,
    "start_time": "2021-10-19T16:43:45.165Z"
   },
   {
    "duration": 34,
    "start_time": "2021-10-19T16:43:46.222Z"
   },
   {
    "duration": 26,
    "start_time": "2021-10-19T16:43:47.364Z"
   },
   {
    "duration": 673,
    "start_time": "2021-10-19T16:43:48.785Z"
   },
   {
    "duration": 265,
    "start_time": "2021-10-19T16:44:31.758Z"
   },
   {
    "duration": 46,
    "start_time": "2021-10-19T16:46:26.490Z"
   },
   {
    "duration": 43,
    "start_time": "2021-10-19T16:46:32.746Z"
   },
   {
    "duration": 334,
    "start_time": "2021-10-19T16:47:20.176Z"
   },
   {
    "duration": 14,
    "start_time": "2021-10-19T16:47:35.840Z"
   },
   {
    "duration": 206,
    "start_time": "2021-10-19T16:47:37.990Z"
   },
   {
    "duration": 113,
    "start_time": "2021-10-19T16:47:52.398Z"
   },
   {
    "duration": 10,
    "start_time": "2021-10-19T16:47:53.408Z"
   },
   {
    "duration": 290,
    "start_time": "2021-10-19T16:48:06.124Z"
   },
   {
    "duration": 10,
    "start_time": "2021-10-19T16:48:12.963Z"
   },
   {
    "duration": 5,
    "start_time": "2021-10-19T16:48:14.097Z"
   },
   {
    "duration": 283,
    "start_time": "2021-10-19T16:48:14.840Z"
   },
   {
    "duration": 191,
    "start_time": "2021-10-19T16:48:23.415Z"
   },
   {
    "duration": 128,
    "start_time": "2021-10-19T16:48:23.480Z"
   },
   {
    "duration": 8,
    "start_time": "2021-10-19T16:49:27.577Z"
   },
   {
    "duration": 6,
    "start_time": "2021-10-19T16:49:33.425Z"
   },
   {
    "duration": 7169,
    "start_time": "2021-10-19T16:49:34.620Z"
   },
   {
    "duration": 322,
    "start_time": "2021-10-19T16:49:54.429Z"
   },
   {
    "duration": 31,
    "start_time": "2021-10-19T16:50:13.599Z"
   },
   {
    "duration": 312,
    "start_time": "2021-10-19T16:50:24.553Z"
   },
   {
    "duration": 24,
    "start_time": "2021-10-19T16:50:31.844Z"
   },
   {
    "duration": 545,
    "start_time": "2021-10-19T16:51:03.857Z"
   },
   {
    "duration": 17,
    "start_time": "2021-10-19T16:51:35.211Z"
   },
   {
    "duration": 29,
    "start_time": "2021-10-19T16:51:41.287Z"
   },
   {
    "duration": 7148,
    "start_time": "2021-10-19T16:53:24.952Z"
   },
   {
    "duration": 48,
    "start_time": "2021-10-19T16:53:51.709Z"
   },
   {
    "duration": 6,
    "start_time": "2021-10-19T16:54:10.066Z"
   },
   {
    "duration": 261,
    "start_time": "2021-10-19T16:54:15.800Z"
   },
   {
    "duration": 534,
    "start_time": "2021-10-19T16:54:51.516Z"
   },
   {
    "duration": 304,
    "start_time": "2021-10-19T16:54:54.568Z"
   },
   {
    "duration": 17,
    "start_time": "2021-10-19T16:54:56.419Z"
   },
   {
    "duration": 8,
    "start_time": "2021-10-19T16:55:16.702Z"
   },
   {
    "duration": 263,
    "start_time": "2021-10-19T16:55:21.798Z"
   },
   {
    "duration": 14,
    "start_time": "2021-10-19T16:55:22.512Z"
   },
   {
    "duration": 7,
    "start_time": "2021-10-19T16:55:23.210Z"
   },
   {
    "duration": 16,
    "start_time": "2021-10-19T16:55:23.929Z"
   },
   {
    "duration": 7,
    "start_time": "2021-10-19T16:55:25.096Z"
   },
   {
    "duration": 24,
    "start_time": "2021-10-19T16:55:27.572Z"
   },
   {
    "duration": 7,
    "start_time": "2021-10-19T16:55:28.443Z"
   },
   {
    "duration": 289,
    "start_time": "2021-10-19T16:55:34.037Z"
   },
   {
    "duration": 20,
    "start_time": "2021-10-19T16:57:30.482Z"
   },
   {
    "duration": 10,
    "start_time": "2021-10-19T16:57:31.159Z"
   },
   {
    "duration": 25,
    "start_time": "2021-10-19T16:57:31.875Z"
   },
   {
    "duration": 4,
    "start_time": "2021-10-19T16:57:32.574Z"
   },
   {
    "duration": 23,
    "start_time": "2021-10-19T16:57:33.235Z"
   },
   {
    "duration": 38,
    "start_time": "2021-10-19T16:57:33.784Z"
   },
   {
    "duration": 22,
    "start_time": "2021-10-19T16:57:34.419Z"
   },
   {
    "duration": 3,
    "start_time": "2021-10-19T16:57:44.774Z"
   },
   {
    "duration": 6,
    "start_time": "2021-10-19T16:58:08.883Z"
   },
   {
    "duration": 7,
    "start_time": "2021-10-19T16:58:09.713Z"
   },
   {
    "duration": 5,
    "start_time": "2021-10-19T16:58:10.709Z"
   },
   {
    "duration": 28,
    "start_time": "2021-10-19T16:58:11.577Z"
   },
   {
    "duration": 105,
    "start_time": "2021-10-19T16:58:14.133Z"
   },
   {
    "duration": 34,
    "start_time": "2021-10-19T16:58:14.887Z"
   },
   {
    "duration": 20,
    "start_time": "2021-10-19T16:58:54.845Z"
   },
   {
    "duration": 5,
    "start_time": "2021-10-19T16:59:08.999Z"
   },
   {
    "duration": 23,
    "start_time": "2021-10-19T16:59:09.765Z"
   },
   {
    "duration": 42,
    "start_time": "2021-10-19T16:59:10.603Z"
   },
   {
    "duration": 20,
    "start_time": "2021-10-19T16:59:11.795Z"
   },
   {
    "duration": 5,
    "start_time": "2021-10-19T16:59:13.302Z"
   },
   {
    "duration": 5,
    "start_time": "2021-10-19T16:59:17.629Z"
   },
   {
    "duration": 7,
    "start_time": "2021-10-19T16:59:19.110Z"
   },
   {
    "duration": 5,
    "start_time": "2021-10-19T16:59:21.148Z"
   },
   {
    "duration": 26,
    "start_time": "2021-10-19T16:59:21.908Z"
   },
   {
    "duration": 103,
    "start_time": "2021-10-19T16:59:23.033Z"
   },
   {
    "duration": 34,
    "start_time": "2021-10-19T16:59:23.852Z"
   },
   {
    "duration": 21,
    "start_time": "2021-10-19T16:59:56.356Z"
   },
   {
    "duration": 21,
    "start_time": "2021-10-19T16:59:57.153Z"
   },
   {
    "duration": 6,
    "start_time": "2021-10-19T17:00:28.208Z"
   },
   {
    "duration": 466,
    "start_time": "2021-10-19T17:00:47.732Z"
   },
   {
    "duration": 314,
    "start_time": "2021-10-19T17:01:45.071Z"
   },
   {
    "duration": 82,
    "start_time": "2021-10-19T17:02:05.696Z"
   },
   {
    "duration": 272,
    "start_time": "2021-10-19T17:02:10.828Z"
   },
   {
    "duration": 279,
    "start_time": "2021-10-19T17:02:21.070Z"
   },
   {
    "duration": 430,
    "start_time": "2021-10-19T17:02:57.347Z"
   },
   {
    "duration": 752,
    "start_time": "2021-10-19T17:03:03.746Z"
   },
   {
    "duration": 293,
    "start_time": "2021-10-19T17:03:24.089Z"
   },
   {
    "duration": 284,
    "start_time": "2021-10-19T17:08:17.683Z"
   },
   {
    "duration": 302,
    "start_time": "2021-10-19T17:08:20.227Z"
   },
   {
    "duration": 302,
    "start_time": "2021-10-19T17:08:26.655Z"
   },
   {
    "duration": 273,
    "start_time": "2021-10-19T17:08:32.934Z"
   },
   {
    "duration": 282,
    "start_time": "2021-10-19T17:08:37.317Z"
   },
   {
    "duration": 262,
    "start_time": "2021-10-19T17:08:41.808Z"
   },
   {
    "duration": 10,
    "start_time": "2021-10-19T17:09:27.098Z"
   },
   {
    "duration": 49,
    "start_time": "2021-10-19T17:09:27.972Z"
   },
   {
    "duration": 10,
    "start_time": "2021-10-19T17:09:28.796Z"
   },
   {
    "duration": 51,
    "start_time": "2021-10-19T17:09:29.650Z"
   },
   {
    "duration": 38,
    "start_time": "2021-10-19T17:09:30.481Z"
   },
   {
    "duration": 24,
    "start_time": "2021-10-19T17:09:31.286Z"
   },
   {
    "duration": 25,
    "start_time": "2021-10-19T17:09:32.186Z"
   },
   {
    "duration": 6855,
    "start_time": "2021-10-19T17:09:47.227Z"
   },
   {
    "duration": 12,
    "start_time": "2021-10-19T17:10:32.262Z"
   },
   {
    "duration": 39,
    "start_time": "2021-10-19T17:10:34.424Z"
   },
   {
    "duration": 40,
    "start_time": "2021-10-19T17:10:35.244Z"
   },
   {
    "duration": 24,
    "start_time": "2021-10-19T17:10:36.123Z"
   },
   {
    "duration": 34,
    "start_time": "2021-10-19T17:10:38.375Z"
   },
   {
    "duration": 1551,
    "start_time": "2021-10-20T15:11:58.993Z"
   },
   {
    "duration": 4,
    "start_time": "2021-10-20T15:12:00.547Z"
   },
   {
    "duration": 888,
    "start_time": "2021-10-20T15:12:00.555Z"
   },
   {
    "duration": 153,
    "start_time": "2021-10-20T15:12:01.447Z"
   },
   {
    "duration": 5,
    "start_time": "2021-10-20T15:12:01.603Z"
   },
   {
    "duration": 243,
    "start_time": "2021-10-20T15:12:01.624Z"
   },
   {
    "duration": 52,
    "start_time": "2021-10-20T15:12:01.870Z"
   },
   {
    "duration": 5,
    "start_time": "2021-10-20T15:12:01.925Z"
   },
   {
    "duration": 40,
    "start_time": "2021-10-20T15:12:01.936Z"
   },
   {
    "duration": 45,
    "start_time": "2021-10-20T15:12:01.979Z"
   },
   {
    "duration": 8,
    "start_time": "2021-10-20T15:12:02.027Z"
   },
   {
    "duration": 52,
    "start_time": "2021-10-20T15:12:02.038Z"
   },
   {
    "duration": 10,
    "start_time": "2021-10-20T15:12:02.093Z"
   },
   {
    "duration": 10,
    "start_time": "2021-10-20T15:12:02.124Z"
   },
   {
    "duration": 185,
    "start_time": "2021-10-20T15:12:02.137Z"
   },
   {
    "duration": 18,
    "start_time": "2021-10-20T15:12:02.324Z"
   },
   {
    "duration": 8,
    "start_time": "2021-10-20T15:12:02.344Z"
   },
   {
    "duration": 36,
    "start_time": "2021-10-20T15:12:02.354Z"
   },
   {
    "duration": 52,
    "start_time": "2021-10-20T15:12:02.392Z"
   },
   {
    "duration": 7,
    "start_time": "2021-10-20T15:12:02.447Z"
   },
   {
    "duration": 61,
    "start_time": "2021-10-20T15:12:02.456Z"
   },
   {
    "duration": 28,
    "start_time": "2021-10-20T15:12:02.519Z"
   },
   {
    "duration": 39,
    "start_time": "2021-10-20T15:12:02.549Z"
   },
   {
    "duration": 20,
    "start_time": "2021-10-20T15:12:02.591Z"
   },
   {
    "duration": 46,
    "start_time": "2021-10-20T15:12:02.613Z"
   },
   {
    "duration": 62,
    "start_time": "2021-10-20T15:12:02.661Z"
   },
   {
    "duration": 36,
    "start_time": "2021-10-20T15:12:02.730Z"
   },
   {
    "duration": 185,
    "start_time": "2021-10-20T15:12:02.770Z"
   },
   {
    "duration": 156,
    "start_time": "2021-10-20T15:12:02.957Z"
   },
   {
    "duration": 153,
    "start_time": "2021-10-20T15:12:03.116Z"
   },
   {
    "duration": 130,
    "start_time": "2021-10-20T15:12:03.272Z"
   },
   {
    "duration": 248,
    "start_time": "2021-10-20T15:12:03.405Z"
   },
   {
    "duration": 272,
    "start_time": "2021-10-20T15:12:03.655Z"
   },
   {
    "duration": 289,
    "start_time": "2021-10-20T15:12:03.929Z"
   },
   {
    "duration": 167,
    "start_time": "2021-10-20T15:12:04.223Z"
   },
   {
    "duration": 4,
    "start_time": "2021-10-20T15:12:04.392Z"
   },
   {
    "duration": 34,
    "start_time": "2021-10-20T15:12:04.398Z"
   },
   {
    "duration": 30,
    "start_time": "2021-10-20T15:12:04.435Z"
   },
   {
    "duration": 33,
    "start_time": "2021-10-20T15:12:04.467Z"
   },
   {
    "duration": 331,
    "start_time": "2021-10-20T15:12:04.503Z"
   },
   {
    "duration": 21,
    "start_time": "2021-10-20T15:12:04.836Z"
   },
   {
    "duration": 440,
    "start_time": "2021-10-20T15:12:04.860Z"
   },
   {
    "duration": 22,
    "start_time": "2021-10-20T15:12:05.302Z"
   },
   {
    "duration": 305,
    "start_time": "2021-10-20T15:12:05.326Z"
   },
   {
    "duration": 113,
    "start_time": "2021-10-20T15:12:05.633Z"
   },
   {
    "duration": 130,
    "start_time": "2021-10-20T15:12:05.748Z"
   },
   {
    "duration": 44,
    "start_time": "2021-10-20T15:12:05.880Z"
   },
   {
    "duration": 142,
    "start_time": "2021-10-20T15:12:05.926Z"
   },
   {
    "duration": 54,
    "start_time": "2021-10-20T15:12:06.070Z"
   },
   {
    "duration": 35,
    "start_time": "2021-10-20T15:12:06.127Z"
   },
   {
    "duration": 20,
    "start_time": "2021-10-20T15:12:06.164Z"
   },
   {
    "duration": 187,
    "start_time": "2021-10-20T15:12:06.186Z"
   },
   {
    "duration": 11,
    "start_time": "2021-10-20T15:12:06.375Z"
   },
   {
    "duration": 33,
    "start_time": "2021-10-20T15:12:06.388Z"
   },
   {
    "duration": 41,
    "start_time": "2021-10-20T15:12:06.423Z"
   },
   {
    "duration": 39,
    "start_time": "2021-10-20T15:12:06.467Z"
   },
   {
    "duration": 40,
    "start_time": "2021-10-20T15:12:06.508Z"
   },
   {
    "duration": 62,
    "start_time": "2021-10-20T15:12:06.551Z"
   },
   {
    "duration": 47,
    "start_time": "2021-10-20T15:12:06.615Z"
   },
   {
    "duration": 601,
    "start_time": "2021-10-20T15:12:06.665Z"
   },
   {
    "duration": 6,
    "start_time": "2021-10-20T15:12:07.268Z"
   },
   {
    "duration": 323,
    "start_time": "2021-10-20T15:12:07.276Z"
   },
   {
    "duration": 454,
    "start_time": "2021-10-20T15:12:07.601Z"
   },
   {
    "duration": 333,
    "start_time": "2021-10-20T15:12:08.058Z"
   },
   {
    "duration": 29,
    "start_time": "2021-10-20T15:12:08.393Z"
   },
   {
    "duration": 8,
    "start_time": "2021-10-20T15:12:08.425Z"
   },
   {
    "duration": 292,
    "start_time": "2021-10-20T15:12:08.435Z"
   },
   {
    "duration": 14,
    "start_time": "2021-10-20T15:12:08.729Z"
   },
   {
    "duration": 12,
    "start_time": "2021-10-20T15:12:08.745Z"
   },
   {
    "duration": 14,
    "start_time": "2021-10-20T15:12:08.759Z"
   },
   {
    "duration": 12,
    "start_time": "2021-10-20T15:12:08.776Z"
   },
   {
    "duration": 57,
    "start_time": "2021-10-20T15:12:08.790Z"
   },
   {
    "duration": 7,
    "start_time": "2021-10-20T15:12:08.849Z"
   },
   {
    "duration": 272,
    "start_time": "2021-10-20T15:12:08.859Z"
   },
   {
    "duration": 20,
    "start_time": "2021-10-20T15:12:09.133Z"
   },
   {
    "duration": 9,
    "start_time": "2021-10-20T15:12:09.156Z"
   },
   {
    "duration": 27,
    "start_time": "2021-10-20T15:12:09.167Z"
   },
   {
    "duration": 25,
    "start_time": "2021-10-20T15:12:09.197Z"
   },
   {
    "duration": 34,
    "start_time": "2021-10-20T15:12:09.224Z"
   },
   {
    "duration": 37,
    "start_time": "2021-10-20T15:12:09.261Z"
   },
   {
    "duration": 32,
    "start_time": "2021-10-20T15:12:09.307Z"
   },
   {
    "duration": 5,
    "start_time": "2021-10-20T15:12:09.342Z"
   },
   {
    "duration": 16,
    "start_time": "2021-10-20T15:12:09.349Z"
   },
   {
    "duration": 8,
    "start_time": "2021-10-20T15:12:09.368Z"
   },
   {
    "duration": 46,
    "start_time": "2021-10-20T15:12:09.378Z"
   },
   {
    "duration": 121,
    "start_time": "2021-10-20T15:12:09.426Z"
   },
   {
    "duration": 36,
    "start_time": "2021-10-20T15:12:09.550Z"
   },
   {
    "duration": 46,
    "start_time": "2021-10-20T15:12:09.589Z"
   },
   {
    "duration": 23,
    "start_time": "2021-10-20T15:12:09.638Z"
   },
   {
    "duration": 7,
    "start_time": "2021-10-20T15:12:09.664Z"
   },
   {
    "duration": 497,
    "start_time": "2021-10-20T15:12:09.674Z"
   },
   {
    "duration": 324,
    "start_time": "2021-10-20T15:12:10.174Z"
   },
   {
    "duration": 316,
    "start_time": "2021-10-20T15:12:10.502Z"
   },
   {
    "duration": 359,
    "start_time": "2021-10-20T15:12:10.820Z"
   },
   {
    "duration": 296,
    "start_time": "2021-10-20T15:12:11.182Z"
   },
   {
    "duration": 327,
    "start_time": "2021-10-20T15:12:11.480Z"
   },
   {
    "duration": 15,
    "start_time": "2021-10-20T15:12:11.809Z"
   },
   {
    "duration": 54,
    "start_time": "2021-10-20T15:12:11.826Z"
   },
   {
    "duration": 11,
    "start_time": "2021-10-20T15:12:11.882Z"
   },
   {
    "duration": 57,
    "start_time": "2021-10-20T15:12:11.922Z"
   },
   {
    "duration": 54,
    "start_time": "2021-10-20T15:12:11.981Z"
   },
   {
    "duration": 24,
    "start_time": "2021-10-20T15:12:12.037Z"
   },
   {
    "duration": 26,
    "start_time": "2021-10-20T15:12:12.063Z"
   },
   {
    "duration": 1452,
    "start_time": "2021-10-20T16:52:09.657Z"
   },
   {
    "duration": 3,
    "start_time": "2021-10-20T16:52:11.112Z"
   },
   {
    "duration": 836,
    "start_time": "2021-10-20T16:52:11.118Z"
   },
   {
    "duration": 140,
    "start_time": "2021-10-20T16:52:11.956Z"
   },
   {
    "duration": 3,
    "start_time": "2021-10-20T16:52:12.098Z"
   },
   {
    "duration": 242,
    "start_time": "2021-10-20T16:52:12.103Z"
   },
   {
    "duration": 36,
    "start_time": "2021-10-20T16:52:12.347Z"
   },
   {
    "duration": 3,
    "start_time": "2021-10-20T16:52:12.387Z"
   },
   {
    "duration": 40,
    "start_time": "2021-10-20T16:52:12.393Z"
   },
   {
    "duration": 44,
    "start_time": "2021-10-20T16:52:12.436Z"
   },
   {
    "duration": 5,
    "start_time": "2021-10-20T16:52:12.483Z"
   },
   {
    "duration": 54,
    "start_time": "2021-10-20T16:52:12.491Z"
   },
   {
    "duration": 8,
    "start_time": "2021-10-20T16:52:12.547Z"
   },
   {
    "duration": 13,
    "start_time": "2021-10-20T16:52:12.557Z"
   },
   {
    "duration": 284,
    "start_time": "2021-10-20T16:52:12.573Z"
   },
   {
    "duration": 17,
    "start_time": "2021-10-20T16:52:12.860Z"
   },
   {
    "duration": 8,
    "start_time": "2021-10-20T16:52:12.879Z"
   },
   {
    "duration": 52,
    "start_time": "2021-10-20T16:52:12.889Z"
   },
   {
    "duration": 27,
    "start_time": "2021-10-20T16:52:12.943Z"
   },
   {
    "duration": 7,
    "start_time": "2021-10-20T16:52:12.972Z"
   },
   {
    "duration": 70,
    "start_time": "2021-10-20T16:52:12.981Z"
   },
   {
    "duration": 12,
    "start_time": "2021-10-20T16:52:13.053Z"
   },
   {
    "duration": 51,
    "start_time": "2021-10-20T16:52:13.071Z"
   },
   {
    "duration": 18,
    "start_time": "2021-10-20T16:52:13.126Z"
   },
   {
    "duration": 46,
    "start_time": "2021-10-20T16:52:13.146Z"
   },
   {
    "duration": 64,
    "start_time": "2021-10-20T16:52:13.195Z"
   },
   {
    "duration": 36,
    "start_time": "2021-10-20T16:52:13.261Z"
   },
   {
    "duration": 178,
    "start_time": "2021-10-20T16:52:13.299Z"
   },
   {
    "duration": 162,
    "start_time": "2021-10-20T16:52:13.479Z"
   },
   {
    "duration": 160,
    "start_time": "2021-10-20T16:52:13.643Z"
   },
   {
    "duration": 124,
    "start_time": "2021-10-20T16:52:13.805Z"
   },
   {
    "duration": 263,
    "start_time": "2021-10-20T16:52:13.931Z"
   },
   {
    "duration": 289,
    "start_time": "2021-10-20T16:52:14.196Z"
   },
   {
    "duration": 287,
    "start_time": "2021-10-20T16:52:14.487Z"
   },
   {
    "duration": 167,
    "start_time": "2021-10-20T16:52:14.776Z"
   },
   {
    "duration": 4,
    "start_time": "2021-10-20T16:52:14.945Z"
   },
   {
    "duration": 23,
    "start_time": "2021-10-20T16:52:14.951Z"
   },
   {
    "duration": 17,
    "start_time": "2021-10-20T16:52:14.977Z"
   },
   {
    "duration": 20,
    "start_time": "2021-10-20T16:52:14.996Z"
   },
   {
    "duration": 343,
    "start_time": "2021-10-20T16:52:15.023Z"
   },
   {
    "duration": 22,
    "start_time": "2021-10-20T16:52:15.369Z"
   },
   {
    "duration": 536,
    "start_time": "2021-10-20T16:52:15.394Z"
   },
   {
    "duration": 11,
    "start_time": "2021-10-20T16:52:15.932Z"
   },
   {
    "duration": 329,
    "start_time": "2021-10-20T16:52:15.946Z"
   },
   {
    "duration": 114,
    "start_time": "2021-10-20T16:52:16.277Z"
   },
   {
    "duration": 132,
    "start_time": "2021-10-20T16:52:16.393Z"
   },
   {
    "duration": 33,
    "start_time": "2021-10-20T16:52:16.528Z"
   },
   {
    "duration": 158,
    "start_time": "2021-10-20T16:52:16.564Z"
   },
   {
    "duration": 47,
    "start_time": "2021-10-20T16:52:16.725Z"
   },
   {
    "duration": 54,
    "start_time": "2021-10-20T16:52:16.775Z"
   },
   {
    "duration": 16,
    "start_time": "2021-10-20T16:52:16.832Z"
   },
   {
    "duration": 188,
    "start_time": "2021-10-20T16:52:16.851Z"
   },
   {
    "duration": 10,
    "start_time": "2021-10-20T16:52:17.042Z"
   },
   {
    "duration": 10,
    "start_time": "2021-10-20T16:52:17.055Z"
   },
   {
    "duration": 8,
    "start_time": "2021-10-20T16:52:17.068Z"
   },
   {
    "duration": 21,
    "start_time": "2021-10-20T16:52:17.078Z"
   },
   {
    "duration": 24,
    "start_time": "2021-10-20T16:52:17.101Z"
   },
   {
    "duration": 34,
    "start_time": "2021-10-20T16:52:17.128Z"
   },
   {
    "duration": 67,
    "start_time": "2021-10-20T16:52:17.165Z"
   },
   {
    "duration": 544,
    "start_time": "2021-10-20T16:52:17.235Z"
   },
   {
    "duration": 6,
    "start_time": "2021-10-20T16:52:17.782Z"
   },
   {
    "duration": 361,
    "start_time": "2021-10-20T16:52:17.790Z"
   },
   {
    "duration": 469,
    "start_time": "2021-10-20T16:52:18.153Z"
   },
   {
    "duration": 336,
    "start_time": "2021-10-20T16:52:18.624Z"
   },
   {
    "duration": 20,
    "start_time": "2021-10-20T16:52:18.963Z"
   },
   {
    "duration": 7,
    "start_time": "2021-10-20T16:52:18.986Z"
   },
   {
    "duration": 332,
    "start_time": "2021-10-20T16:52:18.996Z"
   },
   {
    "duration": 14,
    "start_time": "2021-10-20T16:52:19.338Z"
   },
   {
    "duration": 8,
    "start_time": "2021-10-20T16:52:19.357Z"
   },
   {
    "duration": 15,
    "start_time": "2021-10-20T16:52:19.368Z"
   },
   {
    "duration": 41,
    "start_time": "2021-10-20T16:52:19.386Z"
   },
   {
    "duration": 26,
    "start_time": "2021-10-20T16:52:19.431Z"
   },
   {
    "duration": 7,
    "start_time": "2021-10-20T16:52:19.460Z"
   },
   {
    "duration": 337,
    "start_time": "2021-10-20T16:52:19.470Z"
   },
   {
    "duration": 24,
    "start_time": "2021-10-20T16:52:19.810Z"
   },
   {
    "duration": 9,
    "start_time": "2021-10-20T16:52:19.836Z"
   },
   {
    "duration": 25,
    "start_time": "2021-10-20T16:52:19.848Z"
   },
   {
    "duration": 4,
    "start_time": "2021-10-20T16:52:19.876Z"
   },
   {
    "duration": 61,
    "start_time": "2021-10-20T16:52:19.882Z"
   },
   {
    "duration": 39,
    "start_time": "2021-10-20T16:52:19.946Z"
   },
   {
    "duration": 37,
    "start_time": "2021-10-20T16:52:19.987Z"
   },
   {
    "duration": 5,
    "start_time": "2021-10-20T16:52:20.026Z"
   },
   {
    "duration": 10,
    "start_time": "2021-10-20T16:52:20.034Z"
   },
   {
    "duration": 6,
    "start_time": "2021-10-20T16:52:20.047Z"
   },
   {
    "duration": 31,
    "start_time": "2021-10-20T16:52:20.055Z"
   },
   {
    "duration": 145,
    "start_time": "2021-10-20T16:52:20.088Z"
   },
   {
    "duration": 37,
    "start_time": "2021-10-20T16:52:20.235Z"
   },
   {
    "duration": 19,
    "start_time": "2021-10-20T16:52:20.275Z"
   },
   {
    "duration": 27,
    "start_time": "2021-10-20T16:52:20.321Z"
   },
   {
    "duration": 13,
    "start_time": "2021-10-20T16:52:20.350Z"
   },
   {
    "duration": 615,
    "start_time": "2021-10-20T16:52:20.365Z"
   },
   {
    "duration": 332,
    "start_time": "2021-10-20T16:52:20.983Z"
   },
   {
    "duration": 339,
    "start_time": "2021-10-20T16:52:21.317Z"
   },
   {
    "duration": 330,
    "start_time": "2021-10-20T16:52:21.658Z"
   },
   {
    "duration": 330,
    "start_time": "2021-10-20T16:52:21.991Z"
   },
   {
    "duration": 326,
    "start_time": "2021-10-20T16:52:22.324Z"
   },
   {
    "duration": 11,
    "start_time": "2021-10-20T16:52:22.653Z"
   },
   {
    "duration": 75,
    "start_time": "2021-10-20T16:52:22.666Z"
   },
   {
    "duration": 13,
    "start_time": "2021-10-20T16:52:22.744Z"
   },
   {
    "duration": 78,
    "start_time": "2021-10-20T16:52:22.759Z"
   },
   {
    "duration": 38,
    "start_time": "2021-10-20T16:52:22.840Z"
   },
   {
    "duration": 42,
    "start_time": "2021-10-20T16:52:22.880Z"
   },
   {
    "duration": 25,
    "start_time": "2021-10-20T16:52:22.925Z"
   },
   {
    "duration": 1118,
    "start_time": "2021-10-21T19:02:10.719Z"
   },
   {
    "duration": 3,
    "start_time": "2021-10-21T19:02:12.025Z"
   },
   {
    "duration": 641,
    "start_time": "2021-10-21T19:02:12.705Z"
   },
   {
    "duration": 109,
    "start_time": "2021-10-21T19:02:14.239Z"
   },
   {
    "duration": 3,
    "start_time": "2021-10-21T19:02:14.905Z"
   },
   {
    "duration": 163,
    "start_time": "2021-10-21T19:02:15.559Z"
   },
   {
    "duration": 27,
    "start_time": "2021-10-21T19:02:16.885Z"
   },
   {
    "duration": 5,
    "start_time": "2021-10-21T19:02:17.574Z"
   },
   {
    "duration": 13,
    "start_time": "2021-10-21T19:02:18.210Z"
   },
   {
    "duration": 21,
    "start_time": "2021-10-21T19:02:18.835Z"
   },
   {
    "duration": 6,
    "start_time": "2021-10-21T19:02:19.500Z"
   },
   {
    "duration": 26,
    "start_time": "2021-10-21T19:02:20.061Z"
   },
   {
    "duration": 5,
    "start_time": "2021-10-21T19:02:20.728Z"
   },
   {
    "duration": 6,
    "start_time": "2021-10-21T19:02:21.298Z"
   },
   {
    "duration": 83,
    "start_time": "2021-10-21T19:02:23.350Z"
   },
   {
    "duration": 12,
    "start_time": "2021-10-21T19:02:24.079Z"
   },
   {
    "duration": 6,
    "start_time": "2021-10-21T19:02:24.759Z"
   },
   {
    "duration": 16,
    "start_time": "2021-10-21T19:02:26.077Z"
   },
   {
    "duration": 19,
    "start_time": "2021-10-21T19:02:27.420Z"
   },
   {
    "duration": 5,
    "start_time": "2021-10-21T19:02:28.456Z"
   },
   {
    "duration": 35,
    "start_time": "2021-10-21T19:02:32.485Z"
   },
   {
    "duration": 9,
    "start_time": "2021-10-21T19:02:38.095Z"
   },
   {
    "duration": 20,
    "start_time": "2021-10-21T19:02:40.540Z"
   },
   {
    "duration": 13,
    "start_time": "2021-10-21T19:02:41.332Z"
   },
   {
    "duration": 26,
    "start_time": "2021-10-21T19:02:46.802Z"
   },
   {
    "duration": 35,
    "start_time": "2021-10-21T19:02:47.622Z"
   },
   {
    "duration": 28,
    "start_time": "2021-10-21T19:02:48.377Z"
   },
   {
    "duration": 113,
    "start_time": "2021-10-21T19:02:48.947Z"
   },
   {
    "duration": 115,
    "start_time": "2021-10-21T19:02:49.630Z"
   },
   {
    "duration": 113,
    "start_time": "2021-10-21T19:02:50.343Z"
   },
   {
    "duration": 89,
    "start_time": "2021-10-21T19:02:51.068Z"
   },
   {
    "duration": 91,
    "start_time": "2021-10-21T19:03:22.988Z"
   },
   {
    "duration": 182,
    "start_time": "2021-10-21T19:03:24.185Z"
   },
   {
    "duration": 167,
    "start_time": "2021-10-21T19:03:25.036Z"
   },
   {
    "duration": 169,
    "start_time": "2021-10-21T19:03:29.259Z"
   },
   {
    "duration": 116,
    "start_time": "2021-10-21T19:07:08.285Z"
   },
   {
    "duration": 3,
    "start_time": "2021-10-21T19:07:08.858Z"
   },
   {
    "duration": 9,
    "start_time": "2021-10-21T19:07:09.374Z"
   },
   {
    "duration": 9,
    "start_time": "2021-10-21T19:07:09.861Z"
   },
   {
    "duration": 4,
    "start_time": "2021-10-21T19:07:10.340Z"
   },
   {
    "duration": 198,
    "start_time": "2021-10-21T19:07:12.310Z"
   },
   {
    "duration": 18,
    "start_time": "2021-10-21T19:07:18.710Z"
   },
   {
    "duration": 271,
    "start_time": "2021-10-21T19:07:19.318Z"
   },
   {
    "duration": 7,
    "start_time": "2021-10-21T19:07:23.348Z"
   },
   {
    "duration": 198,
    "start_time": "2021-10-21T19:07:25.142Z"
   },
   {
    "duration": 75,
    "start_time": "2021-10-21T19:08:36.334Z"
   },
   {
    "duration": 77,
    "start_time": "2021-10-21T19:08:37.097Z"
   },
   {
    "duration": 23,
    "start_time": "2021-10-21T19:08:37.800Z"
   },
   {
    "duration": 99,
    "start_time": "2021-10-21T19:08:38.746Z"
   },
   {
    "duration": 36,
    "start_time": "2021-10-21T19:08:40.473Z"
   },
   {
    "duration": 25,
    "start_time": "2021-10-21T19:08:40.956Z"
   },
   {
    "duration": 13,
    "start_time": "2021-10-21T19:08:41.448Z"
   },
   {
    "duration": 136,
    "start_time": "2021-10-21T19:08:42.037Z"
   },
   {
    "duration": 8,
    "start_time": "2021-10-21T19:08:42.558Z"
   },
   {
    "duration": 6,
    "start_time": "2021-10-21T19:08:43.051Z"
   },
   {
    "duration": 4,
    "start_time": "2021-10-21T19:08:43.631Z"
   },
   {
    "duration": 6,
    "start_time": "2021-10-21T19:08:44.526Z"
   },
   {
    "duration": 4,
    "start_time": "2021-10-21T19:08:45.309Z"
   },
   {
    "duration": 443,
    "start_time": "2021-10-21T19:09:49.339Z"
   },
   {
    "duration": 380,
    "start_time": "2021-10-21T19:09:51.172Z"
   },
   {
    "duration": -1799,
    "start_time": "2021-10-21T19:10:56.056Z"
   },
   {
    "duration": 369,
    "start_time": "2021-10-21T19:10:58.307Z"
   },
   {
    "duration": 9182,
    "start_time": "2021-10-21T19:10:59.815Z"
   },
   {
    "duration": -1908,
    "start_time": "2021-10-21T19:11:10.907Z"
   },
   {
    "duration": 74,
    "start_time": "2021-10-21T19:11:37.087Z"
   },
   {
    "duration": 514,
    "start_time": "2021-10-21T19:11:38.969Z"
   },
   {
    "duration": 76,
    "start_time": "2021-10-21T19:12:27.798Z"
   },
   {
    "duration": 473,
    "start_time": "2021-10-21T19:12:28.563Z"
   },
   {
    "duration": 1122,
    "start_time": "2021-10-21T19:13:03.917Z"
   },
   {
    "duration": 3,
    "start_time": "2021-10-21T19:13:05.041Z"
   },
   {
    "duration": 636,
    "start_time": "2021-10-21T19:13:05.046Z"
   },
   {
    "duration": 107,
    "start_time": "2021-10-21T19:13:05.683Z"
   },
   {
    "duration": 3,
    "start_time": "2021-10-21T19:13:05.792Z"
   },
   {
    "duration": 183,
    "start_time": "2021-10-21T19:13:05.796Z"
   },
   {
    "duration": 27,
    "start_time": "2021-10-21T19:13:05.980Z"
   },
   {
    "duration": 2,
    "start_time": "2021-10-21T19:13:06.009Z"
   },
   {
    "duration": 19,
    "start_time": "2021-10-21T19:13:06.013Z"
   },
   {
    "duration": 34,
    "start_time": "2021-10-21T19:13:06.033Z"
   },
   {
    "duration": 10,
    "start_time": "2021-10-21T19:13:06.068Z"
   },
   {
    "duration": 42,
    "start_time": "2021-10-21T19:13:06.080Z"
   },
   {
    "duration": 5,
    "start_time": "2021-10-21T19:13:06.123Z"
   },
   {
    "duration": 6,
    "start_time": "2021-10-21T19:13:06.152Z"
   },
   {
    "duration": 82,
    "start_time": "2021-10-21T19:13:06.401Z"
   },
   {
    "duration": 11,
    "start_time": "2021-10-21T19:13:06.506Z"
   },
   {
    "duration": 6,
    "start_time": "2021-10-21T19:13:06.661Z"
   },
   {
    "duration": 17,
    "start_time": "2021-10-21T19:13:06.960Z"
   },
   {
    "duration": 18,
    "start_time": "2021-10-21T19:13:07.141Z"
   },
   {
    "duration": 5,
    "start_time": "2021-10-21T19:13:07.256Z"
   },
   {
    "duration": 34,
    "start_time": "2021-10-21T19:13:07.694Z"
   },
   {
    "duration": 8,
    "start_time": "2021-10-21T19:13:08.116Z"
   },
   {
    "duration": 19,
    "start_time": "2021-10-21T19:13:08.570Z"
   },
   {
    "duration": 13,
    "start_time": "2021-10-21T19:13:08.734Z"
   },
   {
    "duration": 26,
    "start_time": "2021-10-21T19:13:10.484Z"
   },
   {
    "duration": 36,
    "start_time": "2021-10-21T19:13:10.642Z"
   },
   {
    "duration": 27,
    "start_time": "2021-10-21T19:13:10.792Z"
   },
   {
    "duration": 116,
    "start_time": "2021-10-21T19:13:10.975Z"
   },
   {
    "duration": 116,
    "start_time": "2021-10-21T19:13:11.161Z"
   },
   {
    "duration": 111,
    "start_time": "2021-10-21T19:13:11.343Z"
   },
   {
    "duration": 88,
    "start_time": "2021-10-21T19:13:11.493Z"
   },
   {
    "duration": 147,
    "start_time": "2021-10-21T19:13:11.826Z"
   },
   {
    "duration": 150,
    "start_time": "2021-10-21T19:13:11.997Z"
   },
   {
    "duration": 172,
    "start_time": "2021-10-21T19:13:13.809Z"
   },
   {
    "duration": 114,
    "start_time": "2021-10-21T19:13:15.492Z"
   },
   {
    "duration": 3,
    "start_time": "2021-10-21T19:13:15.696Z"
   },
   {
    "duration": 9,
    "start_time": "2021-10-21T19:13:15.914Z"
   },
   {
    "duration": 9,
    "start_time": "2021-10-21T19:13:16.139Z"
   },
   {
    "duration": 4,
    "start_time": "2021-10-21T19:13:16.417Z"
   },
   {
    "duration": 200,
    "start_time": "2021-10-21T19:13:17.385Z"
   },
   {
    "duration": 17,
    "start_time": "2021-10-21T19:13:19.656Z"
   },
   {
    "duration": 251,
    "start_time": "2021-10-21T19:13:20.107Z"
   },
   {
    "duration": 7,
    "start_time": "2021-10-21T19:13:22.710Z"
   },
   {
    "duration": 202,
    "start_time": "2021-10-21T19:13:23.872Z"
   },
   {
    "duration": 78,
    "start_time": "2021-10-21T19:13:27.051Z"
   },
   {
    "duration": 575,
    "start_time": "2021-10-21T19:13:27.595Z"
   },
   {
    "duration": 76,
    "start_time": "2021-10-21T19:13:47.609Z"
   },
   {
    "duration": 128,
    "start_time": "2021-10-21T19:14:44.452Z"
   },
   {
    "duration": 408,
    "start_time": "2021-10-21T19:14:47.032Z"
   },
   {
    "duration": 416,
    "start_time": "2021-10-21T19:15:31.471Z"
   },
   {
    "duration": 369,
    "start_time": "2021-10-21T19:15:39.519Z"
   },
   {
    "duration": 81,
    "start_time": "2021-10-21T19:15:54.303Z"
   },
   {
    "duration": 73,
    "start_time": "2021-10-21T19:16:04.794Z"
   },
   {
    "duration": 2029,
    "start_time": "2021-10-21T19:16:06.399Z"
   },
   {
    "duration": 224,
    "start_time": "2021-10-21T19:16:11.252Z"
   },
   {
    "duration": 9906,
    "start_time": "2021-10-21T19:16:15.249Z"
   },
   {
    "duration": 116,
    "start_time": "2021-10-21T19:16:59.524Z"
   },
   {
    "duration": 95,
    "start_time": "2021-10-21T19:17:49.381Z"
   },
   {
    "duration": 291,
    "start_time": "2021-10-21T19:17:49.951Z"
   },
   {
    "duration": 3,
    "start_time": "2021-10-21T19:18:15.729Z"
   },
   {
    "duration": 3,
    "start_time": "2021-10-21T19:18:16.252Z"
   },
   {
    "duration": 2,
    "start_time": "2021-10-21T19:18:17.815Z"
   },
   {
    "duration": 2,
    "start_time": "2021-10-21T19:18:18.236Z"
   },
   {
    "duration": 2,
    "start_time": "2021-10-21T19:18:18.648Z"
   },
   {
    "duration": 3,
    "start_time": "2021-10-21T19:18:19.085Z"
   },
   {
    "duration": 595,
    "start_time": "2021-10-21T19:18:21.783Z"
   },
   {
    "duration": 91,
    "start_time": "2021-10-21T19:18:23.572Z"
   },
   {
    "duration": 3,
    "start_time": "2021-10-21T19:18:23.685Z"
   },
   {
    "duration": 150,
    "start_time": "2021-10-21T19:18:23.820Z"
   },
   {
    "duration": 27,
    "start_time": "2021-10-21T19:18:24.016Z"
   },
   {
    "duration": 3,
    "start_time": "2021-10-21T19:18:24.152Z"
   },
   {
    "duration": 14,
    "start_time": "2021-10-21T19:18:24.249Z"
   },
   {
    "duration": 21,
    "start_time": "2021-10-21T19:18:24.384Z"
   },
   {
    "duration": 5,
    "start_time": "2021-10-21T19:18:24.479Z"
   },
   {
    "duration": 23,
    "start_time": "2021-10-21T19:18:24.601Z"
   },
   {
    "duration": 7,
    "start_time": "2021-10-21T19:18:24.724Z"
   },
   {
    "duration": 6,
    "start_time": "2021-10-21T19:18:24.857Z"
   },
   {
    "duration": 67,
    "start_time": "2021-10-21T19:18:25.164Z"
   },
   {
    "duration": 12,
    "start_time": "2021-10-21T19:18:25.303Z"
   },
   {
    "duration": 6,
    "start_time": "2021-10-21T19:18:25.460Z"
   },
   {
    "duration": 18,
    "start_time": "2021-10-21T19:18:25.726Z"
   },
   {
    "duration": 18,
    "start_time": "2021-10-21T19:18:25.897Z"
   },
   {
    "duration": 6,
    "start_time": "2021-10-21T19:18:26.039Z"
   },
   {
    "duration": 34,
    "start_time": "2021-10-21T19:18:26.448Z"
   },
   {
    "duration": 9,
    "start_time": "2021-10-21T19:18:26.890Z"
   },
   {
    "duration": 21,
    "start_time": "2021-10-21T19:18:27.369Z"
   },
   {
    "duration": 15,
    "start_time": "2021-10-21T19:18:27.500Z"
   },
   {
    "duration": 27,
    "start_time": "2021-10-21T19:18:29.052Z"
   },
   {
    "duration": 40,
    "start_time": "2021-10-21T19:18:29.159Z"
   },
   {
    "duration": 27,
    "start_time": "2021-10-21T19:18:29.318Z"
   },
   {
    "duration": 115,
    "start_time": "2021-10-21T19:18:29.466Z"
   },
   {
    "duration": 97,
    "start_time": "2021-10-21T19:18:29.684Z"
   },
   {
    "duration": 113,
    "start_time": "2021-10-21T19:18:29.793Z"
   },
   {
    "duration": 91,
    "start_time": "2021-10-21T19:18:29.907Z"
   },
   {
    "duration": 152,
    "start_time": "2021-10-21T19:18:30.227Z"
   },
   {
    "duration": 225,
    "start_time": "2021-10-21T19:18:30.382Z"
   },
   {
    "duration": 164,
    "start_time": "2021-10-21T19:18:31.338Z"
   },
   {
    "duration": 112,
    "start_time": "2021-10-21T19:18:32.524Z"
   },
   {
    "duration": 3,
    "start_time": "2021-10-21T19:18:32.667Z"
   },
   {
    "duration": 4,
    "start_time": "2021-10-21T19:18:32.830Z"
   },
   {
    "duration": 10,
    "start_time": "2021-10-21T19:18:32.979Z"
   },
   {
    "duration": 5,
    "start_time": "2021-10-21T19:18:33.152Z"
   },
   {
    "duration": 196,
    "start_time": "2021-10-21T19:18:33.734Z"
   },
   {
    "duration": 18,
    "start_time": "2021-10-21T19:18:34.957Z"
   },
   {
    "duration": 263,
    "start_time": "2021-10-21T19:18:35.128Z"
   },
   {
    "duration": 7,
    "start_time": "2021-10-21T19:18:36.124Z"
   },
   {
    "duration": 205,
    "start_time": "2021-10-21T19:18:36.931Z"
   },
   {
    "duration": 79,
    "start_time": "2021-10-21T19:18:38.287Z"
   },
   {
    "duration": 247,
    "start_time": "2021-10-21T19:18:38.454Z"
   },
   {
    "duration": 9455,
    "start_time": "2021-10-21T19:18:38.703Z"
   },
   {
    "duration": -1809,
    "start_time": "2021-10-21T19:18:49.970Z"
   },
   {
    "duration": -1814,
    "start_time": "2021-10-21T19:18:49.976Z"
   },
   {
    "duration": -1817,
    "start_time": "2021-10-21T19:18:49.980Z"
   },
   {
    "duration": 3,
    "start_time": "2021-10-21T19:18:59.579Z"
   },
   {
    "duration": 3,
    "start_time": "2021-10-21T19:18:59.737Z"
   },
   {
    "duration": 576,
    "start_time": "2021-10-21T19:19:04.154Z"
   },
   {
    "duration": 89,
    "start_time": "2021-10-21T19:19:04.732Z"
   },
   {
    "duration": 3,
    "start_time": "2021-10-21T19:19:04.823Z"
   },
   {
    "duration": 172,
    "start_time": "2021-10-21T19:19:04.827Z"
   },
   {
    "duration": 27,
    "start_time": "2021-10-21T19:19:05.001Z"
   },
   {
    "duration": 4,
    "start_time": "2021-10-21T19:19:05.147Z"
   },
   {
    "duration": 13,
    "start_time": "2021-10-21T19:19:05.248Z"
   },
   {
    "duration": 21,
    "start_time": "2021-10-21T19:19:05.481Z"
   },
   {
    "duration": 5,
    "start_time": "2021-10-21T19:19:06.439Z"
   },
   {
    "duration": 1455,
    "start_time": "2021-10-21T19:19:12.273Z"
   },
   {
    "duration": 3,
    "start_time": "2021-10-21T19:19:13.729Z"
   },
   {
    "duration": 662,
    "start_time": "2021-10-21T19:19:13.734Z"
   },
   {
    "duration": 106,
    "start_time": "2021-10-21T19:19:14.397Z"
   },
   {
    "duration": 3,
    "start_time": "2021-10-21T19:19:14.504Z"
   },
   {
    "duration": 168,
    "start_time": "2021-10-21T19:19:14.508Z"
   },
   {
    "duration": 26,
    "start_time": "2021-10-21T19:19:14.678Z"
   },
   {
    "duration": 2,
    "start_time": "2021-10-21T19:19:14.707Z"
   },
   {
    "duration": 15,
    "start_time": "2021-10-21T19:19:14.711Z"
   },
   {
    "duration": 22,
    "start_time": "2021-10-21T19:19:14.728Z"
   },
   {
    "duration": 27,
    "start_time": "2021-10-21T19:19:14.752Z"
   },
   {
    "duration": 27,
    "start_time": "2021-10-21T19:19:14.780Z"
   },
   {
    "duration": 5,
    "start_time": "2021-10-21T19:19:14.808Z"
   },
   {
    "duration": 7,
    "start_time": "2021-10-21T19:19:14.815Z"
   },
   {
    "duration": 99,
    "start_time": "2021-10-21T19:19:14.824Z"
   },
   {
    "duration": 12,
    "start_time": "2021-10-21T19:19:14.927Z"
   },
   {
    "duration": 6,
    "start_time": "2021-10-21T19:19:15.097Z"
   },
   {
    "duration": 17,
    "start_time": "2021-10-21T19:19:15.413Z"
   },
   {
    "duration": 19,
    "start_time": "2021-10-21T19:19:15.581Z"
   },
   {
    "duration": 6,
    "start_time": "2021-10-21T19:19:15.718Z"
   },
   {
    "duration": 33,
    "start_time": "2021-10-21T19:19:16.121Z"
   },
   {
    "duration": 9,
    "start_time": "2021-10-21T19:19:16.637Z"
   },
   {
    "duration": 20,
    "start_time": "2021-10-21T19:19:17.162Z"
   },
   {
    "duration": 13,
    "start_time": "2021-10-21T19:19:17.311Z"
   },
   {
    "duration": 25,
    "start_time": "2021-10-21T19:19:19.017Z"
   },
   {
    "duration": 35,
    "start_time": "2021-10-21T19:19:19.151Z"
   },
   {
    "duration": 28,
    "start_time": "2021-10-21T19:19:19.307Z"
   },
   {
    "duration": 114,
    "start_time": "2021-10-21T19:19:19.464Z"
   },
   {
    "duration": 109,
    "start_time": "2021-10-21T19:19:19.648Z"
   },
   {
    "duration": 114,
    "start_time": "2021-10-21T19:19:19.787Z"
   },
   {
    "duration": 88,
    "start_time": "2021-10-21T19:19:19.944Z"
   },
   {
    "duration": 152,
    "start_time": "2021-10-21T19:19:20.292Z"
   },
   {
    "duration": 161,
    "start_time": "2021-10-21T19:19:20.471Z"
   },
   {
    "duration": 161,
    "start_time": "2021-10-21T19:19:21.510Z"
   },
   {
    "duration": 112,
    "start_time": "2021-10-21T19:19:22.710Z"
   },
   {
    "duration": 3,
    "start_time": "2021-10-21T19:19:22.874Z"
   },
   {
    "duration": 9,
    "start_time": "2021-10-21T19:19:23.083Z"
   },
   {
    "duration": 10,
    "start_time": "2021-10-21T19:19:23.250Z"
   },
   {
    "duration": 5,
    "start_time": "2021-10-21T19:19:23.432Z"
   },
   {
    "duration": 192,
    "start_time": "2021-10-21T19:19:24.156Z"
   },
   {
    "duration": 17,
    "start_time": "2021-10-21T19:19:25.430Z"
   },
   {
    "duration": 264,
    "start_time": "2021-10-21T19:19:25.680Z"
   },
   {
    "duration": 7,
    "start_time": "2021-10-21T19:19:26.845Z"
   },
   {
    "duration": 199,
    "start_time": "2021-10-21T19:19:28.053Z"
   },
   {
    "duration": 81,
    "start_time": "2021-10-21T19:19:30.555Z"
   },
   {
    "duration": 238,
    "start_time": "2021-10-21T19:19:30.871Z"
   },
   {
    "duration": 9494,
    "start_time": "2021-10-21T19:19:39.695Z"
   },
   {
    "duration": 10440,
    "start_time": "2021-10-21T19:21:05.400Z"
   },
   {
    "duration": 84,
    "start_time": "2021-10-21T19:21:49.393Z"
   },
   {
    "duration": 82,
    "start_time": "2021-10-21T19:22:08.581Z"
   },
   {
    "duration": 246,
    "start_time": "2021-10-21T19:23:38.226Z"
   },
   {
    "duration": 9299,
    "start_time": "2021-10-21T19:23:44.643Z"
   },
   {
    "duration": 484,
    "start_time": "2021-10-21T19:24:18.776Z"
   },
   {
    "duration": 194,
    "start_time": "2021-10-21T19:24:25.596Z"
   },
   {
    "duration": 248,
    "start_time": "2021-10-21T19:24:37.834Z"
   },
   {
    "duration": 456,
    "start_time": "2021-10-21T19:24:44.285Z"
   },
   {
    "duration": 452,
    "start_time": "2021-10-21T19:25:07.465Z"
   },
   {
    "duration": 431,
    "start_time": "2021-10-21T19:25:20.213Z"
   },
   {
    "duration": 139,
    "start_time": "2021-10-21T19:25:26.314Z"
   },
   {
    "duration": 141,
    "start_time": "2021-10-21T19:25:30.754Z"
   },
   {
    "duration": 131,
    "start_time": "2021-10-21T19:25:44.311Z"
   },
   {
    "duration": 97,
    "start_time": "2021-10-21T19:25:45.510Z"
   },
   {
    "duration": 96,
    "start_time": "2021-10-21T19:25:52.902Z"
   },
   {
    "duration": 10728,
    "start_time": "2021-10-21T19:25:54.876Z"
   },
   {
    "duration": -1811,
    "start_time": "2021-10-21T19:26:07.417Z"
   },
   {
    "duration": 35,
    "start_time": "2021-10-21T19:26:21.995Z"
   },
   {
    "duration": 24,
    "start_time": "2021-10-21T19:27:12.002Z"
   },
   {
    "duration": 12,
    "start_time": "2021-10-21T19:27:19.286Z"
   },
   {
    "duration": 119,
    "start_time": "2021-10-21T19:27:20.163Z"
   },
   {
    "duration": 365,
    "start_time": "2021-10-21T19:27:43.361Z"
   },
   {
    "duration": 389,
    "start_time": "2021-10-21T19:28:02.460Z"
   },
   {
    "duration": 404,
    "start_time": "2021-10-21T19:28:24.170Z"
   },
   {
    "duration": 382,
    "start_time": "2021-10-21T19:28:41.665Z"
   },
   {
    "duration": 371,
    "start_time": "2021-10-21T19:28:49.286Z"
   },
   {
    "duration": 205,
    "start_time": "2021-10-21T19:29:15.882Z"
   },
   {
    "duration": 20,
    "start_time": "2021-10-21T19:29:17.998Z"
   },
   {
    "duration": 107,
    "start_time": "2021-10-21T19:29:28.251Z"
   },
   {
    "duration": 7650,
    "start_time": "2021-10-21T19:30:50.230Z"
   },
   {
    "duration": 30,
    "start_time": "2021-10-21T19:31:42.176Z"
   },
   {
    "duration": 5,
    "start_time": "2021-10-21T19:31:44.129Z"
   },
   {
    "duration": 377,
    "start_time": "2021-10-21T19:31:45.008Z"
   },
   {
    "duration": 402,
    "start_time": "2021-10-21T19:32:28.810Z"
   },
   {
    "duration": 360,
    "start_time": "2021-10-21T19:32:41.354Z"
   },
   {
    "duration": 7547,
    "start_time": "2021-10-21T19:33:04.501Z"
   },
   {
    "duration": 205,
    "start_time": "2021-10-21T19:33:28.885Z"
   },
   {
    "duration": 101,
    "start_time": "2021-10-21T19:33:29.702Z"
   },
   {
    "duration": 25,
    "start_time": "2021-10-21T19:33:30.639Z"
   },
   {
    "duration": 25,
    "start_time": "2021-10-21T19:33:45.224Z"
   },
   {
    "duration": 6,
    "start_time": "2021-10-21T19:33:45.993Z"
   },
   {
    "duration": 376,
    "start_time": "2021-10-21T19:33:48.196Z"
   },
   {
    "duration": 13,
    "start_time": "2021-10-21T19:35:06.003Z"
   },
   {
    "duration": 12,
    "start_time": "2021-10-21T19:35:36.011Z"
   },
   {
    "duration": 240,
    "start_time": "2021-10-21T19:35:39.861Z"
   },
   {
    "duration": 9591,
    "start_time": "2021-10-21T19:35:41.643Z"
   },
   {
    "duration": 6,
    "start_time": "2021-10-21T19:36:15.306Z"
   },
   {
    "duration": 1466,
    "start_time": "2021-10-21T19:36:16.037Z"
   },
   {
    "duration": 94,
    "start_time": "2021-10-21T19:36:24.941Z"
   },
   {
    "duration": 1454,
    "start_time": "2021-10-21T19:36:36.024Z"
   },
   {
    "duration": 9087,
    "start_time": "2021-10-21T19:36:40.716Z"
   },
   {
    "duration": 377,
    "start_time": "2021-10-21T19:38:14.952Z"
   },
   {
    "duration": 1188,
    "start_time": "2021-10-21T19:38:35.957Z"
   },
   {
    "duration": 2,
    "start_time": "2021-10-21T19:38:37.147Z"
   },
   {
    "duration": 633,
    "start_time": "2021-10-21T19:38:37.152Z"
   },
   {
    "duration": 107,
    "start_time": "2021-10-21T19:38:37.787Z"
   },
   {
    "duration": 3,
    "start_time": "2021-10-21T19:38:37.895Z"
   },
   {
    "duration": 177,
    "start_time": "2021-10-21T19:38:37.899Z"
   },
   {
    "duration": 25,
    "start_time": "2021-10-21T19:38:38.078Z"
   },
   {
    "duration": 2,
    "start_time": "2021-10-21T19:38:38.105Z"
   },
   {
    "duration": 15,
    "start_time": "2021-10-21T19:38:38.109Z"
   },
   {
    "duration": 19,
    "start_time": "2021-10-21T19:38:38.125Z"
   },
   {
    "duration": 33,
    "start_time": "2021-10-21T19:38:38.146Z"
   },
   {
    "duration": 28,
    "start_time": "2021-10-21T19:38:38.181Z"
   },
   {
    "duration": 5,
    "start_time": "2021-10-21T19:38:38.210Z"
   },
   {
    "duration": 6,
    "start_time": "2021-10-21T19:38:38.217Z"
   },
   {
    "duration": 87,
    "start_time": "2021-10-21T19:38:38.538Z"
   },
   {
    "duration": 11,
    "start_time": "2021-10-21T19:38:38.661Z"
   },
   {
    "duration": 6,
    "start_time": "2021-10-21T19:38:38.814Z"
   },
   {
    "duration": 16,
    "start_time": "2021-10-21T19:38:39.133Z"
   },
   {
    "duration": 19,
    "start_time": "2021-10-21T19:38:39.304Z"
   },
   {
    "duration": 5,
    "start_time": "2021-10-21T19:38:39.465Z"
   },
   {
    "duration": 35,
    "start_time": "2021-10-21T19:38:39.989Z"
   },
   {
    "duration": 9,
    "start_time": "2021-10-21T19:38:40.482Z"
   },
   {
    "duration": 20,
    "start_time": "2021-10-21T19:38:40.968Z"
   },
   {
    "duration": 14,
    "start_time": "2021-10-21T19:38:41.121Z"
   },
   {
    "duration": 26,
    "start_time": "2021-10-21T19:38:42.854Z"
   },
   {
    "duration": 35,
    "start_time": "2021-10-21T19:38:43.017Z"
   },
   {
    "duration": 28,
    "start_time": "2021-10-21T19:38:43.157Z"
   },
   {
    "duration": 110,
    "start_time": "2021-10-21T19:38:43.284Z"
   },
   {
    "duration": 109,
    "start_time": "2021-10-21T19:38:43.418Z"
   },
   {
    "duration": 114,
    "start_time": "2021-10-21T19:38:43.568Z"
   },
   {
    "duration": 86,
    "start_time": "2021-10-21T19:38:43.703Z"
   },
   {
    "duration": 158,
    "start_time": "2021-10-21T19:38:43.967Z"
   },
   {
    "duration": 158,
    "start_time": "2021-10-21T19:38:44.127Z"
   },
   {
    "duration": 166,
    "start_time": "2021-10-21T19:38:45.144Z"
   },
   {
    "duration": 112,
    "start_time": "2021-10-21T19:38:46.234Z"
   },
   {
    "duration": 3,
    "start_time": "2021-10-21T19:38:46.404Z"
   },
   {
    "duration": 8,
    "start_time": "2021-10-21T19:38:46.522Z"
   },
   {
    "duration": 9,
    "start_time": "2021-10-21T19:38:46.670Z"
   },
   {
    "duration": 4,
    "start_time": "2021-10-21T19:38:46.849Z"
   },
   {
    "duration": 192,
    "start_time": "2021-10-21T19:38:47.530Z"
   },
   {
    "duration": 18,
    "start_time": "2021-10-21T19:38:48.731Z"
   },
   {
    "duration": 250,
    "start_time": "2021-10-21T19:38:48.893Z"
   },
   {
    "duration": 8,
    "start_time": "2021-10-21T19:38:49.916Z"
   },
   {
    "duration": 194,
    "start_time": "2021-10-21T19:38:50.754Z"
   },
   {
    "duration": 9360,
    "start_time": "2021-10-21T19:38:52.210Z"
   },
   {
    "duration": 77,
    "start_time": "2021-10-21T19:39:11.630Z"
   },
   {
    "duration": 3,
    "start_time": "2021-10-21T19:39:23.611Z"
   },
   {
    "duration": 382,
    "start_time": "2021-10-21T19:39:44.350Z"
   },
   {
    "duration": 4,
    "start_time": "2021-10-21T19:39:51.640Z"
   },
   {
    "duration": 470,
    "start_time": "2021-10-21T19:41:01.829Z"
   },
   {
    "duration": 240,
    "start_time": "2021-10-21T19:41:09.993Z"
   },
   {
    "duration": 357,
    "start_time": "2021-10-21T19:41:22.606Z"
   },
   {
    "duration": 574,
    "start_time": "2021-10-21T19:41:28.752Z"
   },
   {
    "duration": 402,
    "start_time": "2021-10-21T19:41:35.069Z"
   },
   {
    "duration": 398,
    "start_time": "2021-10-21T19:41:50.169Z"
   },
   {
    "duration": 219,
    "start_time": "2021-10-21T19:42:15.746Z"
   },
   {
    "duration": 418,
    "start_time": "2021-10-21T19:42:48.435Z"
   },
   {
    "duration": 3,
    "start_time": "2021-10-21T19:43:03.563Z"
   },
   {
    "duration": 184,
    "start_time": "2021-10-21T19:43:04.193Z"
   },
   {
    "duration": 2227,
    "start_time": "2021-10-21T19:43:09.202Z"
   },
   {
    "duration": 12659,
    "start_time": "2021-10-21T19:43:23.927Z"
   },
   {
    "duration": -1836,
    "start_time": "2021-10-21T19:43:38.424Z"
   },
   {
    "duration": -1779,
    "start_time": "2021-10-21T19:43:52.459Z"
   },
   {
    "duration": 1531,
    "start_time": "2021-10-21T19:43:52.210Z"
   },
   {
    "duration": 9,
    "start_time": "2021-10-21T19:43:56.950Z"
   },
   {
    "duration": -1790,
    "start_time": "2021-10-21T19:44:11.648Z"
   },
   {
    "duration": 17,
    "start_time": "2021-10-21T19:44:12.237Z"
   },
   {
    "duration": 380,
    "start_time": "2021-10-21T19:44:31.250Z"
   },
   {
    "duration": 2606,
    "start_time": "2021-10-21T19:44:39.265Z"
   },
   {
    "duration": 182,
    "start_time": "2021-10-21T19:47:21.486Z"
   },
   {
    "duration": 241,
    "start_time": "2021-10-21T19:47:40.720Z"
   },
   {
    "duration": 1561,
    "start_time": "2021-10-21T19:48:06.274Z"
   },
   {
    "duration": 534,
    "start_time": "2021-10-21T19:48:39.911Z"
   },
   {
    "duration": 417,
    "start_time": "2021-10-21T19:48:51.886Z"
   },
   {
    "duration": 372,
    "start_time": "2021-10-21T19:49:26.248Z"
   },
   {
    "duration": 372,
    "start_time": "2021-10-21T19:50:02.258Z"
   },
   {
    "duration": 156,
    "start_time": "2021-10-21T19:50:11.308Z"
   },
   {
    "duration": 9468,
    "start_time": "2021-10-21T19:50:45.272Z"
   },
   {
    "duration": 71,
    "start_time": "2021-10-21T19:51:20.894Z"
   },
   {
    "duration": 34,
    "start_time": "2021-10-21T19:51:40.585Z"
   },
   {
    "duration": 1365,
    "start_time": "2021-10-21T19:51:55.882Z"
   },
   {
    "duration": 9,
    "start_time": "2021-10-21T19:52:12.457Z"
   },
   {
    "duration": 16,
    "start_time": "2021-10-21T19:52:13.841Z"
   },
   {
    "duration": 2612,
    "start_time": "2021-10-21T19:52:14.744Z"
   },
   {
    "duration": 9416,
    "start_time": "2021-10-21T19:52:31.951Z"
   },
   {
    "duration": 383,
    "start_time": "2021-10-21T19:53:07.434Z"
   },
   {
    "duration": 8936,
    "start_time": "2021-10-21T19:53:13.670Z"
   },
   {
    "duration": 14,
    "start_time": "2021-10-21T19:53:23.206Z"
   },
   {
    "duration": 9275,
    "start_time": "2021-10-21T19:53:23.788Z"
   },
   {
    "duration": 125,
    "start_time": "2021-10-21T19:53:41.473Z"
   },
   {
    "duration": 8878,
    "start_time": "2021-10-21T19:53:45.734Z"
   },
   {
    "duration": 127,
    "start_time": "2021-10-21T19:55:10.387Z"
   },
   {
    "duration": 127,
    "start_time": "2021-10-21T19:55:49.535Z"
   },
   {
    "duration": 9,
    "start_time": "2021-10-21T19:56:04.326Z"
   },
   {
    "duration": 15,
    "start_time": "2021-10-21T19:56:08.530Z"
   },
   {
    "duration": 426,
    "start_time": "2021-10-21T19:56:19.701Z"
   },
   {
    "duration": 8,
    "start_time": "2021-10-21T19:56:26.803Z"
   },
   {
    "duration": 5,
    "start_time": "2021-10-21T19:56:45.149Z"
   },
   {
    "duration": 454,
    "start_time": "2021-10-21T19:58:30.319Z"
   },
   {
    "duration": 1171,
    "start_time": "2021-10-21T19:58:38.286Z"
   },
   {
    "duration": 3,
    "start_time": "2021-10-21T19:58:39.459Z"
   },
   {
    "duration": 658,
    "start_time": "2021-10-21T19:58:39.464Z"
   },
   {
    "duration": 113,
    "start_time": "2021-10-21T19:58:40.125Z"
   },
   {
    "duration": 4,
    "start_time": "2021-10-21T19:58:40.240Z"
   },
   {
    "duration": 188,
    "start_time": "2021-10-21T19:58:40.246Z"
   },
   {
    "duration": 29,
    "start_time": "2021-10-21T19:58:40.435Z"
   },
   {
    "duration": 3,
    "start_time": "2021-10-21T19:58:40.478Z"
   },
   {
    "duration": 16,
    "start_time": "2021-10-21T19:58:40.484Z"
   },
   {
    "duration": 24,
    "start_time": "2021-10-21T19:58:40.501Z"
   },
   {
    "duration": 4,
    "start_time": "2021-10-21T19:58:40.527Z"
   },
   {
    "duration": 64,
    "start_time": "2021-10-21T19:58:40.533Z"
   },
   {
    "duration": 6,
    "start_time": "2021-10-21T19:58:40.599Z"
   },
   {
    "duration": 11,
    "start_time": "2021-10-21T19:58:40.607Z"
   },
   {
    "duration": 84,
    "start_time": "2021-10-21T19:58:40.849Z"
   },
   {
    "duration": 11,
    "start_time": "2021-10-21T19:58:41.009Z"
   },
   {
    "duration": 6,
    "start_time": "2021-10-21T19:58:41.144Z"
   },
   {
    "duration": 16,
    "start_time": "2021-10-21T19:58:41.488Z"
   },
   {
    "duration": 19,
    "start_time": "2021-10-21T19:58:41.670Z"
   },
   {
    "duration": 5,
    "start_time": "2021-10-21T19:58:41.790Z"
   },
   {
    "duration": 36,
    "start_time": "2021-10-21T19:58:42.238Z"
   },
   {
    "duration": 9,
    "start_time": "2021-10-21T19:58:42.712Z"
   },
   {
    "duration": 21,
    "start_time": "2021-10-21T19:58:43.198Z"
   },
   {
    "duration": 13,
    "start_time": "2021-10-21T19:58:43.351Z"
   },
   {
    "duration": 26,
    "start_time": "2021-10-21T19:58:45.089Z"
   },
   {
    "duration": 36,
    "start_time": "2021-10-21T19:58:45.243Z"
   },
   {
    "duration": 28,
    "start_time": "2021-10-21T19:58:45.438Z"
   },
   {
    "duration": 114,
    "start_time": "2021-10-21T19:58:45.631Z"
   },
   {
    "duration": 113,
    "start_time": "2021-10-21T19:58:45.763Z"
   },
   {
    "duration": 115,
    "start_time": "2021-10-21T19:58:45.920Z"
   },
   {
    "duration": 90,
    "start_time": "2021-10-21T19:58:46.113Z"
   },
   {
    "duration": 150,
    "start_time": "2021-10-21T19:58:46.420Z"
   },
   {
    "duration": 168,
    "start_time": "2021-10-21T19:58:46.572Z"
   },
   {
    "duration": 170,
    "start_time": "2021-10-21T19:58:47.488Z"
   },
   {
    "duration": 118,
    "start_time": "2021-10-21T19:58:48.676Z"
   },
   {
    "duration": 3,
    "start_time": "2021-10-21T19:58:48.839Z"
   },
   {
    "duration": 9,
    "start_time": "2021-10-21T19:58:49.000Z"
   },
   {
    "duration": 9,
    "start_time": "2021-10-21T19:58:49.144Z"
   },
   {
    "duration": 4,
    "start_time": "2021-10-21T19:58:49.319Z"
   },
   {
    "duration": 196,
    "start_time": "2021-10-21T19:58:49.919Z"
   },
   {
    "duration": 17,
    "start_time": "2021-10-21T19:58:51.098Z"
   },
   {
    "duration": 252,
    "start_time": "2021-10-21T19:58:51.257Z"
   },
   {
    "duration": 8,
    "start_time": "2021-10-21T19:58:52.301Z"
   },
   {
    "duration": 207,
    "start_time": "2021-10-21T19:58:53.164Z"
   },
   {
    "duration": 79,
    "start_time": "2021-10-21T19:58:54.548Z"
   },
   {
    "duration": 3,
    "start_time": "2021-10-21T19:58:54.740Z"
   },
   {
    "duration": 255,
    "start_time": "2021-10-21T19:58:54.907Z"
   },
   {
    "duration": 202,
    "start_time": "2021-10-21T19:58:55.164Z"
   },
   {
    "duration": 70,
    "start_time": "2021-10-21T19:58:55.368Z"
   },
   {
    "duration": 10,
    "start_time": "2021-10-21T19:58:55.440Z"
   },
   {
    "duration": 145,
    "start_time": "2021-10-21T19:58:55.606Z"
   },
   {
    "duration": 8,
    "start_time": "2021-10-21T19:58:55.761Z"
   },
   {
    "duration": 14,
    "start_time": "2021-10-21T19:58:55.984Z"
   },
   {
    "duration": 9,
    "start_time": "2021-10-21T19:58:57.023Z"
   },
   {
    "duration": 4,
    "start_time": "2021-10-21T19:58:57.201Z"
   },
   {
    "duration": 816,
    "start_time": "2021-10-21T19:59:20.526Z"
   },
   {
    "duration": 1169,
    "start_time": "2021-10-21T19:59:28.509Z"
   },
   {
    "duration": 2,
    "start_time": "2021-10-21T19:59:29.680Z"
   },
   {
    "duration": 634,
    "start_time": "2021-10-21T19:59:29.684Z"
   },
   {
    "duration": 121,
    "start_time": "2021-10-21T19:59:30.320Z"
   },
   {
    "duration": 3,
    "start_time": "2021-10-21T19:59:30.442Z"
   },
   {
    "duration": 184,
    "start_time": "2021-10-21T19:59:30.446Z"
   },
   {
    "duration": 26,
    "start_time": "2021-10-21T19:59:30.632Z"
   },
   {
    "duration": 3,
    "start_time": "2021-10-21T19:59:30.691Z"
   },
   {
    "duration": 14,
    "start_time": "2021-10-21T19:59:31.209Z"
   },
   {
    "duration": 19,
    "start_time": "2021-10-21T19:59:31.421Z"
   },
   {
    "duration": 5,
    "start_time": "2021-10-21T19:59:31.710Z"
   },
   {
    "duration": 27,
    "start_time": "2021-10-21T19:59:31.832Z"
   },
   {
    "duration": 6,
    "start_time": "2021-10-21T19:59:32.074Z"
   },
   {
    "duration": 7,
    "start_time": "2021-10-21T19:59:32.224Z"
   },
   {
    "duration": 84,
    "start_time": "2021-10-21T19:59:32.649Z"
   },
   {
    "duration": 11,
    "start_time": "2021-10-21T19:59:32.821Z"
   },
   {
    "duration": 6,
    "start_time": "2021-10-21T19:59:32.975Z"
   },
   {
    "duration": 18,
    "start_time": "2021-10-21T19:59:33.327Z"
   },
   {
    "duration": 21,
    "start_time": "2021-10-21T19:59:33.459Z"
   },
   {
    "duration": 5,
    "start_time": "2021-10-21T19:59:33.646Z"
   },
   {
    "duration": 36,
    "start_time": "2021-10-21T19:59:34.122Z"
   },
   {
    "duration": 10,
    "start_time": "2021-10-21T19:59:34.648Z"
   },
   {
    "duration": 19,
    "start_time": "2021-10-21T19:59:35.094Z"
   },
   {
    "duration": 13,
    "start_time": "2021-10-21T19:59:35.240Z"
   },
   {
    "duration": 27,
    "start_time": "2021-10-21T19:59:36.922Z"
   },
   {
    "duration": 35,
    "start_time": "2021-10-21T19:59:37.109Z"
   },
   {
    "duration": 27,
    "start_time": "2021-10-21T19:59:37.259Z"
   },
   {
    "duration": 113,
    "start_time": "2021-10-21T19:59:37.427Z"
   },
   {
    "duration": 110,
    "start_time": "2021-10-21T19:59:37.592Z"
   },
   {
    "duration": 116,
    "start_time": "2021-10-21T19:59:37.758Z"
   },
   {
    "duration": 88,
    "start_time": "2021-10-21T19:59:37.940Z"
   },
   {
    "duration": 149,
    "start_time": "2021-10-21T19:59:38.269Z"
   },
   {
    "duration": 148,
    "start_time": "2021-10-21T19:59:38.453Z"
   },
   {
    "duration": 161,
    "start_time": "2021-10-21T19:59:39.435Z"
   },
   {
    "duration": 114,
    "start_time": "2021-10-21T19:59:40.530Z"
   },
   {
    "duration": 4,
    "start_time": "2021-10-21T19:59:40.708Z"
   },
   {
    "duration": 9,
    "start_time": "2021-10-21T19:59:40.851Z"
   },
   {
    "duration": 9,
    "start_time": "2021-10-21T19:59:40.993Z"
   },
   {
    "duration": 5,
    "start_time": "2021-10-21T19:59:41.175Z"
   },
   {
    "duration": 194,
    "start_time": "2021-10-21T19:59:41.841Z"
   },
   {
    "duration": 18,
    "start_time": "2021-10-21T19:59:42.914Z"
   },
   {
    "duration": 264,
    "start_time": "2021-10-21T19:59:43.143Z"
   },
   {
    "duration": 9,
    "start_time": "2021-10-21T19:59:43.981Z"
   },
   {
    "duration": 192,
    "start_time": "2021-10-21T19:59:45.120Z"
   },
   {
    "duration": 79,
    "start_time": "2021-10-21T19:59:47.711Z"
   },
   {
    "duration": 3,
    "start_time": "2021-10-21T19:59:47.878Z"
   },
   {
    "duration": 238,
    "start_time": "2021-10-21T19:59:48.107Z"
   },
   {
    "duration": 180,
    "start_time": "2021-10-21T19:59:48.964Z"
   },
   {
    "duration": 67,
    "start_time": "2021-10-21T19:59:49.402Z"
   },
   {
    "duration": 12,
    "start_time": "2021-10-21T19:59:50.311Z"
   },
   {
    "duration": 152,
    "start_time": "2021-10-21T19:59:50.897Z"
   },
   {
    "duration": 8,
    "start_time": "2021-10-21T19:59:51.581Z"
   },
   {
    "duration": 13,
    "start_time": "2021-10-21T19:59:52.324Z"
   },
   {
    "duration": 8,
    "start_time": "2021-10-21T19:59:52.795Z"
   },
   {
    "duration": 4,
    "start_time": "2021-10-21T19:59:53.431Z"
   },
   {
    "duration": 440,
    "start_time": "2021-10-21T20:00:03.299Z"
   },
   {
    "duration": 1209,
    "start_time": "2021-10-21T20:00:25.175Z"
   },
   {
    "duration": 3,
    "start_time": "2021-10-21T20:00:26.386Z"
   },
   {
    "duration": 653,
    "start_time": "2021-10-21T20:00:26.392Z"
   },
   {
    "duration": 112,
    "start_time": "2021-10-21T20:00:27.047Z"
   },
   {
    "duration": 16,
    "start_time": "2021-10-21T20:00:27.161Z"
   },
   {
    "duration": 184,
    "start_time": "2021-10-21T20:00:27.179Z"
   },
   {
    "duration": 34,
    "start_time": "2021-10-21T20:00:27.365Z"
   },
   {
    "duration": 3,
    "start_time": "2021-10-21T20:00:27.402Z"
   },
   {
    "duration": 19,
    "start_time": "2021-10-21T20:00:27.407Z"
   },
   {
    "duration": 55,
    "start_time": "2021-10-21T20:00:27.429Z"
   },
   {
    "duration": 5,
    "start_time": "2021-10-21T20:00:27.487Z"
   },
   {
    "duration": 37,
    "start_time": "2021-10-21T20:00:27.494Z"
   },
   {
    "duration": 7,
    "start_time": "2021-10-21T20:00:27.533Z"
   },
   {
    "duration": 7,
    "start_time": "2021-10-21T20:00:27.543Z"
   },
   {
    "duration": 86,
    "start_time": "2021-10-21T20:00:27.817Z"
   },
   {
    "duration": 12,
    "start_time": "2021-10-21T20:00:27.982Z"
   },
   {
    "duration": 6,
    "start_time": "2021-10-21T20:00:28.133Z"
   },
   {
    "duration": 17,
    "start_time": "2021-10-21T20:00:28.455Z"
   },
   {
    "duration": 19,
    "start_time": "2021-10-21T20:00:28.611Z"
   },
   {
    "duration": 5,
    "start_time": "2021-10-21T20:00:28.770Z"
   },
   {
    "duration": 34,
    "start_time": "2021-10-21T20:00:29.271Z"
   },
   {
    "duration": 9,
    "start_time": "2021-10-21T20:00:29.727Z"
   },
   {
    "duration": 20,
    "start_time": "2021-10-21T20:00:30.171Z"
   },
   {
    "duration": 13,
    "start_time": "2021-10-21T20:00:30.328Z"
   },
   {
    "duration": 26,
    "start_time": "2021-10-21T20:00:32.091Z"
   },
   {
    "duration": 35,
    "start_time": "2021-10-21T20:00:32.237Z"
   },
   {
    "duration": 27,
    "start_time": "2021-10-21T20:00:32.416Z"
   },
   {
    "duration": 113,
    "start_time": "2021-10-21T20:00:32.605Z"
   },
   {
    "duration": 113,
    "start_time": "2021-10-21T20:00:32.774Z"
   },
   {
    "duration": 111,
    "start_time": "2021-10-21T20:00:32.957Z"
   },
   {
    "duration": 88,
    "start_time": "2021-10-21T20:00:33.172Z"
   },
   {
    "duration": 153,
    "start_time": "2021-10-21T20:00:33.588Z"
   },
   {
    "duration": 167,
    "start_time": "2021-10-21T20:00:33.743Z"
   },
   {
    "duration": 164,
    "start_time": "2021-10-21T20:00:34.696Z"
   },
   {
    "duration": 113,
    "start_time": "2021-10-21T20:00:36.463Z"
   },
   {
    "duration": 3,
    "start_time": "2021-10-21T20:00:36.764Z"
   },
   {
    "duration": 9,
    "start_time": "2021-10-21T20:00:36.956Z"
   },
   {
    "duration": 10,
    "start_time": "2021-10-21T20:00:37.118Z"
   },
   {
    "duration": 5,
    "start_time": "2021-10-21T20:00:37.289Z"
   },
   {
    "duration": 215,
    "start_time": "2021-10-21T20:00:38.252Z"
   },
   {
    "duration": 17,
    "start_time": "2021-10-21T20:00:39.327Z"
   },
   {
    "duration": 259,
    "start_time": "2021-10-21T20:00:39.489Z"
   },
   {
    "duration": 9,
    "start_time": "2021-10-21T20:00:40.551Z"
   },
   {
    "duration": 196,
    "start_time": "2021-10-21T20:00:42.044Z"
   },
   {
    "duration": 80,
    "start_time": "2021-10-21T20:00:44.443Z"
   },
   {
    "duration": 3,
    "start_time": "2021-10-21T20:00:44.608Z"
   },
   {
    "duration": 250,
    "start_time": "2021-10-21T20:00:44.752Z"
   },
   {
    "duration": 198,
    "start_time": "2021-10-21T20:00:45.003Z"
   },
   {
    "duration": 66,
    "start_time": "2021-10-21T20:00:45.782Z"
   },
   {
    "duration": 11,
    "start_time": "2021-10-21T20:00:45.932Z"
   },
   {
    "duration": 147,
    "start_time": "2021-10-21T20:00:46.080Z"
   },
   {
    "duration": 8,
    "start_time": "2021-10-21T20:00:46.256Z"
   },
   {
    "duration": 14,
    "start_time": "2021-10-21T20:00:46.493Z"
   },
   {
    "duration": 8,
    "start_time": "2021-10-21T20:00:47.202Z"
   },
   {
    "duration": 5,
    "start_time": "2021-10-21T20:00:47.424Z"
   },
   {
    "duration": 1135,
    "start_time": "2021-10-21T20:03:12.311Z"
   },
   {
    "duration": 2,
    "start_time": "2021-10-21T20:03:13.448Z"
   },
   {
    "duration": 665,
    "start_time": "2021-10-21T20:03:13.452Z"
   },
   {
    "duration": 110,
    "start_time": "2021-10-21T20:03:14.119Z"
   },
   {
    "duration": 3,
    "start_time": "2021-10-21T20:03:14.230Z"
   },
   {
    "duration": 173,
    "start_time": "2021-10-21T20:03:14.235Z"
   },
   {
    "duration": 26,
    "start_time": "2021-10-21T20:03:14.410Z"
   },
   {
    "duration": 3,
    "start_time": "2021-10-21T20:03:14.438Z"
   },
   {
    "duration": 36,
    "start_time": "2021-10-21T20:03:14.442Z"
   },
   {
    "duration": 20,
    "start_time": "2021-10-21T20:03:14.480Z"
   },
   {
    "duration": 5,
    "start_time": "2021-10-21T20:03:14.502Z"
   },
   {
    "duration": 26,
    "start_time": "2021-10-21T20:03:14.591Z"
   },
   {
    "duration": 7,
    "start_time": "2021-10-21T20:03:14.753Z"
   },
   {
    "duration": 6,
    "start_time": "2021-10-21T20:03:14.922Z"
   },
   {
    "duration": 80,
    "start_time": "2021-10-21T20:03:15.276Z"
   },
   {
    "duration": 12,
    "start_time": "2021-10-21T20:03:15.536Z"
   },
   {
    "duration": 6,
    "start_time": "2021-10-21T20:03:15.776Z"
   },
   {
    "duration": 16,
    "start_time": "2021-10-21T20:03:16.573Z"
   },
   {
    "duration": 19,
    "start_time": "2021-10-21T20:03:16.837Z"
   },
   {
    "duration": 5,
    "start_time": "2021-10-21T20:03:16.992Z"
   },
   {
    "duration": 33,
    "start_time": "2021-10-21T20:03:17.499Z"
   },
   {
    "duration": 9,
    "start_time": "2021-10-21T20:03:18.041Z"
   },
   {
    "duration": 20,
    "start_time": "2021-10-21T20:03:18.644Z"
   },
   {
    "duration": 13,
    "start_time": "2021-10-21T20:03:18.824Z"
   },
   {
    "duration": 25,
    "start_time": "2021-10-21T20:03:20.746Z"
   },
   {
    "duration": 35,
    "start_time": "2021-10-21T20:03:20.900Z"
   },
   {
    "duration": 28,
    "start_time": "2021-10-21T20:03:21.065Z"
   },
   {
    "duration": 112,
    "start_time": "2021-10-21T20:03:21.209Z"
   },
   {
    "duration": 110,
    "start_time": "2021-10-21T20:03:21.342Z"
   },
   {
    "duration": 113,
    "start_time": "2021-10-21T20:03:21.548Z"
   },
   {
    "duration": 88,
    "start_time": "2021-10-21T20:03:21.726Z"
   },
   {
    "duration": 149,
    "start_time": "2021-10-21T20:03:22.118Z"
   },
   {
    "duration": 156,
    "start_time": "2021-10-21T20:03:22.341Z"
   },
   {
    "duration": 165,
    "start_time": "2021-10-21T20:03:23.841Z"
   },
   {
    "duration": 116,
    "start_time": "2021-10-21T20:03:25.726Z"
   },
   {
    "duration": 3,
    "start_time": "2021-10-21T20:03:25.870Z"
   },
   {
    "duration": 8,
    "start_time": "2021-10-21T20:03:26.105Z"
   },
   {
    "duration": 9,
    "start_time": "2021-10-21T20:03:26.263Z"
   },
   {
    "duration": 5,
    "start_time": "2021-10-21T20:03:26.481Z"
   },
   {
    "duration": 196,
    "start_time": "2021-10-21T20:03:29.019Z"
   },
   {
    "duration": 18,
    "start_time": "2021-10-21T20:03:30.909Z"
   },
   {
    "duration": 251,
    "start_time": "2021-10-21T20:03:31.115Z"
   },
   {
    "duration": 8,
    "start_time": "2021-10-21T20:03:32.474Z"
   },
   {
    "duration": 200,
    "start_time": "2021-10-21T20:03:33.902Z"
   },
   {
    "duration": 80,
    "start_time": "2021-10-21T20:03:38.623Z"
   },
   {
    "duration": 3,
    "start_time": "2021-10-21T20:03:38.992Z"
   },
   {
    "duration": 259,
    "start_time": "2021-10-21T20:03:39.428Z"
   },
   {
    "duration": 200,
    "start_time": "2021-10-21T20:03:40.222Z"
   },
   {
    "duration": 68,
    "start_time": "2021-10-21T20:03:40.540Z"
   },
   {
    "duration": 12,
    "start_time": "2021-10-21T20:03:40.687Z"
   },
   {
    "duration": 154,
    "start_time": "2021-10-21T20:03:40.899Z"
   },
   {
    "duration": 8,
    "start_time": "2021-10-21T20:03:41.462Z"
   },
   {
    "duration": 14,
    "start_time": "2021-10-21T20:03:41.644Z"
   },
   {
    "duration": 9,
    "start_time": "2021-10-21T20:03:41.874Z"
   },
   {
    "duration": 4,
    "start_time": "2021-10-21T20:03:43.728Z"
   },
   {
    "duration": 10722,
    "start_time": "2021-10-21T20:04:12.417Z"
   },
   {
    "duration": 381,
    "start_time": "2021-10-21T20:04:35.602Z"
   },
   {
    "duration": 510,
    "start_time": "2021-10-21T20:07:41.690Z"
   },
   {
    "duration": 393,
    "start_time": "2021-10-21T20:08:20.178Z"
   },
   {
    "duration": -1844,
    "start_time": "2021-10-21T20:08:22.416Z"
   },
   {
    "duration": 1257,
    "start_time": "2021-10-21T20:08:25.259Z"
   },
   {
    "duration": 3,
    "start_time": "2021-10-21T20:08:26.518Z"
   },
   {
    "duration": 650,
    "start_time": "2021-10-21T20:08:26.523Z"
   },
   {
    "duration": 131,
    "start_time": "2021-10-21T20:08:27.175Z"
   },
   {
    "duration": 3,
    "start_time": "2021-10-21T20:08:27.308Z"
   },
   {
    "duration": 246,
    "start_time": "2021-10-21T20:08:27.313Z"
   },
   {
    "duration": 30,
    "start_time": "2021-10-21T20:08:27.561Z"
   },
   {
    "duration": 2,
    "start_time": "2021-10-21T20:08:27.594Z"
   },
   {
    "duration": 17,
    "start_time": "2021-10-21T20:08:27.598Z"
   },
   {
    "duration": 23,
    "start_time": "2021-10-21T20:08:27.617Z"
   },
   {
    "duration": 4,
    "start_time": "2021-10-21T20:08:27.642Z"
   },
   {
    "duration": 26,
    "start_time": "2021-10-21T20:08:27.677Z"
   },
   {
    "duration": 6,
    "start_time": "2021-10-21T20:08:27.705Z"
   },
   {
    "duration": 7,
    "start_time": "2021-10-21T20:08:27.712Z"
   },
   {
    "duration": 118,
    "start_time": "2021-10-21T20:08:27.721Z"
   },
   {
    "duration": 12,
    "start_time": "2021-10-21T20:08:27.841Z"
   },
   {
    "duration": 23,
    "start_time": "2021-10-21T20:08:27.856Z"
   },
   {
    "duration": 17,
    "start_time": "2021-10-21T20:08:27.981Z"
   },
   {
    "duration": 20,
    "start_time": "2021-10-21T20:08:28.141Z"
   },
   {
    "duration": 5,
    "start_time": "2021-10-21T20:08:28.490Z"
   },
   {
    "duration": 34,
    "start_time": "2021-10-21T20:08:28.734Z"
   },
   {
    "duration": 9,
    "start_time": "2021-10-21T20:08:29.188Z"
   },
   {
    "duration": 20,
    "start_time": "2021-10-21T20:08:29.561Z"
   },
   {
    "duration": 14,
    "start_time": "2021-10-21T20:08:29.704Z"
   },
   {
    "duration": 27,
    "start_time": "2021-10-21T20:08:31.277Z"
   },
   {
    "duration": 38,
    "start_time": "2021-10-21T20:08:31.417Z"
   },
   {
    "duration": 32,
    "start_time": "2021-10-21T20:08:31.583Z"
   },
   {
    "duration": 118,
    "start_time": "2021-10-21T20:08:31.731Z"
   },
   {
    "duration": 110,
    "start_time": "2021-10-21T20:08:31.908Z"
   },
   {
    "duration": 116,
    "start_time": "2021-10-21T20:08:32.029Z"
   },
   {
    "duration": 98,
    "start_time": "2021-10-21T20:08:32.188Z"
   },
   {
    "duration": 158,
    "start_time": "2021-10-21T20:08:32.495Z"
   },
   {
    "duration": 166,
    "start_time": "2021-10-21T20:08:32.659Z"
   },
   {
    "duration": 183,
    "start_time": "2021-10-21T20:08:34.372Z"
   },
   {
    "duration": 112,
    "start_time": "2021-10-21T20:08:38.037Z"
   },
   {
    "duration": 3,
    "start_time": "2021-10-21T20:08:38.151Z"
   },
   {
    "duration": 17,
    "start_time": "2021-10-21T20:08:38.268Z"
   },
   {
    "duration": 9,
    "start_time": "2021-10-21T20:08:38.446Z"
   },
   {
    "duration": 5,
    "start_time": "2021-10-21T20:08:38.674Z"
   },
   {
    "duration": 202,
    "start_time": "2021-10-21T20:08:39.107Z"
   },
   {
    "duration": 17,
    "start_time": "2021-10-21T20:08:40.229Z"
   },
   {
    "duration": 265,
    "start_time": "2021-10-21T20:08:40.415Z"
   },
   {
    "duration": 9,
    "start_time": "2021-10-21T20:08:41.970Z"
   },
   {
    "duration": 198,
    "start_time": "2021-10-21T20:08:43.405Z"
   },
   {
    "duration": 78,
    "start_time": "2021-10-21T20:08:45.618Z"
   },
   {
    "duration": 3,
    "start_time": "2021-10-21T20:08:45.886Z"
   },
   {
    "duration": 244,
    "start_time": "2021-10-21T20:08:46.168Z"
   },
   {
    "duration": 201,
    "start_time": "2021-10-21T20:08:46.949Z"
   },
   {
    "duration": 67,
    "start_time": "2021-10-21T20:08:47.673Z"
   },
   {
    "duration": 12,
    "start_time": "2021-10-21T20:08:48.172Z"
   },
   {
    "duration": 149,
    "start_time": "2021-10-21T20:08:49.322Z"
   },
   {
    "duration": 9,
    "start_time": "2021-10-21T20:08:50.427Z"
   },
   {
    "duration": 14,
    "start_time": "2021-10-21T20:08:51.879Z"
   },
   {
    "duration": 8,
    "start_time": "2021-10-21T20:08:53.344Z"
   },
   {
    "duration": 4,
    "start_time": "2021-10-21T20:08:53.739Z"
   },
   {
    "duration": 11,
    "start_time": "2021-10-21T20:09:15.740Z"
   },
   {
    "duration": 124,
    "start_time": "2021-10-21T20:10:00.689Z"
   },
   {
    "duration": 8,
    "start_time": "2021-10-21T20:10:03.622Z"
   },
   {
    "duration": 8,
    "start_time": "2021-10-21T20:10:04.502Z"
   },
   {
    "duration": 11,
    "start_time": "2021-10-21T20:10:05.537Z"
   },
   {
    "duration": 1275,
    "start_time": "2021-10-21T20:10:31.665Z"
   },
   {
    "duration": 3,
    "start_time": "2021-10-21T20:10:32.942Z"
   },
   {
    "duration": 651,
    "start_time": "2021-10-21T20:10:32.947Z"
   },
   {
    "duration": 115,
    "start_time": "2021-10-21T20:10:33.600Z"
   },
   {
    "duration": 3,
    "start_time": "2021-10-21T20:10:33.717Z"
   },
   {
    "duration": 179,
    "start_time": "2021-10-21T20:10:33.722Z"
   },
   {
    "duration": 26,
    "start_time": "2021-10-21T20:10:33.903Z"
   },
   {
    "duration": 3,
    "start_time": "2021-10-21T20:10:33.931Z"
   },
   {
    "duration": 18,
    "start_time": "2021-10-21T20:10:33.936Z"
   },
   {
    "duration": 39,
    "start_time": "2021-10-21T20:10:33.956Z"
   },
   {
    "duration": 5,
    "start_time": "2021-10-21T20:10:33.996Z"
   },
   {
    "duration": 28,
    "start_time": "2021-10-21T20:10:34.002Z"
   },
   {
    "duration": 5,
    "start_time": "2021-10-21T20:10:34.032Z"
   },
   {
    "duration": 8,
    "start_time": "2021-10-21T20:10:34.038Z"
   },
   {
    "duration": 78,
    "start_time": "2021-10-21T20:10:34.198Z"
   },
   {
    "duration": 12,
    "start_time": "2021-10-21T20:10:34.376Z"
   },
   {
    "duration": 6,
    "start_time": "2021-10-21T20:10:34.534Z"
   },
   {
    "duration": 16,
    "start_time": "2021-10-21T20:10:34.821Z"
   },
   {
    "duration": 19,
    "start_time": "2021-10-21T20:10:34.978Z"
   },
   {
    "duration": 7,
    "start_time": "2021-10-21T20:10:35.172Z"
   },
   {
    "duration": 35,
    "start_time": "2021-10-21T20:10:35.645Z"
   },
   {
    "duration": 9,
    "start_time": "2021-10-21T20:10:36.160Z"
   },
   {
    "duration": 28,
    "start_time": "2021-10-21T20:10:36.671Z"
   },
   {
    "duration": 15,
    "start_time": "2021-10-21T20:10:36.801Z"
   },
   {
    "duration": 27,
    "start_time": "2021-10-21T20:10:38.649Z"
   },
   {
    "duration": 37,
    "start_time": "2021-10-21T20:10:38.737Z"
   },
   {
    "duration": 38,
    "start_time": "2021-10-21T20:10:38.879Z"
   },
   {
    "duration": 117,
    "start_time": "2021-10-21T20:10:39.044Z"
   },
   {
    "duration": 119,
    "start_time": "2021-10-21T20:10:39.196Z"
   },
   {
    "duration": 145,
    "start_time": "2021-10-21T20:10:39.369Z"
   },
   {
    "duration": 114,
    "start_time": "2021-10-21T20:10:39.517Z"
   },
   {
    "duration": 174,
    "start_time": "2021-10-21T20:10:39.830Z"
   },
   {
    "duration": 173,
    "start_time": "2021-10-21T20:10:40.006Z"
   },
   {
    "duration": 179,
    "start_time": "2021-10-21T20:10:41.046Z"
   },
   {
    "duration": 133,
    "start_time": "2021-10-21T20:10:42.233Z"
   },
   {
    "duration": 2,
    "start_time": "2021-10-21T20:10:42.369Z"
   },
   {
    "duration": 174,
    "start_time": "2021-10-21T20:10:42.512Z"
   },
   {
    "duration": 10,
    "start_time": "2021-10-21T20:10:42.724Z"
   },
   {
    "duration": 5,
    "start_time": "2021-10-21T20:10:42.910Z"
   },
   {
    "duration": 217,
    "start_time": "2021-10-21T20:10:43.573Z"
   },
   {
    "duration": 18,
    "start_time": "2021-10-21T20:10:44.817Z"
   },
   {
    "duration": 312,
    "start_time": "2021-10-21T20:10:44.914Z"
   },
   {
    "duration": 7,
    "start_time": "2021-10-21T20:10:45.975Z"
   },
   {
    "duration": 200,
    "start_time": "2021-10-21T20:10:46.900Z"
   },
   {
    "duration": 80,
    "start_time": "2021-10-21T20:10:48.360Z"
   },
   {
    "duration": 3,
    "start_time": "2021-10-21T20:10:48.556Z"
   },
   {
    "duration": 261,
    "start_time": "2021-10-21T20:10:48.743Z"
   },
   {
    "duration": 225,
    "start_time": "2021-10-21T20:10:49.006Z"
   },
   {
    "duration": 69,
    "start_time": "2021-10-21T20:10:49.233Z"
   },
   {
    "duration": 11,
    "start_time": "2021-10-21T20:10:49.986Z"
   },
   {
    "duration": 153,
    "start_time": "2021-10-21T20:10:50.849Z"
   },
   {
    "duration": 8,
    "start_time": "2021-10-21T20:10:51.376Z"
   },
   {
    "duration": 9,
    "start_time": "2021-10-21T20:10:51.894Z"
   },
   {
    "duration": 11,
    "start_time": "2021-10-21T20:10:52.089Z"
   },
   {
    "duration": 1371,
    "start_time": "2021-10-21T20:11:11.875Z"
   },
   {
    "duration": 3,
    "start_time": "2021-10-21T20:11:13.248Z"
   },
   {
    "duration": 658,
    "start_time": "2021-10-21T20:11:13.253Z"
   },
   {
    "duration": 142,
    "start_time": "2021-10-21T20:11:13.913Z"
   },
   {
    "duration": 3,
    "start_time": "2021-10-21T20:11:14.057Z"
   },
   {
    "duration": 186,
    "start_time": "2021-10-21T20:11:14.061Z"
   },
   {
    "duration": 33,
    "start_time": "2021-10-21T20:11:14.249Z"
   },
   {
    "duration": 3,
    "start_time": "2021-10-21T20:11:14.284Z"
   },
   {
    "duration": 32,
    "start_time": "2021-10-21T20:11:14.289Z"
   },
   {
    "duration": 29,
    "start_time": "2021-10-21T20:11:14.323Z"
   },
   {
    "duration": 4,
    "start_time": "2021-10-21T20:11:14.353Z"
   },
   {
    "duration": 38,
    "start_time": "2021-10-21T20:11:14.359Z"
   },
   {
    "duration": 6,
    "start_time": "2021-10-21T20:11:14.399Z"
   },
   {
    "duration": 13,
    "start_time": "2021-10-21T20:11:14.406Z"
   },
   {
    "duration": 99,
    "start_time": "2021-10-21T20:11:14.421Z"
   },
   {
    "duration": 12,
    "start_time": "2021-10-21T20:11:14.522Z"
   },
   {
    "duration": 6,
    "start_time": "2021-10-21T20:11:14.830Z"
   },
   {
    "duration": 16,
    "start_time": "2021-10-21T20:11:14.972Z"
   },
   {
    "duration": 20,
    "start_time": "2021-10-21T20:11:15.092Z"
   },
   {
    "duration": 6,
    "start_time": "2021-10-21T20:11:15.232Z"
   },
   {
    "duration": 32,
    "start_time": "2021-10-21T20:11:15.759Z"
   },
   {
    "duration": 9,
    "start_time": "2021-10-21T20:11:16.248Z"
   },
   {
    "duration": 22,
    "start_time": "2021-10-21T20:11:16.705Z"
   },
   {
    "duration": 14,
    "start_time": "2021-10-21T20:11:16.826Z"
   },
   {
    "duration": 28,
    "start_time": "2021-10-21T20:11:18.600Z"
   },
   {
    "duration": 36,
    "start_time": "2021-10-21T20:11:18.928Z"
   },
   {
    "duration": 29,
    "start_time": "2021-10-21T20:11:19.039Z"
   },
   {
    "duration": 114,
    "start_time": "2021-10-21T20:11:19.138Z"
   },
   {
    "duration": 794,
    "start_time": "2021-10-21T20:11:19.254Z"
   },
   {
    "duration": 129,
    "start_time": "2021-10-21T20:11:20.050Z"
   },
   {
    "duration": 97,
    "start_time": "2021-10-21T20:11:20.181Z"
   },
   {
    "duration": 162,
    "start_time": "2021-10-21T20:11:20.280Z"
   },
   {
    "duration": 174,
    "start_time": "2021-10-21T20:11:20.443Z"
   },
   {
    "duration": 166,
    "start_time": "2021-10-21T20:11:21.048Z"
   },
   {
    "duration": 116,
    "start_time": "2021-10-21T20:11:22.412Z"
   },
   {
    "duration": 3,
    "start_time": "2021-10-21T20:11:22.530Z"
   },
   {
    "duration": 8,
    "start_time": "2021-10-21T20:11:22.594Z"
   },
   {
    "duration": 10,
    "start_time": "2021-10-21T20:11:22.767Z"
   },
   {
    "duration": 4,
    "start_time": "2021-10-21T20:11:22.964Z"
   },
   {
    "duration": 195,
    "start_time": "2021-10-21T20:11:23.652Z"
   },
   {
    "duration": 18,
    "start_time": "2021-10-21T20:11:24.961Z"
   },
   {
    "duration": 262,
    "start_time": "2021-10-21T20:11:25.038Z"
   },
   {
    "duration": 7,
    "start_time": "2021-10-21T20:11:26.035Z"
   },
   {
    "duration": 204,
    "start_time": "2021-10-21T20:11:26.889Z"
   },
   {
    "duration": 82,
    "start_time": "2021-10-21T20:11:28.599Z"
   },
   {
    "duration": 2,
    "start_time": "2021-10-21T20:11:28.884Z"
   },
   {
    "duration": 258,
    "start_time": "2021-10-21T20:11:29.156Z"
   },
   {
    "duration": 211,
    "start_time": "2021-10-21T20:11:29.416Z"
   },
   {
    "duration": 68,
    "start_time": "2021-10-21T20:11:29.650Z"
   },
   {
    "duration": 12,
    "start_time": "2021-10-21T20:11:30.518Z"
   },
   {
    "duration": 142,
    "start_time": "2021-10-21T20:11:30.831Z"
   },
   {
    "duration": 141,
    "start_time": "2021-10-21T20:11:46.368Z"
   },
   {
    "duration": 158,
    "start_time": "2021-10-21T20:12:35.084Z"
   },
   {
    "duration": 484,
    "start_time": "2021-10-21T20:12:37.871Z"
   },
   {
    "duration": 394,
    "start_time": "2021-10-21T20:12:48.061Z"
   },
   {
    "duration": 7433,
    "start_time": "2021-10-21T20:13:00.865Z"
   },
   {
    "duration": 6979,
    "start_time": "2021-10-21T20:13:16.787Z"
   },
   {
    "duration": 6335,
    "start_time": "2021-10-21T20:13:28.964Z"
   },
   {
    "duration": 5,
    "start_time": "2021-10-21T20:13:35.301Z"
   },
   {
    "duration": 5,
    "start_time": "2021-10-21T20:13:39.348Z"
   },
   {
    "duration": 9258,
    "start_time": "2021-10-21T20:13:40.216Z"
   },
   {
    "duration": 45,
    "start_time": "2021-10-21T20:14:32.311Z"
   },
   {
    "duration": 9359,
    "start_time": "2021-10-21T20:14:44.134Z"
   },
   {
    "duration": 11265,
    "start_time": "2021-10-21T20:15:06.984Z"
   },
   {
    "duration": 209,
    "start_time": "2021-10-21T20:15:33.653Z"
   },
   {
    "duration": 194,
    "start_time": "2021-10-21T20:15:34.569Z"
   },
   {
    "duration": 9187,
    "start_time": "2021-10-21T20:15:35.738Z"
   },
   {
    "duration": -1965,
    "start_time": "2021-10-21T20:15:46.892Z"
   },
   {
    "duration": 15,
    "start_time": "2021-10-21T20:15:54.996Z"
   },
   {
    "duration": 7,
    "start_time": "2021-10-21T20:15:59.264Z"
   },
   {
    "duration": 431,
    "start_time": "2021-10-21T20:16:02.121Z"
   },
   {
    "duration": 149,
    "start_time": "2021-10-21T20:16:12.620Z"
   },
   {
    "duration": 11,
    "start_time": "2021-10-21T20:16:14.570Z"
   },
   {
    "duration": 9467,
    "start_time": "2021-10-21T20:16:17.778Z"
   },
   {
    "duration": -2051,
    "start_time": "2021-10-21T20:16:29.298Z"
   },
   {
    "duration": -2060,
    "start_time": "2021-10-21T20:16:29.308Z"
   },
   {
    "duration": 5,
    "start_time": "2021-10-21T20:16:53.380Z"
   },
   {
    "duration": 10,
    "start_time": "2021-10-21T20:16:55.773Z"
   },
   {
    "duration": 5,
    "start_time": "2021-10-21T20:16:56.628Z"
   },
   {
    "duration": 18,
    "start_time": "2021-10-21T20:16:59.166Z"
   },
   {
    "duration": 5,
    "start_time": "2021-10-21T20:17:00.647Z"
   },
   {
    "duration": 167,
    "start_time": "2021-10-21T20:17:05.097Z"
   },
   {
    "duration": 15,
    "start_time": "2021-10-21T20:17:11.628Z"
   },
   {
    "duration": 8,
    "start_time": "2021-10-21T20:17:12.776Z"
   },
   {
    "duration": 15,
    "start_time": "2021-10-21T20:17:13.814Z"
   },
   {
    "duration": 3,
    "start_time": "2021-10-21T20:17:14.875Z"
   },
   {
    "duration": 15,
    "start_time": "2021-10-21T20:17:15.969Z"
   },
   {
    "duration": 30,
    "start_time": "2021-10-21T20:17:16.718Z"
   },
   {
    "duration": 14,
    "start_time": "2021-10-21T20:17:17.320Z"
   },
   {
    "duration": 3,
    "start_time": "2021-10-21T20:17:18.770Z"
   },
   {
    "duration": 6,
    "start_time": "2021-10-21T20:17:19.537Z"
   },
   {
    "duration": 4,
    "start_time": "2021-10-21T20:17:20.231Z"
   },
   {
    "duration": 19,
    "start_time": "2021-10-21T20:17:20.933Z"
   },
   {
    "duration": 156,
    "start_time": "2021-10-21T20:17:21.761Z"
   },
   {
    "duration": 25,
    "start_time": "2021-10-21T20:17:26.592Z"
   },
   {
    "duration": 18,
    "start_time": "2021-10-21T20:17:54.985Z"
   },
   {
    "duration": 4,
    "start_time": "2021-10-21T20:18:16.392Z"
   },
   {
    "duration": 147,
    "start_time": "2021-10-21T20:18:33.956Z"
   },
   {
    "duration": 370,
    "start_time": "2021-10-21T20:18:41.044Z"
   },
   {
    "duration": 358,
    "start_time": "2021-10-21T20:18:46.605Z"
   },
   {
    "duration": 410,
    "start_time": "2021-10-21T20:18:50.927Z"
   },
   {
    "duration": 379,
    "start_time": "2021-10-21T20:19:07.506Z"
   },
   {
    "duration": 23,
    "start_time": "2021-10-21T20:19:20.945Z"
   },
   {
    "duration": 24,
    "start_time": "2021-10-21T20:19:26.949Z"
   },
   {
    "duration": 370,
    "start_time": "2021-10-21T20:19:43.097Z"
   },
   {
    "duration": 418,
    "start_time": "2021-10-21T20:19:44.956Z"
   },
   {
    "duration": 429,
    "start_time": "2021-10-21T20:19:51.921Z"
   },
   {
    "duration": 499,
    "start_time": "2021-10-21T20:20:19.286Z"
   },
   {
    "duration": 12,
    "start_time": "2021-10-21T20:20:30.770Z"
   },
   {
    "duration": 390,
    "start_time": "2021-10-21T20:20:43.416Z"
   },
   {
    "duration": 736,
    "start_time": "2021-10-21T20:21:47.612Z"
   },
   {
    "duration": 16,
    "start_time": "2021-10-21T20:21:54.621Z"
   },
   {
    "duration": 7,
    "start_time": "2021-10-21T20:21:55.426Z"
   },
   {
    "duration": 18,
    "start_time": "2021-10-21T20:21:56.164Z"
   },
   {
    "duration": 4,
    "start_time": "2021-10-21T20:21:57.020Z"
   },
   {
    "duration": 15,
    "start_time": "2021-10-21T20:21:57.823Z"
   },
   {
    "duration": 12,
    "start_time": "2021-10-21T20:21:58.660Z"
   },
   {
    "duration": 387,
    "start_time": "2021-10-21T20:21:59.580Z"
   },
   {
    "duration": 372,
    "start_time": "2021-10-21T20:23:15.258Z"
   },
   {
    "duration": 356,
    "start_time": "2021-10-21T20:23:24.084Z"
   },
   {
    "duration": 398,
    "start_time": "2021-10-21T20:23:29.923Z"
   },
   {
    "duration": 8983,
    "start_time": "2021-10-21T20:23:37.420Z"
   },
   {
    "duration": 40,
    "start_time": "2021-10-21T20:23:55.514Z"
   },
   {
    "duration": 8989,
    "start_time": "2021-10-21T20:24:13.177Z"
   },
   {
    "duration": 6,
    "start_time": "2021-10-21T20:24:25.398Z"
   },
   {
    "duration": 4,
    "start_time": "2021-10-21T20:24:41.523Z"
   },
   {
    "duration": 14,
    "start_time": "2021-10-21T20:24:57.272Z"
   },
   {
    "duration": 5,
    "start_time": "2021-10-21T20:25:11.812Z"
   },
   {
    "duration": 43,
    "start_time": "2021-10-21T20:25:43.016Z"
   },
   {
    "duration": 9828,
    "start_time": "2021-10-21T20:26:01.706Z"
   },
   {
    "duration": 9940,
    "start_time": "2021-10-21T20:26:26.660Z"
   },
   {
    "duration": 23,
    "start_time": "2021-10-21T20:27:09.834Z"
   },
   {
    "duration": 4,
    "start_time": "2021-10-21T20:27:17.818Z"
   },
   {
    "duration": 9349,
    "start_time": "2021-10-21T20:27:18.494Z"
   },
   {
    "duration": 9889,
    "start_time": "2021-10-21T20:27:42.717Z"
   },
   {
    "duration": 18,
    "start_time": "2021-10-21T20:27:53.142Z"
   },
   {
    "duration": 17,
    "start_time": "2021-10-21T20:27:56.542Z"
   },
   {
    "duration": -1815,
    "start_time": "2021-10-21T20:28:15.484Z"
   },
   {
    "duration": 8966,
    "start_time": "2021-10-21T20:28:20.037Z"
   },
   {
    "duration": 19,
    "start_time": "2021-10-21T20:28:37.575Z"
   },
   {
    "duration": 45,
    "start_time": "2021-10-21T20:28:44.313Z"
   },
   {
    "duration": 17,
    "start_time": "2021-10-21T20:28:52.590Z"
   },
   {
    "duration": 13,
    "start_time": "2021-10-21T20:29:16.893Z"
   },
   {
    "duration": 15,
    "start_time": "2021-10-21T20:29:17.654Z"
   },
   {
    "duration": 5,
    "start_time": "2021-10-21T20:29:19.060Z"
   },
   {
    "duration": 298,
    "start_time": "2021-10-21T20:29:27.174Z"
   },
   {
    "duration": 179,
    "start_time": "2021-10-21T20:29:30.733Z"
   },
   {
    "duration": 188,
    "start_time": "2021-10-21T20:29:31.588Z"
   },
   {
    "duration": 250,
    "start_time": "2021-10-21T20:29:32.375Z"
   },
   {
    "duration": 175,
    "start_time": "2021-10-21T20:29:33.048Z"
   },
   {
    "duration": 177,
    "start_time": "2021-10-21T20:29:33.753Z"
   },
   {
    "duration": 387,
    "start_time": "2021-10-21T20:30:08.130Z"
   },
   {
    "duration": 372,
    "start_time": "2021-10-21T20:30:21.623Z"
   },
   {
    "duration": 171,
    "start_time": "2021-10-21T20:30:52.423Z"
   },
   {
    "duration": 259,
    "start_time": "2021-10-21T20:31:39.779Z"
   },
   {
    "duration": 8,
    "start_time": "2021-10-21T20:31:45.778Z"
   },
   {
    "duration": 37,
    "start_time": "2021-10-21T20:31:46.376Z"
   },
   {
    "duration": 8,
    "start_time": "2021-10-21T20:31:47.044Z"
   },
   {
    "duration": 37,
    "start_time": "2021-10-21T20:31:47.688Z"
   },
   {
    "duration": 28,
    "start_time": "2021-10-21T20:31:48.299Z"
   },
   {
    "duration": 17,
    "start_time": "2021-10-21T20:31:48.953Z"
   },
   {
    "duration": 16,
    "start_time": "2021-10-21T20:31:49.659Z"
   },
   {
    "duration": 399,
    "start_time": "2021-10-21T20:32:46.828Z"
   },
   {
    "duration": 63,
    "start_time": "2021-10-21T20:32:53.083Z"
   },
   {
    "duration": 7,
    "start_time": "2021-10-21T20:32:56.800Z"
   },
   {
    "duration": 13,
    "start_time": "2021-10-21T20:32:58.670Z"
   },
   {
    "duration": 14,
    "start_time": "2021-10-21T20:32:59.363Z"
   },
   {
    "duration": 32,
    "start_time": "2021-10-21T20:32:59.955Z"
   },
   {
    "duration": 22,
    "start_time": "2021-10-21T20:33:02.831Z"
   },
   {
    "duration": 7,
    "start_time": "2021-10-21T20:33:26.266Z"
   },
   {
    "duration": 15,
    "start_time": "2021-10-21T20:33:28.256Z"
   },
   {
    "duration": 14,
    "start_time": "2021-10-21T20:33:28.912Z"
   },
   {
    "duration": 22,
    "start_time": "2021-10-21T20:33:29.446Z"
   },
   {
    "duration": 24,
    "start_time": "2021-10-21T20:33:30.217Z"
   },
   {
    "duration": 1229,
    "start_time": "2021-10-22T12:29:19.001Z"
   },
   {
    "duration": 3,
    "start_time": "2021-10-22T12:29:20.232Z"
   },
   {
    "duration": 667,
    "start_time": "2021-10-22T12:29:20.244Z"
   },
   {
    "duration": 109,
    "start_time": "2021-10-22T12:29:20.913Z"
   },
   {
    "duration": 3,
    "start_time": "2021-10-22T12:29:21.024Z"
   },
   {
    "duration": 171,
    "start_time": "2021-10-22T12:29:21.044Z"
   },
   {
    "duration": 33,
    "start_time": "2021-10-22T12:29:21.217Z"
   },
   {
    "duration": 3,
    "start_time": "2021-10-22T12:29:21.252Z"
   },
   {
    "duration": 24,
    "start_time": "2021-10-22T12:29:21.257Z"
   },
   {
    "duration": 36,
    "start_time": "2021-10-22T12:29:21.283Z"
   },
   {
    "duration": 16,
    "start_time": "2021-10-22T12:29:21.321Z"
   },
   {
    "duration": 68,
    "start_time": "2021-10-22T12:29:21.339Z"
   },
   {
    "duration": 6,
    "start_time": "2021-10-22T12:29:21.409Z"
   },
   {
    "duration": 21,
    "start_time": "2021-10-22T12:29:21.417Z"
   },
   {
    "duration": 99,
    "start_time": "2021-10-22T12:29:21.440Z"
   },
   {
    "duration": 11,
    "start_time": "2021-10-22T12:29:21.541Z"
   },
   {
    "duration": 22,
    "start_time": "2021-10-22T12:29:21.554Z"
   },
   {
    "duration": 37,
    "start_time": "2021-10-22T12:29:21.578Z"
   },
   {
    "duration": 28,
    "start_time": "2021-10-22T12:29:21.617Z"
   },
   {
    "duration": 14,
    "start_time": "2021-10-22T12:29:21.646Z"
   },
   {
    "duration": 56,
    "start_time": "2021-10-22T12:29:21.662Z"
   },
   {
    "duration": 28,
    "start_time": "2021-10-22T12:29:21.720Z"
   },
   {
    "duration": 33,
    "start_time": "2021-10-22T12:29:21.752Z"
   },
   {
    "duration": 21,
    "start_time": "2021-10-22T12:29:21.788Z"
   },
   {
    "duration": 57,
    "start_time": "2021-10-22T12:29:21.811Z"
   },
   {
    "duration": 37,
    "start_time": "2021-10-22T12:29:21.870Z"
   },
   {
    "duration": 35,
    "start_time": "2021-10-22T12:29:21.909Z"
   },
   {
    "duration": 126,
    "start_time": "2021-10-22T12:29:21.946Z"
   },
   {
    "duration": 135,
    "start_time": "2021-10-22T12:29:22.074Z"
   },
   {
    "duration": 118,
    "start_time": "2021-10-22T12:29:22.211Z"
   },
   {
    "duration": 104,
    "start_time": "2021-10-22T12:29:22.330Z"
   },
   {
    "duration": 166,
    "start_time": "2021-10-22T12:29:22.436Z"
   },
   {
    "duration": 169,
    "start_time": "2021-10-22T12:29:22.605Z"
   },
   {
    "duration": 180,
    "start_time": "2021-10-22T12:29:22.776Z"
   },
   {
    "duration": 123,
    "start_time": "2021-10-22T12:29:22.957Z"
   },
   {
    "duration": 2,
    "start_time": "2021-10-22T12:29:23.082Z"
   },
   {
    "duration": 16,
    "start_time": "2021-10-22T12:29:23.086Z"
   },
   {
    "duration": 11,
    "start_time": "2021-10-22T12:29:23.104Z"
   },
   {
    "duration": 7,
    "start_time": "2021-10-22T12:29:23.116Z"
   },
   {
    "duration": 206,
    "start_time": "2021-10-22T12:29:23.125Z"
   },
   {
    "duration": 25,
    "start_time": "2021-10-22T12:29:23.333Z"
   },
   {
    "duration": 266,
    "start_time": "2021-10-22T12:29:23.360Z"
   },
   {
    "duration": 17,
    "start_time": "2021-10-22T12:29:23.627Z"
   },
   {
    "duration": 203,
    "start_time": "2021-10-22T12:29:23.646Z"
   },
   {
    "duration": 79,
    "start_time": "2021-10-22T12:29:23.850Z"
   },
   {
    "duration": 14,
    "start_time": "2021-10-22T12:29:23.931Z"
   },
   {
    "duration": 247,
    "start_time": "2021-10-22T12:29:23.947Z"
   },
   {
    "duration": 209,
    "start_time": "2021-10-22T12:29:24.196Z"
   },
   {
    "duration": 76,
    "start_time": "2021-10-22T12:29:24.407Z"
   },
   {
    "duration": 10,
    "start_time": "2021-10-22T12:29:24.485Z"
   },
   {
    "duration": 9121,
    "start_time": "2021-10-22T12:29:24.498Z"
   },
   {
    "duration": 40,
    "start_time": "2021-10-22T12:29:33.621Z"
   },
   {
    "duration": 7132,
    "start_time": "2021-10-22T12:29:33.663Z"
   },
   {
    "duration": -90,
    "start_time": "2021-10-22T12:29:40.888Z"
   },
   {
    "duration": -97,
    "start_time": "2021-10-22T12:29:40.896Z"
   },
   {
    "duration": -103,
    "start_time": "2021-10-22T12:29:40.903Z"
   },
   {
    "duration": -108,
    "start_time": "2021-10-22T12:29:40.909Z"
   },
   {
    "duration": -117,
    "start_time": "2021-10-22T12:29:40.919Z"
   },
   {
    "duration": -122,
    "start_time": "2021-10-22T12:29:40.925Z"
   },
   {
    "duration": -129,
    "start_time": "2021-10-22T12:29:40.933Z"
   },
   {
    "duration": -135,
    "start_time": "2021-10-22T12:29:40.939Z"
   },
   {
    "duration": -141,
    "start_time": "2021-10-22T12:29:40.946Z"
   },
   {
    "duration": -147,
    "start_time": "2021-10-22T12:29:40.953Z"
   },
   {
    "duration": -152,
    "start_time": "2021-10-22T12:29:40.959Z"
   },
   {
    "duration": -158,
    "start_time": "2021-10-22T12:29:40.966Z"
   },
   {
    "duration": -176,
    "start_time": "2021-10-22T12:29:40.985Z"
   },
   {
    "duration": -180,
    "start_time": "2021-10-22T12:29:40.991Z"
   },
   {
    "duration": -188,
    "start_time": "2021-10-22T12:29:40.999Z"
   },
   {
    "duration": -193,
    "start_time": "2021-10-22T12:29:41.005Z"
   },
   {
    "duration": -199,
    "start_time": "2021-10-22T12:29:41.012Z"
   },
   {
    "duration": -204,
    "start_time": "2021-10-22T12:29:41.018Z"
   },
   {
    "duration": -210,
    "start_time": "2021-10-22T12:29:41.025Z"
   },
   {
    "duration": -215,
    "start_time": "2021-10-22T12:29:41.031Z"
   },
   {
    "duration": -221,
    "start_time": "2021-10-22T12:29:41.038Z"
   },
   {
    "duration": -227,
    "start_time": "2021-10-22T12:29:41.044Z"
   },
   {
    "duration": -232,
    "start_time": "2021-10-22T12:29:41.050Z"
   },
   {
    "duration": -237,
    "start_time": "2021-10-22T12:29:41.056Z"
   },
   {
    "duration": -243,
    "start_time": "2021-10-22T12:29:41.063Z"
   },
   {
    "duration": -248,
    "start_time": "2021-10-22T12:29:41.069Z"
   },
   {
    "duration": -253,
    "start_time": "2021-10-22T12:29:41.075Z"
   },
   {
    "duration": -272,
    "start_time": "2021-10-22T12:29:41.094Z"
   },
   {
    "duration": -283,
    "start_time": "2021-10-22T12:29:41.106Z"
   },
   {
    "duration": -289,
    "start_time": "2021-10-22T12:29:41.113Z"
   },
   {
    "duration": -295,
    "start_time": "2021-10-22T12:29:41.120Z"
   },
   {
    "duration": -300,
    "start_time": "2021-10-22T12:29:41.126Z"
   },
   {
    "duration": -307,
    "start_time": "2021-10-22T12:29:41.134Z"
   },
   {
    "duration": -313,
    "start_time": "2021-10-22T12:29:41.141Z"
   },
   {
    "duration": -321,
    "start_time": "2021-10-22T12:29:41.149Z"
   },
   {
    "duration": -325,
    "start_time": "2021-10-22T12:29:41.154Z"
   },
   {
    "duration": -331,
    "start_time": "2021-10-22T12:29:41.161Z"
   },
   {
    "duration": -335,
    "start_time": "2021-10-22T12:29:41.167Z"
   },
   {
    "duration": -340,
    "start_time": "2021-10-22T12:29:41.173Z"
   },
   {
    "duration": -346,
    "start_time": "2021-10-22T12:29:41.179Z"
   },
   {
    "duration": -352,
    "start_time": "2021-10-22T12:29:41.186Z"
   },
   {
    "duration": -366,
    "start_time": "2021-10-22T12:29:41.201Z"
   },
   {
    "duration": -372,
    "start_time": "2021-10-22T12:29:41.208Z"
   },
   {
    "duration": -378,
    "start_time": "2021-10-22T12:29:41.215Z"
   },
   {
    "duration": -384,
    "start_time": "2021-10-22T12:29:41.222Z"
   },
   {
    "duration": -383,
    "start_time": "2021-10-22T12:29:41.227Z"
   },
   {
    "duration": -389,
    "start_time": "2021-10-22T12:29:41.234Z"
   },
   {
    "duration": 1175,
    "start_time": "2021-10-22T12:30:29.503Z"
   },
   {
    "duration": 3,
    "start_time": "2021-10-22T12:30:30.680Z"
   },
   {
    "duration": 759,
    "start_time": "2021-10-22T12:30:30.684Z"
   },
   {
    "duration": 122,
    "start_time": "2021-10-22T12:30:31.445Z"
   },
   {
    "duration": 2,
    "start_time": "2021-10-22T12:30:31.569Z"
   },
   {
    "duration": 187,
    "start_time": "2021-10-22T12:30:31.573Z"
   },
   {
    "duration": 26,
    "start_time": "2021-10-22T12:30:31.761Z"
   },
   {
    "duration": 3,
    "start_time": "2021-10-22T12:30:31.790Z"
   },
   {
    "duration": 44,
    "start_time": "2021-10-22T12:30:31.795Z"
   },
   {
    "duration": 29,
    "start_time": "2021-10-22T12:30:31.841Z"
   },
   {
    "duration": 4,
    "start_time": "2021-10-22T12:30:31.872Z"
   },
   {
    "duration": 46,
    "start_time": "2021-10-22T12:30:31.878Z"
   },
   {
    "duration": 18,
    "start_time": "2021-10-22T12:30:31.927Z"
   },
   {
    "duration": 7,
    "start_time": "2021-10-22T12:30:31.947Z"
   },
   {
    "duration": 113,
    "start_time": "2021-10-22T12:30:31.955Z"
   },
   {
    "duration": 12,
    "start_time": "2021-10-22T12:30:32.070Z"
   },
   {
    "duration": 6,
    "start_time": "2021-10-22T12:30:32.084Z"
   },
   {
    "duration": 20,
    "start_time": "2021-10-22T12:30:32.093Z"
   },
   {
    "duration": 44,
    "start_time": "2021-10-22T12:30:32.115Z"
   },
   {
    "duration": 6,
    "start_time": "2021-10-22T12:30:32.161Z"
   },
   {
    "duration": 43,
    "start_time": "2021-10-22T12:30:32.169Z"
   },
   {
    "duration": 33,
    "start_time": "2021-10-22T12:30:32.215Z"
   },
   {
    "duration": 20,
    "start_time": "2021-10-22T12:30:32.252Z"
   },
   {
    "duration": 16,
    "start_time": "2021-10-22T12:30:32.275Z"
   },
   {
    "duration": 66,
    "start_time": "2021-10-22T12:30:32.293Z"
   },
   {
    "duration": 37,
    "start_time": "2021-10-22T12:30:32.361Z"
   },
   {
    "duration": 29,
    "start_time": "2021-10-22T12:30:32.400Z"
   },
   {
    "duration": 137,
    "start_time": "2021-10-22T12:30:32.431Z"
   },
   {
    "duration": 116,
    "start_time": "2021-10-22T12:30:32.570Z"
   },
   {
    "duration": 129,
    "start_time": "2021-10-22T12:30:32.688Z"
   },
   {
    "duration": 102,
    "start_time": "2021-10-22T12:30:32.819Z"
   },
   {
    "duration": 169,
    "start_time": "2021-10-22T12:30:32.922Z"
   },
   {
    "duration": 170,
    "start_time": "2021-10-22T12:30:33.093Z"
   },
   {
    "duration": 182,
    "start_time": "2021-10-22T12:30:33.265Z"
   },
   {
    "duration": 130,
    "start_time": "2021-10-22T12:30:33.448Z"
   },
   {
    "duration": 3,
    "start_time": "2021-10-22T12:30:33.579Z"
   },
   {
    "duration": 24,
    "start_time": "2021-10-22T12:30:33.584Z"
   },
   {
    "duration": 10,
    "start_time": "2021-10-22T12:30:33.610Z"
   },
   {
    "duration": 7,
    "start_time": "2021-10-22T12:30:33.622Z"
   },
   {
    "duration": 219,
    "start_time": "2021-10-22T12:30:33.631Z"
   },
   {
    "duration": 17,
    "start_time": "2021-10-22T12:30:33.852Z"
   },
   {
    "duration": 274,
    "start_time": "2021-10-22T12:30:33.870Z"
   },
   {
    "duration": 6,
    "start_time": "2021-10-22T12:30:34.146Z"
   },
   {
    "duration": 203,
    "start_time": "2021-10-22T12:30:34.154Z"
   },
   {
    "duration": 90,
    "start_time": "2021-10-22T12:30:34.359Z"
   },
   {
    "duration": 4,
    "start_time": "2021-10-22T12:30:34.450Z"
   },
   {
    "duration": 240,
    "start_time": "2021-10-22T12:30:34.456Z"
   },
   {
    "duration": 204,
    "start_time": "2021-10-22T12:30:34.698Z"
   },
   {
    "duration": 75,
    "start_time": "2021-10-22T12:30:34.904Z"
   },
   {
    "duration": 11,
    "start_time": "2021-10-22T12:30:34.980Z"
   },
   {
    "duration": 7095,
    "start_time": "2021-10-22T12:30:34.992Z"
   },
   {
    "duration": 33,
    "start_time": "2021-10-22T12:30:42.089Z"
   },
   {
    "duration": 7952,
    "start_time": "2021-10-22T12:30:42.123Z"
   },
   {
    "duration": -110,
    "start_time": "2021-10-22T12:30:50.187Z"
   },
   {
    "duration": -119,
    "start_time": "2021-10-22T12:30:50.197Z"
   },
   {
    "duration": -126,
    "start_time": "2021-10-22T12:30:50.205Z"
   },
   {
    "duration": -133,
    "start_time": "2021-10-22T12:30:50.213Z"
   },
   {
    "duration": -139,
    "start_time": "2021-10-22T12:30:50.220Z"
   },
   {
    "duration": -145,
    "start_time": "2021-10-22T12:30:50.227Z"
   },
   {
    "duration": -151,
    "start_time": "2021-10-22T12:30:50.234Z"
   },
   {
    "duration": -158,
    "start_time": "2021-10-22T12:30:50.242Z"
   },
   {
    "duration": -164,
    "start_time": "2021-10-22T12:30:50.249Z"
   },
   {
    "duration": -169,
    "start_time": "2021-10-22T12:30:50.255Z"
   },
   {
    "duration": -191,
    "start_time": "2021-10-22T12:30:50.278Z"
   },
   {
    "duration": -198,
    "start_time": "2021-10-22T12:30:50.286Z"
   },
   {
    "duration": -204,
    "start_time": "2021-10-22T12:30:50.293Z"
   },
   {
    "duration": -209,
    "start_time": "2021-10-22T12:30:50.299Z"
   },
   {
    "duration": -216,
    "start_time": "2021-10-22T12:30:50.307Z"
   },
   {
    "duration": -221,
    "start_time": "2021-10-22T12:30:50.313Z"
   },
   {
    "duration": -227,
    "start_time": "2021-10-22T12:30:50.320Z"
   },
   {
    "duration": -233,
    "start_time": "2021-10-22T12:30:50.327Z"
   },
   {
    "duration": -240,
    "start_time": "2021-10-22T12:30:50.335Z"
   },
   {
    "duration": -245,
    "start_time": "2021-10-22T12:30:50.341Z"
   },
   {
    "duration": -250,
    "start_time": "2021-10-22T12:30:50.347Z"
   },
   {
    "duration": -256,
    "start_time": "2021-10-22T12:30:50.354Z"
   },
   {
    "duration": -265,
    "start_time": "2021-10-22T12:30:50.363Z"
   },
   {
    "duration": -270,
    "start_time": "2021-10-22T12:30:50.369Z"
   },
   {
    "duration": -287,
    "start_time": "2021-10-22T12:30:50.387Z"
   },
   {
    "duration": -293,
    "start_time": "2021-10-22T12:30:50.394Z"
   },
   {
    "duration": -299,
    "start_time": "2021-10-22T12:30:50.401Z"
   },
   {
    "duration": -306,
    "start_time": "2021-10-22T12:30:50.408Z"
   },
   {
    "duration": -312,
    "start_time": "2021-10-22T12:30:50.415Z"
   },
   {
    "duration": -318,
    "start_time": "2021-10-22T12:30:50.422Z"
   },
   {
    "duration": -324,
    "start_time": "2021-10-22T12:30:50.429Z"
   },
   {
    "duration": -329,
    "start_time": "2021-10-22T12:30:50.435Z"
   },
   {
    "duration": -335,
    "start_time": "2021-10-22T12:30:50.442Z"
   },
   {
    "duration": -340,
    "start_time": "2021-10-22T12:30:50.448Z"
   },
   {
    "duration": -346,
    "start_time": "2021-10-22T12:30:50.455Z"
   },
   {
    "duration": -352,
    "start_time": "2021-10-22T12:30:50.462Z"
   },
   {
    "duration": -357,
    "start_time": "2021-10-22T12:30:50.468Z"
   },
   {
    "duration": -362,
    "start_time": "2021-10-22T12:30:50.474Z"
   },
   {
    "duration": -368,
    "start_time": "2021-10-22T12:30:50.481Z"
   },
   {
    "duration": -385,
    "start_time": "2021-10-22T12:30:50.499Z"
   },
   {
    "duration": -393,
    "start_time": "2021-10-22T12:30:50.507Z"
   },
   {
    "duration": -398,
    "start_time": "2021-10-22T12:30:50.513Z"
   },
   {
    "duration": -404,
    "start_time": "2021-10-22T12:30:50.520Z"
   },
   {
    "duration": -410,
    "start_time": "2021-10-22T12:30:50.527Z"
   },
   {
    "duration": -417,
    "start_time": "2021-10-22T12:30:50.534Z"
   },
   {
    "duration": -422,
    "start_time": "2021-10-22T12:30:50.540Z"
   },
   {
    "duration": -430,
    "start_time": "2021-10-22T12:30:50.548Z"
   },
   {
    "duration": 1087,
    "start_time": "2021-10-23T08:42:55.378Z"
   },
   {
    "duration": 3,
    "start_time": "2021-10-23T08:42:56.467Z"
   },
   {
    "duration": 617,
    "start_time": "2021-10-23T08:42:56.686Z"
   },
   {
    "duration": 100,
    "start_time": "2021-10-23T08:42:58.165Z"
   },
   {
    "duration": 3,
    "start_time": "2021-10-23T08:42:59.248Z"
   },
   {
    "duration": 166,
    "start_time": "2021-10-23T08:42:59.888Z"
   },
   {
    "duration": 24,
    "start_time": "2021-10-23T08:43:01.179Z"
   },
   {
    "duration": 3,
    "start_time": "2021-10-23T08:43:01.801Z"
   },
   {
    "duration": 12,
    "start_time": "2021-10-23T08:43:02.452Z"
   },
   {
    "duration": 19,
    "start_time": "2021-10-23T08:43:03.043Z"
   },
   {
    "duration": 4,
    "start_time": "2021-10-23T08:43:03.662Z"
   },
   {
    "duration": 26,
    "start_time": "2021-10-23T08:43:04.298Z"
   },
   {
    "duration": 6,
    "start_time": "2021-10-23T08:43:04.928Z"
   },
   {
    "duration": 6,
    "start_time": "2021-10-23T08:43:05.532Z"
   },
   {
    "duration": 76,
    "start_time": "2021-10-23T08:43:06.774Z"
   },
   {
    "duration": 11,
    "start_time": "2021-10-23T08:43:07.427Z"
   },
   {
    "duration": 6,
    "start_time": "2021-10-23T08:43:08.053Z"
   },
   {
    "duration": 16,
    "start_time": "2021-10-23T08:43:09.316Z"
   },
   {
    "duration": 19,
    "start_time": "2021-10-23T08:43:09.898Z"
   },
   {
    "duration": 5,
    "start_time": "2021-10-23T08:43:10.525Z"
   },
   {
    "duration": 33,
    "start_time": "2021-10-23T08:43:13.464Z"
   },
   {
    "duration": 10,
    "start_time": "2021-10-23T08:43:15.266Z"
   },
   {
    "duration": 22,
    "start_time": "2021-10-23T08:43:18.072Z"
   },
   {
    "duration": 13,
    "start_time": "2021-10-23T08:43:18.683Z"
   },
   {
    "duration": 25,
    "start_time": "2021-10-23T08:43:24.580Z"
   },
   {
    "duration": 36,
    "start_time": "2021-10-23T08:43:25.256Z"
   },
   {
    "duration": 29,
    "start_time": "2021-10-23T08:43:25.936Z"
   },
   {
    "duration": 111,
    "start_time": "2021-10-23T08:43:26.648Z"
   },
   {
    "duration": 112,
    "start_time": "2021-10-23T08:43:27.319Z"
   },
   {
    "duration": 106,
    "start_time": "2021-10-23T08:43:28.074Z"
   },
   {
    "duration": 83,
    "start_time": "2021-10-23T08:43:28.696Z"
   },
   {
    "duration": 145,
    "start_time": "2021-10-23T08:43:31.301Z"
   },
   {
    "duration": 146,
    "start_time": "2021-10-23T08:43:31.956Z"
   },
   {
    "duration": 155,
    "start_time": "2021-10-23T08:43:35.761Z"
   },
   {
    "duration": 107,
    "start_time": "2021-10-23T08:43:42.995Z"
   },
   {
    "duration": 3,
    "start_time": "2021-10-23T08:43:44.287Z"
   },
   {
    "duration": 5,
    "start_time": "2021-10-23T08:43:45.056Z"
   },
   {
    "duration": 9,
    "start_time": "2021-10-23T08:43:46.118Z"
   },
   {
    "duration": 5,
    "start_time": "2021-10-23T08:43:47.773Z"
   },
   {
    "duration": 199,
    "start_time": "2021-10-23T08:43:50.404Z"
   },
   {
    "duration": 16,
    "start_time": "2021-10-23T08:43:53.161Z"
   },
   {
    "duration": 252,
    "start_time": "2021-10-23T08:43:53.897Z"
   },
   {
    "duration": 7,
    "start_time": "2021-10-23T08:43:58.150Z"
   },
   {
    "duration": 195,
    "start_time": "2021-10-23T08:44:00.300Z"
   },
   {
    "duration": 76,
    "start_time": "2021-10-23T08:44:03.528Z"
   },
   {
    "duration": 2,
    "start_time": "2021-10-23T08:44:04.249Z"
   },
   {
    "duration": 248,
    "start_time": "2021-10-23T08:44:04.967Z"
   },
   {
    "duration": 166,
    "start_time": "2021-10-23T08:44:05.709Z"
   },
   {
    "duration": 61,
    "start_time": "2021-10-23T08:44:06.428Z"
   },
   {
    "duration": 11,
    "start_time": "2021-10-23T08:44:07.142Z"
   },
   {
    "duration": 7336,
    "start_time": "2021-10-23T08:44:07.837Z"
   },
   {
    "duration": 38,
    "start_time": "2021-10-23T08:44:15.175Z"
   },
   {
    "duration": 4095,
    "start_time": "2021-10-23T08:44:15.215Z"
   },
   {
    "duration": 36,
    "start_time": "2021-10-23T08:44:56.786Z"
   },
   {
    "duration": 188,
    "start_time": "2021-10-23T08:46:09.727Z"
   },
   {
    "duration": 30,
    "start_time": "2021-10-23T08:46:15.937Z"
   },
   {
    "duration": 2,
    "start_time": "2021-10-23T08:46:23.114Z"
   },
   {
    "duration": 239,
    "start_time": "2021-10-23T08:46:41.391Z"
   },
   {
    "duration": 169,
    "start_time": "2021-10-23T08:46:52.431Z"
   },
   {
    "duration": 170,
    "start_time": "2021-10-23T08:47:00.444Z"
   },
   {
    "duration": 202,
    "start_time": "2021-10-23T08:47:04.394Z"
   },
   {
    "duration": 58,
    "start_time": "2021-10-23T08:48:59.757Z"
   },
   {
    "duration": 90,
    "start_time": "2021-10-23T08:49:03.572Z"
   },
   {
    "duration": 54,
    "start_time": "2021-10-23T08:49:22.494Z"
   },
   {
    "duration": 64,
    "start_time": "2021-10-23T08:49:25.678Z"
   },
   {
    "duration": 11,
    "start_time": "2021-10-23T08:49:26.602Z"
   },
   {
    "duration": 6131,
    "start_time": "2021-10-23T08:49:27.507Z"
   },
   {
    "duration": 31,
    "start_time": "2021-10-23T08:50:03.811Z"
   },
   {
    "duration": 4300,
    "start_time": "2021-10-23T08:50:05.728Z"
   },
   {
    "duration": 4104,
    "start_time": "2021-10-23T12:00:12.160Z"
   },
   {
    "duration": 7264,
    "start_time": "2021-10-23T12:00:31.193Z"
   },
   {
    "duration": 4627,
    "start_time": "2021-10-23T12:00:41.370Z"
   },
   {
    "duration": 72,
    "start_time": "2021-10-23T12:01:00.037Z"
   },
   {
    "duration": 188,
    "start_time": "2021-10-23T12:02:09.042Z"
   },
   {
    "duration": 67,
    "start_time": "2021-10-23T12:02:13.732Z"
   },
   {
    "duration": 11,
    "start_time": "2021-10-23T12:02:15.644Z"
   },
   {
    "duration": 312,
    "start_time": "2021-10-23T12:02:18.219Z"
   },
   {
    "duration": 15,
    "start_time": "2021-10-23T12:02:24.305Z"
   },
   {
    "duration": 4463,
    "start_time": "2021-10-23T12:02:28.006Z"
   },
   {
    "duration": 177,
    "start_time": "2021-10-23T12:02:50.229Z"
   },
   {
    "duration": 4238,
    "start_time": "2021-10-23T12:02:54.504Z"
   },
   {
    "duration": 149,
    "start_time": "2021-10-23T12:03:04.298Z"
   },
   {
    "duration": 16,
    "start_time": "2021-10-23T12:03:06.479Z"
   },
   {
    "duration": 4259,
    "start_time": "2021-10-23T12:03:12.359Z"
   },
   {
    "duration": 180,
    "start_time": "2021-10-23T12:03:25.360Z"
   },
   {
    "duration": 9,
    "start_time": "2021-10-23T12:03:33.244Z"
   },
   {
    "duration": 1169,
    "start_time": "2021-10-23T12:04:11.385Z"
   },
   {
    "duration": 3,
    "start_time": "2021-10-23T12:04:12.556Z"
   },
   {
    "duration": 775,
    "start_time": "2021-10-23T12:04:12.561Z"
   },
   {
    "duration": 110,
    "start_time": "2021-10-23T12:04:13.338Z"
   },
   {
    "duration": 3,
    "start_time": "2021-10-23T12:04:13.449Z"
   },
   {
    "duration": 194,
    "start_time": "2021-10-23T12:04:13.454Z"
   },
   {
    "duration": 28,
    "start_time": "2021-10-23T12:04:13.650Z"
   },
   {
    "duration": 4,
    "start_time": "2021-10-23T12:04:13.691Z"
   },
   {
    "duration": 20,
    "start_time": "2021-10-23T12:04:13.697Z"
   },
   {
    "duration": 21,
    "start_time": "2021-10-23T12:04:13.719Z"
   },
   {
    "duration": 5,
    "start_time": "2021-10-23T12:04:13.742Z"
   },
   {
    "duration": 52,
    "start_time": "2021-10-23T12:04:13.749Z"
   },
   {
    "duration": 6,
    "start_time": "2021-10-23T12:04:13.803Z"
   },
   {
    "duration": 13,
    "start_time": "2021-10-23T12:04:13.811Z"
   },
   {
    "duration": 96,
    "start_time": "2021-10-23T12:04:13.826Z"
   },
   {
    "duration": 11,
    "start_time": "2021-10-23T12:04:13.924Z"
   },
   {
    "duration": 5,
    "start_time": "2021-10-23T12:04:13.945Z"
   },
   {
    "duration": 15,
    "start_time": "2021-10-23T12:04:14.295Z"
   },
   {
    "duration": 18,
    "start_time": "2021-10-23T12:04:14.437Z"
   },
   {
    "duration": 6,
    "start_time": "2021-10-23T12:04:14.566Z"
   },
   {
    "duration": 31,
    "start_time": "2021-10-23T12:04:14.947Z"
   },
   {
    "duration": 9,
    "start_time": "2021-10-23T12:04:15.294Z"
   },
   {
    "duration": 20,
    "start_time": "2021-10-23T12:04:15.833Z"
   },
   {
    "duration": 12,
    "start_time": "2021-10-23T12:04:15.934Z"
   },
   {
    "duration": 28,
    "start_time": "2021-10-23T12:04:17.666Z"
   },
   {
    "duration": 34,
    "start_time": "2021-10-23T12:04:17.795Z"
   },
   {
    "duration": 25,
    "start_time": "2021-10-23T12:04:17.936Z"
   },
   {
    "duration": 118,
    "start_time": "2021-10-23T12:04:18.055Z"
   },
   {
    "duration": 116,
    "start_time": "2021-10-23T12:04:18.275Z"
   },
   {
    "duration": 121,
    "start_time": "2021-10-23T12:04:18.412Z"
   },
   {
    "duration": 90,
    "start_time": "2021-10-23T12:04:18.551Z"
   },
   {
    "duration": 152,
    "start_time": "2021-10-23T12:04:18.831Z"
   },
   {
    "duration": 163,
    "start_time": "2021-10-23T12:04:18.985Z"
   },
   {
    "duration": 170,
    "start_time": "2021-10-23T12:04:19.881Z"
   },
   {
    "duration": 108,
    "start_time": "2021-10-23T12:04:21.071Z"
   },
   {
    "duration": 3,
    "start_time": "2021-10-23T12:04:21.213Z"
   },
   {
    "duration": 5,
    "start_time": "2021-10-23T12:04:21.360Z"
   },
   {
    "duration": 10,
    "start_time": "2021-10-23T12:04:21.505Z"
   },
   {
    "duration": 5,
    "start_time": "2021-10-23T12:04:21.659Z"
   },
   {
    "duration": 200,
    "start_time": "2021-10-23T12:04:22.284Z"
   },
   {
    "duration": 18,
    "start_time": "2021-10-23T12:04:23.456Z"
   },
   {
    "duration": 315,
    "start_time": "2021-10-23T12:04:23.584Z"
   },
   {
    "duration": 8,
    "start_time": "2021-10-23T12:04:24.510Z"
   },
   {
    "duration": 201,
    "start_time": "2021-10-23T12:04:25.426Z"
   },
   {
    "duration": 78,
    "start_time": "2021-10-23T12:04:27.054Z"
   },
   {
    "duration": 3,
    "start_time": "2021-10-23T12:04:27.224Z"
   },
   {
    "duration": 100,
    "start_time": "2021-10-23T12:04:27.405Z"
   },
   {
    "duration": 4724,
    "start_time": "2021-10-23T12:04:27.632Z"
   },
   {
    "duration": -10,
    "start_time": "2021-10-23T12:04:32.368Z"
   },
   {
    "duration": -15,
    "start_time": "2021-10-23T12:04:32.374Z"
   },
   {
    "duration": -18,
    "start_time": "2021-10-23T12:04:32.378Z"
   },
   {
    "duration": -22,
    "start_time": "2021-10-23T12:04:32.383Z"
   },
   {
    "duration": -26,
    "start_time": "2021-10-23T12:04:32.388Z"
   },
   {
    "duration": 180,
    "start_time": "2021-10-23T12:04:35.318Z"
   },
   {
    "duration": 197,
    "start_time": "2021-10-23T12:04:59.800Z"
   },
   {
    "duration": 42,
    "start_time": "2021-10-23T12:06:15.066Z"
   },
   {
    "duration": 49,
    "start_time": "2021-10-23T12:06:16.728Z"
   },
   {
    "duration": 4242,
    "start_time": "2021-10-23T12:06:18.491Z"
   },
   {
    "duration": 4527,
    "start_time": "2021-10-23T12:06:24.009Z"
   },
   {
    "duration": 48,
    "start_time": "2021-10-23T12:06:42.136Z"
   },
   {
    "duration": 12,
    "start_time": "2021-10-23T12:06:43.813Z"
   },
   {
    "duration": 249,
    "start_time": "2021-10-23T12:06:44.735Z"
   },
   {
    "duration": 19,
    "start_time": "2021-10-23T12:06:45.961Z"
   },
   {
    "duration": 13,
    "start_time": "2021-10-23T12:06:51.111Z"
   },
   {
    "duration": 168,
    "start_time": "2021-10-23T12:06:51.860Z"
   },
   {
    "duration": 172,
    "start_time": "2021-10-23T12:07:08.142Z"
   },
   {
    "duration": 177,
    "start_time": "2021-10-23T12:07:13.229Z"
   },
   {
    "duration": 176,
    "start_time": "2021-10-23T12:07:30.204Z"
   },
   {
    "duration": 1102,
    "start_time": "2021-10-23T12:08:05.246Z"
   },
   {
    "duration": 7,
    "start_time": "2021-10-23T12:08:06.350Z"
   },
   {
    "duration": 1871,
    "start_time": "2021-10-23T12:08:06.359Z"
   },
   {
    "duration": 108,
    "start_time": "2021-10-23T12:08:08.232Z"
   },
   {
    "duration": 3,
    "start_time": "2021-10-23T12:08:08.341Z"
   },
   {
    "duration": 169,
    "start_time": "2021-10-23T12:08:08.345Z"
   },
   {
    "duration": 23,
    "start_time": "2021-10-23T12:08:08.516Z"
   },
   {
    "duration": 2,
    "start_time": "2021-10-23T12:08:08.542Z"
   },
   {
    "duration": 27,
    "start_time": "2021-10-23T12:08:08.546Z"
   },
   {
    "duration": 30,
    "start_time": "2021-10-23T12:08:08.575Z"
   },
   {
    "duration": 4,
    "start_time": "2021-10-23T12:08:08.606Z"
   },
   {
    "duration": 38,
    "start_time": "2021-10-23T12:08:08.612Z"
   },
   {
    "duration": 5,
    "start_time": "2021-10-23T12:08:08.652Z"
   },
   {
    "duration": 15,
    "start_time": "2021-10-23T12:08:08.658Z"
   },
   {
    "duration": 91,
    "start_time": "2021-10-23T12:08:08.674Z"
   },
   {
    "duration": 10,
    "start_time": "2021-10-23T12:08:08.767Z"
   },
   {
    "duration": 16,
    "start_time": "2021-10-23T12:08:08.778Z"
   },
   {
    "duration": 16,
    "start_time": "2021-10-23T12:08:08.796Z"
   },
   {
    "duration": 21,
    "start_time": "2021-10-23T12:08:08.813Z"
   },
   {
    "duration": 4,
    "start_time": "2021-10-23T12:08:08.836Z"
   },
   {
    "duration": 30,
    "start_time": "2021-10-23T12:08:09.056Z"
   },
   {
    "duration": 10,
    "start_time": "2021-10-23T12:08:09.471Z"
   },
   {
    "duration": 20,
    "start_time": "2021-10-23T12:08:09.928Z"
   },
   {
    "duration": 13,
    "start_time": "2021-10-23T12:08:10.078Z"
   },
   {
    "duration": 23,
    "start_time": "2021-10-23T12:08:11.780Z"
   },
   {
    "duration": 33,
    "start_time": "2021-10-23T12:08:11.922Z"
   },
   {
    "duration": 25,
    "start_time": "2021-10-23T12:08:12.080Z"
   },
   {
    "duration": 107,
    "start_time": "2021-10-23T12:08:12.216Z"
   },
   {
    "duration": 110,
    "start_time": "2021-10-23T12:08:12.362Z"
   },
   {
    "duration": 106,
    "start_time": "2021-10-23T12:08:12.499Z"
   },
   {
    "duration": 82,
    "start_time": "2021-10-23T12:08:12.633Z"
   },
   {
    "duration": 148,
    "start_time": "2021-10-23T12:08:12.956Z"
   },
   {
    "duration": 157,
    "start_time": "2021-10-23T12:08:13.106Z"
   },
   {
    "duration": 174,
    "start_time": "2021-10-23T12:08:14.020Z"
   },
   {
    "duration": 105,
    "start_time": "2021-10-23T12:08:15.543Z"
   },
   {
    "duration": 3,
    "start_time": "2021-10-23T12:08:15.675Z"
   },
   {
    "duration": 5,
    "start_time": "2021-10-23T12:08:15.801Z"
   },
   {
    "duration": 9,
    "start_time": "2021-10-23T12:08:15.949Z"
   },
   {
    "duration": 5,
    "start_time": "2021-10-23T12:08:16.103Z"
   },
   {
    "duration": 186,
    "start_time": "2021-10-23T12:08:16.669Z"
   },
   {
    "duration": 19,
    "start_time": "2021-10-23T12:08:17.776Z"
   },
   {
    "duration": 255,
    "start_time": "2021-10-23T12:08:17.897Z"
   },
   {
    "duration": 6,
    "start_time": "2021-10-23T12:08:18.816Z"
   },
   {
    "duration": 187,
    "start_time": "2021-10-23T12:08:19.658Z"
   },
   {
    "duration": 75,
    "start_time": "2021-10-23T12:08:20.818Z"
   },
   {
    "duration": 3,
    "start_time": "2021-10-23T12:08:21.005Z"
   },
   {
    "duration": 91,
    "start_time": "2021-10-23T12:08:21.133Z"
   },
   {
    "duration": 41,
    "start_time": "2021-10-23T12:08:21.280Z"
   },
   {
    "duration": 51,
    "start_time": "2021-10-23T12:08:21.422Z"
   },
   {
    "duration": 48,
    "start_time": "2021-10-23T12:08:21.556Z"
   },
   {
    "duration": 12,
    "start_time": "2021-10-23T12:08:21.708Z"
   },
   {
    "duration": 235,
    "start_time": "2021-10-23T12:08:21.920Z"
   },
   {
    "duration": 18,
    "start_time": "2021-10-23T12:08:22.827Z"
   },
   {
    "duration": 19,
    "start_time": "2021-10-23T12:08:29.332Z"
   },
   {
    "duration": 16,
    "start_time": "2021-10-23T13:20:50.840Z"
   },
   {
    "duration": 16,
    "start_time": "2021-10-23T13:20:51.673Z"
   },
   {
    "duration": 93,
    "start_time": "2021-10-23T13:21:10.011Z"
   },
   {
    "duration": 265,
    "start_time": "2021-10-23T13:21:27.570Z"
   },
   {
    "duration": 20,
    "start_time": "2021-10-23T13:21:40.499Z"
   },
   {
    "duration": 13,
    "start_time": "2021-10-23T13:21:54.457Z"
   },
   {
    "duration": 898,
    "start_time": "2021-10-23T13:22:00.171Z"
   },
   {
    "duration": 185,
    "start_time": "2021-10-23T13:22:04.549Z"
   },
   {
    "duration": 19,
    "start_time": "2021-10-23T13:22:16.261Z"
   },
   {
    "duration": 176,
    "start_time": "2021-10-23T13:22:19.943Z"
   },
   {
    "duration": 16,
    "start_time": "2021-10-23T13:22:38.805Z"
   },
   {
    "duration": 19,
    "start_time": "2021-10-23T13:22:39.619Z"
   },
   {
    "duration": 181,
    "start_time": "2021-10-23T13:22:40.450Z"
   },
   {
    "duration": 183,
    "start_time": "2021-10-23T13:22:49.769Z"
   },
   {
    "duration": 3,
    "start_time": "2021-10-23T13:22:58.016Z"
   },
   {
    "duration": 3,
    "start_time": "2021-10-23T13:22:58.118Z"
   },
   {
    "duration": 563,
    "start_time": "2021-10-23T13:22:58.222Z"
   },
   {
    "duration": 86,
    "start_time": "2021-10-23T13:22:58.787Z"
   },
   {
    "duration": 3,
    "start_time": "2021-10-23T13:22:58.875Z"
   },
   {
    "duration": 145,
    "start_time": "2021-10-23T13:22:58.891Z"
   },
   {
    "duration": 26,
    "start_time": "2021-10-23T13:22:59.038Z"
   },
   {
    "duration": 3,
    "start_time": "2021-10-23T13:22:59.153Z"
   },
   {
    "duration": 12,
    "start_time": "2021-10-23T13:22:59.277Z"
   },
   {
    "duration": 20,
    "start_time": "2021-10-23T13:22:59.443Z"
   },
   {
    "duration": 5,
    "start_time": "2021-10-23T13:22:59.565Z"
   },
   {
    "duration": 22,
    "start_time": "2021-10-23T13:22:59.707Z"
   },
   {
    "duration": 6,
    "start_time": "2021-10-23T13:22:59.900Z"
   },
   {
    "duration": 6,
    "start_time": "2021-10-23T13:23:00.145Z"
   },
   {
    "duration": 71,
    "start_time": "2021-10-23T13:23:00.318Z"
   },
   {
    "duration": 11,
    "start_time": "2021-10-23T13:23:00.457Z"
   },
   {
    "duration": 6,
    "start_time": "2021-10-23T13:23:00.634Z"
   },
   {
    "duration": 15,
    "start_time": "2021-10-23T13:23:00.940Z"
   },
   {
    "duration": 17,
    "start_time": "2021-10-23T13:23:01.102Z"
   },
   {
    "duration": 5,
    "start_time": "2021-10-23T13:23:01.249Z"
   },
   {
    "duration": 32,
    "start_time": "2021-10-23T13:23:01.720Z"
   },
   {
    "duration": 9,
    "start_time": "2021-10-23T13:23:02.156Z"
   },
   {
    "duration": 19,
    "start_time": "2021-10-23T13:23:02.625Z"
   },
   {
    "duration": 13,
    "start_time": "2021-10-23T13:23:02.781Z"
   },
   {
    "duration": 25,
    "start_time": "2021-10-23T13:23:04.496Z"
   },
   {
    "duration": 36,
    "start_time": "2021-10-23T13:23:04.674Z"
   },
   {
    "duration": 26,
    "start_time": "2021-10-23T13:23:04.843Z"
   },
   {
    "duration": 111,
    "start_time": "2021-10-23T13:23:05.001Z"
   },
   {
    "duration": 94,
    "start_time": "2021-10-23T13:23:05.147Z"
   },
   {
    "duration": 105,
    "start_time": "2021-10-23T13:23:05.339Z"
   },
   {
    "duration": 79,
    "start_time": "2021-10-23T13:23:05.494Z"
   },
   {
    "duration": 141,
    "start_time": "2021-10-23T13:23:05.817Z"
   },
   {
    "duration": 220,
    "start_time": "2021-10-23T13:23:05.966Z"
   },
   {
    "duration": 154,
    "start_time": "2021-10-23T13:23:06.956Z"
   },
   {
    "duration": 103,
    "start_time": "2021-10-23T13:23:08.906Z"
   },
   {
    "duration": 2,
    "start_time": "2021-10-23T13:23:09.092Z"
   },
   {
    "duration": 4,
    "start_time": "2021-10-23T13:23:09.311Z"
   },
   {
    "duration": 10,
    "start_time": "2021-10-23T13:23:09.800Z"
   },
   {
    "duration": 5,
    "start_time": "2021-10-23T13:23:09.960Z"
   },
   {
    "duration": 187,
    "start_time": "2021-10-23T13:23:10.960Z"
   },
   {
    "duration": 17,
    "start_time": "2021-10-23T13:23:11.996Z"
   },
   {
    "duration": 272,
    "start_time": "2021-10-23T13:23:12.156Z"
   },
   {
    "duration": 6,
    "start_time": "2021-10-23T13:23:13.128Z"
   },
   {
    "duration": 199,
    "start_time": "2021-10-23T13:23:14.039Z"
   },
   {
    "duration": 74,
    "start_time": "2021-10-23T13:23:15.335Z"
   },
   {
    "duration": 2,
    "start_time": "2021-10-23T13:23:15.530Z"
   },
   {
    "duration": 85,
    "start_time": "2021-10-23T13:23:15.740Z"
   },
   {
    "duration": 42,
    "start_time": "2021-10-23T13:23:16.011Z"
   },
   {
    "duration": 48,
    "start_time": "2021-10-23T13:23:16.761Z"
   },
   {
    "duration": 48,
    "start_time": "2021-10-23T13:23:16.882Z"
   },
   {
    "duration": 11,
    "start_time": "2021-10-23T13:23:17.032Z"
   },
   {
    "duration": 234,
    "start_time": "2021-10-23T13:23:17.283Z"
   },
   {
    "duration": 16,
    "start_time": "2021-10-23T13:23:18.155Z"
   },
   {
    "duration": 22,
    "start_time": "2021-10-23T13:23:18.880Z"
   },
   {
    "duration": 182,
    "start_time": "2021-10-23T13:23:19.388Z"
   },
   {
    "duration": 715,
    "start_time": "2021-10-23T13:23:46.449Z"
   },
   {
    "duration": 10,
    "start_time": "2021-10-23T13:23:57.973Z"
   },
   {
    "duration": 848,
    "start_time": "2021-10-23T13:24:00.139Z"
   },
   {
    "duration": 9,
    "start_time": "2021-10-23T13:24:24.639Z"
   },
   {
    "duration": 4453,
    "start_time": "2021-10-23T13:24:44.881Z"
   },
   {
    "duration": 4176,
    "start_time": "2021-10-23T13:24:52.857Z"
   },
   {
    "duration": 205,
    "start_time": "2021-10-23T13:25:03.199Z"
   },
   {
    "duration": 16,
    "start_time": "2021-10-23T13:25:04.163Z"
   },
   {
    "duration": 12,
    "start_time": "2021-10-23T13:25:06.806Z"
   },
   {
    "duration": 182,
    "start_time": "2021-10-23T13:25:10.579Z"
   },
   {
    "duration": 184,
    "start_time": "2021-10-23T13:25:21.014Z"
   },
   {
    "duration": 10,
    "start_time": "2021-10-23T13:25:33.264Z"
   },
   {
    "duration": 1114,
    "start_time": "2021-10-23T13:26:03.425Z"
   },
   {
    "duration": 3,
    "start_time": "2021-10-23T13:26:04.541Z"
   },
   {
    "duration": 1199,
    "start_time": "2021-10-23T13:26:04.546Z"
   },
   {
    "duration": 109,
    "start_time": "2021-10-23T13:26:05.747Z"
   },
   {
    "duration": 3,
    "start_time": "2021-10-23T13:26:05.857Z"
   },
   {
    "duration": 188,
    "start_time": "2021-10-23T13:26:05.862Z"
   },
   {
    "duration": 26,
    "start_time": "2021-10-23T13:26:06.052Z"
   },
   {
    "duration": 12,
    "start_time": "2021-10-23T13:26:06.081Z"
   },
   {
    "duration": 16,
    "start_time": "2021-10-23T13:26:06.095Z"
   },
   {
    "duration": 18,
    "start_time": "2021-10-23T13:26:06.113Z"
   },
   {
    "duration": 4,
    "start_time": "2021-10-23T13:26:06.132Z"
   },
   {
    "duration": 27,
    "start_time": "2021-10-23T13:26:06.137Z"
   },
   {
    "duration": 30,
    "start_time": "2021-10-23T13:26:06.165Z"
   },
   {
    "duration": 11,
    "start_time": "2021-10-23T13:26:06.196Z"
   },
   {
    "duration": 95,
    "start_time": "2021-10-23T13:26:06.209Z"
   },
   {
    "duration": 11,
    "start_time": "2021-10-23T13:26:06.306Z"
   },
   {
    "duration": 5,
    "start_time": "2021-10-23T13:26:06.318Z"
   },
   {
    "duration": 16,
    "start_time": "2021-10-23T13:26:06.597Z"
   },
   {
    "duration": 18,
    "start_time": "2021-10-23T13:26:06.745Z"
   },
   {
    "duration": 5,
    "start_time": "2021-10-23T13:26:06.887Z"
   },
   {
    "duration": 30,
    "start_time": "2021-10-23T13:26:07.361Z"
   },
   {
    "duration": 9,
    "start_time": "2021-10-23T13:26:07.822Z"
   },
   {
    "duration": 20,
    "start_time": "2021-10-23T13:26:08.289Z"
   },
   {
    "duration": 12,
    "start_time": "2021-10-23T13:26:08.430Z"
   },
   {
    "duration": 26,
    "start_time": "2021-10-23T13:26:10.169Z"
   },
   {
    "duration": 36,
    "start_time": "2021-10-23T13:26:10.335Z"
   },
   {
    "duration": 27,
    "start_time": "2021-10-23T13:26:10.504Z"
   },
   {
    "duration": 107,
    "start_time": "2021-10-23T13:26:10.670Z"
   },
   {
    "duration": 108,
    "start_time": "2021-10-23T13:26:10.844Z"
   },
   {
    "duration": 105,
    "start_time": "2021-10-23T13:26:10.976Z"
   },
   {
    "duration": 82,
    "start_time": "2021-10-23T13:26:11.144Z"
   },
   {
    "duration": 147,
    "start_time": "2021-10-23T13:26:11.465Z"
   },
   {
    "duration": 151,
    "start_time": "2021-10-23T13:26:11.635Z"
   },
   {
    "duration": 158,
    "start_time": "2021-10-23T13:26:12.617Z"
   },
   {
    "duration": 105,
    "start_time": "2021-10-23T13:26:13.884Z"
   },
   {
    "duration": 2,
    "start_time": "2021-10-23T13:26:14.005Z"
   },
   {
    "duration": 5,
    "start_time": "2021-10-23T13:26:14.177Z"
   },
   {
    "duration": 10,
    "start_time": "2021-10-23T13:26:14.347Z"
   },
   {
    "duration": 4,
    "start_time": "2021-10-23T13:26:14.517Z"
   },
   {
    "duration": 185,
    "start_time": "2021-10-23T13:26:15.843Z"
   },
   {
    "duration": 18,
    "start_time": "2021-10-23T13:26:17.658Z"
   },
   {
    "duration": 274,
    "start_time": "2021-10-23T13:26:20.721Z"
   },
   {
    "duration": 6,
    "start_time": "2021-10-23T13:26:20.997Z"
   },
   {
    "duration": 216,
    "start_time": "2021-10-23T13:26:21.005Z"
   },
   {
    "duration": 74,
    "start_time": "2021-10-23T13:26:23.365Z"
   },
   {
    "duration": 3,
    "start_time": "2021-10-23T13:26:23.516Z"
   },
   {
    "duration": 93,
    "start_time": "2021-10-23T13:26:23.759Z"
   },
   {
    "duration": 44,
    "start_time": "2021-10-23T13:26:25.669Z"
   },
   {
    "duration": 50,
    "start_time": "2021-10-23T13:26:26.577Z"
   },
   {
    "duration": 54,
    "start_time": "2021-10-23T13:26:29.430Z"
   },
   {
    "duration": 12,
    "start_time": "2021-10-23T13:26:30.407Z"
   },
   {
    "duration": 243,
    "start_time": "2021-10-23T13:26:31.116Z"
   },
   {
    "duration": 17,
    "start_time": "2021-10-23T13:26:32.487Z"
   },
   {
    "duration": 12,
    "start_time": "2021-10-23T13:26:38.829Z"
   },
   {
    "duration": 552,
    "start_time": "2021-10-23T13:26:55.821Z"
   },
   {
    "duration": 497,
    "start_time": "2021-10-23T13:27:08.188Z"
   },
   {
    "duration": 12,
    "start_time": "2021-10-23T13:27:11.958Z"
   },
   {
    "duration": 499,
    "start_time": "2021-10-23T13:27:15.990Z"
   },
   {
    "duration": 55,
    "start_time": "2021-10-23T13:27:26.795Z"
   },
   {
    "duration": 216,
    "start_time": "2021-10-23T13:27:29.303Z"
   },
   {
    "duration": 17,
    "start_time": "2021-10-23T13:27:31.335Z"
   },
   {
    "duration": 12,
    "start_time": "2021-10-23T13:28:08.835Z"
   },
   {
    "duration": 1163,
    "start_time": "2021-10-23T13:28:25.686Z"
   },
   {
    "duration": 2,
    "start_time": "2021-10-23T13:28:26.851Z"
   },
   {
    "duration": 1100,
    "start_time": "2021-10-23T13:28:26.855Z"
   },
   {
    "duration": 104,
    "start_time": "2021-10-23T13:28:27.957Z"
   },
   {
    "duration": 3,
    "start_time": "2021-10-23T13:28:28.062Z"
   },
   {
    "duration": 168,
    "start_time": "2021-10-23T13:28:28.066Z"
   },
   {
    "duration": 23,
    "start_time": "2021-10-23T13:28:28.236Z"
   },
   {
    "duration": 3,
    "start_time": "2021-10-23T13:28:28.261Z"
   },
   {
    "duration": 29,
    "start_time": "2021-10-23T13:28:28.266Z"
   },
   {
    "duration": 18,
    "start_time": "2021-10-23T13:28:28.297Z"
   },
   {
    "duration": 4,
    "start_time": "2021-10-23T13:28:28.316Z"
   },
   {
    "duration": 32,
    "start_time": "2021-10-23T13:28:28.321Z"
   },
   {
    "duration": 6,
    "start_time": "2021-10-23T13:28:28.354Z"
   },
   {
    "duration": 31,
    "start_time": "2021-10-23T13:28:28.361Z"
   },
   {
    "duration": 77,
    "start_time": "2021-10-23T13:28:28.393Z"
   },
   {
    "duration": 22,
    "start_time": "2021-10-23T13:28:28.472Z"
   },
   {
    "duration": 5,
    "start_time": "2021-10-23T13:28:28.505Z"
   },
   {
    "duration": 15,
    "start_time": "2021-10-23T13:28:28.837Z"
   },
   {
    "duration": 18,
    "start_time": "2021-10-23T13:28:28.986Z"
   },
   {
    "duration": 6,
    "start_time": "2021-10-23T13:28:29.135Z"
   },
   {
    "duration": 32,
    "start_time": "2021-10-23T13:28:29.595Z"
   },
   {
    "duration": 8,
    "start_time": "2021-10-23T13:28:30.047Z"
   },
   {
    "duration": 22,
    "start_time": "2021-10-23T13:28:30.523Z"
   },
   {
    "duration": 13,
    "start_time": "2021-10-23T13:28:30.665Z"
   },
   {
    "duration": 23,
    "start_time": "2021-10-23T13:28:32.385Z"
   },
   {
    "duration": 33,
    "start_time": "2021-10-23T13:28:32.541Z"
   },
   {
    "duration": 26,
    "start_time": "2021-10-23T13:28:32.691Z"
   },
   {
    "duration": 103,
    "start_time": "2021-10-23T13:28:32.858Z"
   },
   {
    "duration": 111,
    "start_time": "2021-10-23T13:28:33.028Z"
   },
   {
    "duration": 103,
    "start_time": "2021-10-23T13:28:33.176Z"
   },
   {
    "duration": 81,
    "start_time": "2021-10-23T13:28:33.341Z"
   },
   {
    "duration": 147,
    "start_time": "2021-10-23T13:28:33.664Z"
   },
   {
    "duration": 148,
    "start_time": "2021-10-23T13:28:33.829Z"
   },
   {
    "duration": 158,
    "start_time": "2021-10-23T13:28:34.835Z"
   },
   {
    "duration": 105,
    "start_time": "2021-10-23T13:28:36.185Z"
   },
   {
    "duration": 3,
    "start_time": "2021-10-23T13:28:36.333Z"
   },
   {
    "duration": 6,
    "start_time": "2021-10-23T13:28:36.501Z"
   },
   {
    "duration": 9,
    "start_time": "2021-10-23T13:28:36.677Z"
   },
   {
    "duration": 5,
    "start_time": "2021-10-23T13:28:36.837Z"
   },
   {
    "duration": 188,
    "start_time": "2021-10-23T13:28:37.503Z"
   },
   {
    "duration": 18,
    "start_time": "2021-10-23T13:28:38.710Z"
   },
   {
    "duration": 256,
    "start_time": "2021-10-23T13:28:38.875Z"
   },
   {
    "duration": 8,
    "start_time": "2021-10-23T13:28:39.939Z"
   },
   {
    "duration": 199,
    "start_time": "2021-10-23T13:28:40.792Z"
   },
   {
    "duration": 76,
    "start_time": "2021-10-23T13:28:42.225Z"
   },
   {
    "duration": 3,
    "start_time": "2021-10-23T13:28:42.437Z"
   },
   {
    "duration": 95,
    "start_time": "2021-10-23T13:28:42.589Z"
   },
   {
    "duration": 41,
    "start_time": "2021-10-23T13:28:42.880Z"
   },
   {
    "duration": 48,
    "start_time": "2021-10-23T13:28:43.154Z"
   },
   {
    "duration": 46,
    "start_time": "2021-10-23T13:28:43.334Z"
   },
   {
    "duration": 11,
    "start_time": "2021-10-23T13:28:43.632Z"
   },
   {
    "duration": 241,
    "start_time": "2021-10-23T13:28:43.914Z"
   },
   {
    "duration": 17,
    "start_time": "2021-10-23T13:28:44.157Z"
   },
   {
    "duration": 13,
    "start_time": "2021-10-23T13:28:44.369Z"
   },
   {
    "duration": 1154,
    "start_time": "2021-10-23T13:29:01.555Z"
   },
   {
    "duration": 3,
    "start_time": "2021-10-23T13:29:02.711Z"
   },
   {
    "duration": 1016,
    "start_time": "2021-10-23T13:29:02.715Z"
   },
   {
    "duration": 105,
    "start_time": "2021-10-23T13:29:03.733Z"
   },
   {
    "duration": 2,
    "start_time": "2021-10-23T13:29:03.839Z"
   },
   {
    "duration": 169,
    "start_time": "2021-10-23T13:29:03.843Z"
   },
   {
    "duration": 24,
    "start_time": "2021-10-23T13:29:04.014Z"
   },
   {
    "duration": 2,
    "start_time": "2021-10-23T13:29:04.040Z"
   },
   {
    "duration": 16,
    "start_time": "2021-10-23T13:29:04.043Z"
   },
   {
    "duration": 38,
    "start_time": "2021-10-23T13:29:04.061Z"
   },
   {
    "duration": 4,
    "start_time": "2021-10-23T13:29:04.100Z"
   },
   {
    "duration": 26,
    "start_time": "2021-10-23T13:29:04.105Z"
   },
   {
    "duration": 5,
    "start_time": "2021-10-23T13:29:04.132Z"
   },
   {
    "duration": 6,
    "start_time": "2021-10-23T13:29:04.139Z"
   },
   {
    "duration": 96,
    "start_time": "2021-10-23T13:29:04.147Z"
   },
   {
    "duration": 10,
    "start_time": "2021-10-23T13:29:04.244Z"
   },
   {
    "duration": 6,
    "start_time": "2021-10-23T13:29:04.379Z"
   },
   {
    "duration": 14,
    "start_time": "2021-10-23T13:29:04.658Z"
   },
   {
    "duration": 18,
    "start_time": "2021-10-23T13:29:04.829Z"
   },
   {
    "duration": 6,
    "start_time": "2021-10-23T13:29:04.954Z"
   },
   {
    "duration": 29,
    "start_time": "2021-10-23T13:29:05.476Z"
   },
   {
    "duration": 8,
    "start_time": "2021-10-23T13:29:05.948Z"
   },
   {
    "duration": 20,
    "start_time": "2021-10-23T13:29:06.476Z"
   },
   {
    "duration": 13,
    "start_time": "2021-10-23T13:29:06.630Z"
   },
   {
    "duration": 25,
    "start_time": "2021-10-23T13:29:08.535Z"
   },
   {
    "duration": 33,
    "start_time": "2021-10-23T13:29:08.710Z"
   },
   {
    "duration": 26,
    "start_time": "2021-10-23T13:29:08.890Z"
   },
   {
    "duration": 106,
    "start_time": "2021-10-23T13:29:09.055Z"
   },
   {
    "duration": 106,
    "start_time": "2021-10-23T13:29:09.242Z"
   },
   {
    "duration": 104,
    "start_time": "2021-10-23T13:29:09.428Z"
   },
   {
    "duration": 81,
    "start_time": "2021-10-23T13:29:09.603Z"
   },
   {
    "duration": 151,
    "start_time": "2021-10-23T13:29:09.922Z"
   },
   {
    "duration": 147,
    "start_time": "2021-10-23T13:29:10.101Z"
   },
   {
    "duration": 155,
    "start_time": "2021-10-23T13:29:11.225Z"
   },
   {
    "duration": 108,
    "start_time": "2021-10-23T13:29:13.080Z"
   },
   {
    "duration": 2,
    "start_time": "2021-10-23T13:29:13.325Z"
   },
   {
    "duration": 6,
    "start_time": "2021-10-23T13:29:13.593Z"
   },
   {
    "duration": 10,
    "start_time": "2021-10-23T13:29:13.838Z"
   },
   {
    "duration": 5,
    "start_time": "2021-10-23T13:29:14.081Z"
   },
   {
    "duration": 195,
    "start_time": "2021-10-23T13:29:15.154Z"
   },
   {
    "duration": 18,
    "start_time": "2021-10-23T13:29:17.322Z"
   },
   {
    "duration": 251,
    "start_time": "2021-10-23T13:29:18.179Z"
   },
   {
    "duration": 7,
    "start_time": "2021-10-23T13:29:21.013Z"
   },
   {
    "duration": 191,
    "start_time": "2021-10-23T13:29:22.879Z"
   },
   {
    "duration": 77,
    "start_time": "2021-10-23T13:29:26.220Z"
   },
   {
    "duration": 3,
    "start_time": "2021-10-23T13:29:26.437Z"
   },
   {
    "duration": 99,
    "start_time": "2021-10-23T13:29:27.081Z"
   },
   {
    "duration": 45,
    "start_time": "2021-10-23T13:29:27.259Z"
   },
   {
    "duration": 50,
    "start_time": "2021-10-23T13:29:27.473Z"
   },
   {
    "duration": 48,
    "start_time": "2021-10-23T13:29:28.867Z"
   },
   {
    "duration": 11,
    "start_time": "2021-10-23T13:29:29.834Z"
   },
   {
    "duration": 240,
    "start_time": "2021-10-23T13:29:30.666Z"
   },
   {
    "duration": 17,
    "start_time": "2021-10-23T13:29:31.124Z"
   },
   {
    "duration": 13,
    "start_time": "2021-10-23T13:29:32.131Z"
   },
   {
    "duration": 17,
    "start_time": "2021-10-23T13:29:40.153Z"
   },
   {
    "duration": 212,
    "start_time": "2021-10-23T13:30:18.169Z"
   },
   {
    "duration": 4219,
    "start_time": "2021-10-23T13:30:19.747Z"
   },
   {
    "duration": 13,
    "start_time": "2021-10-23T13:30:37.719Z"
   },
   {
    "duration": 12,
    "start_time": "2021-10-23T13:31:01.961Z"
   },
   {
    "duration": 4186,
    "start_time": "2021-10-23T13:31:02.691Z"
   },
   {
    "duration": 3,
    "start_time": "2021-10-23T13:31:14.164Z"
   },
   {
    "duration": 91,
    "start_time": "2021-10-23T13:31:14.825Z"
   },
   {
    "duration": 10,
    "start_time": "2021-10-23T13:31:15.513Z"
   },
   {
    "duration": 49,
    "start_time": "2021-10-23T13:31:16.176Z"
   },
   {
    "duration": 49,
    "start_time": "2021-10-23T13:31:16.823Z"
   },
   {
    "duration": 11,
    "start_time": "2021-10-23T13:31:18.392Z"
   },
   {
    "duration": 4171,
    "start_time": "2021-10-23T13:31:18.405Z"
   },
   {
    "duration": 18,
    "start_time": "2021-10-23T13:32:31.693Z"
   },
   {
    "duration": 127,
    "start_time": "2021-10-23T13:32:33.423Z"
   },
   {
    "duration": 13,
    "start_time": "2021-10-23T13:32:37.547Z"
   },
   {
    "duration": 6393,
    "start_time": "2021-10-23T13:32:43.688Z"
   },
   {
    "duration": 11,
    "start_time": "2021-10-23T13:32:55.463Z"
   },
   {
    "duration": 4204,
    "start_time": "2021-10-23T13:32:59.752Z"
   },
   {
    "duration": 4237,
    "start_time": "2021-10-23T13:33:20.010Z"
   },
   {
    "duration": 186,
    "start_time": "2021-10-23T13:33:24.063Z"
   },
   {
    "duration": 13,
    "start_time": "2021-10-23T13:33:24.909Z"
   },
   {
    "duration": 4247,
    "start_time": "2021-10-23T13:33:25.762Z"
   },
   {
    "duration": 203,
    "start_time": "2021-10-23T13:33:29.808Z"
   },
   {
    "duration": 48,
    "start_time": "2021-10-23T13:33:30.056Z"
   },
   {
    "duration": 47,
    "start_time": "2021-10-23T13:33:30.723Z"
   },
   {
    "duration": 10,
    "start_time": "2021-10-23T13:33:32.044Z"
   },
   {
    "duration": 46,
    "start_time": "2021-10-23T13:33:32.878Z"
   },
   {
    "duration": 48,
    "start_time": "2021-10-23T13:33:33.636Z"
   },
   {
    "duration": 12,
    "start_time": "2021-10-23T13:33:34.355Z"
   },
   {
    "duration": 12,
    "start_time": "2021-10-23T13:33:37.058Z"
   },
   {
    "duration": 18,
    "start_time": "2021-10-23T13:33:37.670Z"
   },
   {
    "duration": 94,
    "start_time": "2021-10-23T13:33:38.401Z"
   },
   {
    "duration": 13,
    "start_time": "2021-10-23T13:33:39.337Z"
   },
   {
    "duration": 4279,
    "start_time": "2021-10-23T13:33:40.363Z"
   },
   {
    "duration": 197,
    "start_time": "2021-10-23T13:34:06.944Z"
   },
   {
    "duration": 4174,
    "start_time": "2021-10-23T13:34:12.083Z"
   },
   {
    "duration": 3,
    "start_time": "2021-10-23T13:34:32.434Z"
   },
   {
    "duration": 2,
    "start_time": "2021-10-23T13:34:32.572Z"
   },
   {
    "duration": 587,
    "start_time": "2021-10-23T13:34:32.718Z"
   },
   {
    "duration": 84,
    "start_time": "2021-10-23T13:34:33.306Z"
   },
   {
    "duration": 3,
    "start_time": "2021-10-23T13:34:33.392Z"
   },
   {
    "duration": 149,
    "start_time": "2021-10-23T13:34:33.396Z"
   },
   {
    "duration": 24,
    "start_time": "2021-10-23T13:34:33.551Z"
   },
   {
    "duration": 3,
    "start_time": "2021-10-23T13:34:33.645Z"
   },
   {
    "duration": 13,
    "start_time": "2021-10-23T13:34:33.894Z"
   },
   {
    "duration": 20,
    "start_time": "2021-10-23T13:34:34.025Z"
   },
   {
    "duration": 5,
    "start_time": "2021-10-23T13:34:34.182Z"
   },
   {
    "duration": 23,
    "start_time": "2021-10-23T13:34:34.369Z"
   },
   {
    "duration": 6,
    "start_time": "2021-10-23T13:34:34.437Z"
   },
   {
    "duration": 7,
    "start_time": "2021-10-23T13:34:34.581Z"
   },
   {
    "duration": 66,
    "start_time": "2021-10-23T13:34:34.843Z"
   },
   {
    "duration": 10,
    "start_time": "2021-10-23T13:34:34.991Z"
   },
   {
    "duration": 6,
    "start_time": "2021-10-23T13:34:35.141Z"
   },
   {
    "duration": 14,
    "start_time": "2021-10-23T13:34:35.401Z"
   },
   {
    "duration": 16,
    "start_time": "2021-10-23T13:34:35.600Z"
   },
   {
    "duration": 5,
    "start_time": "2021-10-23T13:34:35.737Z"
   },
   {
    "duration": 32,
    "start_time": "2021-10-23T13:34:36.208Z"
   },
   {
    "duration": 8,
    "start_time": "2021-10-23T13:34:36.661Z"
   },
   {
    "duration": 18,
    "start_time": "2021-10-23T13:34:37.066Z"
   },
   {
    "duration": 12,
    "start_time": "2021-10-23T13:34:37.205Z"
   },
   {
    "duration": 23,
    "start_time": "2021-10-23T13:34:38.941Z"
   },
   {
    "duration": 33,
    "start_time": "2021-10-23T13:34:39.063Z"
   },
   {
    "duration": 25,
    "start_time": "2021-10-23T13:34:39.197Z"
   },
   {
    "duration": 110,
    "start_time": "2021-10-23T13:34:39.373Z"
   },
   {
    "duration": 96,
    "start_time": "2021-10-23T13:34:39.564Z"
   },
   {
    "duration": 102,
    "start_time": "2021-10-23T13:34:39.764Z"
   },
   {
    "duration": 81,
    "start_time": "2021-10-23T13:34:39.941Z"
   },
   {
    "duration": 144,
    "start_time": "2021-10-23T13:34:40.295Z"
   },
   {
    "duration": 213,
    "start_time": "2021-10-23T13:34:40.442Z"
   },
   {
    "duration": 152,
    "start_time": "2021-10-23T13:34:41.859Z"
   },
   {
    "duration": 104,
    "start_time": "2021-10-23T13:34:43.587Z"
   },
   {
    "duration": 3,
    "start_time": "2021-10-23T13:34:43.706Z"
   },
   {
    "duration": 4,
    "start_time": "2021-10-23T13:34:43.837Z"
   },
   {
    "duration": 9,
    "start_time": "2021-10-23T13:34:43.988Z"
   },
   {
    "duration": 4,
    "start_time": "2021-10-23T13:34:44.136Z"
   },
   {
    "duration": 178,
    "start_time": "2021-10-23T13:34:44.756Z"
   },
   {
    "duration": 18,
    "start_time": "2021-10-23T13:34:46.342Z"
   },
   {
    "duration": 254,
    "start_time": "2021-10-23T13:34:46.475Z"
   },
   {
    "duration": 6,
    "start_time": "2021-10-23T13:34:47.412Z"
   },
   {
    "duration": 192,
    "start_time": "2021-10-23T13:34:48.092Z"
   },
   {
    "duration": 73,
    "start_time": "2021-10-23T13:34:49.309Z"
   },
   {
    "duration": 3,
    "start_time": "2021-10-23T13:34:49.539Z"
   },
   {
    "duration": 105,
    "start_time": "2021-10-23T13:34:50.436Z"
   },
   {
    "duration": 42,
    "start_time": "2021-10-23T13:34:50.814Z"
   },
   {
    "duration": 49,
    "start_time": "2021-10-23T13:34:51.048Z"
   },
   {
    "duration": 51,
    "start_time": "2021-10-23T13:34:51.718Z"
   },
   {
    "duration": 12,
    "start_time": "2021-10-23T13:34:52.352Z"
   },
   {
    "duration": 20,
    "start_time": "2021-10-23T13:34:52.777Z"
   },
   {
    "duration": 117,
    "start_time": "2021-10-23T13:34:53.468Z"
   },
   {
    "duration": 10,
    "start_time": "2021-10-23T13:34:54.556Z"
   },
   {
    "duration": 4107,
    "start_time": "2021-10-23T13:34:55.529Z"
   },
   {
    "duration": 185,
    "start_time": "2021-10-23T13:35:14.417Z"
   },
   {
    "duration": 185,
    "start_time": "2021-10-23T13:35:25.459Z"
   },
   {
    "duration": 5139,
    "start_time": "2021-10-23T13:35:30.020Z"
   },
   {
    "duration": 4411,
    "start_time": "2021-10-23T13:35:47.224Z"
   },
   {
    "duration": 11,
    "start_time": "2021-10-23T13:36:04.265Z"
   },
   {
    "duration": 1066,
    "start_time": "2021-10-23T13:36:13.367Z"
   },
   {
    "duration": 2,
    "start_time": "2021-10-23T13:36:14.435Z"
   },
   {
    "duration": 610,
    "start_time": "2021-10-23T13:36:14.439Z"
   },
   {
    "duration": 105,
    "start_time": "2021-10-23T13:36:15.051Z"
   },
   {
    "duration": 2,
    "start_time": "2021-10-23T13:36:15.158Z"
   },
   {
    "duration": 171,
    "start_time": "2021-10-23T13:36:15.161Z"
   },
   {
    "duration": 23,
    "start_time": "2021-10-23T13:36:15.334Z"
   },
   {
    "duration": 2,
    "start_time": "2021-10-23T13:36:15.360Z"
   },
   {
    "duration": 28,
    "start_time": "2021-10-23T13:36:15.363Z"
   },
   {
    "duration": 19,
    "start_time": "2021-10-23T13:36:15.393Z"
   },
   {
    "duration": 4,
    "start_time": "2021-10-23T13:36:15.414Z"
   },
   {
    "duration": 28,
    "start_time": "2021-10-23T13:36:15.419Z"
   },
   {
    "duration": 5,
    "start_time": "2021-10-23T13:36:15.448Z"
   },
   {
    "duration": 9,
    "start_time": "2021-10-23T13:36:15.454Z"
   },
   {
    "duration": 75,
    "start_time": "2021-10-23T13:36:15.652Z"
   },
   {
    "duration": 10,
    "start_time": "2021-10-23T13:36:15.811Z"
   },
   {
    "duration": 6,
    "start_time": "2021-10-23T13:36:15.970Z"
   },
   {
    "duration": 16,
    "start_time": "2021-10-23T13:36:16.245Z"
   },
   {
    "duration": 18,
    "start_time": "2021-10-23T13:36:16.392Z"
   },
   {
    "duration": 6,
    "start_time": "2021-10-23T13:36:16.552Z"
   },
   {
    "duration": 32,
    "start_time": "2021-10-23T13:36:16.988Z"
   },
   {
    "duration": 10,
    "start_time": "2021-10-23T13:36:17.430Z"
   },
   {
    "duration": 20,
    "start_time": "2021-10-23T13:36:17.838Z"
   },
   {
    "duration": 13,
    "start_time": "2021-10-23T13:36:17.974Z"
   },
   {
    "duration": 29,
    "start_time": "2021-10-23T13:36:20.049Z"
   },
   {
    "duration": 50,
    "start_time": "2021-10-23T13:36:20.080Z"
   },
   {
    "duration": 24,
    "start_time": "2021-10-23T13:36:20.133Z"
   },
   {
    "duration": 119,
    "start_time": "2021-10-23T13:36:20.159Z"
   },
   {
    "duration": 117,
    "start_time": "2021-10-23T13:36:20.280Z"
   },
   {
    "duration": 113,
    "start_time": "2021-10-23T13:36:20.399Z"
   },
   {
    "duration": 95,
    "start_time": "2021-10-23T13:36:20.514Z"
   },
   {
    "duration": 150,
    "start_time": "2021-10-23T13:36:20.729Z"
   },
   {
    "duration": 158,
    "start_time": "2021-10-23T13:36:20.881Z"
   },
   {
    "duration": 162,
    "start_time": "2021-10-23T13:36:21.757Z"
   },
   {
    "duration": 104,
    "start_time": "2021-10-23T13:36:23.016Z"
   },
   {
    "duration": 3,
    "start_time": "2021-10-23T13:36:23.175Z"
   },
   {
    "duration": 6,
    "start_time": "2021-10-23T13:36:23.309Z"
   },
   {
    "duration": 9,
    "start_time": "2021-10-23T13:36:23.449Z"
   },
   {
    "duration": 5,
    "start_time": "2021-10-23T13:36:23.614Z"
   },
   {
    "duration": 195,
    "start_time": "2021-10-23T13:36:24.192Z"
   },
   {
    "duration": 16,
    "start_time": "2021-10-23T13:36:25.349Z"
   },
   {
    "duration": 263,
    "start_time": "2021-10-23T13:36:25.491Z"
   },
   {
    "duration": 7,
    "start_time": "2021-10-23T13:36:26.904Z"
   },
   {
    "duration": 207,
    "start_time": "2021-10-23T13:36:28.045Z"
   },
   {
    "duration": 76,
    "start_time": "2021-10-23T13:36:29.838Z"
   },
   {
    "duration": 3,
    "start_time": "2021-10-23T13:36:30.066Z"
   },
   {
    "duration": 99,
    "start_time": "2021-10-23T13:36:30.354Z"
   },
   {
    "duration": 45,
    "start_time": "2021-10-23T13:36:30.613Z"
   },
   {
    "duration": 50,
    "start_time": "2021-10-23T13:36:30.806Z"
   },
   {
    "duration": 49,
    "start_time": "2021-10-23T13:36:31.120Z"
   },
   {
    "duration": 12,
    "start_time": "2021-10-23T13:36:31.395Z"
   },
   {
    "duration": 18,
    "start_time": "2021-10-23T13:36:31.749Z"
   },
   {
    "duration": 120,
    "start_time": "2021-10-23T13:36:32.098Z"
   },
   {
    "duration": 11,
    "start_time": "2021-10-23T13:36:32.322Z"
   },
   {
    "duration": 5096,
    "start_time": "2021-10-23T13:36:32.546Z"
   },
   {
    "duration": 2,
    "start_time": "2021-10-23T13:36:46.364Z"
   },
   {
    "duration": 141,
    "start_time": "2021-10-23T13:37:31.650Z"
   },
   {
    "duration": 72,
    "start_time": "2021-10-23T13:37:35.429Z"
   },
   {
    "duration": 4676,
    "start_time": "2021-10-23T13:38:28.314Z"
   },
   {
    "duration": 4392,
    "start_time": "2021-10-23T13:38:55.742Z"
   },
   {
    "duration": 32,
    "start_time": "2021-10-23T13:39:12.417Z"
   },
   {
    "duration": 12,
    "start_time": "2021-10-23T13:39:15.898Z"
   },
   {
    "duration": 32,
    "start_time": "2021-10-23T13:39:42.800Z"
   },
   {
    "duration": 26,
    "start_time": "2021-10-23T13:39:52.636Z"
   },
   {
    "duration": 33,
    "start_time": "2021-10-23T13:39:57.438Z"
   },
   {
    "duration": 34,
    "start_time": "2021-10-23T13:40:02.806Z"
   },
   {
    "duration": 34,
    "start_time": "2021-10-23T13:40:06.850Z"
   },
   {
    "duration": 1669,
    "start_time": "2021-10-24T13:37:54.402Z"
   },
   {
    "duration": 3,
    "start_time": "2021-10-24T13:37:56.074Z"
   },
   {
    "duration": 912,
    "start_time": "2021-10-24T13:37:56.080Z"
   },
   {
    "duration": 137,
    "start_time": "2021-10-24T13:37:56.994Z"
   },
   {
    "duration": 4,
    "start_time": "2021-10-24T13:37:57.133Z"
   },
   {
    "duration": 239,
    "start_time": "2021-10-24T13:37:57.139Z"
   },
   {
    "duration": 43,
    "start_time": "2021-10-24T13:37:57.381Z"
   },
   {
    "duration": 4,
    "start_time": "2021-10-24T13:37:57.427Z"
   },
   {
    "duration": 37,
    "start_time": "2021-10-24T13:37:57.434Z"
   },
   {
    "duration": 43,
    "start_time": "2021-10-24T13:37:57.473Z"
   },
   {
    "duration": 8,
    "start_time": "2021-10-24T13:37:57.519Z"
   },
   {
    "duration": 47,
    "start_time": "2021-10-24T13:37:57.529Z"
   },
   {
    "duration": 9,
    "start_time": "2021-10-24T13:37:57.579Z"
   },
   {
    "duration": 33,
    "start_time": "2021-10-24T13:37:57.591Z"
   },
   {
    "duration": 171,
    "start_time": "2021-10-24T13:37:57.627Z"
   },
   {
    "duration": 26,
    "start_time": "2021-10-24T13:37:57.801Z"
   },
   {
    "duration": 8,
    "start_time": "2021-10-24T13:37:57.829Z"
   },
   {
    "duration": 25,
    "start_time": "2021-10-24T13:37:57.839Z"
   },
   {
    "duration": 56,
    "start_time": "2021-10-24T13:37:57.866Z"
   },
   {
    "duration": 7,
    "start_time": "2021-10-24T13:37:57.925Z"
   },
   {
    "duration": 43,
    "start_time": "2021-10-24T13:37:57.934Z"
   },
   {
    "duration": 11,
    "start_time": "2021-10-24T13:37:57.979Z"
   },
   {
    "duration": 27,
    "start_time": "2021-10-24T13:37:58.026Z"
   },
   {
    "duration": 18,
    "start_time": "2021-10-24T13:37:58.057Z"
   },
   {
    "duration": 59,
    "start_time": "2021-10-24T13:37:58.077Z"
   },
   {
    "duration": 45,
    "start_time": "2021-10-24T13:37:58.138Z"
   },
   {
    "duration": 50,
    "start_time": "2021-10-24T13:37:58.186Z"
   },
   {
    "duration": 189,
    "start_time": "2021-10-24T13:37:58.239Z"
   },
   {
    "duration": 159,
    "start_time": "2021-10-24T13:37:58.431Z"
   },
   {
    "duration": 157,
    "start_time": "2021-10-24T13:37:58.593Z"
   },
   {
    "duration": 120,
    "start_time": "2021-10-24T13:37:58.753Z"
   },
   {
    "duration": 255,
    "start_time": "2021-10-24T13:37:58.875Z"
   },
   {
    "duration": 275,
    "start_time": "2021-10-24T13:37:59.133Z"
   },
   {
    "duration": 291,
    "start_time": "2021-10-24T13:37:59.411Z"
   },
   {
    "duration": 162,
    "start_time": "2021-10-24T13:37:59.705Z"
   },
   {
    "duration": 4,
    "start_time": "2021-10-24T13:37:59.870Z"
   },
   {
    "duration": 12,
    "start_time": "2021-10-24T13:37:59.876Z"
   },
   {
    "duration": 35,
    "start_time": "2021-10-24T13:37:59.890Z"
   },
   {
    "duration": 7,
    "start_time": "2021-10-24T13:37:59.927Z"
   },
   {
    "duration": 328,
    "start_time": "2021-10-24T13:37:59.936Z"
   },
   {
    "duration": 22,
    "start_time": "2021-10-24T13:38:00.266Z"
   },
   {
    "duration": 447,
    "start_time": "2021-10-24T13:38:00.290Z"
   },
   {
    "duration": 10,
    "start_time": "2021-10-24T13:38:00.740Z"
   },
   {
    "duration": 328,
    "start_time": "2021-10-24T13:38:00.752Z"
   },
   {
    "duration": 141,
    "start_time": "2021-10-24T13:38:01.083Z"
   },
   {
    "duration": 3,
    "start_time": "2021-10-24T13:38:01.227Z"
   },
   {
    "duration": 189,
    "start_time": "2021-10-24T13:38:01.232Z"
   },
   {
    "duration": 71,
    "start_time": "2021-10-24T13:38:01.424Z"
   },
   {
    "duration": 89,
    "start_time": "2021-10-24T13:38:01.498Z"
   },
   {
    "duration": 77,
    "start_time": "2021-10-24T13:38:01.589Z"
   },
   {
    "duration": 12,
    "start_time": "2021-10-24T13:38:01.668Z"
   },
   {
    "duration": 43,
    "start_time": "2021-10-24T13:38:01.683Z"
   },
   {
    "duration": 162,
    "start_time": "2021-10-24T13:38:01.729Z"
   },
   {
    "duration": 28,
    "start_time": "2021-10-24T13:38:01.894Z"
   },
   {
    "duration": 218,
    "start_time": "2021-10-24T13:38:01.925Z"
   },
   {
    "duration": 473,
    "start_time": "2021-10-24T13:38:02.145Z"
   },
   {
    "duration": 699,
    "start_time": "2021-10-24T13:38:01.923Z"
   },
   {
    "duration": 598,
    "start_time": "2021-10-24T13:38:02.026Z"
   },
   {
    "duration": 590,
    "start_time": "2021-10-24T13:38:02.035Z"
   },
   {
    "duration": 586,
    "start_time": "2021-10-24T13:38:02.041Z"
   },
   {
    "duration": 581,
    "start_time": "2021-10-24T13:38:02.047Z"
   },
   {
    "duration": 577,
    "start_time": "2021-10-24T13:38:02.053Z"
   },
   {
    "duration": 572,
    "start_time": "2021-10-24T13:38:02.059Z"
   },
   {
    "duration": 567,
    "start_time": "2021-10-24T13:38:02.065Z"
   },
   {
    "duration": 561,
    "start_time": "2021-10-24T13:38:02.072Z"
   },
   {
    "duration": 557,
    "start_time": "2021-10-24T13:38:02.077Z"
   },
   {
    "duration": 553,
    "start_time": "2021-10-24T13:38:02.083Z"
   },
   {
    "duration": 549,
    "start_time": "2021-10-24T13:38:02.088Z"
   },
   {
    "duration": 545,
    "start_time": "2021-10-24T13:38:02.094Z"
   },
   {
    "duration": 540,
    "start_time": "2021-10-24T13:38:02.100Z"
   },
   {
    "duration": 531,
    "start_time": "2021-10-24T13:38:02.111Z"
   },
   {
    "duration": 526,
    "start_time": "2021-10-24T13:38:02.117Z"
   },
   {
    "duration": 508,
    "start_time": "2021-10-24T13:38:02.136Z"
   },
   {
    "duration": 504,
    "start_time": "2021-10-24T13:38:02.142Z"
   },
   {
    "duration": 498,
    "start_time": "2021-10-24T13:38:02.149Z"
   },
   {
    "duration": 493,
    "start_time": "2021-10-24T13:38:02.155Z"
   },
   {
    "duration": 489,
    "start_time": "2021-10-24T13:38:02.161Z"
   },
   {
    "duration": 484,
    "start_time": "2021-10-24T13:38:02.167Z"
   },
   {
    "duration": 480,
    "start_time": "2021-10-24T13:38:02.173Z"
   },
   {
    "duration": 475,
    "start_time": "2021-10-24T13:38:02.179Z"
   },
   {
    "duration": 470,
    "start_time": "2021-10-24T13:38:02.185Z"
   },
   {
    "duration": 466,
    "start_time": "2021-10-24T13:38:02.190Z"
   },
   {
    "duration": 462,
    "start_time": "2021-10-24T13:38:02.196Z"
   },
   {
    "duration": 457,
    "start_time": "2021-10-24T13:38:02.202Z"
   },
   {
    "duration": 452,
    "start_time": "2021-10-24T13:38:02.208Z"
   },
   {
    "duration": 449,
    "start_time": "2021-10-24T13:38:02.213Z"
   },
   {
    "duration": 444,
    "start_time": "2021-10-24T13:38:02.219Z"
   },
   {
    "duration": 439,
    "start_time": "2021-10-24T13:38:02.225Z"
   },
   {
    "duration": 491,
    "start_time": "2021-10-24T13:38:02.231Z"
   },
   {
    "duration": 478,
    "start_time": "2021-10-24T13:38:02.246Z"
   },
   {
    "duration": 472,
    "start_time": "2021-10-24T13:38:02.253Z"
   },
   {
    "duration": 469,
    "start_time": "2021-10-24T13:38:02.258Z"
   },
   {
    "duration": 463,
    "start_time": "2021-10-24T13:38:02.265Z"
   },
   {
    "duration": 460,
    "start_time": "2021-10-24T13:38:02.270Z"
   },
   {
    "duration": 455,
    "start_time": "2021-10-24T13:38:02.276Z"
   },
   {
    "duration": 450,
    "start_time": "2021-10-24T13:38:02.282Z"
   },
   {
    "duration": 446,
    "start_time": "2021-10-24T13:38:02.288Z"
   },
   {
    "duration": 428,
    "start_time": "2021-10-24T13:38:02.307Z"
   },
   {
    "duration": 423,
    "start_time": "2021-10-24T13:38:02.313Z"
   },
   {
    "duration": 419,
    "start_time": "2021-10-24T13:38:02.319Z"
   },
   {
    "duration": 414,
    "start_time": "2021-10-24T13:38:02.325Z"
   },
   {
    "duration": 410,
    "start_time": "2021-10-24T13:38:02.331Z"
   },
   {
    "duration": 1580,
    "start_time": "2021-10-24T13:38:34.515Z"
   },
   {
    "duration": 4,
    "start_time": "2021-10-24T13:38:36.097Z"
   },
   {
    "duration": 796,
    "start_time": "2021-10-24T13:38:36.104Z"
   },
   {
    "duration": 139,
    "start_time": "2021-10-24T13:38:36.903Z"
   },
   {
    "duration": 4,
    "start_time": "2021-10-24T13:38:37.044Z"
   },
   {
    "duration": 245,
    "start_time": "2021-10-24T13:38:37.051Z"
   },
   {
    "duration": 40,
    "start_time": "2021-10-24T13:38:37.298Z"
   },
   {
    "duration": 4,
    "start_time": "2021-10-24T13:38:37.341Z"
   },
   {
    "duration": 22,
    "start_time": "2021-10-24T13:38:37.348Z"
   },
   {
    "duration": 54,
    "start_time": "2021-10-24T13:38:37.373Z"
   },
   {
    "duration": 7,
    "start_time": "2021-10-24T13:38:37.429Z"
   },
   {
    "duration": 43,
    "start_time": "2021-10-24T13:38:37.438Z"
   },
   {
    "duration": 9,
    "start_time": "2021-10-24T13:38:37.484Z"
   },
   {
    "duration": 8,
    "start_time": "2021-10-24T13:38:37.522Z"
   },
   {
    "duration": 196,
    "start_time": "2021-10-24T13:38:37.532Z"
   },
   {
    "duration": 20,
    "start_time": "2021-10-24T13:38:37.731Z"
   },
   {
    "duration": 10,
    "start_time": "2021-10-24T13:38:37.754Z"
   },
   {
    "duration": 67,
    "start_time": "2021-10-24T13:38:37.767Z"
   },
   {
    "duration": 39,
    "start_time": "2021-10-24T13:38:37.837Z"
   },
   {
    "duration": 7,
    "start_time": "2021-10-24T13:38:37.879Z"
   },
   {
    "duration": 75,
    "start_time": "2021-10-24T13:38:37.889Z"
   },
   {
    "duration": 14,
    "start_time": "2021-10-24T13:38:37.966Z"
   },
   {
    "duration": 44,
    "start_time": "2021-10-24T13:38:37.993Z"
   },
   {
    "duration": 18,
    "start_time": "2021-10-24T13:38:38.042Z"
   },
   {
    "duration": 37,
    "start_time": "2021-10-24T13:38:38.062Z"
   },
   {
    "duration": 82,
    "start_time": "2021-10-24T13:38:38.102Z"
   },
   {
    "duration": 69,
    "start_time": "2021-10-24T13:38:38.188Z"
   },
   {
    "duration": 210,
    "start_time": "2021-10-24T13:38:38.260Z"
   },
   {
    "duration": 150,
    "start_time": "2021-10-24T13:38:38.472Z"
   },
   {
    "duration": 153,
    "start_time": "2021-10-24T13:38:38.624Z"
   },
   {
    "duration": 114,
    "start_time": "2021-10-24T13:38:38.779Z"
   },
   {
    "duration": 360,
    "start_time": "2021-10-24T13:38:38.896Z"
   },
   {
    "duration": 292,
    "start_time": "2021-10-24T13:38:39.259Z"
   },
   {
    "duration": 305,
    "start_time": "2021-10-24T13:38:39.553Z"
   },
   {
    "duration": 162,
    "start_time": "2021-10-24T13:38:39.860Z"
   },
   {
    "duration": 6,
    "start_time": "2021-10-24T13:38:40.025Z"
   },
   {
    "duration": 11,
    "start_time": "2021-10-24T13:38:40.033Z"
   },
   {
    "duration": 13,
    "start_time": "2021-10-24T13:38:40.047Z"
   },
   {
    "duration": 9,
    "start_time": "2021-10-24T13:38:40.062Z"
   },
   {
    "duration": 442,
    "start_time": "2021-10-24T13:38:40.073Z"
   },
   {
    "duration": 22,
    "start_time": "2021-10-24T13:38:40.517Z"
   },
   {
    "duration": 446,
    "start_time": "2021-10-24T13:38:40.542Z"
   },
   {
    "duration": 11,
    "start_time": "2021-10-24T13:38:40.990Z"
   },
   {
    "duration": 321,
    "start_time": "2021-10-24T13:38:41.003Z"
   },
   {
    "duration": 125,
    "start_time": "2021-10-24T13:38:41.327Z"
   },
   {
    "duration": 4,
    "start_time": "2021-10-24T13:38:41.454Z"
   },
   {
    "duration": 180,
    "start_time": "2021-10-24T13:38:41.460Z"
   },
   {
    "duration": 82,
    "start_time": "2021-10-24T13:38:41.643Z"
   },
   {
    "duration": 68,
    "start_time": "2021-10-24T13:38:41.727Z"
   },
   {
    "duration": 84,
    "start_time": "2021-10-24T13:38:41.797Z"
   },
   {
    "duration": 13,
    "start_time": "2021-10-24T13:38:41.884Z"
   },
   {
    "duration": 42,
    "start_time": "2021-10-24T13:38:41.899Z"
   },
   {
    "duration": 167,
    "start_time": "2021-10-24T13:38:41.943Z"
   },
   {
    "duration": 25,
    "start_time": "2021-10-24T13:38:42.113Z"
   },
   {
    "duration": 221,
    "start_time": "2021-10-24T13:38:42.140Z"
   },
   {
    "duration": 573,
    "start_time": "2021-10-24T13:38:42.363Z"
   },
   {
    "duration": 788,
    "start_time": "2021-10-24T13:38:42.152Z"
   },
   {
    "duration": 776,
    "start_time": "2021-10-24T13:38:42.166Z"
   },
   {
    "duration": 766,
    "start_time": "2021-10-24T13:38:42.177Z"
   },
   {
    "duration": 760,
    "start_time": "2021-10-24T13:38:42.184Z"
   },
   {
    "duration": 752,
    "start_time": "2021-10-24T13:38:42.193Z"
   },
   {
    "duration": 747,
    "start_time": "2021-10-24T13:38:42.200Z"
   },
   {
    "duration": 740,
    "start_time": "2021-10-24T13:38:42.208Z"
   },
   {
    "duration": 736,
    "start_time": "2021-10-24T13:38:42.214Z"
   },
   {
    "duration": 728,
    "start_time": "2021-10-24T13:38:42.223Z"
   },
   {
    "duration": 723,
    "start_time": "2021-10-24T13:38:42.229Z"
   },
   {
    "duration": 717,
    "start_time": "2021-10-24T13:38:42.236Z"
   },
   {
    "duration": 692,
    "start_time": "2021-10-24T13:38:42.263Z"
   },
   {
    "duration": 682,
    "start_time": "2021-10-24T13:38:42.274Z"
   },
   {
    "duration": 677,
    "start_time": "2021-10-24T13:38:42.280Z"
   },
   {
    "duration": 669,
    "start_time": "2021-10-24T13:38:42.289Z"
   },
   {
    "duration": 664,
    "start_time": "2021-10-24T13:38:42.296Z"
   },
   {
    "duration": 656,
    "start_time": "2021-10-24T13:38:42.305Z"
   },
   {
    "duration": 651,
    "start_time": "2021-10-24T13:38:42.311Z"
   },
   {
    "duration": 644,
    "start_time": "2021-10-24T13:38:42.319Z"
   },
   {
    "duration": 638,
    "start_time": "2021-10-24T13:38:42.326Z"
   },
   {
    "duration": 632,
    "start_time": "2021-10-24T13:38:42.334Z"
   },
   {
    "duration": 625,
    "start_time": "2021-10-24T13:38:42.342Z"
   },
   {
    "duration": 619,
    "start_time": "2021-10-24T13:38:42.349Z"
   },
   {
    "duration": 602,
    "start_time": "2021-10-24T13:38:42.367Z"
   },
   {
    "duration": 596,
    "start_time": "2021-10-24T13:38:42.375Z"
   },
   {
    "duration": 591,
    "start_time": "2021-10-24T13:38:42.381Z"
   },
   {
    "duration": 584,
    "start_time": "2021-10-24T13:38:42.389Z"
   },
   {
    "duration": 579,
    "start_time": "2021-10-24T13:38:42.396Z"
   },
   {
    "duration": 572,
    "start_time": "2021-10-24T13:38:42.404Z"
   },
   {
    "duration": 613,
    "start_time": "2021-10-24T13:38:42.410Z"
   },
   {
    "duration": 606,
    "start_time": "2021-10-24T13:38:42.418Z"
   },
   {
    "duration": 602,
    "start_time": "2021-10-24T13:38:42.424Z"
   },
   {
    "duration": 596,
    "start_time": "2021-10-24T13:38:42.431Z"
   },
   {
    "duration": 591,
    "start_time": "2021-10-24T13:38:42.437Z"
   },
   {
    "duration": 586,
    "start_time": "2021-10-24T13:38:42.444Z"
   },
   {
    "duration": 581,
    "start_time": "2021-10-24T13:38:42.451Z"
   },
   {
    "duration": 574,
    "start_time": "2021-10-24T13:38:42.459Z"
   },
   {
    "duration": 530,
    "start_time": "2021-10-24T13:38:42.504Z"
   },
   {
    "duration": 525,
    "start_time": "2021-10-24T13:38:42.511Z"
   },
   {
    "duration": 516,
    "start_time": "2021-10-24T13:38:42.521Z"
   },
   {
    "duration": 511,
    "start_time": "2021-10-24T13:38:42.527Z"
   },
   {
    "duration": 498,
    "start_time": "2021-10-24T13:38:42.541Z"
   },
   {
    "duration": 494,
    "start_time": "2021-10-24T13:38:42.547Z"
   },
   {
    "duration": 490,
    "start_time": "2021-10-24T13:38:42.553Z"
   },
   {
    "duration": 484,
    "start_time": "2021-10-24T13:38:42.560Z"
   },
   {
    "duration": 481,
    "start_time": "2021-10-24T13:38:42.565Z"
   },
   {
    "duration": 323,
    "start_time": "2021-10-24T17:50:57.599Z"
   },
   {
    "duration": 1496,
    "start_time": "2021-10-24T17:51:01.864Z"
   },
   {
    "duration": 4,
    "start_time": "2021-10-24T17:51:03.362Z"
   },
   {
    "duration": 849,
    "start_time": "2021-10-24T17:51:03.368Z"
   },
   {
    "duration": 144,
    "start_time": "2021-10-24T17:51:04.219Z"
   },
   {
    "duration": 4,
    "start_time": "2021-10-24T17:51:04.366Z"
   },
   {
    "duration": 243,
    "start_time": "2021-10-24T17:51:04.381Z"
   },
   {
    "duration": 40,
    "start_time": "2021-10-24T17:51:04.627Z"
   },
   {
    "duration": 4,
    "start_time": "2021-10-24T17:51:04.684Z"
   },
   {
    "duration": 19,
    "start_time": "2021-10-24T17:51:04.690Z"
   },
   {
    "duration": 30,
    "start_time": "2021-10-24T17:51:04.712Z"
   },
   {
    "duration": 38,
    "start_time": "2021-10-24T17:51:04.744Z"
   },
   {
    "duration": 34,
    "start_time": "2021-10-24T17:51:04.785Z"
   },
   {
    "duration": 7,
    "start_time": "2021-10-24T17:51:04.821Z"
   },
   {
    "duration": 9,
    "start_time": "2021-10-24T17:51:04.830Z"
   },
   {
    "duration": 190,
    "start_time": "2021-10-24T17:51:04.841Z"
   },
   {
    "duration": 19,
    "start_time": "2021-10-24T17:51:05.034Z"
   },
   {
    "duration": 30,
    "start_time": "2021-10-24T17:51:05.056Z"
   },
   {
    "duration": 24,
    "start_time": "2021-10-24T17:51:05.091Z"
   },
   {
    "duration": 29,
    "start_time": "2021-10-24T17:51:05.118Z"
   },
   {
    "duration": 8,
    "start_time": "2021-10-24T17:51:05.183Z"
   },
   {
    "duration": 42,
    "start_time": "2021-10-24T17:51:05.653Z"
   },
   {
    "duration": 12,
    "start_time": "2021-10-24T17:51:06.099Z"
   },
   {
    "duration": 28,
    "start_time": "2021-10-24T17:51:06.535Z"
   },
   {
    "duration": 20,
    "start_time": "2021-10-24T17:51:06.690Z"
   },
   {
    "duration": 36,
    "start_time": "2021-10-24T17:51:08.473Z"
   },
   {
    "duration": 49,
    "start_time": "2021-10-24T17:51:08.621Z"
   },
   {
    "duration": 37,
    "start_time": "2021-10-24T17:51:08.774Z"
   },
   {
    "duration": 175,
    "start_time": "2021-10-24T17:51:08.929Z"
   },
   {
    "duration": 153,
    "start_time": "2021-10-24T17:51:09.107Z"
   },
   {
    "duration": 165,
    "start_time": "2021-10-24T17:51:09.263Z"
   },
   {
    "duration": 125,
    "start_time": "2021-10-24T17:51:09.431Z"
   },
   {
    "duration": 253,
    "start_time": "2021-10-24T17:51:09.697Z"
   },
   {
    "duration": 267,
    "start_time": "2021-10-24T17:51:09.953Z"
   },
   {
    "duration": 267,
    "start_time": "2021-10-24T17:51:10.864Z"
   },
   {
    "duration": 151,
    "start_time": "2021-10-24T17:51:12.146Z"
   },
   {
    "duration": 5,
    "start_time": "2021-10-24T17:51:12.299Z"
   },
   {
    "duration": 12,
    "start_time": "2021-10-24T17:51:12.441Z"
   },
   {
    "duration": 13,
    "start_time": "2021-10-24T17:51:12.612Z"
   },
   {
    "duration": 6,
    "start_time": "2021-10-24T17:51:12.777Z"
   },
   {
    "duration": 299,
    "start_time": "2021-10-24T17:51:13.446Z"
   },
   {
    "duration": 22,
    "start_time": "2021-10-24T17:51:14.611Z"
   },
   {
    "duration": 424,
    "start_time": "2021-10-24T17:51:14.766Z"
   },
   {
    "duration": 11,
    "start_time": "2021-10-24T17:51:15.810Z"
   },
   {
    "duration": 300,
    "start_time": "2021-10-24T17:51:16.634Z"
   },
   {
    "duration": 117,
    "start_time": "2021-10-24T17:51:17.977Z"
   },
   {
    "duration": 4,
    "start_time": "2021-10-24T17:51:18.163Z"
   },
   {
    "duration": 166,
    "start_time": "2021-10-24T17:51:18.340Z"
   },
   {
    "duration": 65,
    "start_time": "2021-10-24T17:51:18.535Z"
   },
   {
    "duration": 68,
    "start_time": "2021-10-24T17:51:18.696Z"
   },
   {
    "duration": 67,
    "start_time": "2021-10-24T17:51:18.850Z"
   },
   {
    "duration": 14,
    "start_time": "2021-10-24T17:51:19.070Z"
   },
   {
    "duration": 25,
    "start_time": "2021-10-24T17:51:19.458Z"
   },
   {
    "duration": 151,
    "start_time": "2021-10-24T17:51:19.690Z"
   },
   {
    "duration": 17,
    "start_time": "2021-10-24T17:51:19.923Z"
   },
   {
    "duration": 257,
    "start_time": "2021-10-24T17:51:20.147Z"
   },
   {
    "duration": 84,
    "start_time": "2021-10-24T17:51:21.107Z"
   },
   {
    "duration": 51,
    "start_time": "2021-10-24T17:51:29.796Z"
   },
   {
    "duration": 51,
    "start_time": "2021-10-24T17:51:32.857Z"
   },
   {
    "duration": 51,
    "start_time": "2021-10-24T17:51:39.415Z"
   },
   {
    "duration": 332,
    "start_time": "2021-10-24T17:51:44.149Z"
   },
   {
    "duration": 290,
    "start_time": "2021-10-24T17:52:12.214Z"
   },
   {
    "duration": 298,
    "start_time": "2021-10-24T17:52:19.895Z"
   },
   {
    "duration": 273,
    "start_time": "2021-10-24T17:52:36.207Z"
   },
   {
    "duration": 35,
    "start_time": "2021-10-24T17:52:46.698Z"
   },
   {
    "duration": 305,
    "start_time": "2021-10-24T17:52:56.993Z"
   },
   {
    "duration": 319,
    "start_time": "2021-10-24T17:53:25.125Z"
   },
   {
    "duration": 97,
    "start_time": "2021-10-24T17:53:31.439Z"
   },
   {
    "duration": 246,
    "start_time": "2021-10-24T17:53:33.668Z"
   },
   {
    "duration": 1076,
    "start_time": "2021-10-24T17:53:35.248Z"
   },
   {
    "duration": 929,
    "start_time": "2021-10-24T17:54:01.815Z"
   },
   {
    "duration": 284,
    "start_time": "2021-10-24T17:54:05.898Z"
   },
   {
    "duration": 414,
    "start_time": "2021-10-24T17:54:28.569Z"
   },
   {
    "duration": 313,
    "start_time": "2021-10-24T17:54:35.607Z"
   },
   {
    "duration": 58,
    "start_time": "2021-10-24T17:55:58.017Z"
   },
   {
    "duration": 429,
    "start_time": "2021-10-24T17:56:01.825Z"
   },
   {
    "duration": 284,
    "start_time": "2021-10-24T17:56:16.400Z"
   },
   {
    "duration": 18,
    "start_time": "2021-10-24T17:56:17.930Z"
   },
   {
    "duration": 9,
    "start_time": "2021-10-24T17:56:18.853Z"
   },
   {
    "duration": 309,
    "start_time": "2021-10-24T17:56:28.536Z"
   },
   {
    "duration": 13,
    "start_time": "2021-10-24T17:56:29.420Z"
   },
   {
    "duration": 7,
    "start_time": "2021-10-24T17:56:30.173Z"
   },
   {
    "duration": 19,
    "start_time": "2021-10-24T17:56:30.926Z"
   },
   {
    "duration": 6,
    "start_time": "2021-10-24T17:56:31.662Z"
   },
   {
    "duration": 24,
    "start_time": "2021-10-24T17:56:34.003Z"
   },
   {
    "duration": 6,
    "start_time": "2021-10-24T17:56:34.634Z"
   },
   {
    "duration": 349,
    "start_time": "2021-10-24T17:56:39.073Z"
   },
   {
    "duration": 26,
    "start_time": "2021-10-24T17:56:43.848Z"
   },
   {
    "duration": 13,
    "start_time": "2021-10-24T17:56:44.528Z"
   },
   {
    "duration": 24,
    "start_time": "2021-10-24T17:56:45.239Z"
   },
   {
    "duration": 5,
    "start_time": "2021-10-24T17:56:45.921Z"
   },
   {
    "duration": 33,
    "start_time": "2021-10-24T17:56:46.570Z"
   },
   {
    "duration": 15,
    "start_time": "2021-10-24T17:56:47.231Z"
   },
   {
    "duration": 65,
    "start_time": "2021-10-24T17:56:47.924Z"
   },
   {
    "duration": 8,
    "start_time": "2021-10-24T17:56:48.570Z"
   },
   {
    "duration": 5,
    "start_time": "2021-10-24T17:56:49.247Z"
   },
   {
    "duration": 37,
    "start_time": "2021-10-24T17:56:49.918Z"
   },
   {
    "duration": 6,
    "start_time": "2021-10-24T17:56:51.166Z"
   },
   {
    "duration": 133,
    "start_time": "2021-10-24T17:56:51.786Z"
   },
   {
    "duration": 79,
    "start_time": "2021-10-24T17:56:52.440Z"
   },
   {
    "duration": 25,
    "start_time": "2021-10-24T17:56:53.698Z"
   },
   {
    "duration": 21,
    "start_time": "2021-10-24T17:56:59.076Z"
   },
   {
    "duration": 23,
    "start_time": "2021-10-24T17:56:59.841Z"
   },
   {
    "duration": 7,
    "start_time": "2021-10-24T17:57:01.163Z"
   },
   {
    "duration": 744,
    "start_time": "2021-10-24T17:57:03.304Z"
   },
   {
    "duration": 299,
    "start_time": "2021-10-24T17:57:05.816Z"
   },
   {
    "duration": 444,
    "start_time": "2021-10-24T17:57:07.730Z"
   },
   {
    "duration": 414,
    "start_time": "2021-10-24T17:57:08.402Z"
   },
   {
    "duration": 282,
    "start_time": "2021-10-24T17:57:09.107Z"
   },
   {
    "duration": 301,
    "start_time": "2021-10-24T17:57:09.810Z"
   },
   {
    "duration": 274,
    "start_time": "2021-10-24T17:57:11.435Z"
   },
   {
    "duration": 441,
    "start_time": "2021-10-24T17:57:12.110Z"
   },
   {
    "duration": 411,
    "start_time": "2021-10-24T17:57:14.324Z"
   },
   {
    "duration": 443,
    "start_time": "2021-10-24T17:57:15.010Z"
   },
   {
    "duration": 1152,
    "start_time": "2021-10-25T16:57:39.621Z"
   },
   {
    "duration": 3,
    "start_time": "2021-10-25T16:57:40.775Z"
   },
   {
    "duration": 584,
    "start_time": "2021-10-25T16:57:40.781Z"
   },
   {
    "duration": 99,
    "start_time": "2021-10-25T16:57:41.367Z"
   },
   {
    "duration": 3,
    "start_time": "2021-10-25T16:57:41.468Z"
   },
   {
    "duration": 153,
    "start_time": "2021-10-25T16:57:41.473Z"
   },
   {
    "duration": 32,
    "start_time": "2021-10-25T16:57:41.628Z"
   },
   {
    "duration": 4,
    "start_time": "2021-10-25T16:57:41.662Z"
   },
   {
    "duration": 19,
    "start_time": "2021-10-25T16:57:41.668Z"
   },
   {
    "duration": 18,
    "start_time": "2021-10-25T16:57:41.689Z"
   },
   {
    "duration": 4,
    "start_time": "2021-10-25T16:57:41.709Z"
   },
   {
    "duration": 47,
    "start_time": "2021-10-25T16:57:41.715Z"
   },
   {
    "duration": 6,
    "start_time": "2021-10-25T16:57:41.764Z"
   },
   {
    "duration": 8,
    "start_time": "2021-10-25T16:57:41.772Z"
   },
   {
    "duration": 93,
    "start_time": "2021-10-25T16:57:41.781Z"
   },
   {
    "duration": 11,
    "start_time": "2021-10-25T16:57:41.876Z"
   },
   {
    "duration": 5,
    "start_time": "2021-10-25T16:57:41.889Z"
   },
   {
    "duration": 19,
    "start_time": "2021-10-25T16:57:41.896Z"
   },
   {
    "duration": 38,
    "start_time": "2021-10-25T16:57:41.916Z"
   },
   {
    "duration": 4,
    "start_time": "2021-10-25T16:57:41.956Z"
   },
   {
    "duration": 36,
    "start_time": "2021-10-25T16:57:41.962Z"
   },
   {
    "duration": 9,
    "start_time": "2021-10-25T16:57:42.000Z"
   },
   {
    "duration": 39,
    "start_time": "2021-10-25T16:57:42.013Z"
   },
   {
    "duration": 12,
    "start_time": "2021-10-25T16:57:42.055Z"
   },
   {
    "duration": 27,
    "start_time": "2021-10-25T16:57:42.069Z"
   },
   {
    "duration": 50,
    "start_time": "2021-10-25T16:57:42.098Z"
   },
   {
    "duration": 26,
    "start_time": "2021-10-25T16:57:42.149Z"
   },
   {
    "duration": 131,
    "start_time": "2021-10-25T16:57:42.177Z"
   },
   {
    "duration": 115,
    "start_time": "2021-10-25T16:57:42.310Z"
   },
   {
    "duration": 137,
    "start_time": "2021-10-25T16:57:42.427Z"
   },
   {
    "duration": 94,
    "start_time": "2021-10-25T16:57:42.566Z"
   },
   {
    "duration": 145,
    "start_time": "2021-10-25T16:57:42.661Z"
   },
   {
    "duration": 157,
    "start_time": "2021-10-25T16:57:42.808Z"
   },
   {
    "duration": 166,
    "start_time": "2021-10-25T16:57:42.966Z"
   },
   {
    "duration": 114,
    "start_time": "2021-10-25T16:57:43.133Z"
   },
   {
    "duration": 2,
    "start_time": "2021-10-25T16:57:43.249Z"
   },
   {
    "duration": 16,
    "start_time": "2021-10-25T16:57:43.253Z"
   },
   {
    "duration": 8,
    "start_time": "2021-10-25T16:57:43.270Z"
   },
   {
    "duration": 6,
    "start_time": "2021-10-25T16:57:43.280Z"
   },
   {
    "duration": 199,
    "start_time": "2021-10-25T16:57:43.288Z"
   },
   {
    "duration": 17,
    "start_time": "2021-10-25T16:57:43.488Z"
   },
   {
    "duration": 261,
    "start_time": "2021-10-25T16:57:43.506Z"
   },
   {
    "duration": 6,
    "start_time": "2021-10-25T16:57:43.769Z"
   },
   {
    "duration": 200,
    "start_time": "2021-10-25T16:57:43.777Z"
   },
   {
    "duration": 80,
    "start_time": "2021-10-25T16:57:43.979Z"
   },
   {
    "duration": 2,
    "start_time": "2021-10-25T16:57:44.060Z"
   },
   {
    "duration": 97,
    "start_time": "2021-10-25T16:57:44.064Z"
   },
   {
    "duration": 44,
    "start_time": "2021-10-25T16:57:44.163Z"
   },
   {
    "duration": 60,
    "start_time": "2021-10-25T16:57:44.209Z"
   },
   {
    "duration": 46,
    "start_time": "2021-10-25T16:57:44.270Z"
   },
   {
    "duration": 9,
    "start_time": "2021-10-25T16:57:44.318Z"
   },
   {
    "duration": 34,
    "start_time": "2021-10-25T16:57:44.329Z"
   },
   {
    "duration": 146,
    "start_time": "2021-10-25T16:57:44.365Z"
   },
   {
    "duration": 13,
    "start_time": "2021-10-25T16:57:44.513Z"
   },
   {
    "duration": 182,
    "start_time": "2021-10-25T16:57:44.528Z"
   },
   {
    "duration": 65,
    "start_time": "2021-10-25T16:57:44.712Z"
   },
   {
    "duration": 46,
    "start_time": "2021-10-25T16:57:44.778Z"
   },
   {
    "duration": 274,
    "start_time": "2021-10-25T16:57:44.825Z"
   },
   {
    "duration": 181,
    "start_time": "2021-10-25T16:57:45.101Z"
   },
   {
    "duration": 12,
    "start_time": "2021-10-25T16:57:45.284Z"
   },
   {
    "duration": 5,
    "start_time": "2021-10-25T16:57:45.298Z"
   },
   {
    "duration": 237,
    "start_time": "2021-10-25T16:57:45.304Z"
   },
   {
    "duration": 9,
    "start_time": "2021-10-25T16:57:45.544Z"
   },
   {
    "duration": 8,
    "start_time": "2021-10-25T16:57:45.554Z"
   },
   {
    "duration": 10,
    "start_time": "2021-10-25T16:57:45.563Z"
   },
   {
    "duration": 6,
    "start_time": "2021-10-25T16:57:45.575Z"
   },
   {
    "duration": 19,
    "start_time": "2021-10-25T16:57:45.582Z"
   },
   {
    "duration": 4,
    "start_time": "2021-10-25T16:57:45.606Z"
   },
   {
    "duration": 190,
    "start_time": "2021-10-25T16:57:45.611Z"
   },
   {
    "duration": 15,
    "start_time": "2021-10-25T16:57:45.803Z"
   },
   {
    "duration": 25,
    "start_time": "2021-10-25T16:57:45.819Z"
   },
   {
    "duration": 18,
    "start_time": "2021-10-25T16:57:45.846Z"
   },
   {
    "duration": 3,
    "start_time": "2021-10-25T16:57:45.865Z"
   },
   {
    "duration": 16,
    "start_time": "2021-10-25T16:57:45.870Z"
   },
   {
    "duration": 10,
    "start_time": "2021-10-25T16:57:45.888Z"
   },
   {
    "duration": 61,
    "start_time": "2021-10-25T16:57:45.900Z"
   },
   {
    "duration": 5,
    "start_time": "2021-10-25T16:57:45.962Z"
   },
   {
    "duration": 3,
    "start_time": "2021-10-25T16:57:45.969Z"
   },
   {
    "duration": 85,
    "start_time": "2021-10-25T16:57:45.974Z"
   },
   {
    "duration": 3,
    "start_time": "2021-10-25T16:57:46.061Z"
   },
   {
    "duration": 39,
    "start_time": "2021-10-25T16:57:46.065Z"
   },
   {
    "duration": 50,
    "start_time": "2021-10-25T16:57:46.106Z"
   },
   {
    "duration": 15,
    "start_time": "2021-10-25T16:57:46.158Z"
   },
   {
    "duration": 37,
    "start_time": "2021-10-25T16:57:46.174Z"
   },
   {
    "duration": 24,
    "start_time": "2021-10-25T16:57:46.212Z"
   },
   {
    "duration": 19,
    "start_time": "2021-10-25T16:57:46.238Z"
   },
   {
    "duration": 294,
    "start_time": "2021-10-25T16:57:46.258Z"
   },
   {
    "duration": 190,
    "start_time": "2021-10-25T16:57:46.554Z"
   },
   {
    "duration": 199,
    "start_time": "2021-10-25T16:57:46.745Z"
   },
   {
    "duration": 184,
    "start_time": "2021-10-25T16:57:46.946Z"
   },
   {
    "duration": 224,
    "start_time": "2021-10-25T16:57:47.133Z"
   },
   {
    "duration": 180,
    "start_time": "2021-10-25T16:57:47.358Z"
   },
   {
    "duration": 178,
    "start_time": "2021-10-25T16:57:47.540Z"
   },
   {
    "duration": 256,
    "start_time": "2021-10-25T16:57:47.720Z"
   },
   {
    "duration": 360,
    "start_time": "2021-10-25T16:57:47.978Z"
   },
   {
    "duration": -48,
    "start_time": "2021-10-25T16:57:48.388Z"
   },
   {
    "duration": -93,
    "start_time": "2021-10-25T16:57:48.434Z"
   },
   {
    "duration": -118,
    "start_time": "2021-10-25T16:57:48.461Z"
   },
   {
    "duration": -127,
    "start_time": "2021-10-25T16:57:48.470Z"
   },
   {
    "duration": -400,
    "start_time": "2021-10-25T16:57:48.744Z"
   },
   {
    "duration": -404,
    "start_time": "2021-10-25T16:57:48.749Z"
   },
   {
    "duration": 1110,
    "start_time": "2021-10-25T17:05:10.190Z"
   },
   {
    "duration": 2,
    "start_time": "2021-10-25T17:05:11.303Z"
   },
   {
    "duration": 621,
    "start_time": "2021-10-25T17:05:11.307Z"
   },
   {
    "duration": 105,
    "start_time": "2021-10-25T17:05:11.929Z"
   },
   {
    "duration": 3,
    "start_time": "2021-10-25T17:05:12.044Z"
   },
   {
    "duration": 193,
    "start_time": "2021-10-25T17:05:12.048Z"
   },
   {
    "duration": 24,
    "start_time": "2021-10-25T17:05:12.242Z"
   },
   {
    "duration": 3,
    "start_time": "2021-10-25T17:05:12.268Z"
   },
   {
    "duration": 35,
    "start_time": "2021-10-25T17:05:12.273Z"
   },
   {
    "duration": 36,
    "start_time": "2021-10-25T17:05:12.310Z"
   },
   {
    "duration": 10,
    "start_time": "2021-10-25T17:05:12.348Z"
   },
   {
    "duration": 47,
    "start_time": "2021-10-25T17:05:12.359Z"
   },
   {
    "duration": 6,
    "start_time": "2021-10-25T17:05:12.407Z"
   },
   {
    "duration": 22,
    "start_time": "2021-10-25T17:05:12.415Z"
   },
   {
    "duration": 94,
    "start_time": "2021-10-25T17:05:12.439Z"
   },
   {
    "duration": 11,
    "start_time": "2021-10-25T17:05:12.535Z"
   },
   {
    "duration": 11,
    "start_time": "2021-10-25T17:05:12.548Z"
   },
   {
    "duration": 40,
    "start_time": "2021-10-25T17:05:12.561Z"
   },
   {
    "duration": 27,
    "start_time": "2021-10-25T17:05:12.603Z"
   },
   {
    "duration": 22,
    "start_time": "2021-10-25T17:05:12.632Z"
   },
   {
    "duration": 51,
    "start_time": "2021-10-25T17:05:12.656Z"
   },
   {
    "duration": 26,
    "start_time": "2021-10-25T17:05:12.710Z"
   },
   {
    "duration": 31,
    "start_time": "2021-10-25T17:05:12.741Z"
   },
   {
    "duration": 12,
    "start_time": "2021-10-25T17:05:12.776Z"
   },
   {
    "duration": 35,
    "start_time": "2021-10-25T17:05:12.790Z"
   },
   {
    "duration": 41,
    "start_time": "2021-10-25T17:05:12.827Z"
   },
   {
    "duration": 28,
    "start_time": "2021-10-25T17:05:12.870Z"
   },
   {
    "duration": 124,
    "start_time": "2021-10-25T17:05:12.899Z"
   },
   {
    "duration": 124,
    "start_time": "2021-10-25T17:05:13.025Z"
   },
   {
    "duration": 129,
    "start_time": "2021-10-25T17:05:13.151Z"
   },
   {
    "duration": 93,
    "start_time": "2021-10-25T17:05:13.282Z"
   },
   {
    "duration": 156,
    "start_time": "2021-10-25T17:05:13.377Z"
   },
   {
    "duration": 166,
    "start_time": "2021-10-25T17:05:13.536Z"
   },
   {
    "duration": 163,
    "start_time": "2021-10-25T17:05:13.705Z"
   },
   {
    "duration": 120,
    "start_time": "2021-10-25T17:05:13.870Z"
   },
   {
    "duration": 3,
    "start_time": "2021-10-25T17:05:13.992Z"
   },
   {
    "duration": 36,
    "start_time": "2021-10-25T17:05:13.997Z"
   },
   {
    "duration": 28,
    "start_time": "2021-10-25T17:05:14.034Z"
   },
   {
    "duration": 13,
    "start_time": "2021-10-25T17:05:14.064Z"
   },
   {
    "duration": 215,
    "start_time": "2021-10-25T17:05:14.079Z"
   },
   {
    "duration": 16,
    "start_time": "2021-10-25T17:05:14.296Z"
   },
   {
    "duration": 266,
    "start_time": "2021-10-25T17:05:14.314Z"
   },
   {
    "duration": 6,
    "start_time": "2021-10-25T17:05:14.582Z"
   },
   {
    "duration": 202,
    "start_time": "2021-10-25T17:05:14.590Z"
   },
   {
    "duration": 88,
    "start_time": "2021-10-25T17:05:14.794Z"
   },
   {
    "duration": 2,
    "start_time": "2021-10-25T17:05:14.884Z"
   },
   {
    "duration": 100,
    "start_time": "2021-10-25T17:05:14.888Z"
   },
   {
    "duration": 56,
    "start_time": "2021-10-25T17:05:14.990Z"
   },
   {
    "duration": 50,
    "start_time": "2021-10-25T17:05:15.048Z"
   },
   {
    "duration": 68,
    "start_time": "2021-10-25T17:05:15.100Z"
   },
   {
    "duration": 10,
    "start_time": "2021-10-25T17:05:15.170Z"
   },
   {
    "duration": 19,
    "start_time": "2021-10-25T17:05:15.182Z"
   },
   {
    "duration": 136,
    "start_time": "2021-10-25T17:05:15.203Z"
   },
   {
    "duration": 13,
    "start_time": "2021-10-25T17:05:15.341Z"
   },
   {
    "duration": 169,
    "start_time": "2021-10-25T17:05:15.356Z"
   },
   {
    "duration": 71,
    "start_time": "2021-10-25T17:05:15.526Z"
   },
   {
    "duration": 60,
    "start_time": "2021-10-25T17:05:15.599Z"
   },
   {
    "duration": 283,
    "start_time": "2021-10-25T17:05:15.662Z"
   },
   {
    "duration": 190,
    "start_time": "2021-10-25T17:05:15.947Z"
   },
   {
    "duration": 14,
    "start_time": "2021-10-25T17:05:16.139Z"
   },
   {
    "duration": 10,
    "start_time": "2021-10-25T17:05:16.155Z"
   },
   {
    "duration": 243,
    "start_time": "2021-10-25T17:05:16.166Z"
   },
   {
    "duration": 9,
    "start_time": "2021-10-25T17:05:16.410Z"
   },
   {
    "duration": 5,
    "start_time": "2021-10-25T17:05:16.421Z"
   },
   {
    "duration": 24,
    "start_time": "2021-10-25T17:05:16.427Z"
   },
   {
    "duration": 14,
    "start_time": "2021-10-25T17:05:16.453Z"
   },
   {
    "duration": 26,
    "start_time": "2021-10-25T17:05:16.468Z"
   },
   {
    "duration": 4,
    "start_time": "2021-10-25T17:05:16.500Z"
   },
   {
    "duration": 164,
    "start_time": "2021-10-25T17:05:16.506Z"
   },
   {
    "duration": 13,
    "start_time": "2021-10-25T17:05:16.671Z"
   },
   {
    "duration": 6,
    "start_time": "2021-10-25T17:05:16.686Z"
   },
   {
    "duration": 18,
    "start_time": "2021-10-25T17:05:16.693Z"
   },
   {
    "duration": 3,
    "start_time": "2021-10-25T17:05:16.713Z"
   },
   {
    "duration": 37,
    "start_time": "2021-10-25T17:05:16.717Z"
   },
   {
    "duration": 11,
    "start_time": "2021-10-25T17:05:16.756Z"
   },
   {
    "duration": 39,
    "start_time": "2021-10-25T17:05:16.769Z"
   },
   {
    "duration": 5,
    "start_time": "2021-10-25T17:05:16.810Z"
   },
   {
    "duration": 28,
    "start_time": "2021-10-25T17:05:16.817Z"
   },
   {
    "duration": 86,
    "start_time": "2021-10-25T17:05:16.846Z"
   },
   {
    "duration": 4,
    "start_time": "2021-10-25T17:05:16.934Z"
   },
   {
    "duration": 26,
    "start_time": "2021-10-25T17:05:16.944Z"
   },
   {
    "duration": 61,
    "start_time": "2021-10-25T17:05:16.972Z"
   },
   {
    "duration": 15,
    "start_time": "2021-10-25T17:05:17.035Z"
   },
   {
    "duration": 35,
    "start_time": "2021-10-25T17:05:17.051Z"
   },
   {
    "duration": 26,
    "start_time": "2021-10-25T17:05:17.088Z"
   },
   {
    "duration": 36,
    "start_time": "2021-10-25T17:05:17.115Z"
   },
   {
    "duration": 306,
    "start_time": "2021-10-25T17:05:17.153Z"
   },
   {
    "duration": 186,
    "start_time": "2021-10-25T17:05:17.460Z"
   },
   {
    "duration": 191,
    "start_time": "2021-10-25T17:05:17.647Z"
   },
   {
    "duration": 196,
    "start_time": "2021-10-25T17:05:17.839Z"
   },
   {
    "duration": 189,
    "start_time": "2021-10-25T17:05:18.036Z"
   },
   {
    "duration": 198,
    "start_time": "2021-10-25T17:05:18.227Z"
   },
   {
    "duration": 190,
    "start_time": "2021-10-25T17:05:18.427Z"
   },
   {
    "duration": 256,
    "start_time": "2021-10-25T17:05:18.618Z"
   },
   {
    "duration": 374,
    "start_time": "2021-10-25T17:05:18.875Z"
   },
   {
    "duration": -97,
    "start_time": "2021-10-25T17:05:19.348Z"
   },
   {
    "duration": -100,
    "start_time": "2021-10-25T17:05:19.353Z"
   },
   {
    "duration": -106,
    "start_time": "2021-10-25T17:05:19.360Z"
   },
   {
    "duration": -111,
    "start_time": "2021-10-25T17:05:19.366Z"
   },
   {
    "duration": -173,
    "start_time": "2021-10-25T17:05:19.429Z"
   },
   {
    "duration": -182,
    "start_time": "2021-10-25T17:05:19.439Z"
   },
   {
    "duration": 92,
    "start_time": "2021-10-25T18:11:33.543Z"
   },
   {
    "duration": 1697,
    "start_time": "2021-10-26T08:19:26.508Z"
   },
   {
    "duration": 4,
    "start_time": "2021-10-26T08:19:28.207Z"
   },
   {
    "duration": 834,
    "start_time": "2021-10-26T08:19:29.267Z"
   },
   {
    "duration": 166,
    "start_time": "2021-10-26T08:19:30.993Z"
   },
   {
    "duration": 4,
    "start_time": "2021-10-26T08:19:31.766Z"
   },
   {
    "duration": 280,
    "start_time": "2021-10-26T08:19:32.510Z"
   },
   {
    "duration": 40,
    "start_time": "2021-10-26T08:19:33.702Z"
   },
   {
    "duration": 5,
    "start_time": "2021-10-26T08:19:34.428Z"
   },
   {
    "duration": 21,
    "start_time": "2021-10-26T08:19:35.179Z"
   },
   {
    "duration": 29,
    "start_time": "2021-10-26T08:19:35.791Z"
   },
   {
    "duration": 6,
    "start_time": "2021-10-26T08:19:36.439Z"
   },
   {
    "duration": 35,
    "start_time": "2021-10-26T08:19:37.129Z"
   },
   {
    "duration": 8,
    "start_time": "2021-10-26T08:19:37.676Z"
   },
   {
    "duration": 8,
    "start_time": "2021-10-26T08:19:38.300Z"
   },
   {
    "duration": 143,
    "start_time": "2021-10-26T08:19:39.653Z"
   },
   {
    "duration": 20,
    "start_time": "2021-10-26T08:19:40.219Z"
   },
   {
    "duration": 8,
    "start_time": "2021-10-26T08:19:40.774Z"
   },
   {
    "duration": 26,
    "start_time": "2021-10-26T08:19:42.027Z"
   },
   {
    "duration": 27,
    "start_time": "2021-10-26T08:19:42.586Z"
   },
   {
    "duration": 7,
    "start_time": "2021-10-26T08:19:43.108Z"
   },
   {
    "duration": 47,
    "start_time": "2021-10-26T08:19:44.643Z"
   },
   {
    "duration": 12,
    "start_time": "2021-10-26T08:19:46.007Z"
   },
   {
    "duration": 27,
    "start_time": "2021-10-26T08:19:47.561Z"
   },
   {
    "duration": 21,
    "start_time": "2021-10-26T08:19:48.047Z"
   },
   {
    "duration": 43,
    "start_time": "2021-10-26T08:19:52.892Z"
   },
   {
    "duration": 51,
    "start_time": "2021-10-26T08:19:53.117Z"
   },
   {
    "duration": 37,
    "start_time": "2021-10-26T08:19:53.947Z"
   },
   {
    "duration": 180,
    "start_time": "2021-10-26T08:19:54.471Z"
   },
   {
    "duration": 166,
    "start_time": "2021-10-26T08:19:54.654Z"
   },
   {
    "duration": 179,
    "start_time": "2021-10-26T08:19:55.366Z"
   },
   {
    "duration": 129,
    "start_time": "2021-10-26T08:19:55.897Z"
   },
   {
    "duration": 264,
    "start_time": "2021-10-26T08:19:57.391Z"
   },
   {
    "duration": 264,
    "start_time": "2021-10-26T08:19:58.079Z"
   },
   {
    "duration": 280,
    "start_time": "2021-10-26T08:20:00.234Z"
   },
   {
    "duration": 160,
    "start_time": "2021-10-26T08:20:02.939Z"
   },
   {
    "duration": 4,
    "start_time": "2021-10-26T08:20:03.196Z"
   },
   {
    "duration": 11,
    "start_time": "2021-10-26T08:20:04.197Z"
   },
   {
    "duration": 14,
    "start_time": "2021-10-26T08:20:04.393Z"
   },
   {
    "duration": 6,
    "start_time": "2021-10-26T08:20:04.617Z"
   },
   {
    "duration": 335,
    "start_time": "2021-10-26T08:20:06.979Z"
   },
   {
    "duration": 21,
    "start_time": "2021-10-26T08:20:12.169Z"
   },
   {
    "duration": 536,
    "start_time": "2021-10-26T08:20:12.416Z"
   },
   {
    "duration": 11,
    "start_time": "2021-10-26T08:20:16.394Z"
   },
   {
    "duration": 315,
    "start_time": "2021-10-26T08:20:18.463Z"
   },
   {
    "duration": 125,
    "start_time": "2021-10-26T08:20:22.820Z"
   },
   {
    "duration": 3,
    "start_time": "2021-10-26T08:20:23.942Z"
   },
   {
    "duration": 151,
    "start_time": "2021-10-26T08:20:24.739Z"
   },
   {
    "duration": 71,
    "start_time": "2021-10-26T08:20:25.617Z"
   },
   {
    "duration": 68,
    "start_time": "2021-10-26T08:20:26.560Z"
   },
   {
    "duration": 72,
    "start_time": "2021-10-26T08:20:27.516Z"
   },
   {
    "duration": 13,
    "start_time": "2021-10-26T08:20:28.448Z"
   },
   {
    "duration": 28,
    "start_time": "2021-10-26T08:20:29.224Z"
   },
   {
    "duration": 174,
    "start_time": "2021-10-26T08:20:29.880Z"
   },
   {
    "duration": 17,
    "start_time": "2021-10-26T08:20:31.696Z"
   },
   {
    "duration": 222,
    "start_time": "2021-10-26T08:20:36.194Z"
   },
   {
    "duration": 82,
    "start_time": "2021-10-26T08:20:42.967Z"
   },
   {
    "duration": 68,
    "start_time": "2021-10-26T08:20:58.525Z"
   },
   {
    "duration": 377,
    "start_time": "2021-10-26T08:20:59.660Z"
   },
   {
    "duration": 290,
    "start_time": "2021-10-26T08:21:00.465Z"
   },
   {
    "duration": 19,
    "start_time": "2021-10-26T08:21:01.117Z"
   },
   {
    "duration": 8,
    "start_time": "2021-10-26T08:21:01.991Z"
   },
   {
    "duration": 305,
    "start_time": "2021-10-26T08:21:12.368Z"
   },
   {
    "duration": 14,
    "start_time": "2021-10-26T08:21:13.560Z"
   },
   {
    "duration": 8,
    "start_time": "2021-10-26T08:21:14.444Z"
   },
   {
    "duration": 14,
    "start_time": "2021-10-26T08:21:15.307Z"
   },
   {
    "duration": 8,
    "start_time": "2021-10-26T08:21:16.035Z"
   },
   {
    "duration": 24,
    "start_time": "2021-10-26T08:21:19.418Z"
   },
   {
    "duration": 5,
    "start_time": "2021-10-26T08:21:20.401Z"
   },
   {
    "duration": 276,
    "start_time": "2021-10-26T08:21:24.589Z"
   },
   {
    "duration": 20,
    "start_time": "2021-10-26T08:21:26.577Z"
   },
   {
    "duration": 9,
    "start_time": "2021-10-26T08:21:27.486Z"
   },
   {
    "duration": 29,
    "start_time": "2021-10-26T08:21:28.312Z"
   },
   {
    "duration": 5,
    "start_time": "2021-10-26T08:21:29.095Z"
   },
   {
    "duration": 25,
    "start_time": "2021-10-26T08:21:29.824Z"
   },
   {
    "duration": 18,
    "start_time": "2021-10-26T08:21:30.736Z"
   },
   {
    "duration": 60,
    "start_time": "2021-10-26T08:21:31.686Z"
   },
   {
    "duration": 8,
    "start_time": "2021-10-26T08:21:32.488Z"
   },
   {
    "duration": 5,
    "start_time": "2021-10-26T08:21:33.136Z"
   },
   {
    "duration": 42,
    "start_time": "2021-10-26T08:21:33.307Z"
   },
   {
    "duration": 7,
    "start_time": "2021-10-26T08:21:33.670Z"
   },
   {
    "duration": 97,
    "start_time": "2021-10-26T08:21:34.408Z"
   },
   {
    "duration": 67,
    "start_time": "2021-10-26T08:21:34.569Z"
   },
   {
    "duration": 30,
    "start_time": "2021-10-26T08:21:34.756Z"
   },
   {
    "duration": 22,
    "start_time": "2021-10-26T08:21:44.502Z"
   },
   {
    "duration": 26,
    "start_time": "2021-10-26T08:21:44.722Z"
   },
   {
    "duration": 6,
    "start_time": "2021-10-26T08:21:45.552Z"
   },
   {
    "duration": 504,
    "start_time": "2021-10-26T08:21:46.009Z"
   },
   {
    "duration": 359,
    "start_time": "2021-10-26T08:21:46.659Z"
   },
   {
    "duration": 333,
    "start_time": "2021-10-26T08:21:47.021Z"
   },
   {
    "duration": 334,
    "start_time": "2021-10-26T08:21:47.357Z"
   },
   {
    "duration": 286,
    "start_time": "2021-10-26T08:21:47.729Z"
   },
   {
    "duration": 299,
    "start_time": "2021-10-26T08:21:48.261Z"
   },
   {
    "duration": 288,
    "start_time": "2021-10-26T08:21:48.579Z"
   },
   {
    "duration": 468,
    "start_time": "2021-10-26T08:21:48.870Z"
   },
   {
    "duration": 495,
    "start_time": "2021-10-26T08:21:49.341Z"
   },
   {
    "duration": -652,
    "start_time": "2021-10-26T08:21:50.492Z"
   },
   {
    "duration": -660,
    "start_time": "2021-10-26T08:21:50.502Z"
   },
   {
    "duration": -667,
    "start_time": "2021-10-26T08:21:50.510Z"
   },
   {
    "duration": 1572,
    "start_time": "2021-10-27T14:27:32.133Z"
   },
   {
    "duration": 4,
    "start_time": "2021-10-27T14:27:33.707Z"
   },
   {
    "duration": 783,
    "start_time": "2021-10-27T14:27:33.714Z"
   },
   {
    "duration": 136,
    "start_time": "2021-10-27T14:27:34.500Z"
   },
   {
    "duration": 4,
    "start_time": "2021-10-27T14:27:34.638Z"
   },
   {
    "duration": 242,
    "start_time": "2021-10-27T14:27:34.644Z"
   },
   {
    "duration": 36,
    "start_time": "2021-10-27T14:27:34.889Z"
   },
   {
    "duration": 3,
    "start_time": "2021-10-27T14:27:34.929Z"
   },
   {
    "duration": 19,
    "start_time": "2021-10-27T14:27:34.958Z"
   },
   {
    "duration": 29,
    "start_time": "2021-10-27T14:27:34.979Z"
   },
   {
    "duration": 6,
    "start_time": "2021-10-27T14:27:35.010Z"
   },
   {
    "duration": 66,
    "start_time": "2021-10-27T14:27:35.019Z"
   },
   {
    "duration": 8,
    "start_time": "2021-10-27T14:27:35.087Z"
   },
   {
    "duration": 19,
    "start_time": "2021-10-27T14:27:35.098Z"
   },
   {
    "duration": 151,
    "start_time": "2021-10-27T14:27:35.119Z"
   },
   {
    "duration": 17,
    "start_time": "2021-10-27T14:27:35.273Z"
   },
   {
    "duration": 10,
    "start_time": "2021-10-27T14:27:35.293Z"
   },
   {
    "duration": 58,
    "start_time": "2021-10-27T14:27:35.305Z"
   },
   {
    "duration": 28,
    "start_time": "2021-10-27T14:27:35.366Z"
   },
   {
    "duration": 8,
    "start_time": "2021-10-27T14:27:35.396Z"
   },
   {
    "duration": 75,
    "start_time": "2021-10-27T14:27:35.407Z"
   },
   {
    "duration": 14,
    "start_time": "2021-10-27T14:27:35.484Z"
   },
   {
    "duration": 27,
    "start_time": "2021-10-27T14:27:35.504Z"
   },
   {
    "duration": 18,
    "start_time": "2021-10-27T14:27:35.559Z"
   },
   {
    "duration": 39,
    "start_time": "2021-10-27T14:27:35.579Z"
   },
   {
    "duration": 66,
    "start_time": "2021-10-27T14:27:35.621Z"
   },
   {
    "duration": 34,
    "start_time": "2021-10-27T14:27:35.689Z"
   },
   {
    "duration": 172,
    "start_time": "2021-10-27T14:27:35.726Z"
   },
   {
    "duration": 147,
    "start_time": "2021-10-27T14:27:35.900Z"
   },
   {
    "duration": 156,
    "start_time": "2021-10-27T14:27:36.049Z"
   },
   {
    "duration": 323,
    "start_time": "2021-10-27T14:27:36.208Z"
   },
   {
    "duration": 248,
    "start_time": "2021-10-27T14:27:36.533Z"
   },
   {
    "duration": 262,
    "start_time": "2021-10-27T14:27:36.784Z"
   },
   {
    "duration": 287,
    "start_time": "2021-10-27T14:27:37.048Z"
   },
   {
    "duration": 165,
    "start_time": "2021-10-27T14:27:37.337Z"
   },
   {
    "duration": 4,
    "start_time": "2021-10-27T14:27:37.504Z"
   },
   {
    "duration": 13,
    "start_time": "2021-10-27T14:27:37.510Z"
   },
   {
    "duration": 32,
    "start_time": "2021-10-27T14:27:37.525Z"
   },
   {
    "duration": 5,
    "start_time": "2021-10-27T14:27:37.560Z"
   },
   {
    "duration": 431,
    "start_time": "2021-10-27T14:27:37.567Z"
   },
   {
    "duration": 22,
    "start_time": "2021-10-27T14:27:38.000Z"
   },
   {
    "duration": 438,
    "start_time": "2021-10-27T14:27:38.025Z"
   },
   {
    "duration": 9,
    "start_time": "2021-10-27T14:27:38.466Z"
   },
   {
    "duration": 327,
    "start_time": "2021-10-27T14:27:38.478Z"
   },
   {
    "duration": 122,
    "start_time": "2021-10-27T14:27:38.807Z"
   },
   {
    "duration": 3,
    "start_time": "2021-10-27T14:27:38.932Z"
   },
   {
    "duration": 21,
    "start_time": "2021-10-27T14:27:38.938Z"
   },
   {
    "duration": 232,
    "start_time": "2021-10-27T14:27:38.961Z"
   },
   {
    "duration": 208,
    "start_time": "2021-10-27T14:27:39.195Z"
   },
   {
    "duration": 154,
    "start_time": "2021-10-27T14:27:39.405Z"
   },
   {
    "duration": 228,
    "start_time": "2021-10-27T14:27:39.561Z"
   },
   {
    "duration": 29,
    "start_time": "2021-10-27T14:27:39.791Z"
   },
   {
    "duration": 34,
    "start_time": "2021-10-27T14:27:39.823Z"
   },
   {
    "duration": 123,
    "start_time": "2021-10-27T14:27:39.860Z"
   },
   {
    "duration": 6,
    "start_time": "2021-10-27T14:27:39.986Z"
   },
   {
    "duration": 12,
    "start_time": "2021-10-27T14:27:39.994Z"
   },
   {
    "duration": 20,
    "start_time": "2021-10-27T14:27:40.008Z"
   },
   {
    "duration": 32,
    "start_time": "2021-10-27T14:27:40.030Z"
   },
   {
    "duration": 24,
    "start_time": "2021-10-27T14:27:40.065Z"
   },
   {
    "duration": 26,
    "start_time": "2021-10-27T14:27:40.091Z"
   },
   {
    "duration": 38,
    "start_time": "2021-10-27T14:27:40.119Z"
   },
   {
    "duration": 1256,
    "start_time": "2021-10-27T14:27:40.160Z"
   },
   {
    "duration": 85,
    "start_time": "2021-10-27T14:27:41.418Z"
   },
   {
    "duration": 401,
    "start_time": "2021-10-27T14:27:41.505Z"
   },
   {
    "duration": 420,
    "start_time": "2021-10-27T14:27:41.908Z"
   },
   {
    "duration": 15,
    "start_time": "2021-10-27T14:27:42.330Z"
   },
   {
    "duration": 9,
    "start_time": "2021-10-27T14:27:42.358Z"
   },
   {
    "duration": 270,
    "start_time": "2021-10-27T14:27:42.376Z"
   },
   {
    "duration": 14,
    "start_time": "2021-10-27T14:27:42.657Z"
   },
   {
    "duration": 5,
    "start_time": "2021-10-27T14:27:42.674Z"
   },
   {
    "duration": 23,
    "start_time": "2021-10-27T14:27:42.682Z"
   },
   {
    "duration": 13,
    "start_time": "2021-10-27T14:27:42.708Z"
   },
   {
    "duration": 49,
    "start_time": "2021-10-27T14:27:42.724Z"
   },
   {
    "duration": 5,
    "start_time": "2021-10-27T14:27:42.776Z"
   },
   {
    "duration": 277,
    "start_time": "2021-10-27T14:27:42.783Z"
   },
   {
    "duration": 8,
    "start_time": "2021-10-27T14:27:43.062Z"
   },
   {
    "duration": 18,
    "start_time": "2021-10-27T14:27:43.073Z"
   },
   {
    "duration": 10,
    "start_time": "2021-10-27T14:27:43.093Z"
   },
   {
    "duration": 23,
    "start_time": "2021-10-27T14:27:43.105Z"
   },
   {
    "duration": 29,
    "start_time": "2021-10-27T14:27:43.130Z"
   },
   {
    "duration": 31,
    "start_time": "2021-10-27T14:27:43.161Z"
   },
   {
    "duration": 34,
    "start_time": "2021-10-27T14:27:43.194Z"
   },
   {
    "duration": 36,
    "start_time": "2021-10-27T14:27:43.231Z"
   },
   {
    "duration": 4,
    "start_time": "2021-10-27T14:27:43.270Z"
   },
   {
    "duration": 25,
    "start_time": "2021-10-27T14:27:43.277Z"
   },
   {
    "duration": 69,
    "start_time": "2021-10-27T14:27:43.305Z"
   },
   {
    "duration": 8,
    "start_time": "2021-10-27T14:27:43.376Z"
   },
   {
    "duration": 6,
    "start_time": "2021-10-27T14:27:43.386Z"
   },
   {
    "duration": 27,
    "start_time": "2021-10-27T14:27:43.394Z"
   },
   {
    "duration": 35,
    "start_time": "2021-10-27T14:27:43.423Z"
   },
   {
    "duration": 26,
    "start_time": "2021-10-27T14:27:43.460Z"
   },
   {
    "duration": 26,
    "start_time": "2021-10-27T14:27:43.488Z"
   },
   {
    "duration": 57,
    "start_time": "2021-10-27T14:27:43.516Z"
   },
   {
    "duration": 23,
    "start_time": "2021-10-27T14:27:43.575Z"
   },
   {
    "duration": 81,
    "start_time": "2021-10-27T14:27:43.600Z"
   },
   {
    "duration": 466,
    "start_time": "2021-10-27T14:27:43.683Z"
   },
   {
    "duration": 12,
    "start_time": "2021-10-27T14:27:44.152Z"
   },
   {
    "duration": 7,
    "start_time": "2021-10-27T14:27:44.166Z"
   },
   {
    "duration": 23,
    "start_time": "2021-10-27T14:27:44.175Z"
   },
   {
    "duration": 75,
    "start_time": "2021-10-27T14:27:44.201Z"
   },
   {
    "duration": 6,
    "start_time": "2021-10-27T14:27:44.278Z"
   },
   {
    "duration": 35,
    "start_time": "2021-10-27T14:27:44.287Z"
   },
   {
    "duration": 50,
    "start_time": "2021-10-27T14:27:44.324Z"
   },
   {
    "duration": 23,
    "start_time": "2021-10-27T14:27:44.377Z"
   },
   {
    "duration": 313,
    "start_time": "2021-10-27T14:27:44.402Z"
   },
   {
    "duration": 406,
    "start_time": "2021-10-27T14:27:44.718Z"
   },
   {
    "duration": 7,
    "start_time": "2021-10-27T14:27:45.126Z"
   },
   {
    "duration": 13,
    "start_time": "2021-10-27T15:49:20.724Z"
   },
   {
    "duration": 112,
    "start_time": "2021-10-27T15:49:21.276Z"
   },
   {
    "duration": 7,
    "start_time": "2021-10-27T15:49:21.596Z"
   },
   {
    "duration": 9,
    "start_time": "2021-10-27T15:49:21.819Z"
   },
   {
    "duration": 6,
    "start_time": "2021-10-27T15:49:22.132Z"
   },
   {
    "duration": 20,
    "start_time": "2021-10-27T15:49:22.395Z"
   },
   {
    "duration": 25,
    "start_time": "2021-10-27T15:49:22.932Z"
   },
   {
    "duration": 27,
    "start_time": "2021-10-27T15:49:23.646Z"
   },
   {
    "duration": 6,
    "start_time": "2021-10-27T15:49:24.483Z"
   },
   {
    "duration": 1162,
    "start_time": "2021-10-27T15:49:25.875Z"
   },
   {
    "duration": 520,
    "start_time": "2021-10-27T15:53:51.602Z"
   },
   {
    "duration": 748,
    "start_time": "2021-10-27T15:54:38.795Z"
   },
   {
    "duration": 575,
    "start_time": "2021-10-27T15:55:00.925Z"
   },
   {
    "duration": 53,
    "start_time": "2021-10-27T15:55:16.651Z"
   },
   {
    "duration": 395,
    "start_time": "2021-10-27T16:00:56.441Z"
   },
   {
    "duration": 9688,
    "start_time": "2021-10-27T16:01:08.906Z"
   },
   {
    "duration": 32,
    "start_time": "2021-10-27T16:02:00.227Z"
   },
   {
    "duration": 396,
    "start_time": "2021-10-27T16:02:04.387Z"
   },
   {
    "duration": 9750,
    "start_time": "2021-10-27T16:02:16.153Z"
   },
   {
    "duration": 58,
    "start_time": "2021-10-27T16:02:47.130Z"
   },
   {
    "duration": 47,
    "start_time": "2021-10-27T16:02:58.571Z"
   },
   {
    "duration": 58,
    "start_time": "2021-10-27T16:03:32.930Z"
   },
   {
    "duration": 111,
    "start_time": "2021-10-27T16:03:34.378Z"
   },
   {
    "duration": 68,
    "start_time": "2021-10-27T16:04:33.226Z"
   },
   {
    "duration": 63,
    "start_time": "2021-10-27T16:05:03.737Z"
   },
   {
    "duration": 64,
    "start_time": "2021-10-27T16:05:10.491Z"
   },
   {
    "duration": 105,
    "start_time": "2021-10-27T16:05:15.664Z"
   },
   {
    "duration": 125,
    "start_time": "2021-10-27T16:06:00.338Z"
   },
   {
    "duration": 114,
    "start_time": "2021-10-27T16:06:06.762Z"
   },
   {
    "duration": 500,
    "start_time": "2021-10-27T16:06:28.129Z"
   },
   {
    "duration": 246,
    "start_time": "2021-10-27T16:07:01.423Z"
   },
   {
    "duration": 1108,
    "start_time": "2021-10-27T16:07:20.698Z"
   },
   {
    "duration": 454,
    "start_time": "2021-10-27T16:08:21.107Z"
   },
   {
    "duration": 392,
    "start_time": "2021-10-27T16:09:08.515Z"
   },
   {
    "duration": 755,
    "start_time": "2021-10-27T16:09:44.041Z"
   },
   {
    "duration": 122,
    "start_time": "2021-10-27T16:09:44.799Z"
   },
   {
    "duration": 4,
    "start_time": "2021-10-27T16:09:45.040Z"
   },
   {
    "duration": 217,
    "start_time": "2021-10-27T16:09:45.231Z"
   },
   {
    "duration": 38,
    "start_time": "2021-10-27T16:09:45.625Z"
   },
   {
    "duration": 4,
    "start_time": "2021-10-27T16:09:45.821Z"
   },
   {
    "duration": 18,
    "start_time": "2021-10-27T16:09:46.025Z"
   },
   {
    "duration": 29,
    "start_time": "2021-10-27T16:09:46.179Z"
   },
   {
    "duration": 7,
    "start_time": "2021-10-27T16:09:46.366Z"
   },
   {
    "duration": 28,
    "start_time": "2021-10-27T16:09:46.569Z"
   },
   {
    "duration": 8,
    "start_time": "2021-10-27T16:09:46.713Z"
   },
   {
    "duration": 8,
    "start_time": "2021-10-27T16:09:46.917Z"
   },
   {
    "duration": 137,
    "start_time": "2021-10-27T16:09:47.254Z"
   },
   {
    "duration": 16,
    "start_time": "2021-10-27T16:09:47.394Z"
   },
   {
    "duration": 8,
    "start_time": "2021-10-27T16:09:47.614Z"
   },
   {
    "duration": 22,
    "start_time": "2021-10-27T16:09:47.992Z"
   },
   {
    "duration": 26,
    "start_time": "2021-10-27T16:09:48.170Z"
   },
   {
    "duration": 6,
    "start_time": "2021-10-27T16:09:48.395Z"
   },
   {
    "duration": 41,
    "start_time": "2021-10-27T16:09:51.210Z"
   },
   {
    "duration": 12,
    "start_time": "2021-10-27T16:09:51.706Z"
   },
   {
    "duration": 27,
    "start_time": "2021-10-27T16:09:52.155Z"
   },
   {
    "duration": 19,
    "start_time": "2021-10-27T16:09:52.332Z"
   },
   {
    "duration": 35,
    "start_time": "2021-10-27T16:09:54.368Z"
   },
   {
    "duration": 48,
    "start_time": "2021-10-27T16:09:54.805Z"
   },
   {
    "duration": 37,
    "start_time": "2021-10-27T16:09:54.984Z"
   },
   {
    "duration": 171,
    "start_time": "2021-10-27T16:09:55.151Z"
   },
   {
    "duration": 137,
    "start_time": "2021-10-27T16:09:55.329Z"
   },
   {
    "duration": 144,
    "start_time": "2021-10-27T16:09:55.499Z"
   },
   {
    "duration": 111,
    "start_time": "2021-10-27T16:09:55.716Z"
   },
   {
    "duration": 261,
    "start_time": "2021-10-27T16:09:57.260Z"
   },
   {
    "duration": 411,
    "start_time": "2021-10-27T16:09:57.525Z"
   },
   {
    "duration": 265,
    "start_time": "2021-10-27T16:09:58.401Z"
   },
   {
    "duration": 154,
    "start_time": "2021-10-27T16:10:00.960Z"
   },
   {
    "duration": 4,
    "start_time": "2021-10-27T16:10:01.123Z"
   },
   {
    "duration": 5,
    "start_time": "2021-10-27T16:10:01.345Z"
   },
   {
    "duration": 13,
    "start_time": "2021-10-27T16:10:01.931Z"
   },
   {
    "duration": 6,
    "start_time": "2021-10-27T16:10:02.127Z"
   },
   {
    "duration": 107,
    "start_time": "2021-10-27T16:10:14.536Z"
   },
   {
    "duration": 198,
    "start_time": "2021-10-27T16:10:19.089Z"
   },
   {
    "duration": 284,
    "start_time": "2021-10-27T16:10:25.218Z"
   },
   {
    "duration": 10571,
    "start_time": "2021-10-27T16:10:28.003Z"
   },
   {
    "duration": 389,
    "start_time": "2021-10-27T16:10:38.188Z"
   },
   {
    "duration": 270,
    "start_time": "2021-10-27T16:10:55.306Z"
   },
   {
    "duration": 13415,
    "start_time": "2021-10-27T16:10:56.249Z"
   }
  ],
  "kernelspec": {
   "display_name": "Python 3",
   "language": "python",
   "name": "python3"
  },
  "language_info": {
   "codemirror_mode": {
    "name": "ipython",
    "version": 3
   },
   "file_extension": ".py",
   "mimetype": "text/x-python",
   "name": "python",
   "nbconvert_exporter": "python",
   "pygments_lexer": "ipython3",
   "version": "3.8.3"
  },
  "toc": {
   "base_numbering": 1,
   "nav_menu": {
    "height": "198px",
    "width": "237px"
   },
   "number_sections": true,
   "sideBar": true,
   "skip_h1_title": true,
   "title_cell": "Table of Contents",
   "title_sidebar": "Contents",
   "toc_cell": false,
   "toc_position": {},
   "toc_section_display": true,
   "toc_window_display": false
  }
 },
 "nbformat": 4,
 "nbformat_minor": 2
}
