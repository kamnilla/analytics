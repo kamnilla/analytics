{
 "cells": [
  {
   "cell_type": "markdown",
   "metadata": {},
   "source": [
    "# Определение перспективного тарифа для телеком компании"
   ]
  },
  {
   "cell_type": "markdown",
   "metadata": {},
   "source": [
    "# Описание проекта"
   ]
  },
  {
   "cell_type": "markdown",
   "metadata": {},
   "source": [
    "Клиентам \"Мегалайн\" предлагают два тарифных плана: «Смарт» и «Ультра». Чтобы скорректировать рекламный бюджет, коммерческий департамент хочет понять, какой тариф приносит больше денег.\n",
    "Вам предстоит сделать предварительный анализ тарифов на небольшой выборке клиентов. В вашем распоряжении данные 500 пользователей «Мегалайна»: кто они, откуда, каким тарифом пользуются, сколько звонков и сообщений каждый отправил за 2018 год. Нужно проанализировать поведение клиентов и сделать вывод — какой тариф лучше."
   ]
  },
  {
   "cell_type": "markdown",
   "metadata": {},
   "source": [
    "## Шаг 1. Откройте файл с данными и изучите общую информацию"
   ]
  },
  {
   "cell_type": "markdown",
   "metadata": {},
   "source": [
    "Откроем файлы, посмотрим, чтов них находится и какой размер данных нас ждет"
   ]
  },
  {
   "cell_type": "code",
   "execution_count": 1,
   "metadata": {},
   "outputs": [],
   "source": [
    "import pandas as pd\n",
    "\n",
    "calls = pd.read_csv('/datasets/calls.csv')\n",
    "internet = pd.read_csv('/datasets/internet.csv')\n",
    "messages = pd.read_csv('/datasets/messages.csv')\n",
    "tariffs = pd.read_csv('/datasets/tariffs.csv')\n",
    "users = pd.read_csv('/datasets/users.csv')"
   ]
  },
  {
   "cell_type": "code",
   "execution_count": 2,
   "metadata": {
    "scrolled": true
   },
   "outputs": [
    {
     "name": "stdout",
     "output_type": "stream",
     "text": [
      "<class 'pandas.core.frame.DataFrame'>\n",
      "RangeIndex: 202607 entries, 0 to 202606\n",
      "Data columns (total 4 columns):\n",
      "id           202607 non-null object\n",
      "call_date    202607 non-null object\n",
      "duration     202607 non-null float64\n",
      "user_id      202607 non-null int64\n",
      "dtypes: float64(1), int64(1), object(2)\n",
      "memory usage: 6.2+ MB\n",
      "None\n",
      "       id   call_date  duration  user_id\n",
      "0  1000_0  2018-07-25      0.00     1000\n",
      "1  1000_1  2018-08-17      0.00     1000\n",
      "2  1000_2  2018-06-11      2.85     1000\n",
      "3  1000_3  2018-09-21     13.80     1000\n",
      "4  1000_4  2018-12-15      5.18     1000\n",
      "            duration        user_id\n",
      "count  202607.000000  202607.000000\n",
      "mean        6.755887    1253.940619\n",
      "std         5.843365     144.722751\n",
      "min         0.000000    1000.000000\n",
      "25%         1.300000    1126.000000\n",
      "50%         6.000000    1260.000000\n",
      "75%        10.700000    1379.000000\n",
      "max        38.000000    1499.000000\n",
      "<class 'pandas.core.frame.DataFrame'>\n",
      "RangeIndex: 149396 entries, 0 to 149395\n",
      "Data columns (total 5 columns):\n",
      "Unnamed: 0      149396 non-null int64\n",
      "id              149396 non-null object\n",
      "mb_used         149396 non-null float64\n",
      "session_date    149396 non-null object\n",
      "user_id         149396 non-null int64\n",
      "dtypes: float64(1), int64(2), object(2)\n",
      "memory usage: 5.7+ MB\n",
      "None\n",
      "   Unnamed: 0      id  mb_used session_date  user_id\n",
      "0           0  1000_0   112.95   2018-11-25     1000\n",
      "1           1  1000_1  1052.81   2018-09-07     1000\n",
      "2           2  1000_2  1197.26   2018-06-25     1000\n",
      "3           3  1000_3   550.27   2018-08-22     1000\n",
      "4           4  1000_4   302.56   2018-09-24     1000\n",
      "          Unnamed: 0        mb_used        user_id\n",
      "count  149396.000000  149396.000000  149396.000000\n",
      "mean    74697.500000     370.192426    1252.099842\n",
      "std     43127.054745     278.300951     144.050823\n",
      "min         0.000000       0.000000    1000.000000\n",
      "25%     37348.750000     138.187500    1130.000000\n",
      "50%     74697.500000     348.015000    1251.000000\n",
      "75%    112046.250000     559.552500    1380.000000\n",
      "max    149395.000000    1724.830000    1499.000000\n",
      "<class 'pandas.core.frame.DataFrame'>\n",
      "RangeIndex: 123036 entries, 0 to 123035\n",
      "Data columns (total 3 columns):\n",
      "id              123036 non-null object\n",
      "message_date    123036 non-null object\n",
      "user_id         123036 non-null int64\n",
      "dtypes: int64(1), object(2)\n",
      "memory usage: 2.8+ MB\n",
      "None\n",
      "       id message_date  user_id\n",
      "0  1000_0   2018-06-27     1000\n",
      "1  1000_1   2018-10-08     1000\n",
      "2  1000_2   2018-08-04     1000\n",
      "3  1000_3   2018-06-16     1000\n",
      "4  1000_4   2018-12-05     1000\n",
      "             user_id\n",
      "count  123036.000000\n",
      "mean     1256.989410\n",
      "std       143.523967\n",
      "min      1000.000000\n",
      "25%      1134.000000\n",
      "50%      1271.000000\n",
      "75%      1381.000000\n",
      "max      1499.000000\n",
      "<class 'pandas.core.frame.DataFrame'>\n",
      "RangeIndex: 2 entries, 0 to 1\n",
      "Data columns (total 8 columns):\n",
      "messages_included        2 non-null int64\n",
      "mb_per_month_included    2 non-null int64\n",
      "minutes_included         2 non-null int64\n",
      "rub_monthly_fee          2 non-null int64\n",
      "rub_per_gb               2 non-null int64\n",
      "rub_per_message          2 non-null int64\n",
      "rub_per_minute           2 non-null int64\n",
      "tariff_name              2 non-null object\n",
      "dtypes: int64(7), object(1)\n",
      "memory usage: 256.0+ bytes\n",
      "None\n",
      "   messages_included  mb_per_month_included  minutes_included  \\\n",
      "0                 50                  15360               500   \n",
      "1               1000                  30720              3000   \n",
      "\n",
      "   rub_monthly_fee  rub_per_gb  rub_per_message  rub_per_minute tariff_name  \n",
      "0              550         200                3               3       smart  \n",
      "1             1950         150                1               1       ultra  \n",
      "       messages_included  mb_per_month_included  minutes_included  \\\n",
      "count           2.000000               2.000000          2.000000   \n",
      "mean          525.000000           23040.000000       1750.000000   \n",
      "std           671.751442           10861.160159       1767.766953   \n",
      "min            50.000000           15360.000000        500.000000   \n",
      "25%           287.500000           19200.000000       1125.000000   \n",
      "50%           525.000000           23040.000000       1750.000000   \n",
      "75%           762.500000           26880.000000       2375.000000   \n",
      "max          1000.000000           30720.000000       3000.000000   \n",
      "\n",
      "       rub_monthly_fee  rub_per_gb  rub_per_message  rub_per_minute  \n",
      "count         2.000000    2.000000         2.000000        2.000000  \n",
      "mean       1250.000000  175.000000         2.000000        2.000000  \n",
      "std         989.949494   35.355339         1.414214        1.414214  \n",
      "min         550.000000  150.000000         1.000000        1.000000  \n",
      "25%         900.000000  162.500000         1.500000        1.500000  \n",
      "50%        1250.000000  175.000000         2.000000        2.000000  \n",
      "75%        1600.000000  187.500000         2.500000        2.500000  \n",
      "max        1950.000000  200.000000         3.000000        3.000000  \n",
      "<class 'pandas.core.frame.DataFrame'>\n",
      "RangeIndex: 500 entries, 0 to 499\n",
      "Data columns (total 8 columns):\n",
      "user_id       500 non-null int64\n",
      "age           500 non-null int64\n",
      "churn_date    38 non-null object\n",
      "city          500 non-null object\n",
      "first_name    500 non-null object\n",
      "last_name     500 non-null object\n",
      "reg_date      500 non-null object\n",
      "tariff        500 non-null object\n",
      "dtypes: int64(2), object(6)\n",
      "memory usage: 31.4+ KB\n",
      "None\n",
      "   user_id  age churn_date         city first_name  last_name    reg_date  \\\n",
      "0     1000   52        NaN    Краснодар     Рафаил  Верещагин  2018-05-25   \n",
      "1     1001   41        NaN       Москва       Иван       Ежов  2018-11-01   \n",
      "2     1002   59        NaN  Стерлитамак    Евгений  Абрамович  2018-06-17   \n",
      "3     1003   23        NaN       Москва      Белла   Белякова  2018-08-17   \n",
      "4     1004   68        NaN  Новокузнецк    Татьяна   Авдеенко  2018-05-14   \n",
      "\n",
      "  tariff  \n",
      "0  ultra  \n",
      "1  smart  \n",
      "2  smart  \n",
      "3  ultra  \n",
      "4  ultra  \n",
      "           user_id        age\n",
      "count   500.000000  500.00000\n",
      "mean   1249.500000   46.58800\n",
      "std     144.481833   16.66763\n",
      "min    1000.000000   18.00000\n",
      "25%    1124.750000   32.00000\n",
      "50%    1249.500000   46.00000\n",
      "75%    1374.250000   62.00000\n",
      "max    1499.000000   75.00000\n"
     ]
    }
   ],
   "source": [
    "print(calls.info())\n",
    "print(calls.head())\n",
    "print(calls.describe())\n",
    "print(internet.info())\n",
    "print(internet.head())\n",
    "print(internet.describe())\n",
    "print(messages.info())\n",
    "print(messages.head())\n",
    "print(messages.describe())\n",
    "print(tariffs.info())\n",
    "print(tariffs.head())\n",
    "print(tariffs.describe())\n",
    "print(users.info())\n",
    "print(users.head())\n",
    "print(users.describe())"
   ]
  },
  {
   "cell_type": "markdown",
   "metadata": {},
   "source": [
    "Видим, что в таблицах представлены различные данные у пользователей одной сети. В столбцах имеются 0 значения, в случае с интернетом и звонками мы не должны этого исправлять, т.к. это значит, что звонки могут быть пропущенными (или исходящими не принятыми), а интернет мог быть неиспользован в течение периода."
   ]
  },
  {
   "cell_type": "markdown",
   "metadata": {},
   "source": [
    "**Вывод**"
   ]
  },
  {
   "cell_type": "markdown",
   "metadata": {},
   "source": [
    "В таблицах разные размеры, что может свидетельствовать о том, что в определенные месяцы какие-то функции не использовались людьми. Пустых столбцов нет, а значит, притупаем к подготовке."
   ]
  },
  {
   "cell_type": "markdown",
   "metadata": {},
   "source": [
    "## Шаг 2. Подготовьте данные"
   ]
  },
  {
   "cell_type": "markdown",
   "metadata": {},
   "source": [
    "### Приведем данные к нужным типам ###"
   ]
  },
  {
   "cell_type": "code",
   "execution_count": 3,
   "metadata": {},
   "outputs": [],
   "source": [
    "internet = internet.drop('Unnamed: 0', 1)\n",
    "internet['user_id'] = internet['user_id'].astype('str')\n",
    "calls['user_id'] = calls['user_id'].astype('str')\n",
    "messages['user_id'] = messages['user_id'].astype('str')\n",
    "users['user_id'] = users['user_id'].astype('str')"
   ]
  },
  {
   "cell_type": "code",
   "execution_count": 4,
   "metadata": {},
   "outputs": [
    {
     "data": {
      "text/html": [
       "<div>\n",
       "<style scoped>\n",
       "    .dataframe tbody tr th:only-of-type {\n",
       "        vertical-align: middle;\n",
       "    }\n",
       "\n",
       "    .dataframe tbody tr th {\n",
       "        vertical-align: top;\n",
       "    }\n",
       "\n",
       "    .dataframe thead th {\n",
       "        text-align: right;\n",
       "    }\n",
       "</style>\n",
       "<table border=\"1\" class=\"dataframe\">\n",
       "  <thead>\n",
       "    <tr style=\"text-align: right;\">\n",
       "      <th></th>\n",
       "      <th></th>\n",
       "      <th>mb_used</th>\n",
       "      <th>gb_used</th>\n",
       "    </tr>\n",
       "    <tr>\n",
       "      <th>user_id</th>\n",
       "      <th>month</th>\n",
       "      <th></th>\n",
       "      <th></th>\n",
       "    </tr>\n",
       "  </thead>\n",
       "  <tbody>\n",
       "    <tr>\n",
       "      <td rowspan=\"5\" valign=\"top\">1000</td>\n",
       "      <td>5</td>\n",
       "      <td>2253.49</td>\n",
       "      <td>3</td>\n",
       "    </tr>\n",
       "    <tr>\n",
       "      <td>6</td>\n",
       "      <td>23233.77</td>\n",
       "      <td>23</td>\n",
       "    </tr>\n",
       "    <tr>\n",
       "      <td>7</td>\n",
       "      <td>14003.64</td>\n",
       "      <td>14</td>\n",
       "    </tr>\n",
       "    <tr>\n",
       "      <td>8</td>\n",
       "      <td>14055.93</td>\n",
       "      <td>14</td>\n",
       "    </tr>\n",
       "    <tr>\n",
       "      <td>9</td>\n",
       "      <td>14568.91</td>\n",
       "      <td>15</td>\n",
       "    </tr>\n",
       "  </tbody>\n",
       "</table>\n",
       "</div>"
      ],
      "text/plain": [
       "                mb_used  gb_used\n",
       "user_id month                   \n",
       "1000    5       2253.49        3\n",
       "        6      23233.77       23\n",
       "        7      14003.64       14\n",
       "        8      14055.93       14\n",
       "        9      14568.91       15"
      ]
     },
     "execution_count": 4,
     "metadata": {},
     "output_type": "execute_result"
    }
   ],
   "source": [
    "import numpy as np\n",
    "calls['duration']= calls['duration'].apply(np.ceil).astype('int')\n",
    "internet['month'] = pd.to_datetime(internet['session_date']).dt.month\n",
    "pivot_internet = internet.pivot_table(index=['user_id', 'month'], values ='mb_used', aggfunc='sum')\n",
    "pivot_internet['gb_used'] = (pivot_internet['mb_used']/1024).apply(np.ceil).astype('int')\n",
    "pivot_internet.head()"
   ]
  },
  {
   "cell_type": "code",
   "execution_count": 5,
   "metadata": {},
   "outputs": [
    {
     "data": {
      "text/html": [
       "<div>\n",
       "<style scoped>\n",
       "    .dataframe tbody tr th:only-of-type {\n",
       "        vertical-align: middle;\n",
       "    }\n",
       "\n",
       "    .dataframe tbody tr th {\n",
       "        vertical-align: top;\n",
       "    }\n",
       "\n",
       "    .dataframe thead th {\n",
       "        text-align: right;\n",
       "    }\n",
       "</style>\n",
       "<table border=\"1\" class=\"dataframe\">\n",
       "  <thead>\n",
       "    <tr style=\"text-align: right;\">\n",
       "      <th></th>\n",
       "      <th></th>\n",
       "      <th>duration_mins</th>\n",
       "    </tr>\n",
       "    <tr>\n",
       "      <th>user_id</th>\n",
       "      <th>month</th>\n",
       "      <th></th>\n",
       "    </tr>\n",
       "  </thead>\n",
       "  <tbody>\n",
       "    <tr>\n",
       "      <td rowspan=\"5\" valign=\"top\">1000</td>\n",
       "      <td>5</td>\n",
       "      <td>159</td>\n",
       "    </tr>\n",
       "    <tr>\n",
       "      <td>6</td>\n",
       "      <td>172</td>\n",
       "    </tr>\n",
       "    <tr>\n",
       "      <td>7</td>\n",
       "      <td>340</td>\n",
       "    </tr>\n",
       "    <tr>\n",
       "      <td>8</td>\n",
       "      <td>408</td>\n",
       "    </tr>\n",
       "    <tr>\n",
       "      <td>9</td>\n",
       "      <td>466</td>\n",
       "    </tr>\n",
       "    <tr>\n",
       "      <td>...</td>\n",
       "      <td>...</td>\n",
       "      <td>...</td>\n",
       "    </tr>\n",
       "    <tr>\n",
       "      <td>1498</td>\n",
       "      <td>10</td>\n",
       "      <td>247</td>\n",
       "    </tr>\n",
       "    <tr>\n",
       "      <td rowspan=\"4\" valign=\"top\">1499</td>\n",
       "      <td>9</td>\n",
       "      <td>70</td>\n",
       "    </tr>\n",
       "    <tr>\n",
       "      <td>10</td>\n",
       "      <td>449</td>\n",
       "    </tr>\n",
       "    <tr>\n",
       "      <td>11</td>\n",
       "      <td>612</td>\n",
       "    </tr>\n",
       "    <tr>\n",
       "      <td>12</td>\n",
       "      <td>492</td>\n",
       "    </tr>\n",
       "  </tbody>\n",
       "</table>\n",
       "<p>3174 rows × 1 columns</p>\n",
       "</div>"
      ],
      "text/plain": [
       "               duration_mins\n",
       "user_id month               \n",
       "1000    5                159\n",
       "        6                172\n",
       "        7                340\n",
       "        8                408\n",
       "        9                466\n",
       "...                      ...\n",
       "1498    10               247\n",
       "1499    9                 70\n",
       "        10               449\n",
       "        11               612\n",
       "        12               492\n",
       "\n",
       "[3174 rows x 1 columns]"
      ]
     },
     "execution_count": 5,
     "metadata": {},
     "output_type": "execute_result"
    }
   ],
   "source": [
    "calls['month'] = pd.to_datetime(calls['call_date']).dt.month\n",
    "pivot_calls = calls.pivot_table(index=['user_id', 'month'], values='duration', aggfunc='sum')\n",
    "pivot_calls.columns = ['duration_mins']\n",
    "pivot_calls"
   ]
  },
  {
   "cell_type": "code",
   "execution_count": 6,
   "metadata": {},
   "outputs": [
    {
     "data": {
      "text/html": [
       "<div>\n",
       "<style scoped>\n",
       "    .dataframe tbody tr th:only-of-type {\n",
       "        vertical-align: middle;\n",
       "    }\n",
       "\n",
       "    .dataframe tbody tr th {\n",
       "        vertical-align: top;\n",
       "    }\n",
       "\n",
       "    .dataframe thead th {\n",
       "        text-align: right;\n",
       "    }\n",
       "</style>\n",
       "<table border=\"1\" class=\"dataframe\">\n",
       "  <thead>\n",
       "    <tr style=\"text-align: right;\">\n",
       "      <th></th>\n",
       "      <th></th>\n",
       "      <th>count_messages</th>\n",
       "    </tr>\n",
       "    <tr>\n",
       "      <th>user_id</th>\n",
       "      <th>month</th>\n",
       "      <th></th>\n",
       "    </tr>\n",
       "  </thead>\n",
       "  <tbody>\n",
       "    <tr>\n",
       "      <td rowspan=\"5\" valign=\"top\">1000</td>\n",
       "      <td>5</td>\n",
       "      <td>22</td>\n",
       "    </tr>\n",
       "    <tr>\n",
       "      <td>6</td>\n",
       "      <td>60</td>\n",
       "    </tr>\n",
       "    <tr>\n",
       "      <td>7</td>\n",
       "      <td>75</td>\n",
       "    </tr>\n",
       "    <tr>\n",
       "      <td>8</td>\n",
       "      <td>81</td>\n",
       "    </tr>\n",
       "    <tr>\n",
       "      <td>9</td>\n",
       "      <td>57</td>\n",
       "    </tr>\n",
       "    <tr>\n",
       "      <td>...</td>\n",
       "      <td>...</td>\n",
       "      <td>...</td>\n",
       "    </tr>\n",
       "    <tr>\n",
       "      <td>1498</td>\n",
       "      <td>10</td>\n",
       "      <td>42</td>\n",
       "    </tr>\n",
       "    <tr>\n",
       "      <td rowspan=\"4\" valign=\"top\">1499</td>\n",
       "      <td>9</td>\n",
       "      <td>11</td>\n",
       "    </tr>\n",
       "    <tr>\n",
       "      <td>10</td>\n",
       "      <td>48</td>\n",
       "    </tr>\n",
       "    <tr>\n",
       "      <td>11</td>\n",
       "      <td>59</td>\n",
       "    </tr>\n",
       "    <tr>\n",
       "      <td>12</td>\n",
       "      <td>66</td>\n",
       "    </tr>\n",
       "  </tbody>\n",
       "</table>\n",
       "<p>2717 rows × 1 columns</p>\n",
       "</div>"
      ],
      "text/plain": [
       "               count_messages\n",
       "user_id month                \n",
       "1000    5                  22\n",
       "        6                  60\n",
       "        7                  75\n",
       "        8                  81\n",
       "        9                  57\n",
       "...                       ...\n",
       "1498    10                 42\n",
       "1499    9                  11\n",
       "        10                 48\n",
       "        11                 59\n",
       "        12                 66\n",
       "\n",
       "[2717 rows x 1 columns]"
      ]
     },
     "execution_count": 6,
     "metadata": {},
     "output_type": "execute_result"
    }
   ],
   "source": [
    "messages['month'] = pd.to_datetime(messages['message_date']).dt.month\n",
    "pivot_messages = messages.pivot_table(index=['user_id','month'], values='id', aggfunc='count')\n",
    "pivot_messages.columns = ['count_messages']\n",
    "pivot_messages"
   ]
  },
  {
   "cell_type": "markdown",
   "metadata": {},
   "source": [
    "Создали таблицу, в которой видно округленное в большую сторону количество гигабайтов, минут, а также кол-во сообщений и тариф, чтобы было понятно, сколько списали у того или иного человека.\n",
    "\n",
    "Объединим эти данные в один датафрейм для вычисления месячной абонентской платы."
   ]
  },
  {
   "cell_type": "code",
   "execution_count": 7,
   "metadata": {},
   "outputs": [
    {
     "data": {
      "text/html": [
       "<div>\n",
       "<style scoped>\n",
       "    .dataframe tbody tr th:only-of-type {\n",
       "        vertical-align: middle;\n",
       "    }\n",
       "\n",
       "    .dataframe tbody tr th {\n",
       "        vertical-align: top;\n",
       "    }\n",
       "\n",
       "    .dataframe thead th {\n",
       "        text-align: right;\n",
       "    }\n",
       "</style>\n",
       "<table border=\"1\" class=\"dataframe\">\n",
       "  <thead>\n",
       "    <tr style=\"text-align: right;\">\n",
       "      <th></th>\n",
       "      <th></th>\n",
       "      <th>duration_mins</th>\n",
       "      <th>count_messages</th>\n",
       "      <th>mb_used</th>\n",
       "      <th>gb_used</th>\n",
       "    </tr>\n",
       "    <tr>\n",
       "      <th>user_id</th>\n",
       "      <th>month</th>\n",
       "      <th></th>\n",
       "      <th></th>\n",
       "      <th></th>\n",
       "      <th></th>\n",
       "    </tr>\n",
       "  </thead>\n",
       "  <tbody>\n",
       "    <tr>\n",
       "      <td rowspan=\"5\" valign=\"top\">1000</td>\n",
       "      <td>5</td>\n",
       "      <td>159.0</td>\n",
       "      <td>22.0</td>\n",
       "      <td>2253.49</td>\n",
       "      <td>3.0</td>\n",
       "    </tr>\n",
       "    <tr>\n",
       "      <td>6</td>\n",
       "      <td>172.0</td>\n",
       "      <td>60.0</td>\n",
       "      <td>23233.77</td>\n",
       "      <td>23.0</td>\n",
       "    </tr>\n",
       "    <tr>\n",
       "      <td>7</td>\n",
       "      <td>340.0</td>\n",
       "      <td>75.0</td>\n",
       "      <td>14003.64</td>\n",
       "      <td>14.0</td>\n",
       "    </tr>\n",
       "    <tr>\n",
       "      <td>8</td>\n",
       "      <td>408.0</td>\n",
       "      <td>81.0</td>\n",
       "      <td>14055.93</td>\n",
       "      <td>14.0</td>\n",
       "    </tr>\n",
       "    <tr>\n",
       "      <td>9</td>\n",
       "      <td>466.0</td>\n",
       "      <td>57.0</td>\n",
       "      <td>14568.91</td>\n",
       "      <td>15.0</td>\n",
       "    </tr>\n",
       "    <tr>\n",
       "      <td>...</td>\n",
       "      <td>...</td>\n",
       "      <td>...</td>\n",
       "      <td>...</td>\n",
       "      <td>...</td>\n",
       "      <td>...</td>\n",
       "    </tr>\n",
       "    <tr>\n",
       "      <td rowspan=\"4\" valign=\"top\">1489</td>\n",
       "      <td>9</td>\n",
       "      <td>0.0</td>\n",
       "      <td>32.0</td>\n",
       "      <td>17206.30</td>\n",
       "      <td>17.0</td>\n",
       "    </tr>\n",
       "    <tr>\n",
       "      <td>10</td>\n",
       "      <td>0.0</td>\n",
       "      <td>21.0</td>\n",
       "      <td>19559.44</td>\n",
       "      <td>20.0</td>\n",
       "    </tr>\n",
       "    <tr>\n",
       "      <td>11</td>\n",
       "      <td>0.0</td>\n",
       "      <td>20.0</td>\n",
       "      <td>17491.56</td>\n",
       "      <td>18.0</td>\n",
       "    </tr>\n",
       "    <tr>\n",
       "      <td>12</td>\n",
       "      <td>0.0</td>\n",
       "      <td>35.0</td>\n",
       "      <td>17322.51</td>\n",
       "      <td>17.0</td>\n",
       "    </tr>\n",
       "    <tr>\n",
       "      <td>1476</td>\n",
       "      <td>4</td>\n",
       "      <td>0.0</td>\n",
       "      <td>0.0</td>\n",
       "      <td>530.78</td>\n",
       "      <td>1.0</td>\n",
       "    </tr>\n",
       "  </tbody>\n",
       "</table>\n",
       "<p>3214 rows × 4 columns</p>\n",
       "</div>"
      ],
      "text/plain": [
       "               duration_mins  count_messages   mb_used  gb_used\n",
       "user_id month                                                  \n",
       "1000    5              159.0            22.0   2253.49      3.0\n",
       "        6              172.0            60.0  23233.77     23.0\n",
       "        7              340.0            75.0  14003.64     14.0\n",
       "        8              408.0            81.0  14055.93     14.0\n",
       "        9              466.0            57.0  14568.91     15.0\n",
       "...                      ...             ...       ...      ...\n",
       "1489    9                0.0            32.0  17206.30     17.0\n",
       "        10               0.0            21.0  19559.44     20.0\n",
       "        11               0.0            20.0  17491.56     18.0\n",
       "        12               0.0            35.0  17322.51     17.0\n",
       "1476    4                0.0             0.0    530.78      1.0\n",
       "\n",
       "[3214 rows x 4 columns]"
      ]
     },
     "execution_count": 7,
     "metadata": {},
     "output_type": "execute_result"
    }
   ],
   "source": [
    "data = pivot_calls.merge(pivot_messages, on=['user_id','month'], how='outer')\n",
    "data = data.merge(pivot_internet, on=['user_id','month'], how='outer').fillna(0)\n",
    "data"
   ]
  },
  {
   "cell_type": "markdown",
   "metadata": {},
   "source": [
    "Создали таблицу, в которой отобразили помесячно сколько было использовано минут, сообщений и гигабайт Интернета, далее необходимо понять, сколько было заплачено в месяц. "
   ]
  },
  {
   "cell_type": "code",
   "execution_count": 8,
   "metadata": {},
   "outputs": [
    {
     "data": {
      "text/html": [
       "<div>\n",
       "<style scoped>\n",
       "    .dataframe tbody tr th:only-of-type {\n",
       "        vertical-align: middle;\n",
       "    }\n",
       "\n",
       "    .dataframe tbody tr th {\n",
       "        vertical-align: top;\n",
       "    }\n",
       "\n",
       "    .dataframe thead th {\n",
       "        text-align: right;\n",
       "    }\n",
       "</style>\n",
       "<table border=\"1\" class=\"dataframe\">\n",
       "  <thead>\n",
       "    <tr style=\"text-align: right;\">\n",
       "      <th></th>\n",
       "      <th>user_id</th>\n",
       "      <th>age</th>\n",
       "      <th>churn_date</th>\n",
       "      <th>city</th>\n",
       "      <th>first_name</th>\n",
       "      <th>last_name</th>\n",
       "      <th>reg_date</th>\n",
       "      <th>tariff</th>\n",
       "    </tr>\n",
       "  </thead>\n",
       "  <tbody>\n",
       "    <tr>\n",
       "      <td>0</td>\n",
       "      <td>1000</td>\n",
       "      <td>52</td>\n",
       "      <td>NaN</td>\n",
       "      <td>Краснодар</td>\n",
       "      <td>Рафаил</td>\n",
       "      <td>Верещагин</td>\n",
       "      <td>2018-05-25</td>\n",
       "      <td>ultra</td>\n",
       "    </tr>\n",
       "    <tr>\n",
       "      <td>1</td>\n",
       "      <td>1001</td>\n",
       "      <td>41</td>\n",
       "      <td>NaN</td>\n",
       "      <td>Москва</td>\n",
       "      <td>Иван</td>\n",
       "      <td>Ежов</td>\n",
       "      <td>2018-11-01</td>\n",
       "      <td>smart</td>\n",
       "    </tr>\n",
       "    <tr>\n",
       "      <td>2</td>\n",
       "      <td>1002</td>\n",
       "      <td>59</td>\n",
       "      <td>NaN</td>\n",
       "      <td>Стерлитамак</td>\n",
       "      <td>Евгений</td>\n",
       "      <td>Абрамович</td>\n",
       "      <td>2018-06-17</td>\n",
       "      <td>smart</td>\n",
       "    </tr>\n",
       "    <tr>\n",
       "      <td>3</td>\n",
       "      <td>1003</td>\n",
       "      <td>23</td>\n",
       "      <td>NaN</td>\n",
       "      <td>Москва</td>\n",
       "      <td>Белла</td>\n",
       "      <td>Белякова</td>\n",
       "      <td>2018-08-17</td>\n",
       "      <td>ultra</td>\n",
       "    </tr>\n",
       "    <tr>\n",
       "      <td>4</td>\n",
       "      <td>1004</td>\n",
       "      <td>68</td>\n",
       "      <td>NaN</td>\n",
       "      <td>Новокузнецк</td>\n",
       "      <td>Татьяна</td>\n",
       "      <td>Авдеенко</td>\n",
       "      <td>2018-05-14</td>\n",
       "      <td>ultra</td>\n",
       "    </tr>\n",
       "    <tr>\n",
       "      <td>...</td>\n",
       "      <td>...</td>\n",
       "      <td>...</td>\n",
       "      <td>...</td>\n",
       "      <td>...</td>\n",
       "      <td>...</td>\n",
       "      <td>...</td>\n",
       "      <td>...</td>\n",
       "      <td>...</td>\n",
       "    </tr>\n",
       "    <tr>\n",
       "      <td>495</td>\n",
       "      <td>1495</td>\n",
       "      <td>65</td>\n",
       "      <td>NaN</td>\n",
       "      <td>Иркутск</td>\n",
       "      <td>Авксентий</td>\n",
       "      <td>Фокин</td>\n",
       "      <td>2018-08-28</td>\n",
       "      <td>ultra</td>\n",
       "    </tr>\n",
       "    <tr>\n",
       "      <td>496</td>\n",
       "      <td>1496</td>\n",
       "      <td>36</td>\n",
       "      <td>NaN</td>\n",
       "      <td>Вологда</td>\n",
       "      <td>Трифон</td>\n",
       "      <td>Блохин</td>\n",
       "      <td>2018-01-27</td>\n",
       "      <td>smart</td>\n",
       "    </tr>\n",
       "    <tr>\n",
       "      <td>497</td>\n",
       "      <td>1497</td>\n",
       "      <td>32</td>\n",
       "      <td>NaN</td>\n",
       "      <td>Челябинск</td>\n",
       "      <td>Каролина</td>\n",
       "      <td>Агеева</td>\n",
       "      <td>2018-10-09</td>\n",
       "      <td>smart</td>\n",
       "    </tr>\n",
       "    <tr>\n",
       "      <td>498</td>\n",
       "      <td>1498</td>\n",
       "      <td>68</td>\n",
       "      <td>2018-10-25</td>\n",
       "      <td>Владикавказ</td>\n",
       "      <td>Всеволод</td>\n",
       "      <td>Акимчин</td>\n",
       "      <td>2018-07-19</td>\n",
       "      <td>smart</td>\n",
       "    </tr>\n",
       "    <tr>\n",
       "      <td>499</td>\n",
       "      <td>1499</td>\n",
       "      <td>35</td>\n",
       "      <td>NaN</td>\n",
       "      <td>Пермь</td>\n",
       "      <td>Гектор</td>\n",
       "      <td>Корнилов</td>\n",
       "      <td>2018-09-27</td>\n",
       "      <td>smart</td>\n",
       "    </tr>\n",
       "  </tbody>\n",
       "</table>\n",
       "<p>500 rows × 8 columns</p>\n",
       "</div>"
      ],
      "text/plain": [
       "    user_id  age  churn_date         city first_name  last_name    reg_date  \\\n",
       "0      1000   52         NaN    Краснодар     Рафаил  Верещагин  2018-05-25   \n",
       "1      1001   41         NaN       Москва       Иван       Ежов  2018-11-01   \n",
       "2      1002   59         NaN  Стерлитамак    Евгений  Абрамович  2018-06-17   \n",
       "3      1003   23         NaN       Москва      Белла   Белякова  2018-08-17   \n",
       "4      1004   68         NaN  Новокузнецк    Татьяна   Авдеенко  2018-05-14   \n",
       "..      ...  ...         ...          ...        ...        ...         ...   \n",
       "495    1495   65         NaN      Иркутск  Авксентий      Фокин  2018-08-28   \n",
       "496    1496   36         NaN      Вологда     Трифон     Блохин  2018-01-27   \n",
       "497    1497   32         NaN    Челябинск   Каролина     Агеева  2018-10-09   \n",
       "498    1498   68  2018-10-25  Владикавказ   Всеволод    Акимчин  2018-07-19   \n",
       "499    1499   35         NaN        Пермь     Гектор   Корнилов  2018-09-27   \n",
       "\n",
       "    tariff  \n",
       "0    ultra  \n",
       "1    smart  \n",
       "2    smart  \n",
       "3    ultra  \n",
       "4    ultra  \n",
       "..     ...  \n",
       "495  ultra  \n",
       "496  smart  \n",
       "497  smart  \n",
       "498  smart  \n",
       "499  smart  \n",
       "\n",
       "[500 rows x 8 columns]"
      ]
     },
     "execution_count": 8,
     "metadata": {},
     "output_type": "execute_result"
    }
   ],
   "source": [
    "data1 = users.copy()\n",
    "data1"
   ]
  },
  {
   "cell_type": "code",
   "execution_count": 9,
   "metadata": {},
   "outputs": [],
   "source": [
    "data1 = data1.drop(['age','churn_date','first_name','last_name','reg_date'],axis=1)"
   ]
  },
  {
   "cell_type": "code",
   "execution_count": 10,
   "metadata": {},
   "outputs": [
    {
     "data": {
      "text/html": [
       "<div>\n",
       "<style scoped>\n",
       "    .dataframe tbody tr th:only-of-type {\n",
       "        vertical-align: middle;\n",
       "    }\n",
       "\n",
       "    .dataframe tbody tr th {\n",
       "        vertical-align: top;\n",
       "    }\n",
       "\n",
       "    .dataframe thead th {\n",
       "        text-align: right;\n",
       "    }\n",
       "</style>\n",
       "<table border=\"1\" class=\"dataframe\">\n",
       "  <thead>\n",
       "    <tr style=\"text-align: right;\">\n",
       "      <th></th>\n",
       "      <th>user_id</th>\n",
       "      <th>duration_mins</th>\n",
       "      <th>count_messages</th>\n",
       "      <th>mb_used</th>\n",
       "      <th>gb_used</th>\n",
       "      <th>city</th>\n",
       "      <th>tariff</th>\n",
       "    </tr>\n",
       "  </thead>\n",
       "  <tbody>\n",
       "    <tr>\n",
       "      <td>0</td>\n",
       "      <td>1000</td>\n",
       "      <td>159.0</td>\n",
       "      <td>22.0</td>\n",
       "      <td>2253.49</td>\n",
       "      <td>3.0</td>\n",
       "      <td>Краснодар</td>\n",
       "      <td>ultra</td>\n",
       "    </tr>\n",
       "    <tr>\n",
       "      <td>1</td>\n",
       "      <td>1000</td>\n",
       "      <td>172.0</td>\n",
       "      <td>60.0</td>\n",
       "      <td>23233.77</td>\n",
       "      <td>23.0</td>\n",
       "      <td>Краснодар</td>\n",
       "      <td>ultra</td>\n",
       "    </tr>\n",
       "    <tr>\n",
       "      <td>2</td>\n",
       "      <td>1000</td>\n",
       "      <td>340.0</td>\n",
       "      <td>75.0</td>\n",
       "      <td>14003.64</td>\n",
       "      <td>14.0</td>\n",
       "      <td>Краснодар</td>\n",
       "      <td>ultra</td>\n",
       "    </tr>\n",
       "    <tr>\n",
       "      <td>3</td>\n",
       "      <td>1000</td>\n",
       "      <td>408.0</td>\n",
       "      <td>81.0</td>\n",
       "      <td>14055.93</td>\n",
       "      <td>14.0</td>\n",
       "      <td>Краснодар</td>\n",
       "      <td>ultra</td>\n",
       "    </tr>\n",
       "    <tr>\n",
       "      <td>4</td>\n",
       "      <td>1000</td>\n",
       "      <td>466.0</td>\n",
       "      <td>57.0</td>\n",
       "      <td>14568.91</td>\n",
       "      <td>15.0</td>\n",
       "      <td>Краснодар</td>\n",
       "      <td>ultra</td>\n",
       "    </tr>\n",
       "    <tr>\n",
       "      <td>...</td>\n",
       "      <td>...</td>\n",
       "      <td>...</td>\n",
       "      <td>...</td>\n",
       "      <td>...</td>\n",
       "      <td>...</td>\n",
       "      <td>...</td>\n",
       "      <td>...</td>\n",
       "    </tr>\n",
       "    <tr>\n",
       "      <td>3209</td>\n",
       "      <td>1489</td>\n",
       "      <td>0.0</td>\n",
       "      <td>17.0</td>\n",
       "      <td>11050.56</td>\n",
       "      <td>11.0</td>\n",
       "      <td>Санкт-Петербург</td>\n",
       "      <td>smart</td>\n",
       "    </tr>\n",
       "    <tr>\n",
       "      <td>3210</td>\n",
       "      <td>1489</td>\n",
       "      <td>0.0</td>\n",
       "      <td>32.0</td>\n",
       "      <td>17206.30</td>\n",
       "      <td>17.0</td>\n",
       "      <td>Санкт-Петербург</td>\n",
       "      <td>smart</td>\n",
       "    </tr>\n",
       "    <tr>\n",
       "      <td>3211</td>\n",
       "      <td>1489</td>\n",
       "      <td>0.0</td>\n",
       "      <td>21.0</td>\n",
       "      <td>19559.44</td>\n",
       "      <td>20.0</td>\n",
       "      <td>Санкт-Петербург</td>\n",
       "      <td>smart</td>\n",
       "    </tr>\n",
       "    <tr>\n",
       "      <td>3212</td>\n",
       "      <td>1489</td>\n",
       "      <td>0.0</td>\n",
       "      <td>20.0</td>\n",
       "      <td>17491.56</td>\n",
       "      <td>18.0</td>\n",
       "      <td>Санкт-Петербург</td>\n",
       "      <td>smart</td>\n",
       "    </tr>\n",
       "    <tr>\n",
       "      <td>3213</td>\n",
       "      <td>1489</td>\n",
       "      <td>0.0</td>\n",
       "      <td>35.0</td>\n",
       "      <td>17322.51</td>\n",
       "      <td>17.0</td>\n",
       "      <td>Санкт-Петербург</td>\n",
       "      <td>smart</td>\n",
       "    </tr>\n",
       "  </tbody>\n",
       "</table>\n",
       "<p>3214 rows × 7 columns</p>\n",
       "</div>"
      ],
      "text/plain": [
       "     user_id  duration_mins  count_messages   mb_used  gb_used  \\\n",
       "0       1000          159.0            22.0   2253.49      3.0   \n",
       "1       1000          172.0            60.0  23233.77     23.0   \n",
       "2       1000          340.0            75.0  14003.64     14.0   \n",
       "3       1000          408.0            81.0  14055.93     14.0   \n",
       "4       1000          466.0            57.0  14568.91     15.0   \n",
       "...      ...            ...             ...       ...      ...   \n",
       "3209    1489            0.0            17.0  11050.56     11.0   \n",
       "3210    1489            0.0            32.0  17206.30     17.0   \n",
       "3211    1489            0.0            21.0  19559.44     20.0   \n",
       "3212    1489            0.0            20.0  17491.56     18.0   \n",
       "3213    1489            0.0            35.0  17322.51     17.0   \n",
       "\n",
       "                 city tariff  \n",
       "0           Краснодар  ultra  \n",
       "1           Краснодар  ultra  \n",
       "2           Краснодар  ultra  \n",
       "3           Краснодар  ultra  \n",
       "4           Краснодар  ultra  \n",
       "...               ...    ...  \n",
       "3209  Санкт-Петербург  smart  \n",
       "3210  Санкт-Петербург  smart  \n",
       "3211  Санкт-Петербург  smart  \n",
       "3212  Санкт-Петербург  smart  \n",
       "3213  Санкт-Петербург  smart  \n",
       "\n",
       "[3214 rows x 7 columns]"
      ]
     },
     "execution_count": 10,
     "metadata": {},
     "output_type": "execute_result"
    }
   ],
   "source": [
    "data = data.merge(data1, on='user_id')\n",
    "data"
   ]
  },
  {
   "cell_type": "code",
   "execution_count": 11,
   "metadata": {},
   "outputs": [],
   "source": [
    "pd.options.mode.chained_assignment = None\n",
    "data['montly'] = 0\n",
    "for i in range(len(data)):\n",
    "    if data['tariff'][i] == 'ultra':\n",
    "        data['montly'][i] +=1950\n",
    "        if data['duration_mins'][i] > 3000:\n",
    "            data['montly'][i] += data['duration_mins'][i] -3000\n",
    "        if data['count_messages'][i] > 1000:\n",
    "            data['montly'][i] += data['count_messages'][i] -1000\n",
    "        if data['gb_used'][i] > 30:\n",
    "            data['montly'][i] += (data['gb_used'][i]-30)*150\n",
    "    else:\n",
    "        data['montly'][i] +=550\n",
    "        if data['duration_mins'][i] > 500:\n",
    "            data['montly'][i] += (data['duration_mins'][i]-500)*3\n",
    "        if data['count_messages'][i] > 50:\n",
    "            data['montly'][i] += (data['count_messages'][i] -50)*3\n",
    "        if data['gb_used'][i] > 15:\n",
    "            data['montly'][i] += (data['gb_used'][i]-15)*200"
   ]
  },
  {
   "cell_type": "code",
   "execution_count": 12,
   "metadata": {},
   "outputs": [
    {
     "data": {
      "text/html": [
       "<div>\n",
       "<style scoped>\n",
       "    .dataframe tbody tr th:only-of-type {\n",
       "        vertical-align: middle;\n",
       "    }\n",
       "\n",
       "    .dataframe tbody tr th {\n",
       "        vertical-align: top;\n",
       "    }\n",
       "\n",
       "    .dataframe thead th {\n",
       "        text-align: right;\n",
       "    }\n",
       "</style>\n",
       "<table border=\"1\" class=\"dataframe\">\n",
       "  <thead>\n",
       "    <tr style=\"text-align: right;\">\n",
       "      <th></th>\n",
       "      <th>user_id</th>\n",
       "      <th>duration_mins</th>\n",
       "      <th>count_messages</th>\n",
       "      <th>mb_used</th>\n",
       "      <th>gb_used</th>\n",
       "      <th>city</th>\n",
       "      <th>tariff</th>\n",
       "      <th>montly</th>\n",
       "    </tr>\n",
       "  </thead>\n",
       "  <tbody>\n",
       "    <tr>\n",
       "      <td>0</td>\n",
       "      <td>1000</td>\n",
       "      <td>159.0</td>\n",
       "      <td>22.0</td>\n",
       "      <td>2253.49</td>\n",
       "      <td>3.0</td>\n",
       "      <td>Краснодар</td>\n",
       "      <td>ultra</td>\n",
       "      <td>1950</td>\n",
       "    </tr>\n",
       "    <tr>\n",
       "      <td>1</td>\n",
       "      <td>1000</td>\n",
       "      <td>172.0</td>\n",
       "      <td>60.0</td>\n",
       "      <td>23233.77</td>\n",
       "      <td>23.0</td>\n",
       "      <td>Краснодар</td>\n",
       "      <td>ultra</td>\n",
       "      <td>1950</td>\n",
       "    </tr>\n",
       "    <tr>\n",
       "      <td>2</td>\n",
       "      <td>1000</td>\n",
       "      <td>340.0</td>\n",
       "      <td>75.0</td>\n",
       "      <td>14003.64</td>\n",
       "      <td>14.0</td>\n",
       "      <td>Краснодар</td>\n",
       "      <td>ultra</td>\n",
       "      <td>1950</td>\n",
       "    </tr>\n",
       "    <tr>\n",
       "      <td>3</td>\n",
       "      <td>1000</td>\n",
       "      <td>408.0</td>\n",
       "      <td>81.0</td>\n",
       "      <td>14055.93</td>\n",
       "      <td>14.0</td>\n",
       "      <td>Краснодар</td>\n",
       "      <td>ultra</td>\n",
       "      <td>1950</td>\n",
       "    </tr>\n",
       "    <tr>\n",
       "      <td>4</td>\n",
       "      <td>1000</td>\n",
       "      <td>466.0</td>\n",
       "      <td>57.0</td>\n",
       "      <td>14568.91</td>\n",
       "      <td>15.0</td>\n",
       "      <td>Краснодар</td>\n",
       "      <td>ultra</td>\n",
       "      <td>1950</td>\n",
       "    </tr>\n",
       "    <tr>\n",
       "      <td>...</td>\n",
       "      <td>...</td>\n",
       "      <td>...</td>\n",
       "      <td>...</td>\n",
       "      <td>...</td>\n",
       "      <td>...</td>\n",
       "      <td>...</td>\n",
       "      <td>...</td>\n",
       "      <td>...</td>\n",
       "    </tr>\n",
       "    <tr>\n",
       "      <td>3209</td>\n",
       "      <td>1489</td>\n",
       "      <td>0.0</td>\n",
       "      <td>17.0</td>\n",
       "      <td>11050.56</td>\n",
       "      <td>11.0</td>\n",
       "      <td>Санкт-Петербург</td>\n",
       "      <td>smart</td>\n",
       "      <td>550</td>\n",
       "    </tr>\n",
       "    <tr>\n",
       "      <td>3210</td>\n",
       "      <td>1489</td>\n",
       "      <td>0.0</td>\n",
       "      <td>32.0</td>\n",
       "      <td>17206.30</td>\n",
       "      <td>17.0</td>\n",
       "      <td>Санкт-Петербург</td>\n",
       "      <td>smart</td>\n",
       "      <td>950</td>\n",
       "    </tr>\n",
       "    <tr>\n",
       "      <td>3211</td>\n",
       "      <td>1489</td>\n",
       "      <td>0.0</td>\n",
       "      <td>21.0</td>\n",
       "      <td>19559.44</td>\n",
       "      <td>20.0</td>\n",
       "      <td>Санкт-Петербург</td>\n",
       "      <td>smart</td>\n",
       "      <td>1550</td>\n",
       "    </tr>\n",
       "    <tr>\n",
       "      <td>3212</td>\n",
       "      <td>1489</td>\n",
       "      <td>0.0</td>\n",
       "      <td>20.0</td>\n",
       "      <td>17491.56</td>\n",
       "      <td>18.0</td>\n",
       "      <td>Санкт-Петербург</td>\n",
       "      <td>smart</td>\n",
       "      <td>1150</td>\n",
       "    </tr>\n",
       "    <tr>\n",
       "      <td>3213</td>\n",
       "      <td>1489</td>\n",
       "      <td>0.0</td>\n",
       "      <td>35.0</td>\n",
       "      <td>17322.51</td>\n",
       "      <td>17.0</td>\n",
       "      <td>Санкт-Петербург</td>\n",
       "      <td>smart</td>\n",
       "      <td>950</td>\n",
       "    </tr>\n",
       "  </tbody>\n",
       "</table>\n",
       "<p>3214 rows × 8 columns</p>\n",
       "</div>"
      ],
      "text/plain": [
       "     user_id  duration_mins  count_messages   mb_used  gb_used  \\\n",
       "0       1000          159.0            22.0   2253.49      3.0   \n",
       "1       1000          172.0            60.0  23233.77     23.0   \n",
       "2       1000          340.0            75.0  14003.64     14.0   \n",
       "3       1000          408.0            81.0  14055.93     14.0   \n",
       "4       1000          466.0            57.0  14568.91     15.0   \n",
       "...      ...            ...             ...       ...      ...   \n",
       "3209    1489            0.0            17.0  11050.56     11.0   \n",
       "3210    1489            0.0            32.0  17206.30     17.0   \n",
       "3211    1489            0.0            21.0  19559.44     20.0   \n",
       "3212    1489            0.0            20.0  17491.56     18.0   \n",
       "3213    1489            0.0            35.0  17322.51     17.0   \n",
       "\n",
       "                 city tariff  montly  \n",
       "0           Краснодар  ultra    1950  \n",
       "1           Краснодар  ultra    1950  \n",
       "2           Краснодар  ultra    1950  \n",
       "3           Краснодар  ultra    1950  \n",
       "4           Краснодар  ultra    1950  \n",
       "...               ...    ...     ...  \n",
       "3209  Санкт-Петербург  smart     550  \n",
       "3210  Санкт-Петербург  smart     950  \n",
       "3211  Санкт-Петербург  smart    1550  \n",
       "3212  Санкт-Петербург  smart    1150  \n",
       "3213  Санкт-Петербург  smart     950  \n",
       "\n",
       "[3214 rows x 8 columns]"
      ]
     },
     "execution_count": 12,
     "metadata": {},
     "output_type": "execute_result"
    }
   ],
   "source": [
    "data"
   ]
  },
  {
   "cell_type": "markdown",
   "metadata": {},
   "source": [
    "Посчитали сколько каждый пользователь заплатил в каждом месяце."
   ]
  },
  {
   "cell_type": "markdown",
   "metadata": {},
   "source": [
    "## Шаг 3. Проанализируйте данные"
   ]
  },
  {
   "cell_type": "markdown",
   "metadata": {},
   "source": [
    "Посчитаем среднее по всем услугам тарифа, а также вычислим дисперсию и среднее отклонение."
   ]
  },
  {
   "cell_type": "code",
   "execution_count": 13,
   "metadata": {},
   "outputs": [],
   "source": [
    "new_data = data.pivot_table(index='tariff', values=['duration_mins','count_messages','gb_used'])"
   ]
  },
  {
   "cell_type": "code",
   "execution_count": 14,
   "metadata": {},
   "outputs": [
    {
     "data": {
      "text/html": [
       "<div>\n",
       "<style scoped>\n",
       "    .dataframe tbody tr th:only-of-type {\n",
       "        vertical-align: middle;\n",
       "    }\n",
       "\n",
       "    .dataframe tbody tr th {\n",
       "        vertical-align: top;\n",
       "    }\n",
       "\n",
       "    .dataframe thead th {\n",
       "        text-align: right;\n",
       "    }\n",
       "</style>\n",
       "<table border=\"1\" class=\"dataframe\">\n",
       "  <thead>\n",
       "    <tr style=\"text-align: right;\">\n",
       "      <th></th>\n",
       "      <th>count_messages</th>\n",
       "      <th>duration_mins</th>\n",
       "      <th>gb_used</th>\n",
       "    </tr>\n",
       "    <tr>\n",
       "      <th>tariff</th>\n",
       "      <th></th>\n",
       "      <th></th>\n",
       "      <th></th>\n",
       "    </tr>\n",
       "  </thead>\n",
       "  <tbody>\n",
       "    <tr>\n",
       "      <td>smart</td>\n",
       "      <td>33.384029</td>\n",
       "      <td>417.934948</td>\n",
       "      <td>16.328847</td>\n",
       "    </tr>\n",
       "    <tr>\n",
       "      <td>ultra</td>\n",
       "      <td>49.363452</td>\n",
       "      <td>526.623350</td>\n",
       "      <td>19.494416</td>\n",
       "    </tr>\n",
       "  </tbody>\n",
       "</table>\n",
       "</div>"
      ],
      "text/plain": [
       "        count_messages  duration_mins    gb_used\n",
       "tariff                                          \n",
       "smart        33.384029     417.934948  16.328847\n",
       "ultra        49.363452     526.623350  19.494416"
      ]
     },
     "execution_count": 14,
     "metadata": {},
     "output_type": "execute_result"
    }
   ],
   "source": [
    "new_data"
   ]
  },
  {
   "cell_type": "code",
   "execution_count": 15,
   "metadata": {},
   "outputs": [
    {
     "data": {
      "image/png": "[encoded data removed]",
      "text/plain": [
       "<Figure size 648x648 with 6 Axes>"
      ]
     },
     "metadata": {
      "needs_background": "light"
     },
     "output_type": "display_data"
    },
    {
     "data": {
      "image/png": "[encoded data removed]",
      "text/plain": [
       "<Figure size 648x648 with 6 Axes>"
      ]
     },
     "metadata": {
      "needs_background": "light"
     },
     "output_type": "display_data"
    }
   ],
   "source": [
    "import matplotlib.pyplot as plt\n",
    "data.groupby('tariff').hist(figsize=(9,9))\n",
    "plt.show()"
   ]
  },
  {
   "cell_type": "code",
   "execution_count": 16,
   "metadata": {},
   "outputs": [
    {
     "data": {
      "text/html": [
       "<div>\n",
       "<style scoped>\n",
       "    .dataframe tbody tr th:only-of-type {\n",
       "        vertical-align: middle;\n",
       "    }\n",
       "\n",
       "    .dataframe tbody tr th {\n",
       "        vertical-align: top;\n",
       "    }\n",
       "\n",
       "    .dataframe thead th {\n",
       "        text-align: right;\n",
       "    }\n",
       "</style>\n",
       "<table border=\"1\" class=\"dataframe\">\n",
       "  <thead>\n",
       "    <tr style=\"text-align: right;\">\n",
       "      <th></th>\n",
       "      <th>user_id</th>\n",
       "      <th>duration_mins</th>\n",
       "      <th>count_messages</th>\n",
       "      <th>mb_used</th>\n",
       "      <th>gb_used</th>\n",
       "      <th>city</th>\n",
       "      <th>tariff</th>\n",
       "      <th>montly</th>\n",
       "    </tr>\n",
       "  </thead>\n",
       "  <tbody>\n",
       "    <tr>\n",
       "      <td>0</td>\n",
       "      <td>1000</td>\n",
       "      <td>159.0</td>\n",
       "      <td>22.0</td>\n",
       "      <td>2253.49</td>\n",
       "      <td>3.0</td>\n",
       "      <td>Краснодар</td>\n",
       "      <td>ultra</td>\n",
       "      <td>1950</td>\n",
       "    </tr>\n",
       "    <tr>\n",
       "      <td>1</td>\n",
       "      <td>1000</td>\n",
       "      <td>172.0</td>\n",
       "      <td>60.0</td>\n",
       "      <td>23233.77</td>\n",
       "      <td>23.0</td>\n",
       "      <td>Краснодар</td>\n",
       "      <td>ultra</td>\n",
       "      <td>1950</td>\n",
       "    </tr>\n",
       "    <tr>\n",
       "      <td>2</td>\n",
       "      <td>1000</td>\n",
       "      <td>340.0</td>\n",
       "      <td>75.0</td>\n",
       "      <td>14003.64</td>\n",
       "      <td>14.0</td>\n",
       "      <td>Краснодар</td>\n",
       "      <td>ultra</td>\n",
       "      <td>1950</td>\n",
       "    </tr>\n",
       "    <tr>\n",
       "      <td>3</td>\n",
       "      <td>1000</td>\n",
       "      <td>408.0</td>\n",
       "      <td>81.0</td>\n",
       "      <td>14055.93</td>\n",
       "      <td>14.0</td>\n",
       "      <td>Краснодар</td>\n",
       "      <td>ultra</td>\n",
       "      <td>1950</td>\n",
       "    </tr>\n",
       "    <tr>\n",
       "      <td>4</td>\n",
       "      <td>1000</td>\n",
       "      <td>466.0</td>\n",
       "      <td>57.0</td>\n",
       "      <td>14568.91</td>\n",
       "      <td>15.0</td>\n",
       "      <td>Краснодар</td>\n",
       "      <td>ultra</td>\n",
       "      <td>1950</td>\n",
       "    </tr>\n",
       "    <tr>\n",
       "      <td>...</td>\n",
       "      <td>...</td>\n",
       "      <td>...</td>\n",
       "      <td>...</td>\n",
       "      <td>...</td>\n",
       "      <td>...</td>\n",
       "      <td>...</td>\n",
       "      <td>...</td>\n",
       "      <td>...</td>\n",
       "    </tr>\n",
       "    <tr>\n",
       "      <td>3209</td>\n",
       "      <td>1489</td>\n",
       "      <td>0.0</td>\n",
       "      <td>17.0</td>\n",
       "      <td>11050.56</td>\n",
       "      <td>11.0</td>\n",
       "      <td>Санкт-Петербург</td>\n",
       "      <td>smart</td>\n",
       "      <td>550</td>\n",
       "    </tr>\n",
       "    <tr>\n",
       "      <td>3210</td>\n",
       "      <td>1489</td>\n",
       "      <td>0.0</td>\n",
       "      <td>32.0</td>\n",
       "      <td>17206.30</td>\n",
       "      <td>17.0</td>\n",
       "      <td>Санкт-Петербург</td>\n",
       "      <td>smart</td>\n",
       "      <td>950</td>\n",
       "    </tr>\n",
       "    <tr>\n",
       "      <td>3211</td>\n",
       "      <td>1489</td>\n",
       "      <td>0.0</td>\n",
       "      <td>21.0</td>\n",
       "      <td>19559.44</td>\n",
       "      <td>20.0</td>\n",
       "      <td>Санкт-Петербург</td>\n",
       "      <td>smart</td>\n",
       "      <td>1550</td>\n",
       "    </tr>\n",
       "    <tr>\n",
       "      <td>3212</td>\n",
       "      <td>1489</td>\n",
       "      <td>0.0</td>\n",
       "      <td>20.0</td>\n",
       "      <td>17491.56</td>\n",
       "      <td>18.0</td>\n",
       "      <td>Санкт-Петербург</td>\n",
       "      <td>smart</td>\n",
       "      <td>1150</td>\n",
       "    </tr>\n",
       "    <tr>\n",
       "      <td>3213</td>\n",
       "      <td>1489</td>\n",
       "      <td>0.0</td>\n",
       "      <td>35.0</td>\n",
       "      <td>17322.51</td>\n",
       "      <td>17.0</td>\n",
       "      <td>Санкт-Петербург</td>\n",
       "      <td>smart</td>\n",
       "      <td>950</td>\n",
       "    </tr>\n",
       "  </tbody>\n",
       "</table>\n",
       "<p>3214 rows × 8 columns</p>\n",
       "</div>"
      ],
      "text/plain": [
       "     user_id  duration_mins  count_messages   mb_used  gb_used  \\\n",
       "0       1000          159.0            22.0   2253.49      3.0   \n",
       "1       1000          172.0            60.0  23233.77     23.0   \n",
       "2       1000          340.0            75.0  14003.64     14.0   \n",
       "3       1000          408.0            81.0  14055.93     14.0   \n",
       "4       1000          466.0            57.0  14568.91     15.0   \n",
       "...      ...            ...             ...       ...      ...   \n",
       "3209    1489            0.0            17.0  11050.56     11.0   \n",
       "3210    1489            0.0            32.0  17206.30     17.0   \n",
       "3211    1489            0.0            21.0  19559.44     20.0   \n",
       "3212    1489            0.0            20.0  17491.56     18.0   \n",
       "3213    1489            0.0            35.0  17322.51     17.0   \n",
       "\n",
       "                 city tariff  montly  \n",
       "0           Краснодар  ultra    1950  \n",
       "1           Краснодар  ultra    1950  \n",
       "2           Краснодар  ultra    1950  \n",
       "3           Краснодар  ultra    1950  \n",
       "4           Краснодар  ultra    1950  \n",
       "...               ...    ...     ...  \n",
       "3209  Санкт-Петербург  smart     550  \n",
       "3210  Санкт-Петербург  smart     950  \n",
       "3211  Санкт-Петербург  smart    1550  \n",
       "3212  Санкт-Петербург  smart    1150  \n",
       "3213  Санкт-Петербург  smart     950  \n",
       "\n",
       "[3214 rows x 8 columns]"
      ]
     },
     "execution_count": 16,
     "metadata": {},
     "output_type": "execute_result"
    }
   ],
   "source": [
    "data"
   ]
  },
  {
   "cell_type": "code",
   "execution_count": 17,
   "metadata": {},
   "outputs": [
    {
     "data": {
      "image/png": "[encoded data removed]",
      "text/plain": [
       "<Figure size 432x288 with 1 Axes>"
      ]
     },
     "metadata": {
      "needs_background": "light"
     },
     "output_type": "display_data"
    }
   ],
   "source": [
    "def function(data, column1, column2):\n",
    "    new_data = data.loc[data[column2]=='ultra']\n",
    "    new_data[column1].hist(density=True, alpha=0.5,bins=50)\n",
    "    new_data1 = data.loc[data[column2]=='smart']\n",
    "    new_data1[column1].hist(density=True, alpha=0.5, bins=50)\n",
    "function(data, 'gb_used', 'tariff')"
   ]
  },
  {
   "cell_type": "code",
   "execution_count": 1,
   "metadata": {
    "scrolled": true
   },
   "outputs": [
    {
     "ename": "NameError",
     "evalue": "name 'plt' is not defined",
     "output_type": "error",
     "traceback": [
      "\u001b[0;31m---------------------------------------------------------------------------\u001b[0m",
      "\u001b[0;31mNameError\u001b[0m                                 Traceback (most recent call last)",
      "\u001b[0;32m<ipython-input-1-4a779c56642b>\u001b[0m in \u001b[0;36m<module>\u001b[0;34m\u001b[0m\n\u001b[1;32m      1\u001b[0m \u001b[0;32mfor\u001b[0m \u001b[0mcolumn\u001b[0m \u001b[0;32min\u001b[0m \u001b[0;34m[\u001b[0m\u001b[0;34m'duration_mins'\u001b[0m\u001b[0;34m,\u001b[0m \u001b[0;34m'count_messages'\u001b[0m\u001b[0;34m,\u001b[0m \u001b[0;34m'gb_used'\u001b[0m\u001b[0;34m]\u001b[0m\u001b[0;34m:\u001b[0m\u001b[0;34m\u001b[0m\u001b[0;34m\u001b[0m\u001b[0m\n\u001b[0;32m----> 2\u001b[0;31m     \u001b[0mfig\u001b[0m \u001b[0;34m=\u001b[0m \u001b[0mplt\u001b[0m\u001b[0;34m.\u001b[0m\u001b[0mfigure\u001b[0m\u001b[0;34m(\u001b[0m\u001b[0mfigsize\u001b[0m\u001b[0;34m=\u001b[0m\u001b[0;34m(\u001b[0m\u001b[0;36m10\u001b[0m\u001b[0;34m,\u001b[0m \u001b[0;36m5\u001b[0m\u001b[0;34m)\u001b[0m\u001b[0;34m)\u001b[0m\u001b[0;34m\u001b[0m\u001b[0;34m\u001b[0m\u001b[0m\n\u001b[0m\u001b[1;32m      3\u001b[0m     \u001b[0mplt\u001b[0m\u001b[0;34m.\u001b[0m\u001b[0mhist\u001b[0m\u001b[0;34m(\u001b[0m\u001b[0mdata\u001b[0m\u001b[0;34m[\u001b[0m\u001b[0mdata\u001b[0m\u001b[0;34m[\u001b[0m\u001b[0;34m'tariff'\u001b[0m\u001b[0;34m]\u001b[0m \u001b[0;34m==\u001b[0m \u001b[0;34m'smart'\u001b[0m\u001b[0;34m]\u001b[0m\u001b[0;34m[\u001b[0m\u001b[0mcolumn\u001b[0m\u001b[0;34m]\u001b[0m\u001b[0;34m,\u001b[0m \u001b[0mbins\u001b[0m\u001b[0;34m=\u001b[0m\u001b[0;36m30\u001b[0m\u001b[0;34m,\u001b[0m \u001b[0mlabel\u001b[0m\u001b[0;34m=\u001b[0m\u001b[0;34m'smart'\u001b[0m\u001b[0;34m,\u001b[0m \u001b[0malpha\u001b[0m\u001b[0;34m=\u001b[0m\u001b[0;36m0.5\u001b[0m\u001b[0;34m,\u001b[0m \u001b[0mcolor\u001b[0m\u001b[0;34m=\u001b[0m\u001b[0;34m'black'\u001b[0m\u001b[0;34m)\u001b[0m\u001b[0;34m\u001b[0m\u001b[0;34m\u001b[0m\u001b[0m\n\u001b[1;32m      4\u001b[0m     \u001b[0mplt\u001b[0m\u001b[0;34m.\u001b[0m\u001b[0mhist\u001b[0m\u001b[0;34m(\u001b[0m\u001b[0mdata\u001b[0m\u001b[0;34m[\u001b[0m\u001b[0mdata\u001b[0m\u001b[0;34m[\u001b[0m\u001b[0;34m'tariff'\u001b[0m\u001b[0;34m]\u001b[0m \u001b[0;34m==\u001b[0m \u001b[0;34m'ultra'\u001b[0m\u001b[0;34m]\u001b[0m\u001b[0;34m[\u001b[0m\u001b[0mcolumn\u001b[0m\u001b[0;34m]\u001b[0m\u001b[0;34m,\u001b[0m \u001b[0mbins\u001b[0m\u001b[0;34m=\u001b[0m\u001b[0;36m30\u001b[0m\u001b[0;34m,\u001b[0m \u001b[0mlabel\u001b[0m\u001b[0;34m=\u001b[0m\u001b[0;34m'ultra'\u001b[0m\u001b[0;34m,\u001b[0m \u001b[0malpha\u001b[0m\u001b[0;34m=\u001b[0m\u001b[0;36m0.5\u001b[0m\u001b[0;34m,\u001b[0m \u001b[0mcolor\u001b[0m\u001b[0;34m=\u001b[0m\u001b[0;34m'red'\u001b[0m\u001b[0;34m)\u001b[0m\u001b[0;34m\u001b[0m\u001b[0;34m\u001b[0m\u001b[0m\n\u001b[1;32m      5\u001b[0m     \u001b[0mplt\u001b[0m\u001b[0;34m.\u001b[0m\u001b[0mgrid\u001b[0m\u001b[0;34m(\u001b[0m\u001b[0;34m)\u001b[0m\u001b[0;34m\u001b[0m\u001b[0;34m\u001b[0m\u001b[0m\n",
      "\u001b[0;31mNameError\u001b[0m: name 'plt' is not defined"
     ]
    }
   ],
   "source": [
    "for column in ['duration_mins', 'count_messages', 'gb_used']:\n",
    "    fig = plt.figure(figsize=(10, 5))\n",
    "    plt.hist(data[data['tariff'] == 'smart'][column], bins=30, label='smart', alpha=0.5, color='black')\n",
    "    plt.hist(data[data['tariff'] == 'ultra'][column], bins=30, label='ultra', alpha=0.5, color='red')\n",
    "    plt.grid()\n",
    "    plt.ylabel('Частота')\n",
    "    plt.xlabel(f'Значение {column}')\n",
    "    plt.title(f'График распределения по столбцу {column}', fontsize=14)\n",
    "    plt.legend()\n",
    "    plt.show()"
   ]
  },
  {
   "cell_type": "code",
   "execution_count": 18,
   "metadata": {},
   "outputs": [
    {
     "data": {
      "image/png": "[encoded data removed]",
      "text/plain": [
       "<Figure size 432x288 with 1 Axes>"
      ]
     },
     "metadata": {
      "needs_background": "light"
     },
     "output_type": "display_data"
    }
   ],
   "source": [
    "function(data, 'duration_mins', 'tariff')"
   ]
  },
  {
   "cell_type": "code",
   "execution_count": 19,
   "metadata": {},
   "outputs": [
    {
     "data": {
      "image/png": "[encoded data removed]",
      "text/plain": [
       "<Figure size 432x288 with 1 Axes>"
      ]
     },
     "metadata": {
      "needs_background": "light"
     },
     "output_type": "display_data"
    }
   ],
   "source": [
    "function(data, 'count_messages', 'tariff')"
   ]
  },
  {
   "cell_type": "code",
   "execution_count": 20,
   "metadata": {},
   "outputs": [
    {
     "data": {
      "image/png": "[encoded data removed]",
      "text/plain": [
       "<Figure size 432x288 with 1 Axes>"
      ]
     },
     "metadata": {
      "needs_background": "light"
     },
     "output_type": "display_data"
    }
   ],
   "source": [
    "function(data, 'montly', 'tariff')"
   ]
  },
  {
   "cell_type": "markdown",
   "metadata": {},
   "source": [
    "Посчитали среднее для каждого тарифа: в среднем пользователи тарифа \"ультра\" используют больше трафика, минут и сообщений, но не критично больше, согласно среднему"
   ]
  },
  {
   "cell_type": "code",
   "execution_count": 21,
   "metadata": {},
   "outputs": [
    {
     "data": {
      "text/html": [
       "<div>\n",
       "<style scoped>\n",
       "    .dataframe tbody tr th:only-of-type {\n",
       "        vertical-align: middle;\n",
       "    }\n",
       "\n",
       "    .dataframe tbody tr th {\n",
       "        vertical-align: top;\n",
       "    }\n",
       "\n",
       "    .dataframe thead th {\n",
       "        text-align: right;\n",
       "    }\n",
       "</style>\n",
       "<table border=\"1\" class=\"dataframe\">\n",
       "  <thead>\n",
       "    <tr style=\"text-align: right;\">\n",
       "      <th></th>\n",
       "      <th>duration_mins</th>\n",
       "      <th>count_messages</th>\n",
       "      <th>mb_used</th>\n",
       "      <th>gb_used</th>\n",
       "      <th>montly</th>\n",
       "    </tr>\n",
       "    <tr>\n",
       "      <th>tariff</th>\n",
       "      <th></th>\n",
       "      <th></th>\n",
       "      <th></th>\n",
       "      <th></th>\n",
       "      <th></th>\n",
       "    </tr>\n",
       "  </thead>\n",
       "  <tbody>\n",
       "    <tr>\n",
       "      <td>smart</td>\n",
       "      <td>36219.315784</td>\n",
       "      <td>796.812958</td>\n",
       "      <td>3.446250e+07</td>\n",
       "      <td>33.028705</td>\n",
       "      <td>669785.708006</td>\n",
       "    </tr>\n",
       "    <tr>\n",
       "      <td>ultra</td>\n",
       "      <td>100873.633397</td>\n",
       "      <td>2285.266143</td>\n",
       "      <td>1.017510e+08</td>\n",
       "      <td>97.091686</td>\n",
       "      <td>141516.745079</td>\n",
       "    </tr>\n",
       "  </tbody>\n",
       "</table>\n",
       "</div>"
      ],
      "text/plain": [
       "        duration_mins  count_messages       mb_used    gb_used         montly\n",
       "tariff                                                                       \n",
       "smart    36219.315784      796.812958  3.446250e+07  33.028705  669785.708006\n",
       "ultra   100873.633397     2285.266143  1.017510e+08  97.091686  141516.745079"
      ]
     },
     "execution_count": 21,
     "metadata": {},
     "output_type": "execute_result"
    }
   ],
   "source": [
    "var = data.groupby('tariff').var(ddof=1)\n",
    "var"
   ]
  },
  {
   "cell_type": "markdown",
   "metadata": {},
   "source": [
    "Видим дисперсию, вычисленную по выборке, следующим шагом будем искать стандартное отклонение."
   ]
  },
  {
   "cell_type": "code",
   "execution_count": 23,
   "metadata": {},
   "outputs": [
    {
     "data": {
      "text/html": [
       "<div>\n",
       "<style scoped>\n",
       "    .dataframe tbody tr th:only-of-type {\n",
       "        vertical-align: middle;\n",
       "    }\n",
       "\n",
       "    .dataframe tbody tr th {\n",
       "        vertical-align: top;\n",
       "    }\n",
       "\n",
       "    .dataframe thead th {\n",
       "        text-align: right;\n",
       "    }\n",
       "</style>\n",
       "<table border=\"1\" class=\"dataframe\">\n",
       "  <thead>\n",
       "    <tr style=\"text-align: right;\">\n",
       "      <th></th>\n",
       "      <th>duration_mins</th>\n",
       "      <th>count_messages</th>\n",
       "      <th>mb_used</th>\n",
       "      <th>gb_used</th>\n",
       "      <th>montly</th>\n",
       "    </tr>\n",
       "    <tr>\n",
       "      <th>tariff</th>\n",
       "      <th></th>\n",
       "      <th></th>\n",
       "      <th></th>\n",
       "      <th></th>\n",
       "      <th></th>\n",
       "    </tr>\n",
       "  </thead>\n",
       "  <tbody>\n",
       "    <tr>\n",
       "      <td>smart</td>\n",
       "      <td>190.313730</td>\n",
       "      <td>28.227876</td>\n",
       "      <td>5870.476681</td>\n",
       "      <td>5.747061</td>\n",
       "      <td>818.404367</td>\n",
       "    </tr>\n",
       "    <tr>\n",
       "      <td>ultra</td>\n",
       "      <td>317.606098</td>\n",
       "      <td>47.804457</td>\n",
       "      <td>10087.170752</td>\n",
       "      <td>9.853511</td>\n",
       "      <td>376.187114</td>\n",
       "    </tr>\n",
       "  </tbody>\n",
       "</table>\n",
       "</div>"
      ],
      "text/plain": [
       "        duration_mins  count_messages       mb_used   gb_used      montly\n",
       "tariff                                                                   \n",
       "smart      190.313730       28.227876   5870.476681  5.747061  818.404367\n",
       "ultra      317.606098       47.804457  10087.170752  9.853511  376.187114"
      ]
     },
     "execution_count": 23,
     "metadata": {},
     "output_type": "execute_result"
    }
   ],
   "source": [
    "std = data.groupby('tariff').std()\n",
    "std"
   ]
  },
  {
   "cell_type": "markdown",
   "metadata": {},
   "source": [
    "Нашли стандартное отклонение"
   ]
  },
  {
   "cell_type": "markdown",
   "metadata": {},
   "source": [
    "## Шаг 4. Проверьте гипотезы"
   ]
  },
  {
   "cell_type": "markdown",
   "metadata": {},
   "source": [
    "Сформулируем нулевую гипотезу так: \"средняя выручка пользователей тарифов «Ультра» и «Смарт» равны\" и проверим ее. Альтернативная гипотеза будет звучать так: \"средняя выручка пользователей тарифов «Ультра» и «Смарт» различаются\""
   ]
  },
  {
   "cell_type": "code",
   "execution_count": 24,
   "metadata": {},
   "outputs": [],
   "source": [
    "from scipy import stats as st"
   ]
  },
  {
   "cell_type": "code",
   "execution_count": 25,
   "metadata": {},
   "outputs": [],
   "source": [
    "ultra = data.loc[data['tariff'] == 'ultra']\n",
    "smart = data.loc[data['tariff'] == 'smart']"
   ]
  },
  {
   "cell_type": "code",
   "execution_count": 26,
   "metadata": {},
   "outputs": [
    {
     "name": "stdout",
     "output_type": "stream",
     "text": [
      "p-значение:  1.4229814360764067e-160\n",
      "Отвергаем нулевую гипотезу\n"
     ]
    }
   ],
   "source": [
    "results = st.ttest_ind(ultra['montly'], smart['montly'])\n",
    "print('p-значение: ', results.pvalue)\n",
    "alpha=0.05\n",
    "if (results.pvalue < alpha):\n",
    "    print(\"Отвергаем нулевую гипотезу\")\n",
    "else:\n",
    "    print(\"Не получилось отвергнуть нулевую гипотезу\")"
   ]
  },
  {
   "cell_type": "markdown",
   "metadata": {},
   "source": [
    "Нулевая гипотеза отвергнута, что может говорить о том, что верто другое: средняя выручка пользователей тарифов «Ультра» и «Смарт» различаются"
   ]
  },
  {
   "cell_type": "markdown",
   "metadata": {},
   "source": [
    "Сформулируем вторую нулевую гипотезу так: \"средняя выручка пользователи из Москвы равна выручке от пользователей из других регионов\". Альтренативная: \"средняя выручка пользователи из Москвы отличается от выручки от пользователей из других регионов\""
   ]
  },
  {
   "cell_type": "code",
   "execution_count": 27,
   "metadata": {},
   "outputs": [],
   "source": [
    "moscow = data.loc[data['city']==\"Москва\"]\n",
    "other = data.loc[data['city']!=\"Москва\"]"
   ]
  },
  {
   "cell_type": "code",
   "execution_count": 28,
   "metadata": {},
   "outputs": [
    {
     "name": "stdout",
     "output_type": "stream",
     "text": [
      "p-значение:  0.5440152911670224\n",
      "Не получилось отвергнуть нулевую гипотезу\n"
     ]
    }
   ],
   "source": [
    "results = st.ttest_ind(moscow['montly'], other['montly'])\n",
    "print('p-значение: ', results.pvalue)\n",
    "alpha=0.05\n",
    "if (results.pvalue < alpha):\n",
    "    print(\"Отвергаем нулевую гипотезу\")\n",
    "else:\n",
    "    print(\"Не получилось отвергнуть нулевую гипотезу\")"
   ]
  },
  {
   "cell_type": "markdown",
   "metadata": {},
   "source": [
    "Видим, что нулевая гипотеза не отвергнута, что означает тот факт, что может быть, выручка и отличается, а может она такая же, как и в других регионах"
   ]
  },
  {
   "cell_type": "markdown",
   "metadata": {},
   "source": [
    "Для проверки гипотез использовали критерий ежемесячной платы людей в течение данного периода."
   ]
  },
  {
   "cell_type": "markdown",
   "metadata": {},
   "source": [
    "## Шаг 5. Общий вывод"
   ]
  },
  {
   "cell_type": "markdown",
   "metadata": {},
   "source": [
    "Сделаем общие выводы по работе:\n",
    "\n",
    "- в данных не было предсталено критических ошибок, поэтому мы изменили типы данных в некоторых таблицах и приступили к следующему шагу\n",
    "- посчитали, сколько всего тратили люди гигабайт, и минут, и сообщений, а также рассчитали сумму, которую платили пользователи в конце каждого месяца\n",
    "- нашли среднее, дисперцию и среднее отклонение по данным месячной оплаты\n",
    "- сделали вывод, что гипотеза о том, что люди с разных тарифов приносят разную выручку - неправда, но отвергнуть гипотезу о том, что люди из Москвы приносят больше денег, отвергнуть не получилось\n",
    "\n",
    "В целом, можем сделать вывод, что тариф Ультра приносит бОльшую выручку, но люди более активно покупают тариф \"смарт\", поэтому в целом выручка по тарифу \"смарт\" больше. "
   ]
  }
 ],
 "metadata": {
  "ExecuteTimeLog": [
   {
    "duration": 741,
    "start_time": "2021-08-31T12:26:05.408Z"
   },
   {
    "duration": 543,
    "start_time": "2021-08-31T12:27:23.683Z"
   },
   {
    "duration": 86,
    "start_time": "2021-08-31T12:29:30.339Z"
   },
   {
    "duration": 104,
    "start_time": "2021-08-31T12:32:50.499Z"
   },
   {
    "duration": 63,
    "start_time": "2021-08-31T12:40:41.294Z"
   },
   {
    "duration": 247,
    "start_time": "2021-08-31T12:47:49.960Z"
   },
   {
    "duration": 73,
    "start_time": "2021-08-31T12:48:33.214Z"
   },
   {
    "duration": 83,
    "start_time": "2021-08-31T12:48:47.596Z"
   },
   {
    "duration": 416,
    "start_time": "2021-08-31T12:49:57.076Z"
   },
   {
    "duration": 327,
    "start_time": "2021-08-31T12:50:08.988Z"
   },
   {
    "duration": 321,
    "start_time": "2021-08-31T12:51:11.434Z"
   },
   {
    "duration": 335,
    "start_time": "2021-08-31T12:51:19.130Z"
   },
   {
    "duration": 256,
    "start_time": "2021-08-31T12:51:53.970Z"
   },
   {
    "duration": 261,
    "start_time": "2021-08-31T12:52:02.490Z"
   },
   {
    "duration": 394,
    "start_time": "2021-08-31T12:52:05.918Z"
   },
   {
    "duration": 54,
    "start_time": "2021-08-31T12:52:06.614Z"
   },
   {
    "duration": 298,
    "start_time": "2021-08-31T12:52:10.116Z"
   },
   {
    "duration": 262,
    "start_time": "2021-08-31T12:52:15.150Z"
   },
   {
    "duration": 573,
    "start_time": "2021-08-31T12:52:19.697Z"
   },
   {
    "duration": 85,
    "start_time": "2021-08-31T12:52:20.400Z"
   },
   {
    "duration": 479,
    "start_time": "2021-08-31T12:52:22.786Z"
   },
   {
    "duration": 243,
    "start_time": "2021-08-31T12:52:53.217Z"
   },
   {
    "duration": 50,
    "start_time": "2021-08-31T12:52:56.550Z"
   },
   {
    "duration": 277,
    "start_time": "2021-08-31T12:53:00.427Z"
   },
   {
    "duration": 239,
    "start_time": "2021-08-31T12:53:07.776Z"
   },
   {
    "duration": 395,
    "start_time": "2021-08-31T12:53:13.151Z"
   },
   {
    "duration": 51,
    "start_time": "2021-08-31T12:53:13.893Z"
   },
   {
    "duration": 10,
    "start_time": "2021-08-31T12:53:16.087Z"
   },
   {
    "duration": 348,
    "start_time": "2021-08-31T12:53:19.738Z"
   },
   {
    "duration": 316,
    "start_time": "2021-08-31T12:53:35.795Z"
   },
   {
    "duration": 326,
    "start_time": "2021-08-31T12:53:50.451Z"
   },
   {
    "duration": 339,
    "start_time": "2021-08-31T12:53:56.849Z"
   },
   {
    "duration": 60,
    "start_time": "2021-08-31T12:56:32.608Z"
   },
   {
    "duration": 306,
    "start_time": "2021-08-31T12:58:15.999Z"
   },
   {
    "duration": -745,
    "start_time": "2021-08-31T12:58:17.052Z"
   },
   {
    "duration": 262,
    "start_time": "2021-08-31T12:58:18.909Z"
   },
   {
    "duration": 1312,
    "start_time": "2021-08-31T12:58:21.484Z"
   },
   {
    "duration": 70,
    "start_time": "2021-08-31T12:58:22.798Z"
   },
   {
    "duration": 12,
    "start_time": "2021-08-31T12:58:25.961Z"
   },
   {
    "duration": 1090,
    "start_time": "2021-08-31T12:58:45.280Z"
   },
   {
    "duration": 54,
    "start_time": "2021-08-31T12:58:52.378Z"
   },
   {
    "duration": 14,
    "start_time": "2021-08-31T12:58:52.435Z"
   },
   {
    "duration": 499,
    "start_time": "2021-08-31T13:01:39.528Z"
   },
   {
    "duration": 240,
    "start_time": "2021-08-31T13:06:47.036Z"
   },
   {
    "duration": 269,
    "start_time": "2021-08-31T13:06:56.386Z"
   },
   {
    "duration": 9,
    "start_time": "2021-08-31T13:07:00.956Z"
   },
   {
    "duration": 28,
    "start_time": "2021-08-31T13:07:05.412Z"
   },
   {
    "duration": 91,
    "start_time": "2021-08-31T13:07:17.475Z"
   },
   {
    "duration": 560,
    "start_time": "2021-08-31T13:07:24.313Z"
   },
   {
    "duration": 97,
    "start_time": "2021-08-31T13:07:25.202Z"
   },
   {
    "duration": 12,
    "start_time": "2021-08-31T13:07:32.293Z"
   },
   {
    "duration": 13,
    "start_time": "2021-08-31T13:07:33.551Z"
   },
   {
    "duration": 14,
    "start_time": "2021-08-31T13:08:07.517Z"
   },
   {
    "duration": 9,
    "start_time": "2021-08-31T13:08:58.483Z"
   },
   {
    "duration": 26,
    "start_time": "2021-08-31T13:09:03.488Z"
   },
   {
    "duration": 424,
    "start_time": "2021-08-31T13:11:30.087Z"
   },
   {
    "duration": 70,
    "start_time": "2021-08-31T13:11:31.079Z"
   },
   {
    "duration": 12,
    "start_time": "2021-08-31T13:12:00.313Z"
   },
   {
    "duration": 31,
    "start_time": "2021-08-31T13:12:01.580Z"
   },
   {
    "duration": 27,
    "start_time": "2021-08-31T13:12:57.830Z"
   },
   {
    "duration": 32,
    "start_time": "2021-08-31T13:13:08.894Z"
   },
   {
    "duration": 469,
    "start_time": "2021-08-31T13:13:12.677Z"
   },
   {
    "duration": 75,
    "start_time": "2021-08-31T13:13:13.157Z"
   },
   {
    "duration": 9,
    "start_time": "2021-08-31T13:13:15.506Z"
   },
   {
    "duration": 22,
    "start_time": "2021-08-31T13:13:16.096Z"
   },
   {
    "duration": 22,
    "start_time": "2021-08-31T13:13:23.824Z"
   },
   {
    "duration": 279,
    "start_time": "2021-08-31T13:52:01.995Z"
   },
   {
    "duration": 267,
    "start_time": "2021-08-31T13:52:46.787Z"
   },
   {
    "duration": 981,
    "start_time": "2021-08-31T13:53:35.187Z"
   },
   {
    "duration": 78,
    "start_time": "2021-08-31T13:53:48.239Z"
   },
   {
    "duration": 437,
    "start_time": "2021-08-31T13:54:13.595Z"
   },
   {
    "duration": 63,
    "start_time": "2021-08-31T13:54:14.340Z"
   },
   {
    "duration": 63,
    "start_time": "2021-08-31T13:54:24.923Z"
   },
   {
    "duration": 61,
    "start_time": "2021-08-31T13:54:35.810Z"
   },
   {
    "duration": 65,
    "start_time": "2021-08-31T13:55:05.133Z"
   },
   {
    "duration": 64,
    "start_time": "2021-08-31T13:55:28.752Z"
   },
   {
    "duration": 69,
    "start_time": "2021-08-31T13:56:05.570Z"
   },
   {
    "duration": 9,
    "start_time": "2021-08-31T13:56:08.903Z"
   },
   {
    "duration": 70,
    "start_time": "2021-08-31T13:56:09.799Z"
   },
   {
    "duration": 61,
    "start_time": "2021-08-31T13:56:19.432Z"
   },
   {
    "duration": 40,
    "start_time": "2021-08-31T13:59:40.805Z"
   },
   {
    "duration": 39,
    "start_time": "2021-08-31T14:01:01.429Z"
   },
   {
    "duration": 38,
    "start_time": "2021-08-31T14:01:56.246Z"
   },
   {
    "duration": 32,
    "start_time": "2021-08-31T14:03:13.187Z"
   },
   {
    "duration": 12,
    "start_time": "2021-08-31T14:04:26.496Z"
   },
   {
    "duration": 15,
    "start_time": "2021-08-31T14:04:45.562Z"
   },
   {
    "duration": 7,
    "start_time": "2021-08-31T14:05:33.297Z"
   },
   {
    "duration": 18,
    "start_time": "2021-08-31T14:05:36.718Z"
   },
   {
    "duration": 42,
    "start_time": "2021-08-31T14:06:39.644Z"
   },
   {
    "duration": 43,
    "start_time": "2021-08-31T14:06:45.684Z"
   },
   {
    "duration": 53,
    "start_time": "2021-08-31T14:06:48.424Z"
   },
   {
    "duration": 20,
    "start_time": "2021-08-31T14:07:09.760Z"
   },
   {
    "duration": 13,
    "start_time": "2021-08-31T14:07:11.917Z"
   },
   {
    "duration": 17,
    "start_time": "2021-08-31T14:07:14.734Z"
   },
   {
    "duration": 17,
    "start_time": "2021-08-31T14:08:12.809Z"
   },
   {
    "duration": 28,
    "start_time": "2021-08-31T14:08:16.766Z"
   },
   {
    "duration": 324,
    "start_time": "2021-08-31T14:16:20.008Z"
   },
   {
    "duration": 26,
    "start_time": "2021-08-31T14:16:34.019Z"
   },
   {
    "duration": 37,
    "start_time": "2021-08-31T14:16:40.170Z"
   },
   {
    "duration": 290,
    "start_time": "2021-08-31T14:17:30.849Z"
   },
   {
    "duration": 40,
    "start_time": "2021-08-31T14:17:44.405Z"
   },
   {
    "duration": 52,
    "start_time": "2021-08-31T14:18:09.064Z"
   },
   {
    "duration": 36,
    "start_time": "2021-08-31T14:18:19.111Z"
   },
   {
    "duration": 43,
    "start_time": "2021-08-31T14:18:54.900Z"
   },
   {
    "duration": 36,
    "start_time": "2021-08-31T14:19:27.020Z"
   },
   {
    "duration": 40,
    "start_time": "2021-08-31T14:19:30.935Z"
   },
   {
    "duration": 33,
    "start_time": "2021-08-31T14:19:32.710Z"
   },
   {
    "duration": 12,
    "start_time": "2021-08-31T14:19:33.927Z"
   },
   {
    "duration": 38,
    "start_time": "2021-08-31T14:20:02.231Z"
   },
   {
    "duration": 30,
    "start_time": "2021-08-31T14:20:02.818Z"
   },
   {
    "duration": 45,
    "start_time": "2021-08-31T14:20:03.649Z"
   },
   {
    "duration": 494,
    "start_time": "2021-08-31T14:20:08.957Z"
   },
   {
    "duration": 70,
    "start_time": "2021-08-31T14:20:10.444Z"
   },
   {
    "duration": 8,
    "start_time": "2021-08-31T14:20:20.775Z"
   },
   {
    "duration": 41,
    "start_time": "2021-08-31T14:20:21.456Z"
   },
   {
    "duration": 35,
    "start_time": "2021-08-31T14:20:22.511Z"
   },
   {
    "duration": 114,
    "start_time": "2021-08-31T14:23:32.218Z"
   },
   {
    "duration": 1128,
    "start_time": "2021-08-31T14:23:37.658Z"
   },
   {
    "duration": 106,
    "start_time": "2021-08-31T14:23:54.836Z"
   },
   {
    "duration": 446,
    "start_time": "2021-08-31T14:30:31.110Z"
   },
   {
    "duration": 99,
    "start_time": "2021-08-31T14:30:32.294Z"
   },
   {
    "duration": 9,
    "start_time": "2021-08-31T14:30:35.068Z"
   },
   {
    "duration": 40,
    "start_time": "2021-08-31T14:30:35.518Z"
   },
   {
    "duration": 31,
    "start_time": "2021-08-31T14:30:36.116Z"
   },
   {
    "duration": 90,
    "start_time": "2021-08-31T14:30:37.944Z"
   },
   {
    "duration": 71,
    "start_time": "2021-08-31T14:30:38.640Z"
   },
   {
    "duration": 87,
    "start_time": "2021-08-31T14:30:40.335Z"
   },
   {
    "duration": 255,
    "start_time": "2021-08-31T14:32:04.168Z"
   },
   {
    "duration": 253,
    "start_time": "2021-08-31T14:32:12.309Z"
   },
   {
    "duration": 265,
    "start_time": "2021-08-31T14:33:10.474Z"
   },
   {
    "duration": 6331,
    "start_time": "2021-08-31T14:33:18.195Z"
   },
   {
    "duration": -155,
    "start_time": "2021-08-31T14:33:24.683Z"
   },
   {
    "duration": 6908,
    "start_time": "2021-08-31T14:33:30.146Z"
   },
   {
    "duration": 249,
    "start_time": "2021-08-31T14:35:59.432Z"
   },
   {
    "duration": 352,
    "start_time": "2021-08-31T14:36:15.073Z"
   },
   {
    "duration": 6,
    "start_time": "2021-08-31T14:36:37.063Z"
   },
   {
    "duration": 12,
    "start_time": "2021-08-31T14:36:39.022Z"
   },
   {
    "duration": 8,
    "start_time": "2021-08-31T14:37:16.927Z"
   },
   {
    "duration": 268,
    "start_time": "2021-08-31T14:38:40.526Z"
   },
   {
    "duration": 5,
    "start_time": "2021-08-31T14:38:47.215Z"
   },
   {
    "duration": 19,
    "start_time": "2021-08-31T14:38:48.491Z"
   },
   {
    "duration": 8,
    "start_time": "2021-08-31T14:39:23.713Z"
   },
   {
    "duration": 11,
    "start_time": "2021-08-31T14:39:24.718Z"
   },
   {
    "duration": 382,
    "start_time": "2021-08-31T14:39:33.337Z"
   },
   {
    "duration": 59,
    "start_time": "2021-08-31T14:39:33.881Z"
   },
   {
    "duration": 8,
    "start_time": "2021-08-31T14:39:35.648Z"
   },
   {
    "duration": 44,
    "start_time": "2021-08-31T14:39:35.988Z"
   },
   {
    "duration": 35,
    "start_time": "2021-08-31T14:39:36.397Z"
   },
   {
    "duration": 75,
    "start_time": "2021-08-31T14:39:37.211Z"
   },
   {
    "duration": 72,
    "start_time": "2021-08-31T14:39:38.079Z"
   },
   {
    "duration": 7,
    "start_time": "2021-08-31T14:39:39.283Z"
   },
   {
    "duration": 13,
    "start_time": "2021-08-31T14:39:40.038Z"
   },
   {
    "duration": 7,
    "start_time": "2021-08-31T14:40:36.632Z"
   },
   {
    "duration": 18,
    "start_time": "2021-08-31T14:40:37.853Z"
   },
   {
    "duration": 9,
    "start_time": "2021-08-31T14:40:51.214Z"
   },
   {
    "duration": 514,
    "start_time": "2021-08-31T14:41:07.466Z"
   },
   {
    "duration": 12,
    "start_time": "2021-08-31T14:41:14.304Z"
   },
   {
    "duration": 11,
    "start_time": "2021-08-31T14:41:16.777Z"
   },
   {
    "duration": 9,
    "start_time": "2021-08-31T14:41:23.792Z"
   },
   {
    "duration": 12,
    "start_time": "2021-08-31T14:41:24.327Z"
   },
   {
    "duration": 7,
    "start_time": "2021-08-31T14:42:05.392Z"
   },
   {
    "duration": 12,
    "start_time": "2021-08-31T14:42:06.078Z"
   },
   {
    "duration": 5,
    "start_time": "2021-08-31T14:42:22.527Z"
   },
   {
    "duration": 950,
    "start_time": "2021-08-31T14:42:32.720Z"
   },
   {
    "duration": 277,
    "start_time": "2021-08-31T14:42:43.018Z"
   },
   {
    "duration": 7,
    "start_time": "2021-08-31T14:42:52.709Z"
   },
   {
    "duration": 18,
    "start_time": "2021-08-31T14:42:54.447Z"
   },
   {
    "duration": 9,
    "start_time": "2021-08-31T14:43:11.599Z"
   },
   {
    "duration": 14,
    "start_time": "2021-08-31T14:43:12.002Z"
   },
   {
    "duration": 10,
    "start_time": "2021-08-31T14:43:18.198Z"
   },
   {
    "duration": 13,
    "start_time": "2021-08-31T14:43:18.634Z"
   },
   {
    "duration": 9,
    "start_time": "2021-08-31T14:43:26.369Z"
   },
   {
    "duration": 16,
    "start_time": "2021-08-31T14:43:28.018Z"
   },
   {
    "duration": 6,
    "start_time": "2021-08-31T14:43:34.836Z"
   },
   {
    "duration": 13,
    "start_time": "2021-08-31T14:43:35.178Z"
   },
   {
    "duration": 5,
    "start_time": "2021-08-31T14:43:43.069Z"
   },
   {
    "duration": 19,
    "start_time": "2021-08-31T14:43:43.780Z"
   },
   {
    "duration": 79,
    "start_time": "2021-08-31T14:43:48.285Z"
   },
   {
    "duration": 7,
    "start_time": "2021-08-31T14:43:49.543Z"
   },
   {
    "duration": 12,
    "start_time": "2021-08-31T14:43:52.332Z"
   },
   {
    "duration": 445,
    "start_time": "2021-08-31T14:45:14.325Z"
   },
   {
    "duration": 70,
    "start_time": "2021-08-31T14:45:14.808Z"
   },
   {
    "duration": 10,
    "start_time": "2021-08-31T14:45:16.816Z"
   },
   {
    "duration": 61,
    "start_time": "2021-08-31T14:45:17.228Z"
   },
   {
    "duration": 57,
    "start_time": "2021-08-31T14:45:17.758Z"
   },
   {
    "duration": 100,
    "start_time": "2021-08-31T14:45:18.529Z"
   },
   {
    "duration": 90,
    "start_time": "2021-08-31T14:45:19.188Z"
   },
   {
    "duration": 6,
    "start_time": "2021-08-31T14:45:20.558Z"
   },
   {
    "duration": 15,
    "start_time": "2021-08-31T14:45:21.522Z"
   },
   {
    "duration": 5,
    "start_time": "2021-08-31T14:45:30.750Z"
   },
   {
    "duration": 28,
    "start_time": "2021-08-31T14:45:32.901Z"
   },
   {
    "duration": 5,
    "start_time": "2021-08-31T14:47:31.361Z"
   },
   {
    "duration": 14,
    "start_time": "2021-08-31T14:47:33.260Z"
   },
   {
    "duration": 156,
    "start_time": "2021-08-31T14:48:05.725Z"
   },
   {
    "duration": 6,
    "start_time": "2021-08-31T14:48:09.008Z"
   },
   {
    "duration": 21,
    "start_time": "2021-08-31T14:48:09.688Z"
   },
   {
    "duration": 6,
    "start_time": "2021-08-31T14:48:18.505Z"
   },
   {
    "duration": 12,
    "start_time": "2021-08-31T14:48:20.227Z"
   },
   {
    "duration": 84,
    "start_time": "2021-08-31T14:48:54.840Z"
   },
   {
    "duration": 13,
    "start_time": "2021-08-31T14:48:55.559Z"
   },
   {
    "duration": 6,
    "start_time": "2021-08-31T14:49:04.574Z"
   },
   {
    "duration": 11,
    "start_time": "2021-08-31T14:49:05.966Z"
   },
   {
    "duration": 6,
    "start_time": "2021-08-31T14:49:17.170Z"
   },
   {
    "duration": 13,
    "start_time": "2021-08-31T14:49:18.733Z"
   },
   {
    "duration": 6,
    "start_time": "2021-08-31T14:49:28.426Z"
   },
   {
    "duration": 12,
    "start_time": "2021-08-31T14:49:30.063Z"
   },
   {
    "duration": 11,
    "start_time": "2021-08-31T14:50:09.499Z"
   },
   {
    "duration": 13,
    "start_time": "2021-08-31T14:50:10.240Z"
   },
   {
    "duration": 264,
    "start_time": "2021-08-31T14:50:25.266Z"
   },
   {
    "duration": 13,
    "start_time": "2021-08-31T14:50:26.236Z"
   },
   {
    "duration": 8,
    "start_time": "2021-08-31T14:50:36.192Z"
   },
   {
    "duration": 12,
    "start_time": "2021-08-31T14:50:36.617Z"
   },
   {
    "duration": 455,
    "start_time": "2021-08-31T14:50:56.672Z"
   },
   {
    "duration": 102,
    "start_time": "2021-08-31T14:50:57.129Z"
   },
   {
    "duration": 8,
    "start_time": "2021-08-31T14:50:59.150Z"
   },
   {
    "duration": 49,
    "start_time": "2021-08-31T14:50:59.482Z"
   },
   {
    "duration": 39,
    "start_time": "2021-08-31T14:50:59.873Z"
   },
   {
    "duration": 106,
    "start_time": "2021-08-31T14:51:00.465Z"
   },
   {
    "duration": 70,
    "start_time": "2021-08-31T14:51:01.187Z"
   },
   {
    "duration": 7,
    "start_time": "2021-08-31T14:51:03.021Z"
   },
   {
    "duration": 11,
    "start_time": "2021-08-31T14:51:04.372Z"
   },
   {
    "duration": 6,
    "start_time": "2021-08-31T14:51:17.565Z"
   },
   {
    "duration": 13,
    "start_time": "2021-08-31T14:51:17.800Z"
   },
   {
    "duration": 147,
    "start_time": "2021-08-31T14:51:37.339Z"
   },
   {
    "duration": 17,
    "start_time": "2021-08-31T14:51:39.787Z"
   },
   {
    "duration": 7,
    "start_time": "2021-08-31T14:51:47.231Z"
   },
   {
    "duration": 17,
    "start_time": "2021-08-31T14:51:48.034Z"
   },
   {
    "duration": 11,
    "start_time": "2021-08-31T14:52:20.753Z"
   },
   {
    "duration": 19,
    "start_time": "2021-08-31T14:52:21.266Z"
   },
   {
    "duration": 14,
    "start_time": "2021-08-31T14:52:46.232Z"
   },
   {
    "duration": 13,
    "start_time": "2021-08-31T14:52:46.670Z"
   },
   {
    "duration": 10,
    "start_time": "2021-08-31T14:54:14.398Z"
   },
   {
    "duration": 13,
    "start_time": "2021-08-31T14:54:14.818Z"
   },
   {
    "duration": 10,
    "start_time": "2021-08-31T14:54:20.591Z"
   },
   {
    "duration": 17,
    "start_time": "2021-08-31T14:54:21.043Z"
   },
   {
    "duration": 9,
    "start_time": "2021-08-31T14:54:34.555Z"
   },
   {
    "duration": 18,
    "start_time": "2021-08-31T14:54:35.893Z"
   },
   {
    "duration": 10,
    "start_time": "2021-08-31T14:54:48.715Z"
   },
   {
    "duration": 12,
    "start_time": "2021-08-31T14:54:50.379Z"
   },
   {
    "duration": 9,
    "start_time": "2021-08-31T14:55:00.018Z"
   },
   {
    "duration": 18,
    "start_time": "2021-08-31T14:55:00.894Z"
   },
   {
    "duration": 7,
    "start_time": "2021-08-31T14:55:06.219Z"
   },
   {
    "duration": 12,
    "start_time": "2021-08-31T14:55:20.110Z"
   },
   {
    "duration": 6,
    "start_time": "2021-08-31T14:55:50.471Z"
   },
   {
    "duration": 13,
    "start_time": "2021-08-31T14:55:52.327Z"
   },
   {
    "duration": 4,
    "start_time": "2021-08-31T14:56:56.131Z"
   },
   {
    "duration": 15,
    "start_time": "2021-08-31T14:56:57.122Z"
   },
   {
    "duration": 7,
    "start_time": "2021-08-31T14:57:01.033Z"
   },
   {
    "duration": 4,
    "start_time": "2021-08-31T14:57:01.425Z"
   },
   {
    "duration": 14,
    "start_time": "2021-08-31T14:57:01.758Z"
   },
   {
    "duration": 22,
    "start_time": "2021-08-31T14:57:30.470Z"
   },
   {
    "duration": 7,
    "start_time": "2021-08-31T14:57:55.888Z"
   },
   {
    "duration": 18,
    "start_time": "2021-08-31T14:58:20.093Z"
   },
   {
    "duration": 12,
    "start_time": "2021-08-31T15:00:12.828Z"
   },
   {
    "duration": 13,
    "start_time": "2021-08-31T15:00:18.323Z"
   },
   {
    "duration": 8,
    "start_time": "2021-08-31T15:00:30.845Z"
   },
   {
    "duration": 13,
    "start_time": "2021-08-31T15:00:32.879Z"
   },
   {
    "duration": 6,
    "start_time": "2021-08-31T15:00:50.676Z"
   },
   {
    "duration": 16,
    "start_time": "2021-08-31T15:00:52.599Z"
   },
   {
    "duration": 7,
    "start_time": "2021-08-31T15:01:27.158Z"
   },
   {
    "duration": 6751,
    "start_time": "2021-08-31T15:03:05.273Z"
   },
   {
    "duration": 9,
    "start_time": "2021-08-31T15:03:20.501Z"
   },
   {
    "duration": 13,
    "start_time": "2021-08-31T15:03:21.234Z"
   },
   {
    "duration": 247,
    "start_time": "2021-08-31T15:04:21.807Z"
   },
   {
    "duration": 10,
    "start_time": "2021-08-31T15:04:27.236Z"
   },
   {
    "duration": 5,
    "start_time": "2021-08-31T15:04:57.094Z"
   },
   {
    "duration": 13,
    "start_time": "2021-08-31T15:05:03.592Z"
   },
   {
    "duration": 9,
    "start_time": "2021-08-31T15:05:10.801Z"
   },
   {
    "duration": 17,
    "start_time": "2021-08-31T15:05:11.243Z"
   },
   {
    "duration": 6,
    "start_time": "2021-08-31T15:05:11.662Z"
   },
   {
    "duration": 14,
    "start_time": "2021-08-31T15:05:12.117Z"
   },
   {
    "duration": 6,
    "start_time": "2021-08-31T15:05:18.762Z"
   },
   {
    "duration": 7,
    "start_time": "2021-08-31T15:05:19.486Z"
   },
   {
    "duration": 13,
    "start_time": "2021-08-31T15:05:20.628Z"
   },
   {
    "duration": 5,
    "start_time": "2021-08-31T15:05:21.655Z"
   },
   {
    "duration": 13,
    "start_time": "2021-08-31T15:05:22.368Z"
   },
   {
    "duration": 12,
    "start_time": "2021-08-31T15:08:22.474Z"
   },
   {
    "duration": 20,
    "start_time": "2021-08-31T15:08:22.771Z"
   },
   {
    "duration": 7000,
    "start_time": "2021-08-31T15:09:33.773Z"
   },
   {
    "duration": 6813,
    "start_time": "2021-08-31T15:09:41.224Z"
   },
   {
    "duration": 34,
    "start_time": "2021-08-31T15:10:22.678Z"
   },
   {
    "duration": 18,
    "start_time": "2021-08-31T15:10:35.199Z"
   },
   {
    "duration": 15,
    "start_time": "2021-08-31T15:10:56.420Z"
   },
   {
    "duration": 5,
    "start_time": "2021-08-31T15:11:32.848Z"
   },
   {
    "duration": 19,
    "start_time": "2021-08-31T15:11:44.705Z"
   },
   {
    "duration": 4,
    "start_time": "2021-08-31T15:13:48.755Z"
   },
   {
    "duration": 251,
    "start_time": "2021-08-31T15:14:16.800Z"
   },
   {
    "duration": 525,
    "start_time": "2021-08-31T15:14:24.619Z"
   },
   {
    "duration": 425,
    "start_time": "2021-08-31T15:14:44.767Z"
   },
   {
    "duration": 511,
    "start_time": "2021-08-31T15:14:49.702Z"
   },
   {
    "duration": 504,
    "start_time": "2021-08-31T15:15:04.472Z"
   },
   {
    "duration": 5,
    "start_time": "2021-08-31T15:15:33.113Z"
   },
   {
    "duration": 3969,
    "start_time": "2021-08-31T15:15:34.637Z"
   },
   {
    "duration": 4,
    "start_time": "2021-08-31T15:15:46.588Z"
   },
   {
    "duration": 4626,
    "start_time": "2021-08-31T15:15:46.595Z"
   },
   {
    "duration": 3,
    "start_time": "2021-08-31T15:16:28.452Z"
   },
   {
    "duration": 499,
    "start_time": "2021-08-31T15:16:28.918Z"
   },
   {
    "duration": 4,
    "start_time": "2021-08-31T15:17:53.879Z"
   },
   {
    "duration": 691,
    "start_time": "2021-08-31T15:17:58.074Z"
   },
   {
    "duration": 3,
    "start_time": "2021-08-31T15:18:57.444Z"
   },
   {
    "duration": 477,
    "start_time": "2021-08-31T15:18:58.172Z"
   },
   {
    "duration": 403,
    "start_time": "2021-08-31T15:20:25.634Z"
   },
   {
    "duration": 308,
    "start_time": "2021-08-31T15:20:30.579Z"
   },
   {
    "duration": 270,
    "start_time": "2021-08-31T15:21:13.370Z"
   },
   {
    "duration": 262,
    "start_time": "2021-08-31T15:21:27.998Z"
   },
   {
    "duration": 271,
    "start_time": "2021-08-31T15:21:42.746Z"
   },
   {
    "duration": 257,
    "start_time": "2021-08-31T15:21:56.354Z"
   },
   {
    "duration": 251,
    "start_time": "2021-08-31T15:22:14.968Z"
   },
   {
    "duration": 276,
    "start_time": "2021-08-31T15:22:20.296Z"
   },
   {
    "duration": 249,
    "start_time": "2021-08-31T15:22:26.245Z"
   },
   {
    "duration": 258,
    "start_time": "2021-08-31T15:22:37.704Z"
   },
   {
    "duration": 262,
    "start_time": "2021-08-31T15:22:45.645Z"
   },
   {
    "duration": 251,
    "start_time": "2021-08-31T15:22:52.320Z"
   },
   {
    "duration": 6112,
    "start_time": "2021-08-31T15:23:17.370Z"
   },
   {
    "duration": 6978,
    "start_time": "2021-08-31T15:23:26.277Z"
   },
   {
    "duration": 263,
    "start_time": "2021-08-31T15:23:42.869Z"
   },
   {
    "duration": 260,
    "start_time": "2021-08-31T15:24:05.225Z"
   },
   {
    "duration": 261,
    "start_time": "2021-08-31T15:24:22.337Z"
   },
   {
    "duration": 4,
    "start_time": "2021-08-31T15:27:02.785Z"
   },
   {
    "duration": 5,
    "start_time": "2021-08-31T15:27:14.247Z"
   },
   {
    "duration": 5,
    "start_time": "2021-08-31T15:28:13.971Z"
   },
   {
    "duration": 236,
    "start_time": "2021-08-31T15:40:08.914Z"
   },
   {
    "duration": 5,
    "start_time": "2021-08-31T15:40:21.400Z"
   },
   {
    "duration": 36,
    "start_time": "2021-08-31T15:42:28.950Z"
   },
   {
    "duration": 245,
    "start_time": "2021-08-31T15:46:07.570Z"
   },
   {
    "duration": 240,
    "start_time": "2021-08-31T15:46:22.498Z"
   },
   {
    "duration": 4,
    "start_time": "2021-08-31T15:46:29.583Z"
   },
   {
    "duration": 12,
    "start_time": "2021-08-31T15:46:37.430Z"
   },
   {
    "duration": 3,
    "start_time": "2021-08-31T15:46:44.958Z"
   },
   {
    "duration": 12,
    "start_time": "2021-08-31T15:46:46.361Z"
   },
   {
    "duration": 7,
    "start_time": "2021-08-31T15:48:50.258Z"
   },
   {
    "duration": 18,
    "start_time": "2021-08-31T15:48:51.311Z"
   },
   {
    "duration": 17,
    "start_time": "2021-08-31T15:52:00.097Z"
   },
   {
    "duration": 13,
    "start_time": "2021-08-31T15:52:01.021Z"
   },
   {
    "duration": 5,
    "start_time": "2021-08-31T15:52:03.113Z"
   },
   {
    "duration": 12,
    "start_time": "2021-08-31T15:52:03.728Z"
   },
   {
    "duration": 10,
    "start_time": "2021-08-31T15:53:03.553Z"
   },
   {
    "duration": 17,
    "start_time": "2021-08-31T15:53:07.712Z"
   },
   {
    "duration": 16,
    "start_time": "2021-08-31T15:54:04.014Z"
   },
   {
    "duration": 250,
    "start_time": "2021-08-31T15:58:22.418Z"
   },
   {
    "duration": 4,
    "start_time": "2021-08-31T15:58:29.024Z"
   },
   {
    "duration": 5,
    "start_time": "2021-08-31T15:58:33.460Z"
   },
   {
    "duration": 271,
    "start_time": "2021-08-31T15:59:08.318Z"
   },
   {
    "duration": 11,
    "start_time": "2021-08-31T15:59:17.836Z"
   },
   {
    "duration": 209,
    "start_time": "2021-08-31T16:00:15.545Z"
   },
   {
    "duration": 36,
    "start_time": "2021-08-31T16:00:22.601Z"
   },
   {
    "duration": 214,
    "start_time": "2021-08-31T16:00:23.131Z"
   },
   {
    "duration": 467,
    "start_time": "2021-08-31T16:00:44.797Z"
   },
   {
    "duration": 414,
    "start_time": "2021-08-31T16:01:09.677Z"
   },
   {
    "duration": 60,
    "start_time": "2021-08-31T16:01:10.246Z"
   },
   {
    "duration": 62,
    "start_time": "2021-08-31T16:01:22.460Z"
   },
   {
    "duration": 266,
    "start_time": "2021-08-31T16:01:48.771Z"
   },
   {
    "duration": 65,
    "start_time": "2021-08-31T16:02:03.623Z"
   },
   {
    "duration": 8,
    "start_time": "2021-08-31T16:02:05.882Z"
   },
   {
    "duration": 284,
    "start_time": "2021-08-31T16:02:06.427Z"
   },
   {
    "duration": 31,
    "start_time": "2021-08-31T16:02:07.629Z"
   },
   {
    "duration": 45,
    "start_time": "2021-08-31T16:02:22.813Z"
   },
   {
    "duration": 28,
    "start_time": "2021-08-31T16:02:56.874Z"
   },
   {
    "duration": 441,
    "start_time": "2021-08-31T16:04:56.259Z"
   },
   {
    "duration": 60,
    "start_time": "2021-08-31T16:04:56.701Z"
   },
   {
    "duration": 8,
    "start_time": "2021-08-31T16:04:57.702Z"
   },
   {
    "duration": 52,
    "start_time": "2021-08-31T16:04:58.220Z"
   },
   {
    "duration": 31,
    "start_time": "2021-08-31T16:04:58.887Z"
   },
   {
    "duration": 74,
    "start_time": "2021-08-31T16:04:59.559Z"
   },
   {
    "duration": 60,
    "start_time": "2021-08-31T16:05:00.090Z"
   },
   {
    "duration": 8,
    "start_time": "2021-08-31T16:05:01.483Z"
   },
   {
    "duration": 7,
    "start_time": "2021-08-31T16:05:02.225Z"
   },
   {
    "duration": 12,
    "start_time": "2021-08-31T16:05:04.166Z"
   },
   {
    "duration": 63,
    "start_time": "2021-08-31T16:05:38.561Z"
   },
   {
    "duration": 337,
    "start_time": "2021-08-31T16:06:03.249Z"
   },
   {
    "duration": 58,
    "start_time": "2021-08-31T16:06:59.170Z"
   },
   {
    "duration": 7,
    "start_time": "2021-08-31T16:07:04.908Z"
   },
   {
    "duration": 7,
    "start_time": "2021-08-31T16:07:05.132Z"
   },
   {
    "duration": 13,
    "start_time": "2021-08-31T16:07:05.490Z"
   },
   {
    "duration": 13,
    "start_time": "2021-08-31T16:07:05.635Z"
   },
   {
    "duration": 6,
    "start_time": "2021-08-31T16:07:05.774Z"
   },
   {
    "duration": 17,
    "start_time": "2021-08-31T16:07:05.934Z"
   },
   {
    "duration": 12,
    "start_time": "2021-08-31T16:07:06.100Z"
   },
   {
    "duration": 5,
    "start_time": "2021-08-31T16:07:06.419Z"
   },
   {
    "duration": 12,
    "start_time": "2021-08-31T16:07:06.605Z"
   },
   {
    "duration": 239,
    "start_time": "2021-08-31T16:07:42.650Z"
   },
   {
    "duration": 248,
    "start_time": "2021-08-31T16:07:51.644Z"
   },
   {
    "duration": 265,
    "start_time": "2021-08-31T16:09:00.868Z"
   },
   {
    "duration": 270,
    "start_time": "2021-08-31T16:09:10.841Z"
   },
   {
    "duration": 271,
    "start_time": "2021-08-31T16:09:17.127Z"
   },
   {
    "duration": 270,
    "start_time": "2021-08-31T16:09:51.978Z"
   },
   {
    "duration": 261,
    "start_time": "2021-08-31T16:10:00.447Z"
   },
   {
    "duration": 13,
    "start_time": "2021-08-31T16:10:19.469Z"
   },
   {
    "duration": 13,
    "start_time": "2021-08-31T16:10:27.783Z"
   },
   {
    "duration": 15,
    "start_time": "2021-08-31T16:11:37.172Z"
   },
   {
    "duration": 44,
    "start_time": "2021-08-31T16:13:01.998Z"
   },
   {
    "duration": 38,
    "start_time": "2021-08-31T16:13:12.892Z"
   },
   {
    "duration": 264,
    "start_time": "2021-08-31T16:14:58.832Z"
   },
   {
    "duration": 45,
    "start_time": "2021-08-31T16:14:59.409Z"
   },
   {
    "duration": 38,
    "start_time": "2021-08-31T16:15:00.128Z"
   },
   {
    "duration": 74,
    "start_time": "2021-08-31T16:15:00.618Z"
   },
   {
    "duration": 58,
    "start_time": "2021-08-31T16:15:01.165Z"
   },
   {
    "duration": 7,
    "start_time": "2021-08-31T16:15:03.613Z"
   },
   {
    "duration": 7,
    "start_time": "2021-08-31T16:15:04.008Z"
   },
   {
    "duration": 12,
    "start_time": "2021-08-31T16:15:05.321Z"
   },
   {
    "duration": 375,
    "start_time": "2021-08-31T16:15:15.629Z"
   },
   {
    "duration": 61,
    "start_time": "2021-08-31T16:15:16.367Z"
   },
   {
    "duration": 296,
    "start_time": "2021-08-31T16:15:19.459Z"
   },
   {
    "duration": 47,
    "start_time": "2021-08-31T16:15:22.731Z"
   },
   {
    "duration": 66,
    "start_time": "2021-08-31T16:15:26.067Z"
   },
   {
    "duration": 321,
    "start_time": "2021-08-31T16:15:39.819Z"
   },
   {
    "duration": 339,
    "start_time": "2021-08-31T16:16:22.506Z"
   },
   {
    "duration": 396,
    "start_time": "2021-08-31T16:16:31.283Z"
   },
   {
    "duration": 52,
    "start_time": "2021-08-31T16:16:40.127Z"
   },
   {
    "duration": 272,
    "start_time": "2021-08-31T16:16:58.709Z"
   },
   {
    "duration": 268,
    "start_time": "2021-08-31T16:17:19.975Z"
   },
   {
    "duration": 37,
    "start_time": "2021-08-31T16:17:29.428Z"
   },
   {
    "duration": 32,
    "start_time": "2021-08-31T16:17:33.948Z"
   },
   {
    "duration": 35,
    "start_time": "2021-08-31T16:17:41.644Z"
   },
   {
    "duration": 111,
    "start_time": "2021-08-31T16:17:42.507Z"
   },
   {
    "duration": 76,
    "start_time": "2021-08-31T16:17:43.234Z"
   },
   {
    "duration": 6,
    "start_time": "2021-08-31T16:17:44.371Z"
   },
   {
    "duration": 7,
    "start_time": "2021-08-31T16:17:44.891Z"
   },
   {
    "duration": 14,
    "start_time": "2021-08-31T16:17:46.385Z"
   },
   {
    "duration": 16,
    "start_time": "2021-08-31T16:17:46.644Z"
   },
   {
    "duration": 7,
    "start_time": "2021-08-31T16:17:47.049Z"
   },
   {
    "duration": 20,
    "start_time": "2021-08-31T16:17:47.812Z"
   },
   {
    "duration": 15,
    "start_time": "2021-08-31T16:17:48.473Z"
   },
   {
    "duration": 5,
    "start_time": "2021-08-31T16:17:49.970Z"
   },
   {
    "duration": 13,
    "start_time": "2021-08-31T16:17:50.683Z"
   },
   {
    "duration": 15,
    "start_time": "2021-08-31T16:17:51.162Z"
   },
   {
    "duration": 913,
    "start_time": "2021-08-31T23:52:57.618Z"
   },
   {
    "duration": 67,
    "start_time": "2021-08-31T23:52:58.533Z"
   },
   {
    "duration": 275,
    "start_time": "2021-08-31T23:52:58.602Z"
   },
   {
    "duration": 53,
    "start_time": "2021-08-31T23:52:58.879Z"
   },
   {
    "duration": 71,
    "start_time": "2021-08-31T23:52:58.933Z"
   },
   {
    "duration": 126,
    "start_time": "2021-08-31T23:52:59.005Z"
   },
   {
    "duration": 79,
    "start_time": "2021-08-31T23:52:59.133Z"
   },
   {
    "duration": 6,
    "start_time": "2021-08-31T23:52:59.214Z"
   },
   {
    "duration": 27,
    "start_time": "2021-08-31T23:52:59.222Z"
   },
   {
    "duration": 20,
    "start_time": "2021-08-31T23:52:59.251Z"
   },
   {
    "duration": 25,
    "start_time": "2021-08-31T23:52:59.273Z"
   },
   {
    "duration": 18,
    "start_time": "2021-08-31T23:52:59.300Z"
   },
   {
    "duration": 24,
    "start_time": "2021-08-31T23:52:59.319Z"
   },
   {
    "duration": 20,
    "start_time": "2021-08-31T23:52:59.344Z"
   },
   {
    "duration": 13,
    "start_time": "2021-08-31T23:52:59.365Z"
   },
   {
    "duration": 22,
    "start_time": "2021-08-31T23:52:59.379Z"
   },
   {
    "duration": 17,
    "start_time": "2021-08-31T23:52:59.402Z"
   },
   {
    "duration": 1288,
    "start_time": "2021-09-01T07:44:26.105Z"
   },
   {
    "duration": 82,
    "start_time": "2021-09-01T07:44:27.396Z"
   },
   {
    "duration": 354,
    "start_time": "2021-09-01T07:44:31.271Z"
   },
   {
    "duration": 598,
    "start_time": "2021-09-01T07:44:32.613Z"
   },
   {
    "duration": 122,
    "start_time": "2021-09-01T07:44:51.528Z"
   },
   {
    "duration": 13,
    "start_time": "2021-09-01T07:45:13.668Z"
   },
   {
    "duration": 140,
    "start_time": "2021-09-01T07:45:18.101Z"
   },
   {
    "duration": 94,
    "start_time": "2021-09-01T07:45:19.220Z"
   },
   {
    "duration": 9,
    "start_time": "2021-09-01T07:45:23.563Z"
   },
   {
    "duration": 8,
    "start_time": "2021-09-01T07:45:24.370Z"
   },
   {
    "duration": 16,
    "start_time": "2021-09-01T07:45:26.673Z"
   },
   {
    "duration": 20,
    "start_time": "2021-09-01T07:45:27.453Z"
   },
   {
    "duration": 129,
    "start_time": "2021-09-01T08:02:12.843Z"
   },
   {
    "duration": 87,
    "start_time": "2021-09-01T08:02:41.207Z"
   },
   {
    "duration": 339,
    "start_time": "2021-09-01T08:04:28.181Z"
   },
   {
    "duration": 119,
    "start_time": "2021-09-01T08:04:28.403Z"
   },
   {
    "duration": 312,
    "start_time": "2021-09-01T08:04:59.727Z"
   },
   {
    "duration": 111,
    "start_time": "2021-09-01T08:05:02.890Z"
   },
   {
    "duration": 85,
    "start_time": "2021-09-01T08:05:03.366Z"
   },
   {
    "duration": 314,
    "start_time": "2021-09-01T08:05:05.122Z"
   },
   {
    "duration": 15,
    "start_time": "2021-09-01T08:05:22.457Z"
   },
   {
    "duration": 28,
    "start_time": "2021-09-01T08:05:27.785Z"
   },
   {
    "duration": 354,
    "start_time": "2021-09-01T08:06:00.808Z"
   },
   {
    "duration": 42,
    "start_time": "2021-09-01T08:06:24.117Z"
   },
   {
    "duration": 329,
    "start_time": "2021-09-01T08:07:25.854Z"
   },
   {
    "duration": 561,
    "start_time": "2021-09-01T08:07:34.527Z"
   },
   {
    "duration": 88,
    "start_time": "2021-09-01T08:07:35.143Z"
   },
   {
    "duration": 529,
    "start_time": "2021-09-01T08:07:42.397Z"
   },
   {
    "duration": 90,
    "start_time": "2021-09-01T08:07:43.201Z"
   },
   {
    "duration": 374,
    "start_time": "2021-09-01T08:07:46.798Z"
   },
   {
    "duration": 115,
    "start_time": "2021-09-01T08:07:47.570Z"
   },
   {
    "duration": 77,
    "start_time": "2021-09-01T08:07:55.962Z"
   },
   {
    "duration": 162,
    "start_time": "2021-09-01T08:08:00.434Z"
   },
   {
    "duration": 98,
    "start_time": "2021-09-01T08:08:04.271Z"
   },
   {
    "duration": 41,
    "start_time": "2021-09-01T08:08:06.956Z"
   },
   {
    "duration": 44,
    "start_time": "2021-09-01T08:09:21.651Z"
   },
   {
    "duration": 108,
    "start_time": "2021-09-01T08:11:15.389Z"
   },
   {
    "duration": 967,
    "start_time": "2021-09-01T17:39:10.286Z"
   },
   {
    "duration": 59,
    "start_time": "2021-09-01T17:39:11.255Z"
   },
   {
    "duration": 263,
    "start_time": "2021-09-01T17:39:14.107Z"
   },
   {
    "duration": 85,
    "start_time": "2021-09-01T17:39:14.599Z"
   },
   {
    "duration": 112,
    "start_time": "2021-09-01T17:39:15.812Z"
   },
   {
    "duration": 66,
    "start_time": "2021-09-01T17:39:16.930Z"
   },
   {
    "duration": 29,
    "start_time": "2021-09-01T17:39:18.354Z"
   },
   {
    "duration": 10,
    "start_time": "2021-09-01T17:39:19.686Z"
   },
   {
    "duration": 9,
    "start_time": "2021-09-01T17:43:25.601Z"
   },
   {
    "duration": 34,
    "start_time": "2021-09-01T17:43:31.239Z"
   },
   {
    "duration": 366,
    "start_time": "2021-09-01T17:43:46.211Z"
   },
   {
    "duration": 308,
    "start_time": "2021-09-01T17:43:49.865Z"
   },
   {
    "duration": 301,
    "start_time": "2021-09-01T17:43:58.631Z"
   },
   {
    "duration": 36,
    "start_time": "2021-09-01T17:49:34.258Z"
   },
   {
    "duration": 306,
    "start_time": "2021-09-01T17:50:44.736Z"
   },
   {
    "duration": 29,
    "start_time": "2021-09-01T17:51:50.688Z"
   },
   {
    "duration": 6,
    "start_time": "2021-09-01T17:57:10.005Z"
   },
   {
    "duration": 10,
    "start_time": "2021-09-01T17:57:33.388Z"
   },
   {
    "duration": 102,
    "start_time": "2021-09-01T17:58:30.466Z"
   },
   {
    "duration": 258,
    "start_time": "2021-09-01T17:58:37.875Z"
   },
   {
    "duration": 3,
    "start_time": "2021-09-01T17:58:41.962Z"
   },
   {
    "duration": 292,
    "start_time": "2021-09-01T17:58:57.815Z"
   },
   {
    "duration": 333,
    "start_time": "2021-09-01T17:59:12.945Z"
   },
   {
    "duration": 297,
    "start_time": "2021-09-01T17:59:23.259Z"
   },
   {
    "duration": 298,
    "start_time": "2021-09-01T17:59:58.404Z"
   },
   {
    "duration": 196,
    "start_time": "2021-09-01T18:00:55.694Z"
   },
   {
    "duration": 9,
    "start_time": "2021-09-01T18:01:20.556Z"
   },
   {
    "duration": 91,
    "start_time": "2021-09-01T18:02:12.383Z"
   },
   {
    "duration": 305,
    "start_time": "2021-09-01T18:02:17.105Z"
   },
   {
    "duration": 305,
    "start_time": "2021-09-01T18:02:26.473Z"
   },
   {
    "duration": 296,
    "start_time": "2021-09-01T18:02:55.207Z"
   },
   {
    "duration": 296,
    "start_time": "2021-09-01T18:04:04.650Z"
   },
   {
    "duration": 856,
    "start_time": "2021-09-01T18:04:59.852Z"
   },
   {
    "duration": 302,
    "start_time": "2021-09-01T18:05:12.570Z"
   },
   {
    "duration": 14,
    "start_time": "2021-09-01T18:05:25.990Z"
   },
   {
    "duration": 1033,
    "start_time": "2021-09-01T18:05:30.818Z"
   },
   {
    "duration": 295,
    "start_time": "2021-09-01T18:05:56.451Z"
   },
   {
    "duration": 13,
    "start_time": "2021-09-01T18:08:07.628Z"
   },
   {
    "duration": 303,
    "start_time": "2021-09-01T18:08:14.266Z"
   },
   {
    "duration": 3,
    "start_time": "2021-09-01T18:09:51.283Z"
   },
   {
    "duration": 9,
    "start_time": "2021-09-01T18:09:56.389Z"
   },
   {
    "duration": 303,
    "start_time": "2021-09-01T18:10:21.038Z"
   },
   {
    "duration": 7,
    "start_time": "2021-09-01T18:11:02.368Z"
   },
   {
    "duration": 18,
    "start_time": "2021-09-01T18:11:36.438Z"
   },
   {
    "duration": 394,
    "start_time": "2021-09-01T18:12:55.530Z"
   },
   {
    "duration": 18,
    "start_time": "2021-09-01T18:13:07.858Z"
   },
   {
    "duration": 18,
    "start_time": "2021-09-01T18:16:46.067Z"
   },
   {
    "duration": 309,
    "start_time": "2021-09-01T18:16:51.413Z"
   },
   {
    "duration": 22,
    "start_time": "2021-09-01T18:16:52.138Z"
   },
   {
    "duration": 31,
    "start_time": "2021-09-01T18:17:00.027Z"
   },
   {
    "duration": 14,
    "start_time": "2021-09-01T18:17:01.793Z"
   },
   {
    "duration": 4,
    "start_time": "2021-09-01T18:17:02.742Z"
   },
   {
    "duration": 17,
    "start_time": "2021-09-01T18:17:03.776Z"
   },
   {
    "duration": 3,
    "start_time": "2021-09-01T18:24:09.695Z"
   },
   {
    "duration": 496,
    "start_time": "2021-09-01T18:25:06.427Z"
   },
   {
    "duration": 520,
    "start_time": "2021-09-01T18:25:20.478Z"
   },
   {
    "duration": 4,
    "start_time": "2021-09-01T18:25:25.498Z"
   },
   {
    "duration": 3,
    "start_time": "2021-09-01T18:25:44.371Z"
   },
   {
    "duration": 4,
    "start_time": "2021-09-01T18:25:48.675Z"
   },
   {
    "duration": 3,
    "start_time": "2021-09-01T18:26:00.336Z"
   },
   {
    "duration": 2,
    "start_time": "2021-09-01T18:26:21.349Z"
   },
   {
    "duration": 3,
    "start_time": "2021-09-01T18:26:32.034Z"
   },
   {
    "duration": 4,
    "start_time": "2021-09-01T18:26:45.058Z"
   },
   {
    "duration": 306,
    "start_time": "2021-09-01T18:26:52.251Z"
   },
   {
    "duration": 4,
    "start_time": "2021-09-01T18:26:58.310Z"
   },
   {
    "duration": 2,
    "start_time": "2021-09-01T18:27:26.558Z"
   },
   {
    "duration": 3,
    "start_time": "2021-09-01T18:27:28.738Z"
   },
   {
    "duration": 2,
    "start_time": "2021-09-01T18:27:29.460Z"
   },
   {
    "duration": 2,
    "start_time": "2021-09-01T18:28:34.758Z"
   },
   {
    "duration": 3,
    "start_time": "2021-09-01T18:28:39.152Z"
   },
   {
    "duration": 3,
    "start_time": "2021-09-01T18:28:39.746Z"
   },
   {
    "duration": 17,
    "start_time": "2021-09-01T18:31:23.996Z"
   },
   {
    "duration": 3,
    "start_time": "2021-09-01T18:31:25.236Z"
   },
   {
    "duration": 2,
    "start_time": "2021-09-01T18:31:26.218Z"
   },
   {
    "duration": 3,
    "start_time": "2021-09-01T18:31:31.605Z"
   },
   {
    "duration": 2,
    "start_time": "2021-09-01T18:31:32.253Z"
   },
   {
    "duration": 3,
    "start_time": "2021-09-01T18:31:38.831Z"
   },
   {
    "duration": 3,
    "start_time": "2021-09-01T18:31:48.430Z"
   },
   {
    "duration": 13,
    "start_time": "2021-09-01T18:32:20.886Z"
   },
   {
    "duration": 4,
    "start_time": "2021-09-01T18:32:21.415Z"
   },
   {
    "duration": 18,
    "start_time": "2021-09-01T18:32:22.292Z"
   },
   {
    "duration": 377,
    "start_time": "2021-09-01T18:32:31.674Z"
   },
   {
    "duration": 54,
    "start_time": "2021-09-01T18:32:32.053Z"
   },
   {
    "duration": 287,
    "start_time": "2021-09-01T18:32:33.210Z"
   },
   {
    "duration": 84,
    "start_time": "2021-09-01T18:32:33.631Z"
   },
   {
    "duration": 103,
    "start_time": "2021-09-01T18:32:34.840Z"
   },
   {
    "duration": 66,
    "start_time": "2021-09-01T18:32:36.040Z"
   },
   {
    "duration": 28,
    "start_time": "2021-09-01T18:32:38.019Z"
   },
   {
    "duration": 15,
    "start_time": "2021-09-01T18:32:39.525Z"
   },
   {
    "duration": 3,
    "start_time": "2021-09-01T18:32:40.480Z"
   },
   {
    "duration": 18,
    "start_time": "2021-09-01T18:32:40.931Z"
   },
   {
    "duration": 3,
    "start_time": "2021-09-01T18:32:41.853Z"
   },
   {
    "duration": 3,
    "start_time": "2021-09-01T18:32:44.296Z"
   },
   {
    "duration": 2,
    "start_time": "2021-09-01T18:33:47.962Z"
   },
   {
    "duration": 2,
    "start_time": "2021-09-01T18:33:48.734Z"
   },
   {
    "duration": 3,
    "start_time": "2021-09-01T18:36:17.960Z"
   },
   {
    "duration": 3,
    "start_time": "2021-09-01T18:36:19.190Z"
   },
   {
    "duration": 2,
    "start_time": "2021-09-01T18:37:58.549Z"
   },
   {
    "duration": 4,
    "start_time": "2021-09-01T18:38:00.035Z"
   },
   {
    "duration": 3,
    "start_time": "2021-09-01T18:38:09.034Z"
   },
   {
    "duration": 3,
    "start_time": "2021-09-01T18:38:10.213Z"
   },
   {
    "duration": 3,
    "start_time": "2021-09-01T18:40:30.595Z"
   },
   {
    "duration": 12,
    "start_time": "2021-09-01T18:40:33.258Z"
   },
   {
    "duration": 3,
    "start_time": "2021-09-01T18:40:59.959Z"
   },
   {
    "duration": 7800,
    "start_time": "2021-09-01T18:41:01.204Z"
   },
   {
    "duration": 3,
    "start_time": "2021-09-01T18:42:02.964Z"
   },
   {
    "duration": 2,
    "start_time": "2021-09-01T18:42:23.302Z"
   },
   {
    "duration": 10,
    "start_time": "2021-09-01T18:42:23.996Z"
   },
   {
    "duration": 3,
    "start_time": "2021-09-01T18:42:35.794Z"
   },
   {
    "duration": 10,
    "start_time": "2021-09-01T18:42:37.999Z"
   },
   {
    "duration": 3,
    "start_time": "2021-09-01T18:44:12.165Z"
   },
   {
    "duration": 389,
    "start_time": "2021-09-01T18:44:33.870Z"
   },
   {
    "duration": 3,
    "start_time": "2021-09-01T18:44:49.616Z"
   },
   {
    "duration": 7587,
    "start_time": "2021-09-01T18:45:31.856Z"
   },
   {
    "duration": 8154,
    "start_time": "2021-09-01T18:45:46.990Z"
   },
   {
    "duration": 7669,
    "start_time": "2021-09-01T18:46:03.164Z"
   },
   {
    "duration": 4,
    "start_time": "2021-09-01T18:46:17.230Z"
   },
   {
    "duration": 143,
    "start_time": "2021-09-01T18:46:54.342Z"
   },
   {
    "duration": 7548,
    "start_time": "2021-09-01T18:51:02.498Z"
   },
   {
    "duration": 749,
    "start_time": "2021-09-01T18:51:17.710Z"
   },
   {
    "duration": 15,
    "start_time": "2021-09-01T18:51:25.732Z"
   },
   {
    "duration": 21,
    "start_time": "2021-09-01T18:51:33.382Z"
   },
   {
    "duration": 382,
    "start_time": "2021-09-01T18:51:41.367Z"
   },
   {
    "duration": 55,
    "start_time": "2021-09-01T18:51:41.751Z"
   },
   {
    "duration": 254,
    "start_time": "2021-09-01T18:51:43.321Z"
   },
   {
    "duration": 75,
    "start_time": "2021-09-01T18:51:43.857Z"
   },
   {
    "duration": 101,
    "start_time": "2021-09-01T18:51:44.414Z"
   },
   {
    "duration": 70,
    "start_time": "2021-09-01T18:51:44.570Z"
   },
   {
    "duration": 31,
    "start_time": "2021-09-01T18:51:45.513Z"
   },
   {
    "duration": 16,
    "start_time": "2021-09-01T18:51:45.832Z"
   },
   {
    "duration": 4,
    "start_time": "2021-09-01T18:51:46.002Z"
   },
   {
    "duration": 18,
    "start_time": "2021-09-01T18:51:46.729Z"
   },
   {
    "duration": 725,
    "start_time": "2021-09-01T18:51:46.849Z"
   },
   {
    "duration": 18,
    "start_time": "2021-09-01T18:51:47.576Z"
   },
   {
    "duration": 458,
    "start_time": "2021-09-01T18:52:21.076Z"
   },
   {
    "duration": 14,
    "start_time": "2021-09-01T18:52:21.535Z"
   },
   {
    "duration": 664,
    "start_time": "2021-09-01T18:53:01.408Z"
   },
   {
    "duration": 14,
    "start_time": "2021-09-01T18:53:03.826Z"
   },
   {
    "duration": 9,
    "start_time": "2021-09-01T18:58:34.560Z"
   },
   {
    "duration": 7,
    "start_time": "2021-09-01T18:58:38.814Z"
   },
   {
    "duration": 10,
    "start_time": "2021-09-01T19:03:01.902Z"
   },
   {
    "duration": 12,
    "start_time": "2021-09-01T19:03:05.462Z"
   },
   {
    "duration": 259,
    "start_time": "2021-09-01T19:04:13.286Z"
   },
   {
    "duration": 14,
    "start_time": "2021-09-01T19:04:20.692Z"
   },
   {
    "duration": 6,
    "start_time": "2021-09-01T19:05:55.349Z"
   },
   {
    "duration": 13,
    "start_time": "2021-09-01T19:06:43.513Z"
   },
   {
    "duration": 645,
    "start_time": "2021-09-01T19:06:59.802Z"
   },
   {
    "duration": 14,
    "start_time": "2021-09-01T19:07:05.949Z"
   },
   {
    "duration": 380,
    "start_time": "2021-09-01T19:07:18.787Z"
   },
   {
    "duration": 483,
    "start_time": "2021-09-01T19:08:15.194Z"
   },
   {
    "duration": 385,
    "start_time": "2021-09-01T19:08:33.581Z"
   },
   {
    "duration": 4,
    "start_time": "2021-09-01T19:08:34.414Z"
   },
   {
    "duration": 9,
    "start_time": "2021-09-01T19:08:43.202Z"
   },
   {
    "duration": 10,
    "start_time": "2021-09-01T19:08:45.347Z"
   },
   {
    "duration": 7,
    "start_time": "2021-09-01T19:08:46.012Z"
   },
   {
    "duration": 715,
    "start_time": "2021-09-01T19:08:52.290Z"
   },
   {
    "duration": 1547,
    "start_time": "2021-09-01T19:09:23.925Z"
   },
   {
    "duration": 7910,
    "start_time": "2021-09-01T19:10:02.289Z"
   },
   {
    "duration": 7430,
    "start_time": "2021-09-01T19:10:19.554Z"
   },
   {
    "duration": 1515,
    "start_time": "2021-09-01T19:10:44.175Z"
   },
   {
    "duration": 334,
    "start_time": "2021-09-01T19:14:10.214Z"
   },
   {
    "duration": 1513,
    "start_time": "2021-09-01T19:14:30.286Z"
   },
   {
    "duration": 12,
    "start_time": "2021-09-01T19:14:59.454Z"
   },
   {
    "duration": 596,
    "start_time": "2021-09-01T19:15:11.448Z"
   },
   {
    "duration": 304,
    "start_time": "2021-09-01T19:16:51.689Z"
   },
   {
    "duration": 12,
    "start_time": "2021-09-01T19:17:02.391Z"
   },
   {
    "duration": 100,
    "start_time": "2021-09-01T19:17:28.754Z"
   },
   {
    "duration": 464,
    "start_time": "2021-09-01T19:28:05.057Z"
   },
   {
    "duration": 3,
    "start_time": "2021-09-01T19:29:34.007Z"
   },
   {
    "duration": 5,
    "start_time": "2021-09-01T19:29:39.170Z"
   },
   {
    "duration": 3,
    "start_time": "2021-09-01T19:30:03.622Z"
   },
   {
    "duration": 325,
    "start_time": "2021-09-01T19:30:04.291Z"
   },
   {
    "duration": 298,
    "start_time": "2021-09-01T19:33:23.531Z"
   },
   {
    "duration": 3,
    "start_time": "2021-09-01T19:33:36.237Z"
   },
   {
    "duration": 340,
    "start_time": "2021-09-01T19:35:08.193Z"
   },
   {
    "duration": 304,
    "start_time": "2021-09-01T19:36:59.059Z"
   },
   {
    "duration": 313,
    "start_time": "2021-09-01T19:37:05.531Z"
   },
   {
    "duration": 4,
    "start_time": "2021-09-01T19:37:12.648Z"
   },
   {
    "duration": 5,
    "start_time": "2021-09-01T19:37:49.949Z"
   },
   {
    "duration": 528,
    "start_time": "2021-09-01T19:38:21.369Z"
   },
   {
    "duration": 530,
    "start_time": "2021-09-01T19:38:37.921Z"
   },
   {
    "duration": 12,
    "start_time": "2021-09-01T19:40:16.854Z"
   },
   {
    "duration": 12,
    "start_time": "2021-09-01T19:40:27.446Z"
   },
   {
    "duration": 306,
    "start_time": "2021-09-01T19:40:30.211Z"
   },
   {
    "duration": 95,
    "start_time": "2021-09-01T19:46:03.449Z"
   },
   {
    "duration": 303,
    "start_time": "2021-09-01T19:46:14.332Z"
   },
   {
    "duration": 309,
    "start_time": "2021-09-01T19:46:22.943Z"
   },
   {
    "duration": 5813,
    "start_time": "2021-09-01T19:48:35.166Z"
   },
   {
    "duration": -904,
    "start_time": "2021-09-01T19:49:24.911Z"
   },
   {
    "duration": 7404,
    "start_time": "2021-09-01T19:49:37.686Z"
   },
   {
    "duration": 15,
    "start_time": "2021-09-01T19:50:41.197Z"
   },
   {
    "duration": 5,
    "start_time": "2021-09-01T19:55:50.962Z"
   },
   {
    "duration": 5,
    "start_time": "2021-09-01T19:56:53.056Z"
   },
   {
    "duration": 5,
    "start_time": "2021-09-01T19:56:59.178Z"
   },
   {
    "duration": 7,
    "start_time": "2021-09-01T19:57:34.224Z"
   },
   {
    "duration": 504,
    "start_time": "2021-09-01T19:58:28.685Z"
   },
   {
    "duration": 17,
    "start_time": "2021-09-01T19:58:48.599Z"
   },
   {
    "duration": 6,
    "start_time": "2021-09-01T19:59:18.219Z"
   },
   {
    "duration": 6,
    "start_time": "2021-09-01T19:59:18.569Z"
   },
   {
    "duration": 306,
    "start_time": "2021-09-01T20:03:04.805Z"
   },
   {
    "duration": 21,
    "start_time": "2021-09-01T20:03:05.557Z"
   },
   {
    "duration": 395,
    "start_time": "2021-09-01T20:03:14.181Z"
   },
   {
    "duration": 59,
    "start_time": "2021-09-01T20:03:14.577Z"
   },
   {
    "duration": 248,
    "start_time": "2021-09-01T20:03:16.907Z"
   },
   {
    "duration": 78,
    "start_time": "2021-09-01T20:03:17.157Z"
   },
   {
    "duration": 105,
    "start_time": "2021-09-01T20:03:19.230Z"
   },
   {
    "duration": 67,
    "start_time": "2021-09-01T20:03:20.465Z"
   },
   {
    "duration": 28,
    "start_time": "2021-09-01T20:03:21.408Z"
   },
   {
    "duration": 14,
    "start_time": "2021-09-01T20:03:21.788Z"
   },
   {
    "duration": 3,
    "start_time": "2021-09-01T20:03:22.385Z"
   },
   {
    "duration": 19,
    "start_time": "2021-09-01T20:03:23.492Z"
   },
   {
    "duration": 648,
    "start_time": "2021-09-01T20:03:24.409Z"
   },
   {
    "duration": 15,
    "start_time": "2021-09-01T20:03:37.177Z"
   },
   {
    "duration": 9,
    "start_time": "2021-09-01T20:03:39.709Z"
   },
   {
    "duration": 7,
    "start_time": "2021-09-01T20:03:39.903Z"
   },
   {
    "duration": 1456,
    "start_time": "2021-09-01T20:03:40.030Z"
   },
   {
    "duration": 11,
    "start_time": "2021-09-01T20:03:41.488Z"
   },
   {
    "duration": 16,
    "start_time": "2021-09-01T20:03:41.501Z"
   },
   {
    "duration": 2,
    "start_time": "2021-09-01T20:03:42.680Z"
   },
   {
    "duration": 6,
    "start_time": "2021-09-01T20:03:42.819Z"
   },
   {
    "duration": 6,
    "start_time": "2021-09-01T20:03:43.052Z"
   },
   {
    "duration": 7,
    "start_time": "2021-09-01T20:04:15.927Z"
   },
   {
    "duration": 7,
    "start_time": "2021-09-01T20:04:33.642Z"
   },
   {
    "duration": 96,
    "start_time": "2021-09-01T20:06:04.226Z"
   },
   {
    "duration": 1359,
    "start_time": "2021-09-02T07:45:51.037Z"
   },
   {
    "duration": 91,
    "start_time": "2021-09-02T07:45:52.399Z"
   },
   {
    "duration": 397,
    "start_time": "2021-09-02T07:45:52.492Z"
   },
   {
    "duration": 133,
    "start_time": "2021-09-02T07:45:52.892Z"
   },
   {
    "duration": 166,
    "start_time": "2021-09-02T07:45:53.027Z"
   },
   {
    "duration": 111,
    "start_time": "2021-09-02T07:45:53.195Z"
   },
   {
    "duration": 57,
    "start_time": "2021-09-02T07:45:53.308Z"
   },
   {
    "duration": 21,
    "start_time": "2021-09-02T07:45:53.368Z"
   },
   {
    "duration": 5,
    "start_time": "2021-09-02T07:45:53.392Z"
   },
   {
    "duration": 31,
    "start_time": "2021-09-02T07:45:53.399Z"
   },
   {
    "duration": 1254,
    "start_time": "2021-09-02T07:45:53.462Z"
   },
   {
    "duration": 24,
    "start_time": "2021-09-02T07:45:54.718Z"
   },
   {
    "duration": 16,
    "start_time": "2021-09-02T07:45:54.762Z"
   },
   {
    "duration": 15,
    "start_time": "2021-09-02T07:45:54.781Z"
   },
   {
    "duration": 2669,
    "start_time": "2021-09-02T07:45:54.799Z"
   },
   {
    "duration": 45,
    "start_time": "2021-09-02T07:45:57.470Z"
   },
   {
    "duration": 18,
    "start_time": "2021-09-02T07:45:57.518Z"
   },
   {
    "duration": 460,
    "start_time": "2021-09-02T07:45:57.539Z"
   },
   {
    "duration": 9,
    "start_time": "2021-09-02T07:45:58.002Z"
   },
   {
    "duration": 20,
    "start_time": "2021-09-02T07:45:58.013Z"
   },
   {
    "duration": 18,
    "start_time": "2021-09-02T07:45:58.035Z"
   },
   {
    "duration": 8,
    "start_time": "2021-09-02T07:45:58.061Z"
   },
   {
    "duration": 12,
    "start_time": "2021-09-02T07:56:56.984Z"
   },
   {
    "duration": 23,
    "start_time": "2021-09-02T07:57:03.416Z"
   },
   {
    "duration": 18,
    "start_time": "2021-09-02T07:57:13.606Z"
   },
   {
    "duration": 23,
    "start_time": "2021-09-02T07:57:19.871Z"
   },
   {
    "duration": 5827,
    "start_time": "2021-09-02T08:03:21.894Z"
   },
   {
    "duration": 1165,
    "start_time": "2021-09-02T18:59:36.895Z"
   },
   {
    "duration": 141,
    "start_time": "2021-09-02T18:59:51.087Z"
   },
   {
    "duration": 341,
    "start_time": "2021-09-02T19:00:28.922Z"
   },
   {
    "duration": 313,
    "start_time": "2021-09-02T19:08:29.448Z"
   },
   {
    "duration": 102,
    "start_time": "2021-09-02T19:08:31.377Z"
   },
   {
    "duration": 115,
    "start_time": "2021-09-02T19:08:44.735Z"
   },
   {
    "duration": 80,
    "start_time": "2021-09-02T19:09:03.013Z"
   },
   {
    "duration": 30,
    "start_time": "2021-09-02T19:09:04.893Z"
   },
   {
    "duration": 14,
    "start_time": "2021-09-02T19:09:11.123Z"
   },
   {
    "duration": 4,
    "start_time": "2021-09-02T19:09:12.278Z"
   },
   {
    "duration": 19,
    "start_time": "2021-09-02T19:09:12.994Z"
   },
   {
    "duration": 655,
    "start_time": "2021-09-02T19:09:13.659Z"
   },
   {
    "duration": 554,
    "start_time": "2021-09-02T19:09:55.294Z"
   },
   {
    "duration": 145,
    "start_time": "2021-09-02T19:10:43.973Z"
   },
   {
    "duration": 14,
    "start_time": "2021-09-02T19:10:59.444Z"
   },
   {
    "duration": 10,
    "start_time": "2021-09-02T19:11:04.960Z"
   },
   {
    "duration": 8,
    "start_time": "2021-09-02T19:11:06.001Z"
   },
   {
    "duration": 1668,
    "start_time": "2021-09-02T19:11:06.912Z"
   },
   {
    "duration": 2218,
    "start_time": "2021-09-02T19:11:25.930Z"
   },
   {
    "duration": 2155,
    "start_time": "2021-09-02T19:12:01.194Z"
   },
   {
    "duration": 1462,
    "start_time": "2021-09-02T19:12:32.551Z"
   },
   {
    "duration": 5263,
    "start_time": "2021-09-02T21:20:10.723Z"
   },
   {
    "duration": 217,
    "start_time": "2021-09-02T21:20:15.989Z"
   },
   {
    "duration": 475,
    "start_time": "2021-09-02T21:20:16.208Z"
   },
   {
    "duration": 166,
    "start_time": "2021-09-02T21:20:16.686Z"
   },
   {
    "duration": 176,
    "start_time": "2021-09-02T21:20:16.855Z"
   },
   {
    "duration": 105,
    "start_time": "2021-09-02T21:20:17.033Z"
   },
   {
    "duration": 44,
    "start_time": "2021-09-02T21:20:17.140Z"
   },
   {
    "duration": 41,
    "start_time": "2021-09-02T21:20:17.187Z"
   },
   {
    "duration": 5,
    "start_time": "2021-09-02T21:20:17.231Z"
   },
   {
    "duration": 34,
    "start_time": "2021-09-02T21:20:17.238Z"
   },
   {
    "duration": 1271,
    "start_time": "2021-09-02T21:20:17.274Z"
   },
   {
    "duration": 26,
    "start_time": "2021-09-02T21:20:18.547Z"
   },
   {
    "duration": 47,
    "start_time": "2021-09-02T21:20:18.577Z"
   },
   {
    "duration": 12,
    "start_time": "2021-09-02T21:20:18.627Z"
   },
   {
    "duration": 2722,
    "start_time": "2021-09-02T21:20:18.641Z"
   },
   {
    "duration": 4,
    "start_time": "2021-09-02T21:20:21.365Z"
   },
   {
    "duration": 487,
    "start_time": "2021-09-02T21:20:49.525Z"
   },
   {
    "duration": 595,
    "start_time": "2021-09-02T21:20:55.537Z"
   },
   {
    "duration": 432,
    "start_time": "2021-09-02T21:21:20.478Z"
   },
   {
    "duration": 17,
    "start_time": "2021-09-02T21:25:15.874Z"
   },
   {
    "duration": 806,
    "start_time": "2021-09-02T21:25:17.424Z"
   },
   {
    "duration": 21,
    "start_time": "2021-09-02T21:28:37.378Z"
   },
   {
    "duration": 440,
    "start_time": "2021-09-02T21:29:05.024Z"
   },
   {
    "duration": 15,
    "start_time": "2021-09-02T21:29:05.467Z"
   },
   {
    "duration": 8,
    "start_time": "2021-09-02T21:29:05.929Z"
   },
   {
    "duration": 10,
    "start_time": "2021-09-02T21:29:20.956Z"
   },
   {
    "duration": 8,
    "start_time": "2021-09-02T21:29:21.302Z"
   },
   {
    "duration": 1016,
    "start_time": "2021-09-03T12:58:31.233Z"
   },
   {
    "duration": 142,
    "start_time": "2021-09-03T12:58:32.250Z"
   },
   {
    "duration": 278,
    "start_time": "2021-09-03T12:58:32.394Z"
   },
   {
    "duration": 95,
    "start_time": "2021-09-03T12:58:32.674Z"
   },
   {
    "duration": 118,
    "start_time": "2021-09-03T12:58:32.771Z"
   },
   {
    "duration": 69,
    "start_time": "2021-09-03T12:58:32.891Z"
   },
   {
    "duration": 28,
    "start_time": "2021-09-03T12:58:32.961Z"
   },
   {
    "duration": 13,
    "start_time": "2021-09-03T12:58:32.992Z"
   },
   {
    "duration": 4,
    "start_time": "2021-09-03T12:58:33.007Z"
   },
   {
    "duration": 42,
    "start_time": "2021-09-03T12:58:33.013Z"
   },
   {
    "duration": 566,
    "start_time": "2021-09-03T12:58:33.056Z"
   },
   {
    "duration": 18,
    "start_time": "2021-09-03T12:58:33.624Z"
   },
   {
    "duration": 10,
    "start_time": "2021-09-03T12:58:33.644Z"
   },
   {
    "duration": 7,
    "start_time": "2021-09-03T12:58:33.656Z"
   },
   {
    "duration": 1524,
    "start_time": "2021-09-03T12:58:33.664Z"
   },
   {
    "duration": 326,
    "start_time": "2021-09-03T12:58:35.189Z"
   },
   {
    "duration": -274,
    "start_time": "2021-09-03T12:58:35.791Z"
   },
   {
    "duration": -284,
    "start_time": "2021-09-03T12:58:35.802Z"
   },
   {
    "duration": -293,
    "start_time": "2021-09-03T12:58:35.812Z"
   },
   {
    "duration": -306,
    "start_time": "2021-09-03T12:58:35.826Z"
   },
   {
    "duration": -316,
    "start_time": "2021-09-03T12:58:35.837Z"
   },
   {
    "duration": -324,
    "start_time": "2021-09-03T12:58:35.846Z"
   },
   {
    "duration": -331,
    "start_time": "2021-09-03T12:58:35.854Z"
   },
   {
    "duration": -338,
    "start_time": "2021-09-03T12:58:35.862Z"
   },
   {
    "duration": 6746,
    "start_time": "2021-09-03T13:09:29.473Z"
   },
   {
    "duration": 8,
    "start_time": "2021-09-03T13:09:50.233Z"
   },
   {
    "duration": 7086,
    "start_time": "2021-09-03T13:10:03.281Z"
   },
   {
    "duration": 14,
    "start_time": "2021-09-03T13:10:13.584Z"
   },
   {
    "duration": 185,
    "start_time": "2021-09-03T13:10:19.835Z"
   },
   {
    "duration": 182,
    "start_time": "2021-09-03T13:10:39.002Z"
   },
   {
    "duration": 283,
    "start_time": "2021-09-03T13:10:39.873Z"
   },
   {
    "duration": 1324,
    "start_time": "2021-09-03T13:38:25.239Z"
   },
   {
    "duration": 219,
    "start_time": "2021-09-03T13:38:26.566Z"
   },
   {
    "duration": 430,
    "start_time": "2021-09-03T13:38:27.077Z"
   },
   {
    "duration": 143,
    "start_time": "2021-09-03T13:38:27.510Z"
   },
   {
    "duration": 176,
    "start_time": "2021-09-03T13:38:27.890Z"
   },
   {
    "duration": 107,
    "start_time": "2021-09-03T13:38:28.221Z"
   },
   {
    "duration": 48,
    "start_time": "2021-09-03T13:38:28.537Z"
   },
   {
    "duration": 23,
    "start_time": "2021-09-03T13:38:29.164Z"
   },
   {
    "duration": 6,
    "start_time": "2021-09-03T13:38:29.331Z"
   },
   {
    "duration": 31,
    "start_time": "2021-09-03T13:38:29.506Z"
   },
   {
    "duration": 1313,
    "start_time": "2021-09-03T13:38:29.655Z"
   },
   {
    "duration": 28,
    "start_time": "2021-09-03T13:38:30.971Z"
   },
   {
    "duration": 14,
    "start_time": "2021-09-03T13:38:31.602Z"
   },
   {
    "duration": 10,
    "start_time": "2021-09-03T13:38:31.985Z"
   },
   {
    "duration": 2639,
    "start_time": "2021-09-03T13:38:32.327Z"
   },
   {
    "duration": 23,
    "start_time": "2021-09-03T13:38:35.162Z"
   },
   {
    "duration": 374,
    "start_time": "2021-09-03T13:38:35.893Z"
   },
   {
    "duration": 291,
    "start_time": "2021-09-03T13:38:44.147Z"
   },
   {
    "duration": 320,
    "start_time": "2021-09-03T13:39:03.943Z"
   },
   {
    "duration": 329,
    "start_time": "2021-09-03T13:39:31.219Z"
   },
   {
    "duration": 343,
    "start_time": "2021-09-03T13:40:58.245Z"
   },
   {
    "duration": 317,
    "start_time": "2021-09-03T13:43:03.179Z"
   },
   {
    "duration": 731,
    "start_time": "2021-09-03T13:44:17.766Z"
   },
   {
    "duration": 879,
    "start_time": "2021-09-03T13:44:52.741Z"
   },
   {
    "duration": 367,
    "start_time": "2021-09-03T13:45:11.548Z"
   },
   {
    "duration": 424,
    "start_time": "2021-09-03T13:46:34.782Z"
   },
   {
    "duration": 420,
    "start_time": "2021-09-03T13:46:44.393Z"
   },
   {
    "duration": 773,
    "start_time": "2021-09-03T13:47:04.984Z"
   },
   {
    "duration": 1004,
    "start_time": "2021-09-03T13:47:50.208Z"
   },
   {
    "duration": 614,
    "start_time": "2021-09-03T13:47:54.151Z"
   },
   {
    "duration": 799,
    "start_time": "2021-09-03T13:48:10.401Z"
   },
   {
    "duration": 317,
    "start_time": "2021-09-03T13:48:18.214Z"
   },
   {
    "duration": 624,
    "start_time": "2021-09-03T13:48:26.875Z"
   },
   {
    "duration": 2331,
    "start_time": "2021-09-03T13:49:29.025Z"
   },
   {
    "duration": 2296,
    "start_time": "2021-09-03T13:49:39.028Z"
   },
   {
    "duration": 2234,
    "start_time": "2021-09-03T13:49:48.464Z"
   },
   {
    "duration": 824,
    "start_time": "2021-09-03T13:49:57.585Z"
   },
   {
    "duration": 860,
    "start_time": "2021-09-03T13:50:08.755Z"
   },
   {
    "duration": 674,
    "start_time": "2021-09-03T13:50:23.744Z"
   },
   {
    "duration": 658,
    "start_time": "2021-09-03T13:50:24.421Z"
   },
   {
    "duration": 1312,
    "start_time": "2021-09-03T21:33:35.317Z"
   },
   {
    "duration": 212,
    "start_time": "2021-09-03T21:33:36.632Z"
   },
   {
    "duration": 427,
    "start_time": "2021-09-03T21:33:36.848Z"
   },
   {
    "duration": 143,
    "start_time": "2021-09-03T21:33:37.278Z"
   },
   {
    "duration": 166,
    "start_time": "2021-09-03T21:33:37.423Z"
   },
   {
    "duration": 123,
    "start_time": "2021-09-03T21:33:37.592Z"
   },
   {
    "duration": 68,
    "start_time": "2021-09-03T21:33:37.718Z"
   },
   {
    "duration": 48,
    "start_time": "2021-09-03T21:33:37.791Z"
   },
   {
    "duration": 15,
    "start_time": "2021-09-03T21:33:37.843Z"
   },
   {
    "duration": 57,
    "start_time": "2021-09-03T21:33:37.869Z"
   },
   {
    "duration": 1200,
    "start_time": "2021-09-03T21:33:37.929Z"
   },
   {
    "duration": 22,
    "start_time": "2021-09-03T21:33:39.131Z"
   },
   {
    "duration": 18,
    "start_time": "2021-09-03T21:33:39.155Z"
   },
   {
    "duration": 23,
    "start_time": "2021-09-03T21:33:39.175Z"
   },
   {
    "duration": 2616,
    "start_time": "2021-09-03T21:33:39.200Z"
   },
   {
    "duration": 24,
    "start_time": "2021-09-03T21:33:41.819Z"
   },
   {
    "duration": 543,
    "start_time": "2021-09-03T21:33:41.846Z"
   },
   {
    "duration": 569,
    "start_time": "2021-09-03T21:33:42.392Z"
   },
   {
    "duration": 528,
    "start_time": "2021-09-03T21:33:42.964Z"
   },
   {
    "duration": 556,
    "start_time": "2021-09-03T21:33:43.495Z"
   },
   {
    "duration": 17,
    "start_time": "2021-09-03T21:33:44.054Z"
   },
   {
    "duration": 1321,
    "start_time": "2021-09-03T21:33:44.073Z"
   },
   {
    "duration": 32,
    "start_time": "2021-09-03T21:33:45.399Z"
   },
   {
    "duration": 495,
    "start_time": "2021-09-03T21:33:45.434Z"
   },
   {
    "duration": 8,
    "start_time": "2021-09-03T21:33:45.932Z"
   },
   {
    "duration": 12,
    "start_time": "2021-09-03T21:33:45.942Z"
   },
   {
    "duration": 8,
    "start_time": "2021-09-03T21:33:45.956Z"
   },
   {
    "duration": 7,
    "start_time": "2021-09-03T21:33:45.967Z"
   },
   {
    "duration": 546,
    "start_time": "2021-09-03T21:41:59.883Z"
   },
   {
    "duration": 311,
    "start_time": "2021-09-03T21:42:09.016Z"
   },
   {
    "duration": 2085,
    "start_time": "2021-09-03T21:42:16.400Z"
   },
   {
    "duration": 2164,
    "start_time": "2021-09-03T21:42:27.420Z"
   },
   {
    "duration": 1754,
    "start_time": "2021-09-03T21:42:47.303Z"
   },
   {
    "duration": 704,
    "start_time": "2021-09-03T21:43:18.398Z"
   },
   {
    "duration": 1645,
    "start_time": "2021-09-03T21:43:25.304Z"
   },
   {
    "duration": 2007,
    "start_time": "2021-09-03T21:43:39.464Z"
   },
   {
    "duration": 355,
    "start_time": "2021-09-09T16:58:08.509Z"
   }
  ],
  "kernelspec": {
   "display_name": "Python 3",
   "language": "python",
   "name": "python3"
  },
  "language_info": {
   "codemirror_mode": {
    "name": "ipython",
    "version": 3
   },
   "file_extension": ".py",
   "mimetype": "text/x-python",
   "name": "python",
   "nbconvert_exporter": "python",
   "pygments_lexer": "ipython3",
   "version": "3.8.3"
  },
  "toc": {
   "base_numbering": 1,
   "nav_menu": {
    "height": "120px",
    "width": "294px"
   },
   "number_sections": true,
   "sideBar": true,
   "skip_h1_title": true,
   "title_cell": "Table of Contents",
   "title_sidebar": "Contents",
   "toc_cell": false,
   "toc_position": {},
   "toc_section_display": true,
   "toc_window_display": false
  }
 },
 "nbformat": 4,
 "nbformat_minor": 2
}
